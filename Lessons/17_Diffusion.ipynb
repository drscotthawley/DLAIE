{
 "cells": [
  {
   "cell_type": "markdown",
   "id": "f43a6642",
   "metadata": {
    "id": "f43a6642"
   },
   "source": [
    "[![open in colab](https://colab.research.google.com/assets/colab-badge.svg)](https://colab.research.google.com/github/drscotthawley/DLAIE/blob/main/Lessons/17_Diffusion.ipynb)"
   ]
  },
  {
   "cell_type": "markdown",
   "id": "65f8f4a9",
   "metadata": {
    "id": "65f8f4a9"
   },
   "source": [
    "# Diffusion Models\n",
    "\n",
    "*Diffusion Models are Fun, and Based in Physics!*\n",
    "\n",
    "--Scott H. Hawley\n",
    "\n",
    "*Feb 4, 2004: This is a Work In Progress! \n",
    "\n",
    "---\n",
    "\n",
    "Most tutorials on diffusion models go like this: \"Here's the basic idea. Now here's a wall of math. Finally let's code it.\" \n",
    "\n",
    "We will try to skip as much as we can from that wall of math.  (Hint to other instructors: Nobody's gonna read your wall of math!) \n",
    "\n",
    "## Outline: \n",
    "1. Setting Up\n",
    "2. The Idea\n",
    "3. The U-Net\n",
    "4. The DDPM Model\n",
    "5. Train the DDPM Model\n",
    "6. Have Fun with Inference"
   ]
  },
  {
   "cell_type": "markdown",
   "id": "31dgwJ6lZGoF",
   "metadata": {
    "id": "31dgwJ6lZGoF"
   },
   "source": [
    "# 1. Setup"
   ]
  },
  {
   "cell_type": "markdown",
   "id": "d2b40191-100d-404f-8756-b8deba6327c4",
   "metadata": {},
   "source": [
    "## Setup Imports"
   ]
  },
  {
   "cell_type": "code",
   "execution_count": 1,
   "id": "2d719f98",
   "metadata": {
    "id": "2d719f98"
   },
   "outputs": [],
   "source": [
    "# we'll use pytorch lightning as an alternative to raw pytorch\n",
    "!pip install -Uqq lightning wandb einops"
   ]
  },
  {
   "cell_type": "code",
   "execution_count": 2,
   "id": "d6932b44",
   "metadata": {
    "id": "d6932b44"
   },
   "outputs": [],
   "source": [
    "import torch\n",
    "from torch import nn, optim, utils\n",
    "from torch.utils.data import DataLoader\n",
    "from torchvision.datasets import MNIST\n",
    "from torchvision.transforms import ToTensor\n",
    "import torchvision\n",
    "import matplotlib.pyplot as plt\n",
    "import torch.nn.functional as F\n",
    "import lightning as L\n",
    "from lightning.pytorch.loggers import WandbLogger\n",
    "import wandb\n",
    "import numpy as np\n",
    "from einops import rearrange\n",
    "from tqdm.notebook import trange, tqdm\n",
    "import os"
   ]
  },
  {
   "cell_type": "code",
   "execution_count": 3,
   "id": "a610a39e-b692-48e3-9254-51e786683950",
   "metadata": {},
   "outputs": [],
   "source": [
    "os.environ['CUDA_LAUNCH_BLOCKING']=\"1\""
   ]
  },
  {
   "cell_type": "code",
   "execution_count": 4,
   "id": "f77223b0-3348-40c3-ab13-c2a052b65b3d",
   "metadata": {},
   "outputs": [
    {
     "name": "stderr",
     "output_type": "stream",
     "text": [
      "\u001b[34m\u001b[1mwandb\u001b[0m: Currently logged in as: \u001b[33mdrscotthawley\u001b[0m (\u001b[33mstrange-quarks\u001b[0m). Use \u001b[1m`wandb login --relogin`\u001b[0m to force relogin\n"
     ]
    }
   ],
   "source": [
    "use_wandb=True\n",
    "if use_wandb: \n",
    "    !pkill -f wandb\n",
    "    wandb.login()"
   ]
  },
  {
   "cell_type": "markdown",
   "id": "a54bb357",
   "metadata": {
    "id": "a54bb357"
   },
   "source": [
    "## Setup Dataset"
   ]
  },
  {
   "cell_type": "markdown",
   "id": "YF1FPenPZLP4",
   "metadata": {
    "id": "YF1FPenPZLP4"
   },
   "source": [
    "MNIST is small and easy and you can do it on a CPU. Let's keep everything super-simple at first: black & white images."
   ]
  },
  {
   "cell_type": "code",
   "execution_count": 5,
   "id": "52508200",
   "metadata": {
    "colab": {
     "base_uri": "https://localhost:8080/"
    },
    "id": "52508200",
    "outputId": "1616d43f-1508-44b4-8b45-067dcc7231e7"
   },
   "outputs": [
    {
     "name": "stdout",
     "output_type": "stream",
     "text": [
      "Data set lengths: train: 60000, test: 10000\n"
     ]
    }
   ],
   "source": [
    "train_ds = MNIST(root='./data', train=True,  download=True, transform=ToTensor())\n",
    "test_ds  = MNIST(root='./data', train=False, download=True, transform=ToTensor())\n",
    "val_ds = test_ds  #alias val & test\n",
    "print(f\"Data set lengths: train: {len(train_ds)}, test: {len(test_ds)}\")"
   ]
  },
  {
   "cell_type": "markdown",
   "id": "7e96b826",
   "metadata": {
    "id": "7e96b826"
   },
   "source": [
    "Inspect it a bit.."
   ]
  },
  {
   "cell_type": "code",
   "execution_count": 6,
   "id": "7eea425d",
   "metadata": {
    "colab": {
     "base_uri": "https://localhost:8080/",
     "height": 255
    },
    "id": "7eea425d",
    "outputId": "c5eb99b3-3bb6-4c04-8638-da505278db2c"
   },
   "outputs": [
    {
     "name": "stdout",
     "output_type": "stream",
     "text": [
      "y (target) = 5 \n",
      "x.shape = (28, 28), min(x) = 0.0, max(x) = 1.0\n"
     ]
    },
    {
     "data": {
      "image/png": "[encoded data removed]",
      "text/plain": [
       "<Figure size 300x200 with 2 Axes>"
      ]
     },
     "metadata": {},
     "output_type": "display_data"
    }
   ],
   "source": [
    "x, y = train_ds[0]   # pick an element\n",
    "print(f\"y (target) = {y} \")\n",
    "\n",
    "def show_xs(xs, show_stats=True):\n",
    "    \"A little utility we'll call again & again to show one or more images\"\n",
    "    if type(xs) is not list: xs = list(xs)\n",
    "    ncols = len(xs)\n",
    "    fig, axs = plt.subplots(figsize=(3*ncols,2), ncols=ncols, squeeze=False)\n",
    "    ax = axs.ravel()\n",
    "    for col, x in enumerate(xs):\n",
    "        if len(x.shape)>2: x = x[0] # remove any batch dimension\n",
    "        if show_stats:\n",
    "            if ncols > 1: print(f\"col {col}: \",end=\"\")\n",
    "            print(f\"x.shape = {tuple(x.shape)}, min(x) = {torch.min(x)}, max(x) = {torch.max(x)}\")\n",
    "        digit = ax[col].imshow(x.detach().cpu().numpy(), cmap='gray')\n",
    "        fig.colorbar(digit, ax=ax[col])\n",
    "    plt.show()\n",
    "\n",
    "show_xs([x])"
   ]
  },
  {
   "cell_type": "markdown",
   "id": "b434a698",
   "metadata": {
    "id": "b434a698"
   },
   "source": [
    "Define dataloaders"
   ]
  },
  {
   "cell_type": "code",
   "execution_count": 7,
   "id": "e336063c",
   "metadata": {
    "colab": {
     "base_uri": "https://localhost:8080/"
    },
    "id": "e336063c",
    "outputId": "d4c3a3ee-1a28-4af1-e897-818d35d6de67"
   },
   "outputs": [],
   "source": [
    "batch_size = 128\n",
    "train_dl = DataLoader(train_ds, batch_size=batch_size, num_workers=4, shuffle=True)\n",
    "test_dl = DataLoader(test_ds, batch_size=batch_size, num_workers=4, shuffle=False)\n",
    "val_dl = test_dl # alias val & test"
   ]
  },
  {
   "cell_type": "markdown",
   "id": "1665e99c-6cf4-4920-928c-d6c04457ee95",
   "metadata": {},
   "source": [
    "## Adding Noise "
   ]
  },
  {
   "cell_type": "code",
   "execution_count": 8,
   "id": "8a27080c-d3c7-442f-badc-a0a34933c8db",
   "metadata": {},
   "outputs": [
    {
     "name": "stdout",
     "output_type": "stream",
     "text": [
      "x.shape =  torch.Size([1, 28, 28])\n",
      "noise_level = 9.999999747378752e-05:\n"
     ]
    },
    {
     "data": {
      "image/png": "[encoded data removed]",
      "text/plain": [
       "<Figure size 300x200 with 2 Axes>"
      ]
     },
     "metadata": {},
     "output_type": "display_data"
    },
    {
     "name": "stdout",
     "output_type": "stream",
     "text": [
      "noise_level = 0.1111999973654747:\n"
     ]
    },
    {
     "data": {
      "image/png": "[encoded data removed]",
      "text/plain": [
       "<Figure size 300x200 with 2 Axes>"
      ]
     },
     "metadata": {},
     "output_type": "display_data"
    },
    {
     "name": "stdout",
     "output_type": "stream",
     "text": [
      "noise_level = 0.2222999930381775:\n"
     ]
    },
    {
     "data": {
      "image/png": "[encoded data removed]",
      "text/plain": [
       "<Figure size 300x200 with 2 Axes>"
      ]
     },
     "metadata": {},
     "output_type": "display_data"
    },
    {
     "name": "stdout",
     "output_type": "stream",
     "text": [
      "noise_level = 0.3333999812602997:\n"
     ]
    },
    {
     "data": {
      "image/png": "[encoded data removed]",
      "text/plain": [
       "<Figure size 300x200 with 2 Axes>"
      ]
     },
     "metadata": {},
     "output_type": "display_data"
    },
    {
     "name": "stdout",
     "output_type": "stream",
     "text": [
      "noise_level = 0.4444999694824219:\n"
     ]
    },
    {
     "data": {
      "image/png": "[encoded data removed]",
      "text/plain": [
       "<Figure size 300x200 with 2 Axes>"
      ]
     },
     "metadata": {},
     "output_type": "display_data"
    },
    {
     "name": "stdout",
     "output_type": "stream",
     "text": [
      "noise_level = 0.5556000471115112:\n"
     ]
    },
    {
     "data": {
      "image/png": "[encoded data removed]",
      "text/plain": [
       "<Figure size 300x200 with 2 Axes>"
      ]
     },
     "metadata": {},
     "output_type": "display_data"
    },
    {
     "name": "stdout",
     "output_type": "stream",
     "text": [
      "noise_level = 0.666700005531311:\n"
     ]
    },
    {
     "data": {
      "image/png": "[encoded data removed]",
      "text/plain": [
       "<Figure size 300x200 with 2 Axes>"
      ]
     },
     "metadata": {},
     "output_type": "display_data"
    },
    {
     "name": "stdout",
     "output_type": "stream",
     "text": [
      "noise_level = 0.7778000235557556:\n"
     ]
    },
    {
     "data": {
      "image/png": "[encoded data removed]",
      "text/plain": [
       "<Figure size 300x200 with 2 Axes>"
      ]
     },
     "metadata": {},
     "output_type": "display_data"
    },
    {
     "name": "stdout",
     "output_type": "stream",
     "text": [
      "noise_level = 0.8888999819755554:\n"
     ]
    },
    {
     "data": {
      "image/png": "[encoded data removed]",
      "text/plain": [
       "<Figure size 300x200 with 2 Axes>"
      ]
     },
     "metadata": {},
     "output_type": "display_data"
    },
    {
     "name": "stdout",
     "output_type": "stream",
     "text": [
      "noise_level = 1.0:\n"
     ]
    },
    {
     "data": {
      "image/png": "[encoded data removed]",
      "text/plain": [
       "<Figure size 300x200 with 2 Axes>"
      ]
     },
     "metadata": {},
     "output_type": "display_data"
    }
   ],
   "source": [
    "steps = 10\n",
    "eta = 1e-4  # tiny non-zero amount that helps a bit\n",
    "betas = torch.linspace(eta,1.0,steps)  # the \"noise schedule\": the variances of noises\n",
    "\n",
    "def add_noise(x,noise_level): \n",
    "    noise = noise_level * torch.randn_like(x)\n",
    "    return x + noise.to(x.device)\n",
    "\n",
    "print('x.shape = ',x.shape)\n",
    "for beta in betas: \n",
    "    print(f\"noise_level = {noise_level}:\")\n",
    "    show_xs(add_noise(x,noise_level), show_stats=False)"
   ]
  },
  {
   "cell_type": "markdown",
   "id": "a4bb3440-0652-41d7-8f01-d6ea3c60879d",
   "metadata": {},
   "source": [
    "So we will train the model to do that in reverse.\n"
   ]
  },
  {
   "cell_type": "markdown",
   "id": "f8b45272",
   "metadata": {
    "id": "f8b45272"
   },
   "source": [
    "# 2. DDPM \n",
    "\"Denoising Diffusion Probabilistic Model\" \n",
    "\n",
    "Often explanations of diffusion models immediately jump into the theory of probability distributions, with REALLY BIG equations and symbols like $p_{\\theta}(this|that)$ all over the place... it's easy to get lost in the math.  But the code is considerably more tractable for normal folks! We'll come back to the theory eventually, but for now let's just make it work!\n",
    "\n",
    "While Stable Diffusion and other models do their diffusion inside a latent space provided by an [AutoEncoder](16_VAE.ipynb), for starters we'll take advantage of the small size of MNIST and just diffuse on the full image itself. "
   ]
  },
  {
   "cell_type": "markdown",
   "id": "OIC1FXBuZOE-",
   "metadata": {
    "id": "OIC1FXBuZOE-"
   },
   "source": [
    "## 2.1 U-Net\n",
    "The basic architecture of a DDPM is a conditional [U-Net](11_Autoencoders_UNets_Skips_ResNets.ipynb). \n",
    "\n",
    "> Reminder: A U-Net is like an autoencoder but with skip connections spanning across the \"hourglass\" at all levels.\n",
    "\n",
    "We're going to set it up to be  like a \"denoising autoencoder\".  It removes a little bit of noise from the image at every step. The noise varies from step to step via a \"noise schedule\", and there are different noise schedules to choose from. But the all start with no noise on one end, all \"total noise\" on the other. This U-Net is conditioned via the noise schedule to try to remove the specified level of noise at each step.\n"
   ]
  },
  {
   "cell_type": "code",
   "execution_count": 10,
   "id": "5e4bd450",
   "metadata": {
    "id": "5e4bd450"
   },
   "outputs": [
    {
     "name": "stdout",
     "output_type": "stream",
     "text": [
      "LinearUNet(\n",
      "  (encoder_layers): ModuleList(\n",
      "    (0): Linear(in_features=784, out_features=256, bias=True)\n",
      "    (1): Linear(in_features=256, out_features=64, bias=True)\n",
      "    (2): Linear(in_features=64, out_features=3, bias=True)\n",
      "  )\n",
      "  (decoder_layers): ModuleList(\n",
      "    (0): Linear(in_features=3, out_features=64, bias=True)\n",
      "    (1): Linear(in_features=64, out_features=256, bias=True)\n",
      "    (2): Linear(in_features=256, out_features=784, bias=True)\n",
      "  )\n",
      "  (act): LeakyReLU(negative_slope=0.01)\n",
      "  (film_layers): ModuleList(\n",
      "    (0): FiLM(\n",
      "      (gamma_gen): Linear(in_features=1, out_features=256, bias=True)\n",
      "      (beta_gen): Linear(in_features=1, out_features=256, bias=True)\n",
      "    )\n",
      "    (1): FiLM(\n",
      "      (gamma_gen): Linear(in_features=1, out_features=64, bias=True)\n",
      "      (beta_gen): Linear(in_features=1, out_features=64, bias=True)\n",
      "    )\n",
      "  )\n",
      ")\n"
     ]
    }
   ],
   "source": [
    "\n",
    "# Here's one way to make a FiLM layer\n",
    "class FiLM(nn.Module):\n",
    "    def __init__(self, x_dim, cond_dim):\n",
    "        super().__init__()\n",
    "        self.gamma_gen = nn.Linear(cond_dim, x_dim)\n",
    "        self.beta_gen  = nn.Linear(cond_dim, x_dim)\n",
    "\n",
    "    def forward(self, x, cond):\n",
    "        gamma = self.gamma_gen(cond)\n",
    "        beta  = self.beta_gen(cond)\n",
    "        return x * gamma + beta\n",
    "        \n",
    "\n",
    "class LinearUNet(nn.Module):  # we could use convnets but for MNIST let's just get moving with Linear layers\n",
    "    def __init__(self, layer_ns = [28*28, 256, 64, 3], cond_dim=1):\n",
    "        super().__init__()\n",
    "        self.layer_ns = layer_ns\n",
    "\n",
    "        self.encoder_layers = nn.ModuleList([nn.Linear(layer_ns[i],layer_ns[i+1]) for i in range(len(layer_ns)-1)])\n",
    "        self.decoder_layers = nn.ModuleList([nn.Linear(layer_ns[i],layer_ns[i-1]) for i in range(len(layer_ns)-1,0,-1)])\n",
    "        self.act = nn.LeakyReLU() \n",
    "        self.cond_dim = cond_dim\n",
    "        self.film_layers = nn.ModuleList([FiLM(layer_ns[i+1], self.cond_dim) for i in range(len(layer_ns)-2)])\n",
    "        \n",
    "    def forward(self,x, cond): # cond will be starting & ending noise levels\n",
    "        xs = []\n",
    "        if cond is not None: cond = cond.to(x.device)\n",
    "        # encoder part\n",
    "        nel = len(self.encoder_layers)\n",
    "        for i, layer in enumerate(self.encoder_layers):\n",
    "            xs.append(x)  # save for skip connections\n",
    "            x = self.act( layer(x) )\n",
    "            if i < nel-1 and cond is not None: x = self.film_layers[i](x,cond)\n",
    "\n",
    "        # decoder part\n",
    "        for i, layer in enumerate(self.decoder_layers):\n",
    "            x = layer(x)  \n",
    "            j = len(self.layer_ns)-2-i\n",
    "            x = x + xs[j] # additive skip connection. real unet would concat but so it goes\n",
    "            if i < len(self.film_layers): \n",
    "                x = self.act(x)\n",
    "                if cond is not None: x = self.film_layers[j-1](x,cond)\n",
    "            #x = torch.sigmoid(x)  # sigmoid will help keep us bounded\n",
    "        return x \n",
    "            \n",
    "                \n",
    "\n",
    "unet = LinearUNet()\n",
    "print(unet)"
   ]
  },
  {
   "cell_type": "code",
   "execution_count": 11,
   "id": "8ae4dace",
   "metadata": {
    "colab": {
     "base_uri": "https://localhost:8080/",
     "height": 252
    },
    "id": "8ae4dace",
    "outputId": "80868980-8576-46f3-d19d-52e99d99b796"
   },
   "outputs": [
    {
     "name": "stdout",
     "output_type": "stream",
     "text": [
      "cond.shape =  torch.Size([1])\n",
      "col 0: x.shape = (28, 28), min(x) = 0.0, max(x) = 1.0\n",
      "col 1: x.shape = (28, 28), min(x) = -1.0466450452804565, max(x) = 1.9796371459960938\n"
     ]
    },
    {
     "data": {
      "image/png": "[encoded data removed]",
      "text/plain": [
       "<Figure size 600x200 with 4 Axes>"
      ]
     },
     "metadata": {},
     "output_type": "display_data"
    }
   ],
   "source": [
    "# test it, just to make sure we get no errors from mmult ops\n",
    "x = x.view(x.size(0), -1)\n",
    "cond = torch.zeros((1))\n",
    "print(\"cond.shape = \",cond.shape)\n",
    "x_hat = unet(x, cond)\n",
    "x_hat = x_hat.view(x.size(0), 28, -1)\n",
    "x = x.view(x.size(0), 28, -1)\n",
    "show_xs([x,x_hat])"
   ]
  },
  {
   "cell_type": "markdown",
   "id": "-0KtfaQsmW5E",
   "metadata": {
    "id": "-0KtfaQsmW5E"
   },
   "source": [
    "^^ That was with randomly initialized weights, so we expect some noise. Now what we'll do is set it to add a certain amount of noise. Starting with a linear noise schedule:"
   ]
  },
  {
   "cell_type": "markdown",
   "id": "555539de-7039-4cf9-9d66-105dbe9b310c",
   "metadata": {},
   "source": [
    "\n",
    "\n",
    "## 2.2 Noise Schedule Variables\n",
    "\n",
    "I said we'd try to avoid math, but there are several quantities that we'll need to define if we want any hope of getting decent results. We're going to interpolate between a pristine image $x_0$ and a total-noise image $N(0,1)$, but we're not going to interpolate the using 'power', we're going to interpolate the 'amplitude' (which scales as the square root of the power). \n",
    "\n",
    "- $\\beta_t$ is what you or I might call the 'power' of the noise at any time $t$.\n",
    "- $\\alpha_t = 1 - \\beta_t$ is ihe power of  the non-noise, i.e. the contribution from the image $x_0$.\n",
    "- $\\overline{\\alpha}_t$ is the cumulative product of all the $\\alpha_t$'s from 0 up to $t$. ...TODO: try to give them a feel for that\n",
    "- And then when we interpolate, since we're interpolating amplitude and not power, we need to use $\\sqrt{\\overline{\\alpha}_t}$ and $\\sqrt{1-\\overline{\\alpha}_t}$, to govern the relative weights of the pristine image ($x_0$) and the total noise ($N(0,1)$), respectively.  (When those get squared, then the iterpolation will work out correctly.) "
   ]
  },
  {
   "cell_type": "markdown",
   "id": "12c2487f-9f8d-44c5-88ff-c228ceb651f2",
   "metadata": {},
   "source": [
    "TODO: define these"
   ]
  },
  {
   "cell_type": "code",
   "execution_count": 47,
   "id": "35be7e29-20e9-46d8-a552-a12793d51e43",
   "metadata": {},
   "outputs": [
    {
     "data": {
      "image/png": "[encoded data removed]",
      "text/plain": [
       "<Figure size 500x400 with 1 Axes>"
      ]
     },
     "metadata": {},
     "output_type": "display_data"
    }
   ],
   "source": [
    "def plot_alphas_betas(steps=200):\n",
    "    beta_0, beta_T = 0.0001, 0.02\n",
    "    betas = torch.linspace(beta_0, beta_T, steps)\n",
    "    ts = torch.linspace(0, steps*1.0, steps)\n",
    "    alphas = 1.0 - betas\n",
    "    alpha_bars = torch.cumprod(alphas,0)# .flip(0),0).flip(0)\n",
    "    \n",
    "    fig, ax = plt.subplots(figsize=(5,4))\n",
    "    ax.plot(ts, betas, label=r'$\\beta_t$')\n",
    "    ax.plot(ts, alphas, label=r'$\\alpha_t$')\n",
    "    ax.plot(ts, alpha_bars, label=r'$\\overline{\\alpha}_t$')\n",
    "    ax.plot(ts, torch.sqrt(alpha_bars), label=r'$\\sqrt{\\overline{\\alpha}_t}$')\n",
    "    ax.plot(ts, torch.sqrt(1-alpha_bars), label=r'$\\sqrt{1-\\overline{\\alpha}_t}$')\n",
    "    ax.text(0,  beta_0, r'$\\beta_0 = $'+f'{beta_0}')\n",
    "    ax.text(ts[-1],  beta_T, r'$\\beta_T = $'+f'{beta_T}')\n",
    "    ax.legend()\n",
    "    plt.plot()\n",
    "\n",
    "plot_alphas_betas()"
   ]
  },
  {
   "cell_type": "markdown",
   "id": "31b582eb-a875-4c4a-84fb-9b484dec089e",
   "metadata": {},
   "source": [
    "## 2.3 Model Code"
   ]
  },
  {
   "cell_type": "code",
   "execution_count": 48,
   "id": "7abb00e2-77fb-4e45-a2a1-6c15e0c8c21b",
   "metadata": {},
   "outputs": [],
   "source": [
    "# instead of nn.Module, we use L.LightningModule\n",
    "class DDPMModule(L.LightningModule):\n",
    "    def __init__(self, unet, max_steps=1000, eta=1e-4):\n",
    "        super().__init__()\n",
    "        self.model = unet\n",
    "        self.eta = eta\n",
    "        self.max_steps = max_steps\n",
    "        self.steps = max_steps\n",
    "        beta_start,beta_end = 0.0001, 0.02\n",
    "        betas = torch.linspace(beta_start, beta_end, max_steps)\n",
    "        self.alphas = 1.0 - betas\n",
    "        self.alpha_bars = torch.cumprod(self.alphas,0) # torch.cumprod(self.alphas.flip(0),0).flip(0)\n",
    "        \n",
    "    def forward(self, x, noise_level):\n",
    "        return self.model(x, noise_level)\n",
    "\n",
    "    def training_step(self, batch, batch_idx):\n",
    "        x0, y = batch\n",
    "        x0 = x0.view(x0.size(0), -1)  # flatten for linear layer\n",
    "        \n",
    "        if self.alpha_bars.device != x0.device: self.alpha_bars = self.alpha_bars.to(x0.device) \n",
    "        \n",
    "        # add a bit of noise\n",
    "        t_i = torch.randint(len(self.alpha_bars), (1,)).item() # random index of noise sched\n",
    "        alpha_bar_t = self.alpha_bars[t_i]\n",
    "        eps = torch.randn_like(x0)  # noise that what we're gonna add\n",
    "        input = torch.sqrt(alpha_bar_t)* x0 + torch.sqrt(1.0 - alpha_bar_t)*eps  # here's the noise adding part\n",
    "\n",
    "        nl_cond = torch.tensor([alpha_bar_t]).to(x0.device)                \n",
    "        eps_pred = self.forward(input, nl_cond)                       # try to predict the added noise\n",
    "\n",
    "        loss = F.mse_loss(eps_pred, eps) # target is the noise added          \n",
    "\n",
    "        self.log('loss', loss, prog_bar=True)\n",
    "        return loss\n",
    "\n",
    "    #def validation_step(self, batch, batch_idx):\n",
    "    #    loss = 0\n",
    "    #    return loss \n",
    "\n",
    "    @torch.no_grad()\n",
    "    def sample(self, demo_batch_size=16):\n",
    "        model=self\n",
    "        max_steps = model.max_steps\n",
    "        if steps is None: steps = model.max_steps    \n",
    "        x = torch.randn([demo_batch_size, 28*28]).to(model.device)   # start from random noise\n",
    "        alphas = self.alphas\n",
    "        term1s = 1.0/torch.sqrt(alphas)\n",
    "        term2s = (1-self.alphas)/torch.sqrt(1-self.alpha_bars)\n",
    "        \n",
    "        for s in trange(max_steps-2,max_steps-steps-1,-1):\n",
    "            alpha_bar_t = self.alpha_bars[s]\n",
    "            nl_cond = torch.tensor([alpha_bar_t]).to(x.device)        \n",
    "            eps_pred = model(x, nl_cond) # remove a wee bit o noise\n",
    "            x = term1s[s] *(x - term2s[s] * eps_pred) \n",
    "        return x.view(x.size(0), 28, -1)\n",
    "\n",
    "\n",
    "    def configure_optimizers(self):\n",
    "        return optim.Adam(self.parameters(), lr=1e-4)\n",
    "\n",
    "\n",
    "ddpm = DDPMModule(unet)"
   ]
  },
  {
   "cell_type": "markdown",
   "id": "32ab5bd7-1182-4330-8c6f-3e2282f87279",
   "metadata": {},
   "source": [
    "## Training"
   ]
  },
  {
   "cell_type": "code",
   "execution_count": 49,
   "id": "e203bc11-8e0f-4d75-b74f-576598b43035",
   "metadata": {},
   "outputs": [],
   "source": [
    "if use_wandb:\n",
    "    wandb.finish()\n",
    "    wandb_logger = WandbLogger(log_model=\"all\", project='ddpm_tut')\n",
    "    try:\n",
    "        wandb_logger.watch(model) \n",
    "    except:\n",
    "        pass"
   ]
  },
  {
   "cell_type": "code",
   "execution_count": 50,
   "id": "c56b2473",
   "metadata": {
    "colab": {
     "base_uri": "https://localhost:8080/",
     "height": 659,
     "referenced_widgets": [
      "95b6575fa8354b7c8954e68c4e73895e",
      "57bde002405043f5ac6faacb57d2dd36",
      "4c156e65a8ce435a960b466d6a577f21",
      "2bfcc500bd64478990d852309f1585c1",
      "cd727bf2214f417bb3880ba61ea8135a",
      "bf3ba8ed7e744fe6baeca1c79471b431",
      "d09dd7711b10420e93d9d3fb814c907f",
      "bc165696da6a44099ea503cae5b7153b",
      "00788b9d1473467f9233f1f67f4f67fa",
      "7268add124f34252bb9bfaaf404a66f4",
      "79ee3d23220f4f1b926e9d48cf1c874a"
     ]
    },
    "id": "c56b2473",
    "outputId": "6c1da402-40c3-406c-d776-ddb29ab3a4d0"
   },
   "outputs": [
    {
     "name": "stderr",
     "output_type": "stream",
     "text": [
      "Trainer will use only 1 of 4 GPUs because it is running inside an interactive / notebook environment. You may try to set `Trainer(devices=4)` but please note that multi-GPU inside interactive / notebook environments is considered experimental and unstable. Your mileage may vary.\n",
      "GPU available: True (cuda), used: True\n",
      "TPU available: False, using: 0 TPU cores\n",
      "IPU available: False, using: 0 IPUs\n",
      "HPU available: False, using: 0 HPUs\n",
      "/home/shawley/envs/dlaie/lib/python3.9/site-packages/lightning/pytorch/trainer/configuration_validator.py:72: You passed in a `val_dataloader` but have no `validation_step`. Skipping val loop.\n"
     ]
    },
    {
     "data": {
      "application/vnd.jupyter.widget-view+json": {
       "model_id": "d71fe58bc333468eb2ad08a5a5d74b7f",
       "version_major": 2,
       "version_minor": 0
      },
      "text/plain": [
       "VBox(children=(Label(value='Waiting for wandb.init()...\\r'), FloatProgress(value=0.01111416646745056, max=1.0)…"
      ]
     },
     "metadata": {},
     "output_type": "display_data"
    },
    {
     "data": {
      "text/html": [
       "Tracking run with wandb version 0.16.2"
      ],
      "text/plain": [
       "<IPython.core.display.HTML object>"
      ]
     },
     "metadata": {},
     "output_type": "display_data"
    },
    {
     "data": {
      "text/html": [
       "Run data is saved locally in <code>./wandb/run-20240204_163849-golnkmf9</code>"
      ],
      "text/plain": [
       "<IPython.core.display.HTML object>"
      ]
     },
     "metadata": {},
     "output_type": "display_data"
    },
    {
     "data": {
      "text/html": [
       "Syncing run <strong><a href='https://wandb.ai/strange-quarks/ddpm_tut/runs/golnkmf9' target=\"_blank\">earnest-haze-21</a></strong> to <a href='https://wandb.ai/strange-quarks/ddpm_tut' target=\"_blank\">Weights & Biases</a> (<a href='https://wandb.me/run' target=\"_blank\">docs</a>)<br/>"
      ],
      "text/plain": [
       "<IPython.core.display.HTML object>"
      ]
     },
     "metadata": {},
     "output_type": "display_data"
    },
    {
     "data": {
      "text/html": [
       " View project at <a href='https://wandb.ai/strange-quarks/ddpm_tut' target=\"_blank\">https://wandb.ai/strange-quarks/ddpm_tut</a>"
      ],
      "text/plain": [
       "<IPython.core.display.HTML object>"
      ]
     },
     "metadata": {},
     "output_type": "display_data"
    },
    {
     "data": {
      "text/html": [
       " View run at <a href='https://wandb.ai/strange-quarks/ddpm_tut/runs/golnkmf9' target=\"_blank\">https://wandb.ai/strange-quarks/ddpm_tut/runs/golnkmf9</a>"
      ],
      "text/plain": [
       "<IPython.core.display.HTML object>"
      ]
     },
     "metadata": {},
     "output_type": "display_data"
    },
    {
     "name": "stderr",
     "output_type": "stream",
     "text": [
      "LOCAL_RANK: 0 - CUDA_VISIBLE_DEVICES: [0,1,2,3]\n",
      "\n",
      "  | Name  | Type       | Params\n",
      "-------------------------------------\n",
      "0 | model | LinearUNet | 437 K \n",
      "-------------------------------------\n",
      "437 K     Trainable params\n",
      "0         Non-trainable params\n",
      "437 K     Total params\n",
      "1.749     Total estimated model params size (MB)\n"
     ]
    },
    {
     "data": {
      "application/vnd.jupyter.widget-view+json": {
       "model_id": "e54f3934eb89413bb1366e043869b55a",
       "version_major": 2,
       "version_minor": 0
      },
      "text/plain": [
       "Training: |          | 0/? [00:00<?, ?it/s]"
      ]
     },
     "metadata": {},
     "output_type": "display_data"
    },
    {
     "name": "stderr",
     "output_type": "stream",
     "text": [
      "`Trainer.fit` stopped: `max_epochs=40` reached.\n"
     ]
    },
    {
     "data": {
      "application/vnd.jupyter.widget-view+json": {
       "model_id": "",
       "version_major": 2,
       "version_minor": 0
      },
      "text/plain": [
       "VBox(children=(Label(value='201.176 MB of 201.176 MB uploaded\\r'), FloatProgress(value=1.0, max=1.0)))"
      ]
     },
     "metadata": {},
     "output_type": "display_data"
    },
    {
     "data": {
      "text/html": [
       "<style>\n",
       "    table.wandb td:nth-child(1) { padding: 0 10px; text-align: left ; width: auto;} td:nth-child(2) {text-align: left ; width: 100%}\n",
       "    .wandb-row { display: flex; flex-direction: row; flex-wrap: wrap; justify-content: flex-start; width: 100% }\n",
       "    .wandb-col { display: flex; flex-direction: column; flex-basis: 100%; flex: 1; padding: 10px; }\n",
       "    </style>\n",
       "<div class=\"wandb-row\"><div class=\"wandb-col\"><h3>Run history:</h3><br/><table class=\"wandb\"><tr><td>epoch</td><td>▁▁▁▂▂▂▂▂▂▃▃▃▃▃▄▄▄▄▄▄▅▅▅▅▅▅▆▆▆▆▆▇▇▇▇▇▇███</td></tr><tr><td>loss</td><td>▆▁▁▂▁▁▁▃▂▃▁▁▂▃▂▁▂▁▁▁▁▁▁▃▄▁▂▂▁█▁▁▁▂▁▁▁▁▁▅</td></tr><tr><td>trainer/global_step</td><td>▁▁▁▂▂▂▂▂▂▃▃▃▃▃▄▄▄▄▄▄▅▅▅▅▅▅▆▆▆▆▆▇▇▇▇▇▇███</td></tr></table><br/></div><div class=\"wandb-col\"><h3>Run summary:</h3><br/><table class=\"wandb\"><tr><td>epoch</td><td>39</td></tr><tr><td>loss</td><td>9e-05</td></tr><tr><td>trainer/global_step</td><td>18749</td></tr></table><br/></div></div>"
      ],
      "text/plain": [
       "<IPython.core.display.HTML object>"
      ]
     },
     "metadata": {},
     "output_type": "display_data"
    },
    {
     "data": {
      "text/html": [
       " View run <strong style=\"color:#cdcd00\">earnest-haze-21</strong> at: <a href='https://wandb.ai/strange-quarks/ddpm_tut/runs/golnkmf9' target=\"_blank\">https://wandb.ai/strange-quarks/ddpm_tut/runs/golnkmf9</a><br/> View job at <a href='https://wandb.ai/strange-quarks/ddpm_tut/jobs/QXJ0aWZhY3RDb2xsZWN0aW9uOjEzNzA2OTU2NQ==/version_details/v2' target=\"_blank\">https://wandb.ai/strange-quarks/ddpm_tut/jobs/QXJ0aWZhY3RDb2xsZWN0aW9uOjEzNzA2OTU2NQ==/version_details/v2</a><br/>Synced 5 W&B file(s), 0 media file(s), 40 artifact file(s) and 0 other file(s)"
      ],
      "text/plain": [
       "<IPython.core.display.HTML object>"
      ]
     },
     "metadata": {},
     "output_type": "display_data"
    },
    {
     "data": {
      "text/html": [
       "Find logs at: <code>./wandb/run-20240204_163849-golnkmf9/logs</code>"
      ],
      "text/plain": [
       "<IPython.core.display.HTML object>"
      ]
     },
     "metadata": {},
     "output_type": "display_data"
    }
   ],
   "source": [
    "epochs = 40\n",
    "if use_wandb:\n",
    "    trainer = L.Trainer(max_epochs=epochs, devices=\"auto\", logger=wandb_logger)\n",
    "    trainer.fit(model=ddpm, train_dataloaders=train_dl, val_dataloaders=val_dl )\n",
    "    wandb.finish()\n",
    "else:\n",
    "    trainer = L.Trainer(max_epochs=epochs, devices=\"auto\")#, logger=wandb_logger)\n",
    "    trainer.fit(model=ddpm, train_dataloaders=train_dl, val_dataloaders=val_dl )\n",
    "    "
   ]
  },
  {
   "cell_type": "markdown",
   "id": "1b67c210-be37-4c17-a84d-2c533c6b2b5f",
   "metadata": {},
   "source": [
    "## Inference"
   ]
  },
  {
   "cell_type": "code",
   "execution_count": 61,
   "id": "d79c4c94-09ce-4009-ba83-9b6b90777458",
   "metadata": {},
   "outputs": [
    {
     "data": {
      "application/vnd.jupyter.widget-view+json": {
       "model_id": "013152cb30604ccd9a7a4d2fd44f6d9e",
       "version_major": 2,
       "version_minor": 0
      },
      "text/plain": [
       "  0%|          | 0/999 [00:00<?, ?it/s]"
      ]
     },
     "metadata": {},
     "output_type": "display_data"
    },
    {
     "name": "stderr",
     "output_type": "stream",
     "text": [
      "Clipping input data to the valid range for imshow with RGB data ([0..1] for floats or [0..255] for integers).\n"
     ]
    },
    {
     "data": {
      "image/png": "[encoded data removed]",
      "text/plain": [
       "<Figure size 500x500 with 1 Axes>"
      ]
     },
     "metadata": {},
     "output_type": "display_data"
    }
   ],
   "source": [
    "@torch.no_grad()\n",
    "def sample(model, batch_size=16):\n",
    "    max_steps = model.steps\n",
    "    steps = model.max_steps\n",
    "    x = torch.randn([batch_size, 28*28]).to(model.device)   # start from random noise\n",
    "\n",
    "    alphas = model.alphas\n",
    "    alpha_bars = model.alpha_bars \n",
    "    term1s = 1.0/torch.sqrt(alphas).to(model.device)\n",
    "    term2s = (1-alphas)/torch.sqrt(1-alpha_bars).to(model.device)\n",
    "    \n",
    "    for s in trange(max_steps-2,max_steps-steps-1,-1):\n",
    "        step = s\n",
    "        alpha_bar_t = alpha_bars[s]\n",
    "        #print(\"step = \",step)\n",
    "        nl_cond = torch.tensor([alpha_bar_t]).to(x.device)        \n",
    "        eps_pred = model(x, nl_cond) # remove a wee bit o noise\n",
    "        x = term1s[s] *(x - term2s[s] * eps_pred) \n",
    "    return x.view(x.size(0), 28, -1)\n",
    "\n",
    "\n",
    "def demo(model, nrows=5, ncols=5):\n",
    "    batch_size = nrows*ncols\n",
    "    x = sample(model, batch_size=batch_size)\n",
    "    img_batch = x.unsqueeze(1) # dummy color dimension\n",
    "    use_grid = True\n",
    "    if use_grid:\n",
    "        fig, ax = plt.subplots(figsize=(5,5))\n",
    "        grid = torchvision.utils.make_grid(img_batch, nrows)\n",
    "        grid = rearrange(grid, 'c h w -> h w c') \n",
    "        ax.imshow(grid.numpy())\n",
    "    else:\n",
    "        fig, axs = plt.subplots(figsize=(5,5),nrows=nrows, ncols=ncols, sharex=True, sharey=True)\n",
    "        ax = axs.ravel()\n",
    "        for i in range(batch_size):\n",
    "            pane = ax[i].imshow(x[i].numpy())\n",
    "        cbar_ax = fig.add_axes([0.95, 0.11, 0.05, 0.77])\n",
    "        fig.colorbar(pane, cax=cbar_ax)\n",
    "    plt.show()\n",
    "    return\n",
    "\n",
    "demo(ddpm)"
   ]
  },
  {
   "cell_type": "markdown",
   "id": "2eb1be50-fd65-4db1-986b-75b304d28289",
   "metadata": {},
   "source": [
    "...And there you go. you can have any number you want, as long as that number is 9. :-/\n",
    "\n",
    "TODO: fix this. "
   ]
  },
  {
   "cell_type": "code",
   "execution_count": null,
   "id": "11de1a75-a8c3-43ee-901f-cc7b1056f5ec",
   "metadata": {},
   "outputs": [],
   "source": []
  }
 ],
 "metadata": {
  "accelerator": "GPU",
  "colab": {
   "gpuType": "T4",
   "provenance": []
  },
  "kernelspec": {
   "display_name": "Python 3 (ipykernel)",
   "language": "python",
   "name": "python3"
  },
  "language_info": {
   "codemirror_mode": {
    "name": "ipython",
    "version": 3
   },
   "file_extension": ".py",
   "mimetype": "text/x-python",
   "name": "python",
   "nbconvert_exporter": "python",
   "pygments_lexer": "ipython3",
   "version": "3.9.18"
  },
  "widgets": {
   "application/vnd.jupyter.widget-state+json": {
    "00788b9d1473467f9233f1f67f4f67fa": {
     "model_module": "@jupyter-widgets/controls",
     "model_module_version": "1.5.0",
     "model_name": "ProgressStyleModel",
     "state": {
      "_model_module": "@jupyter-widgets/controls",
      "_model_module_version": "1.5.0",
      "_model_name": "ProgressStyleModel",
      "_view_count": null,
      "_view_module": "@jupyter-widgets/base",
      "_view_module_version": "1.2.0",
      "_view_name": "StyleView",
      "bar_color": null,
      "description_width": ""
     }
    },
    "230ad0f86b3348249875a7f41a6ab815": {
     "model_module": "@jupyter-widgets/controls",
     "model_module_version": "1.5.0",
     "model_name": "HBoxModel",
     "state": {
      "_dom_classes": [],
      "_model_module": "@jupyter-widgets/controls",
      "_model_module_version": "1.5.0",
      "_model_name": "HBoxModel",
      "_view_count": null,
      "_view_module": "@jupyter-widgets/controls",
      "_view_module_version": "1.5.0",
      "_view_name": "HBoxView",
      "box_style": "",
      "children": [
       "IPY_MODEL_cdd43d1c23a24f8cb2189ed61e1f0a1e",
       "IPY_MODEL_aa1bccad11244c3c8ee76d7c1603c470",
       "IPY_MODEL_d60756abac2a48a796f50ab28b5bed82"
      ],
      "layout": "IPY_MODEL_c2df367dff384285b53703c232cd6bbb"
     }
    },
    "2bfcc500bd64478990d852309f1585c1": {
     "model_module": "@jupyter-widgets/controls",
     "model_module_version": "1.5.0",
     "model_name": "HTMLModel",
     "state": {
      "_dom_classes": [],
      "_model_module": "@jupyter-widgets/controls",
      "_model_module_version": "1.5.0",
      "_model_name": "HTMLModel",
      "_view_count": null,
      "_view_module": "@jupyter-widgets/controls",
      "_view_module_version": "1.5.0",
      "_view_name": "HTMLView",
      "description": "",
      "description_tooltip": null,
      "layout": "IPY_MODEL_7268add124f34252bb9bfaaf404a66f4",
      "placeholder": "​",
      "style": "IPY_MODEL_79ee3d23220f4f1b926e9d48cf1c874a",
      "value": " 938/938 [00:12&lt;00:00, 77.84it/s, v_num=38, loss=0.0377]"
     }
    },
    "3032d83c92bf4d3f98117b465c7af5b6": {
     "model_module": "@jupyter-widgets/controls",
     "model_module_version": "1.5.0",
     "model_name": "DescriptionStyleModel",
     "state": {
      "_model_module": "@jupyter-widgets/controls",
      "_model_module_version": "1.5.0",
      "_model_name": "DescriptionStyleModel",
      "_view_count": null,
      "_view_module": "@jupyter-widgets/base",
      "_view_module_version": "1.2.0",
      "_view_name": "StyleView",
      "description_width": ""
     }
    },
    "34dad8aa8e7f45c6b3ab20e802438b00": {
     "model_module": "@jupyter-widgets/base",
     "model_module_version": "1.2.0",
     "model_name": "LayoutModel",
     "state": {
      "_model_module": "@jupyter-widgets/base",
      "_model_module_version": "1.2.0",
      "_model_name": "LayoutModel",
      "_view_count": null,
      "_view_module": "@jupyter-widgets/base",
      "_view_module_version": "1.2.0",
      "_view_name": "LayoutView",
      "align_content": null,
      "align_items": null,
      "align_self": null,
      "border": null,
      "bottom": null,
      "display": null,
      "flex": null,
      "flex_flow": null,
      "grid_area": null,
      "grid_auto_columns": null,
      "grid_auto_flow": null,
      "grid_auto_rows": null,
      "grid_column": null,
      "grid_gap": null,
      "grid_row": null,
      "grid_template_areas": null,
      "grid_template_columns": null,
      "grid_template_rows": null,
      "height": null,
      "justify_content": null,
      "justify_items": null,
      "left": null,
      "margin": null,
      "max_height": null,
      "max_width": null,
      "min_height": null,
      "min_width": null,
      "object_fit": null,
      "object_position": null,
      "order": null,
      "overflow": null,
      "overflow_x": null,
      "overflow_y": null,
      "padding": null,
      "right": null,
      "top": null,
      "visibility": null,
      "width": null
     }
    },
    "3b62e8b7d19e479d80138a7907fdf830": {
     "model_module": "@jupyter-widgets/controls",
     "model_module_version": "1.5.0",
     "model_name": "DescriptionStyleModel",
     "state": {
      "_model_module": "@jupyter-widgets/controls",
      "_model_module_version": "1.5.0",
      "_model_name": "DescriptionStyleModel",
      "_view_count": null,
      "_view_module": "@jupyter-widgets/base",
      "_view_module_version": "1.2.0",
      "_view_name": "StyleView",
      "description_width": ""
     }
    },
    "3c9e48fb64244d7eb4c9d1ab5ccf52f9": {
     "model_module": "@jupyter-widgets/base",
     "model_module_version": "1.2.0",
     "model_name": "LayoutModel",
     "state": {
      "_model_module": "@jupyter-widgets/base",
      "_model_module_version": "1.2.0",
      "_model_name": "LayoutModel",
      "_view_count": null,
      "_view_module": "@jupyter-widgets/base",
      "_view_module_version": "1.2.0",
      "_view_name": "LayoutView",
      "align_content": null,
      "align_items": null,
      "align_self": null,
      "border": null,
      "bottom": null,
      "display": "inline-flex",
      "flex": null,
      "flex_flow": "row wrap",
      "grid_area": null,
      "grid_auto_columns": null,
      "grid_auto_flow": null,
      "grid_auto_rows": null,
      "grid_column": null,
      "grid_gap": null,
      "grid_row": null,
      "grid_template_areas": null,
      "grid_template_columns": null,
      "grid_template_rows": null,
      "height": null,
      "justify_content": null,
      "justify_items": null,
      "left": null,
      "margin": null,
      "max_height": null,
      "max_width": null,
      "min_height": null,
      "min_width": null,
      "object_fit": null,
      "object_position": null,
      "order": null,
      "overflow": null,
      "overflow_x": null,
      "overflow_y": null,
      "padding": null,
      "right": null,
      "top": null,
      "visibility": null,
      "width": "100%"
     }
    },
    "499c18b435a946159cd4f8048dc2374d": {
     "model_module": "@jupyter-widgets/controls",
     "model_module_version": "1.5.0",
     "model_name": "DescriptionStyleModel",
     "state": {
      "_model_module": "@jupyter-widgets/controls",
      "_model_module_version": "1.5.0",
      "_model_name": "DescriptionStyleModel",
      "_view_count": null,
      "_view_module": "@jupyter-widgets/base",
      "_view_module_version": "1.2.0",
      "_view_name": "StyleView",
      "description_width": ""
     }
    },
    "4bb67f51ad7a4642a5c7ae5ec3a661d1": {
     "model_module": "@jupyter-widgets/base",
     "model_module_version": "1.2.0",
     "model_name": "LayoutModel",
     "state": {
      "_model_module": "@jupyter-widgets/base",
      "_model_module_version": "1.2.0",
      "_model_name": "LayoutModel",
      "_view_count": null,
      "_view_module": "@jupyter-widgets/base",
      "_view_module_version": "1.2.0",
      "_view_name": "LayoutView",
      "align_content": null,
      "align_items": null,
      "align_self": null,
      "border": null,
      "bottom": null,
      "display": null,
      "flex": null,
      "flex_flow": null,
      "grid_area": null,
      "grid_auto_columns": null,
      "grid_auto_flow": null,
      "grid_auto_rows": null,
      "grid_column": null,
      "grid_gap": null,
      "grid_row": null,
      "grid_template_areas": null,
      "grid_template_columns": null,
      "grid_template_rows": null,
      "height": null,
      "justify_content": null,
      "justify_items": null,
      "left": null,
      "margin": null,
      "max_height": null,
      "max_width": null,
      "min_height": null,
      "min_width": null,
      "object_fit": null,
      "object_position": null,
      "order": null,
      "overflow": null,
      "overflow_x": null,
      "overflow_y": null,
      "padding": null,
      "right": null,
      "top": null,
      "visibility": null,
      "width": null
     }
    },
    "4c156e65a8ce435a960b466d6a577f21": {
     "model_module": "@jupyter-widgets/controls",
     "model_module_version": "1.5.0",
     "model_name": "FloatProgressModel",
     "state": {
      "_dom_classes": [],
      "_model_module": "@jupyter-widgets/controls",
      "_model_module_version": "1.5.0",
      "_model_name": "FloatProgressModel",
      "_view_count": null,
      "_view_module": "@jupyter-widgets/controls",
      "_view_module_version": "1.5.0",
      "_view_name": "ProgressView",
      "bar_style": "success",
      "description": "",
      "description_tooltip": null,
      "layout": "IPY_MODEL_bc165696da6a44099ea503cae5b7153b",
      "max": 938,
      "min": 0,
      "orientation": "horizontal",
      "style": "IPY_MODEL_00788b9d1473467f9233f1f67f4f67fa",
      "value": 938
     }
    },
    "55856d711f6b484f8957784d760b00c5": {
     "model_module": "@jupyter-widgets/base",
     "model_module_version": "1.2.0",
     "model_name": "LayoutModel",
     "state": {
      "_model_module": "@jupyter-widgets/base",
      "_model_module_version": "1.2.0",
      "_model_name": "LayoutModel",
      "_view_count": null,
      "_view_module": "@jupyter-widgets/base",
      "_view_module_version": "1.2.0",
      "_view_name": "LayoutView",
      "align_content": null,
      "align_items": null,
      "align_self": null,
      "border": null,
      "bottom": null,
      "display": null,
      "flex": null,
      "flex_flow": null,
      "grid_area": null,
      "grid_auto_columns": null,
      "grid_auto_flow": null,
      "grid_auto_rows": null,
      "grid_column": null,
      "grid_gap": null,
      "grid_row": null,
      "grid_template_areas": null,
      "grid_template_columns": null,
      "grid_template_rows": null,
      "height": null,
      "justify_content": null,
      "justify_items": null,
      "left": null,
      "margin": null,
      "max_height": null,
      "max_width": null,
      "min_height": null,
      "min_width": null,
      "object_fit": null,
      "object_position": null,
      "order": null,
      "overflow": null,
      "overflow_x": null,
      "overflow_y": null,
      "padding": null,
      "right": null,
      "top": null,
      "visibility": null,
      "width": null
     }
    },
    "57bde002405043f5ac6faacb57d2dd36": {
     "model_module": "@jupyter-widgets/controls",
     "model_module_version": "1.5.0",
     "model_name": "HTMLModel",
     "state": {
      "_dom_classes": [],
      "_model_module": "@jupyter-widgets/controls",
      "_model_module_version": "1.5.0",
      "_model_name": "HTMLModel",
      "_view_count": null,
      "_view_module": "@jupyter-widgets/controls",
      "_view_module_version": "1.5.0",
      "_view_name": "HTMLView",
      "description": "",
      "description_tooltip": null,
      "layout": "IPY_MODEL_bf3ba8ed7e744fe6baeca1c79471b431",
      "placeholder": "​",
      "style": "IPY_MODEL_d09dd7711b10420e93d9d3fb814c907f",
      "value": "Epoch 3: 100%"
     }
    },
    "58a0ad4b7f2740089b6841b91b606e8d": {
     "model_module": "@jupyter-widgets/controls",
     "model_module_version": "1.5.0",
     "model_name": "HTMLModel",
     "state": {
      "_dom_classes": [],
      "_model_module": "@jupyter-widgets/controls",
      "_model_module_version": "1.5.0",
      "_model_name": "HTMLModel",
      "_view_count": null,
      "_view_module": "@jupyter-widgets/controls",
      "_view_module_version": "1.5.0",
      "_view_name": "HTMLView",
      "description": "",
      "description_tooltip": null,
      "layout": "IPY_MODEL_55856d711f6b484f8957784d760b00c5",
      "placeholder": "​",
      "style": "IPY_MODEL_499c18b435a946159cd4f8048dc2374d",
      "value": "Epoch 9: 100%"
     }
    },
    "5b1363e9d65c48d29cb0ec5b4c237c6f": {
     "model_module": "@jupyter-widgets/base",
     "model_module_version": "1.2.0",
     "model_name": "LayoutModel",
     "state": {
      "_model_module": "@jupyter-widgets/base",
      "_model_module_version": "1.2.0",
      "_model_name": "LayoutModel",
      "_view_count": null,
      "_view_module": "@jupyter-widgets/base",
      "_view_module_version": "1.2.0",
      "_view_name": "LayoutView",
      "align_content": null,
      "align_items": null,
      "align_self": null,
      "border": null,
      "bottom": null,
      "display": null,
      "flex": "2",
      "flex_flow": null,
      "grid_area": null,
      "grid_auto_columns": null,
      "grid_auto_flow": null,
      "grid_auto_rows": null,
      "grid_column": null,
      "grid_gap": null,
      "grid_row": null,
      "grid_template_areas": null,
      "grid_template_columns": null,
      "grid_template_rows": null,
      "height": null,
      "justify_content": null,
      "justify_items": null,
      "left": null,
      "margin": null,
      "max_height": null,
      "max_width": null,
      "min_height": null,
      "min_width": null,
      "object_fit": null,
      "object_position": null,
      "order": null,
      "overflow": null,
      "overflow_x": null,
      "overflow_y": null,
      "padding": null,
      "right": null,
      "top": null,
      "visibility": null,
      "width": null
     }
    },
    "63cbe90930b340b680736cc44898bc7d": {
     "model_module": "@jupyter-widgets/controls",
     "model_module_version": "1.5.0",
     "model_name": "ProgressStyleModel",
     "state": {
      "_model_module": "@jupyter-widgets/controls",
      "_model_module_version": "1.5.0",
      "_model_name": "ProgressStyleModel",
      "_view_count": null,
      "_view_module": "@jupyter-widgets/base",
      "_view_module_version": "1.2.0",
      "_view_name": "StyleView",
      "bar_color": null,
      "description_width": ""
     }
    },
    "7268add124f34252bb9bfaaf404a66f4": {
     "model_module": "@jupyter-widgets/base",
     "model_module_version": "1.2.0",
     "model_name": "LayoutModel",
     "state": {
      "_model_module": "@jupyter-widgets/base",
      "_model_module_version": "1.2.0",
      "_model_name": "LayoutModel",
      "_view_count": null,
      "_view_module": "@jupyter-widgets/base",
      "_view_module_version": "1.2.0",
      "_view_name": "LayoutView",
      "align_content": null,
      "align_items": null,
      "align_self": null,
      "border": null,
      "bottom": null,
      "display": null,
      "flex": null,
      "flex_flow": null,
      "grid_area": null,
      "grid_auto_columns": null,
      "grid_auto_flow": null,
      "grid_auto_rows": null,
      "grid_column": null,
      "grid_gap": null,
      "grid_row": null,
      "grid_template_areas": null,
      "grid_template_columns": null,
      "grid_template_rows": null,
      "height": null,
      "justify_content": null,
      "justify_items": null,
      "left": null,
      "margin": null,
      "max_height": null,
      "max_width": null,
      "min_height": null,
      "min_width": null,
      "object_fit": null,
      "object_position": null,
      "order": null,
      "overflow": null,
      "overflow_x": null,
      "overflow_y": null,
      "padding": null,
      "right": null,
      "top": null,
      "visibility": null,
      "width": null
     }
    },
    "7353d84fc8d7402ab196a6f51d004663": {
     "model_module": "@jupyter-widgets/controls",
     "model_module_version": "1.5.0",
     "model_name": "HBoxModel",
     "state": {
      "_dom_classes": [],
      "_model_module": "@jupyter-widgets/controls",
      "_model_module_version": "1.5.0",
      "_model_name": "HBoxModel",
      "_view_count": null,
      "_view_module": "@jupyter-widgets/controls",
      "_view_module_version": "1.5.0",
      "_view_name": "HBoxView",
      "box_style": "",
      "children": [
       "IPY_MODEL_58a0ad4b7f2740089b6841b91b606e8d",
       "IPY_MODEL_be64100ec55e401f9dd04148ab54c8a0",
       "IPY_MODEL_9e21d6af7fa14ddaae5f0a447650ee80"
      ],
      "layout": "IPY_MODEL_3c9e48fb64244d7eb4c9d1ab5ccf52f9"
     }
    },
    "79ee3d23220f4f1b926e9d48cf1c874a": {
     "model_module": "@jupyter-widgets/controls",
     "model_module_version": "1.5.0",
     "model_name": "DescriptionStyleModel",
     "state": {
      "_model_module": "@jupyter-widgets/controls",
      "_model_module_version": "1.5.0",
      "_model_name": "DescriptionStyleModel",
      "_view_count": null,
      "_view_module": "@jupyter-widgets/base",
      "_view_module_version": "1.2.0",
      "_view_name": "StyleView",
      "description_width": ""
     }
    },
    "7d7697bc6cd74f3aa4829eb2dc4bd8d7": {
     "model_module": "@jupyter-widgets/base",
     "model_module_version": "1.2.0",
     "model_name": "LayoutModel",
     "state": {
      "_model_module": "@jupyter-widgets/base",
      "_model_module_version": "1.2.0",
      "_model_name": "LayoutModel",
      "_view_count": null,
      "_view_module": "@jupyter-widgets/base",
      "_view_module_version": "1.2.0",
      "_view_name": "LayoutView",
      "align_content": null,
      "align_items": null,
      "align_self": null,
      "border": null,
      "bottom": null,
      "display": null,
      "flex": null,
      "flex_flow": null,
      "grid_area": null,
      "grid_auto_columns": null,
      "grid_auto_flow": null,
      "grid_auto_rows": null,
      "grid_column": null,
      "grid_gap": null,
      "grid_row": null,
      "grid_template_areas": null,
      "grid_template_columns": null,
      "grid_template_rows": null,
      "height": null,
      "justify_content": null,
      "justify_items": null,
      "left": null,
      "margin": null,
      "max_height": null,
      "max_width": null,
      "min_height": null,
      "min_width": null,
      "object_fit": null,
      "object_position": null,
      "order": null,
      "overflow": null,
      "overflow_x": null,
      "overflow_y": null,
      "padding": null,
      "right": null,
      "top": null,
      "visibility": null,
      "width": null
     }
    },
    "95b6575fa8354b7c8954e68c4e73895e": {
     "model_module": "@jupyter-widgets/controls",
     "model_module_version": "1.5.0",
     "model_name": "HBoxModel",
     "state": {
      "_dom_classes": [],
      "_model_module": "@jupyter-widgets/controls",
      "_model_module_version": "1.5.0",
      "_model_name": "HBoxModel",
      "_view_count": null,
      "_view_module": "@jupyter-widgets/controls",
      "_view_module_version": "1.5.0",
      "_view_name": "HBoxView",
      "box_style": "",
      "children": [
       "IPY_MODEL_57bde002405043f5ac6faacb57d2dd36",
       "IPY_MODEL_4c156e65a8ce435a960b466d6a577f21",
       "IPY_MODEL_2bfcc500bd64478990d852309f1585c1"
      ],
      "layout": "IPY_MODEL_cd727bf2214f417bb3880ba61ea8135a"
     }
    },
    "9e21d6af7fa14ddaae5f0a447650ee80": {
     "model_module": "@jupyter-widgets/controls",
     "model_module_version": "1.5.0",
     "model_name": "HTMLModel",
     "state": {
      "_dom_classes": [],
      "_model_module": "@jupyter-widgets/controls",
      "_model_module_version": "1.5.0",
      "_model_name": "HTMLModel",
      "_view_count": null,
      "_view_module": "@jupyter-widgets/controls",
      "_view_module_version": "1.5.0",
      "_view_name": "HTMLView",
      "description": "",
      "description_tooltip": null,
      "layout": "IPY_MODEL_4bb67f51ad7a4642a5c7ae5ec3a661d1",
      "placeholder": "​",
      "style": "IPY_MODEL_c06f4f71e200416a85545c424e432de4",
      "value": " 938/938 [00:14&lt;00:00, 65.66it/s, v_num=65, ema_loss=0.0411]"
     }
    },
    "a6e332f24a57464ea678942bf1067ab6": {
     "model_module": "@jupyter-widgets/base",
     "model_module_version": "1.2.0",
     "model_name": "LayoutModel",
     "state": {
      "_model_module": "@jupyter-widgets/base",
      "_model_module_version": "1.2.0",
      "_model_name": "LayoutModel",
      "_view_count": null,
      "_view_module": "@jupyter-widgets/base",
      "_view_module_version": "1.2.0",
      "_view_name": "LayoutView",
      "align_content": null,
      "align_items": null,
      "align_self": null,
      "border": null,
      "bottom": null,
      "display": null,
      "flex": "2",
      "flex_flow": null,
      "grid_area": null,
      "grid_auto_columns": null,
      "grid_auto_flow": null,
      "grid_auto_rows": null,
      "grid_column": null,
      "grid_gap": null,
      "grid_row": null,
      "grid_template_areas": null,
      "grid_template_columns": null,
      "grid_template_rows": null,
      "height": null,
      "justify_content": null,
      "justify_items": null,
      "left": null,
      "margin": null,
      "max_height": null,
      "max_width": null,
      "min_height": null,
      "min_width": null,
      "object_fit": null,
      "object_position": null,
      "order": null,
      "overflow": null,
      "overflow_x": null,
      "overflow_y": null,
      "padding": null,
      "right": null,
      "top": null,
      "visibility": null,
      "width": null
     }
    },
    "aa1bccad11244c3c8ee76d7c1603c470": {
     "model_module": "@jupyter-widgets/controls",
     "model_module_version": "1.5.0",
     "model_name": "FloatProgressModel",
     "state": {
      "_dom_classes": [],
      "_model_module": "@jupyter-widgets/controls",
      "_model_module_version": "1.5.0",
      "_model_name": "FloatProgressModel",
      "_view_count": null,
      "_view_module": "@jupyter-widgets/controls",
      "_view_module_version": "1.5.0",
      "_view_name": "ProgressView",
      "bar_style": "success",
      "description": "",
      "description_tooltip": null,
      "layout": "IPY_MODEL_a6e332f24a57464ea678942bf1067ab6",
      "max": 938,
      "min": 0,
      "orientation": "horizontal",
      "style": "IPY_MODEL_db6f372e1e684ee7a71972caccc6440b",
      "value": 938
     }
    },
    "bc165696da6a44099ea503cae5b7153b": {
     "model_module": "@jupyter-widgets/base",
     "model_module_version": "1.2.0",
     "model_name": "LayoutModel",
     "state": {
      "_model_module": "@jupyter-widgets/base",
      "_model_module_version": "1.2.0",
      "_model_name": "LayoutModel",
      "_view_count": null,
      "_view_module": "@jupyter-widgets/base",
      "_view_module_version": "1.2.0",
      "_view_name": "LayoutView",
      "align_content": null,
      "align_items": null,
      "align_self": null,
      "border": null,
      "bottom": null,
      "display": null,
      "flex": "2",
      "flex_flow": null,
      "grid_area": null,
      "grid_auto_columns": null,
      "grid_auto_flow": null,
      "grid_auto_rows": null,
      "grid_column": null,
      "grid_gap": null,
      "grid_row": null,
      "grid_template_areas": null,
      "grid_template_columns": null,
      "grid_template_rows": null,
      "height": null,
      "justify_content": null,
      "justify_items": null,
      "left": null,
      "margin": null,
      "max_height": null,
      "max_width": null,
      "min_height": null,
      "min_width": null,
      "object_fit": null,
      "object_position": null,
      "order": null,
      "overflow": null,
      "overflow_x": null,
      "overflow_y": null,
      "padding": null,
      "right": null,
      "top": null,
      "visibility": null,
      "width": null
     }
    },
    "be64100ec55e401f9dd04148ab54c8a0": {
     "model_module": "@jupyter-widgets/controls",
     "model_module_version": "1.5.0",
     "model_name": "FloatProgressModel",
     "state": {
      "_dom_classes": [],
      "_model_module": "@jupyter-widgets/controls",
      "_model_module_version": "1.5.0",
      "_model_name": "FloatProgressModel",
      "_view_count": null,
      "_view_module": "@jupyter-widgets/controls",
      "_view_module_version": "1.5.0",
      "_view_name": "ProgressView",
      "bar_style": "success",
      "description": "",
      "description_tooltip": null,
      "layout": "IPY_MODEL_5b1363e9d65c48d29cb0ec5b4c237c6f",
      "max": 938,
      "min": 0,
      "orientation": "horizontal",
      "style": "IPY_MODEL_63cbe90930b340b680736cc44898bc7d",
      "value": 938
     }
    },
    "bf3ba8ed7e744fe6baeca1c79471b431": {
     "model_module": "@jupyter-widgets/base",
     "model_module_version": "1.2.0",
     "model_name": "LayoutModel",
     "state": {
      "_model_module": "@jupyter-widgets/base",
      "_model_module_version": "1.2.0",
      "_model_name": "LayoutModel",
      "_view_count": null,
      "_view_module": "@jupyter-widgets/base",
      "_view_module_version": "1.2.0",
      "_view_name": "LayoutView",
      "align_content": null,
      "align_items": null,
      "align_self": null,
      "border": null,
      "bottom": null,
      "display": null,
      "flex": null,
      "flex_flow": null,
      "grid_area": null,
      "grid_auto_columns": null,
      "grid_auto_flow": null,
      "grid_auto_rows": null,
      "grid_column": null,
      "grid_gap": null,
      "grid_row": null,
      "grid_template_areas": null,
      "grid_template_columns": null,
      "grid_template_rows": null,
      "height": null,
      "justify_content": null,
      "justify_items": null,
      "left": null,
      "margin": null,
      "max_height": null,
      "max_width": null,
      "min_height": null,
      "min_width": null,
      "object_fit": null,
      "object_position": null,
      "order": null,
      "overflow": null,
      "overflow_x": null,
      "overflow_y": null,
      "padding": null,
      "right": null,
      "top": null,
      "visibility": null,
      "width": null
     }
    },
    "c06f4f71e200416a85545c424e432de4": {
     "model_module": "@jupyter-widgets/controls",
     "model_module_version": "1.5.0",
     "model_name": "DescriptionStyleModel",
     "state": {
      "_model_module": "@jupyter-widgets/controls",
      "_model_module_version": "1.5.0",
      "_model_name": "DescriptionStyleModel",
      "_view_count": null,
      "_view_module": "@jupyter-widgets/base",
      "_view_module_version": "1.2.0",
      "_view_name": "StyleView",
      "description_width": ""
     }
    },
    "c2df367dff384285b53703c232cd6bbb": {
     "model_module": "@jupyter-widgets/base",
     "model_module_version": "1.2.0",
     "model_name": "LayoutModel",
     "state": {
      "_model_module": "@jupyter-widgets/base",
      "_model_module_version": "1.2.0",
      "_model_name": "LayoutModel",
      "_view_count": null,
      "_view_module": "@jupyter-widgets/base",
      "_view_module_version": "1.2.0",
      "_view_name": "LayoutView",
      "align_content": null,
      "align_items": null,
      "align_self": null,
      "border": null,
      "bottom": null,
      "display": "inline-flex",
      "flex": null,
      "flex_flow": "row wrap",
      "grid_area": null,
      "grid_auto_columns": null,
      "grid_auto_flow": null,
      "grid_auto_rows": null,
      "grid_column": null,
      "grid_gap": null,
      "grid_row": null,
      "grid_template_areas": null,
      "grid_template_columns": null,
      "grid_template_rows": null,
      "height": null,
      "justify_content": null,
      "justify_items": null,
      "left": null,
      "margin": null,
      "max_height": null,
      "max_width": null,
      "min_height": null,
      "min_width": null,
      "object_fit": null,
      "object_position": null,
      "order": null,
      "overflow": null,
      "overflow_x": null,
      "overflow_y": null,
      "padding": null,
      "right": null,
      "top": null,
      "visibility": null,
      "width": "100%"
     }
    },
    "cd727bf2214f417bb3880ba61ea8135a": {
     "model_module": "@jupyter-widgets/base",
     "model_module_version": "1.2.0",
     "model_name": "LayoutModel",
     "state": {
      "_model_module": "@jupyter-widgets/base",
      "_model_module_version": "1.2.0",
      "_model_name": "LayoutModel",
      "_view_count": null,
      "_view_module": "@jupyter-widgets/base",
      "_view_module_version": "1.2.0",
      "_view_name": "LayoutView",
      "align_content": null,
      "align_items": null,
      "align_self": null,
      "border": null,
      "bottom": null,
      "display": "inline-flex",
      "flex": null,
      "flex_flow": "row wrap",
      "grid_area": null,
      "grid_auto_columns": null,
      "grid_auto_flow": null,
      "grid_auto_rows": null,
      "grid_column": null,
      "grid_gap": null,
      "grid_row": null,
      "grid_template_areas": null,
      "grid_template_columns": null,
      "grid_template_rows": null,
      "height": null,
      "justify_content": null,
      "justify_items": null,
      "left": null,
      "margin": null,
      "max_height": null,
      "max_width": null,
      "min_height": null,
      "min_width": null,
      "object_fit": null,
      "object_position": null,
      "order": null,
      "overflow": null,
      "overflow_x": null,
      "overflow_y": null,
      "padding": null,
      "right": null,
      "top": null,
      "visibility": null,
      "width": "100%"
     }
    },
    "cdd43d1c23a24f8cb2189ed61e1f0a1e": {
     "model_module": "@jupyter-widgets/controls",
     "model_module_version": "1.5.0",
     "model_name": "HTMLModel",
     "state": {
      "_dom_classes": [],
      "_model_module": "@jupyter-widgets/controls",
      "_model_module_version": "1.5.0",
      "_model_name": "HTMLModel",
      "_view_count": null,
      "_view_module": "@jupyter-widgets/controls",
      "_view_module_version": "1.5.0",
      "_view_name": "HTMLView",
      "description": "",
      "description_tooltip": null,
      "layout": "IPY_MODEL_7d7697bc6cd74f3aa4829eb2dc4bd8d7",
      "placeholder": "​",
      "style": "IPY_MODEL_3032d83c92bf4d3f98117b465c7af5b6",
      "value": "Epoch 9: 100%"
     }
    },
    "d09dd7711b10420e93d9d3fb814c907f": {
     "model_module": "@jupyter-widgets/controls",
     "model_module_version": "1.5.0",
     "model_name": "DescriptionStyleModel",
     "state": {
      "_model_module": "@jupyter-widgets/controls",
      "_model_module_version": "1.5.0",
      "_model_name": "DescriptionStyleModel",
      "_view_count": null,
      "_view_module": "@jupyter-widgets/base",
      "_view_module_version": "1.2.0",
      "_view_name": "StyleView",
      "description_width": ""
     }
    },
    "d60756abac2a48a796f50ab28b5bed82": {
     "model_module": "@jupyter-widgets/controls",
     "model_module_version": "1.5.0",
     "model_name": "HTMLModel",
     "state": {
      "_dom_classes": [],
      "_model_module": "@jupyter-widgets/controls",
      "_model_module_version": "1.5.0",
      "_model_name": "HTMLModel",
      "_view_count": null,
      "_view_module": "@jupyter-widgets/controls",
      "_view_module_version": "1.5.0",
      "_view_name": "HTMLView",
      "description": "",
      "description_tooltip": null,
      "layout": "IPY_MODEL_34dad8aa8e7f45c6b3ab20e802438b00",
      "placeholder": "​",
      "style": "IPY_MODEL_3b62e8b7d19e479d80138a7907fdf830",
      "value": " 938/938 [00:13&lt;00:00, 70.67it/s, v_num=71, loss=0.0308]"
     }
    },
    "db6f372e1e684ee7a71972caccc6440b": {
     "model_module": "@jupyter-widgets/controls",
     "model_module_version": "1.5.0",
     "model_name": "ProgressStyleModel",
     "state": {
      "_model_module": "@jupyter-widgets/controls",
      "_model_module_version": "1.5.0",
      "_model_name": "ProgressStyleModel",
      "_view_count": null,
      "_view_module": "@jupyter-widgets/base",
      "_view_module_version": "1.2.0",
      "_view_name": "StyleView",
      "bar_color": null,
      "description_width": ""
     }
    }
   }
  }
 },
 "nbformat": 4,
 "nbformat_minor": 5
}
