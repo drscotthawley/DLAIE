{
  "cells": [
    {
      "cell_type": "markdown",
      "metadata": {
        "id": "KzQytHDwmv72"
      },
      "source": [
        "[![Open In Colab](https://colab.research.google.com/assets/colab-badge.svg)](https://colab.research.google.com/github/drscotthawley/DLAIE/blob/main/Lessons/05_Coding_Logistic_Regression.ipynb)\n",
        "\n",
        "*Note: GitHub.com does not render everything when viewing these notbeook files, so click the \"Open in Colab\" button above to see everything as it's intended.*"
      ]
    },
    {
      "cell_type": "markdown",
      "metadata": {
        "id": "oWfzAOtGRWqm"
      },
      "source": [
        "# Lesson: Coding (Binary) Classification, i.e. Logistic Regression"
      ]
    },
    {
      "cell_type": "markdown",
      "metadata": {
        "id": "eBPTcf47Rb1i"
      },
      "source": [
        "## First: JavaScript Demo (1D Data)\n",
        "Read through the \"[🎅 Naughty by Numbers:\n",
        "Classifications at Christmas](https://hedges.belmont.edu/naughty/)\" explorable JavaScript Demo.  You can skip the Appendix, but read everything else and \"play\" with the buttons/ run the demo.\n",
        "\n",
        "<a href=\"https://hedges.belmont.edu/naughty/\"><img alt=\"image of naughty by numbers demo\" src=\"https://hedges.belmont.edu/naughty/naughty2.png\"></a>"
      ]
    },
    {
      "cell_type": "markdown",
      "metadata": {
        "id": "LHGV6s1-l4WE"
      },
      "source": [
        "### Supplementary Intro Materials (2D Data, Optional)\n",
        "* Andrej Karpathy made an excellent [Javascript Demo for 2D data](https://cs.stanford.edu/people/karpathy/convnetjs/demo/classify2d.html).\n",
        "* SciKit-Learn has a great [comparison of different methods of classification](https://scikit-learn.org/stable/auto_examples/classification/plot_classifier_comparison.html): ![scikit classifier comparison image](https://scikit-learn.org/stable/_images/sphx_glr_plot_classifier_comparison_001.png)"
      ]
    },
    {
      "cell_type": "markdown",
      "metadata": {
        "id": "vBTP8ja1lo9f"
      },
      "source": [
        "## Second: Let's Make Some Data\n"
      ]
    },
    {
      "cell_type": "markdown",
      "metadata": {
        "id": "0LDIKGIjnFkc"
      },
      "source": [
        "### 3D Data from Iris Flowers\n",
        "We'll start with the [Iris Flowers Dataset](https://en.wikipedia.org/wiki/Iris_flower_data_set) which conveniently is used for demos of [3D Scatter Plots in Plotly](https://plotly.com/python/3d-scatter-plots/)."
      ]
    },
    {
      "cell_type": "code",
      "execution_count": null,
      "metadata": {
        "id": "bSnNHRXVn1jl"
      },
      "outputs": [],
      "source": [
        "# if you're on Kaggle, uncomment and run the next line. Not needed on Colab\n",
        "#!pip install plotly matplotlib numpy pandas"
      ]
    },
    {
      "cell_type": "code",
      "execution_count": null,
      "metadata": {
        "id": "U8kSa3FSzmbv"
      },
      "outputs": [],
      "source": [
        "import plotly.express as px\n",
        "import plotly.graph_objects as go\n",
        "import numpy as np\n",
        "import matplotlib.pyplot as plt\n",
        "import pandas as pd\n",
        "from tqdm import tqdm   # combines an iterator and a progress bar"
      ]
    },
    {
      "cell_type": "code",
      "execution_count": null,
      "metadata": {
        "colab": {
          "base_uri": "https://localhost:8080/",
          "height": 542
        },
        "id": "XD2AKhWbRbOV",
        "outputId": "ecde6067-6868-4541-d283-5feb40b2dba6"
      },
      "outputs": [
        {
          "data": {
            "application/vnd.plotly.v1+json": {
              "config": {
                "plotlyServerURL": "https://plot.ly"
              },
              "data": [
                {
                  "hovertemplate": "species=versicolor<br>sepal_length=%{x}<br>sepal_width=%{y}<br>petal_width=%{z}<extra></extra>",
                  "legendgroup": "versicolor",
                  "marker": {
                    "color": "#636efa",
                    "symbol": "circle"
                  },
                  "mode": "markers",
                  "name": "versicolor",
                  "scene": "scene",
                  "showlegend": true,
                  "type": "scatter3d",
                  "x": [
                    7,
                    6.4,
                    6.9,
                    5.5,
                    6.5,
                    5.7,
                    6.3,
                    4.9,
                    6.6,
                    5.2,
                    5,
                    5.9,
                    6,
                    6.1,
                    5.6,
                    6.7,
                    5.6,
                    5.8,
                    6.2,
                    5.6,
                    5.9,
                    6.1,
                    6.3,
                    6.1,
                    6.4,
                    6.6,
                    6.8,
                    6.7,
                    6,
                    5.7,
                    5.5,
                    5.5,
                    5.8,
                    6,
                    5.4,
                    6,
                    6.7,
                    6.3,
                    5.6,
                    5.5,
                    5.5,
                    6.1,
                    5.8,
                    5,
                    5.6,
                    5.7,
                    5.7,
                    6.2,
                    5.1,
                    5.7
                  ],
                  "y": [
                    3.2,
                    3.2,
                    3.1,
                    2.3,
                    2.8,
                    2.8,
                    3.3,
                    2.4,
                    2.9,
                    2.7,
                    2,
                    3,
                    2.2,
                    2.9,
                    2.9,
                    3.1,
                    3,
                    2.7,
                    2.2,
                    2.5,
                    3.2,
                    2.8,
                    2.5,
                    2.8,
                    2.9,
                    3,
                    2.8,
                    3,
                    2.9,
                    2.6,
                    2.4,
                    2.4,
                    2.7,
                    2.7,
                    3,
                    3.4,
                    3.1,
                    2.3,
                    3,
                    2.5,
                    2.6,
                    3,
                    2.6,
                    2.3,
                    2.7,
                    3,
                    2.9,
                    2.9,
                    2.5,
                    2.8
                  ],
                  "z": [
                    1.4,
                    1.5,
                    1.5,
                    1.3,
                    1.5,
                    1.3,
                    1.6,
                    1,
                    1.3,
                    1.4,
                    1,
                    1.5,
                    1,
                    1.4,
                    1.3,
                    1.4,
                    1.5,
                    1,
                    1.5,
                    1.1,
                    1.8,
                    1.3,
                    1.5,
                    1.2,
                    1.3,
                    1.4,
                    1.4,
                    1.7,
                    1.5,
                    1,
                    1.1,
                    1,
                    1.2,
                    1.6,
                    1.5,
                    1.6,
                    1.5,
                    1.3,
                    1.3,
                    1.3,
                    1.2,
                    1.4,
                    1.2,
                    1,
                    1.3,
                    1.2,
                    1.3,
                    1.3,
                    1.1,
                    1.3
                  ]
                },
                {
                  "hovertemplate": "species=virginica<br>sepal_length=%{x}<br>sepal_width=%{y}<br>petal_width=%{z}<extra></extra>",
                  "legendgroup": "virginica",
                  "marker": {
                    "color": "#EF553B",
                    "symbol": "circle"
                  },
                  "mode": "markers",
                  "name": "virginica",
                  "scene": "scene",
                  "showlegend": true,
                  "type": "scatter3d",
                  "x": [
                    6.3,
                    5.8,
                    7.1,
                    6.3,
                    6.5,
                    7.6,
                    4.9,
                    7.3,
                    6.7,
                    7.2,
                    6.5,
                    6.4,
                    6.8,
                    5.7,
                    5.8,
                    6.4,
                    6.5,
                    7.7,
                    7.7,
                    6,
                    6.9,
                    5.6,
                    7.7,
                    6.3,
                    6.7,
                    7.2,
                    6.2,
                    6.1,
                    6.4,
                    7.2,
                    7.4,
                    7.9,
                    6.4,
                    6.3,
                    6.1,
                    7.7,
                    6.3,
                    6.4,
                    6,
                    6.9,
                    6.7,
                    6.9,
                    5.8,
                    6.8,
                    6.7,
                    6.7,
                    6.3,
                    6.5,
                    6.2,
                    5.9
                  ],
                  "y": [
                    3.3,
                    2.7,
                    3,
                    2.9,
                    3,
                    3,
                    2.5,
                    2.9,
                    2.5,
                    3.6,
                    3.2,
                    2.7,
                    3,
                    2.5,
                    2.8,
                    3.2,
                    3,
                    3.8,
                    2.6,
                    2.2,
                    3.2,
                    2.8,
                    2.8,
                    2.7,
                    3.3,
                    3.2,
                    2.8,
                    3,
                    2.8,
                    3,
                    2.8,
                    3.8,
                    2.8,
                    2.8,
                    2.6,
                    3,
                    3.4,
                    3.1,
                    3,
                    3.1,
                    3.1,
                    3.1,
                    2.7,
                    3.2,
                    3.3,
                    3,
                    2.5,
                    3,
                    3.4,
                    3
                  ],
                  "z": [
                    2.5,
                    1.9,
                    2.1,
                    1.8,
                    2.2,
                    2.1,
                    1.7,
                    1.8,
                    1.8,
                    2.5,
                    2,
                    1.9,
                    2.1,
                    2,
                    2.4,
                    2.3,
                    1.8,
                    2.2,
                    2.3,
                    1.5,
                    2.3,
                    2,
                    2,
                    1.8,
                    2.1,
                    1.8,
                    1.8,
                    1.8,
                    2.1,
                    1.6,
                    1.9,
                    2,
                    2.2,
                    1.5,
                    1.4,
                    2.3,
                    2.4,
                    1.8,
                    1.8,
                    2.1,
                    2.4,
                    2.3,
                    1.9,
                    2.3,
                    2.5,
                    2.3,
                    1.9,
                    2,
                    2.3,
                    1.8
                  ]
                }
              ],
              "layout": {
                "legend": {
                  "title": {
                    "text": "species"
                  },
                  "tracegroupgap": 0
                },
                "margin": {
                  "t": 60
                },
                "scene": {
                  "domain": {
                    "x": [
                      0,
                      1
                    ],
                    "y": [
                      0,
                      1
                    ]
                  },
                  "xaxis": {
                    "title": {
                      "text": "sepal_length"
                    }
                  },
                  "yaxis": {
                    "title": {
                      "text": "sepal_width"
                    }
                  },
                  "zaxis": {
                    "title": {
                      "text": "petal_width"
                    }
                  }
                },
                "template": {
                  "data": {
                    "bar": [
                      {
                        "error_x": {
                          "color": "#2a3f5f"
                        },
                        "error_y": {
                          "color": "#2a3f5f"
                        },
                        "marker": {
                          "line": {
                            "color": "#E5ECF6",
                            "width": 0.5
                          },
                          "pattern": {
                            "fillmode": "overlay",
                            "size": 10,
                            "solidity": 0.2
                          }
                        },
                        "type": "bar"
                      }
                    ],
                    "barpolar": [
                      {
                        "marker": {
                          "line": {
                            "color": "#E5ECF6",
                            "width": 0.5
                          },
                          "pattern": {
                            "fillmode": "overlay",
                            "size": 10,
                            "solidity": 0.2
                          }
                        },
                        "type": "barpolar"
                      }
                    ],
                    "carpet": [
                      {
                        "aaxis": {
                          "endlinecolor": "#2a3f5f",
                          "gridcolor": "white",
                          "linecolor": "white",
                          "minorgridcolor": "white",
                          "startlinecolor": "#2a3f5f"
                        },
                        "baxis": {
                          "endlinecolor": "#2a3f5f",
                          "gridcolor": "white",
                          "linecolor": "white",
                          "minorgridcolor": "white",
                          "startlinecolor": "#2a3f5f"
                        },
                        "type": "carpet"
                      }
                    ],
                    "choropleth": [
                      {
                        "colorbar": {
                          "outlinewidth": 0,
                          "ticks": ""
                        },
                        "type": "choropleth"
                      }
                    ],
                    "contour": [
                      {
                        "colorbar": {
                          "outlinewidth": 0,
                          "ticks": ""
                        },
                        "colorscale": [
                          [
                            0,
                            "#0d0887"
                          ],
                          [
                            0.1111111111111111,
                            "#46039f"
                          ],
                          [
                            0.2222222222222222,
                            "#7201a8"
                          ],
                          [
                            0.3333333333333333,
                            "#9c179e"
                          ],
                          [
                            0.4444444444444444,
                            "#bd3786"
                          ],
                          [
                            0.5555555555555556,
                            "#d8576b"
                          ],
                          [
                            0.6666666666666666,
                            "#ed7953"
                          ],
                          [
                            0.7777777777777778,
                            "#fb9f3a"
                          ],
                          [
                            0.8888888888888888,
                            "#fdca26"
                          ],
                          [
                            1,
                            "#f0f921"
                          ]
                        ],
                        "type": "contour"
                      }
                    ],
                    "contourcarpet": [
                      {
                        "colorbar": {
                          "outlinewidth": 0,
                          "ticks": ""
                        },
                        "type": "contourcarpet"
                      }
                    ],
                    "heatmap": [
                      {
                        "colorbar": {
                          "outlinewidth": 0,
                          "ticks": ""
                        },
                        "colorscale": [
                          [
                            0,
                            "#0d0887"
                          ],
                          [
                            0.1111111111111111,
                            "#46039f"
                          ],
                          [
                            0.2222222222222222,
                            "#7201a8"
                          ],
                          [
                            0.3333333333333333,
                            "#9c179e"
                          ],
                          [
                            0.4444444444444444,
                            "#bd3786"
                          ],
                          [
                            0.5555555555555556,
                            "#d8576b"
                          ],
                          [
                            0.6666666666666666,
                            "#ed7953"
                          ],
                          [
                            0.7777777777777778,
                            "#fb9f3a"
                          ],
                          [
                            0.8888888888888888,
                            "#fdca26"
                          ],
                          [
                            1,
                            "#f0f921"
                          ]
                        ],
                        "type": "heatmap"
                      }
                    ],
                    "heatmapgl": [
                      {
                        "colorbar": {
                          "outlinewidth": 0,
                          "ticks": ""
                        },
                        "colorscale": [
                          [
                            0,
                            "#0d0887"
                          ],
                          [
                            0.1111111111111111,
                            "#46039f"
                          ],
                          [
                            0.2222222222222222,
                            "#7201a8"
                          ],
                          [
                            0.3333333333333333,
                            "#9c179e"
                          ],
                          [
                            0.4444444444444444,
                            "#bd3786"
                          ],
                          [
                            0.5555555555555556,
                            "#d8576b"
                          ],
                          [
                            0.6666666666666666,
                            "#ed7953"
                          ],
                          [
                            0.7777777777777778,
                            "#fb9f3a"
                          ],
                          [
                            0.8888888888888888,
                            "#fdca26"
                          ],
                          [
                            1,
                            "#f0f921"
                          ]
                        ],
                        "type": "heatmapgl"
                      }
                    ],
                    "histogram": [
                      {
                        "marker": {
                          "pattern": {
                            "fillmode": "overlay",
                            "size": 10,
                            "solidity": 0.2
                          }
                        },
                        "type": "histogram"
                      }
                    ],
                    "histogram2d": [
                      {
                        "colorbar": {
                          "outlinewidth": 0,
                          "ticks": ""
                        },
                        "colorscale": [
                          [
                            0,
                            "#0d0887"
                          ],
                          [
                            0.1111111111111111,
                            "#46039f"
                          ],
                          [
                            0.2222222222222222,
                            "#7201a8"
                          ],
                          [
                            0.3333333333333333,
                            "#9c179e"
                          ],
                          [
                            0.4444444444444444,
                            "#bd3786"
                          ],
                          [
                            0.5555555555555556,
                            "#d8576b"
                          ],
                          [
                            0.6666666666666666,
                            "#ed7953"
                          ],
                          [
                            0.7777777777777778,
                            "#fb9f3a"
                          ],
                          [
                            0.8888888888888888,
                            "#fdca26"
                          ],
                          [
                            1,
                            "#f0f921"
                          ]
                        ],
                        "type": "histogram2d"
                      }
                    ],
                    "histogram2dcontour": [
                      {
                        "colorbar": {
                          "outlinewidth": 0,
                          "ticks": ""
                        },
                        "colorscale": [
                          [
                            0,
                            "#0d0887"
                          ],
                          [
                            0.1111111111111111,
                            "#46039f"
                          ],
                          [
                            0.2222222222222222,
                            "#7201a8"
                          ],
                          [
                            0.3333333333333333,
                            "#9c179e"
                          ],
                          [
                            0.4444444444444444,
                            "#bd3786"
                          ],
                          [
                            0.5555555555555556,
                            "#d8576b"
                          ],
                          [
                            0.6666666666666666,
                            "#ed7953"
                          ],
                          [
                            0.7777777777777778,
                            "#fb9f3a"
                          ],
                          [
                            0.8888888888888888,
                            "#fdca26"
                          ],
                          [
                            1,
                            "#f0f921"
                          ]
                        ],
                        "type": "histogram2dcontour"
                      }
                    ],
                    "mesh3d": [
                      {
                        "colorbar": {
                          "outlinewidth": 0,
                          "ticks": ""
                        },
                        "type": "mesh3d"
                      }
                    ],
                    "parcoords": [
                      {
                        "line": {
                          "colorbar": {
                            "outlinewidth": 0,
                            "ticks": ""
                          }
                        },
                        "type": "parcoords"
                      }
                    ],
                    "pie": [
                      {
                        "automargin": true,
                        "type": "pie"
                      }
                    ],
                    "scatter": [
                      {
                        "fillpattern": {
                          "fillmode": "overlay",
                          "size": 10,
                          "solidity": 0.2
                        },
                        "type": "scatter"
                      }
                    ],
                    "scatter3d": [
                      {
                        "line": {
                          "colorbar": {
                            "outlinewidth": 0,
                            "ticks": ""
                          }
                        },
                        "marker": {
                          "colorbar": {
                            "outlinewidth": 0,
                            "ticks": ""
                          }
                        },
                        "type": "scatter3d"
                      }
                    ],
                    "scattercarpet": [
                      {
                        "marker": {
                          "colorbar": {
                            "outlinewidth": 0,
                            "ticks": ""
                          }
                        },
                        "type": "scattercarpet"
                      }
                    ],
                    "scattergeo": [
                      {
                        "marker": {
                          "colorbar": {
                            "outlinewidth": 0,
                            "ticks": ""
                          }
                        },
                        "type": "scattergeo"
                      }
                    ],
                    "scattergl": [
                      {
                        "marker": {
                          "colorbar": {
                            "outlinewidth": 0,
                            "ticks": ""
                          }
                        },
                        "type": "scattergl"
                      }
                    ],
                    "scattermapbox": [
                      {
                        "marker": {
                          "colorbar": {
                            "outlinewidth": 0,
                            "ticks": ""
                          }
                        },
                        "type": "scattermapbox"
                      }
                    ],
                    "scatterpolar": [
                      {
                        "marker": {
                          "colorbar": {
                            "outlinewidth": 0,
                            "ticks": ""
                          }
                        },
                        "type": "scatterpolar"
                      }
                    ],
                    "scatterpolargl": [
                      {
                        "marker": {
                          "colorbar": {
                            "outlinewidth": 0,
                            "ticks": ""
                          }
                        },
                        "type": "scatterpolargl"
                      }
                    ],
                    "scatterternary": [
                      {
                        "marker": {
                          "colorbar": {
                            "outlinewidth": 0,
                            "ticks": ""
                          }
                        },
                        "type": "scatterternary"
                      }
                    ],
                    "surface": [
                      {
                        "colorbar": {
                          "outlinewidth": 0,
                          "ticks": ""
                        },
                        "colorscale": [
                          [
                            0,
                            "#0d0887"
                          ],
                          [
                            0.1111111111111111,
                            "#46039f"
                          ],
                          [
                            0.2222222222222222,
                            "#7201a8"
                          ],
                          [
                            0.3333333333333333,
                            "#9c179e"
                          ],
                          [
                            0.4444444444444444,
                            "#bd3786"
                          ],
                          [
                            0.5555555555555556,
                            "#d8576b"
                          ],
                          [
                            0.6666666666666666,
                            "#ed7953"
                          ],
                          [
                            0.7777777777777778,
                            "#fb9f3a"
                          ],
                          [
                            0.8888888888888888,
                            "#fdca26"
                          ],
                          [
                            1,
                            "#f0f921"
                          ]
                        ],
                        "type": "surface"
                      }
                    ],
                    "table": [
                      {
                        "cells": {
                          "fill": {
                            "color": "#EBF0F8"
                          },
                          "line": {
                            "color": "white"
                          }
                        },
                        "header": {
                          "fill": {
                            "color": "#C8D4E3"
                          },
                          "line": {
                            "color": "white"
                          }
                        },
                        "type": "table"
                      }
                    ]
                  },
                  "layout": {
                    "annotationdefaults": {
                      "arrowcolor": "#2a3f5f",
                      "arrowhead": 0,
                      "arrowwidth": 1
                    },
                    "autotypenumbers": "strict",
                    "coloraxis": {
                      "colorbar": {
                        "outlinewidth": 0,
                        "ticks": ""
                      }
                    },
                    "colorscale": {
                      "diverging": [
                        [
                          0,
                          "#8e0152"
                        ],
                        [
                          0.1,
                          "#c51b7d"
                        ],
                        [
                          0.2,
                          "#de77ae"
                        ],
                        [
                          0.3,
                          "#f1b6da"
                        ],
                        [
                          0.4,
                          "#fde0ef"
                        ],
                        [
                          0.5,
                          "#f7f7f7"
                        ],
                        [
                          0.6,
                          "#e6f5d0"
                        ],
                        [
                          0.7,
                          "#b8e186"
                        ],
                        [
                          0.8,
                          "#7fbc41"
                        ],
                        [
                          0.9,
                          "#4d9221"
                        ],
                        [
                          1,
                          "#276419"
                        ]
                      ],
                      "sequential": [
                        [
                          0,
                          "#0d0887"
                        ],
                        [
                          0.1111111111111111,
                          "#46039f"
                        ],
                        [
                          0.2222222222222222,
                          "#7201a8"
                        ],
                        [
                          0.3333333333333333,
                          "#9c179e"
                        ],
                        [
                          0.4444444444444444,
                          "#bd3786"
                        ],
                        [
                          0.5555555555555556,
                          "#d8576b"
                        ],
                        [
                          0.6666666666666666,
                          "#ed7953"
                        ],
                        [
                          0.7777777777777778,
                          "#fb9f3a"
                        ],
                        [
                          0.8888888888888888,
                          "#fdca26"
                        ],
                        [
                          1,
                          "#f0f921"
                        ]
                      ],
                      "sequentialminus": [
                        [
                          0,
                          "#0d0887"
                        ],
                        [
                          0.1111111111111111,
                          "#46039f"
                        ],
                        [
                          0.2222222222222222,
                          "#7201a8"
                        ],
                        [
                          0.3333333333333333,
                          "#9c179e"
                        ],
                        [
                          0.4444444444444444,
                          "#bd3786"
                        ],
                        [
                          0.5555555555555556,
                          "#d8576b"
                        ],
                        [
                          0.6666666666666666,
                          "#ed7953"
                        ],
                        [
                          0.7777777777777778,
                          "#fb9f3a"
                        ],
                        [
                          0.8888888888888888,
                          "#fdca26"
                        ],
                        [
                          1,
                          "#f0f921"
                        ]
                      ]
                    },
                    "colorway": [
                      "#636efa",
                      "#EF553B",
                      "#00cc96",
                      "#ab63fa",
                      "#FFA15A",
                      "#19d3f3",
                      "#FF6692",
                      "#B6E880",
                      "#FF97FF",
                      "#FECB52"
                    ],
                    "font": {
                      "color": "#2a3f5f"
                    },
                    "geo": {
                      "bgcolor": "white",
                      "lakecolor": "white",
                      "landcolor": "#E5ECF6",
                      "showlakes": true,
                      "showland": true,
                      "subunitcolor": "white"
                    },
                    "hoverlabel": {
                      "align": "left"
                    },
                    "hovermode": "closest",
                    "mapbox": {
                      "style": "light"
                    },
                    "paper_bgcolor": "white",
                    "plot_bgcolor": "#E5ECF6",
                    "polar": {
                      "angularaxis": {
                        "gridcolor": "white",
                        "linecolor": "white",
                        "ticks": ""
                      },
                      "bgcolor": "#E5ECF6",
                      "radialaxis": {
                        "gridcolor": "white",
                        "linecolor": "white",
                        "ticks": ""
                      }
                    },
                    "scene": {
                      "xaxis": {
                        "backgroundcolor": "#E5ECF6",
                        "gridcolor": "white",
                        "gridwidth": 2,
                        "linecolor": "white",
                        "showbackground": true,
                        "ticks": "",
                        "zerolinecolor": "white"
                      },
                      "yaxis": {
                        "backgroundcolor": "#E5ECF6",
                        "gridcolor": "white",
                        "gridwidth": 2,
                        "linecolor": "white",
                        "showbackground": true,
                        "ticks": "",
                        "zerolinecolor": "white"
                      },
                      "zaxis": {
                        "backgroundcolor": "#E5ECF6",
                        "gridcolor": "white",
                        "gridwidth": 2,
                        "linecolor": "white",
                        "showbackground": true,
                        "ticks": "",
                        "zerolinecolor": "white"
                      }
                    },
                    "shapedefaults": {
                      "line": {
                        "color": "#2a3f5f"
                      }
                    },
                    "ternary": {
                      "aaxis": {
                        "gridcolor": "white",
                        "linecolor": "white",
                        "ticks": ""
                      },
                      "baxis": {
                        "gridcolor": "white",
                        "linecolor": "white",
                        "ticks": ""
                      },
                      "bgcolor": "#E5ECF6",
                      "caxis": {
                        "gridcolor": "white",
                        "linecolor": "white",
                        "ticks": ""
                      }
                    },
                    "title": {
                      "x": 0.05
                    },
                    "xaxis": {
                      "automargin": true,
                      "gridcolor": "white",
                      "linecolor": "white",
                      "ticks": "",
                      "title": {
                        "standoff": 15
                      },
                      "zerolinecolor": "white",
                      "zerolinewidth": 2
                    },
                    "yaxis": {
                      "automargin": true,
                      "gridcolor": "white",
                      "linecolor": "white",
                      "ticks": "",
                      "title": {
                        "standoff": 15
                      },
                      "zerolinecolor": "white",
                      "zerolinewidth": 2
                    }
                  }
                }
              }
            },
            "text/html": [
              "<div>                            <div id=\"cb821351-b91b-471b-b5b5-94fdc5bec3ea\" class=\"plotly-graph-div\" style=\"height:525px; width:100%;\"></div>            <script type=\"text/javascript\">                require([\"plotly\"], function(Plotly) {                    window.PLOTLYENV=window.PLOTLYENV || {};                                    if (document.getElementById(\"cb821351-b91b-471b-b5b5-94fdc5bec3ea\")) {                    Plotly.newPlot(                        \"cb821351-b91b-471b-b5b5-94fdc5bec3ea\",                        [{\"hovertemplate\":\"species=versicolor\\u003cbr\\u003esepal_length=%{x}\\u003cbr\\u003esepal_width=%{y}\\u003cbr\\u003epetal_width=%{z}\\u003cextra\\u003e\\u003c\\u002fextra\\u003e\",\"legendgroup\":\"versicolor\",\"marker\":{\"color\":\"#636efa\",\"symbol\":\"circle\"},\"mode\":\"markers\",\"name\":\"versicolor\",\"scene\":\"scene\",\"showlegend\":true,\"x\":[7.0,6.4,6.9,5.5,6.5,5.7,6.3,4.9,6.6,5.2,5.0,5.9,6.0,6.1,5.6,6.7,5.6,5.8,6.2,5.6,5.9,6.1,6.3,6.1,6.4,6.6,6.8,6.7,6.0,5.7,5.5,5.5,5.8,6.0,5.4,6.0,6.7,6.3,5.6,5.5,5.5,6.1,5.8,5.0,5.6,5.7,5.7,6.2,5.1,5.7],\"y\":[3.2,3.2,3.1,2.3,2.8,2.8,3.3,2.4,2.9,2.7,2.0,3.0,2.2,2.9,2.9,3.1,3.0,2.7,2.2,2.5,3.2,2.8,2.5,2.8,2.9,3.0,2.8,3.0,2.9,2.6,2.4,2.4,2.7,2.7,3.0,3.4,3.1,2.3,3.0,2.5,2.6,3.0,2.6,2.3,2.7,3.0,2.9,2.9,2.5,2.8],\"z\":[1.4,1.5,1.5,1.3,1.5,1.3,1.6,1.0,1.3,1.4,1.0,1.5,1.0,1.4,1.3,1.4,1.5,1.0,1.5,1.1,1.8,1.3,1.5,1.2,1.3,1.4,1.4,1.7,1.5,1.0,1.1,1.0,1.2,1.6,1.5,1.6,1.5,1.3,1.3,1.3,1.2,1.4,1.2,1.0,1.3,1.2,1.3,1.3,1.1,1.3],\"type\":\"scatter3d\"},{\"hovertemplate\":\"species=virginica\\u003cbr\\u003esepal_length=%{x}\\u003cbr\\u003esepal_width=%{y}\\u003cbr\\u003epetal_width=%{z}\\u003cextra\\u003e\\u003c\\u002fextra\\u003e\",\"legendgroup\":\"virginica\",\"marker\":{\"color\":\"#EF553B\",\"symbol\":\"circle\"},\"mode\":\"markers\",\"name\":\"virginica\",\"scene\":\"scene\",\"showlegend\":true,\"x\":[6.3,5.8,7.1,6.3,6.5,7.6,4.9,7.3,6.7,7.2,6.5,6.4,6.8,5.7,5.8,6.4,6.5,7.7,7.7,6.0,6.9,5.6,7.7,6.3,6.7,7.2,6.2,6.1,6.4,7.2,7.4,7.9,6.4,6.3,6.1,7.7,6.3,6.4,6.0,6.9,6.7,6.9,5.8,6.8,6.7,6.7,6.3,6.5,6.2,5.9],\"y\":[3.3,2.7,3.0,2.9,3.0,3.0,2.5,2.9,2.5,3.6,3.2,2.7,3.0,2.5,2.8,3.2,3.0,3.8,2.6,2.2,3.2,2.8,2.8,2.7,3.3,3.2,2.8,3.0,2.8,3.0,2.8,3.8,2.8,2.8,2.6,3.0,3.4,3.1,3.0,3.1,3.1,3.1,2.7,3.2,3.3,3.0,2.5,3.0,3.4,3.0],\"z\":[2.5,1.9,2.1,1.8,2.2,2.1,1.7,1.8,1.8,2.5,2.0,1.9,2.1,2.0,2.4,2.3,1.8,2.2,2.3,1.5,2.3,2.0,2.0,1.8,2.1,1.8,1.8,1.8,2.1,1.6,1.9,2.0,2.2,1.5,1.4,2.3,2.4,1.8,1.8,2.1,2.4,2.3,1.9,2.3,2.5,2.3,1.9,2.0,2.3,1.8],\"type\":\"scatter3d\"}],                        {\"template\":{\"data\":{\"histogram2dcontour\":[{\"type\":\"histogram2dcontour\",\"colorbar\":{\"outlinewidth\":0,\"ticks\":\"\"},\"colorscale\":[[0.0,\"#0d0887\"],[0.1111111111111111,\"#46039f\"],[0.2222222222222222,\"#7201a8\"],[0.3333333333333333,\"#9c179e\"],[0.4444444444444444,\"#bd3786\"],[0.5555555555555556,\"#d8576b\"],[0.6666666666666666,\"#ed7953\"],[0.7777777777777778,\"#fb9f3a\"],[0.8888888888888888,\"#fdca26\"],[1.0,\"#f0f921\"]]}],\"choropleth\":[{\"type\":\"choropleth\",\"colorbar\":{\"outlinewidth\":0,\"ticks\":\"\"}}],\"histogram2d\":[{\"type\":\"histogram2d\",\"colorbar\":{\"outlinewidth\":0,\"ticks\":\"\"},\"colorscale\":[[0.0,\"#0d0887\"],[0.1111111111111111,\"#46039f\"],[0.2222222222222222,\"#7201a8\"],[0.3333333333333333,\"#9c179e\"],[0.4444444444444444,\"#bd3786\"],[0.5555555555555556,\"#d8576b\"],[0.6666666666666666,\"#ed7953\"],[0.7777777777777778,\"#fb9f3a\"],[0.8888888888888888,\"#fdca26\"],[1.0,\"#f0f921\"]]}],\"heatmap\":[{\"type\":\"heatmap\",\"colorbar\":{\"outlinewidth\":0,\"ticks\":\"\"},\"colorscale\":[[0.0,\"#0d0887\"],[0.1111111111111111,\"#46039f\"],[0.2222222222222222,\"#7201a8\"],[0.3333333333333333,\"#9c179e\"],[0.4444444444444444,\"#bd3786\"],[0.5555555555555556,\"#d8576b\"],[0.6666666666666666,\"#ed7953\"],[0.7777777777777778,\"#fb9f3a\"],[0.8888888888888888,\"#fdca26\"],[1.0,\"#f0f921\"]]}],\"heatmapgl\":[{\"type\":\"heatmapgl\",\"colorbar\":{\"outlinewidth\":0,\"ticks\":\"\"},\"colorscale\":[[0.0,\"#0d0887\"],[0.1111111111111111,\"#46039f\"],[0.2222222222222222,\"#7201a8\"],[0.3333333333333333,\"#9c179e\"],[0.4444444444444444,\"#bd3786\"],[0.5555555555555556,\"#d8576b\"],[0.6666666666666666,\"#ed7953\"],[0.7777777777777778,\"#fb9f3a\"],[0.8888888888888888,\"#fdca26\"],[1.0,\"#f0f921\"]]}],\"contourcarpet\":[{\"type\":\"contourcarpet\",\"colorbar\":{\"outlinewidth\":0,\"ticks\":\"\"}}],\"contour\":[{\"type\":\"contour\",\"colorbar\":{\"outlinewidth\":0,\"ticks\":\"\"},\"colorscale\":[[0.0,\"#0d0887\"],[0.1111111111111111,\"#46039f\"],[0.2222222222222222,\"#7201a8\"],[0.3333333333333333,\"#9c179e\"],[0.4444444444444444,\"#bd3786\"],[0.5555555555555556,\"#d8576b\"],[0.6666666666666666,\"#ed7953\"],[0.7777777777777778,\"#fb9f3a\"],[0.8888888888888888,\"#fdca26\"],[1.0,\"#f0f921\"]]}],\"surface\":[{\"type\":\"surface\",\"colorbar\":{\"outlinewidth\":0,\"ticks\":\"\"},\"colorscale\":[[0.0,\"#0d0887\"],[0.1111111111111111,\"#46039f\"],[0.2222222222222222,\"#7201a8\"],[0.3333333333333333,\"#9c179e\"],[0.4444444444444444,\"#bd3786\"],[0.5555555555555556,\"#d8576b\"],[0.6666666666666666,\"#ed7953\"],[0.7777777777777778,\"#fb9f3a\"],[0.8888888888888888,\"#fdca26\"],[1.0,\"#f0f921\"]]}],\"mesh3d\":[{\"type\":\"mesh3d\",\"colorbar\":{\"outlinewidth\":0,\"ticks\":\"\"}}],\"scatter\":[{\"fillpattern\":{\"fillmode\":\"overlay\",\"size\":10,\"solidity\":0.2},\"type\":\"scatter\"}],\"parcoords\":[{\"type\":\"parcoords\",\"line\":{\"colorbar\":{\"outlinewidth\":0,\"ticks\":\"\"}}}],\"scatterpolargl\":[{\"type\":\"scatterpolargl\",\"marker\":{\"colorbar\":{\"outlinewidth\":0,\"ticks\":\"\"}}}],\"bar\":[{\"error_x\":{\"color\":\"#2a3f5f\"},\"error_y\":{\"color\":\"#2a3f5f\"},\"marker\":{\"line\":{\"color\":\"#E5ECF6\",\"width\":0.5},\"pattern\":{\"fillmode\":\"overlay\",\"size\":10,\"solidity\":0.2}},\"type\":\"bar\"}],\"scattergeo\":[{\"type\":\"scattergeo\",\"marker\":{\"colorbar\":{\"outlinewidth\":0,\"ticks\":\"\"}}}],\"scatterpolar\":[{\"type\":\"scatterpolar\",\"marker\":{\"colorbar\":{\"outlinewidth\":0,\"ticks\":\"\"}}}],\"histogram\":[{\"marker\":{\"pattern\":{\"fillmode\":\"overlay\",\"size\":10,\"solidity\":0.2}},\"type\":\"histogram\"}],\"scattergl\":[{\"type\":\"scattergl\",\"marker\":{\"colorbar\":{\"outlinewidth\":0,\"ticks\":\"\"}}}],\"scatter3d\":[{\"type\":\"scatter3d\",\"line\":{\"colorbar\":{\"outlinewidth\":0,\"ticks\":\"\"}},\"marker\":{\"colorbar\":{\"outlinewidth\":0,\"ticks\":\"\"}}}],\"scattermapbox\":[{\"type\":\"scattermapbox\",\"marker\":{\"colorbar\":{\"outlinewidth\":0,\"ticks\":\"\"}}}],\"scatterternary\":[{\"type\":\"scatterternary\",\"marker\":{\"colorbar\":{\"outlinewidth\":0,\"ticks\":\"\"}}}],\"scattercarpet\":[{\"type\":\"scattercarpet\",\"marker\":{\"colorbar\":{\"outlinewidth\":0,\"ticks\":\"\"}}}],\"carpet\":[{\"aaxis\":{\"endlinecolor\":\"#2a3f5f\",\"gridcolor\":\"white\",\"linecolor\":\"white\",\"minorgridcolor\":\"white\",\"startlinecolor\":\"#2a3f5f\"},\"baxis\":{\"endlinecolor\":\"#2a3f5f\",\"gridcolor\":\"white\",\"linecolor\":\"white\",\"minorgridcolor\":\"white\",\"startlinecolor\":\"#2a3f5f\"},\"type\":\"carpet\"}],\"table\":[{\"cells\":{\"fill\":{\"color\":\"#EBF0F8\"},\"line\":{\"color\":\"white\"}},\"header\":{\"fill\":{\"color\":\"#C8D4E3\"},\"line\":{\"color\":\"white\"}},\"type\":\"table\"}],\"barpolar\":[{\"marker\":{\"line\":{\"color\":\"#E5ECF6\",\"width\":0.5},\"pattern\":{\"fillmode\":\"overlay\",\"size\":10,\"solidity\":0.2}},\"type\":\"barpolar\"}],\"pie\":[{\"automargin\":true,\"type\":\"pie\"}]},\"layout\":{\"autotypenumbers\":\"strict\",\"colorway\":[\"#636efa\",\"#EF553B\",\"#00cc96\",\"#ab63fa\",\"#FFA15A\",\"#19d3f3\",\"#FF6692\",\"#B6E880\",\"#FF97FF\",\"#FECB52\"],\"font\":{\"color\":\"#2a3f5f\"},\"hovermode\":\"closest\",\"hoverlabel\":{\"align\":\"left\"},\"paper_bgcolor\":\"white\",\"plot_bgcolor\":\"#E5ECF6\",\"polar\":{\"bgcolor\":\"#E5ECF6\",\"angularaxis\":{\"gridcolor\":\"white\",\"linecolor\":\"white\",\"ticks\":\"\"},\"radialaxis\":{\"gridcolor\":\"white\",\"linecolor\":\"white\",\"ticks\":\"\"}},\"ternary\":{\"bgcolor\":\"#E5ECF6\",\"aaxis\":{\"gridcolor\":\"white\",\"linecolor\":\"white\",\"ticks\":\"\"},\"baxis\":{\"gridcolor\":\"white\",\"linecolor\":\"white\",\"ticks\":\"\"},\"caxis\":{\"gridcolor\":\"white\",\"linecolor\":\"white\",\"ticks\":\"\"}},\"coloraxis\":{\"colorbar\":{\"outlinewidth\":0,\"ticks\":\"\"}},\"colorscale\":{\"sequential\":[[0.0,\"#0d0887\"],[0.1111111111111111,\"#46039f\"],[0.2222222222222222,\"#7201a8\"],[0.3333333333333333,\"#9c179e\"],[0.4444444444444444,\"#bd3786\"],[0.5555555555555556,\"#d8576b\"],[0.6666666666666666,\"#ed7953\"],[0.7777777777777778,\"#fb9f3a\"],[0.8888888888888888,\"#fdca26\"],[1.0,\"#f0f921\"]],\"sequentialminus\":[[0.0,\"#0d0887\"],[0.1111111111111111,\"#46039f\"],[0.2222222222222222,\"#7201a8\"],[0.3333333333333333,\"#9c179e\"],[0.4444444444444444,\"#bd3786\"],[0.5555555555555556,\"#d8576b\"],[0.6666666666666666,\"#ed7953\"],[0.7777777777777778,\"#fb9f3a\"],[0.8888888888888888,\"#fdca26\"],[1.0,\"#f0f921\"]],\"diverging\":[[0,\"#8e0152\"],[0.1,\"#c51b7d\"],[0.2,\"#de77ae\"],[0.3,\"#f1b6da\"],[0.4,\"#fde0ef\"],[0.5,\"#f7f7f7\"],[0.6,\"#e6f5d0\"],[0.7,\"#b8e186\"],[0.8,\"#7fbc41\"],[0.9,\"#4d9221\"],[1,\"#276419\"]]},\"xaxis\":{\"gridcolor\":\"white\",\"linecolor\":\"white\",\"ticks\":\"\",\"title\":{\"standoff\":15},\"zerolinecolor\":\"white\",\"automargin\":true,\"zerolinewidth\":2},\"yaxis\":{\"gridcolor\":\"white\",\"linecolor\":\"white\",\"ticks\":\"\",\"title\":{\"standoff\":15},\"zerolinecolor\":\"white\",\"automargin\":true,\"zerolinewidth\":2},\"scene\":{\"xaxis\":{\"backgroundcolor\":\"#E5ECF6\",\"gridcolor\":\"white\",\"linecolor\":\"white\",\"showbackground\":true,\"ticks\":\"\",\"zerolinecolor\":\"white\",\"gridwidth\":2},\"yaxis\":{\"backgroundcolor\":\"#E5ECF6\",\"gridcolor\":\"white\",\"linecolor\":\"white\",\"showbackground\":true,\"ticks\":\"\",\"zerolinecolor\":\"white\",\"gridwidth\":2},\"zaxis\":{\"backgroundcolor\":\"#E5ECF6\",\"gridcolor\":\"white\",\"linecolor\":\"white\",\"showbackground\":true,\"ticks\":\"\",\"zerolinecolor\":\"white\",\"gridwidth\":2}},\"shapedefaults\":{\"line\":{\"color\":\"#2a3f5f\"}},\"annotationdefaults\":{\"arrowcolor\":\"#2a3f5f\",\"arrowhead\":0,\"arrowwidth\":1},\"geo\":{\"bgcolor\":\"white\",\"landcolor\":\"#E5ECF6\",\"subunitcolor\":\"white\",\"showland\":true,\"showlakes\":true,\"lakecolor\":\"white\"},\"title\":{\"x\":0.05},\"mapbox\":{\"style\":\"light\"}}},\"scene\":{\"domain\":{\"x\":[0.0,1.0],\"y\":[0.0,1.0]},\"xaxis\":{\"title\":{\"text\":\"sepal_length\"}},\"yaxis\":{\"title\":{\"text\":\"sepal_width\"}},\"zaxis\":{\"title\":{\"text\":\"petal_width\"}}},\"legend\":{\"title\":{\"text\":\"species\"},\"tracegroupgap\":0},\"margin\":{\"t\":60}},                        {\"responsive\": true}                    ).then(function(){\n",
              "                            \n",
              "var gd = document.getElementById('cb821351-b91b-471b-b5b5-94fdc5bec3ea');\n",
              "var x = new MutationObserver(function (mutations, observer) {{\n",
              "        var display = window.getComputedStyle(gd).display;\n",
              "        if (!display || display === 'none') {{\n",
              "            console.log([gd, 'removed!']);\n",
              "            Plotly.purge(gd);\n",
              "            observer.disconnect();\n",
              "        }}\n",
              "}});\n",
              "\n",
              "// Listen for the removal of the full notebook cells\n",
              "var notebookContainer = gd.closest('#notebook-container');\n",
              "if (notebookContainer) {{\n",
              "    x.observe(notebookContainer, {childList: true});\n",
              "}}\n",
              "\n",
              "// Listen for the clearing of the current output cell\n",
              "var outputEl = gd.closest('.output');\n",
              "if (outputEl) {{\n",
              "    x.observe(outputEl, {childList: true});\n",
              "}}\n",
              "\n",
              "                        })                };                });            </script>        </div>"
            ]
          },
          "metadata": {},
          "output_type": "display_data"
        }
      ],
      "source": [
        "df = px.data.iris()  # pandas dataframe\n",
        "df = df.loc[df['species'].isin(['virginica', 'versicolor'])] # grab just two of the species\n",
        "fig = px.scatter_3d(df, x='sepal_length', y='sepal_width', z='petal_width',\n",
        "              color='species')\n",
        "fig.show()"
      ]
    },
    {
      "cell_type": "markdown",
      "metadata": {
        "id": "LFjwCrbepFFG"
      },
      "source": [
        "This happens to be a very easy dataset for which one input feature alone -- in this case \"petal width\" -- is sufficient for classification.  But, we'll use it for now, and can add other datasets in a bit."
      ]
    },
    {
      "cell_type": "markdown",
      "metadata": {
        "id": "I3TUcLflpSxE"
      },
      "source": [
        "Let's convert our Pandas dataframe into a numpy array that we can do calculations on.\n",
        "\n",
        "Actually, we will have two arrays: one for the inputs which we'll call \"X\", and one for the target labels which we'll call \"Y\".  These labels will be one-hot encoded with zero's and 1's. Let's make Y first.  Let's take a look at `df`:"
      ]
    },
    {
      "cell_type": "code",
      "execution_count": null,
      "metadata": {
        "colab": {
          "base_uri": "https://localhost:8080/",
          "height": 424
        },
        "id": "-vNZZKZoou78",
        "outputId": "a2b819df-26ed-4a0f-a594-905871a7ea53"
      },
      "outputs": [
        {
          "data": {
            "text/html": [
              "<div>\n",
              "<style scoped>\n",
              "    .dataframe tbody tr th:only-of-type {\n",
              "        vertical-align: middle;\n",
              "    }\n",
              "\n",
              "    .dataframe tbody tr th {\n",
              "        vertical-align: top;\n",
              "    }\n",
              "\n",
              "    .dataframe thead th {\n",
              "        text-align: right;\n",
              "    }\n",
              "</style>\n",
              "<table border=\"1\" class=\"dataframe\">\n",
              "  <thead>\n",
              "    <tr style=\"text-align: right;\">\n",
              "      <th></th>\n",
              "      <th>sepal_length</th>\n",
              "      <th>sepal_width</th>\n",
              "      <th>petal_length</th>\n",
              "      <th>petal_width</th>\n",
              "      <th>species</th>\n",
              "      <th>species_id</th>\n",
              "    </tr>\n",
              "  </thead>\n",
              "  <tbody>\n",
              "    <tr>\n",
              "      <th>50</th>\n",
              "      <td>7.0</td>\n",
              "      <td>3.2</td>\n",
              "      <td>4.7</td>\n",
              "      <td>1.4</td>\n",
              "      <td>versicolor</td>\n",
              "      <td>2</td>\n",
              "    </tr>\n",
              "    <tr>\n",
              "      <th>51</th>\n",
              "      <td>6.4</td>\n",
              "      <td>3.2</td>\n",
              "      <td>4.5</td>\n",
              "      <td>1.5</td>\n",
              "      <td>versicolor</td>\n",
              "      <td>2</td>\n",
              "    </tr>\n",
              "    <tr>\n",
              "      <th>52</th>\n",
              "      <td>6.9</td>\n",
              "      <td>3.1</td>\n",
              "      <td>4.9</td>\n",
              "      <td>1.5</td>\n",
              "      <td>versicolor</td>\n",
              "      <td>2</td>\n",
              "    </tr>\n",
              "    <tr>\n",
              "      <th>53</th>\n",
              "      <td>5.5</td>\n",
              "      <td>2.3</td>\n",
              "      <td>4.0</td>\n",
              "      <td>1.3</td>\n",
              "      <td>versicolor</td>\n",
              "      <td>2</td>\n",
              "    </tr>\n",
              "    <tr>\n",
              "      <th>54</th>\n",
              "      <td>6.5</td>\n",
              "      <td>2.8</td>\n",
              "      <td>4.6</td>\n",
              "      <td>1.5</td>\n",
              "      <td>versicolor</td>\n",
              "      <td>2</td>\n",
              "    </tr>\n",
              "    <tr>\n",
              "      <th>...</th>\n",
              "      <td>...</td>\n",
              "      <td>...</td>\n",
              "      <td>...</td>\n",
              "      <td>...</td>\n",
              "      <td>...</td>\n",
              "      <td>...</td>\n",
              "    </tr>\n",
              "    <tr>\n",
              "      <th>145</th>\n",
              "      <td>6.7</td>\n",
              "      <td>3.0</td>\n",
              "      <td>5.2</td>\n",
              "      <td>2.3</td>\n",
              "      <td>virginica</td>\n",
              "      <td>3</td>\n",
              "    </tr>\n",
              "    <tr>\n",
              "      <th>146</th>\n",
              "      <td>6.3</td>\n",
              "      <td>2.5</td>\n",
              "      <td>5.0</td>\n",
              "      <td>1.9</td>\n",
              "      <td>virginica</td>\n",
              "      <td>3</td>\n",
              "    </tr>\n",
              "    <tr>\n",
              "      <th>147</th>\n",
              "      <td>6.5</td>\n",
              "      <td>3.0</td>\n",
              "      <td>5.2</td>\n",
              "      <td>2.0</td>\n",
              "      <td>virginica</td>\n",
              "      <td>3</td>\n",
              "    </tr>\n",
              "    <tr>\n",
              "      <th>148</th>\n",
              "      <td>6.2</td>\n",
              "      <td>3.4</td>\n",
              "      <td>5.4</td>\n",
              "      <td>2.3</td>\n",
              "      <td>virginica</td>\n",
              "      <td>3</td>\n",
              "    </tr>\n",
              "    <tr>\n",
              "      <th>149</th>\n",
              "      <td>5.9</td>\n",
              "      <td>3.0</td>\n",
              "      <td>5.1</td>\n",
              "      <td>1.8</td>\n",
              "      <td>virginica</td>\n",
              "      <td>3</td>\n",
              "    </tr>\n",
              "  </tbody>\n",
              "</table>\n",
              "<p>100 rows × 6 columns</p>\n",
              "</div>"
            ],
            "text/plain": [
              "     sepal_length  sepal_width  petal_length  petal_width     species  \\\n",
              "50            7.0          3.2           4.7          1.4  versicolor   \n",
              "51            6.4          3.2           4.5          1.5  versicolor   \n",
              "52            6.9          3.1           4.9          1.5  versicolor   \n",
              "53            5.5          2.3           4.0          1.3  versicolor   \n",
              "54            6.5          2.8           4.6          1.5  versicolor   \n",
              "..            ...          ...           ...          ...         ...   \n",
              "145           6.7          3.0           5.2          2.3   virginica   \n",
              "146           6.3          2.5           5.0          1.9   virginica   \n",
              "147           6.5          3.0           5.2          2.0   virginica   \n",
              "148           6.2          3.4           5.4          2.3   virginica   \n",
              "149           5.9          3.0           5.1          1.8   virginica   \n",
              "\n",
              "     species_id  \n",
              "50            2  \n",
              "51            2  \n",
              "52            2  \n",
              "53            2  \n",
              "54            2  \n",
              "..          ...  \n",
              "145           3  \n",
              "146           3  \n",
              "147           3  \n",
              "148           3  \n",
              "149           3  \n",
              "\n",
              "[100 rows x 6 columns]"
            ]
          },
          "execution_count": 7,
          "metadata": {},
          "output_type": "execute_result"
        }
      ],
      "source": [
        "df"
      ]
    },
    {
      "cell_type": "markdown",
      "metadata": {
        "id": "9bUQdywOpwU3"
      },
      "source": [
        "Let's take the `species_id` column and subtract 2 from it to make it zeros and 1's.  And we'll add a couple text labels to distinguish which is which. We *could* just hard-code the labels manually, by writing, say,..."
      ]
    },
    {
      "cell_type": "code",
      "execution_count": null,
      "metadata": {
        "id": "xP1B-9Q1qywY"
      },
      "outputs": [],
      "source": [
        "labels = ['versicolor','virginica']"
      ]
    },
    {
      "cell_type": "markdown",
      "metadata": {
        "id": "vvkRvOk8qtc5"
      },
      "source": [
        "...and that would be fine.  However, I like the idea of something that will work more generally, so lets grab the unique labels from `df`, while preserving their order:"
      ]
    },
    {
      "cell_type": "code",
      "execution_count": null,
      "metadata": {
        "colab": {
          "base_uri": "https://localhost:8080/"
        },
        "id": "AAMnBZxMqsqf",
        "outputId": "8767b123-0d89-418e-e249-0e1f0ed3cb7b"
      },
      "outputs": [
        {
          "data": {
            "text/plain": [
              "['versicolor', 'virginica']"
            ]
          },
          "execution_count": 9,
          "metadata": {},
          "output_type": "execute_result"
        }
      ],
      "source": [
        "labels = list(dict.fromkeys(list(df['species'])))\n",
        "labels"
      ]
    },
    {
      "cell_type": "code",
      "execution_count": null,
      "metadata": {
        "colab": {
          "base_uri": "https://localhost:8080/",
          "height": 35
        },
        "id": "t7OrC_KgptKw",
        "outputId": "a41198a4-72a7-4106-dd88-878fce5f9a37"
      },
      "outputs": [
        {
          "data": {
            "text/plain": [
              "'versicolor'"
            ]
          },
          "execution_count": 10,
          "metadata": {},
          "output_type": "execute_result"
        }
      ],
      "source": [
        "labels[0]"
      ]
    },
    {
      "cell_type": "code",
      "execution_count": null,
      "metadata": {
        "colab": {
          "base_uri": "https://localhost:8080/"
        },
        "id": "h4KSX5YLqHSQ",
        "outputId": "2b9c2c14-08f6-42d1-aeb7-7b2c7e4b87eb"
      },
      "outputs": [
        {
          "data": {
            "text/plain": [
              "array([0, 0, 0, 0, 0, 0, 0, 0, 0, 0, 0, 0, 0, 0, 0, 0, 0, 0, 0, 0, 0, 0,\n",
              "       0, 0, 0, 0, 0, 0, 0, 0, 0, 0, 0, 0, 0, 0, 0, 0, 0, 0, 0, 0, 0, 0,\n",
              "       0, 0, 0, 0, 0, 0, 1, 1, 1, 1, 1, 1, 1, 1, 1, 1, 1, 1, 1, 1, 1, 1,\n",
              "       1, 1, 1, 1, 1, 1, 1, 1, 1, 1, 1, 1, 1, 1, 1, 1, 1, 1, 1, 1, 1, 1,\n",
              "       1, 1, 1, 1, 1, 1, 1, 1, 1, 1, 1, 1])"
            ]
          },
          "execution_count": 11,
          "metadata": {},
          "output_type": "execute_result"
        }
      ],
      "source": [
        "Y = df['species_id'].to_numpy()-2\n",
        "Y"
      ]
    },
    {
      "cell_type": "markdown",
      "metadata": {
        "id": "xPbiMoJ5sMZw"
      },
      "source": [
        "Now let's make a numpy array for the input features X, using the columns of the Pandas Dataframe that were used for the plot above."
      ]
    },
    {
      "cell_type": "code",
      "execution_count": null,
      "metadata": {
        "colab": {
          "base_uri": "https://localhost:8080/"
        },
        "id": "N8aSYBjWrqmq",
        "outputId": "c986651e-b63f-437b-bfad-3d1ab3fc537e"
      },
      "outputs": [
        {
          "data": {
            "text/plain": [
              "array([[1.4, 3.2, 7. ],\n",
              "       [1.5, 3.2, 6.4],\n",
              "       [1.5, 3.1, 6.9],\n",
              "       [1.3, 2.3, 5.5],\n",
              "       [1.5, 2.8, 6.5],\n",
              "       [1.3, 2.8, 5.7],\n",
              "       [1.6, 3.3, 6.3],\n",
              "       [1. , 2.4, 4.9],\n",
              "       [1.3, 2.9, 6.6],\n",
              "       [1.4, 2.7, 5.2]])"
            ]
          },
          "execution_count": 12,
          "metadata": {},
          "output_type": "execute_result"
        }
      ],
      "source": [
        "X = df[['petal_width','sepal_width','sepal_length']].to_numpy()\n",
        "X[0:10]"
      ]
    },
    {
      "cell_type": "markdown",
      "metadata": {
        "id": "cjPPFGmWsldl"
      },
      "source": [
        "Now the idea will be, given an a point in the space of X (i.e. the [`petal_width'`,`sepal_width`,`sepal_length`] space), can we train a model to predict which flower that point \"should\" correspond to?  \n",
        "\n",
        "...using logistic regression and gradient descent?  "
      ]
    },
    {
      "cell_type": "markdown",
      "metadata": {
        "id": "2CmHFgsktD0J"
      },
      "source": [
        "## Coding up the Solver"
      ]
    },
    {
      "cell_type": "markdown",
      "metadata": {
        "id": "YxVN9s0btGP7"
      },
      "source": [
        "First we a function for the logistic sigmoid and its gradient, i.e. its derivatives with respect to the variables which will describe the\"width\" (or \"steepness\") and \"center point\" of the s-shaped function we will fit to our data.\n",
        "\n",
        "The sigmoid itself is..."
      ]
    },
    {
      "cell_type": "code",
      "execution_count": null,
      "metadata": {
        "id": "YgiJ_vyLr9JJ"
      },
      "outputs": [],
      "source": [
        "def sigmoid(q):\n",
        "    return 1/(1+np.exp(-q))"
      ]
    },
    {
      "cell_type": "markdown",
      "metadata": {
        "id": "zouCE9yrt_5U"
      },
      "source": [
        "...where `q` can be parameterized via a linear combination of inputs $x, y,$ and $z$, (corresponding to our 3 input features about the flowers), and \"weights\"\n",
        "$a, b,$ and $c$ as well as a constant offset or \"bias\" value $d$:\n",
        "$$q = ax + by + cz + d$$"
      ]
    },
    {
      "cell_type": "markdown",
      "metadata": {
        "id": "TN1zxl6Yuwqg"
      },
      "source": [
        "We could just as easily -- and we might as well -- name these weights $w_i$ where $i$ runs from 0 to 3. Then (rearranging the \"$d$\" term)...\n",
        "$$ q = w_0 + w_1 x + w_2 y + w_3 z$$"
      ]
    },
    {
      "cell_type": "markdown",
      "metadata": {
        "id": "QYNWV-UNvMp-"
      },
      "source": [
        "Or even more abstractly we let $x, y$ and $z$ be parts of the overall input $X$ as $X_1, X_2,$ and $X_3$, and the we can make an additional $X_0 = 1$ to do with the bias term ($d$ / $w_0$).  Then\n",
        "$$q = \\sum_{i=0}^3 w_i X_i$$\n",
        "provided that we add a column of 1's on the \"left\" side of our `X` variable:"
      ]
    },
    {
      "cell_type": "code",
      "execution_count": null,
      "metadata": {
        "colab": {
          "base_uri": "https://localhost:8080/"
        },
        "id": "Hftw7UYnwjAx",
        "outputId": "caba093f-18e3-4ef0-89d7-b4db94b3299c"
      },
      "outputs": [
        {
          "data": {
            "text/plain": [
              "(100, 1)"
            ]
          },
          "execution_count": 14,
          "metadata": {},
          "output_type": "execute_result"
        }
      ],
      "source": [
        "ones = np.ones(X.shape[0])[:,np.newaxis]\n",
        "ones.shape"
      ]
    },
    {
      "cell_type": "code",
      "execution_count": null,
      "metadata": {
        "colab": {
          "base_uri": "https://localhost:8080/"
        },
        "id": "J1EY7TkcwmKP",
        "outputId": "aff28eca-da6d-48c8-8fb2-401097c2dd4d"
      },
      "outputs": [
        {
          "data": {
            "text/plain": [
              "(100, 3)"
            ]
          },
          "execution_count": 15,
          "metadata": {},
          "output_type": "execute_result"
        }
      ],
      "source": [
        "X.shape"
      ]
    },
    {
      "cell_type": "code",
      "execution_count": null,
      "metadata": {
        "colab": {
          "base_uri": "https://localhost:8080/"
        },
        "id": "AI_O5F4Et-Jq",
        "outputId": "111dedee-efd0-4a9d-d3a1-ee4d6d0f8938"
      },
      "outputs": [
        {
          "name": "stdout",
          "output_type": "stream",
          "text": [
            "[[1.  1.4 3.2 7. ]\n",
            " [1.  1.5 3.2 6.4]\n",
            " [1.  1.5 3.1 6.9]\n",
            " [1.  1.3 2.3 5.5]\n",
            " [1.  1.5 2.8 6.5]]\n"
          ]
        }
      ],
      "source": [
        "X2 = np.hstack([ones, X])\n",
        "print(X2[0:5]) # let's look at the first several rows\n",
        "X = X2 # update X to have 4 columns"
      ]
    },
    {
      "cell_type": "markdown",
      "metadata": {
        "id": "4b38NhGoxS_t"
      },
      "source": [
        "So we're almost done...setting up the data, and being ready to write our our weights -- we're only going to have four numbers, which we'll initialize randomly to start with:"
      ]
    },
    {
      "cell_type": "code",
      "execution_count": null,
      "metadata": {
        "colab": {
          "base_uri": "https://localhost:8080/"
        },
        "id": "3nG5A4tUv55b",
        "outputId": "b38e352d-4c8b-4039-9078-a5292ec0214f"
      },
      "outputs": [
        {
          "data": {
            "text/plain": [
              "array([-0.55601366,  0.74146461, -0.58656169,  0.83722182])"
            ]
          },
          "execution_count": 17,
          "metadata": {},
          "output_type": "execute_result"
        }
      ],
      "source": [
        "np.random.seed(5) # set some seed value for reproducability\n",
        "w = 2*np.random.rand(X.shape[-1])-1   # 4 random numbers, between -1 and 1\n",
        "w"
      ]
    },
    {
      "cell_type": "markdown",
      "metadata": {
        "id": "3LL2ioLPx98H"
      },
      "source": [
        "These are our initial guesses for weights, which we will progressive refine via gradient descent."
      ]
    },
    {
      "cell_type": "markdown",
      "metadata": {
        "id": "KZXDP6z6yXHA"
      },
      "source": [
        "## Splitting the Dataset into Train & Validation Subsets\n",
        "When we train our model, we'd like to have a measure of how it's doing on data we've never seen before.  How many data points are there in total?"
      ]
    },
    {
      "cell_type": "code",
      "execution_count": null,
      "metadata": {
        "colab": {
          "base_uri": "https://localhost:8080/"
        },
        "id": "MipP0uTFxwM1",
        "outputId": "22b130f2-2a06-4d5f-8edb-3d7ed0df52bd"
      },
      "outputs": [
        {
          "data": {
            "text/plain": [
              "100"
            ]
          },
          "execution_count": 18,
          "metadata": {},
          "output_type": "execute_result"
        }
      ],
      "source": [
        "X.shape[0] # number of rows = number of points"
      ]
    },
    {
      "cell_type": "markdown",
      "metadata": {
        "id": "AbXn13W8ypzI"
      },
      "source": [
        "100 points is often not enough for sophisticated neural networks applications, but in this case it will be fine.  \n",
        "\n",
        "What we need to do is randomly shuffle *both* X *and* Y together at the same time.   (We could have done this up near the top when the data was in Dataframe form, but we can do it here).  One way is to shuffle an array of indices:"
      ]
    },
    {
      "cell_type": "code",
      "execution_count": null,
      "metadata": {
        "colab": {
          "base_uri": "https://localhost:8080/"
        },
        "id": "KnCczyA0ynFc",
        "outputId": "f2dde080-1d23-4648-be78-63ebf6b04f8f"
      },
      "outputs": [
        {
          "data": {
            "text/plain": [
              "array([ 0,  1,  2,  3,  4,  5,  6,  7,  8,  9, 10, 11, 12, 13, 14, 15, 16,\n",
              "       17, 18, 19, 20, 21, 22, 23, 24, 25, 26, 27, 28, 29, 30, 31, 32, 33,\n",
              "       34, 35, 36, 37, 38, 39, 40, 41, 42, 43, 44, 45, 46, 47, 48, 49, 50,\n",
              "       51, 52, 53, 54, 55, 56, 57, 58, 59, 60, 61, 62, 63, 64, 65, 66, 67,\n",
              "       68, 69, 70, 71, 72, 73, 74, 75, 76, 77, 78, 79, 80, 81, 82, 83, 84,\n",
              "       85, 86, 87, 88, 89, 90, 91, 92, 93, 94, 95, 96, 97, 98, 99])"
            ]
          },
          "execution_count": 19,
          "metadata": {},
          "output_type": "execute_result"
        }
      ],
      "source": [
        "indices = np.arange(X.shape[0])\n",
        "indices"
      ]
    },
    {
      "cell_type": "markdown",
      "metadata": {
        "id": "-iqg0TXrzPeX"
      },
      "source": [
        "Shuffle those:"
      ]
    },
    {
      "cell_type": "code",
      "execution_count": null,
      "metadata": {
        "colab": {
          "base_uri": "https://localhost:8080/"
        },
        "id": "TOSsdsHAzMEw",
        "outputId": "ccb739a3-d3a4-4343-9ca8-070fea00065b"
      },
      "outputs": [
        {
          "data": {
            "text/plain": [
              "array([84, 10, 20, 23, 63, 54, 42, 56, 28, 66, 68, 71, 73,  6, 40, 17, 59,\n",
              "       50, 79, 99, 48, 39, 22, 35, 46, 74, 85, 92, 86, 37, 49, 12, 32, 90,\n",
              "       13, 24, 34, 93, 61, 67, 81, 69, 26, 52, 60, 87, 64, 21, 25, 33, 29,\n",
              "       91, 14, 70, 57, 55, 78,  3, 43, 11, 83, 45, 88, 72, 94, 82, 19, 38,\n",
              "        2, 31, 89, 51, 36,  4,  0, 58,  5, 16,  1, 98, 41,  9, 18, 96, 47,\n",
              "       65, 75, 77, 44, 97, 95, 53, 15, 76,  7, 80, 30, 27, 62,  8])"
            ]
          },
          "execution_count": 20,
          "metadata": {},
          "output_type": "execute_result"
        }
      ],
      "source": [
        "np.random.shuffle(indices)\n",
        "indices"
      ]
    },
    {
      "cell_type": "markdown",
      "metadata": {
        "id": "0FS2UWGezfzZ"
      },
      "source": [
        "Now we can take subsets of X and Y where we address them using the shuffled indices."
      ]
    },
    {
      "cell_type": "code",
      "execution_count": null,
      "metadata": {
        "id": "ajCpiB3QzW7v"
      },
      "outputs": [],
      "source": [
        "split_ind = int(0.8*len(indices))\n",
        "indices_train, indices_val = indices[:split_ind], indices[split_ind:]\n",
        "X_train, Y_train = X[indices_train,:], Y[indices_train]\n",
        "X_val, Y_val = X[indices_val,:], Y[indices_val]"
      ]
    },
    {
      "cell_type": "code",
      "execution_count": null,
      "metadata": {
        "colab": {
          "base_uri": "https://localhost:8080/"
        },
        "id": "fP32QkN5z7qx",
        "outputId": "d58e9c2a-6174-42bf-e4cb-26998273fabd"
      },
      "outputs": [
        {
          "name": "stdout",
          "output_type": "stream",
          "text": [
            "X_train.shape, Y_train.shape =  (80, 4) (80,)\n",
            "X_val.shape, Y_val.shape =  (20, 4) (20,)\n"
          ]
        }
      ],
      "source": [
        "print(\"X_train.shape, Y_train.shape = \",X_train.shape, Y_train.shape)\n",
        "print(\"X_val.shape, Y_val.shape = \",X_val.shape, Y_val.shape)"
      ]
    },
    {
      "cell_type": "markdown",
      "metadata": {
        "id": "5FHwCUz04QuQ"
      },
      "source": [
        "Let's put all of this into a subroutine we can call again later:"
      ]
    },
    {
      "cell_type": "code",
      "execution_count": null,
      "metadata": {
        "id": "6ZSdy_s_4UdN"
      },
      "outputs": [],
      "source": [
        "def train_val_split(X, Y, split_pct=0.8):\n",
        "    indices = np.arange(X.shape[0])\n",
        "    np.random.shuffle(indices)\n",
        "    split_ind = int(split_pct*len(indices))\n",
        "    indices_train, indices_val = indices[:split_ind], indices[split_ind:]\n",
        "    X_train, Y_train = X[indices_train,:], Y[indices_train]\n",
        "    X_val, Y_val = X[indices_val,:], Y[indices_val]\n",
        "    return X_train, Y_train, X_val, Y_val"
      ]
    },
    {
      "cell_type": "markdown",
      "metadata": {
        "id": "UjlWHQtP01hO"
      },
      "source": [
        "Now our data is set up so we can train on a subset and monitor the \"learning\" using the other subset. We will monitor using the loss function -- i.e. the \"Binary Cross-Entropy\" (BCE) loss:"
      ]
    },
    {
      "cell_type": "code",
      "execution_count": null,
      "metadata": {
        "id": "zAm0Jqid0mst"
      },
      "outputs": [],
      "source": [
        "def loss_bce(\n",
        "    preds,    # predictions,  output from sigmoid function ( 0 < pred < 1 )\n",
        "    targs     # target label numbers, 0 or 1\n",
        "    ):\n",
        "    \"BCE Loss\"\n",
        "    return -( targs*np.log(preds) + (1-targs)*np.log(1-preds) ).mean()"
      ]
    },
    {
      "cell_type": "markdown",
      "metadata": {
        "id": "ffAnw1my2u_D"
      },
      "source": [
        "Let's make a picture of what that looks like"
      ]
    },
    {
      "cell_type": "code",
      "execution_count": null,
      "metadata": {
        "colab": {
          "base_uri": "https://localhost:8080/",
          "height": 282
        },
        "id": "XsmNq1Dy2rrP",
        "outputId": "f87044c5-3efc-421c-b883-5b0227c191b9"
      },
      "outputs": [
        {
          "data": {
            "text/plain": [
              "<matplotlib.legend.Legend at 0x13a0ca3d0>"
            ]
          },
          "execution_count": 25,
          "metadata": {},
          "output_type": "execute_result"
        },
        {
          "data": {
            "image/png": "[encoded data removed]",
            "text/plain": [
              "<Figure size 640x480 with 1 Axes>"
            ]
          },
          "metadata": {},
          "output_type": "display_data"
        }
      ],
      "source": [
        "preds = np.linspace(1e-6, 1-1e-6, num=100)\n",
        "for targ_val in [0,1]:\n",
        "    targs = targ_val * np.ones(len(preds))\n",
        "    losses = -( targs*np.log(preds) + (1-targs)*np.log(1-preds) )\n",
        "    plt.plot(preds, losses, label=str(targ_val))\n",
        "plt.legend()"
      ]
    },
    {
      "cell_type": "markdown",
      "metadata": {
        "id": "_hxUXqAB4Re2"
      },
      "source": [
        "The shapes of these curves look a little \"weird\", but note that we don't actually use these in training.  Recall that the gradient of the BCE is the trivial \"line\"\n",
        "\n",
        "$$\\tag{5} L^\\prime_{\\rm BCE}  = {\\partial L_{\\rm BCE} \\over \\partial q}  =  {\\partial L_{\\rm BCE} \\over \\partial \\hat{Y_i}} {\\partial \\hat{Y}_i\\over \\partial q}  = {1\\over N}\\sum_i (\\hat{Y_i}- Y_i).$$"
      ]
    },
    {
      "cell_type": "markdown",
      "metadata": {
        "id": "uLops6oa45mL"
      },
      "source": [
        "...where $\\hat{Y}_i$ is the output of our sigmoid function, and $(\\hat{Y}_i - Y_i)$ means the same as `(preds-targs`) in our code.\n",
        "\n",
        "That's a derivative with respect to q, and q is a linear function of the weights, and by the Chain rule, the derivative of the loss with respect to the weights is just the product of the above derivative and each input, i.e."
      ]
    },
    {
      "cell_type": "markdown",
      "metadata": {
        "id": "IaIif4mw5aRf"
      },
      "source": [
        "$$\n",
        "{\\partial L_{\\rm BCE}\\over \\partial w_j }  = {\\partial L_{\\rm BCE} \\over \\partial \\hat{Y_i}} {\\partial \\hat{Y}_i\\over \\partial q}  {\\partial q \\over \\partial w_j} =  {1\\over N}\\sum_i (\\hat{Y_i}- Y_i) X_{ij}    \n",
        "$$\n",
        "and for gradient *descent* we'll take a step in the negative ^^ that 👆 direction.\n",
        "\n",
        "> **NOTE:** In \"$X_{ij}$\", $i$ is the row number (for each data point) and $j$ is the column number (for each input feature).\n",
        "\n",
        "So we need to multiply the weights by the input features and sum them up. There are two equivalent ways we can do this:"
      ]
    },
    {
      "cell_type": "code",
      "execution_count": null,
      "metadata": {
        "id": "8KWRqlWW7Qir"
      },
      "outputs": [],
      "source": [
        "q = (w * X_train).sum(axis=1)"
      ]
    },
    {
      "cell_type": "code",
      "execution_count": null,
      "metadata": {
        "id": "dYZmcXJr8Bs5"
      },
      "outputs": [],
      "source": [
        "q2 = np.dot(X_train, w)  # dot product is elementwise multiplication followed by sum"
      ]
    },
    {
      "cell_type": "markdown",
      "metadata": {
        "id": "bdVku4sG_rZx"
      },
      "source": [
        "Check that these are equivalent"
      ]
    },
    {
      "cell_type": "code",
      "execution_count": null,
      "metadata": {
        "id": "fYR3CgxN7n6X"
      },
      "outputs": [],
      "source": [
        "assert np.allclose( q, q2 )   # allclose compares arrays of floats to within some tolerance"
      ]
    },
    {
      "cell_type": "markdown",
      "metadata": {
        "id": "A5RoKQ0a86bE"
      },
      "source": [
        "...no news is good news.  Our model predictions are the sigmoid applied to q:"
      ]
    },
    {
      "cell_type": "code",
      "execution_count": null,
      "metadata": {
        "colab": {
          "base_uri": "https://localhost:8080/",
          "height": 282
        },
        "id": "H8I0FCvW9KD9",
        "outputId": "8b6a2217-f351-43e3-8e95-f84e2f8fc42e"
      },
      "outputs": [
        {
          "data": {
            "text/plain": [
              "[<matplotlib.lines.Line2D at 0x13a0d2390>]"
            ]
          },
          "execution_count": 29,
          "metadata": {},
          "output_type": "execute_result"
        },
        {
          "data": {
            "image/png": "[encoded data removed]",
            "text/plain": [
              "<Figure size 640x480 with 1 Axes>"
            ]
          },
          "metadata": {},
          "output_type": "display_data"
        }
      ],
      "source": [
        "preds = sigmoid(q)\n",
        "plt.plot(q, preds, 'o')   # let's look at our initial guesses, which are probably way off"
      ]
    },
    {
      "cell_type": "markdown",
      "metadata": {
        "id": "GC7niGj-9hJF"
      },
      "source": [
        "Currently our predictions, rather than having a mix of near-1's and near-0's, we get mostly near-1's.  \n",
        "\n",
        "But we haven't bothered to train the weights yet.  We'll do that shortly.  Let's make sure that we can get gradients for the 4 weight values:"
      ]
    },
    {
      "cell_type": "code",
      "execution_count": null,
      "metadata": {
        "id": "aU2mifZL-ANC"
      },
      "outputs": [],
      "source": [
        "# oh, first let's be explicit that \"targs\" is the same thing as Y_train, for what follows\n",
        "targs = Y_train"
      ]
    },
    {
      "cell_type": "markdown",
      "metadata": {
        "id": "3YY4z-GZEDQR"
      },
      "source": [
        "To get our weights, need to multiply those by each input feature, and take the mean.  If we just write that naively, it won't work because the array dimensions won't work out.  The following line would fail:\n",
        "\n",
        "```Python\n",
        "grads = ((preds-targs)*X_train).mean()\n",
        "```\n",
        "with the error message\n",
        "```Python\n",
        "---------------------------------------------------------------------------\n",
        "ValueError                                Traceback (most recent call last)\n",
        "<ipython-input-26-60eeb174e20a> in <module>\n",
        "----> 1 grads = ((preds-targs)*X_train).mean()\n",
        "\n",
        "ValueError: operands could not be broadcast together with shapes (80,) (80,4)\n",
        "```"
      ]
    },
    {
      "cell_type": "markdown",
      "metadata": {
        "id": "zJ_njabREXBa"
      },
      "source": [
        "The error is because the \"last dimension\" of each array needs to match up.\n",
        "\n",
        "Instead, we can take the transpose of `X_train` so it has dimensions `(4, 80)`, then it can work.  Then we need to take `mean(axis=1)` instead of just `mean()` (for which the default is `axis=0`):"
      ]
    },
    {
      "cell_type": "code",
      "execution_count": null,
      "metadata": {
        "colab": {
          "base_uri": "https://localhost:8080/"
        },
        "id": "E6h1OLKjD-Td",
        "outputId": "6ac05f73-ca25-479b-e6d7-e31d98efbf19"
      },
      "outputs": [
        {
          "data": {
            "text/plain": [
              "array([0.48260374, 0.63550903, 1.34151534, 2.86106646])"
            ]
          },
          "execution_count": 31,
          "metadata": {},
          "output_type": "execute_result"
        }
      ],
      "source": [
        "grads = ((preds-targs)*X_train.T).mean(axis=1)\n",
        "grads"
      ]
    },
    {
      "cell_type": "markdown",
      "metadata": {
        "id": "aXqpnhp1EwfF"
      },
      "source": [
        "Yea!  Now we're ready!  Now YOU'RE ready. You're going to write the parts, and then you're going to train the model."
      ]
    },
    {
      "cell_type": "code",
      "execution_count": null,
      "metadata": {
        "id": "-lJQ8IktOJK_",
        "outputId": "14e15f8e-572e-4a5d-9f80-88fd8a389034"
      },
      "outputs": [
        {
          "ename": "SyntaxError",
          "evalue": "invalid syntax (1046877002.py, line 3)",
          "output_type": "error",
          "traceback": [
            "\u001b[0;36m  Cell \u001b[0;32mIn[32], line 3\u001b[0;36m\u001b[0m\n\u001b[0;31m    q = # your code here\u001b[0m\n\u001b[0m        ^\u001b[0m\n\u001b[0;31mSyntaxError\u001b[0m\u001b[0;31m:\u001b[0m invalid syntax\n"
          ]
        }
      ],
      "source": [
        "# GRADED EXERCISE 1\n",
        "def compute_q(w, X):\n",
        "    q = # your code here\n",
        "    return q"
      ]
    },
    {
      "cell_type": "code",
      "execution_count": null,
      "metadata": {
        "id": "dm1wiBg0Tctq"
      },
      "outputs": [],
      "source": [
        "# test code for compute_q\n",
        "np.random.seed(2)\n",
        "n, f = 2, 5\n",
        "wt, Xt = (np.random.rand(f)-0.5)/10, np.random.random((n,f))\n",
        "yours = compute_q(wt, Xt)\n",
        "mine = np.array([-0.01280361, -0.03318289])\n",
        "assert np.allclose( yours, mine ), f\"Test failed. yours = {yours}\"\n",
        "print(\"Test passed!\")"
      ]
    },
    {
      "cell_type": "code",
      "execution_count": null,
      "metadata": {
        "id": "hVXXANBaSrNN"
      },
      "outputs": [],
      "source": [
        "# GRADED EXERCISE 2\n",
        "def compute_preds(q):\n",
        "    preds =  # your code here\n",
        "    return preds"
      ]
    },
    {
      "cell_type": "code",
      "execution_count": null,
      "metadata": {
        "id": "rYCUrwjTUvYT"
      },
      "outputs": [],
      "source": [
        "# DO NOT MODIFY THIS CELL\n",
        "# test code for compute_preds\n",
        "tol = 1e-8\n",
        "assert np.abs( compute_preds(-1) - 0.2689414213699951) < tol\n",
        "assert np.abs( compute_preds(0) - 0.5) < tol\n",
        "assert np.abs( compute_preds(5) - 0.9933071490757153) < tol\n",
        "print(\"Test passed!\")"
      ]
    },
    {
      "cell_type": "code",
      "execution_count": null,
      "metadata": {
        "id": "PUkPNfYPOY32"
      },
      "outputs": [],
      "source": [
        "# GRADED EXERCISE 3\n",
        "def compute_grads(preds, targs, X):\n",
        "    grads =  # your code here\n",
        "    return grads"
      ]
    },
    {
      "cell_type": "code",
      "execution_count": null,
      "metadata": {
        "id": "u-Uv6LKEVc3Q"
      },
      "outputs": [],
      "source": [
        "# DO NOT MODIFY THIS CELL\n",
        "# test for compute_grads\n",
        "np.random.seed(0)\n",
        "preds_t, Yt = np.random.random(n), np.random.randint(0,high=2,size=n)\n",
        "yours = compute_grads(preds_t, Yt, Xt)\n",
        "mine = np.array([-0.16297407, -0.12152   , -0.15886825, -0.14073633, -0.08645965])\n",
        "assert np.allclose( yours, mine ), f\"Test failed. yours = {yours}\"\n",
        "print(\"Test passed!\")"
      ]
    },
    {
      "cell_type": "markdown",
      "source": [
        "# Updating the weights\n",
        "To update each weight(s), we change their value(s) by subtracting from their previous value, the gradient(s) times the learning rate, i.e.\n",
        "\n",
        "$$ w_j := w_j -   \\alpha  {\\partial L_{BCE}\\over \\partial w_j}$$\n",
        "where the minus sign is to perform gradient *de*scent.  \n",
        "\n",
        "Or in terms of our code, we'll be using \"`w`\" to denote all the weights (so all the $w_j$'s will be included), and \"`lr`\" for the learning rate, and `\"grads`\" for the gradients."
      ],
      "metadata": {
        "id": "J0G105b1n0CU"
      }
    },
    {
      "cell_type": "code",
      "execution_count": null,
      "metadata": {
        "id": "-LkxBr-GPSAf"
      },
      "outputs": [],
      "source": [
        "# GRADED EXERCISE 4\n",
        "def update_w(w, grads, lr):\n",
        "    w =  # your code here\n",
        "    return w"
      ]
    },
    {
      "cell_type": "code",
      "execution_count": null,
      "metadata": {
        "id": "a2bXHQ2eWrwn"
      },
      "outputs": [],
      "source": [
        "# DO NOT MODIFY THIS CELL\n",
        "# test for update_w\n",
        "np.random.seed(0)\n",
        "lr_t, grads_t = 0.1, np.random.rand(len(wt))\n",
        "yours = update_w(wt, grads_t, lr_t)\n",
        "mine = np.array([-0.06128186, -0.11892631, -0.05531009, -0.06095608, -0.0503287 ])\n",
        "assert np.allclose( yours, mine ), f\"Test failed. yours = {yours}\"\n",
        "print(\"Test passed!\")"
      ]
    },
    {
      "cell_type": "code",
      "execution_count": null,
      "metadata": {
        "id": "zVmHzMsoQ1sz"
      },
      "outputs": [],
      "source": [
        "# GRADED EXERCISE 5\n",
        "def pred_and_update_step(w, X_train, Y_train, lr):\n",
        "    ### YOUR CODE HERE\n",
        "    q = # call compute_q\n",
        "    preds_train = # call compute_preds\n",
        "    grads = # call compute_grads\n",
        "    w = # call update_w\n",
        "    ### END of YOUR CODE\n",
        "    return w"
      ]
    },
    {
      "cell_type": "code",
      "execution_count": null,
      "metadata": {
        "id": "XL1TabQnXeGt"
      },
      "outputs": [],
      "source": [
        "# DO NOT MODIFY THIS CELL\n",
        "# test for pred_and_update_step\n",
        "yours = pred_and_update_step(wt, Xt, Yt, lr_t)\n",
        "mine = np.array([ 0.01769669, -0.0288104 ,  0.02396745,  0.01412402,  0.00343766])\n",
        "assert np.allclose( yours, mine ), f\"Test failed. yours = {yours}\"\n",
        "print(\"Test passed!\")"
      ]
    },
    {
      "cell_type": "markdown",
      "metadata": {
        "id": "mfnpj1nXHvHA"
      },
      "source": [
        "## Train the Model"
      ]
    },
    {
      "cell_type": "code",
      "execution_count": null,
      "metadata": {
        "id": "BS5AIaxH3FeB"
      },
      "outputs": [],
      "source": [
        "def run_training(X_train, Y_train, X_val, Y_val,\n",
        "    training_steps=500,    # number of training steps to run\n",
        "    lr=0.2,                 # learning rate  ;  step size = lr * gradient * lr\n",
        "    ):\n",
        "    np.random.seed(5) # set some seed value for reproducability\n",
        "    w = 2*np.random.rand(X.shape[-1])-1   # 4 random numbers, between -1 and 1\n",
        "    loss_hist_train, loss_hist_val, acc_hist = [], [], [] # store histories for plotting\n",
        "    with tqdm(range(training_steps)) as t:\n",
        "        for step in t:\n",
        "            w = pred_and_update_step(w, X_train, Y_train, lr)\n",
        "\n",
        "            # monitoring: check performance using validation set\n",
        "            q_val      = compute_q(w, X_val)\n",
        "            preds_val  = compute_preds(q_val)\n",
        "            loss_val   = loss_bce( preds_val, Y_val)\n",
        "            loss_train = loss_bce( compute_preds(compute_q(w,X_train)), Y_train)  # used only for monitoring\n",
        "            acc = np.sum(np.round(preds_val) == Y_val)/len(Y_val) * 100    # accuracy measurement for val set\n",
        "            t.set_description(f\"step {step}: loss_train = {loss_train:.3f}, loss_val = {loss_val:.3f}. Acc = {acc}%\")\n",
        "            loss_hist_train.append(loss_train),  loss_hist_val.append(loss_val), acc_hist.append(acc)  # save values for plotting later\n",
        "\n",
        "    return w, loss_hist_train, loss_hist_val, acc_hist\n",
        "\n",
        "\n",
        "w, loss_hist_train, loss_hist_val, acc_hist = run_training(X_train, Y_train, X_val, Y_val)\n",
        "\n",
        "# plot loss histories\n",
        "plt.semilogy(loss_hist_train, label='train')\n",
        "plt.semilogy(loss_hist_val, label='val')\n",
        "plt.xlabel('step'), plt.ylabel('loss (log scale)')\n",
        "plt.legend()\n",
        "plt.show()\n",
        "\n",
        "plt.plot(acc_hist, label='val')\n",
        "plt.xlabel('step'), plt.ylabel('Accuracy %')\n",
        "plt.legend()\n",
        "plt.show()"
      ]
    },
    {
      "cell_type": "markdown",
      "metadata": {
        "id": "0f_S3muSYAfI"
      },
      "source": [
        "Let's take a look at our predictions on the Validation set:"
      ]
    },
    {
      "cell_type": "code",
      "execution_count": null,
      "metadata": {
        "id": "Fv8zkbfDLP4W"
      },
      "outputs": [],
      "source": [
        "preds_val = compute_preds(compute_q(w, X_val))\n",
        "plt.plot(np.round(preds_val),'o-')\n",
        "plt.plot(Y_val,'o')\n",
        "print(\"any exposed blue dots not covered by orange dots show inaccurate predictions\")"
      ]
    },
    {
      "cell_type": "markdown",
      "metadata": {
        "id": "vqsykJUlbrD_"
      },
      "source": [
        "Lets visualize the results in the 3D input space"
      ]
    },
    {
      "cell_type": "code",
      "execution_count": null,
      "metadata": {
        "id": "-2zcITlhYNFJ"
      },
      "outputs": [],
      "source": [
        "XY_train = np.hstack([X_train[:,1:],Y_train[:,np.newaxis]]) # rip out the 1's from X, add axis to Y\n",
        "XY_val = np.hstack([X_val[:,1:],Y_val[:,np.newaxis]])\n",
        "columns = ['sepal_length','sepal_width','petal_width','species']\n",
        "df_train = pd.DataFrame(XY_train, columns=columns)\n",
        "df_val = pd.DataFrame(XY_val, columns=columns)\n",
        "fig = px.scatter_3d(df_train, x='sepal_length', y='sepal_width', z='petal_width', color='species') # , size=7*np.ones(len(df)))\n",
        "\n",
        "\n",
        "iso= True\n",
        "if iso:\n",
        "    x, y, z = XY_train[:,0], XY_train[:,1], XY_train[:,2]\n",
        "\n",
        "    # make a 3d mesh of coordinate values to run predictions on\n",
        "    XX, YY, ZZ = np.mgrid[x.min():x.max():40j, y.min():y.max():40j, z.min():z.max():40j]\n",
        "    DD = np.ones(XX.shape)\n",
        "    qq = w[0]*DD + w[1]*XX + w[2]*YY + w[3]*ZZ  # perform the module prediction \"manually\"\n",
        "    preds_3d = sigmoid(qq)\n",
        "\n",
        "    fig.add_trace(go.Isosurface(       # show values near \"0.5\" decision boundary\n",
        "        x=XX.flatten(), y=YY.flatten(), z=ZZ.flatten(), value=preds_3d.flatten(),\n",
        "        isomin=0.47,  isomax=0.53, showscale=False, colorscale='Viridis'))\n",
        "    fig.add_trace(go.Isosurface(  # see-through volume colored with pred value\n",
        "        x=XX.flatten(), y=YY.flatten(), z=ZZ.flatten(), value=preds_3d.flatten(),\n",
        "        isomin=0,  isomax=1,  opacity=0.25, showscale=False, colorscale='Viridis' ))\n",
        "fig.update_layout(margin=dict(l=0, r=0, b=0, t=0))  # tight layout\n",
        "fig.show()"
      ]
    },
    {
      "cell_type": "markdown",
      "metadata": {
        "id": "yE_4cX3r0L3b"
      },
      "source": [
        "## New Data: Inner & Outer Spheres\n",
        "The previous dataset was too easy!\n",
        "\n",
        "Let's make a new dataset that's a bit harder, and see how our model performs: We'll make a 3D \"ball\" of data, and separate it into two classes based on some value of the radius."
      ]
    },
    {
      "cell_type": "code",
      "execution_count": null,
      "metadata": {
        "id": "YM8UiKSjyGRd"
      },
      "outputs": [],
      "source": [
        "np.random.seed(0)\n",
        "npoints = 400\n",
        "xs = 2*np.random.rand(npoints) - 1\n",
        "ys = 2*np.random.rand(npoints) - 1\n",
        "zs = 2*np.random.rand(npoints) - 1\n",
        "X = np.vstack([np.ones(npoints), xs,ys,zs]).T\n",
        "X.shape"
      ]
    },
    {
      "cell_type": "markdown",
      "metadata": {
        "id": "-ZE0Nufe1rc-"
      },
      "source": [
        "We'll set up the target values to correspond to points inside and outside a radius value we specify:"
      ]
    },
    {
      "cell_type": "code",
      "execution_count": null,
      "metadata": {
        "id": "BC4Z2pwa1pwB"
      },
      "outputs": [],
      "source": [
        "radius = 1\n",
        "Y = ((X[:,1]**2 + X[:,2]**2 + X[:,3]**2) > radius).astype(np.int16)\n",
        "\n",
        "# let's take a look at a few values:\n",
        "n = 6\n",
        "print(X[0:n,:],'\\n', Y[0:n])\n",
        "print(\"Percentage of non-zero targets = \",Y.mean()*100,\"%\")"
      ]
    },
    {
      "cell_type": "code",
      "execution_count": null,
      "metadata": {
        "id": "TWnlxyYf2Ql2"
      },
      "outputs": [],
      "source": [
        "fig = go.Figure(data=[go.Scatter3d( x=X[:,1], y=X[:,2], z=X[:,3],\n",
        "    mode='markers', marker=dict(color=Y, size=7))])\n",
        "fig.update_layout(margin=dict(l=0, r=0, b=0, t=0))  # tight layout\n",
        "fig.show()"
      ]
    },
    {
      "cell_type": "code",
      "execution_count": null,
      "metadata": {
        "id": "xpPH4k2W3Xos"
      },
      "outputs": [],
      "source": [
        "X_train, Y_train, X_val, Y_val = train_val_split(X, Y)\n",
        "X_train.shape"
      ]
    },
    {
      "cell_type": "markdown",
      "metadata": {
        "id": "RHBefh6H5XdH"
      },
      "source": [
        "Now run the training script:"
      ]
    },
    {
      "cell_type": "code",
      "execution_count": null,
      "metadata": {
        "id": "taQKJwr148AO"
      },
      "outputs": [],
      "source": [
        "w, loss_hist_train, loss_hist_val, acc_hist = run_training(X_train, Y_train, X_val, Y_val, training_steps=1000, lr=0.1)"
      ]
    },
    {
      "cell_type": "code",
      "execution_count": null,
      "metadata": {
        "id": "pBJD1q645WTh"
      },
      "outputs": [],
      "source": [
        "# plot loss histories\n",
        "plt.semilogy(loss_hist_train, label='train')\n",
        "plt.semilogy(loss_hist_val, label='val')\n",
        "plt.xlabel('step'), plt.ylabel('loss (log scale)')\n",
        "plt.legend()\n",
        "plt.show()\n",
        "\n",
        "plt.plot(acc_hist, label='val')\n",
        "plt.xlabel('step'), plt.ylabel('Accuracy %')\n",
        "plt.legend()\n",
        "plt.show()"
      ]
    },
    {
      "cell_type": "markdown",
      "metadata": {
        "id": "a-vH0_OcFFaL"
      },
      "source": [
        "Yikes.  Our model never did better than randomly flipping a coin! What's wrong?  Let's take a look at the data and the predictions..."
      ]
    },
    {
      "cell_type": "code",
      "execution_count": null,
      "metadata": {
        "id": "i6EB9tEE6Ej2"
      },
      "outputs": [],
      "source": [
        "XY_train = np.hstack([X_train[:,1:],Y_train[:,np.newaxis]]) # rip out the 1's from X, add axis to Y\n",
        "XY_val = np.hstack([X_val[:,1:],Y_val[:,np.newaxis]])\n",
        "XY_all = np.vstack([XY_train, XY_val])\n",
        "columns = ['x','y','z','class']\n",
        "df_all = pd.DataFrame(XY_all, columns=columns)\n",
        "fig = px.scatter_3d(df_all, x=columns[0], y=columns[1], z=columns[2], color=columns[3]) # , size=7*np.ones(len(df)))\n",
        "\n",
        "iso= True  # if we want \"isosurfaces\" to go with the scatter plot\n",
        "if iso:\n",
        "    x, y, z = XY_train[:,0], XY_train[:,1], XY_train[:,2]\n",
        "\n",
        "    # make a 3d mesh of coordinate values to run predictions on\n",
        "    XX, YY, ZZ = np.mgrid[x.min():x.max():40j, y.min():y.max():40j, z.min():z.max():40j]\n",
        "    DD = np.ones(XX.shape)\n",
        "    qq = w[0]*DD + w[1]*XX + w[2]*YY + w[3]*ZZ  # perform the module prediction \"manually\"\n",
        "    preds_3d = sigmoid(qq)\n",
        "\n",
        "    fig.add_trace(go.Isosurface(       # show values near \"0.5\" decision boundary\n",
        "        x=XX.flatten(), y=YY.flatten(), z=ZZ.flatten(), value=preds_3d.flatten(),\n",
        "        isomin=0.499,  isomax=0.501, showscale=False, colorscale='Viridis'))\n",
        "    fig.add_trace(go.Isosurface(  # see-through volume colored with pred value\n",
        "        x=XX.flatten(), y=YY.flatten(), z=ZZ.flatten(), value=preds_3d.flatten(),\n",
        "        isomin=0,  isomax=1,  opacity=0.25, showscale=False, colorscale='Viridis' ))\n",
        "fig.update_layout(margin=dict(l=0, r=0, b=0, t=0))  # tight layout\n",
        "fig.show()"
      ]
    },
    {
      "cell_type": "markdown",
      "metadata": {
        "id": "GZevfzUvAJQ6"
      },
      "source": [
        "Oh, no!  What's wrong with our method?\n",
        "\n"
      ]
    },
    {
      "cell_type": "markdown",
      "metadata": {
        "id": "mOrWlUvhDR4b"
      },
      "source": [
        "## Limitations of Logistic Regression Alone\n",
        "\n",
        "It's because, despite the nonlinearity of the sigmoid -- which is only used to fit the target values -- the \"q\" feeding into is still only a *linear combination* of the input features.  Thus we can *only fit planes* as our decision boundaries.\n",
        "\n",
        "How can we allow for more complicated decision boundaries?  Put differently, how might we re-map the space of points into something that would admit a planar decision boundary?\n",
        "\n",
        "In the present case, one could do \"feature engineering\" by computing the radius manually, and feeding that into logistic regression.  This is a common task for many data scientists."
      ]
    },
    {
      "cell_type": "markdown",
      "metadata": {
        "id": "a3oJ_nE2ENBz"
      },
      "source": [
        "## Extra/Ungraded Exercise 1\n",
        "Do this yourself: Compute the radius, as use this as *a single* input feature, and perform logistic regression on that."
      ]
    },
    {
      "cell_type": "markdown",
      "metadata": {
        "id": "ikspLPg5EG_d"
      },
      "source": [
        "## Next Time: Automatic Feature Engineering via Neural Networks\n",
        "What if there were a way to compute (an approximation to) the radius automatically?  There is in fact a way, and neural networks often perform very well at doing automatic feature engineering.\n",
        "\n",
        "In our next lesson, we'll add some neuron layers \"before\" the logistic regression output.  Propagating all the gradients through multiple layers will prove cumbersome to write out by hand, so we'll let PyTorch handle that for us."
      ]
    },
    {
      "cell_type": "code",
      "execution_count": null,
      "metadata": {
        "id": "bBlH66eA9GlP"
      },
      "outputs": [],
      "source": []
    }
  ],
  "metadata": {
    "colab": {
      "provenance": []
    },
    "kernelspec": {
      "display_name": "Python 3 (ipykernel)",
      "language": "python",
      "name": "python3"
    },
    "language_info": {
      "codemirror_mode": {
        "name": "ipython",
        "version": 3
      },
      "file_extension": ".py",
      "mimetype": "text/x-python",
      "name": "python",
      "nbconvert_exporter": "python",
      "pygments_lexer": "ipython3",
      "version": "3.11.4"
    }
  },
  "nbformat": 4,
  "nbformat_minor": 0
}