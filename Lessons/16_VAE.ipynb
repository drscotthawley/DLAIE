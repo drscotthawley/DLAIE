{
  "cells": [
    {
      "cell_type": "markdown",
      "id": "f43a6642",
      "metadata": {
        "id": "f43a6642"
      },
      "source": [
        "[![open in colab](https://colab.research.google.com/assets/colab-badge.svg)](https://colab.research.google.com/github/drscotthawley/DLAIE/blob/main/Lessons/16_VAE.ipynb)"
      ]
    },
    {
      "cell_type": "markdown",
      "id": "65f8f4a9",
      "metadata": {
        "id": "65f8f4a9"
      },
      "source": [
        "# Let's Make a Variational AutoEncoder (VAE)\n",
        "\n",
        "--Scott H. Hawley\n",
        "\n",
        "*Jan 30, 2024: This is a Work In Progress!*\n",
        "\n",
        "---\n",
        "\n",
        "## The basic ideas:\n",
        "* we force the Decoder to decode points in latent space *nearby* to the point corresponding to the encoded image\n",
        "* we 'scrunch' the latent space so it looks like a gaussian"
      ]
    },
    {
      "cell_type": "markdown",
      "source": [
        "## Setup Imports"
      ],
      "metadata": {
        "id": "31dgwJ6lZGoF"
      },
      "id": "31dgwJ6lZGoF"
    },
    {
      "cell_type": "code",
      "execution_count": 298,
      "id": "2d719f98",
      "metadata": {
        "id": "2d719f98"
      },
      "outputs": [],
      "source": [
        "# we'll use pytorch lightning as an alternative to raw pytorch\n",
        "!pip install -qq lightning wandb"
      ]
    },
    {
      "cell_type": "code",
      "execution_count": 299,
      "id": "d6932b44",
      "metadata": {
        "id": "d6932b44"
      },
      "outputs": [],
      "source": [
        "import torch\n",
        "from torch import nn, optim, utils\n",
        "from torch.utils.data import DataLoader\n",
        "from torchvision.datasets import MNIST\n",
        "from torchvision.transforms import ToTensor\n",
        "import torchvision\n",
        "import matplotlib.pyplot as plt\n",
        "import lightning as L\n",
        "import torch.nn.functional as F\n",
        "import wandb"
      ]
    },
    {
      "cell_type": "markdown",
      "id": "a54bb357",
      "metadata": {
        "id": "a54bb357"
      },
      "source": [
        "## Setup Dataset"
      ]
    },
    {
      "cell_type": "markdown",
      "source": [
        "Yep, good 'ol MNIST. It's small and easy and you can do it on a CPU. Let's keep everything super-simple at first: black & white images."
      ],
      "metadata": {
        "id": "YF1FPenPZLP4"
      },
      "id": "YF1FPenPZLP4"
    },
    {
      "cell_type": "code",
      "execution_count": 300,
      "id": "52508200",
      "metadata": {
        "id": "52508200",
        "outputId": "1616d43f-1508-44b4-8b45-067dcc7231e7",
        "colab": {
          "base_uri": "https://localhost:8080/"
        }
      },
      "outputs": [
        {
          "output_type": "stream",
          "name": "stdout",
          "text": [
            "Data set lengths: train: 60000, test: 10000\n"
          ]
        }
      ],
      "source": [
        "train_ds = MNIST(root='./data', train=True,  download=True, transform=ToTensor())\n",
        "test_ds  = MNIST(root='./data', train=False, download=True, transform=ToTensor())\n",
        "print(f\"Data set lengths: train: {len(train_ds)}, test: {len(test_ds)}\")"
      ]
    },
    {
      "cell_type": "markdown",
      "id": "7e96b826",
      "metadata": {
        "id": "7e96b826"
      },
      "source": [
        "Inspect it a bit.."
      ]
    },
    {
      "cell_type": "code",
      "execution_count": 4,
      "id": "7eea425d",
      "metadata": {
        "id": "7eea425d",
        "outputId": "c5eb99b3-3bb6-4c04-8638-da505278db2c",
        "colab": {
          "base_uri": "https://localhost:8080/",
          "height": 255
        }
      },
      "outputs": [
        {
          "output_type": "stream",
          "name": "stdout",
          "text": [
            "y (target) = 5 \n",
            "x.shape = (28, 28), min(x) = 0.0, max(x) = 1.0\n"
          ]
        },
        {
          "output_type": "display_data",
          "data": {
            "text/plain": [
              "<Figure size 300x200 with 2 Axes>"
            ],
            "image/png": "[encoded data removed]"
          },
          "metadata": {}
        }
      ],
      "source": [
        "x, y = train_ds[0]   # pick an element\n",
        "print(f\"y (target) = {y} \")\n",
        "\n",
        "def show_xs(xs, show_stats=True):\n",
        "    \"A little utility we'll call again & again to show one or more images\"\n",
        "    if type(xs) is not list: xs = list(xs)\n",
        "    ncols = len(xs)\n",
        "    fig, axs = plt.subplots(figsize=(3*ncols,2), ncols=ncols, squeeze=False)\n",
        "    ax = axs.ravel()\n",
        "    for col, x in enumerate(xs):\n",
        "        if len(x.shape)>2: x = x[0] # remove any batch dimension\n",
        "        if show_stats:\n",
        "            if ncols > 1: print(f\"col {col}: \",end=\"\")\n",
        "            print(f\"x.shape = {tuple(x.shape)}, min(x) = {torch.min(x)}, max(x) = {torch.max(x)}\")\n",
        "        digit = ax[col].imshow(x.detach().cpu().numpy(), cmap='gray')\n",
        "        fig.colorbar(digit, ax=ax[col])\n",
        "    plt.show()\n",
        "\n",
        "show_xs([x])"
      ]
    },
    {
      "cell_type": "markdown",
      "id": "b434a698",
      "metadata": {
        "id": "b434a698"
      },
      "source": [
        "Define dataloaders"
      ]
    },
    {
      "cell_type": "code",
      "execution_count": 5,
      "id": "e336063c",
      "metadata": {
        "id": "e336063c",
        "colab": {
          "base_uri": "https://localhost:8080/"
        },
        "outputId": "d4c3a3ee-1a28-4af1-e897-818d35d6de67"
      },
      "outputs": [
        {
          "output_type": "stream",
          "name": "stderr",
          "text": [
            "/usr/local/lib/python3.10/dist-packages/torch/utils/data/dataloader.py:557: UserWarning: This DataLoader will create 4 worker processes in total. Our suggested max number of worker in current system is 2, which is smaller than what this DataLoader is going to create. Please be aware that excessive worker creation might get DataLoader running slow or even freeze, lower the worker number to avoid potential slowness/freeze if necessary.\n",
            "  warnings.warn(_create_warning_msg(\n"
          ]
        }
      ],
      "source": [
        "batch_size = 64\n",
        "train_dl = DataLoader(train_ds, batch_size=batch_size, num_workers=4, shuffle=True)\n",
        "test_dl = DataLoader(test_ds, batch_size=batch_size, num_workers=4, shuffle=False)"
      ]
    },
    {
      "cell_type": "markdown",
      "id": "f8b45272",
      "metadata": {
        "id": "f8b45272"
      },
      "source": [
        "## Make an (Regular) AE Model"
      ]
    },
    {
      "cell_type": "markdown",
      "source": [
        "\n",
        "First we'll try a regular autoencoder. Then we'll make it \"variational\""
      ],
      "metadata": {
        "id": "OIC1FXBuZOE-"
      },
      "id": "OIC1FXBuZOE-"
    },
    {
      "cell_type": "code",
      "execution_count": 6,
      "id": "5e4bd450",
      "metadata": {
        "id": "5e4bd450"
      },
      "outputs": [],
      "source": [
        "latent_dim = 3   # more = better reconstructions, but 3 we can plot!\n",
        "\n",
        "n_hid = [256, 64]  # could imagine adding more layers\n",
        "\n",
        "act = nn.LeakyReLU # works ok.\n",
        "\n",
        "encoder = nn.Sequential(\n",
        "                nn.Linear(28 * 28, n_hid[0]),\n",
        "                act(),\n",
        "                nn.Linear(n_hid[0], n_hid[1]),\n",
        "                act(),\n",
        "                nn.Linear(n_hid[1], latent_dim))\n",
        "\n",
        "decoder = nn.Sequential(\n",
        "                nn.Linear(latent_dim, n_hid[1]),\n",
        "                act(),\n",
        "                nn.Linear(n_hid[1], n_hid[0]),\n",
        "                act(),\n",
        "                nn.Linear(n_hid[0], 28 * 28),\n",
        "                #nn.Sigmoid(),        # optional. we do want outputs on [0,1]\n",
        "                )"
      ]
    },
    {
      "cell_type": "code",
      "execution_count": 7,
      "id": "8ae4dace",
      "metadata": {
        "id": "8ae4dace",
        "outputId": "80868980-8576-46f3-d19d-52e99d99b796",
        "colab": {
          "base_uri": "https://localhost:8080/",
          "height": 252
        }
      },
      "outputs": [
        {
          "output_type": "stream",
          "name": "stdout",
          "text": [
            "z =  tensor([[ 0.0778, -0.0028,  0.0533]], grad_fn=<AddmmBackward0>)\n",
            "x.shape = (28, 28), min(x) = -0.2171027809381485, max(x) = 0.2286178171634674\n"
          ]
        },
        {
          "output_type": "display_data",
          "data": {
            "text/plain": [
              "<Figure size 300x200 with 2 Axes>"
            ],
            "image/png": "[encoded data removed]"
          },
          "metadata": {}
        }
      ],
      "source": [
        "# test it, just to make sure we get no errors from mmult ops\n",
        "z = encoder(x.view(x.size(0), -1) )\n",
        "print(\"z = \",z)\n",
        "x_hat = decoder(z)\n",
        "x_hat = x_hat.view(x.size(0), 28, -1)\n",
        "show_xs(x_hat)"
      ]
    },
    {
      "cell_type": "markdown",
      "source": [
        "^^ That was with randomly initialized weights, so we expect a random image. This was just to test that the matrix multiplications work out right."
      ],
      "metadata": {
        "id": "-0KtfaQsmW5E"
      },
      "id": "-0KtfaQsmW5E"
    },
    {
      "cell_type": "code",
      "execution_count": 8,
      "id": "42c8f30f",
      "metadata": {
        "id": "42c8f30f"
      },
      "outputs": [],
      "source": [
        "# instead of nn.Module, we use L.LightningModule\n",
        "class AEModel(L.LightningModule):\n",
        "    def __init__(self, encoder, decoder):\n",
        "        super().__init__()\n",
        "        self.encoder = encoder\n",
        "        self.decoder = decoder\n",
        "\n",
        "    def forward(self, x):\n",
        "        z = self.encoder(x)\n",
        "        x_hat = self.decoder(z)\n",
        "        return z, x_hat\n",
        "\n",
        "    def training_step(self, batch, batch_idx):\n",
        "        x, y = batch\n",
        "        x = x.view(x.size(0), -1)  # flatten for linear layer\n",
        "        z, x_hat = self.forward(x)\n",
        "        loss = nn.functional.mse_loss(x_hat, x)\n",
        "        self.log('loss', loss, prog_bar=True)\n",
        "        return loss\n",
        "\n",
        "    def configure_optimizers(self):\n",
        "        return optim.Adam(self.parameters(), lr=1e-3)"
      ]
    },
    {
      "cell_type": "code",
      "execution_count": 9,
      "id": "c56b2473",
      "metadata": {
        "id": "c56b2473",
        "outputId": "6c1da402-40c3-406c-d776-ddb29ab3a4d0",
        "colab": {
          "base_uri": "https://localhost:8080/",
          "height": 659,
          "referenced_widgets": [
            "95b6575fa8354b7c8954e68c4e73895e",
            "57bde002405043f5ac6faacb57d2dd36",
            "4c156e65a8ce435a960b466d6a577f21",
            "2bfcc500bd64478990d852309f1585c1",
            "cd727bf2214f417bb3880ba61ea8135a",
            "bf3ba8ed7e744fe6baeca1c79471b431",
            "d09dd7711b10420e93d9d3fb814c907f",
            "bc165696da6a44099ea503cae5b7153b",
            "00788b9d1473467f9233f1f67f4f67fa",
            "7268add124f34252bb9bfaaf404a66f4",
            "79ee3d23220f4f1b926e9d48cf1c874a"
          ]
        }
      },
      "outputs": [
        {
          "output_type": "stream",
          "name": "stderr",
          "text": [
            "INFO: GPU available: True (cuda), used: True\n",
            "INFO:lightning.pytorch.utilities.rank_zero:GPU available: True (cuda), used: True\n",
            "INFO: TPU available: False, using: 0 TPU cores\n",
            "INFO:lightning.pytorch.utilities.rank_zero:TPU available: False, using: 0 TPU cores\n",
            "INFO: IPU available: False, using: 0 IPUs\n",
            "INFO:lightning.pytorch.utilities.rank_zero:IPU available: False, using: 0 IPUs\n",
            "INFO: HPU available: False, using: 0 HPUs\n",
            "INFO:lightning.pytorch.utilities.rank_zero:HPU available: False, using: 0 HPUs\n",
            "INFO: LOCAL_RANK: 0 - CUDA_VISIBLE_DEVICES: [0]\n",
            "INFO:lightning.pytorch.accelerators.cuda:LOCAL_RANK: 0 - CUDA_VISIBLE_DEVICES: [0]\n",
            "INFO: \n",
            "  | Name    | Type       | Params\n",
            "---------------------------------------\n",
            "0 | encoder | Sequential | 217 K \n",
            "1 | decoder | Sequential | 218 K \n",
            "---------------------------------------\n",
            "435 K     Trainable params\n",
            "0         Non-trainable params\n",
            "435 K     Total params\n",
            "1.744     Total estimated model params size (MB)\n",
            "INFO:lightning.pytorch.callbacks.model_summary:\n",
            "  | Name    | Type       | Params\n",
            "---------------------------------------\n",
            "0 | encoder | Sequential | 217 K \n",
            "1 | decoder | Sequential | 218 K \n",
            "---------------------------------------\n",
            "435 K     Trainable params\n",
            "0         Non-trainable params\n",
            "435 K     Total params\n",
            "1.744     Total estimated model params size (MB)\n",
            "/usr/local/lib/python3.10/dist-packages/torch/utils/data/dataloader.py:557: UserWarning: This DataLoader will create 4 worker processes in total. Our suggested max number of worker in current system is 2, which is smaller than what this DataLoader is going to create. Please be aware that excessive worker creation might get DataLoader running slow or even freeze, lower the worker number to avoid potential slowness/freeze if necessary.\n",
            "  warnings.warn(_create_warning_msg(\n"
          ]
        },
        {
          "output_type": "display_data",
          "data": {
            "text/plain": [
              "Training: |          | 0/? [00:00<?, ?it/s]"
            ],
            "application/vnd.jupyter.widget-view+json": {
              "version_major": 2,
              "version_minor": 0,
              "model_id": "95b6575fa8354b7c8954e68c4e73895e"
            }
          },
          "metadata": {}
        },
        {
          "output_type": "stream",
          "name": "stderr",
          "text": [
            "INFO: `Trainer.fit` stopped: `max_epochs=4` reached.\n",
            "INFO:lightning.pytorch.utilities.rank_zero:`Trainer.fit` stopped: `max_epochs=4` reached.\n"
          ]
        }
      ],
      "source": [
        "autoencoder = AEModel(encoder, decoder)\n",
        "\n",
        "epochs = 4\n",
        "trainer = L.Trainer(max_epochs=epochs, devices=\"auto\")\n",
        "trainer.fit(model=autoencoder, train_dataloaders=train_dl)"
      ]
    },
    {
      "cell_type": "code",
      "execution_count": 10,
      "id": "cb5ed374",
      "metadata": {
        "id": "cb5ed374",
        "colab": {
          "base_uri": "https://localhost:8080/",
          "height": 272
        },
        "outputId": "41a9406b-0594-423a-add1-018e599dc5db"
      },
      "outputs": [
        {
          "output_type": "stream",
          "name": "stdout",
          "text": [
            "z =  tensor([[ 0.0778, -0.0028,  0.0533]], grad_fn=<AddmmBackward0>)\n",
            "col 0: x.shape = (28, 28), min(x) = 0.0, max(x) = 1.0\n",
            "col 1: x.shape = (28, 28), min(x) = -0.11879678070545197, max(x) = 0.9959452748298645\n"
          ]
        },
        {
          "output_type": "display_data",
          "data": {
            "text/plain": [
              "<Figure size 600x200 with 4 Axes>"
            ],
            "image/png": "[encoded data removed]"
          },
          "metadata": {}
        }
      ],
      "source": [
        "@torch.no_grad()\n",
        "def test_inference(model, idx=None):\n",
        "    \"Another utility we'll use for running images through the (V)AE\"\n",
        "    if idx is None: idx = torch.randint( len(test_ds), (1,) )[0]\n",
        "    x, y = test_ds[idx]\n",
        "    x_hat = model.forward(x.view(x.size(0), -1))[-1]\n",
        "    print(\"z = \",z)\n",
        "    x_hat = x_hat.view(x.size(0), 28, -1)\n",
        "    show_xs([x,x_hat])\n",
        "\n",
        "idx = 0\n",
        "test_inference(autoencoder, idx=idx)"
      ]
    },
    {
      "cell_type": "markdown",
      "id": "85ab8d6c",
      "metadata": {
        "id": "85ab8d6c"
      },
      "source": [
        "## Now Let's Make it 'Varational'"
      ]
    },
    {
      "cell_type": "code",
      "execution_count": 361,
      "id": "c0260e18",
      "metadata": {
        "id": "c0260e18"
      },
      "outputs": [],
      "source": [
        "# encoder now spits out mean and variance\n",
        "vae_encoder = nn.Sequential(\n",
        "                nn.Linear(28 * 28, n_hid[0]),\n",
        "                act(),\n",
        "                nn.Linear(n_hid[0], n_hid[1]),\n",
        "                act(),\n",
        "                nn.Linear(n_hid[1], latent_dim*2)) # *2 b/c mu, log_var\n",
        "\n",
        "# decoder same as before\n",
        "decoder = nn.Sequential(\n",
        "                nn.Linear(latent_dim, n_hid[1]),\n",
        "                act(),\n",
        "                nn.Linear(n_hid[1], n_hid[0]),\n",
        "                act(),\n",
        "                nn.Linear(n_hid[0], 28 * 28),\n",
        "                #nn.Sigmoid(), # optional forcing to [0,1]\n",
        "                )"
      ]
    },
    {
      "cell_type": "code",
      "execution_count": 365,
      "id": "e85483b5",
      "metadata": {
        "id": "e85483b5"
      },
      "outputs": [],
      "source": [
        "# instead of nn.Module, we use L.LightningModule\n",
        "class VAEModel(L.LightningModule):\n",
        "    def __init__(self, encoder, decoder):\n",
        "        super().__init__()\n",
        "        self.encoder = encoder\n",
        "        self.decoder = decoder\n",
        "\n",
        "    def reparam_sample(self, mu, log_var):\n",
        "        std = torch.exp(0.5*log_var).sqrt() # why the 0.5?\n",
        "        noise = torch.randn_like(std)       # the \"noise\"\n",
        "        return mu + std * noise\n",
        "\n",
        "    def forward(self, x):\n",
        "        z = self.encoder(x)\n",
        "        i_half = z.shape[-1]//2\n",
        "        mu, log_var = z[:,:i_half],  z[:,i_half:]\n",
        "        z_hat = self.reparam_sample(mu, log_var)\n",
        "        x_hat = self.decoder(z_hat)\n",
        "        return z, mu, log_var, z_hat, x_hat\n",
        "\n",
        "    def training_step(self, batch, batch_idx):\n",
        "        x, y = batch\n",
        "        x = x.view(x.size(0), -1)  # flatten for linear layer\n",
        "        z, mu, log_var, z_hat, x_hat = self.forward(x)\n",
        "        recon_loss = nn.functional.mse_loss(x_hat, x)\n",
        "        scrunch_factor = 0.001  # larger means blurrier/blobbier\n",
        "        kl_loss = -0.5 * torch.mean(1 + log_var - mu.pow(2) - log_var.exp())\n",
        "        loss = recon_loss + (kl_loss * scrunch_factor)\n",
        "        self.log('loss', loss, prog_bar=True)\n",
        "        return loss\n",
        "\n",
        "    def configure_optimizers(self):\n",
        "        return optim.Adam(self.parameters(), lr=5e-4)"
      ]
    },
    {
      "cell_type": "code",
      "execution_count": 366,
      "id": "1471e65c",
      "metadata": {
        "id": "1471e65c",
        "colab": {
          "base_uri": "https://localhost:8080/",
          "height": 659,
          "referenced_widgets": [
            "230ad0f86b3348249875a7f41a6ab815",
            "cdd43d1c23a24f8cb2189ed61e1f0a1e",
            "aa1bccad11244c3c8ee76d7c1603c470",
            "d60756abac2a48a796f50ab28b5bed82",
            "c2df367dff384285b53703c232cd6bbb",
            "7d7697bc6cd74f3aa4829eb2dc4bd8d7",
            "3032d83c92bf4d3f98117b465c7af5b6",
            "a6e332f24a57464ea678942bf1067ab6",
            "db6f372e1e684ee7a71972caccc6440b",
            "34dad8aa8e7f45c6b3ab20e802438b00",
            "3b62e8b7d19e479d80138a7907fdf830"
          ]
        },
        "outputId": "1af26c32-5b1c-4381-f16c-2ea77f3a5580"
      },
      "outputs": [
        {
          "output_type": "stream",
          "name": "stderr",
          "text": [
            "INFO: GPU available: True (cuda), used: True\n",
            "INFO:lightning.pytorch.utilities.rank_zero:GPU available: True (cuda), used: True\n",
            "INFO: TPU available: False, using: 0 TPU cores\n",
            "INFO:lightning.pytorch.utilities.rank_zero:TPU available: False, using: 0 TPU cores\n",
            "INFO: IPU available: False, using: 0 IPUs\n",
            "INFO:lightning.pytorch.utilities.rank_zero:IPU available: False, using: 0 IPUs\n",
            "INFO: HPU available: False, using: 0 HPUs\n",
            "INFO:lightning.pytorch.utilities.rank_zero:HPU available: False, using: 0 HPUs\n",
            "INFO: LOCAL_RANK: 0 - CUDA_VISIBLE_DEVICES: [0]\n",
            "INFO:lightning.pytorch.accelerators.cuda:LOCAL_RANK: 0 - CUDA_VISIBLE_DEVICES: [0]\n",
            "INFO: \n",
            "  | Name    | Type       | Params\n",
            "---------------------------------------\n",
            "0 | encoder | Sequential | 217 K \n",
            "1 | decoder | Sequential | 218 K \n",
            "---------------------------------------\n",
            "436 K     Trainable params\n",
            "0         Non-trainable params\n",
            "436 K     Total params\n",
            "1.746     Total estimated model params size (MB)\n",
            "INFO:lightning.pytorch.callbacks.model_summary:\n",
            "  | Name    | Type       | Params\n",
            "---------------------------------------\n",
            "0 | encoder | Sequential | 217 K \n",
            "1 | decoder | Sequential | 218 K \n",
            "---------------------------------------\n",
            "436 K     Trainable params\n",
            "0         Non-trainable params\n",
            "436 K     Total params\n",
            "1.746     Total estimated model params size (MB)\n",
            "/usr/local/lib/python3.10/dist-packages/torch/utils/data/dataloader.py:557: UserWarning: This DataLoader will create 4 worker processes in total. Our suggested max number of worker in current system is 2, which is smaller than what this DataLoader is going to create. Please be aware that excessive worker creation might get DataLoader running slow or even freeze, lower the worker number to avoid potential slowness/freeze if necessary.\n",
            "  warnings.warn(_create_warning_msg(\n"
          ]
        },
        {
          "output_type": "display_data",
          "data": {
            "text/plain": [
              "Training: |          | 0/? [00:00<?, ?it/s]"
            ],
            "application/vnd.jupyter.widget-view+json": {
              "version_major": 2,
              "version_minor": 0,
              "model_id": "230ad0f86b3348249875a7f41a6ab815"
            }
          },
          "metadata": {}
        },
        {
          "output_type": "stream",
          "name": "stderr",
          "text": [
            "INFO: `Trainer.fit` stopped: `max_epochs=10` reached.\n",
            "INFO:lightning.pytorch.utilities.rank_zero:`Trainer.fit` stopped: `max_epochs=10` reached.\n"
          ]
        }
      ],
      "source": [
        "vae = VAEModel(vae_encoder, decoder)\n",
        "\n",
        "epochs = 10\n",
        "trainer = L.Trainer(max_epochs=epochs, devices=\"auto\")\n",
        "trainer.fit(model=vae, train_dataloaders=train_dl)"
      ]
    },
    {
      "cell_type": "markdown",
      "source": [
        "Doesn't seem like the loss is doing down as we train. Hmmm. Let's try some inference:"
      ],
      "metadata": {
        "id": "qkKkeA6pk4aH"
      },
      "id": "qkKkeA6pk4aH"
    },
    {
      "cell_type": "code",
      "execution_count": 372,
      "id": "223d22ea",
      "metadata": {
        "id": "223d22ea",
        "colab": {
          "base_uri": "https://localhost:8080/",
          "height": 527
        },
        "outputId": "80cc1f10-4def-4b57-9f7e-1124329250f8"
      },
      "outputs": [
        {
          "output_type": "stream",
          "name": "stdout",
          "text": [
            "z =  tensor([[ 0.0778, -0.0028,  0.0533]], grad_fn=<AddmmBackward0>)\n",
            "col 0: x.shape = (28, 28), min(x) = 0.0, max(x) = 1.0\n",
            "col 1: x.shape = (28, 28), min(x) = -0.12838347256183624, max(x) = 0.9328660368919373\n"
          ]
        },
        {
          "output_type": "display_data",
          "data": {
            "text/plain": [
              "<Figure size 600x200 with 4 Axes>"
            ],
            "image/png": "[encoded data removed]"
          },
          "metadata": {}
        },
        {
          "output_type": "stream",
          "name": "stdout",
          "text": [
            "z =  tensor([[ 0.0778, -0.0028,  0.0533]], grad_fn=<AddmmBackward0>)\n",
            "col 0: x.shape = (28, 28), min(x) = 0.0, max(x) = 1.0\n",
            "col 1: x.shape = (28, 28), min(x) = -0.15413835644721985, max(x) = 0.9191997051239014\n"
          ]
        },
        {
          "output_type": "display_data",
          "data": {
            "text/plain": [
              "<Figure size 600x200 with 4 Axes>"
            ],
            "image/png": "[encoded data removed]"
          },
          "metadata": {}
        }
      ],
      "source": [
        "test_inference(vae, idx=0)\n",
        "test_inference(vae, idx=1)"
      ]
    },
    {
      "cell_type": "markdown",
      "id": "0afb52fc",
      "metadata": {
        "id": "0afb52fc"
      },
      "source": [
        "Looks similar to the regular autoencoder, right?\n",
        "\n",
        "Now let's try perturbing our input a bit"
      ]
    },
    {
      "cell_type": "markdown",
      "id": "eb243c37",
      "metadata": {
        "id": "eb243c37"
      },
      "source": [
        "## Comparing the AE and VAE"
      ]
    },
    {
      "cell_type": "code",
      "execution_count": 382,
      "id": "0efea038",
      "metadata": {
        "id": "0efea038",
        "colab": {
          "base_uri": "https://localhost:8080/",
          "height": 458
        },
        "outputId": "0695c2de-3a40-452c-996f-a8f463adaf8d"
      },
      "outputs": [
        {
          "output_type": "stream",
          "name": "stdout",
          "text": [
            "Perturbing the regular autoencoder with strength = 20.0:\n"
          ]
        },
        {
          "output_type": "display_data",
          "data": {
            "text/plain": [
              "<Figure size 600x200 with 4 Axes>"
            ],
            "image/png": "[encoded data removed]"
          },
          "metadata": {}
        },
        {
          "output_type": "stream",
          "name": "stdout",
          "text": [
            "Perturbing the VAE with strength = 20.0:\n"
          ]
        },
        {
          "output_type": "display_data",
          "data": {
            "text/plain": [
              "<Figure size 600x200 with 4 Axes>"
            ],
            "image/png": "[encoded data removed]"
          },
          "metadata": {}
        }
      ],
      "source": [
        "@torch.no_grad()\n",
        "def infer_perturb(model, idx=None, strength=1.0):\n",
        "    \"Another utility we'll use for running images through the (V)AE\"\n",
        "    if idx is None: idx = torch.randint( len(test_ds), (1,) )[0]\n",
        "    x, y = test_ds[idx]\n",
        "    z = model.encoder(x.view(x.size(0), -1))\n",
        "    if z.shape[-1] > latent_dim: z = z[:,:latent_dim] # if VAE, just use the mean values\n",
        "    z_hat = z + strength*torch.randn_like(z)\n",
        "    x_hat = model.decoder(z_hat)\n",
        "    x_hat = x_hat.view(x.size(0), 28, -1)\n",
        "    show_xs([x,x_hat], show_stats=False)\n",
        "\n",
        "idx=0\n",
        "strength = 20.0\n",
        "print(f\"Perturbing the regular autoencoder with strength = {strength}:\")\n",
        "infer_perturb(autoencoder, idx=idx, strength=strength)\n",
        "print(f\"Perturbing the VAE with strength = {strength}:\")\n",
        "infer_perturb(vae, idx=idx, strength=1.0)"
      ]
    },
    {
      "cell_type": "markdown",
      "id": "f4a91448",
      "metadata": {
        "id": "f4a91448"
      },
      "source": [
        "Depending on the random values you get, perturbations may cause the regular AE output to look like not-a-number, whereas the VAE output is probably more stable.\n",
        "\n",
        "Note that without any final rescaling of outputs (e.g. via `nn.Sigmoid`), typically the output of the regular AE extends wayyy outside the [0,1] intensity bounds whereas the VAE's outputs are still properly bounded.\n"
      ]
    },
    {
      "cell_type": "markdown",
      "source": [
        "## Further Comparisons: Add interpolation, 3D viz, more."
      ],
      "metadata": {
        "id": "AEfdR5uEmoFC"
      },
      "id": "AEfdR5uEmoFC"
    },
    {
      "cell_type": "markdown",
      "source": [
        "TODO"
      ],
      "metadata": {
        "id": "B-xvjul9Y-nd"
      },
      "id": "B-xvjul9Y-nd"
    },
    {
      "cell_type": "markdown",
      "source": [
        "\n",
        "## Part 2: Adding Controls (Conditional Generation)\n"
      ],
      "metadata": {
        "id": "UX5GmM5BYzm3"
      },
      "id": "UX5GmM5BYzm3"
    },
    {
      "cell_type": "markdown",
      "source": [
        "\"Conditioning\" means attaching controls to the model that, via training, it can learn to associate with specific kinds outputs. For example, we could do \"class conditioning\" where we tell it what class --- in our case, which digit -- we want the output to be.\n",
        "\n",
        "The conditioning may take the form of adding or multiplying numbers to the activations, concatenating some controls,...lots of things. One general class of conditioning methods is often referred to as [FiLM layers](https://distill.pub/2018/feature-wise-transformations/), where FiLM stands for **F**eature-w**i**se **L**inear **M**odulation. Essentially it means we will apply our conditioning by both addition and multiplication.\n",
        "\n",
        "How and where we apply the conditioning is up to us: we could apply it to the encoder, the latent space, and/or the decoder. We could include the conditioning signal in only one spot, or in between all layers. ...It kind of depends on what we want to do.  \n",
        "\n",
        "Often for \"Generative AI\" systems, we leave the Encoder side alone, and apply the conditioning to the latent variable and the Decoder side. (Note also that any layer activation can be thought of a \"latent variable\", and some models don't necessarily restrict their attention to the \"center of the hourglass\" when it comes to talking about latents.)\n",
        "\n",
        "> TODO: Draw a diagram!\n",
        "\n",
        "Let's try a few different conditioning methods to see what we like best.\n"
      ],
      "metadata": {
        "id": "sfUC4HvjYiBr"
      },
      "id": "sfUC4HvjYiBr"
    },
    {
      "cell_type": "code",
      "execution_count": 301,
      "id": "c75087ea",
      "metadata": {
        "id": "c75087ea"
      },
      "outputs": [],
      "source": [
        "# Here's one way to make a FiLM layer\n",
        "class FiLM(nn.Module):\n",
        "    def __init__(self, x_dim, cond_dim):\n",
        "        super().__init__()\n",
        "        self.gamma_gen = nn.Linear(cond_dim, x_dim)\n",
        "        self.beta_gen  = nn.Linear(cond_dim, x_dim)\n",
        "\n",
        "    def forward(self, x, cond):\n",
        "        gamma = self.gamma_gen(cond)\n",
        "        beta  = self.beta_gen(cond)\n",
        "        return x * gamma + beta"
      ]
    },
    {
      "cell_type": "markdown",
      "source": [
        "We could do a conditional \"regular autoencoder\" but it would be kind of boring because whichever digit you ask for, say a 7, it'll just produce the exact same 7 every time.  We want some *variation* to the outputs, so let's make a conditional VAE"
      ],
      "metadata": {
        "id": "s0UXdkLFsOMb"
      },
      "id": "s0UXdkLFsOMb"
    },
    {
      "cell_type": "markdown",
      "source": [
        "**\"conditioning strength\":**\n",
        "Maybe this is just me, but I like the idea of having a \"conditioning strength\" parameter, so that we can tell the model whether we want no conditioning or full conditioning, or somewhere in between.\n",
        "\n",
        "I haven't seen this done elsewhere...but I just like the idea, so here goes!"
      ],
      "metadata": {
        "id": "Xe2byD2M5Fvt"
      },
      "id": "Xe2byD2M5Fvt"
    },
    {
      "cell_type": "code",
      "source": [
        "# Conditional VAE\n",
        "\n",
        "latent_dim = 4  # give it a bit more space to operate in\n",
        "\n",
        "n_hid = [256, 64]  # could imagine adding more layers\n",
        "\n",
        "act = nn.GELU # this is popular in many models\n",
        "\n",
        "# should we condition the encoder too?\n",
        "# doing so may help give structure to the latent space\n",
        "vae_encoder = nn.Sequential(    # same as before\n",
        "                nn.Linear(28 * 28, n_hid[0]),\n",
        "                act(),\n",
        "                nn.Linear(n_hid[0], n_hid[1]),\n",
        "                act(),\n",
        "                nn.Linear(n_hid[1], 2*latent_dim))\n",
        "\n",
        "cond_dim = 10  # we'll use one-hot encoding for class conditioning; 10 classes\n",
        "\n",
        "\n",
        "# Let's try sticking a FiLM before each Linear layer in the Decoder.\n",
        "# Oh, for the decoder we can't just use nn.Sequential anymore...\n",
        "class DecoderCond(nn.Module):\n",
        "    def __init__(self, latent_dim, n_hid, cond_dim):\n",
        "        super().__init__()\n",
        "        self.f1 = FiLM(latent_dim, cond_dim)\n",
        "        self.l1 = nn.Linear(latent_dim, n_hid[1])\n",
        "        self.f2 = FiLM(n_hid[1], cond_dim)\n",
        "        self.l2 = nn.Linear(n_hid[1], n_hid[0])\n",
        "        self.f3 = FiLM(n_hid[0], cond_dim)\n",
        "        self.l3 = nn.Linear(n_hid[0], 28 * 28)\n",
        "        self.act = act()\n",
        "        # could add optional sigmoid here\n",
        "\n",
        "    def forward(self, x, cond):\n",
        "        x = self.f1(x, cond)\n",
        "        x = self.act( self.l1(x) )\n",
        "        x = self.f2(x, cond)\n",
        "        x = self.act( self.l2( x ) )\n",
        "        x = self.f3(x, cond)\n",
        "        x = self.l3( x )\n",
        "        return x\n",
        "\n",
        "vae_decoder_cond = DecoderCond(latent_dim, n_hid, cond_dim)\n"
      ],
      "metadata": {
        "id": "15z2dJvyhioL"
      },
      "id": "15z2dJvyhioL",
      "execution_count": 326,
      "outputs": []
    },
    {
      "cell_type": "code",
      "source": [
        "# instead of nn.Module, we use L.LightningModule\n",
        "class CondVAEModel(L.LightningModule):\n",
        "    def __init__(self, encoder, decoder):\n",
        "        super().__init__()\n",
        "        self.encoder = vae_encoder\n",
        "        self.decoder = vae_decoder_cond\n",
        "        self.ema_loss = 0.06\n",
        "\n",
        "    def reparam_sample(self, mu, log_var):\n",
        "        std = torch.exp(0.5*log_var).sqrt() # why the 0.5?\n",
        "        noise = torch.randn_like(std)       # the \"noise\"\n",
        "        return mu + std * noise\n",
        "\n",
        "    def forward(self, x, cond):\n",
        "        z = self.encoder(x)\n",
        "        i_half = z.shape[-1]//2\n",
        "        mu, log_var = z[:,:i_half],  z[:,i_half:]\n",
        "        z_hat = self.reparam_sample(mu, log_var)\n",
        "        x_hat = self.decoder(z_hat, cond)\n",
        "        return z, mu, log_var, z_hat, x_hat\n",
        "\n",
        "    def gen(self, y, n_gen=1):\n",
        "        mu = 4*torch.randn((n_gen, latent_dim))\n",
        "        log_var = 2*torch.randn((n_gen, latent_dim))\n",
        "        z_hat = self.reparam_sample(mu, log_var)\n",
        "        cond = F.one_hot(torch.tensor(y), num_classes=10).float()\n",
        "        x_hat = self.decoder(z_hat, cond)\n",
        "        return x_hat\n",
        "\n",
        "    def training_step(self, batch, batch_idx):\n",
        "        x, y = batch\n",
        "        x = x.view(x.size(0), -1)  # flatten for linear layer\n",
        "        cond = F.one_hot(y, num_classes=10).float().to(x.device) # pass in the desired output class as cond\n",
        "\n",
        "        if torch.rand((1)) < 0.2: # sometimes, just regular vae\n",
        "            cond_strength, x_targ, cond_targ = 0.0, x, cond  # just run it as an ordinary autoencoder, no-op conditioning\n",
        "        else:\n",
        "            cond_strength = torch.rand((1)).to(x.device)\n",
        "            # draw x2, y2 values from elsewhere in the batch\n",
        "            rand_inds = torch.randperm(x.size()[0])\n",
        "            x2, y2 = x[rand_inds], y[rand_inds]\n",
        "            x2 = x2.view(x.size(0), -1)\n",
        "            cond2 = F.one_hot(y2, num_classes=10).float().to(x.device)\n",
        "            # target is between x and x2, determined by cond_strength\n",
        "            x_targ    = torch.lerp(x,    x2,    cond_strength)\n",
        "            cond_targ = torch.lerp(cond, cond2, cond_strength)\n",
        "\n",
        "        z, mu, log_var, z_hat, x_hat = self.forward(x, cond_targ)\n",
        "\n",
        "        recon_loss = nn.functional.mse_loss(x_hat, x_targ)\n",
        "        scrunch_factor = 0.1\n",
        "        kl_loss = -0.5 * torch.mean(1 + log_var - mu.pow(2) - log_var.exp())\n",
        "        loss = recon_loss + (kl_loss * scrunch_factor)\n",
        "        with torch.no_grad():\n",
        "            self.ema_loss = 0.99*self.ema_loss + 0.01*loss.detach().item()\n",
        "            self.log('ema_loss', self.ema_loss, prog_bar=True)\n",
        "        return loss\n",
        "\n",
        "    def configure_optimizers(self):\n",
        "        return optim.Adam(self.parameters(), lr=1e-3)"
      ],
      "metadata": {
        "id": "HXuAqVFah0eQ"
      },
      "id": "HXuAqVFah0eQ",
      "execution_count": 327,
      "outputs": []
    },
    {
      "cell_type": "code",
      "source": [
        "cond_vae = CondVAEModel(encoder, decoder)\n",
        "\n",
        "epochs = 10\n",
        "trainer = L.Trainer(max_epochs=epochs, devices=\"auto\")\n",
        "trainer.fit(model=cond_vae, train_dataloaders=train_dl)"
      ],
      "metadata": {
        "colab": {
          "base_uri": "https://localhost:8080/",
          "height": 604,
          "referenced_widgets": [
            "7353d84fc8d7402ab196a6f51d004663",
            "58a0ad4b7f2740089b6841b91b606e8d",
            "be64100ec55e401f9dd04148ab54c8a0",
            "9e21d6af7fa14ddaae5f0a447650ee80",
            "3c9e48fb64244d7eb4c9d1ab5ccf52f9",
            "55856d711f6b484f8957784d760b00c5",
            "499c18b435a946159cd4f8048dc2374d",
            "5b1363e9d65c48d29cb0ec5b4c237c6f",
            "63cbe90930b340b680736cc44898bc7d",
            "4bb67f51ad7a4642a5c7ae5ec3a661d1",
            "c06f4f71e200416a85545c424e432de4"
          ]
        },
        "id": "1fMwrxw2ixtk",
        "outputId": "a533626d-4530-424b-8ba4-b76e935fa5b5"
      },
      "id": "1fMwrxw2ixtk",
      "execution_count": 328,
      "outputs": [
        {
          "output_type": "stream",
          "name": "stderr",
          "text": [
            "INFO: GPU available: True (cuda), used: True\n",
            "INFO:lightning.pytorch.utilities.rank_zero:GPU available: True (cuda), used: True\n",
            "INFO: TPU available: False, using: 0 TPU cores\n",
            "INFO:lightning.pytorch.utilities.rank_zero:TPU available: False, using: 0 TPU cores\n",
            "INFO: IPU available: False, using: 0 IPUs\n",
            "INFO:lightning.pytorch.utilities.rank_zero:IPU available: False, using: 0 IPUs\n",
            "INFO: HPU available: False, using: 0 HPUs\n",
            "INFO:lightning.pytorch.utilities.rank_zero:HPU available: False, using: 0 HPUs\n",
            "INFO: LOCAL_RANK: 0 - CUDA_VISIBLE_DEVICES: [0]\n",
            "INFO:lightning.pytorch.accelerators.cuda:LOCAL_RANK: 0 - CUDA_VISIBLE_DEVICES: [0]\n",
            "INFO: \n",
            "  | Name    | Type        | Params\n",
            "----------------------------------------\n",
            "0 | encoder | Sequential  | 217 K \n",
            "1 | decoder | DecoderCond | 225 K \n",
            "----------------------------------------\n",
            "443 K     Trainable params\n",
            "0         Non-trainable params\n",
            "443 K     Total params\n",
            "1.774     Total estimated model params size (MB)\n",
            "INFO:lightning.pytorch.callbacks.model_summary:\n",
            "  | Name    | Type        | Params\n",
            "----------------------------------------\n",
            "0 | encoder | Sequential  | 217 K \n",
            "1 | decoder | DecoderCond | 225 K \n",
            "----------------------------------------\n",
            "443 K     Trainable params\n",
            "0         Non-trainable params\n",
            "443 K     Total params\n",
            "1.774     Total estimated model params size (MB)\n"
          ]
        },
        {
          "output_type": "display_data",
          "data": {
            "text/plain": [
              "Training: |          | 0/? [00:00<?, ?it/s]"
            ],
            "application/vnd.jupyter.widget-view+json": {
              "version_major": 2,
              "version_minor": 0,
              "model_id": "7353d84fc8d7402ab196a6f51d004663"
            }
          },
          "metadata": {}
        },
        {
          "output_type": "stream",
          "name": "stderr",
          "text": [
            "INFO: `Trainer.fit` stopped: `max_epochs=10` reached.\n",
            "INFO:lightning.pytorch.utilities.rank_zero:`Trainer.fit` stopped: `max_epochs=10` reached.\n"
          ]
        }
      ]
    },
    {
      "cell_type": "markdown",
      "source": [
        "hmm... the loss didn't seem to go down. not good. TBD.\n",
        "\n",
        "Let's take a look at inference:"
      ],
      "metadata": {
        "id": "FkLUKD0ie5YL"
      },
      "id": "FkLUKD0ie5YL"
    },
    {
      "cell_type": "code",
      "source": [
        "@torch.no_grad()\n",
        "def test_cond_inference(model, cond_strength=1.0, idx=None):\n",
        "    \"Try to map from one digit to another digit\"\n",
        "    if idx is None: idx = torch.randint( len(test_ds), (1,) )[0]\n",
        "    x, y = test_ds[idx]\n",
        "    x2, y2 = test_ds[idx+1]\n",
        "    x_targ = torch.lerp(x, x2, cond_strength) # picture of what we might expect\n",
        "    y_targ = y2\n",
        "    print(\"y_targ = \",y_targ)\n",
        "    cond = F.one_hot(torch.tensor(y), num_classes=10).float()  # but now we go all the way\n",
        "    cond2 = F.one_hot(torch.tensor(y2), num_classes=10).float()\n",
        "    cond_targ = torch.lerp( cond, cond2, cond_strength)\n",
        "    print(\"cond_targ =\",cond_targ)\n",
        "    x_hat = model.forward(x.view(x.size(0), -1), cond_targ)[-1]\n",
        "    print(\"z = \",z)\n",
        "    x_hat = x_hat.view(x.size(0), 28, -1)\n",
        "    show_xs([x,x2,x_targ,x_hat], show_stats=False)\n",
        "\n",
        "\n",
        "idx = torch.randint( len(test_ds)-1, (1,))[0]\n",
        "print(\"       Source,                Destination,              Expected,                Output\")\n",
        "test_cond_inference(cond_vae, cond_strength=1.0, idx=idx )\n"
      ],
      "metadata": {
        "colab": {
          "base_uri": "https://localhost:8080/",
          "height": 266
        },
        "id": "eh6UW441i6kU",
        "outputId": "7f8cbdd7-a960-42fa-fc1b-4f8c1bc07871"
      },
      "id": "eh6UW441i6kU",
      "execution_count": 339,
      "outputs": [
        {
          "output_type": "stream",
          "name": "stdout",
          "text": [
            "       Source,                Destination,              Expected,                Output\n",
            "y_targ =  2\n",
            "cond_targ = tensor([0., 0., 1., 0., 0., 0., 0., 0., 0., 0.])\n",
            "z =  tensor([[ 0.0778, -0.0028,  0.0533]], grad_fn=<AddmmBackward0>)\n"
          ]
        },
        {
          "output_type": "display_data",
          "data": {
            "text/plain": [
              "<Figure size 1200x200 with 8 Axes>"
            ],
            "image/png": "[encoded data removed]"
          },
          "metadata": {}
        }
      ]
    },
    {
      "cell_type": "code",
      "source": [
        "@torch.no_grad()\n",
        "def test_cond_gen(model, y_targ, idx=None):\n",
        "    \"Another utility we'll use for running images through the (V)AE\"\n",
        "    if idx is None: idx = torch.randint( len(test_ds), (1,) )[0]\n",
        "    x_hat = model.gen(y_targ)\n",
        "    x_hat = x_hat.view(x.size(0), 28, -1)\n",
        "    show_xs([x_hat])\n",
        "\n",
        "y_targ=5\n",
        "test_cond_gen(cond_vae, y_targ, idx=idx)\n",
        "test_cond_gen(cond_vae, y_targ, idx=idx)\n",
        "test_cond_gen(cond_vae, y_targ, idx=idx)"
      ],
      "metadata": {
        "colab": {
          "base_uri": "https://localhost:8080/",
          "height": 669
        },
        "id": "10gvWrhTEkwf",
        "outputId": "b61f0fbd-982b-4bf2-cbb8-d7f3038d6983"
      },
      "id": "10gvWrhTEkwf",
      "execution_count": 336,
      "outputs": [
        {
          "output_type": "stream",
          "name": "stdout",
          "text": [
            "x.shape = (28, 28), min(x) = -0.009187683463096619, max(x) = 0.7141402363777161\n"
          ]
        },
        {
          "output_type": "display_data",
          "data": {
            "text/plain": [
              "<Figure size 300x200 with 2 Axes>"
            ],
            "image/png": "[encoded data removed]"
          },
          "metadata": {}
        },
        {
          "output_type": "stream",
          "name": "stdout",
          "text": [
            "x.shape = (28, 28), min(x) = -0.00827208161354065, max(x) = 0.7132763266563416\n"
          ]
        },
        {
          "output_type": "display_data",
          "data": {
            "text/plain": [
              "<Figure size 300x200 with 2 Axes>"
            ],
            "image/png": "[encoded data removed]"
          },
          "metadata": {}
        },
        {
          "output_type": "stream",
          "name": "stdout",
          "text": [
            "x.shape = (28, 28), min(x) = -0.00876644253730774, max(x) = 0.7138411402702332\n"
          ]
        },
        {
          "output_type": "display_data",
          "data": {
            "text/plain": [
              "<Figure size 300x200 with 2 Axes>"
            ],
            "image/png": "[encoded data removed]"
          },
          "metadata": {}
        }
      ]
    },
    {
      "cell_type": "markdown",
      "source": [
        "hmmm... not a lot of variety"
      ],
      "metadata": {
        "id": "DaM0JM6GoklN"
      },
      "id": "DaM0JM6GoklN"
    },
    {
      "cell_type": "markdown",
      "source": [
        "## Going Further: VQ-VAE"
      ],
      "metadata": {
        "id": "93G2PeF_bP4E"
      },
      "id": "93G2PeF_bP4E"
    },
    {
      "cell_type": "markdown",
      "source": [
        "\"Vector Quantization\""
      ],
      "metadata": {
        "id": "qY4htrfTbUq4"
      },
      "id": "qY4htrfTbUq4"
    },
    {
      "cell_type": "code",
      "source": [],
      "metadata": {
        "id": "pxh75Kcx3dlR"
      },
      "id": "pxh75Kcx3dlR",
      "execution_count": null,
      "outputs": []
    }
  ],
  "metadata": {
    "kernelspec": {
      "display_name": "Python 3",
      "name": "python3"
    },
    "language_info": {
      "codemirror_mode": {
        "name": "ipython",
        "version": 3
      },
      "file_extension": ".py",
      "mimetype": "text/x-python",
      "name": "python",
      "nbconvert_exporter": "python",
      "pygments_lexer": "ipython3",
      "version": "3.11.6"
    },
    "colab": {
      "provenance": [],
      "gpuType": "T4"
    },
    "accelerator": "GPU",
    "widgets": {
      "application/vnd.jupyter.widget-state+json": {
        "95b6575fa8354b7c8954e68c4e73895e": {
          "model_module": "@jupyter-widgets/controls",
          "model_name": "HBoxModel",
          "model_module_version": "1.5.0",
          "state": {
            "_dom_classes": [],
            "_model_module": "@jupyter-widgets/controls",
            "_model_module_version": "1.5.0",
            "_model_name": "HBoxModel",
            "_view_count": null,
            "_view_module": "@jupyter-widgets/controls",
            "_view_module_version": "1.5.0",
            "_view_name": "HBoxView",
            "box_style": "",
            "children": [
              "IPY_MODEL_57bde002405043f5ac6faacb57d2dd36",
              "IPY_MODEL_4c156e65a8ce435a960b466d6a577f21",
              "IPY_MODEL_2bfcc500bd64478990d852309f1585c1"
            ],
            "layout": "IPY_MODEL_cd727bf2214f417bb3880ba61ea8135a"
          }
        },
        "57bde002405043f5ac6faacb57d2dd36": {
          "model_module": "@jupyter-widgets/controls",
          "model_name": "HTMLModel",
          "model_module_version": "1.5.0",
          "state": {
            "_dom_classes": [],
            "_model_module": "@jupyter-widgets/controls",
            "_model_module_version": "1.5.0",
            "_model_name": "HTMLModel",
            "_view_count": null,
            "_view_module": "@jupyter-widgets/controls",
            "_view_module_version": "1.5.0",
            "_view_name": "HTMLView",
            "description": "",
            "description_tooltip": null,
            "layout": "IPY_MODEL_bf3ba8ed7e744fe6baeca1c79471b431",
            "placeholder": "​",
            "style": "IPY_MODEL_d09dd7711b10420e93d9d3fb814c907f",
            "value": "Epoch 3: 100%"
          }
        },
        "4c156e65a8ce435a960b466d6a577f21": {
          "model_module": "@jupyter-widgets/controls",
          "model_name": "FloatProgressModel",
          "model_module_version": "1.5.0",
          "state": {
            "_dom_classes": [],
            "_model_module": "@jupyter-widgets/controls",
            "_model_module_version": "1.5.0",
            "_model_name": "FloatProgressModel",
            "_view_count": null,
            "_view_module": "@jupyter-widgets/controls",
            "_view_module_version": "1.5.0",
            "_view_name": "ProgressView",
            "bar_style": "success",
            "description": "",
            "description_tooltip": null,
            "layout": "IPY_MODEL_bc165696da6a44099ea503cae5b7153b",
            "max": 938,
            "min": 0,
            "orientation": "horizontal",
            "style": "IPY_MODEL_00788b9d1473467f9233f1f67f4f67fa",
            "value": 938
          }
        },
        "2bfcc500bd64478990d852309f1585c1": {
          "model_module": "@jupyter-widgets/controls",
          "model_name": "HTMLModel",
          "model_module_version": "1.5.0",
          "state": {
            "_dom_classes": [],
            "_model_module": "@jupyter-widgets/controls",
            "_model_module_version": "1.5.0",
            "_model_name": "HTMLModel",
            "_view_count": null,
            "_view_module": "@jupyter-widgets/controls",
            "_view_module_version": "1.5.0",
            "_view_name": "HTMLView",
            "description": "",
            "description_tooltip": null,
            "layout": "IPY_MODEL_7268add124f34252bb9bfaaf404a66f4",
            "placeholder": "​",
            "style": "IPY_MODEL_79ee3d23220f4f1b926e9d48cf1c874a",
            "value": " 938/938 [00:12&lt;00:00, 77.84it/s, v_num=38, loss=0.0377]"
          }
        },
        "cd727bf2214f417bb3880ba61ea8135a": {
          "model_module": "@jupyter-widgets/base",
          "model_name": "LayoutModel",
          "model_module_version": "1.2.0",
          "state": {
            "_model_module": "@jupyter-widgets/base",
            "_model_module_version": "1.2.0",
            "_model_name": "LayoutModel",
            "_view_count": null,
            "_view_module": "@jupyter-widgets/base",
            "_view_module_version": "1.2.0",
            "_view_name": "LayoutView",
            "align_content": null,
            "align_items": null,
            "align_self": null,
            "border": null,
            "bottom": null,
            "display": "inline-flex",
            "flex": null,
            "flex_flow": "row wrap",
            "grid_area": null,
            "grid_auto_columns": null,
            "grid_auto_flow": null,
            "grid_auto_rows": null,
            "grid_column": null,
            "grid_gap": null,
            "grid_row": null,
            "grid_template_areas": null,
            "grid_template_columns": null,
            "grid_template_rows": null,
            "height": null,
            "justify_content": null,
            "justify_items": null,
            "left": null,
            "margin": null,
            "max_height": null,
            "max_width": null,
            "min_height": null,
            "min_width": null,
            "object_fit": null,
            "object_position": null,
            "order": null,
            "overflow": null,
            "overflow_x": null,
            "overflow_y": null,
            "padding": null,
            "right": null,
            "top": null,
            "visibility": null,
            "width": "100%"
          }
        },
        "bf3ba8ed7e744fe6baeca1c79471b431": {
          "model_module": "@jupyter-widgets/base",
          "model_name": "LayoutModel",
          "model_module_version": "1.2.0",
          "state": {
            "_model_module": "@jupyter-widgets/base",
            "_model_module_version": "1.2.0",
            "_model_name": "LayoutModel",
            "_view_count": null,
            "_view_module": "@jupyter-widgets/base",
            "_view_module_version": "1.2.0",
            "_view_name": "LayoutView",
            "align_content": null,
            "align_items": null,
            "align_self": null,
            "border": null,
            "bottom": null,
            "display": null,
            "flex": null,
            "flex_flow": null,
            "grid_area": null,
            "grid_auto_columns": null,
            "grid_auto_flow": null,
            "grid_auto_rows": null,
            "grid_column": null,
            "grid_gap": null,
            "grid_row": null,
            "grid_template_areas": null,
            "grid_template_columns": null,
            "grid_template_rows": null,
            "height": null,
            "justify_content": null,
            "justify_items": null,
            "left": null,
            "margin": null,
            "max_height": null,
            "max_width": null,
            "min_height": null,
            "min_width": null,
            "object_fit": null,
            "object_position": null,
            "order": null,
            "overflow": null,
            "overflow_x": null,
            "overflow_y": null,
            "padding": null,
            "right": null,
            "top": null,
            "visibility": null,
            "width": null
          }
        },
        "d09dd7711b10420e93d9d3fb814c907f": {
          "model_module": "@jupyter-widgets/controls",
          "model_name": "DescriptionStyleModel",
          "model_module_version": "1.5.0",
          "state": {
            "_model_module": "@jupyter-widgets/controls",
            "_model_module_version": "1.5.0",
            "_model_name": "DescriptionStyleModel",
            "_view_count": null,
            "_view_module": "@jupyter-widgets/base",
            "_view_module_version": "1.2.0",
            "_view_name": "StyleView",
            "description_width": ""
          }
        },
        "bc165696da6a44099ea503cae5b7153b": {
          "model_module": "@jupyter-widgets/base",
          "model_name": "LayoutModel",
          "model_module_version": "1.2.0",
          "state": {
            "_model_module": "@jupyter-widgets/base",
            "_model_module_version": "1.2.0",
            "_model_name": "LayoutModel",
            "_view_count": null,
            "_view_module": "@jupyter-widgets/base",
            "_view_module_version": "1.2.0",
            "_view_name": "LayoutView",
            "align_content": null,
            "align_items": null,
            "align_self": null,
            "border": null,
            "bottom": null,
            "display": null,
            "flex": "2",
            "flex_flow": null,
            "grid_area": null,
            "grid_auto_columns": null,
            "grid_auto_flow": null,
            "grid_auto_rows": null,
            "grid_column": null,
            "grid_gap": null,
            "grid_row": null,
            "grid_template_areas": null,
            "grid_template_columns": null,
            "grid_template_rows": null,
            "height": null,
            "justify_content": null,
            "justify_items": null,
            "left": null,
            "margin": null,
            "max_height": null,
            "max_width": null,
            "min_height": null,
            "min_width": null,
            "object_fit": null,
            "object_position": null,
            "order": null,
            "overflow": null,
            "overflow_x": null,
            "overflow_y": null,
            "padding": null,
            "right": null,
            "top": null,
            "visibility": null,
            "width": null
          }
        },
        "00788b9d1473467f9233f1f67f4f67fa": {
          "model_module": "@jupyter-widgets/controls",
          "model_name": "ProgressStyleModel",
          "model_module_version": "1.5.0",
          "state": {
            "_model_module": "@jupyter-widgets/controls",
            "_model_module_version": "1.5.0",
            "_model_name": "ProgressStyleModel",
            "_view_count": null,
            "_view_module": "@jupyter-widgets/base",
            "_view_module_version": "1.2.0",
            "_view_name": "StyleView",
            "bar_color": null,
            "description_width": ""
          }
        },
        "7268add124f34252bb9bfaaf404a66f4": {
          "model_module": "@jupyter-widgets/base",
          "model_name": "LayoutModel",
          "model_module_version": "1.2.0",
          "state": {
            "_model_module": "@jupyter-widgets/base",
            "_model_module_version": "1.2.0",
            "_model_name": "LayoutModel",
            "_view_count": null,
            "_view_module": "@jupyter-widgets/base",
            "_view_module_version": "1.2.0",
            "_view_name": "LayoutView",
            "align_content": null,
            "align_items": null,
            "align_self": null,
            "border": null,
            "bottom": null,
            "display": null,
            "flex": null,
            "flex_flow": null,
            "grid_area": null,
            "grid_auto_columns": null,
            "grid_auto_flow": null,
            "grid_auto_rows": null,
            "grid_column": null,
            "grid_gap": null,
            "grid_row": null,
            "grid_template_areas": null,
            "grid_template_columns": null,
            "grid_template_rows": null,
            "height": null,
            "justify_content": null,
            "justify_items": null,
            "left": null,
            "margin": null,
            "max_height": null,
            "max_width": null,
            "min_height": null,
            "min_width": null,
            "object_fit": null,
            "object_position": null,
            "order": null,
            "overflow": null,
            "overflow_x": null,
            "overflow_y": null,
            "padding": null,
            "right": null,
            "top": null,
            "visibility": null,
            "width": null
          }
        },
        "79ee3d23220f4f1b926e9d48cf1c874a": {
          "model_module": "@jupyter-widgets/controls",
          "model_name": "DescriptionStyleModel",
          "model_module_version": "1.5.0",
          "state": {
            "_model_module": "@jupyter-widgets/controls",
            "_model_module_version": "1.5.0",
            "_model_name": "DescriptionStyleModel",
            "_view_count": null,
            "_view_module": "@jupyter-widgets/base",
            "_view_module_version": "1.2.0",
            "_view_name": "StyleView",
            "description_width": ""
          }
        },
        "230ad0f86b3348249875a7f41a6ab815": {
          "model_module": "@jupyter-widgets/controls",
          "model_name": "HBoxModel",
          "model_module_version": "1.5.0",
          "state": {
            "_dom_classes": [],
            "_model_module": "@jupyter-widgets/controls",
            "_model_module_version": "1.5.0",
            "_model_name": "HBoxModel",
            "_view_count": null,
            "_view_module": "@jupyter-widgets/controls",
            "_view_module_version": "1.5.0",
            "_view_name": "HBoxView",
            "box_style": "",
            "children": [
              "IPY_MODEL_cdd43d1c23a24f8cb2189ed61e1f0a1e",
              "IPY_MODEL_aa1bccad11244c3c8ee76d7c1603c470",
              "IPY_MODEL_d60756abac2a48a796f50ab28b5bed82"
            ],
            "layout": "IPY_MODEL_c2df367dff384285b53703c232cd6bbb"
          }
        },
        "cdd43d1c23a24f8cb2189ed61e1f0a1e": {
          "model_module": "@jupyter-widgets/controls",
          "model_name": "HTMLModel",
          "model_module_version": "1.5.0",
          "state": {
            "_dom_classes": [],
            "_model_module": "@jupyter-widgets/controls",
            "_model_module_version": "1.5.0",
            "_model_name": "HTMLModel",
            "_view_count": null,
            "_view_module": "@jupyter-widgets/controls",
            "_view_module_version": "1.5.0",
            "_view_name": "HTMLView",
            "description": "",
            "description_tooltip": null,
            "layout": "IPY_MODEL_7d7697bc6cd74f3aa4829eb2dc4bd8d7",
            "placeholder": "​",
            "style": "IPY_MODEL_3032d83c92bf4d3f98117b465c7af5b6",
            "value": "Epoch 9: 100%"
          }
        },
        "aa1bccad11244c3c8ee76d7c1603c470": {
          "model_module": "@jupyter-widgets/controls",
          "model_name": "FloatProgressModel",
          "model_module_version": "1.5.0",
          "state": {
            "_dom_classes": [],
            "_model_module": "@jupyter-widgets/controls",
            "_model_module_version": "1.5.0",
            "_model_name": "FloatProgressModel",
            "_view_count": null,
            "_view_module": "@jupyter-widgets/controls",
            "_view_module_version": "1.5.0",
            "_view_name": "ProgressView",
            "bar_style": "success",
            "description": "",
            "description_tooltip": null,
            "layout": "IPY_MODEL_a6e332f24a57464ea678942bf1067ab6",
            "max": 938,
            "min": 0,
            "orientation": "horizontal",
            "style": "IPY_MODEL_db6f372e1e684ee7a71972caccc6440b",
            "value": 938
          }
        },
        "d60756abac2a48a796f50ab28b5bed82": {
          "model_module": "@jupyter-widgets/controls",
          "model_name": "HTMLModel",
          "model_module_version": "1.5.0",
          "state": {
            "_dom_classes": [],
            "_model_module": "@jupyter-widgets/controls",
            "_model_module_version": "1.5.0",
            "_model_name": "HTMLModel",
            "_view_count": null,
            "_view_module": "@jupyter-widgets/controls",
            "_view_module_version": "1.5.0",
            "_view_name": "HTMLView",
            "description": "",
            "description_tooltip": null,
            "layout": "IPY_MODEL_34dad8aa8e7f45c6b3ab20e802438b00",
            "placeholder": "​",
            "style": "IPY_MODEL_3b62e8b7d19e479d80138a7907fdf830",
            "value": " 938/938 [00:13&lt;00:00, 70.67it/s, v_num=71, loss=0.0308]"
          }
        },
        "c2df367dff384285b53703c232cd6bbb": {
          "model_module": "@jupyter-widgets/base",
          "model_name": "LayoutModel",
          "model_module_version": "1.2.0",
          "state": {
            "_model_module": "@jupyter-widgets/base",
            "_model_module_version": "1.2.0",
            "_model_name": "LayoutModel",
            "_view_count": null,
            "_view_module": "@jupyter-widgets/base",
            "_view_module_version": "1.2.0",
            "_view_name": "LayoutView",
            "align_content": null,
            "align_items": null,
            "align_self": null,
            "border": null,
            "bottom": null,
            "display": "inline-flex",
            "flex": null,
            "flex_flow": "row wrap",
            "grid_area": null,
            "grid_auto_columns": null,
            "grid_auto_flow": null,
            "grid_auto_rows": null,
            "grid_column": null,
            "grid_gap": null,
            "grid_row": null,
            "grid_template_areas": null,
            "grid_template_columns": null,
            "grid_template_rows": null,
            "height": null,
            "justify_content": null,
            "justify_items": null,
            "left": null,
            "margin": null,
            "max_height": null,
            "max_width": null,
            "min_height": null,
            "min_width": null,
            "object_fit": null,
            "object_position": null,
            "order": null,
            "overflow": null,
            "overflow_x": null,
            "overflow_y": null,
            "padding": null,
            "right": null,
            "top": null,
            "visibility": null,
            "width": "100%"
          }
        },
        "7d7697bc6cd74f3aa4829eb2dc4bd8d7": {
          "model_module": "@jupyter-widgets/base",
          "model_name": "LayoutModel",
          "model_module_version": "1.2.0",
          "state": {
            "_model_module": "@jupyter-widgets/base",
            "_model_module_version": "1.2.0",
            "_model_name": "LayoutModel",
            "_view_count": null,
            "_view_module": "@jupyter-widgets/base",
            "_view_module_version": "1.2.0",
            "_view_name": "LayoutView",
            "align_content": null,
            "align_items": null,
            "align_self": null,
            "border": null,
            "bottom": null,
            "display": null,
            "flex": null,
            "flex_flow": null,
            "grid_area": null,
            "grid_auto_columns": null,
            "grid_auto_flow": null,
            "grid_auto_rows": null,
            "grid_column": null,
            "grid_gap": null,
            "grid_row": null,
            "grid_template_areas": null,
            "grid_template_columns": null,
            "grid_template_rows": null,
            "height": null,
            "justify_content": null,
            "justify_items": null,
            "left": null,
            "margin": null,
            "max_height": null,
            "max_width": null,
            "min_height": null,
            "min_width": null,
            "object_fit": null,
            "object_position": null,
            "order": null,
            "overflow": null,
            "overflow_x": null,
            "overflow_y": null,
            "padding": null,
            "right": null,
            "top": null,
            "visibility": null,
            "width": null
          }
        },
        "3032d83c92bf4d3f98117b465c7af5b6": {
          "model_module": "@jupyter-widgets/controls",
          "model_name": "DescriptionStyleModel",
          "model_module_version": "1.5.0",
          "state": {
            "_model_module": "@jupyter-widgets/controls",
            "_model_module_version": "1.5.0",
            "_model_name": "DescriptionStyleModel",
            "_view_count": null,
            "_view_module": "@jupyter-widgets/base",
            "_view_module_version": "1.2.0",
            "_view_name": "StyleView",
            "description_width": ""
          }
        },
        "a6e332f24a57464ea678942bf1067ab6": {
          "model_module": "@jupyter-widgets/base",
          "model_name": "LayoutModel",
          "model_module_version": "1.2.0",
          "state": {
            "_model_module": "@jupyter-widgets/base",
            "_model_module_version": "1.2.0",
            "_model_name": "LayoutModel",
            "_view_count": null,
            "_view_module": "@jupyter-widgets/base",
            "_view_module_version": "1.2.0",
            "_view_name": "LayoutView",
            "align_content": null,
            "align_items": null,
            "align_self": null,
            "border": null,
            "bottom": null,
            "display": null,
            "flex": "2",
            "flex_flow": null,
            "grid_area": null,
            "grid_auto_columns": null,
            "grid_auto_flow": null,
            "grid_auto_rows": null,
            "grid_column": null,
            "grid_gap": null,
            "grid_row": null,
            "grid_template_areas": null,
            "grid_template_columns": null,
            "grid_template_rows": null,
            "height": null,
            "justify_content": null,
            "justify_items": null,
            "left": null,
            "margin": null,
            "max_height": null,
            "max_width": null,
            "min_height": null,
            "min_width": null,
            "object_fit": null,
            "object_position": null,
            "order": null,
            "overflow": null,
            "overflow_x": null,
            "overflow_y": null,
            "padding": null,
            "right": null,
            "top": null,
            "visibility": null,
            "width": null
          }
        },
        "db6f372e1e684ee7a71972caccc6440b": {
          "model_module": "@jupyter-widgets/controls",
          "model_name": "ProgressStyleModel",
          "model_module_version": "1.5.0",
          "state": {
            "_model_module": "@jupyter-widgets/controls",
            "_model_module_version": "1.5.0",
            "_model_name": "ProgressStyleModel",
            "_view_count": null,
            "_view_module": "@jupyter-widgets/base",
            "_view_module_version": "1.2.0",
            "_view_name": "StyleView",
            "bar_color": null,
            "description_width": ""
          }
        },
        "34dad8aa8e7f45c6b3ab20e802438b00": {
          "model_module": "@jupyter-widgets/base",
          "model_name": "LayoutModel",
          "model_module_version": "1.2.0",
          "state": {
            "_model_module": "@jupyter-widgets/base",
            "_model_module_version": "1.2.0",
            "_model_name": "LayoutModel",
            "_view_count": null,
            "_view_module": "@jupyter-widgets/base",
            "_view_module_version": "1.2.0",
            "_view_name": "LayoutView",
            "align_content": null,
            "align_items": null,
            "align_self": null,
            "border": null,
            "bottom": null,
            "display": null,
            "flex": null,
            "flex_flow": null,
            "grid_area": null,
            "grid_auto_columns": null,
            "grid_auto_flow": null,
            "grid_auto_rows": null,
            "grid_column": null,
            "grid_gap": null,
            "grid_row": null,
            "grid_template_areas": null,
            "grid_template_columns": null,
            "grid_template_rows": null,
            "height": null,
            "justify_content": null,
            "justify_items": null,
            "left": null,
            "margin": null,
            "max_height": null,
            "max_width": null,
            "min_height": null,
            "min_width": null,
            "object_fit": null,
            "object_position": null,
            "order": null,
            "overflow": null,
            "overflow_x": null,
            "overflow_y": null,
            "padding": null,
            "right": null,
            "top": null,
            "visibility": null,
            "width": null
          }
        },
        "3b62e8b7d19e479d80138a7907fdf830": {
          "model_module": "@jupyter-widgets/controls",
          "model_name": "DescriptionStyleModel",
          "model_module_version": "1.5.0",
          "state": {
            "_model_module": "@jupyter-widgets/controls",
            "_model_module_version": "1.5.0",
            "_model_name": "DescriptionStyleModel",
            "_view_count": null,
            "_view_module": "@jupyter-widgets/base",
            "_view_module_version": "1.2.0",
            "_view_name": "StyleView",
            "description_width": ""
          }
        },
        "7353d84fc8d7402ab196a6f51d004663": {
          "model_module": "@jupyter-widgets/controls",
          "model_name": "HBoxModel",
          "model_module_version": "1.5.0",
          "state": {
            "_dom_classes": [],
            "_model_module": "@jupyter-widgets/controls",
            "_model_module_version": "1.5.0",
            "_model_name": "HBoxModel",
            "_view_count": null,
            "_view_module": "@jupyter-widgets/controls",
            "_view_module_version": "1.5.0",
            "_view_name": "HBoxView",
            "box_style": "",
            "children": [
              "IPY_MODEL_58a0ad4b7f2740089b6841b91b606e8d",
              "IPY_MODEL_be64100ec55e401f9dd04148ab54c8a0",
              "IPY_MODEL_9e21d6af7fa14ddaae5f0a447650ee80"
            ],
            "layout": "IPY_MODEL_3c9e48fb64244d7eb4c9d1ab5ccf52f9"
          }
        },
        "58a0ad4b7f2740089b6841b91b606e8d": {
          "model_module": "@jupyter-widgets/controls",
          "model_name": "HTMLModel",
          "model_module_version": "1.5.0",
          "state": {
            "_dom_classes": [],
            "_model_module": "@jupyter-widgets/controls",
            "_model_module_version": "1.5.0",
            "_model_name": "HTMLModel",
            "_view_count": null,
            "_view_module": "@jupyter-widgets/controls",
            "_view_module_version": "1.5.0",
            "_view_name": "HTMLView",
            "description": "",
            "description_tooltip": null,
            "layout": "IPY_MODEL_55856d711f6b484f8957784d760b00c5",
            "placeholder": "​",
            "style": "IPY_MODEL_499c18b435a946159cd4f8048dc2374d",
            "value": "Epoch 9: 100%"
          }
        },
        "be64100ec55e401f9dd04148ab54c8a0": {
          "model_module": "@jupyter-widgets/controls",
          "model_name": "FloatProgressModel",
          "model_module_version": "1.5.0",
          "state": {
            "_dom_classes": [],
            "_model_module": "@jupyter-widgets/controls",
            "_model_module_version": "1.5.0",
            "_model_name": "FloatProgressModel",
            "_view_count": null,
            "_view_module": "@jupyter-widgets/controls",
            "_view_module_version": "1.5.0",
            "_view_name": "ProgressView",
            "bar_style": "success",
            "description": "",
            "description_tooltip": null,
            "layout": "IPY_MODEL_5b1363e9d65c48d29cb0ec5b4c237c6f",
            "max": 938,
            "min": 0,
            "orientation": "horizontal",
            "style": "IPY_MODEL_63cbe90930b340b680736cc44898bc7d",
            "value": 938
          }
        },
        "9e21d6af7fa14ddaae5f0a447650ee80": {
          "model_module": "@jupyter-widgets/controls",
          "model_name": "HTMLModel",
          "model_module_version": "1.5.0",
          "state": {
            "_dom_classes": [],
            "_model_module": "@jupyter-widgets/controls",
            "_model_module_version": "1.5.0",
            "_model_name": "HTMLModel",
            "_view_count": null,
            "_view_module": "@jupyter-widgets/controls",
            "_view_module_version": "1.5.0",
            "_view_name": "HTMLView",
            "description": "",
            "description_tooltip": null,
            "layout": "IPY_MODEL_4bb67f51ad7a4642a5c7ae5ec3a661d1",
            "placeholder": "​",
            "style": "IPY_MODEL_c06f4f71e200416a85545c424e432de4",
            "value": " 938/938 [00:14&lt;00:00, 65.66it/s, v_num=65, ema_loss=0.0411]"
          }
        },
        "3c9e48fb64244d7eb4c9d1ab5ccf52f9": {
          "model_module": "@jupyter-widgets/base",
          "model_name": "LayoutModel",
          "model_module_version": "1.2.0",
          "state": {
            "_model_module": "@jupyter-widgets/base",
            "_model_module_version": "1.2.0",
            "_model_name": "LayoutModel",
            "_view_count": null,
            "_view_module": "@jupyter-widgets/base",
            "_view_module_version": "1.2.0",
            "_view_name": "LayoutView",
            "align_content": null,
            "align_items": null,
            "align_self": null,
            "border": null,
            "bottom": null,
            "display": "inline-flex",
            "flex": null,
            "flex_flow": "row wrap",
            "grid_area": null,
            "grid_auto_columns": null,
            "grid_auto_flow": null,
            "grid_auto_rows": null,
            "grid_column": null,
            "grid_gap": null,
            "grid_row": null,
            "grid_template_areas": null,
            "grid_template_columns": null,
            "grid_template_rows": null,
            "height": null,
            "justify_content": null,
            "justify_items": null,
            "left": null,
            "margin": null,
            "max_height": null,
            "max_width": null,
            "min_height": null,
            "min_width": null,
            "object_fit": null,
            "object_position": null,
            "order": null,
            "overflow": null,
            "overflow_x": null,
            "overflow_y": null,
            "padding": null,
            "right": null,
            "top": null,
            "visibility": null,
            "width": "100%"
          }
        },
        "55856d711f6b484f8957784d760b00c5": {
          "model_module": "@jupyter-widgets/base",
          "model_name": "LayoutModel",
          "model_module_version": "1.2.0",
          "state": {
            "_model_module": "@jupyter-widgets/base",
            "_model_module_version": "1.2.0",
            "_model_name": "LayoutModel",
            "_view_count": null,
            "_view_module": "@jupyter-widgets/base",
            "_view_module_version": "1.2.0",
            "_view_name": "LayoutView",
            "align_content": null,
            "align_items": null,
            "align_self": null,
            "border": null,
            "bottom": null,
            "display": null,
            "flex": null,
            "flex_flow": null,
            "grid_area": null,
            "grid_auto_columns": null,
            "grid_auto_flow": null,
            "grid_auto_rows": null,
            "grid_column": null,
            "grid_gap": null,
            "grid_row": null,
            "grid_template_areas": null,
            "grid_template_columns": null,
            "grid_template_rows": null,
            "height": null,
            "justify_content": null,
            "justify_items": null,
            "left": null,
            "margin": null,
            "max_height": null,
            "max_width": null,
            "min_height": null,
            "min_width": null,
            "object_fit": null,
            "object_position": null,
            "order": null,
            "overflow": null,
            "overflow_x": null,
            "overflow_y": null,
            "padding": null,
            "right": null,
            "top": null,
            "visibility": null,
            "width": null
          }
        },
        "499c18b435a946159cd4f8048dc2374d": {
          "model_module": "@jupyter-widgets/controls",
          "model_name": "DescriptionStyleModel",
          "model_module_version": "1.5.0",
          "state": {
            "_model_module": "@jupyter-widgets/controls",
            "_model_module_version": "1.5.0",
            "_model_name": "DescriptionStyleModel",
            "_view_count": null,
            "_view_module": "@jupyter-widgets/base",
            "_view_module_version": "1.2.0",
            "_view_name": "StyleView",
            "description_width": ""
          }
        },
        "5b1363e9d65c48d29cb0ec5b4c237c6f": {
          "model_module": "@jupyter-widgets/base",
          "model_name": "LayoutModel",
          "model_module_version": "1.2.0",
          "state": {
            "_model_module": "@jupyter-widgets/base",
            "_model_module_version": "1.2.0",
            "_model_name": "LayoutModel",
            "_view_count": null,
            "_view_module": "@jupyter-widgets/base",
            "_view_module_version": "1.2.0",
            "_view_name": "LayoutView",
            "align_content": null,
            "align_items": null,
            "align_self": null,
            "border": null,
            "bottom": null,
            "display": null,
            "flex": "2",
            "flex_flow": null,
            "grid_area": null,
            "grid_auto_columns": null,
            "grid_auto_flow": null,
            "grid_auto_rows": null,
            "grid_column": null,
            "grid_gap": null,
            "grid_row": null,
            "grid_template_areas": null,
            "grid_template_columns": null,
            "grid_template_rows": null,
            "height": null,
            "justify_content": null,
            "justify_items": null,
            "left": null,
            "margin": null,
            "max_height": null,
            "max_width": null,
            "min_height": null,
            "min_width": null,
            "object_fit": null,
            "object_position": null,
            "order": null,
            "overflow": null,
            "overflow_x": null,
            "overflow_y": null,
            "padding": null,
            "right": null,
            "top": null,
            "visibility": null,
            "width": null
          }
        },
        "63cbe90930b340b680736cc44898bc7d": {
          "model_module": "@jupyter-widgets/controls",
          "model_name": "ProgressStyleModel",
          "model_module_version": "1.5.0",
          "state": {
            "_model_module": "@jupyter-widgets/controls",
            "_model_module_version": "1.5.0",
            "_model_name": "ProgressStyleModel",
            "_view_count": null,
            "_view_module": "@jupyter-widgets/base",
            "_view_module_version": "1.2.0",
            "_view_name": "StyleView",
            "bar_color": null,
            "description_width": ""
          }
        },
        "4bb67f51ad7a4642a5c7ae5ec3a661d1": {
          "model_module": "@jupyter-widgets/base",
          "model_name": "LayoutModel",
          "model_module_version": "1.2.0",
          "state": {
            "_model_module": "@jupyter-widgets/base",
            "_model_module_version": "1.2.0",
            "_model_name": "LayoutModel",
            "_view_count": null,
            "_view_module": "@jupyter-widgets/base",
            "_view_module_version": "1.2.0",
            "_view_name": "LayoutView",
            "align_content": null,
            "align_items": null,
            "align_self": null,
            "border": null,
            "bottom": null,
            "display": null,
            "flex": null,
            "flex_flow": null,
            "grid_area": null,
            "grid_auto_columns": null,
            "grid_auto_flow": null,
            "grid_auto_rows": null,
            "grid_column": null,
            "grid_gap": null,
            "grid_row": null,
            "grid_template_areas": null,
            "grid_template_columns": null,
            "grid_template_rows": null,
            "height": null,
            "justify_content": null,
            "justify_items": null,
            "left": null,
            "margin": null,
            "max_height": null,
            "max_width": null,
            "min_height": null,
            "min_width": null,
            "object_fit": null,
            "object_position": null,
            "order": null,
            "overflow": null,
            "overflow_x": null,
            "overflow_y": null,
            "padding": null,
            "right": null,
            "top": null,
            "visibility": null,
            "width": null
          }
        },
        "c06f4f71e200416a85545c424e432de4": {
          "model_module": "@jupyter-widgets/controls",
          "model_name": "DescriptionStyleModel",
          "model_module_version": "1.5.0",
          "state": {
            "_model_module": "@jupyter-widgets/controls",
            "_model_module_version": "1.5.0",
            "_model_name": "DescriptionStyleModel",
            "_view_count": null,
            "_view_module": "@jupyter-widgets/base",
            "_view_module_version": "1.2.0",
            "_view_name": "StyleView",
            "description_width": ""
          }
        }
      }
    }
  },
  "nbformat": 4,
  "nbformat_minor": 5
}