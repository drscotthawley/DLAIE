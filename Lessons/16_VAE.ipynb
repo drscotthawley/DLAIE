{
  "cells": [
    {
      "cell_type": "markdown",
      "id": "f43a6642",
      "metadata": {
        "id": "f43a6642"
      },
      "source": [
        "[![open in colab](https://colab.research.google.com/assets/colab-badge.svg)](https://colab.research.google.com/github/drscotthawley/DLAIE/blob/main/Lessons/16_VAE.ipynb)"
      ]
    },
    {
      "cell_type": "markdown",
      "id": "65f8f4a9",
      "metadata": {
        "id": "65f8f4a9"
      },
      "source": [
        "# Let's Make a Variational AutoEncoder (VAE)\n",
        "\n",
        "Essentially:\n",
        "* we force the Decoder to decode points in latent space *nearby* to the point corresponding to the encoded image\n",
        "* we 'srunch' the latent space so it looks like a gaussian"
      ]
    },
    {
      "cell_type": "code",
      "execution_count": null,
      "id": "2d719f98",
      "metadata": {
        "id": "2d719f98",
        "outputId": "b51d070c-db75-4acc-9f07-659d02021910",
        "colab": {
          "base_uri": "https://localhost:8080/"
        }
      },
      "outputs": [
        {
          "output_type": "stream",
          "name": "stdout",
          "text": [
            "\u001b[2K     \u001b[90m━━━━━━━━━━━━━━━━━━━━━━━━━━━━━━━━━━━━━━━━\u001b[0m \u001b[32m2.0/2.0 MB\u001b[0m \u001b[31m9.8 MB/s\u001b[0m eta \u001b[36m0:00:00\u001b[0m\n",
            "\u001b[2K     \u001b[90m━━━━━━━━━━━━━━━━━━━━━━━━━━━━━━━━━━━━━━━━\u001b[0m \u001b[32m840.2/840.2 kB\u001b[0m \u001b[31m13.3 MB/s\u001b[0m eta \u001b[36m0:00:00\u001b[0m\n",
            "\u001b[2K     \u001b[90m━━━━━━━━━━━━━━━━━━━━━━━━━━━━━━━━━━━━━━━━\u001b[0m \u001b[32m777.7/777.7 kB\u001b[0m \u001b[31m25.4 MB/s\u001b[0m eta \u001b[36m0:00:00\u001b[0m\n",
            "\u001b[?25h"
          ]
        }
      ],
      "source": [
        "# we'll use pytorch lightning as an alternative to raw pytorch\n",
        "!pip install -qq lightning"
      ]
    },
    {
      "cell_type": "code",
      "execution_count": null,
      "id": "d6932b44",
      "metadata": {
        "id": "d6932b44"
      },
      "outputs": [],
      "source": [
        "import torch\n",
        "from torch import nn, optim, utils\n",
        "from torch.utils.data import DataLoader\n",
        "from torchvision.datasets import MNIST\n",
        "from torchvision.transforms import ToTensor\n",
        "import torchvision\n",
        "import matplotlib.pyplot as plt\n",
        "import lightning as L"
      ]
    },
    {
      "cell_type": "markdown",
      "id": "a54bb357",
      "metadata": {
        "id": "a54bb357"
      },
      "source": [
        "## Setup Dataset\n",
        "Yep, good 'ol MNIST. It's small and easy and you can do it on a CPU. Let's keep everything super-simple at first: black & white images."
      ]
    },
    {
      "cell_type": "code",
      "execution_count": null,
      "id": "52508200",
      "metadata": {
        "id": "52508200",
        "outputId": "ee0b6d37-50c0-4a27-9cc8-e94b84346410",
        "colab": {
          "base_uri": "https://localhost:8080/"
        }
      },
      "outputs": [
        {
          "output_type": "stream",
          "name": "stdout",
          "text": [
            "Downloading http://yann.lecun.com/exdb/mnist/train-images-idx3-ubyte.gz\n",
            "Downloading http://yann.lecun.com/exdb/mnist/train-images-idx3-ubyte.gz to ./data/MNIST/raw/train-images-idx3-ubyte.gz\n"
          ]
        },
        {
          "output_type": "stream",
          "name": "stderr",
          "text": [
            "100%|██████████| 9912422/9912422 [00:00<00:00, 67934057.70it/s]\n"
          ]
        },
        {
          "output_type": "stream",
          "name": "stdout",
          "text": [
            "Extracting ./data/MNIST/raw/train-images-idx3-ubyte.gz to ./data/MNIST/raw\n",
            "\n",
            "Downloading http://yann.lecun.com/exdb/mnist/train-labels-idx1-ubyte.gz\n",
            "Downloading http://yann.lecun.com/exdb/mnist/train-labels-idx1-ubyte.gz to ./data/MNIST/raw/train-labels-idx1-ubyte.gz\n"
          ]
        },
        {
          "output_type": "stream",
          "name": "stderr",
          "text": [
            "100%|██████████| 28881/28881 [00:00<00:00, 23826847.72it/s]"
          ]
        },
        {
          "output_type": "stream",
          "name": "stdout",
          "text": [
            "Extracting ./data/MNIST/raw/train-labels-idx1-ubyte.gz to ./data/MNIST/raw\n",
            "\n",
            "Downloading http://yann.lecun.com/exdb/mnist/t10k-images-idx3-ubyte.gz\n",
            "Downloading http://yann.lecun.com/exdb/mnist/t10k-images-idx3-ubyte.gz to ./data/MNIST/raw/t10k-images-idx3-ubyte.gz\n"
          ]
        },
        {
          "output_type": "stream",
          "name": "stderr",
          "text": [
            "\n",
            "100%|██████████| 1648877/1648877 [00:00<00:00, 31468625.96it/s]\n"
          ]
        },
        {
          "output_type": "stream",
          "name": "stdout",
          "text": [
            "Extracting ./data/MNIST/raw/t10k-images-idx3-ubyte.gz to ./data/MNIST/raw\n",
            "\n",
            "Downloading http://yann.lecun.com/exdb/mnist/t10k-labels-idx1-ubyte.gz\n",
            "Downloading http://yann.lecun.com/exdb/mnist/t10k-labels-idx1-ubyte.gz to ./data/MNIST/raw/t10k-labels-idx1-ubyte.gz\n"
          ]
        },
        {
          "output_type": "stream",
          "name": "stderr",
          "text": [
            "100%|██████████| 4542/4542 [00:00<00:00, 20617455.38it/s]\n"
          ]
        },
        {
          "output_type": "stream",
          "name": "stdout",
          "text": [
            "Extracting ./data/MNIST/raw/t10k-labels-idx1-ubyte.gz to ./data/MNIST/raw\n",
            "\n",
            "Data set lengths: train: 60000, test: 10000\n"
          ]
        }
      ],
      "source": [
        "train_ds = MNIST(root='./data', train=True,  download=True, transform=ToTensor())\n",
        "test_ds  = MNIST(root='./data', train=False, download=True, transform=ToTensor())\n",
        "print(f\"Data set lengths: train: {len(train_ds)}, test: {len(test_ds)}\")"
      ]
    },
    {
      "cell_type": "markdown",
      "id": "7e96b826",
      "metadata": {
        "id": "7e96b826"
      },
      "source": [
        "Inspect it a bit.."
      ]
    },
    {
      "cell_type": "code",
      "execution_count": null,
      "id": "7eea425d",
      "metadata": {
        "id": "7eea425d",
        "outputId": "b6a2b590-c3f1-45bd-8a1d-bae6b34cc825",
        "colab": {
          "base_uri": "https://localhost:8080/",
          "height": 255
        }
      },
      "outputs": [
        {
          "output_type": "stream",
          "name": "stdout",
          "text": [
            "y (target) = 5 \n",
            "x.shape = (28, 28), min(x) = 0.0, max(x) = 1.0\n"
          ]
        },
        {
          "output_type": "display_data",
          "data": {
            "text/plain": [
              "<Figure size 300x200 with 2 Axes>"
            ],
            "image/png": "[encoded data removed]"
          },
          "metadata": {}
        }
      ],
      "source": [
        "x, y = train_ds[0]   # pick an element\n",
        "print(f\"y (target) = {y} \")\n",
        "\n",
        "def show_xs(xs, show_stats=True):\n",
        "    \"A little utility we'll call again & again to show one or more images\"\n",
        "    if type(xs) is not list: xs = list(xs)\n",
        "    ncols = len(xs)\n",
        "    fig, axs = plt.subplots(figsize=(3*ncols,2), ncols=ncols, squeeze=False)\n",
        "    ax = axs.ravel()\n",
        "    for col, x in enumerate(xs):\n",
        "        if len(x.shape)>2: x = x[0] # remove any batch dimension\n",
        "        if show_stats:\n",
        "            if ncols > 1: print(f\"col {col}: \",end=\"\")\n",
        "            print(f\"x.shape = {tuple(x.shape)}, min(x) = {torch.min(x)}, max(x) = {torch.max(x)}\")\n",
        "        digit = ax[col].imshow(x.detach().cpu().numpy(), cmap='gray')\n",
        "        fig.colorbar(digit, ax=ax[col])\n",
        "    plt.show()\n",
        "\n",
        "show_xs([x])"
      ]
    },
    {
      "cell_type": "markdown",
      "id": "b434a698",
      "metadata": {
        "id": "b434a698"
      },
      "source": [
        "Define dataloaders"
      ]
    },
    {
      "cell_type": "code",
      "execution_count": null,
      "id": "e336063c",
      "metadata": {
        "id": "e336063c",
        "outputId": "da80c2f9-8097-4d67-830b-9519ed810124",
        "colab": {
          "base_uri": "https://localhost:8080/"
        }
      },
      "outputs": [
        {
          "output_type": "stream",
          "name": "stderr",
          "text": [
            "/usr/local/lib/python3.10/dist-packages/torch/utils/data/dataloader.py:557: UserWarning: This DataLoader will create 4 worker processes in total. Our suggested max number of worker in current system is 2, which is smaller than what this DataLoader is going to create. Please be aware that excessive worker creation might get DataLoader running slow or even freeze, lower the worker number to avoid potential slowness/freeze if necessary.\n",
            "  warnings.warn(_create_warning_msg(\n"
          ]
        }
      ],
      "source": [
        "batch_size = 64\n",
        "train_dl = DataLoader(train_ds, batch_size=batch_size, num_workers=4, shuffle=True)\n",
        "test_dl = DataLoader(test_ds, batch_size=batch_size, num_workers=4, shuffle=False)"
      ]
    },
    {
      "cell_type": "markdown",
      "id": "f8b45272",
      "metadata": {
        "id": "f8b45272"
      },
      "source": [
        "## Make an (Regular) AE Model\n",
        "\n",
        "First we'll try a regular autoencoder. Then we'll make it \"variational\""
      ]
    },
    {
      "cell_type": "code",
      "execution_count": null,
      "id": "5e4bd450",
      "metadata": {
        "id": "5e4bd450"
      },
      "outputs": [],
      "source": [
        "latent_dim = 3\n",
        "\n",
        "n_hid = [256, 64, latent_dim]\n",
        "\n",
        "act = nn.LeakyReLU\n",
        "\n",
        "encoder = nn.Sequential(\n",
        "                nn.Linear(28 * 28, n_hid[0]),\n",
        "                act(),\n",
        "                nn.Linear(n_hid[0], n_hid[1]),\n",
        "                act(),\n",
        "                nn.Linear(n_hid[-2], latent_dim))\n",
        "\n",
        "decoder = nn.Sequential(\n",
        "                nn.Linear(latent_dim, n_hid[-2]),\n",
        "                act(),\n",
        "                nn.Linear(n_hid[1], n_hid[0]),\n",
        "                act(),\n",
        "                nn.Linear(n_hid[0], 28 * 28))"
      ]
    },
    {
      "cell_type": "code",
      "execution_count": null,
      "id": "8ae4dace",
      "metadata": {
        "id": "8ae4dace",
        "outputId": "885d9c0e-a341-4c3b-ca97-917ccdf86dcb",
        "colab": {
          "base_uri": "https://localhost:8080/",
          "height": 252
        }
      },
      "outputs": [
        {
          "output_type": "stream",
          "name": "stdout",
          "text": [
            "z =  tensor([[-0.0290,  0.1393, -0.0538]], grad_fn=<AddmmBackward0>)\n",
            "x.shape = (28, 28), min(x) = -0.23054957389831543, max(x) = 0.1821378767490387\n"
          ]
        },
        {
          "output_type": "display_data",
          "data": {
            "text/plain": [
              "<Figure size 300x200 with 2 Axes>"
            ],
            "image/png": "[encoded data removed]"
          },
          "metadata": {}
        }
      ],
      "source": [
        "# test it\n",
        "z = encoder(x.view(x.size(0), -1) )\n",
        "print(\"z = \",z)\n",
        "x_hat = decoder(z)\n",
        "x_hat = x_hat.view(x.size(0), 28, -1)\n",
        "show_xs(x_hat)"
      ]
    },
    {
      "cell_type": "code",
      "execution_count": null,
      "id": "42c8f30f",
      "metadata": {
        "id": "42c8f30f"
      },
      "outputs": [],
      "source": [
        "# instead of nn.Module, we use L.LightningModule\n",
        "class AEModel(L.LightningModule):\n",
        "    def __init__(self, encoder, decoder):\n",
        "        super().__init__()\n",
        "        self.encoder = encoder\n",
        "        self.decoder = decoder\n",
        "\n",
        "    def forward(self, x):\n",
        "        z = self.encoder(x)\n",
        "        x_hat = self.decoder(z)\n",
        "        return z, x_hat\n",
        "\n",
        "    def training_step(self, batch, batch_idx):\n",
        "        x, y = batch\n",
        "        x = x.view(x.size(0), -1)  # flatten for linear layer\n",
        "        z, x_hat = self.forward(x)\n",
        "        loss = nn.functional.mse_loss(x_hat, x)\n",
        "        self.log('loss', loss, prog_bar=True)\n",
        "        return loss\n",
        "\n",
        "    def configure_optimizers(self):\n",
        "        return optim.Adam(self.parameters(), lr=1e-3)"
      ]
    },
    {
      "cell_type": "code",
      "execution_count": null,
      "id": "c56b2473",
      "metadata": {
        "id": "c56b2473",
        "outputId": "719c3aec-3177-48cf-b447-ef0c869d47c9",
        "colab": {
          "base_uri": "https://localhost:8080/",
          "height": 694,
          "referenced_widgets": [
            "25d25df78cbb4700947bd2cfd35f2569",
            "cf2a2e8d69914bd08774d65b868b204f",
            "f9884c256df14918884f6dd8213c5ba2",
            "dad5197f5bf04c3993c0ee2fa47f1b40",
            "4273d325f5be442ebb1834f422fa25b1",
            "4a89d7c572364c35944a03dc910bf50d",
            "b9f96a97905644da88553a489e7d3519",
            "3a3b6a62858f40bf9595fba2948be230",
            "be8ae440e9bf47079b46f13aaadbebfb",
            "27b9aec881be4ae2a6cd90099afe8fa7",
            "54e493303d714793ba995029a66a8092"
          ]
        }
      },
      "outputs": [
        {
          "output_type": "stream",
          "name": "stderr",
          "text": [
            "INFO: GPU available: True (cuda), used: True\n",
            "INFO:lightning.pytorch.utilities.rank_zero:GPU available: True (cuda), used: True\n",
            "INFO: TPU available: False, using: 0 TPU cores\n",
            "INFO:lightning.pytorch.utilities.rank_zero:TPU available: False, using: 0 TPU cores\n",
            "INFO: IPU available: False, using: 0 IPUs\n",
            "INFO:lightning.pytorch.utilities.rank_zero:IPU available: False, using: 0 IPUs\n",
            "INFO: HPU available: False, using: 0 HPUs\n",
            "INFO:lightning.pytorch.utilities.rank_zero:HPU available: False, using: 0 HPUs\n",
            "WARNING: Missing logger folder: /content/lightning_logs\n",
            "WARNING:lightning.pytorch.loggers.tensorboard:Missing logger folder: /content/lightning_logs\n",
            "INFO: LOCAL_RANK: 0 - CUDA_VISIBLE_DEVICES: [0]\n",
            "INFO:lightning.pytorch.accelerators.cuda:LOCAL_RANK: 0 - CUDA_VISIBLE_DEVICES: [0]\n",
            "INFO: \n",
            "  | Name    | Type       | Params\n",
            "---------------------------------------\n",
            "0 | encoder | Sequential | 217 K \n",
            "1 | decoder | Sequential | 218 K \n",
            "---------------------------------------\n",
            "435 K     Trainable params\n",
            "0         Non-trainable params\n",
            "435 K     Total params\n",
            "1.744     Total estimated model params size (MB)\n",
            "INFO:lightning.pytorch.callbacks.model_summary:\n",
            "  | Name    | Type       | Params\n",
            "---------------------------------------\n",
            "0 | encoder | Sequential | 217 K \n",
            "1 | decoder | Sequential | 218 K \n",
            "---------------------------------------\n",
            "435 K     Trainable params\n",
            "0         Non-trainable params\n",
            "435 K     Total params\n",
            "1.744     Total estimated model params size (MB)\n",
            "/usr/local/lib/python3.10/dist-packages/torch/utils/data/dataloader.py:557: UserWarning: This DataLoader will create 4 worker processes in total. Our suggested max number of worker in current system is 2, which is smaller than what this DataLoader is going to create. Please be aware that excessive worker creation might get DataLoader running slow or even freeze, lower the worker number to avoid potential slowness/freeze if necessary.\n",
            "  warnings.warn(_create_warning_msg(\n"
          ]
        },
        {
          "output_type": "display_data",
          "data": {
            "text/plain": [
              "Training: |          | 0/? [00:00<?, ?it/s]"
            ],
            "application/vnd.jupyter.widget-view+json": {
              "version_major": 2,
              "version_minor": 0,
              "model_id": "25d25df78cbb4700947bd2cfd35f2569"
            }
          },
          "metadata": {}
        },
        {
          "output_type": "stream",
          "name": "stderr",
          "text": [
            "INFO: `Trainer.fit` stopped: `max_epochs=2` reached.\n",
            "INFO:lightning.pytorch.utilities.rank_zero:`Trainer.fit` stopped: `max_epochs=2` reached.\n"
          ]
        }
      ],
      "source": [
        "autoencoder = AEModel(encoder, decoder)\n",
        "\n",
        "epochs = 2\n",
        "trainer = L.Trainer(max_epochs=epochs, devices=\"auto\")\n",
        "trainer.fit(model=autoencoder, train_dataloaders=train_dl)"
      ]
    },
    {
      "cell_type": "code",
      "execution_count": null,
      "id": "cb5ed374",
      "metadata": {
        "id": "cb5ed374",
        "colab": {
          "base_uri": "https://localhost:8080/",
          "height": 272
        },
        "outputId": "df136112-0026-4adb-b9b0-73998b462189"
      },
      "outputs": [
        {
          "output_type": "stream",
          "name": "stdout",
          "text": [
            "z =  tensor([[-0.0290,  0.1393, -0.0538]], grad_fn=<AddmmBackward0>)\n",
            "col 0: x.shape = (28, 28), min(x) = 0.0, max(x) = 1.0\n",
            "col 1: x.shape = (28, 28), min(x) = -0.08333780616521835, max(x) = 1.0663714408874512\n"
          ]
        },
        {
          "output_type": "display_data",
          "data": {
            "text/plain": [
              "<Figure size 600x200 with 4 Axes>"
            ],
            "image/png": "[encoded data removed]"
          },
          "metadata": {}
        }
      ],
      "source": [
        "@torch.no_grad()\n",
        "def test_inference(model, idx=None):\n",
        "    \"Another utility we'll use for running images through the (V)AE\"\n",
        "    if idx is None: idx = torch.randint( len(test_ds), (1,) )[0]\n",
        "    x, y = test_ds[idx]\n",
        "    x_hat = model.forward(x.view(x.size(0), -1))[-1]\n",
        "    print(\"z = \",z)\n",
        "    x_hat = x_hat.view(x.size(0), 28, -1)\n",
        "    show_xs([x,x_hat])\n",
        "\n",
        "idx = 3\n",
        "test_inference(autoencoder, idx=idx)"
      ]
    },
    {
      "cell_type": "markdown",
      "id": "85ab8d6c",
      "metadata": {
        "id": "85ab8d6c"
      },
      "source": [
        "## Now Let's Make it 'Varational'"
      ]
    },
    {
      "cell_type": "code",
      "execution_count": null,
      "id": "c0260e18",
      "metadata": {
        "id": "c0260e18"
      },
      "outputs": [],
      "source": [
        "# encoder now spits out mean and variance\n",
        "vae_encoder = nn.Sequential(\n",
        "                nn.Linear(28 * 28, n_hid[0]),\n",
        "                act(),\n",
        "                nn.Linear(n_hid[0], n_hid[1]),\n",
        "                act(),\n",
        "                nn.Linear(n_hid[-2], latent_dim*2)) # *2 b/c mu, log_var\n",
        "\n",
        "# decoder same as before\n",
        "decoder = nn.Sequential(\n",
        "                nn.Linear(latent_dim, n_hid[-2]),\n",
        "                act(),\n",
        "                nn.Linear(n_hid[1], n_hid[0]),\n",
        "                act(),\n",
        "                nn.Linear(n_hid[0], 28 * 28))"
      ]
    },
    {
      "cell_type": "code",
      "execution_count": null,
      "id": "e85483b5",
      "metadata": {
        "id": "e85483b5"
      },
      "outputs": [],
      "source": [
        "# instead of nn.Module, we use L.LightningModule\n",
        "class VAEModel(L.LightningModule):\n",
        "    def __init__(self, encoder, decoder):\n",
        "        super().__init__()\n",
        "        self.encoder = encoder\n",
        "        self.decoder = decoder\n",
        "\n",
        "    def reparam_sample(self, mu, log_var):\n",
        "        std = torch.exp(0.5*log_var).sqrt() # why the 0.5?\n",
        "        noise = torch.randn_like(std)       # the \"noise\"\n",
        "        return mu + std * noise\n",
        "\n",
        "    def forward(self, x):\n",
        "        z = self.encoder(x)\n",
        "        i_half = z.shape[-1]//2\n",
        "        mu, log_var = z[:,:i_half],  z[:,i_half:]\n",
        "        z_hat = self.reparam_sample(mu, log_var)\n",
        "        x_hat = self.decoder(z_hat)\n",
        "        return z, mu, log_var, z_hat, x_hat\n",
        "\n",
        "    def training_step(self, batch, batch_idx):\n",
        "        x, y = batch\n",
        "        x = x.view(x.size(0), -1)  # flatten for linear layer\n",
        "        z, mu, log_var, z_hat, x_hat = self.forward(x)\n",
        "        recon_loss = nn.functional.mse_loss(x_hat, x)\n",
        "        scrunch_factor = 0.0046\n",
        "        kl_loss = -0.5 * torch.mean(1 + log_var - mu.pow(2) - log_var.exp())\n",
        "        loss = recon_loss + kl_loss*scrunch_factor\n",
        "        self.log('loss', loss, prog_bar=True)\n",
        "        return loss\n",
        "\n",
        "    def configure_optimizers(self):\n",
        "        return optim.Adam(self.parameters(), lr=1e-3)"
      ]
    },
    {
      "cell_type": "code",
      "execution_count": null,
      "id": "1471e65c",
      "metadata": {
        "id": "1471e65c",
        "colab": {
          "base_uri": "https://localhost:8080/",
          "height": 659,
          "referenced_widgets": [
            "1c878c545a7d4d1ca37b475c26de3c08",
            "f73d861fa8bb4476aa9f8161c3871716",
            "0a91ce10a2fe4da1b2c01bddc12abcca",
            "0515bb33599c45dc91c397815efce689",
            "e5bb16a797954590a29bccf679dedaf2",
            "8b9e2f678cad4b5b961ffd9e36deb2ff",
            "391c8ed0d64d4f1c906195f65462d4a1",
            "9af6d7c35855471994290f72ac04ef88",
            "76a08ec41f624b26ab417139e768fae3",
            "51a9d89e7c784fb299ff6566d465790f",
            "7e71af96ce4e42bdacaeb99e773c3677"
          ]
        },
        "outputId": "73861cf4-3e1b-47c8-d699-c393f8a0fe7a"
      },
      "outputs": [
        {
          "output_type": "stream",
          "name": "stderr",
          "text": [
            "INFO: GPU available: True (cuda), used: True\n",
            "INFO:lightning.pytorch.utilities.rank_zero:GPU available: True (cuda), used: True\n",
            "INFO: TPU available: False, using: 0 TPU cores\n",
            "INFO:lightning.pytorch.utilities.rank_zero:TPU available: False, using: 0 TPU cores\n",
            "INFO: IPU available: False, using: 0 IPUs\n",
            "INFO:lightning.pytorch.utilities.rank_zero:IPU available: False, using: 0 IPUs\n",
            "INFO: HPU available: False, using: 0 HPUs\n",
            "INFO:lightning.pytorch.utilities.rank_zero:HPU available: False, using: 0 HPUs\n",
            "INFO: LOCAL_RANK: 0 - CUDA_VISIBLE_DEVICES: [0]\n",
            "INFO:lightning.pytorch.accelerators.cuda:LOCAL_RANK: 0 - CUDA_VISIBLE_DEVICES: [0]\n",
            "INFO: \n",
            "  | Name    | Type       | Params\n",
            "---------------------------------------\n",
            "0 | encoder | Sequential | 217 K \n",
            "1 | decoder | Sequential | 218 K \n",
            "---------------------------------------\n",
            "436 K     Trainable params\n",
            "0         Non-trainable params\n",
            "436 K     Total params\n",
            "1.745     Total estimated model params size (MB)\n",
            "INFO:lightning.pytorch.callbacks.model_summary:\n",
            "  | Name    | Type       | Params\n",
            "---------------------------------------\n",
            "0 | encoder | Sequential | 217 K \n",
            "1 | decoder | Sequential | 218 K \n",
            "---------------------------------------\n",
            "436 K     Trainable params\n",
            "0         Non-trainable params\n",
            "436 K     Total params\n",
            "1.745     Total estimated model params size (MB)\n",
            "/usr/local/lib/python3.10/dist-packages/torch/utils/data/dataloader.py:557: UserWarning: This DataLoader will create 4 worker processes in total. Our suggested max number of worker in current system is 2, which is smaller than what this DataLoader is going to create. Please be aware that excessive worker creation might get DataLoader running slow or even freeze, lower the worker number to avoid potential slowness/freeze if necessary.\n",
            "  warnings.warn(_create_warning_msg(\n"
          ]
        },
        {
          "output_type": "display_data",
          "data": {
            "text/plain": [
              "Training: |          | 0/? [00:00<?, ?it/s]"
            ],
            "application/vnd.jupyter.widget-view+json": {
              "version_major": 2,
              "version_minor": 0,
              "model_id": "1c878c545a7d4d1ca37b475c26de3c08"
            }
          },
          "metadata": {}
        },
        {
          "output_type": "stream",
          "name": "stderr",
          "text": [
            "INFO: `Trainer.fit` stopped: `max_epochs=4` reached.\n",
            "INFO:lightning.pytorch.utilities.rank_zero:`Trainer.fit` stopped: `max_epochs=4` reached.\n"
          ]
        }
      ],
      "source": [
        "vae = VAEModel(vae_encoder, decoder)\n",
        "\n",
        "epochs = 4\n",
        "trainer = L.Trainer(max_epochs=epochs, devices=\"auto\")\n",
        "trainer.fit(model=vae, train_dataloaders=train_dl)"
      ]
    },
    {
      "cell_type": "code",
      "execution_count": null,
      "id": "223d22ea",
      "metadata": {
        "id": "223d22ea",
        "colab": {
          "base_uri": "https://localhost:8080/",
          "height": 272
        },
        "outputId": "ebf9651b-4464-4734-a514-eff64aadfb12"
      },
      "outputs": [
        {
          "output_type": "stream",
          "name": "stdout",
          "text": [
            "z =  tensor([[-0.0290,  0.1393, -0.0538]], grad_fn=<AddmmBackward0>)\n",
            "col 0: x.shape = (28, 28), min(x) = 0.0, max(x) = 1.0\n",
            "col 1: x.shape = (28, 28), min(x) = -0.07424119114875793, max(x) = 1.0696396827697754\n"
          ]
        },
        {
          "output_type": "display_data",
          "data": {
            "text/plain": [
              "<Figure size 600x200 with 4 Axes>"
            ],
            "image/png": "[encoded data removed]"
          },
          "metadata": {}
        }
      ],
      "source": [
        "test_inference(vae, idx=idx)"
      ]
    },
    {
      "cell_type": "markdown",
      "id": "0afb52fc",
      "metadata": {
        "id": "0afb52fc"
      },
      "source": [
        "Looks similar to the regular autoencoder, right?\n",
        "\n",
        "Now let's try perturbing our input a bit"
      ]
    },
    {
      "cell_type": "markdown",
      "id": "eb243c37",
      "metadata": {
        "id": "eb243c37"
      },
      "source": [
        "## Comparing the AE and VAE"
      ]
    },
    {
      "cell_type": "code",
      "execution_count": null,
      "id": "0efea038",
      "metadata": {
        "id": "0efea038",
        "colab": {
          "base_uri": "https://localhost:8080/",
          "height": 458
        },
        "outputId": "a6518bc8-6014-4aee-8b12-f716541df1ea"
      },
      "outputs": [
        {
          "output_type": "stream",
          "name": "stdout",
          "text": [
            "Perturbing the regular autoencoder with strength = 30.0:\n"
          ]
        },
        {
          "output_type": "display_data",
          "data": {
            "text/plain": [
              "<Figure size 600x200 with 4 Axes>"
            ],
            "image/png": "[encoded data removed]"
          },
          "metadata": {}
        },
        {
          "output_type": "stream",
          "name": "stdout",
          "text": [
            "Perturbing the VAE with strength = 30.0:\n"
          ]
        },
        {
          "output_type": "display_data",
          "data": {
            "text/plain": [
              "<Figure size 600x200 with 4 Axes>"
            ],
            "image/png": "[encoded data removed]"
          },
          "metadata": {}
        }
      ],
      "source": [
        "@torch.no_grad()\n",
        "def infer_perturb(model, idx=None, strength=1.0):\n",
        "    \"Another utility we'll use for running images through the (V)AE\"\n",
        "    if idx is None: idx = torch.randint( len(test_ds), (1,) )[0]\n",
        "    x, y = test_ds[idx]\n",
        "    z = model.encoder(x.view(x.size(0), -1))\n",
        "    if z.shape[-1] > latent_dim: z = z[:,:latent_dim]\n",
        "    z_hat = z + strength*torch.randn_like(z)\n",
        "    x_hat = model.decoder(z_hat)\n",
        "    x_hat = x_hat.view(x.size(0), 28, -1)\n",
        "    show_xs([x,x_hat], show_stats=False)\n",
        "\n",
        "idx=0\n",
        "strength = 30.0\n",
        "print(f\"Perturbing the regular autoencoder with strength = {strength}:\")\n",
        "infer_perturb(autoencoder, idx=idx, strength=strength)\n",
        "print(f\"Perturbing the VAE with strength = {strength}:\")\n",
        "infer_perturb(vae, idx=idx, strength=1.0)"
      ]
    },
    {
      "cell_type": "markdown",
      "id": "f4a91448",
      "metadata": {
        "id": "f4a91448"
      },
      "source": [
        "Depending on the random values you get, perturbations may cause the regular AE output to look like not-a-number, whereas the VAE output is probably more stable.\n",
        "\n",
        "Note that typically the output of the regular AE extends way outside the [0,1] intensity bounds.\n",
        "\n",
        "### TODO: Add interpolation."
      ]
    },
    {
      "cell_type": "code",
      "execution_count": null,
      "id": "c75087ea",
      "metadata": {
        "id": "c75087ea"
      },
      "outputs": [],
      "source": []
    }
  ],
  "metadata": {
    "kernelspec": {
      "display_name": "Python 3",
      "name": "python3"
    },
    "language_info": {
      "codemirror_mode": {
        "name": "ipython",
        "version": 3
      },
      "file_extension": ".py",
      "mimetype": "text/x-python",
      "name": "python",
      "nbconvert_exporter": "python",
      "pygments_lexer": "ipython3",
      "version": "3.11.6"
    },
    "colab": {
      "provenance": [],
      "gpuType": "T4"
    },
    "accelerator": "GPU",
    "widgets": {
      "application/vnd.jupyter.widget-state+json": {
        "25d25df78cbb4700947bd2cfd35f2569": {
          "model_module": "@jupyter-widgets/controls",
          "model_name": "HBoxModel",
          "model_module_version": "1.5.0",
          "state": {
            "_dom_classes": [],
            "_model_module": "@jupyter-widgets/controls",
            "_model_module_version": "1.5.0",
            "_model_name": "HBoxModel",
            "_view_count": null,
            "_view_module": "@jupyter-widgets/controls",
            "_view_module_version": "1.5.0",
            "_view_name": "HBoxView",
            "box_style": "",
            "children": [
              "IPY_MODEL_cf2a2e8d69914bd08774d65b868b204f",
              "IPY_MODEL_f9884c256df14918884f6dd8213c5ba2",
              "IPY_MODEL_dad5197f5bf04c3993c0ee2fa47f1b40"
            ],
            "layout": "IPY_MODEL_4273d325f5be442ebb1834f422fa25b1"
          }
        },
        "cf2a2e8d69914bd08774d65b868b204f": {
          "model_module": "@jupyter-widgets/controls",
          "model_name": "HTMLModel",
          "model_module_version": "1.5.0",
          "state": {
            "_dom_classes": [],
            "_model_module": "@jupyter-widgets/controls",
            "_model_module_version": "1.5.0",
            "_model_name": "HTMLModel",
            "_view_count": null,
            "_view_module": "@jupyter-widgets/controls",
            "_view_module_version": "1.5.0",
            "_view_name": "HTMLView",
            "description": "",
            "description_tooltip": null,
            "layout": "IPY_MODEL_4a89d7c572364c35944a03dc910bf50d",
            "placeholder": "​",
            "style": "IPY_MODEL_b9f96a97905644da88553a489e7d3519",
            "value": "Epoch 1: 100%"
          }
        },
        "f9884c256df14918884f6dd8213c5ba2": {
          "model_module": "@jupyter-widgets/controls",
          "model_name": "FloatProgressModel",
          "model_module_version": "1.5.0",
          "state": {
            "_dom_classes": [],
            "_model_module": "@jupyter-widgets/controls",
            "_model_module_version": "1.5.0",
            "_model_name": "FloatProgressModel",
            "_view_count": null,
            "_view_module": "@jupyter-widgets/controls",
            "_view_module_version": "1.5.0",
            "_view_name": "ProgressView",
            "bar_style": "success",
            "description": "",
            "description_tooltip": null,
            "layout": "IPY_MODEL_3a3b6a62858f40bf9595fba2948be230",
            "max": 938,
            "min": 0,
            "orientation": "horizontal",
            "style": "IPY_MODEL_be8ae440e9bf47079b46f13aaadbebfb",
            "value": 938
          }
        },
        "dad5197f5bf04c3993c0ee2fa47f1b40": {
          "model_module": "@jupyter-widgets/controls",
          "model_name": "HTMLModel",
          "model_module_version": "1.5.0",
          "state": {
            "_dom_classes": [],
            "_model_module": "@jupyter-widgets/controls",
            "_model_module_version": "1.5.0",
            "_model_name": "HTMLModel",
            "_view_count": null,
            "_view_module": "@jupyter-widgets/controls",
            "_view_module_version": "1.5.0",
            "_view_name": "HTMLView",
            "description": "",
            "description_tooltip": null,
            "layout": "IPY_MODEL_27b9aec881be4ae2a6cd90099afe8fa7",
            "placeholder": "​",
            "style": "IPY_MODEL_54e493303d714793ba995029a66a8092",
            "value": " 938/938 [00:11&lt;00:00, 82.51it/s, v_num=0, loss=0.0318]"
          }
        },
        "4273d325f5be442ebb1834f422fa25b1": {
          "model_module": "@jupyter-widgets/base",
          "model_name": "LayoutModel",
          "model_module_version": "1.2.0",
          "state": {
            "_model_module": "@jupyter-widgets/base",
            "_model_module_version": "1.2.0",
            "_model_name": "LayoutModel",
            "_view_count": null,
            "_view_module": "@jupyter-widgets/base",
            "_view_module_version": "1.2.0",
            "_view_name": "LayoutView",
            "align_content": null,
            "align_items": null,
            "align_self": null,
            "border": null,
            "bottom": null,
            "display": "inline-flex",
            "flex": null,
            "flex_flow": "row wrap",
            "grid_area": null,
            "grid_auto_columns": null,
            "grid_auto_flow": null,
            "grid_auto_rows": null,
            "grid_column": null,
            "grid_gap": null,
            "grid_row": null,
            "grid_template_areas": null,
            "grid_template_columns": null,
            "grid_template_rows": null,
            "height": null,
            "justify_content": null,
            "justify_items": null,
            "left": null,
            "margin": null,
            "max_height": null,
            "max_width": null,
            "min_height": null,
            "min_width": null,
            "object_fit": null,
            "object_position": null,
            "order": null,
            "overflow": null,
            "overflow_x": null,
            "overflow_y": null,
            "padding": null,
            "right": null,
            "top": null,
            "visibility": null,
            "width": "100%"
          }
        },
        "4a89d7c572364c35944a03dc910bf50d": {
          "model_module": "@jupyter-widgets/base",
          "model_name": "LayoutModel",
          "model_module_version": "1.2.0",
          "state": {
            "_model_module": "@jupyter-widgets/base",
            "_model_module_version": "1.2.0",
            "_model_name": "LayoutModel",
            "_view_count": null,
            "_view_module": "@jupyter-widgets/base",
            "_view_module_version": "1.2.0",
            "_view_name": "LayoutView",
            "align_content": null,
            "align_items": null,
            "align_self": null,
            "border": null,
            "bottom": null,
            "display": null,
            "flex": null,
            "flex_flow": null,
            "grid_area": null,
            "grid_auto_columns": null,
            "grid_auto_flow": null,
            "grid_auto_rows": null,
            "grid_column": null,
            "grid_gap": null,
            "grid_row": null,
            "grid_template_areas": null,
            "grid_template_columns": null,
            "grid_template_rows": null,
            "height": null,
            "justify_content": null,
            "justify_items": null,
            "left": null,
            "margin": null,
            "max_height": null,
            "max_width": null,
            "min_height": null,
            "min_width": null,
            "object_fit": null,
            "object_position": null,
            "order": null,
            "overflow": null,
            "overflow_x": null,
            "overflow_y": null,
            "padding": null,
            "right": null,
            "top": null,
            "visibility": null,
            "width": null
          }
        },
        "b9f96a97905644da88553a489e7d3519": {
          "model_module": "@jupyter-widgets/controls",
          "model_name": "DescriptionStyleModel",
          "model_module_version": "1.5.0",
          "state": {
            "_model_module": "@jupyter-widgets/controls",
            "_model_module_version": "1.5.0",
            "_model_name": "DescriptionStyleModel",
            "_view_count": null,
            "_view_module": "@jupyter-widgets/base",
            "_view_module_version": "1.2.0",
            "_view_name": "StyleView",
            "description_width": ""
          }
        },
        "3a3b6a62858f40bf9595fba2948be230": {
          "model_module": "@jupyter-widgets/base",
          "model_name": "LayoutModel",
          "model_module_version": "1.2.0",
          "state": {
            "_model_module": "@jupyter-widgets/base",
            "_model_module_version": "1.2.0",
            "_model_name": "LayoutModel",
            "_view_count": null,
            "_view_module": "@jupyter-widgets/base",
            "_view_module_version": "1.2.0",
            "_view_name": "LayoutView",
            "align_content": null,
            "align_items": null,
            "align_self": null,
            "border": null,
            "bottom": null,
            "display": null,
            "flex": "2",
            "flex_flow": null,
            "grid_area": null,
            "grid_auto_columns": null,
            "grid_auto_flow": null,
            "grid_auto_rows": null,
            "grid_column": null,
            "grid_gap": null,
            "grid_row": null,
            "grid_template_areas": null,
            "grid_template_columns": null,
            "grid_template_rows": null,
            "height": null,
            "justify_content": null,
            "justify_items": null,
            "left": null,
            "margin": null,
            "max_height": null,
            "max_width": null,
            "min_height": null,
            "min_width": null,
            "object_fit": null,
            "object_position": null,
            "order": null,
            "overflow": null,
            "overflow_x": null,
            "overflow_y": null,
            "padding": null,
            "right": null,
            "top": null,
            "visibility": null,
            "width": null
          }
        },
        "be8ae440e9bf47079b46f13aaadbebfb": {
          "model_module": "@jupyter-widgets/controls",
          "model_name": "ProgressStyleModel",
          "model_module_version": "1.5.0",
          "state": {
            "_model_module": "@jupyter-widgets/controls",
            "_model_module_version": "1.5.0",
            "_model_name": "ProgressStyleModel",
            "_view_count": null,
            "_view_module": "@jupyter-widgets/base",
            "_view_module_version": "1.2.0",
            "_view_name": "StyleView",
            "bar_color": null,
            "description_width": ""
          }
        },
        "27b9aec881be4ae2a6cd90099afe8fa7": {
          "model_module": "@jupyter-widgets/base",
          "model_name": "LayoutModel",
          "model_module_version": "1.2.0",
          "state": {
            "_model_module": "@jupyter-widgets/base",
            "_model_module_version": "1.2.0",
            "_model_name": "LayoutModel",
            "_view_count": null,
            "_view_module": "@jupyter-widgets/base",
            "_view_module_version": "1.2.0",
            "_view_name": "LayoutView",
            "align_content": null,
            "align_items": null,
            "align_self": null,
            "border": null,
            "bottom": null,
            "display": null,
            "flex": null,
            "flex_flow": null,
            "grid_area": null,
            "grid_auto_columns": null,
            "grid_auto_flow": null,
            "grid_auto_rows": null,
            "grid_column": null,
            "grid_gap": null,
            "grid_row": null,
            "grid_template_areas": null,
            "grid_template_columns": null,
            "grid_template_rows": null,
            "height": null,
            "justify_content": null,
            "justify_items": null,
            "left": null,
            "margin": null,
            "max_height": null,
            "max_width": null,
            "min_height": null,
            "min_width": null,
            "object_fit": null,
            "object_position": null,
            "order": null,
            "overflow": null,
            "overflow_x": null,
            "overflow_y": null,
            "padding": null,
            "right": null,
            "top": null,
            "visibility": null,
            "width": null
          }
        },
        "54e493303d714793ba995029a66a8092": {
          "model_module": "@jupyter-widgets/controls",
          "model_name": "DescriptionStyleModel",
          "model_module_version": "1.5.0",
          "state": {
            "_model_module": "@jupyter-widgets/controls",
            "_model_module_version": "1.5.0",
            "_model_name": "DescriptionStyleModel",
            "_view_count": null,
            "_view_module": "@jupyter-widgets/base",
            "_view_module_version": "1.2.0",
            "_view_name": "StyleView",
            "description_width": ""
          }
        },
        "1c878c545a7d4d1ca37b475c26de3c08": {
          "model_module": "@jupyter-widgets/controls",
          "model_name": "HBoxModel",
          "model_module_version": "1.5.0",
          "state": {
            "_dom_classes": [],
            "_model_module": "@jupyter-widgets/controls",
            "_model_module_version": "1.5.0",
            "_model_name": "HBoxModel",
            "_view_count": null,
            "_view_module": "@jupyter-widgets/controls",
            "_view_module_version": "1.5.0",
            "_view_name": "HBoxView",
            "box_style": "",
            "children": [
              "IPY_MODEL_f73d861fa8bb4476aa9f8161c3871716",
              "IPY_MODEL_0a91ce10a2fe4da1b2c01bddc12abcca",
              "IPY_MODEL_0515bb33599c45dc91c397815efce689"
            ],
            "layout": "IPY_MODEL_e5bb16a797954590a29bccf679dedaf2"
          }
        },
        "f73d861fa8bb4476aa9f8161c3871716": {
          "model_module": "@jupyter-widgets/controls",
          "model_name": "HTMLModel",
          "model_module_version": "1.5.0",
          "state": {
            "_dom_classes": [],
            "_model_module": "@jupyter-widgets/controls",
            "_model_module_version": "1.5.0",
            "_model_name": "HTMLModel",
            "_view_count": null,
            "_view_module": "@jupyter-widgets/controls",
            "_view_module_version": "1.5.0",
            "_view_name": "HTMLView",
            "description": "",
            "description_tooltip": null,
            "layout": "IPY_MODEL_8b9e2f678cad4b5b961ffd9e36deb2ff",
            "placeholder": "​",
            "style": "IPY_MODEL_391c8ed0d64d4f1c906195f65462d4a1",
            "value": "Epoch 3: 100%"
          }
        },
        "0a91ce10a2fe4da1b2c01bddc12abcca": {
          "model_module": "@jupyter-widgets/controls",
          "model_name": "FloatProgressModel",
          "model_module_version": "1.5.0",
          "state": {
            "_dom_classes": [],
            "_model_module": "@jupyter-widgets/controls",
            "_model_module_version": "1.5.0",
            "_model_name": "FloatProgressModel",
            "_view_count": null,
            "_view_module": "@jupyter-widgets/controls",
            "_view_module_version": "1.5.0",
            "_view_name": "ProgressView",
            "bar_style": "success",
            "description": "",
            "description_tooltip": null,
            "layout": "IPY_MODEL_9af6d7c35855471994290f72ac04ef88",
            "max": 938,
            "min": 0,
            "orientation": "horizontal",
            "style": "IPY_MODEL_76a08ec41f624b26ab417139e768fae3",
            "value": 938
          }
        },
        "0515bb33599c45dc91c397815efce689": {
          "model_module": "@jupyter-widgets/controls",
          "model_name": "HTMLModel",
          "model_module_version": "1.5.0",
          "state": {
            "_dom_classes": [],
            "_model_module": "@jupyter-widgets/controls",
            "_model_module_version": "1.5.0",
            "_model_name": "HTMLModel",
            "_view_count": null,
            "_view_module": "@jupyter-widgets/controls",
            "_view_module_version": "1.5.0",
            "_view_name": "HTMLView",
            "description": "",
            "description_tooltip": null,
            "layout": "IPY_MODEL_51a9d89e7c784fb299ff6566d465790f",
            "placeholder": "​",
            "style": "IPY_MODEL_7e71af96ce4e42bdacaeb99e773c3677",
            "value": " 938/938 [00:14&lt;00:00, 66.51it/s, v_num=4, loss=0.0555]"
          }
        },
        "e5bb16a797954590a29bccf679dedaf2": {
          "model_module": "@jupyter-widgets/base",
          "model_name": "LayoutModel",
          "model_module_version": "1.2.0",
          "state": {
            "_model_module": "@jupyter-widgets/base",
            "_model_module_version": "1.2.0",
            "_model_name": "LayoutModel",
            "_view_count": null,
            "_view_module": "@jupyter-widgets/base",
            "_view_module_version": "1.2.0",
            "_view_name": "LayoutView",
            "align_content": null,
            "align_items": null,
            "align_self": null,
            "border": null,
            "bottom": null,
            "display": "inline-flex",
            "flex": null,
            "flex_flow": "row wrap",
            "grid_area": null,
            "grid_auto_columns": null,
            "grid_auto_flow": null,
            "grid_auto_rows": null,
            "grid_column": null,
            "grid_gap": null,
            "grid_row": null,
            "grid_template_areas": null,
            "grid_template_columns": null,
            "grid_template_rows": null,
            "height": null,
            "justify_content": null,
            "justify_items": null,
            "left": null,
            "margin": null,
            "max_height": null,
            "max_width": null,
            "min_height": null,
            "min_width": null,
            "object_fit": null,
            "object_position": null,
            "order": null,
            "overflow": null,
            "overflow_x": null,
            "overflow_y": null,
            "padding": null,
            "right": null,
            "top": null,
            "visibility": null,
            "width": "100%"
          }
        },
        "8b9e2f678cad4b5b961ffd9e36deb2ff": {
          "model_module": "@jupyter-widgets/base",
          "model_name": "LayoutModel",
          "model_module_version": "1.2.0",
          "state": {
            "_model_module": "@jupyter-widgets/base",
            "_model_module_version": "1.2.0",
            "_model_name": "LayoutModel",
            "_view_count": null,
            "_view_module": "@jupyter-widgets/base",
            "_view_module_version": "1.2.0",
            "_view_name": "LayoutView",
            "align_content": null,
            "align_items": null,
            "align_self": null,
            "border": null,
            "bottom": null,
            "display": null,
            "flex": null,
            "flex_flow": null,
            "grid_area": null,
            "grid_auto_columns": null,
            "grid_auto_flow": null,
            "grid_auto_rows": null,
            "grid_column": null,
            "grid_gap": null,
            "grid_row": null,
            "grid_template_areas": null,
            "grid_template_columns": null,
            "grid_template_rows": null,
            "height": null,
            "justify_content": null,
            "justify_items": null,
            "left": null,
            "margin": null,
            "max_height": null,
            "max_width": null,
            "min_height": null,
            "min_width": null,
            "object_fit": null,
            "object_position": null,
            "order": null,
            "overflow": null,
            "overflow_x": null,
            "overflow_y": null,
            "padding": null,
            "right": null,
            "top": null,
            "visibility": null,
            "width": null
          }
        },
        "391c8ed0d64d4f1c906195f65462d4a1": {
          "model_module": "@jupyter-widgets/controls",
          "model_name": "DescriptionStyleModel",
          "model_module_version": "1.5.0",
          "state": {
            "_model_module": "@jupyter-widgets/controls",
            "_model_module_version": "1.5.0",
            "_model_name": "DescriptionStyleModel",
            "_view_count": null,
            "_view_module": "@jupyter-widgets/base",
            "_view_module_version": "1.2.0",
            "_view_name": "StyleView",
            "description_width": ""
          }
        },
        "9af6d7c35855471994290f72ac04ef88": {
          "model_module": "@jupyter-widgets/base",
          "model_name": "LayoutModel",
          "model_module_version": "1.2.0",
          "state": {
            "_model_module": "@jupyter-widgets/base",
            "_model_module_version": "1.2.0",
            "_model_name": "LayoutModel",
            "_view_count": null,
            "_view_module": "@jupyter-widgets/base",
            "_view_module_version": "1.2.0",
            "_view_name": "LayoutView",
            "align_content": null,
            "align_items": null,
            "align_self": null,
            "border": null,
            "bottom": null,
            "display": null,
            "flex": "2",
            "flex_flow": null,
            "grid_area": null,
            "grid_auto_columns": null,
            "grid_auto_flow": null,
            "grid_auto_rows": null,
            "grid_column": null,
            "grid_gap": null,
            "grid_row": null,
            "grid_template_areas": null,
            "grid_template_columns": null,
            "grid_template_rows": null,
            "height": null,
            "justify_content": null,
            "justify_items": null,
            "left": null,
            "margin": null,
            "max_height": null,
            "max_width": null,
            "min_height": null,
            "min_width": null,
            "object_fit": null,
            "object_position": null,
            "order": null,
            "overflow": null,
            "overflow_x": null,
            "overflow_y": null,
            "padding": null,
            "right": null,
            "top": null,
            "visibility": null,
            "width": null
          }
        },
        "76a08ec41f624b26ab417139e768fae3": {
          "model_module": "@jupyter-widgets/controls",
          "model_name": "ProgressStyleModel",
          "model_module_version": "1.5.0",
          "state": {
            "_model_module": "@jupyter-widgets/controls",
            "_model_module_version": "1.5.0",
            "_model_name": "ProgressStyleModel",
            "_view_count": null,
            "_view_module": "@jupyter-widgets/base",
            "_view_module_version": "1.2.0",
            "_view_name": "StyleView",
            "bar_color": null,
            "description_width": ""
          }
        },
        "51a9d89e7c784fb299ff6566d465790f": {
          "model_module": "@jupyter-widgets/base",
          "model_name": "LayoutModel",
          "model_module_version": "1.2.0",
          "state": {
            "_model_module": "@jupyter-widgets/base",
            "_model_module_version": "1.2.0",
            "_model_name": "LayoutModel",
            "_view_count": null,
            "_view_module": "@jupyter-widgets/base",
            "_view_module_version": "1.2.0",
            "_view_name": "LayoutView",
            "align_content": null,
            "align_items": null,
            "align_self": null,
            "border": null,
            "bottom": null,
            "display": null,
            "flex": null,
            "flex_flow": null,
            "grid_area": null,
            "grid_auto_columns": null,
            "grid_auto_flow": null,
            "grid_auto_rows": null,
            "grid_column": null,
            "grid_gap": null,
            "grid_row": null,
            "grid_template_areas": null,
            "grid_template_columns": null,
            "grid_template_rows": null,
            "height": null,
            "justify_content": null,
            "justify_items": null,
            "left": null,
            "margin": null,
            "max_height": null,
            "max_width": null,
            "min_height": null,
            "min_width": null,
            "object_fit": null,
            "object_position": null,
            "order": null,
            "overflow": null,
            "overflow_x": null,
            "overflow_y": null,
            "padding": null,
            "right": null,
            "top": null,
            "visibility": null,
            "width": null
          }
        },
        "7e71af96ce4e42bdacaeb99e773c3677": {
          "model_module": "@jupyter-widgets/controls",
          "model_name": "DescriptionStyleModel",
          "model_module_version": "1.5.0",
          "state": {
            "_model_module": "@jupyter-widgets/controls",
            "_model_module_version": "1.5.0",
            "_model_name": "DescriptionStyleModel",
            "_view_count": null,
            "_view_module": "@jupyter-widgets/base",
            "_view_module_version": "1.2.0",
            "_view_name": "StyleView",
            "description_width": ""
          }
        }
      }
    }
  },
  "nbformat": 4,
  "nbformat_minor": 5
}