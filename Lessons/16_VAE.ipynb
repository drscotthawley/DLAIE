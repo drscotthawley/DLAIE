{
  "cells": [
    {
      "cell_type": "markdown",
      "id": "f43a6642",
      "metadata": {
        "id": "f43a6642"
      },
      "source": [
        "[![open in colab](https://colab.research.google.com/assets/colab-badge.svg)](https://colab.research.google.com/github/drscotthawley/DLAIE/blob/main/Lessons/16_VAE.ipynb)"
      ]
    },
    {
      "cell_type": "markdown",
      "id": "65f8f4a9",
      "metadata": {
        "id": "65f8f4a9"
      },
      "source": [
        "# Let's Make a Variational AutoEncoder (VAE)\n",
        "\n",
        "## The basic ideas:\n",
        "* we force the Decoder to decode points in latent space *nearby* to the point corresponding to the encoded image\n",
        "* we 'scrunch' the latent space so it looks like a gaussian\n",
        "\n",
        "## Setup Imports"
      ]
    },
    {
      "cell_type": "code",
      "execution_count": 44,
      "id": "2d719f98",
      "metadata": {
        "id": "2d719f98"
      },
      "outputs": [],
      "source": [
        "# we'll use pytorch lightning as an alternative to raw pytorch\n",
        "!pip install -qq lightning"
      ]
    },
    {
      "cell_type": "code",
      "execution_count": 45,
      "id": "d6932b44",
      "metadata": {
        "id": "d6932b44"
      },
      "outputs": [],
      "source": [
        "import torch\n",
        "from torch import nn, optim, utils\n",
        "from torch.utils.data import DataLoader\n",
        "from torchvision.datasets import MNIST\n",
        "from torchvision.transforms import ToTensor\n",
        "import torchvision\n",
        "import matplotlib.pyplot as plt\n",
        "import lightning as L"
      ]
    },
    {
      "cell_type": "markdown",
      "id": "a54bb357",
      "metadata": {
        "id": "a54bb357"
      },
      "source": [
        "## Setup Dataset\n",
        "Yep, good 'ol MNIST. It's small and easy and you can do it on a CPU. Let's keep everything super-simple at first: black & white images."
      ]
    },
    {
      "cell_type": "code",
      "execution_count": 46,
      "id": "52508200",
      "metadata": {
        "id": "52508200",
        "outputId": "245f2d3a-6d30-4b6f-c5b0-9087234ed0ed",
        "colab": {
          "base_uri": "https://localhost:8080/"
        }
      },
      "outputs": [
        {
          "output_type": "stream",
          "name": "stdout",
          "text": [
            "Data set lengths: train: 60000, test: 10000\n"
          ]
        }
      ],
      "source": [
        "train_ds = MNIST(root='./data', train=True,  download=True, transform=ToTensor())\n",
        "test_ds  = MNIST(root='./data', train=False, download=True, transform=ToTensor())\n",
        "print(f\"Data set lengths: train: {len(train_ds)}, test: {len(test_ds)}\")"
      ]
    },
    {
      "cell_type": "markdown",
      "id": "7e96b826",
      "metadata": {
        "id": "7e96b826"
      },
      "source": [
        "Inspect it a bit.."
      ]
    },
    {
      "cell_type": "code",
      "execution_count": 47,
      "id": "7eea425d",
      "metadata": {
        "id": "7eea425d",
        "outputId": "f905cf6b-b58e-4d52-dfbb-319c214b5467",
        "colab": {
          "base_uri": "https://localhost:8080/",
          "height": 255
        }
      },
      "outputs": [
        {
          "output_type": "stream",
          "name": "stdout",
          "text": [
            "y (target) = 5 \n",
            "x.shape = (28, 28), min(x) = 0.0, max(x) = 1.0\n"
          ]
        },
        {
          "output_type": "display_data",
          "data": {
            "text/plain": [
              "<Figure size 300x200 with 2 Axes>"
            ],
            "image/png": "[encoded data removed]"
          },
          "metadata": {}
        }
      ],
      "source": [
        "x, y = train_ds[0]   # pick an element\n",
        "print(f\"y (target) = {y} \")\n",
        "\n",
        "def show_xs(xs, show_stats=True):\n",
        "    \"A little utility we'll call again & again to show one or more images\"\n",
        "    if type(xs) is not list: xs = list(xs)\n",
        "    ncols = len(xs)\n",
        "    fig, axs = plt.subplots(figsize=(3*ncols,2), ncols=ncols, squeeze=False)\n",
        "    ax = axs.ravel()\n",
        "    for col, x in enumerate(xs):\n",
        "        if len(x.shape)>2: x = x[0] # remove any batch dimension\n",
        "        if show_stats:\n",
        "            if ncols > 1: print(f\"col {col}: \",end=\"\")\n",
        "            print(f\"x.shape = {tuple(x.shape)}, min(x) = {torch.min(x)}, max(x) = {torch.max(x)}\")\n",
        "        digit = ax[col].imshow(x.detach().cpu().numpy(), cmap='gray')\n",
        "        fig.colorbar(digit, ax=ax[col])\n",
        "    plt.show()\n",
        "\n",
        "show_xs([x])"
      ]
    },
    {
      "cell_type": "markdown",
      "id": "b434a698",
      "metadata": {
        "id": "b434a698"
      },
      "source": [
        "Define dataloaders"
      ]
    },
    {
      "cell_type": "code",
      "execution_count": 48,
      "id": "e336063c",
      "metadata": {
        "id": "e336063c"
      },
      "outputs": [],
      "source": [
        "batch_size = 64\n",
        "train_dl = DataLoader(train_ds, batch_size=batch_size, num_workers=4, shuffle=True)\n",
        "test_dl = DataLoader(test_ds, batch_size=batch_size, num_workers=4, shuffle=False)"
      ]
    },
    {
      "cell_type": "markdown",
      "id": "f8b45272",
      "metadata": {
        "id": "f8b45272"
      },
      "source": [
        "## Make an (Regular) AE Model\n",
        "\n",
        "First we'll try a regular autoencoder. Then we'll make it \"variational\""
      ]
    },
    {
      "cell_type": "code",
      "execution_count": 49,
      "id": "5e4bd450",
      "metadata": {
        "id": "5e4bd450"
      },
      "outputs": [],
      "source": [
        "latent_dim = 3   # more = better reconstructions, but 3 we can plot!\n",
        "\n",
        "n_hid = [256, 64]  # could imagine adding more layers\n",
        "\n",
        "act = nn.LeakyReLU # works ok.\n",
        "\n",
        "encoder = nn.Sequential(\n",
        "                nn.Linear(28 * 28, n_hid[0]),\n",
        "                act(),\n",
        "                nn.Linear(n_hid[0], n_hid[1]),\n",
        "                act(),\n",
        "                nn.Linear(n_hid[1], latent_dim))\n",
        "\n",
        "decoder = nn.Sequential(\n",
        "                nn.Linear(latent_dim, n_hid[1]),\n",
        "                act(),\n",
        "                nn.Linear(n_hid[1], n_hid[0]),\n",
        "                act(),\n",
        "                nn.Linear(n_hid[0], 28 * 28),\n",
        "                #nn.Sigmoid(),        # optional. we do want outputs on [0,1]\n",
        "                )"
      ]
    },
    {
      "cell_type": "code",
      "execution_count": 50,
      "id": "8ae4dace",
      "metadata": {
        "id": "8ae4dace",
        "outputId": "d896cdd4-39dc-4c1d-ce57-7b19254328ac",
        "colab": {
          "base_uri": "https://localhost:8080/",
          "height": 252
        }
      },
      "outputs": [
        {
          "output_type": "stream",
          "name": "stdout",
          "text": [
            "z =  tensor([[-0.1331, -0.1052, -0.1073]], grad_fn=<AddmmBackward0>)\n",
            "x.shape = (28, 28), min(x) = -0.24254989624023438, max(x) = 0.2175181806087494\n"
          ]
        },
        {
          "output_type": "display_data",
          "data": {
            "text/plain": [
              "<Figure size 300x200 with 2 Axes>"
            ],
            "image/png": "[encoded data removed]"
          },
          "metadata": {}
        }
      ],
      "source": [
        "# test it, just to make sure we get no errors from mmult ops\n",
        "z = encoder(x.view(x.size(0), -1) )\n",
        "print(\"z = \",z)\n",
        "x_hat = decoder(z)\n",
        "x_hat = x_hat.view(x.size(0), 28, -1)\n",
        "show_xs(x_hat)"
      ]
    },
    {
      "cell_type": "markdown",
      "source": [
        "^^ That was with randomly initialized weights, so we expect a random image. This was just to test that the matrix multiplications work out right."
      ],
      "metadata": {
        "id": "-0KtfaQsmW5E"
      },
      "id": "-0KtfaQsmW5E"
    },
    {
      "cell_type": "code",
      "execution_count": 51,
      "id": "42c8f30f",
      "metadata": {
        "id": "42c8f30f"
      },
      "outputs": [],
      "source": [
        "# instead of nn.Module, we use L.LightningModule\n",
        "class AEModel(L.LightningModule):\n",
        "    def __init__(self, encoder, decoder):\n",
        "        super().__init__()\n",
        "        self.encoder = encoder\n",
        "        self.decoder = decoder\n",
        "\n",
        "    def forward(self, x):\n",
        "        z = self.encoder(x)\n",
        "        x_hat = self.decoder(z)\n",
        "        return z, x_hat\n",
        "\n",
        "    def training_step(self, batch, batch_idx):\n",
        "        x, y = batch\n",
        "        x = x.view(x.size(0), -1)  # flatten for linear layer\n",
        "        z, x_hat = self.forward(x)\n",
        "        loss = nn.functional.mse_loss(x_hat, x)\n",
        "        self.log('loss', loss, prog_bar=True)\n",
        "        return loss\n",
        "\n",
        "    def configure_optimizers(self):\n",
        "        return optim.Adam(self.parameters(), lr=1e-3)"
      ]
    },
    {
      "cell_type": "code",
      "execution_count": 52,
      "id": "c56b2473",
      "metadata": {
        "id": "c56b2473",
        "outputId": "06cdb55c-39c0-49e6-da04-68347b78f97b",
        "colab": {
          "base_uri": "https://localhost:8080/",
          "height": 624,
          "referenced_widgets": [
            "4d185697e8424fdaaac656dfac69baf2",
            "69819291dc264c92b6768847cdc7abf3",
            "eb9a64b51a9349db9279ea918a779023",
            "a8ced66b736d47afa8a74ebd8bff5390",
            "c6178f4d1c18473cbbbf96d6234f2290",
            "92713fff2541475186e985248163066e",
            "3110a373592a4106a8b52634ece8543c",
            "488fa1ec7f01404296eb4112ca8875c1",
            "8ed8a39142d6402a9753e5a354006514",
            "5689a0474181409983cf6bc8537e419c",
            "2c15cb8cf553484f952679e95a6d8306"
          ]
        }
      },
      "outputs": [
        {
          "output_type": "stream",
          "name": "stderr",
          "text": [
            "INFO: GPU available: True (cuda), used: True\n",
            "INFO:lightning.pytorch.utilities.rank_zero:GPU available: True (cuda), used: True\n",
            "INFO: TPU available: False, using: 0 TPU cores\n",
            "INFO:lightning.pytorch.utilities.rank_zero:TPU available: False, using: 0 TPU cores\n",
            "INFO: IPU available: False, using: 0 IPUs\n",
            "INFO:lightning.pytorch.utilities.rank_zero:IPU available: False, using: 0 IPUs\n",
            "INFO: HPU available: False, using: 0 HPUs\n",
            "INFO:lightning.pytorch.utilities.rank_zero:HPU available: False, using: 0 HPUs\n",
            "INFO: LOCAL_RANK: 0 - CUDA_VISIBLE_DEVICES: [0]\n",
            "INFO:lightning.pytorch.accelerators.cuda:LOCAL_RANK: 0 - CUDA_VISIBLE_DEVICES: [0]\n",
            "INFO: \n",
            "  | Name    | Type       | Params\n",
            "---------------------------------------\n",
            "0 | encoder | Sequential | 217 K \n",
            "1 | decoder | Sequential | 218 K \n",
            "---------------------------------------\n",
            "435 K     Trainable params\n",
            "0         Non-trainable params\n",
            "435 K     Total params\n",
            "1.744     Total estimated model params size (MB)\n",
            "INFO:lightning.pytorch.callbacks.model_summary:\n",
            "  | Name    | Type       | Params\n",
            "---------------------------------------\n",
            "0 | encoder | Sequential | 217 K \n",
            "1 | decoder | Sequential | 218 K \n",
            "---------------------------------------\n",
            "435 K     Trainable params\n",
            "0         Non-trainable params\n",
            "435 K     Total params\n",
            "1.744     Total estimated model params size (MB)\n"
          ]
        },
        {
          "output_type": "display_data",
          "data": {
            "text/plain": [
              "Training: |          | 0/? [00:00<?, ?it/s]"
            ],
            "application/vnd.jupyter.widget-view+json": {
              "version_major": 2,
              "version_minor": 0,
              "model_id": "4d185697e8424fdaaac656dfac69baf2"
            }
          },
          "metadata": {}
        },
        {
          "output_type": "stream",
          "name": "stderr",
          "text": [
            "INFO: `Trainer.fit` stopped: `max_epochs=4` reached.\n",
            "INFO:lightning.pytorch.utilities.rank_zero:`Trainer.fit` stopped: `max_epochs=4` reached.\n"
          ]
        }
      ],
      "source": [
        "autoencoder = AEModel(encoder, decoder)\n",
        "\n",
        "epochs = 4\n",
        "trainer = L.Trainer(max_epochs=epochs, devices=\"auto\")\n",
        "trainer.fit(model=autoencoder, train_dataloaders=train_dl)"
      ]
    },
    {
      "cell_type": "code",
      "execution_count": 53,
      "id": "cb5ed374",
      "metadata": {
        "id": "cb5ed374",
        "colab": {
          "base_uri": "https://localhost:8080/",
          "height": 272
        },
        "outputId": "dd4fd91d-1a74-41ef-8875-0a073fac8df2"
      },
      "outputs": [
        {
          "output_type": "stream",
          "name": "stdout",
          "text": [
            "z =  tensor([[-0.1331, -0.1052, -0.1073]], grad_fn=<AddmmBackward0>)\n",
            "col 0: x.shape = (28, 28), min(x) = 0.0, max(x) = 1.0\n",
            "col 1: x.shape = (28, 28), min(x) = -0.13549359142780304, max(x) = 1.0089035034179688\n"
          ]
        },
        {
          "output_type": "display_data",
          "data": {
            "text/plain": [
              "<Figure size 600x200 with 4 Axes>"
            ],
            "image/png": "[encoded data removed]"
          },
          "metadata": {}
        }
      ],
      "source": [
        "@torch.no_grad()\n",
        "def test_inference(model, idx=None):\n",
        "    \"Another utility we'll use for running images through the (V)AE\"\n",
        "    if idx is None: idx = torch.randint( len(test_ds), (1,) )[0]\n",
        "    x, y = test_ds[idx]\n",
        "    x_hat = model.forward(x.view(x.size(0), -1))[-1]\n",
        "    print(\"z = \",z)\n",
        "    x_hat = x_hat.view(x.size(0), 28, -1)\n",
        "    show_xs([x,x_hat])\n",
        "\n",
        "idx = 0\n",
        "test_inference(autoencoder, idx=idx)"
      ]
    },
    {
      "cell_type": "markdown",
      "id": "85ab8d6c",
      "metadata": {
        "id": "85ab8d6c"
      },
      "source": [
        "## Now Let's Make it 'Varational'"
      ]
    },
    {
      "cell_type": "code",
      "execution_count": 54,
      "id": "c0260e18",
      "metadata": {
        "id": "c0260e18"
      },
      "outputs": [],
      "source": [
        "# encoder now spits out mean and variance\n",
        "vae_encoder = nn.Sequential(\n",
        "                nn.Linear(28 * 28, n_hid[0]),\n",
        "                act(),\n",
        "                nn.Linear(n_hid[0], n_hid[1]),\n",
        "                act(),\n",
        "                nn.Linear(n_hid[1], latent_dim*2)) # *2 b/c mu, log_var\n",
        "\n",
        "# decoder same as before\n",
        "decoder = nn.Sequential(\n",
        "                nn.Linear(latent_dim, n_hid[1]),\n",
        "                act(),\n",
        "                nn.Linear(n_hid[1], n_hid[0]),\n",
        "                act(),\n",
        "                nn.Linear(n_hid[0], 28 * 28),\n",
        "                #nn.Sigmoid(), # optional forcing to [0,1]\n",
        "                )"
      ]
    },
    {
      "cell_type": "code",
      "execution_count": 55,
      "id": "e85483b5",
      "metadata": {
        "id": "e85483b5"
      },
      "outputs": [],
      "source": [
        "# instead of nn.Module, we use L.LightningModule\n",
        "class VAEModel(L.LightningModule):\n",
        "    def __init__(self, encoder, decoder):\n",
        "        super().__init__()\n",
        "        self.encoder = encoder\n",
        "        self.decoder = decoder\n",
        "\n",
        "    def reparam_sample(self, mu, log_var):\n",
        "        std = torch.exp(0.5*log_var).sqrt() # why the 0.5?\n",
        "        noise = torch.randn_like(std)       # the \"noise\"\n",
        "        return mu + std * noise\n",
        "\n",
        "    def forward(self, x):\n",
        "        z = self.encoder(x)\n",
        "        i_half = z.shape[-1]//2\n",
        "        mu, log_var = z[:,:i_half],  z[:,i_half:]\n",
        "        z_hat = self.reparam_sample(mu, log_var)\n",
        "        x_hat = self.decoder(z_hat)\n",
        "        return z, mu, log_var, z_hat, x_hat\n",
        "\n",
        "    def training_step(self, batch, batch_idx):\n",
        "        x, y = batch\n",
        "        x = x.view(x.size(0), -1)  # flatten for linear layer\n",
        "        z, mu, log_var, z_hat, x_hat = self.forward(x)\n",
        "        recon_loss = nn.functional.mse_loss(x_hat, x)\n",
        "        scrunch_factor = 0.01     # li'l dab'll do ya on the kl scrunching\n",
        "        kl_loss = -0.5 * torch.mean(1 + log_var - mu.pow(2) - log_var.exp())\n",
        "        loss = recon_loss + (kl_loss * scrunch_factor)\n",
        "        self.log('loss', loss, prog_bar=True)\n",
        "        return loss\n",
        "\n",
        "    def configure_optimizers(self):\n",
        "        return optim.Adam(self.parameters(), lr=1e-3)"
      ]
    },
    {
      "cell_type": "code",
      "execution_count": 56,
      "id": "1471e65c",
      "metadata": {
        "id": "1471e65c",
        "colab": {
          "base_uri": "https://localhost:8080/",
          "height": 624,
          "referenced_widgets": [
            "ec826edc249c4c62b084c5184a8322f5",
            "d952298bb95045c698fd23817af46ceb",
            "96a13b5eb4ef46bfadb274ab29c92aaa",
            "0ea9628fa6cc47369c0fe88b847fc978",
            "bf82984b0b734097a9085a278eb93fa5",
            "9b55e877285849fc87a75243cf3c0290",
            "e42309213e8d48dd94e3ccd311a0d35e",
            "64775722dad44e14a9e593228c7a20e2",
            "0097f74f33eb48779d8aaf7b620f1a8f",
            "57b6b64a54914470a41d908f7f53d801",
            "e38ec854dc3a4c429e6894aa4e44daaa"
          ]
        },
        "outputId": "93e50bf0-1fcb-4dbb-da89-0be74d53bb2c"
      },
      "outputs": [
        {
          "output_type": "stream",
          "name": "stderr",
          "text": [
            "INFO: GPU available: True (cuda), used: True\n",
            "INFO:lightning.pytorch.utilities.rank_zero:GPU available: True (cuda), used: True\n",
            "INFO: TPU available: False, using: 0 TPU cores\n",
            "INFO:lightning.pytorch.utilities.rank_zero:TPU available: False, using: 0 TPU cores\n",
            "INFO: IPU available: False, using: 0 IPUs\n",
            "INFO:lightning.pytorch.utilities.rank_zero:IPU available: False, using: 0 IPUs\n",
            "INFO: HPU available: False, using: 0 HPUs\n",
            "INFO:lightning.pytorch.utilities.rank_zero:HPU available: False, using: 0 HPUs\n",
            "INFO: LOCAL_RANK: 0 - CUDA_VISIBLE_DEVICES: [0]\n",
            "INFO:lightning.pytorch.accelerators.cuda:LOCAL_RANK: 0 - CUDA_VISIBLE_DEVICES: [0]\n",
            "INFO: \n",
            "  | Name    | Type       | Params\n",
            "---------------------------------------\n",
            "0 | encoder | Sequential | 217 K \n",
            "1 | decoder | Sequential | 218 K \n",
            "---------------------------------------\n",
            "436 K     Trainable params\n",
            "0         Non-trainable params\n",
            "436 K     Total params\n",
            "1.745     Total estimated model params size (MB)\n",
            "INFO:lightning.pytorch.callbacks.model_summary:\n",
            "  | Name    | Type       | Params\n",
            "---------------------------------------\n",
            "0 | encoder | Sequential | 217 K \n",
            "1 | decoder | Sequential | 218 K \n",
            "---------------------------------------\n",
            "436 K     Trainable params\n",
            "0         Non-trainable params\n",
            "436 K     Total params\n",
            "1.745     Total estimated model params size (MB)\n"
          ]
        },
        {
          "output_type": "display_data",
          "data": {
            "text/plain": [
              "Training: |          | 0/? [00:00<?, ?it/s]"
            ],
            "application/vnd.jupyter.widget-view+json": {
              "version_major": 2,
              "version_minor": 0,
              "model_id": "ec826edc249c4c62b084c5184a8322f5"
            }
          },
          "metadata": {}
        },
        {
          "output_type": "stream",
          "name": "stderr",
          "text": [
            "INFO: `Trainer.fit` stopped: `max_epochs=8` reached.\n",
            "INFO:lightning.pytorch.utilities.rank_zero:`Trainer.fit` stopped: `max_epochs=8` reached.\n"
          ]
        }
      ],
      "source": [
        "vae = VAEModel(vae_encoder, decoder)\n",
        "\n",
        "epochs = epochs*2\n",
        "trainer = L.Trainer(max_epochs=epochs, devices=\"auto\")\n",
        "trainer.fit(model=vae, train_dataloaders=train_dl)"
      ]
    },
    {
      "cell_type": "code",
      "execution_count": 57,
      "id": "223d22ea",
      "metadata": {
        "id": "223d22ea",
        "colab": {
          "base_uri": "https://localhost:8080/",
          "height": 272
        },
        "outputId": "d069dc3e-ef72-4597-c6bb-4f4822b9bfcb"
      },
      "outputs": [
        {
          "output_type": "stream",
          "name": "stdout",
          "text": [
            "z =  tensor([[-0.1331, -0.1052, -0.1073]], grad_fn=<AddmmBackward0>)\n",
            "col 0: x.shape = (28, 28), min(x) = 0.0, max(x) = 1.0\n",
            "col 1: x.shape = (28, 28), min(x) = -0.030854731798171997, max(x) = 1.0064159631729126\n"
          ]
        },
        {
          "output_type": "display_data",
          "data": {
            "text/plain": [
              "<Figure size 600x200 with 4 Axes>"
            ],
            "image/png": "[encoded data removed]"
          },
          "metadata": {}
        }
      ],
      "source": [
        "test_inference(vae, idx=idx)"
      ]
    },
    {
      "cell_type": "markdown",
      "id": "0afb52fc",
      "metadata": {
        "id": "0afb52fc"
      },
      "source": [
        "Looks similar to the regular autoencoder, right?\n",
        "\n",
        "Now let's try perturbing our input a bit"
      ]
    },
    {
      "cell_type": "markdown",
      "id": "eb243c37",
      "metadata": {
        "id": "eb243c37"
      },
      "source": [
        "## Comparing the AE and VAE"
      ]
    },
    {
      "cell_type": "code",
      "execution_count": 59,
      "id": "0efea038",
      "metadata": {
        "id": "0efea038",
        "colab": {
          "base_uri": "https://localhost:8080/",
          "height": 458
        },
        "outputId": "81daf484-6598-40f9-c98a-858e149ee8ed"
      },
      "outputs": [
        {
          "output_type": "stream",
          "name": "stdout",
          "text": [
            "Perturbing the regular autoencoder with strength = 30.0:\n"
          ]
        },
        {
          "output_type": "display_data",
          "data": {
            "text/plain": [
              "<Figure size 600x200 with 4 Axes>"
            ],
            "image/png": "[encoded data removed]"
          },
          "metadata": {}
        },
        {
          "output_type": "stream",
          "name": "stdout",
          "text": [
            "Perturbing the VAE with strength = 30.0:\n"
          ]
        },
        {
          "output_type": "display_data",
          "data": {
            "text/plain": [
              "<Figure size 600x200 with 4 Axes>"
            ],
            "image/png": "[encoded data removed]"
          },
          "metadata": {}
        }
      ],
      "source": [
        "@torch.no_grad()\n",
        "def infer_perturb(model, idx=None, strength=1.0):\n",
        "    \"Another utility we'll use for running images through the (V)AE\"\n",
        "    if idx is None: idx = torch.randint( len(test_ds), (1,) )[0]\n",
        "    x, y = test_ds[idx]\n",
        "    z = model.encoder(x.view(x.size(0), -1))\n",
        "    if z.shape[-1] > latent_dim: z = z[:,:latent_dim] # if VAE, just use the mean values\n",
        "    z_hat = z + strength*torch.randn_like(z)\n",
        "    x_hat = model.decoder(z_hat)\n",
        "    x_hat = x_hat.view(x.size(0), 28, -1)\n",
        "    show_xs([x,x_hat], show_stats=False)\n",
        "\n",
        "idx=0\n",
        "strength = 30.0\n",
        "print(f\"Perturbing the regular autoencoder with strength = {strength}:\")\n",
        "infer_perturb(autoencoder, idx=idx, strength=strength)\n",
        "print(f\"Perturbing the VAE with strength = {strength}:\")\n",
        "infer_perturb(vae, idx=idx, strength=1.0)"
      ]
    },
    {
      "cell_type": "markdown",
      "id": "f4a91448",
      "metadata": {
        "id": "f4a91448"
      },
      "source": [
        "Depending on the random values you get, perturbations may cause the regular AE output to look like not-a-number, whereas the VAE output is probably more stable.\n",
        "\n",
        "Note that without any final rescaling of outputs (e.g. via `nn.Sigmoid`), typically the output of the regular AE extends wayyy outside the [0,1] intensity bounds whereas the VAE's outputs are still properly bounded.\n"
      ]
    },
    {
      "cell_type": "code",
      "source": [],
      "metadata": {
        "id": "y353G9yRsbeC"
      },
      "id": "y353G9yRsbeC",
      "execution_count": null,
      "outputs": []
    },
    {
      "cell_type": "markdown",
      "source": [
        "\n",
        "## TODO: Add interpolation, 3D viz, more."
      ],
      "metadata": {
        "id": "AEfdR5uEmoFC"
      },
      "id": "AEfdR5uEmoFC"
    },
    {
      "cell_type": "code",
      "execution_count": 58,
      "id": "c75087ea",
      "metadata": {
        "id": "c75087ea"
      },
      "outputs": [],
      "source": []
    }
  ],
  "metadata": {
    "kernelspec": {
      "display_name": "Python 3",
      "name": "python3"
    },
    "language_info": {
      "codemirror_mode": {
        "name": "ipython",
        "version": 3
      },
      "file_extension": ".py",
      "mimetype": "text/x-python",
      "name": "python",
      "nbconvert_exporter": "python",
      "pygments_lexer": "ipython3",
      "version": "3.11.6"
    },
    "colab": {
      "provenance": [],
      "gpuType": "T4"
    },
    "accelerator": "GPU",
    "widgets": {
      "application/vnd.jupyter.widget-state+json": {
        "4d185697e8424fdaaac656dfac69baf2": {
          "model_module": "@jupyter-widgets/controls",
          "model_name": "HBoxModel",
          "model_module_version": "1.5.0",
          "state": {
            "_dom_classes": [],
            "_model_module": "@jupyter-widgets/controls",
            "_model_module_version": "1.5.0",
            "_model_name": "HBoxModel",
            "_view_count": null,
            "_view_module": "@jupyter-widgets/controls",
            "_view_module_version": "1.5.0",
            "_view_name": "HBoxView",
            "box_style": "",
            "children": [
              "IPY_MODEL_69819291dc264c92b6768847cdc7abf3",
              "IPY_MODEL_eb9a64b51a9349db9279ea918a779023",
              "IPY_MODEL_a8ced66b736d47afa8a74ebd8bff5390"
            ],
            "layout": "IPY_MODEL_c6178f4d1c18473cbbbf96d6234f2290"
          }
        },
        "69819291dc264c92b6768847cdc7abf3": {
          "model_module": "@jupyter-widgets/controls",
          "model_name": "HTMLModel",
          "model_module_version": "1.5.0",
          "state": {
            "_dom_classes": [],
            "_model_module": "@jupyter-widgets/controls",
            "_model_module_version": "1.5.0",
            "_model_name": "HTMLModel",
            "_view_count": null,
            "_view_module": "@jupyter-widgets/controls",
            "_view_module_version": "1.5.0",
            "_view_name": "HTMLView",
            "description": "",
            "description_tooltip": null,
            "layout": "IPY_MODEL_92713fff2541475186e985248163066e",
            "placeholder": "​",
            "style": "IPY_MODEL_3110a373592a4106a8b52634ece8543c",
            "value": "Epoch 3: 100%"
          }
        },
        "eb9a64b51a9349db9279ea918a779023": {
          "model_module": "@jupyter-widgets/controls",
          "model_name": "FloatProgressModel",
          "model_module_version": "1.5.0",
          "state": {
            "_dom_classes": [],
            "_model_module": "@jupyter-widgets/controls",
            "_model_module_version": "1.5.0",
            "_model_name": "FloatProgressModel",
            "_view_count": null,
            "_view_module": "@jupyter-widgets/controls",
            "_view_module_version": "1.5.0",
            "_view_name": "ProgressView",
            "bar_style": "success",
            "description": "",
            "description_tooltip": null,
            "layout": "IPY_MODEL_488fa1ec7f01404296eb4112ca8875c1",
            "max": 938,
            "min": 0,
            "orientation": "horizontal",
            "style": "IPY_MODEL_8ed8a39142d6402a9753e5a354006514",
            "value": 938
          }
        },
        "a8ced66b736d47afa8a74ebd8bff5390": {
          "model_module": "@jupyter-widgets/controls",
          "model_name": "HTMLModel",
          "model_module_version": "1.5.0",
          "state": {
            "_dom_classes": [],
            "_model_module": "@jupyter-widgets/controls",
            "_model_module_version": "1.5.0",
            "_model_name": "HTMLModel",
            "_view_count": null,
            "_view_module": "@jupyter-widgets/controls",
            "_view_module_version": "1.5.0",
            "_view_name": "HTMLView",
            "description": "",
            "description_tooltip": null,
            "layout": "IPY_MODEL_5689a0474181409983cf6bc8537e419c",
            "placeholder": "​",
            "style": "IPY_MODEL_2c15cb8cf553484f952679e95a6d8306",
            "value": " 938/938 [00:11&lt;00:00, 83.96it/s, v_num=5, loss=0.0305]"
          }
        },
        "c6178f4d1c18473cbbbf96d6234f2290": {
          "model_module": "@jupyter-widgets/base",
          "model_name": "LayoutModel",
          "model_module_version": "1.2.0",
          "state": {
            "_model_module": "@jupyter-widgets/base",
            "_model_module_version": "1.2.0",
            "_model_name": "LayoutModel",
            "_view_count": null,
            "_view_module": "@jupyter-widgets/base",
            "_view_module_version": "1.2.0",
            "_view_name": "LayoutView",
            "align_content": null,
            "align_items": null,
            "align_self": null,
            "border": null,
            "bottom": null,
            "display": "inline-flex",
            "flex": null,
            "flex_flow": "row wrap",
            "grid_area": null,
            "grid_auto_columns": null,
            "grid_auto_flow": null,
            "grid_auto_rows": null,
            "grid_column": null,
            "grid_gap": null,
            "grid_row": null,
            "grid_template_areas": null,
            "grid_template_columns": null,
            "grid_template_rows": null,
            "height": null,
            "justify_content": null,
            "justify_items": null,
            "left": null,
            "margin": null,
            "max_height": null,
            "max_width": null,
            "min_height": null,
            "min_width": null,
            "object_fit": null,
            "object_position": null,
            "order": null,
            "overflow": null,
            "overflow_x": null,
            "overflow_y": null,
            "padding": null,
            "right": null,
            "top": null,
            "visibility": null,
            "width": "100%"
          }
        },
        "92713fff2541475186e985248163066e": {
          "model_module": "@jupyter-widgets/base",
          "model_name": "LayoutModel",
          "model_module_version": "1.2.0",
          "state": {
            "_model_module": "@jupyter-widgets/base",
            "_model_module_version": "1.2.0",
            "_model_name": "LayoutModel",
            "_view_count": null,
            "_view_module": "@jupyter-widgets/base",
            "_view_module_version": "1.2.0",
            "_view_name": "LayoutView",
            "align_content": null,
            "align_items": null,
            "align_self": null,
            "border": null,
            "bottom": null,
            "display": null,
            "flex": null,
            "flex_flow": null,
            "grid_area": null,
            "grid_auto_columns": null,
            "grid_auto_flow": null,
            "grid_auto_rows": null,
            "grid_column": null,
            "grid_gap": null,
            "grid_row": null,
            "grid_template_areas": null,
            "grid_template_columns": null,
            "grid_template_rows": null,
            "height": null,
            "justify_content": null,
            "justify_items": null,
            "left": null,
            "margin": null,
            "max_height": null,
            "max_width": null,
            "min_height": null,
            "min_width": null,
            "object_fit": null,
            "object_position": null,
            "order": null,
            "overflow": null,
            "overflow_x": null,
            "overflow_y": null,
            "padding": null,
            "right": null,
            "top": null,
            "visibility": null,
            "width": null
          }
        },
        "3110a373592a4106a8b52634ece8543c": {
          "model_module": "@jupyter-widgets/controls",
          "model_name": "DescriptionStyleModel",
          "model_module_version": "1.5.0",
          "state": {
            "_model_module": "@jupyter-widgets/controls",
            "_model_module_version": "1.5.0",
            "_model_name": "DescriptionStyleModel",
            "_view_count": null,
            "_view_module": "@jupyter-widgets/base",
            "_view_module_version": "1.2.0",
            "_view_name": "StyleView",
            "description_width": ""
          }
        },
        "488fa1ec7f01404296eb4112ca8875c1": {
          "model_module": "@jupyter-widgets/base",
          "model_name": "LayoutModel",
          "model_module_version": "1.2.0",
          "state": {
            "_model_module": "@jupyter-widgets/base",
            "_model_module_version": "1.2.0",
            "_model_name": "LayoutModel",
            "_view_count": null,
            "_view_module": "@jupyter-widgets/base",
            "_view_module_version": "1.2.0",
            "_view_name": "LayoutView",
            "align_content": null,
            "align_items": null,
            "align_self": null,
            "border": null,
            "bottom": null,
            "display": null,
            "flex": "2",
            "flex_flow": null,
            "grid_area": null,
            "grid_auto_columns": null,
            "grid_auto_flow": null,
            "grid_auto_rows": null,
            "grid_column": null,
            "grid_gap": null,
            "grid_row": null,
            "grid_template_areas": null,
            "grid_template_columns": null,
            "grid_template_rows": null,
            "height": null,
            "justify_content": null,
            "justify_items": null,
            "left": null,
            "margin": null,
            "max_height": null,
            "max_width": null,
            "min_height": null,
            "min_width": null,
            "object_fit": null,
            "object_position": null,
            "order": null,
            "overflow": null,
            "overflow_x": null,
            "overflow_y": null,
            "padding": null,
            "right": null,
            "top": null,
            "visibility": null,
            "width": null
          }
        },
        "8ed8a39142d6402a9753e5a354006514": {
          "model_module": "@jupyter-widgets/controls",
          "model_name": "ProgressStyleModel",
          "model_module_version": "1.5.0",
          "state": {
            "_model_module": "@jupyter-widgets/controls",
            "_model_module_version": "1.5.0",
            "_model_name": "ProgressStyleModel",
            "_view_count": null,
            "_view_module": "@jupyter-widgets/base",
            "_view_module_version": "1.2.0",
            "_view_name": "StyleView",
            "bar_color": null,
            "description_width": ""
          }
        },
        "5689a0474181409983cf6bc8537e419c": {
          "model_module": "@jupyter-widgets/base",
          "model_name": "LayoutModel",
          "model_module_version": "1.2.0",
          "state": {
            "_model_module": "@jupyter-widgets/base",
            "_model_module_version": "1.2.0",
            "_model_name": "LayoutModel",
            "_view_count": null,
            "_view_module": "@jupyter-widgets/base",
            "_view_module_version": "1.2.0",
            "_view_name": "LayoutView",
            "align_content": null,
            "align_items": null,
            "align_self": null,
            "border": null,
            "bottom": null,
            "display": null,
            "flex": null,
            "flex_flow": null,
            "grid_area": null,
            "grid_auto_columns": null,
            "grid_auto_flow": null,
            "grid_auto_rows": null,
            "grid_column": null,
            "grid_gap": null,
            "grid_row": null,
            "grid_template_areas": null,
            "grid_template_columns": null,
            "grid_template_rows": null,
            "height": null,
            "justify_content": null,
            "justify_items": null,
            "left": null,
            "margin": null,
            "max_height": null,
            "max_width": null,
            "min_height": null,
            "min_width": null,
            "object_fit": null,
            "object_position": null,
            "order": null,
            "overflow": null,
            "overflow_x": null,
            "overflow_y": null,
            "padding": null,
            "right": null,
            "top": null,
            "visibility": null,
            "width": null
          }
        },
        "2c15cb8cf553484f952679e95a6d8306": {
          "model_module": "@jupyter-widgets/controls",
          "model_name": "DescriptionStyleModel",
          "model_module_version": "1.5.0",
          "state": {
            "_model_module": "@jupyter-widgets/controls",
            "_model_module_version": "1.5.0",
            "_model_name": "DescriptionStyleModel",
            "_view_count": null,
            "_view_module": "@jupyter-widgets/base",
            "_view_module_version": "1.2.0",
            "_view_name": "StyleView",
            "description_width": ""
          }
        },
        "ec826edc249c4c62b084c5184a8322f5": {
          "model_module": "@jupyter-widgets/controls",
          "model_name": "HBoxModel",
          "model_module_version": "1.5.0",
          "state": {
            "_dom_classes": [],
            "_model_module": "@jupyter-widgets/controls",
            "_model_module_version": "1.5.0",
            "_model_name": "HBoxModel",
            "_view_count": null,
            "_view_module": "@jupyter-widgets/controls",
            "_view_module_version": "1.5.0",
            "_view_name": "HBoxView",
            "box_style": "",
            "children": [
              "IPY_MODEL_d952298bb95045c698fd23817af46ceb",
              "IPY_MODEL_96a13b5eb4ef46bfadb274ab29c92aaa",
              "IPY_MODEL_0ea9628fa6cc47369c0fe88b847fc978"
            ],
            "layout": "IPY_MODEL_bf82984b0b734097a9085a278eb93fa5"
          }
        },
        "d952298bb95045c698fd23817af46ceb": {
          "model_module": "@jupyter-widgets/controls",
          "model_name": "HTMLModel",
          "model_module_version": "1.5.0",
          "state": {
            "_dom_classes": [],
            "_model_module": "@jupyter-widgets/controls",
            "_model_module_version": "1.5.0",
            "_model_name": "HTMLModel",
            "_view_count": null,
            "_view_module": "@jupyter-widgets/controls",
            "_view_module_version": "1.5.0",
            "_view_name": "HTMLView",
            "description": "",
            "description_tooltip": null,
            "layout": "IPY_MODEL_9b55e877285849fc87a75243cf3c0290",
            "placeholder": "​",
            "style": "IPY_MODEL_e42309213e8d48dd94e3ccd311a0d35e",
            "value": "Epoch 7: 100%"
          }
        },
        "96a13b5eb4ef46bfadb274ab29c92aaa": {
          "model_module": "@jupyter-widgets/controls",
          "model_name": "FloatProgressModel",
          "model_module_version": "1.5.0",
          "state": {
            "_dom_classes": [],
            "_model_module": "@jupyter-widgets/controls",
            "_model_module_version": "1.5.0",
            "_model_name": "FloatProgressModel",
            "_view_count": null,
            "_view_module": "@jupyter-widgets/controls",
            "_view_module_version": "1.5.0",
            "_view_name": "ProgressView",
            "bar_style": "success",
            "description": "",
            "description_tooltip": null,
            "layout": "IPY_MODEL_64775722dad44e14a9e593228c7a20e2",
            "max": 938,
            "min": 0,
            "orientation": "horizontal",
            "style": "IPY_MODEL_0097f74f33eb48779d8aaf7b620f1a8f",
            "value": 938
          }
        },
        "0ea9628fa6cc47369c0fe88b847fc978": {
          "model_module": "@jupyter-widgets/controls",
          "model_name": "HTMLModel",
          "model_module_version": "1.5.0",
          "state": {
            "_dom_classes": [],
            "_model_module": "@jupyter-widgets/controls",
            "_model_module_version": "1.5.0",
            "_model_name": "HTMLModel",
            "_view_count": null,
            "_view_module": "@jupyter-widgets/controls",
            "_view_module_version": "1.5.0",
            "_view_name": "HTMLView",
            "description": "",
            "description_tooltip": null,
            "layout": "IPY_MODEL_57b6b64a54914470a41d908f7f53d801",
            "placeholder": "​",
            "style": "IPY_MODEL_e38ec854dc3a4c429e6894aa4e44daaa",
            "value": " 938/938 [00:13&lt;00:00, 68.51it/s, v_num=6, loss=0.058]"
          }
        },
        "bf82984b0b734097a9085a278eb93fa5": {
          "model_module": "@jupyter-widgets/base",
          "model_name": "LayoutModel",
          "model_module_version": "1.2.0",
          "state": {
            "_model_module": "@jupyter-widgets/base",
            "_model_module_version": "1.2.0",
            "_model_name": "LayoutModel",
            "_view_count": null,
            "_view_module": "@jupyter-widgets/base",
            "_view_module_version": "1.2.0",
            "_view_name": "LayoutView",
            "align_content": null,
            "align_items": null,
            "align_self": null,
            "border": null,
            "bottom": null,
            "display": "inline-flex",
            "flex": null,
            "flex_flow": "row wrap",
            "grid_area": null,
            "grid_auto_columns": null,
            "grid_auto_flow": null,
            "grid_auto_rows": null,
            "grid_column": null,
            "grid_gap": null,
            "grid_row": null,
            "grid_template_areas": null,
            "grid_template_columns": null,
            "grid_template_rows": null,
            "height": null,
            "justify_content": null,
            "justify_items": null,
            "left": null,
            "margin": null,
            "max_height": null,
            "max_width": null,
            "min_height": null,
            "min_width": null,
            "object_fit": null,
            "object_position": null,
            "order": null,
            "overflow": null,
            "overflow_x": null,
            "overflow_y": null,
            "padding": null,
            "right": null,
            "top": null,
            "visibility": null,
            "width": "100%"
          }
        },
        "9b55e877285849fc87a75243cf3c0290": {
          "model_module": "@jupyter-widgets/base",
          "model_name": "LayoutModel",
          "model_module_version": "1.2.0",
          "state": {
            "_model_module": "@jupyter-widgets/base",
            "_model_module_version": "1.2.0",
            "_model_name": "LayoutModel",
            "_view_count": null,
            "_view_module": "@jupyter-widgets/base",
            "_view_module_version": "1.2.0",
            "_view_name": "LayoutView",
            "align_content": null,
            "align_items": null,
            "align_self": null,
            "border": null,
            "bottom": null,
            "display": null,
            "flex": null,
            "flex_flow": null,
            "grid_area": null,
            "grid_auto_columns": null,
            "grid_auto_flow": null,
            "grid_auto_rows": null,
            "grid_column": null,
            "grid_gap": null,
            "grid_row": null,
            "grid_template_areas": null,
            "grid_template_columns": null,
            "grid_template_rows": null,
            "height": null,
            "justify_content": null,
            "justify_items": null,
            "left": null,
            "margin": null,
            "max_height": null,
            "max_width": null,
            "min_height": null,
            "min_width": null,
            "object_fit": null,
            "object_position": null,
            "order": null,
            "overflow": null,
            "overflow_x": null,
            "overflow_y": null,
            "padding": null,
            "right": null,
            "top": null,
            "visibility": null,
            "width": null
          }
        },
        "e42309213e8d48dd94e3ccd311a0d35e": {
          "model_module": "@jupyter-widgets/controls",
          "model_name": "DescriptionStyleModel",
          "model_module_version": "1.5.0",
          "state": {
            "_model_module": "@jupyter-widgets/controls",
            "_model_module_version": "1.5.0",
            "_model_name": "DescriptionStyleModel",
            "_view_count": null,
            "_view_module": "@jupyter-widgets/base",
            "_view_module_version": "1.2.0",
            "_view_name": "StyleView",
            "description_width": ""
          }
        },
        "64775722dad44e14a9e593228c7a20e2": {
          "model_module": "@jupyter-widgets/base",
          "model_name": "LayoutModel",
          "model_module_version": "1.2.0",
          "state": {
            "_model_module": "@jupyter-widgets/base",
            "_model_module_version": "1.2.0",
            "_model_name": "LayoutModel",
            "_view_count": null,
            "_view_module": "@jupyter-widgets/base",
            "_view_module_version": "1.2.0",
            "_view_name": "LayoutView",
            "align_content": null,
            "align_items": null,
            "align_self": null,
            "border": null,
            "bottom": null,
            "display": null,
            "flex": "2",
            "flex_flow": null,
            "grid_area": null,
            "grid_auto_columns": null,
            "grid_auto_flow": null,
            "grid_auto_rows": null,
            "grid_column": null,
            "grid_gap": null,
            "grid_row": null,
            "grid_template_areas": null,
            "grid_template_columns": null,
            "grid_template_rows": null,
            "height": null,
            "justify_content": null,
            "justify_items": null,
            "left": null,
            "margin": null,
            "max_height": null,
            "max_width": null,
            "min_height": null,
            "min_width": null,
            "object_fit": null,
            "object_position": null,
            "order": null,
            "overflow": null,
            "overflow_x": null,
            "overflow_y": null,
            "padding": null,
            "right": null,
            "top": null,
            "visibility": null,
            "width": null
          }
        },
        "0097f74f33eb48779d8aaf7b620f1a8f": {
          "model_module": "@jupyter-widgets/controls",
          "model_name": "ProgressStyleModel",
          "model_module_version": "1.5.0",
          "state": {
            "_model_module": "@jupyter-widgets/controls",
            "_model_module_version": "1.5.0",
            "_model_name": "ProgressStyleModel",
            "_view_count": null,
            "_view_module": "@jupyter-widgets/base",
            "_view_module_version": "1.2.0",
            "_view_name": "StyleView",
            "bar_color": null,
            "description_width": ""
          }
        },
        "57b6b64a54914470a41d908f7f53d801": {
          "model_module": "@jupyter-widgets/base",
          "model_name": "LayoutModel",
          "model_module_version": "1.2.0",
          "state": {
            "_model_module": "@jupyter-widgets/base",
            "_model_module_version": "1.2.0",
            "_model_name": "LayoutModel",
            "_view_count": null,
            "_view_module": "@jupyter-widgets/base",
            "_view_module_version": "1.2.0",
            "_view_name": "LayoutView",
            "align_content": null,
            "align_items": null,
            "align_self": null,
            "border": null,
            "bottom": null,
            "display": null,
            "flex": null,
            "flex_flow": null,
            "grid_area": null,
            "grid_auto_columns": null,
            "grid_auto_flow": null,
            "grid_auto_rows": null,
            "grid_column": null,
            "grid_gap": null,
            "grid_row": null,
            "grid_template_areas": null,
            "grid_template_columns": null,
            "grid_template_rows": null,
            "height": null,
            "justify_content": null,
            "justify_items": null,
            "left": null,
            "margin": null,
            "max_height": null,
            "max_width": null,
            "min_height": null,
            "min_width": null,
            "object_fit": null,
            "object_position": null,
            "order": null,
            "overflow": null,
            "overflow_x": null,
            "overflow_y": null,
            "padding": null,
            "right": null,
            "top": null,
            "visibility": null,
            "width": null
          }
        },
        "e38ec854dc3a4c429e6894aa4e44daaa": {
          "model_module": "@jupyter-widgets/controls",
          "model_name": "DescriptionStyleModel",
          "model_module_version": "1.5.0",
          "state": {
            "_model_module": "@jupyter-widgets/controls",
            "_model_module_version": "1.5.0",
            "_model_name": "DescriptionStyleModel",
            "_view_count": null,
            "_view_module": "@jupyter-widgets/base",
            "_view_module_version": "1.2.0",
            "_view_name": "StyleView",
            "description_width": ""
          }
        }
      }
    }
  },
  "nbformat": 4,
  "nbformat_minor": 5
}