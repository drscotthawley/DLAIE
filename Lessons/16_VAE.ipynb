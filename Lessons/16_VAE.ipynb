{
 "cells": [
  {
   "cell_type": "markdown",
   "id": "f43a6642",
   "metadata": {},
   "source": [
    "[![open in colab](https://colab.research.google.com/assets/colab-badge.svg)](https://colab.research.google.com/github/drscotthawley/DLAIE/blob/main/Lessons/16_VAE.ipynb)"
   ]
  },
  {
   "cell_type": "markdown",
   "id": "65f8f4a9",
   "metadata": {},
   "source": [
    "# Let's Make a Variational AutoEncoder (VAE)\n",
    "\n",
    "Essentially, we force the Decoder to decode points in latent space *nearby* to the point corresponding to the encoded image. "
   ]
  },
  {
   "cell_type": "code",
   "execution_count": null,
   "id": "2d719f98",
   "metadata": {},
   "outputs": [],
   "source": [
    "# we'll use pytorch lightning as an alternative to raw pytorch\n",
    "!pip install lightning"
   ]
  },
  {
   "cell_type": "code",
   "execution_count": 1,
   "id": "d6932b44",
   "metadata": {},
   "outputs": [],
   "source": [
    "import torch \n",
    "from torch import nn, optim, utils\n",
    "from torch.utils.data import DataLoader\n",
    "from torchvision.datasets import MNIST\n",
    "from torchvision.transforms import ToTensor\n",
    "import torchvision\n",
    "import matplotlib.pyplot as plt\n",
    "import lightning as L  "
   ]
  },
  {
   "cell_type": "markdown",
   "id": "a54bb357",
   "metadata": {},
   "source": [
    "## Setup Dataset\n",
    "Yep, good 'ol MNIST. It's small and easy and you can do it on a CPU. Let's keep everything super-simple at first: black & white images. "
   ]
  },
  {
   "cell_type": "code",
   "execution_count": 2,
   "id": "52508200",
   "metadata": {},
   "outputs": [
    {
     "name": "stdout",
     "output_type": "stream",
     "text": [
      "Data set lengths: train: 60000, test: 10000\n"
     ]
    }
   ],
   "source": [
    "train_ds = MNIST(root='./data', train=True,  download=True, transform=ToTensor())\n",
    "test_ds  = MNIST(root='./data', train=False, download=True, transform=ToTensor())\n",
    "print(f\"Data set lengths: train: {len(train_ds)}, test: {len(test_ds)}\")"
   ]
  },
  {
   "cell_type": "markdown",
   "id": "7e96b826",
   "metadata": {},
   "source": [
    "Inspect it a bit.."
   ]
  },
  {
   "cell_type": "code",
   "execution_count": 81,
   "id": "7eea425d",
   "metadata": {},
   "outputs": [
    {
     "name": "stdout",
     "output_type": "stream",
     "text": [
      "y (target) = 5 \n",
      "x.shape = (28, 28), min(x) = 0.0, max(x) = 1.0\n"
     ]
    },
    {
     "data": {
      "image/png": "[encoded data removed]",
      "text/plain": [
       "<Figure size 300x200 with 2 Axes>"
      ]
     },
     "metadata": {},
     "output_type": "display_data"
    }
   ],
   "source": [
    "x, y = train_ds[0]   # pick an element\n",
    "print(f\"y (target) = {y} \")\n",
    "\n",
    "def show_xs(xs, show_stats=True):\n",
    "    \"A little utility we'll call again & again to show one or more images\"\n",
    "    if type(xs) is not list: xs = list(xs)\n",
    "    ncols = len(xs)\n",
    "    fig, axs = plt.subplots(figsize=(3*ncols,2), ncols=ncols, squeeze=False)\n",
    "    ax = axs.ravel()\n",
    "    for col, x in enumerate(xs):\n",
    "        if len(x.shape)>2: x = x[0] # remove any batch dimension\n",
    "        if show_stats: \n",
    "            if ncols > 1: print(f\"col {col}: \",end=\"\")\n",
    "            print(f\"x.shape = {tuple(x.shape)}, min(x) = {torch.min(x)}, max(x) = {torch.max(x)}\")\n",
    "        digit = ax[col].imshow(x.detach().cpu().numpy(), cmap='gray')\n",
    "        fig.colorbar(digit, ax=ax[col])\n",
    "    plt.show()\n",
    "    \n",
    "show_xs([x])"
   ]
  },
  {
   "cell_type": "markdown",
   "id": "b434a698",
   "metadata": {},
   "source": [
    "Define dataloaders"
   ]
  },
  {
   "cell_type": "code",
   "execution_count": 4,
   "id": "e336063c",
   "metadata": {},
   "outputs": [],
   "source": [
    "batch_size = 64\n",
    "train_dl = DataLoader(train_ds, batch_size=batch_size, num_workers=4, shuffle=True)\n",
    "test_dl = DataLoader(test_ds, batch_size=batch_size, num_workers=4, shuffle=False)"
   ]
  },
  {
   "cell_type": "markdown",
   "id": "f8b45272",
   "metadata": {},
   "source": [
    "## Make an (Regular) AE Model\n",
    "\n",
    "First we'll try a regular autoencoder. Then we'll make it \"variational\" "
   ]
  },
  {
   "cell_type": "code",
   "execution_count": 28,
   "id": "5e4bd450",
   "metadata": {},
   "outputs": [],
   "source": [
    "latent_dim = 3\n",
    "\n",
    "n_hid = [256, 64, latent_dim]\n",
    "\n",
    "act = nn.LeakyReLU\n",
    "\n",
    "encoder = nn.Sequential(\n",
    "                nn.Linear(28 * 28, n_hid[0]), \n",
    "                act(), \n",
    "                nn.Linear(n_hid[0], n_hid[1]), \n",
    "                act(), \n",
    "                nn.Linear(n_hid[-2], latent_dim))\n",
    "\n",
    "decoder = nn.Sequential(\n",
    "                nn.Linear(latent_dim, n_hid[-2]), \n",
    "                act(), \n",
    "                nn.Linear(n_hid[1], n_hid[0]), \n",
    "                act(), \n",
    "                nn.Linear(n_hid[0], 28 * 28))"
   ]
  },
  {
   "cell_type": "code",
   "execution_count": 29,
   "id": "8ae4dace",
   "metadata": {},
   "outputs": [
    {
     "name": "stdout",
     "output_type": "stream",
     "text": [
      "z =  tensor([[-0.1095, -0.0709, -0.0708]], grad_fn=<AddmmBackward0>)\n",
      "x.shape = (28, 28), min(x) = -0.1841098666191101, max(x) = 0.19721320271492004\n"
     ]
    },
    {
     "data": {
      "image/png": "[encoded data removed]",
      "text/plain": [
       "<Figure size 300x200 with 2 Axes>"
      ]
     },
     "metadata": {},
     "output_type": "display_data"
    }
   ],
   "source": [
    "# test it\n",
    "z = encoder(x.view(x.size(0), -1) )\n",
    "print(\"z = \",z)\n",
    "x_hat = decoder(z)\n",
    "x_hat = x_hat.view(x.size(0), 28, -1) \n",
    "show_xs(x_hat)"
   ]
  },
  {
   "cell_type": "code",
   "execution_count": 30,
   "id": "42c8f30f",
   "metadata": {},
   "outputs": [],
   "source": [
    "# instead of nn.Module, we use L.LightningModule\n",
    "class AEModel(L.LightningModule):\n",
    "    def __init__(self, encoder, decoder):\n",
    "        super().__init__()\n",
    "        self.encoder = encoder\n",
    "        self.decoder = decoder        \n",
    "        \n",
    "    def forward(self, x):\n",
    "        z = self.encoder(x)\n",
    "        x_hat = self.decoder(z)\n",
    "        return z, x_hat \n",
    "    \n",
    "    def training_step(self, batch, batch_idx):\n",
    "        x, y = batch\n",
    "        x = x.view(x.size(0), -1)  # flatten for linear layer\n",
    "        z, x_hat = self.forward(x) \n",
    "        loss = nn.functional.mse_loss(x_hat, x)\n",
    "        self.log('loss', loss, prog_bar=True)\n",
    "        return loss\n",
    "\n",
    "    def configure_optimizers(self):\n",
    "        return optim.Adam(self.parameters(), lr=1e-3)"
   ]
  },
  {
   "cell_type": "code",
   "execution_count": 31,
   "id": "c56b2473",
   "metadata": {},
   "outputs": [
    {
     "name": "stderr",
     "output_type": "stream",
     "text": [
      "GPU available: True (mps), used: True\n",
      "TPU available: False, using: 0 TPU cores\n",
      "IPU available: False, using: 0 IPUs\n",
      "HPU available: False, using: 0 HPUs\n",
      "\n",
      "  | Name    | Type       | Params\n",
      "---------------------------------------\n",
      "0 | encoder | Sequential | 217 K \n",
      "1 | decoder | Sequential | 218 K \n",
      "---------------------------------------\n",
      "435 K     Trainable params\n",
      "0         Non-trainable params\n",
      "435 K     Total params\n",
      "1.744     Total estimated model params size (MB)\n"
     ]
    },
    {
     "data": {
      "application/vnd.jupyter.widget-view+json": {
       "model_id": "9d40eb670cd14a07b839bd59014c5db8",
       "version_major": 2,
       "version_minor": 0
      },
      "text/plain": [
       "Training: |                                                                                                   …"
      ]
     },
     "metadata": {},
     "output_type": "display_data"
    },
    {
     "name": "stderr",
     "output_type": "stream",
     "text": [
      "`Trainer.fit` stopped: `max_epochs=2` reached.\n"
     ]
    }
   ],
   "source": [
    "autoencoder = AEModel(encoder, decoder)\n",
    "\n",
    "epochs = 2\n",
    "trainer = L.Trainer(max_epochs=epochs, devices=\"auto\")\n",
    "trainer.fit(model=autoencoder, train_dataloaders=train_dl)"
   ]
  },
  {
   "cell_type": "code",
   "execution_count": 56,
   "id": "cb5ed374",
   "metadata": {},
   "outputs": [
    {
     "name": "stdout",
     "output_type": "stream",
     "text": [
      "z =  tensor([[-0.2376,  3.1090,  3.4761]])\n",
      "col 0: x.shape = (28, 28), min(x) = 0.0, max(x) = 1.0\n",
      "col 1: x.shape = (28, 28), min(x) = -0.0786314532160759, max(x) = 1.069348692893982\n"
     ]
    },
    {
     "data": {
      "image/png": "[encoded data removed]",
      "text/plain": [
       "<Figure size 600x200 with 4 Axes>"
      ]
     },
     "metadata": {},
     "output_type": "display_data"
    }
   ],
   "source": [
    "@torch.no_grad()\n",
    "def test_inference(model, idx=None):\n",
    "    \"Another utility we'll use for running images through the (V)AE\"\n",
    "    if idx is None: idx = torch.randint( len(test_ds), (1,) )[0]\n",
    "    x, y = test_ds[idx]\n",
    "    z, x_hat = model.forward(x.view(x.size(0), -1))\n",
    "    print(\"z = \",z)\n",
    "    x_hat = x_hat.view(x.size(0), 28, -1) \n",
    "    show_xs([x,x_hat])\n",
    "        \n",
    "idx = 3\n",
    "test_inference(autoencoder, idx=idx)"
   ]
  },
  {
   "cell_type": "markdown",
   "id": "85ab8d6c",
   "metadata": {},
   "source": [
    "## Now Let's Make it 'Varational'"
   ]
  },
  {
   "cell_type": "code",
   "execution_count": 70,
   "id": "c0260e18",
   "metadata": {},
   "outputs": [],
   "source": [
    "# encoder now spits out mean and variance\n",
    "vae_encoder = nn.Sequential(\n",
    "                nn.Linear(28 * 28, n_hid[0]), \n",
    "                act(), \n",
    "                nn.Linear(n_hid[0], n_hid[1]), \n",
    "                act(), \n",
    "                nn.Linear(n_hid[-2], latent_dim*2)) # *2 b/c mu, log_var\n",
    "\n",
    "# decoder same as before\n",
    "decoder = nn.Sequential(\n",
    "                nn.Linear(latent_dim, n_hid[-2]), \n",
    "                act(), \n",
    "                nn.Linear(n_hid[1], n_hid[0]), \n",
    "                act(), \n",
    "                nn.Linear(n_hid[0], 28 * 28))"
   ]
  },
  {
   "cell_type": "code",
   "execution_count": 71,
   "id": "e85483b5",
   "metadata": {},
   "outputs": [],
   "source": [
    "# instead of nn.Module, we use L.LightningModule\n",
    "class VAEModel(L.LightningModule):\n",
    "    def __init__(self, encoder, decoder):\n",
    "        super().__init__()\n",
    "        self.encoder = encoder\n",
    "        self.decoder = decoder   \n",
    "        \n",
    "    def reparam_sample(self, mu, log_var):\n",
    "        std = torch.exp(0.5*log_var).sqrt() # why the 0.5?\n",
    "        noise = torch.randn_like(std)       # the \"noise\"\n",
    "        return mu + std * noise\n",
    "        \n",
    "    def forward(self, x):\n",
    "        z = self.encoder(x)\n",
    "        i_half = z.shape[-1]//2\n",
    "        mu, log_var = z[:,:i_half],  z[:,i_half:]\n",
    "        z_hat = self.reparam_sample(mu, log_var)\n",
    "        x_hat = self.decoder(z_hat)\n",
    "        return z, x_hat \n",
    "    \n",
    "    def training_step(self, batch, batch_idx):\n",
    "        x, y = batch\n",
    "        x = x.view(x.size(0), -1)  # flatten for linear layer\n",
    "        z, x_hat = self.forward(x) \n",
    "        loss = nn.functional.mse_loss(x_hat, x)\n",
    "        self.log('loss', loss, prog_bar=True)\n",
    "        return loss\n",
    "\n",
    "    def configure_optimizers(self):\n",
    "        return optim.Adam(self.parameters(), lr=1e-3)"
   ]
  },
  {
   "cell_type": "code",
   "execution_count": 72,
   "id": "1471e65c",
   "metadata": {},
   "outputs": [
    {
     "name": "stderr",
     "output_type": "stream",
     "text": [
      "GPU available: True (mps), used: True\n",
      "TPU available: False, using: 0 TPU cores\n",
      "IPU available: False, using: 0 IPUs\n",
      "HPU available: False, using: 0 HPUs\n",
      "\n",
      "  | Name    | Type       | Params\n",
      "---------------------------------------\n",
      "0 | encoder | Sequential | 217 K \n",
      "1 | decoder | Sequential | 218 K \n",
      "---------------------------------------\n",
      "436 K     Trainable params\n",
      "0         Non-trainable params\n",
      "436 K     Total params\n",
      "1.745     Total estimated model params size (MB)\n"
     ]
    },
    {
     "data": {
      "application/vnd.jupyter.widget-view+json": {
       "model_id": "7c5182bcb1fd41658321d73b12603456",
       "version_major": 2,
       "version_minor": 0
      },
      "text/plain": [
       "Training: |                                                                                                   …"
      ]
     },
     "metadata": {},
     "output_type": "display_data"
    },
    {
     "name": "stderr",
     "output_type": "stream",
     "text": [
      "`Trainer.fit` stopped: `max_epochs=4` reached.\n"
     ]
    }
   ],
   "source": [
    "vae = VAEModel(vae_encoder, decoder)\n",
    "\n",
    "epochs = 4\n",
    "trainer = L.Trainer(max_epochs=epochs, devices=\"auto\")\n",
    "trainer.fit(model=vae, train_dataloaders=train_dl)"
   ]
  },
  {
   "cell_type": "code",
   "execution_count": 73,
   "id": "223d22ea",
   "metadata": {},
   "outputs": [
    {
     "name": "stdout",
     "output_type": "stream",
     "text": [
      "z =  tensor([[ -0.5880,   1.9057,   3.3864, -25.5688, -25.8611, -23.4705]])\n",
      "col 0: x.shape = (28, 28), min(x) = 0.0, max(x) = 1.0\n",
      "col 1: x.shape = (28, 28), min(x) = -0.06970672309398651, max(x) = 1.0306488275527954\n"
     ]
    },
    {
     "data": {
      "image/png": "[encoded data removed]",
      "text/plain": [
       "<Figure size 600x200 with 4 Axes>"
      ]
     },
     "metadata": {},
     "output_type": "display_data"
    }
   ],
   "source": [
    "test_inference(vae, idx=idx)"
   ]
  },
  {
   "cell_type": "markdown",
   "id": "0afb52fc",
   "metadata": {},
   "source": [
    "Looks similar to the regular autoencoder, right? \n",
    "\n",
    "Now let's try perturbing our input a bit"
   ]
  },
  {
   "cell_type": "markdown",
   "id": "eb243c37",
   "metadata": {},
   "source": [
    "## Comparing the AE and VAE"
   ]
  },
  {
   "cell_type": "code",
   "execution_count": 105,
   "id": "0efea038",
   "metadata": {},
   "outputs": [
    {
     "name": "stdout",
     "output_type": "stream",
     "text": [
      "Perturbing the regular autoencoder with strength = 10.0:\n"
     ]
    },
    {
     "data": {
      "image/png": "[encoded data removed]",
      "text/plain": [
       "<Figure size 600x200 with 4 Axes>"
      ]
     },
     "metadata": {},
     "output_type": "display_data"
    },
    {
     "name": "stdout",
     "output_type": "stream",
     "text": [
      "Perturbing the VAE with strength = 10.0:\n"
     ]
    },
    {
     "data": {
      "image/png": "[encoded data removed]",
      "text/plain": [
       "<Figure size 600x200 with 4 Axes>"
      ]
     },
     "metadata": {},
     "output_type": "display_data"
    }
   ],
   "source": [
    "@torch.no_grad()\n",
    "def infer_perturb(model, idx=None, strength=1.0):\n",
    "    \"Another utility we'll use for running images through the (V)AE\"\n",
    "    if idx is None: idx = torch.randint( len(test_ds), (1,) )[0]\n",
    "    x, y = test_ds[idx]\n",
    "    z = model.encoder(x.view(x.size(0), -1))\n",
    "    if z.shape[-1] > latent_dim: z = z[:,:latent_dim]\n",
    "    z_hat = z + strength*torch.randn_like(z)\n",
    "    x_hat = model.decoder(z_hat)\n",
    "    x_hat = x_hat.view(x.size(0), 28, -1) \n",
    "    show_xs([x,x_hat], show_stats=False)\n",
    "    \n",
    "idx=0\n",
    "strength = 10.0\n",
    "print(f\"Perturbing the regular autoencoder with strength = {strength}:\")\n",
    "infer_perturb(autoencoder, idx=idx, strength=strength)\n",
    "print(f\"Perturbing the VAE with strength = {strength}:\")\n",
    "infer_perturb(vae, idx=idx, strength=1.0)"
   ]
  },
  {
   "cell_type": "markdown",
   "id": "f4a91448",
   "metadata": {},
   "source": [
    "Depending on the random values you get, perturbations may cause the regular AE output to look like not-a-number, whereas the VAE output is probably more stable.\n",
    "\n",
    "### TODO: Add interpolation. "
   ]
  },
  {
   "cell_type": "code",
   "execution_count": null,
   "id": "c75087ea",
   "metadata": {},
   "outputs": [],
   "source": []
  }
 ],
 "metadata": {
  "kernelspec": {
   "display_name": "Python 3 (ipykernel)",
   "language": "python",
   "name": "python3"
  },
  "language_info": {
   "codemirror_mode": {
    "name": "ipython",
    "version": 3
   },
   "file_extension": ".py",
   "mimetype": "text/x-python",
   "name": "python",
   "nbconvert_exporter": "python",
   "pygments_lexer": "ipython3",
   "version": "3.11.6"
  }
 },
 "nbformat": 4,
 "nbformat_minor": 5
}
