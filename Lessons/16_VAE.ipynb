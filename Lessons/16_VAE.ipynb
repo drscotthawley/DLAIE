{
 "cells": [
  {
   "cell_type": "markdown",
   "id": "f43a6642",
   "metadata": {
    "id": "f43a6642"
   },
   "source": [
    "[![open in colab](https://colab.research.google.com/assets/colab-badge.svg)](https://colab.research.google.com/github/drscotthawley/DLAIE/blob/main/Lessons/16_VAE.ipynb)"
   ]
  },
  {
   "cell_type": "markdown",
   "id": "65f8f4a9",
   "metadata": {
    "id": "65f8f4a9"
   },
   "source": [
    "# Let's Make a Variational AutoEncoder (VAE)\n",
    "\n",
    "--Scott H. Hawley\n",
    "\n",
    "*Jan 30, 2024: This is a Work In Progress!*\n",
    "\n",
    "---\n",
    "\n",
    "## The basic ideas:\n",
    "* we force the Decoder to decode points in latent space *nearby* to the point corresponding to the encoded image\n",
    "* we 'scrunch' the latent space so it looks like a gaussian"
   ]
  },
  {
   "cell_type": "markdown",
   "id": "31dgwJ6lZGoF",
   "metadata": {
    "id": "31dgwJ6lZGoF"
   },
   "source": [
    "## Setup Imports"
   ]
  },
  {
   "cell_type": "code",
   "execution_count": 52,
   "id": "2d719f98",
   "metadata": {
    "id": "2d719f98"
   },
   "outputs": [],
   "source": [
    "# we'll use pytorch lightning as an alternative to raw pytorch\n",
    "!pip install -Uqq lightning wandb rich einops"
   ]
  },
  {
   "cell_type": "code",
   "execution_count": 2,
   "id": "d6932b44",
   "metadata": {
    "id": "d6932b44"
   },
   "outputs": [],
   "source": [
    "import torch\n",
    "from torch import nn, optim, utils\n",
    "from torch.utils.data import DataLoader\n",
    "from torchvision.datasets import MNIST\n",
    "from torchvision.transforms import ToTensor\n",
    "import torchvision\n",
    "import matplotlib.pyplot as plt\n",
    "import torch.nn.functional as F\n",
    "import lightning as L\n",
    "from lightning.pytorch.loggers import WandbLogger\n",
    "from lightning.pytorch.callbacks import RichProgressBar\n",
    "import wandb\n",
    "import numpy as np\n",
    "from einops import rearrange"
   ]
  },
  {
   "cell_type": "code",
   "execution_count": 3,
   "id": "f77223b0-3348-40c3-ab13-c2a052b65b3d",
   "metadata": {},
   "outputs": [
    {
     "name": "stderr",
     "output_type": "stream",
     "text": [
      "\u001b[34m\u001b[1mwandb\u001b[0m: Currently logged in as: \u001b[33mdrscotthawley\u001b[0m (\u001b[33mstrange-quarks\u001b[0m). Use \u001b[1m`wandb login --relogin`\u001b[0m to force relogin\n"
     ]
    },
    {
     "data": {
      "text/plain": [
       "True"
      ]
     },
     "execution_count": 3,
     "metadata": {},
     "output_type": "execute_result"
    }
   ],
   "source": [
    "wandb.login()"
   ]
  },
  {
   "cell_type": "markdown",
   "id": "a54bb357",
   "metadata": {
    "id": "a54bb357"
   },
   "source": [
    "## Setup Dataset"
   ]
  },
  {
   "cell_type": "markdown",
   "id": "YF1FPenPZLP4",
   "metadata": {
    "id": "YF1FPenPZLP4"
   },
   "source": [
    "MNIST is small and easy and you can do it on a CPU. Let's keep everything super-simple at first: black & white images."
   ]
  },
  {
   "cell_type": "code",
   "execution_count": 4,
   "id": "52508200",
   "metadata": {
    "colab": {
     "base_uri": "https://localhost:8080/"
    },
    "id": "52508200",
    "outputId": "1616d43f-1508-44b4-8b45-067dcc7231e7"
   },
   "outputs": [
    {
     "name": "stdout",
     "output_type": "stream",
     "text": [
      "Data set lengths: train: 60000, test: 10000\n"
     ]
    }
   ],
   "source": [
    "train_ds = MNIST(root='./data', train=True,  download=True, transform=ToTensor())\n",
    "test_ds  = MNIST(root='./data', train=False, download=True, transform=ToTensor())\n",
    "val_ds = test_ds  #alias val & test\n",
    "print(f\"Data set lengths: train: {len(train_ds)}, test: {len(test_ds)}\")"
   ]
  },
  {
   "cell_type": "markdown",
   "id": "7e96b826",
   "metadata": {
    "id": "7e96b826"
   },
   "source": [
    "Inspect it a bit.."
   ]
  },
  {
   "cell_type": "code",
   "execution_count": 5,
   "id": "7eea425d",
   "metadata": {
    "colab": {
     "base_uri": "https://localhost:8080/",
     "height": 255
    },
    "id": "7eea425d",
    "outputId": "c5eb99b3-3bb6-4c04-8638-da505278db2c"
   },
   "outputs": [
    {
     "name": "stdout",
     "output_type": "stream",
     "text": [
      "y (target) = 5 \n",
      "x.shape = (28, 28), min(x) = 0.0, max(x) = 1.0\n"
     ]
    },
    {
     "data": {
      "image/png": "[encoded data removed]",
      "text/plain": [
       "<Figure size 300x200 with 2 Axes>"
      ]
     },
     "metadata": {},
     "output_type": "display_data"
    }
   ],
   "source": [
    "x, y = train_ds[0]   # pick an element\n",
    "print(f\"y (target) = {y} \")\n",
    "\n",
    "def show_xs(xs, show_stats=True):\n",
    "    \"A little utility we'll call again & again to show one or more images\"\n",
    "    if type(xs) is not list: xs = list(xs)\n",
    "    ncols = len(xs)\n",
    "    fig, axs = plt.subplots(figsize=(3*ncols,2), ncols=ncols, squeeze=False)\n",
    "    ax = axs.ravel()\n",
    "    for col, x in enumerate(xs):\n",
    "        if len(x.shape)>2: x = x[0] # remove any batch dimension\n",
    "        if show_stats:\n",
    "            if ncols > 1: print(f\"col {col}: \",end=\"\")\n",
    "            print(f\"x.shape = {tuple(x.shape)}, min(x) = {torch.min(x)}, max(x) = {torch.max(x)}\")\n",
    "        digit = ax[col].imshow(x.detach().cpu().numpy(), cmap='gray')\n",
    "        fig.colorbar(digit, ax=ax[col])\n",
    "    plt.show()\n",
    "\n",
    "show_xs([x])"
   ]
  },
  {
   "cell_type": "markdown",
   "id": "b434a698",
   "metadata": {
    "id": "b434a698"
   },
   "source": [
    "Define dataloaders"
   ]
  },
  {
   "cell_type": "code",
   "execution_count": 6,
   "id": "e336063c",
   "metadata": {
    "colab": {
     "base_uri": "https://localhost:8080/"
    },
    "id": "e336063c",
    "outputId": "d4c3a3ee-1a28-4af1-e897-818d35d6de67"
   },
   "outputs": [],
   "source": [
    "batch_size = 64\n",
    "train_dl = DataLoader(train_ds, batch_size=batch_size, num_workers=4, shuffle=True)\n",
    "test_dl = DataLoader(test_ds, batch_size=batch_size, num_workers=4, shuffle=False)\n",
    "val_dl = test_dl # alias val & test"
   ]
  },
  {
   "cell_type": "markdown",
   "id": "f8b45272",
   "metadata": {
    "id": "f8b45272"
   },
   "source": [
    "## Make an (Regular) AE Model"
   ]
  },
  {
   "cell_type": "markdown",
   "id": "OIC1FXBuZOE-",
   "metadata": {
    "id": "OIC1FXBuZOE-"
   },
   "source": [
    "\n",
    "First we'll try a regular autoencoder. Then we'll make it \"variational\""
   ]
  },
  {
   "cell_type": "code",
   "execution_count": 7,
   "id": "5e4bd450",
   "metadata": {
    "id": "5e4bd450"
   },
   "outputs": [],
   "source": [
    "latent_dim = 3   # more = better reconstructions, but 3 we can plot!\n",
    "\n",
    "n_hid = [256, 64]  # could imagine adding more layers\n",
    "\n",
    "act = nn.LeakyReLU # works ok.\n",
    "\n",
    "encoder = nn.Sequential(  \n",
    "                nn.Linear(28 * 28, n_hid[0]),\n",
    "                act(),\n",
    "                nn.Linear(n_hid[0], n_hid[1]),\n",
    "                act(),\n",
    "                nn.Linear(n_hid[1], latent_dim))\n",
    "\n",
    "decoder = nn.Sequential(\n",
    "                nn.Linear(latent_dim, n_hid[1]),\n",
    "                act(),\n",
    "                nn.Linear(n_hid[1], n_hid[0]),\n",
    "                act(),\n",
    "                nn.Linear(n_hid[0], 28 * 28),\n",
    "                #nn.Sigmoid(),        # optional. we do want outputs on [0,1]\n",
    "                )\n",
    "\n",
    "use_conv=False"
   ]
  },
  {
   "cell_type": "code",
   "execution_count": 8,
   "id": "8ae4dace",
   "metadata": {
    "colab": {
     "base_uri": "https://localhost:8080/",
     "height": 252
    },
    "id": "8ae4dace",
    "outputId": "80868980-8576-46f3-d19d-52e99d99b796"
   },
   "outputs": [
    {
     "name": "stdout",
     "output_type": "stream",
     "text": [
      "z =  tensor([[-0.0393,  0.0425,  0.1729]], grad_fn=<AddmmBackward0>)\n",
      "x.shape = (28, 28), min(x) = -0.22297322750091553, max(x) = 0.2520967125892639\n"
     ]
    },
    {
     "data": {
      "image/png": "[encoded data removed]",
      "text/plain": [
       "<Figure size 300x200 with 2 Axes>"
      ]
     },
     "metadata": {},
     "output_type": "display_data"
    }
   ],
   "source": [
    "# test it, just to make sure we get no errors from mmult ops\n",
    "x = x.view(x.size(0), -1)\n",
    "z = encoder(x)\n",
    "print(\"z = \",z)\n",
    "x_hat = decoder(z)\n",
    "x_hat = x_hat.view(x.size(0), 28, -1)\n",
    "show_xs(x_hat)"
   ]
  },
  {
   "cell_type": "markdown",
   "id": "-0KtfaQsmW5E",
   "metadata": {
    "id": "-0KtfaQsmW5E"
   },
   "source": [
    "^^ That was with randomly initialized weights, so we expect a random image. This was just to test that the matrix multiplications work out right."
   ]
  },
  {
   "cell_type": "code",
   "execution_count": 9,
   "id": "42c8f30f",
   "metadata": {
    "id": "42c8f30f"
   },
   "outputs": [],
   "source": [
    "# instead of nn.Module, we use L.LightningModule\n",
    "class AEModel(L.LightningModule):\n",
    "    def __init__(self, encoder, decoder):\n",
    "        super().__init__()\n",
    "        self.encoder = encoder\n",
    "        self.decoder = decoder\n",
    "\n",
    "    def forward(self, x):\n",
    "        z = self.encoder(x)\n",
    "        x_hat = self.decoder(z)\n",
    "        return z, x_hat\n",
    "\n",
    "    def do_pred(self, batch, batch_idx):\n",
    "        x, y = batch\n",
    "        if not use_conv:\n",
    "            x = x.view(x.size(0), -1)  # flatten for linear layer\n",
    "        z, x_hat = self.forward(x)\n",
    "        loss = nn.functional.mse_loss(x_hat, x) \n",
    "        return loss\n",
    "\n",
    "    def training_step(self, batch, batch_idx):\n",
    "        loss = self.do_pred(batch, batch_idx)\n",
    "        self.log('train_loss', loss, prog_bar=True)\n",
    "        return loss\n",
    "\n",
    "    def validation_step(self, batch, batch_idx):\n",
    "        loss = self.do_pred(batch, batch_idx)\n",
    "        self.log('val_loss', loss, prog_bar=True)\n",
    "        return loss\n",
    "    \n",
    "    def configure_optimizers(self):\n",
    "        return optim.Adam(self.parameters(), lr=1e-3)\n",
    "\n",
    "autoencoder = AEModel(encoder, decoder)\n",
    "model = autoencoder  # alias"
   ]
  },
  {
   "cell_type": "code",
   "execution_count": 10,
   "id": "7abb00e2-77fb-4e45-a2a1-6c15e0c8c21b",
   "metadata": {},
   "outputs": [
    {
     "data": {
      "text/html": [
       "Tracking run with wandb version 0.16.2"
      ],
      "text/plain": [
       "<IPython.core.display.HTML object>"
      ]
     },
     "metadata": {},
     "output_type": "display_data"
    },
    {
     "data": {
      "text/html": [
       "Run data is saved locally in <code>./wandb/run-20240131_215526-yt7vti9e</code>"
      ],
      "text/plain": [
       "<IPython.core.display.HTML object>"
      ]
     },
     "metadata": {},
     "output_type": "display_data"
    },
    {
     "data": {
      "text/html": [
       "Syncing run <strong><a href='https://wandb.ai/strange-quarks/ae_tut/runs/yt7vti9e' target=\"_blank\">comic-firefly-37</a></strong> to <a href='https://wandb.ai/strange-quarks/ae_tut' target=\"_blank\">Weights & Biases</a> (<a href='https://wandb.me/run' target=\"_blank\">docs</a>)<br/>"
      ],
      "text/plain": [
       "<IPython.core.display.HTML object>"
      ]
     },
     "metadata": {},
     "output_type": "display_data"
    },
    {
     "data": {
      "text/html": [
       " View project at <a href='https://wandb.ai/strange-quarks/ae_tut' target=\"_blank\">https://wandb.ai/strange-quarks/ae_tut</a>"
      ],
      "text/plain": [
       "<IPython.core.display.HTML object>"
      ]
     },
     "metadata": {},
     "output_type": "display_data"
    },
    {
     "data": {
      "text/html": [
       " View run at <a href='https://wandb.ai/strange-quarks/ae_tut/runs/yt7vti9e' target=\"_blank\">https://wandb.ai/strange-quarks/ae_tut/runs/yt7vti9e</a>"
      ],
      "text/plain": [
       "<IPython.core.display.HTML object>"
      ]
     },
     "metadata": {},
     "output_type": "display_data"
    },
    {
     "name": "stderr",
     "output_type": "stream",
     "text": [
      "\u001b[34m\u001b[1mwandb\u001b[0m: logging graph, to disable use `wandb.watch(log_graph=False)`\n"
     ]
    }
   ],
   "source": [
    "wandb.finish()\n",
    "wandb_logger = WandbLogger(log_model=\"all\", project='ae_tut')\n",
    "try:\n",
    "    wandb_logger.watch(model) \n",
    "except:\n",
    "    pass"
   ]
  },
  {
   "cell_type": "code",
   "execution_count": 11,
   "id": "c56b2473",
   "metadata": {
    "colab": {
     "base_uri": "https://localhost:8080/",
     "height": 659,
     "referenced_widgets": [
      "95b6575fa8354b7c8954e68c4e73895e",
      "57bde002405043f5ac6faacb57d2dd36",
      "4c156e65a8ce435a960b466d6a577f21",
      "2bfcc500bd64478990d852309f1585c1",
      "cd727bf2214f417bb3880ba61ea8135a",
      "bf3ba8ed7e744fe6baeca1c79471b431",
      "d09dd7711b10420e93d9d3fb814c907f",
      "bc165696da6a44099ea503cae5b7153b",
      "00788b9d1473467f9233f1f67f4f67fa",
      "7268add124f34252bb9bfaaf404a66f4",
      "79ee3d23220f4f1b926e9d48cf1c874a"
     ]
    },
    "id": "c56b2473",
    "outputId": "6c1da402-40c3-406c-d776-ddb29ab3a4d0"
   },
   "outputs": [
    {
     "name": "stderr",
     "output_type": "stream",
     "text": [
      "Trainer will use only 1 of 4 GPUs because it is running inside an interactive / notebook environment. You may try to set `Trainer(devices=4)` but please note that multi-GPU inside interactive / notebook environments is considered experimental and unstable. Your mileage may vary.\n",
      "GPU available: True (cuda), used: True\n",
      "TPU available: False, using: 0 TPU cores\n",
      "IPU available: False, using: 0 IPUs\n",
      "HPU available: False, using: 0 HPUs\n",
      "You are using a CUDA device ('NVIDIA RTX A6000') that has Tensor Cores. To properly utilize them, you should set `torch.set_float32_matmul_precision('medium' | 'high')` which will trade-off precision for performance. For more details, read https://pytorch.org/docs/stable/generated/torch.set_float32_matmul_precision.html#torch.set_float32_matmul_precision\n",
      "LOCAL_RANK: 0 - CUDA_VISIBLE_DEVICES: [0,1,2,3]\n",
      "\n",
      "  | Name    | Type       | Params\n",
      "---------------------------------------\n",
      "0 | encoder | Sequential | 217 K \n",
      "1 | decoder | Sequential | 218 K \n",
      "---------------------------------------\n",
      "435 K     Trainable params\n",
      "0         Non-trainable params\n",
      "435 K     Total params\n",
      "1.744     Total estimated model params size (MB)\n"
     ]
    },
    {
     "data": {
      "application/vnd.jupyter.widget-view+json": {
       "model_id": "",
       "version_major": 2,
       "version_minor": 0
      },
      "text/plain": [
       "Sanity Checking: |          | 0/? [00:00<?, ?it/s]"
      ]
     },
     "metadata": {},
     "output_type": "display_data"
    },
    {
     "data": {
      "application/vnd.jupyter.widget-view+json": {
       "model_id": "32801df4f4654d3cad6c5c958f26fe9a",
       "version_major": 2,
       "version_minor": 0
      },
      "text/plain": [
       "Training: |          | 0/? [00:00<?, ?it/s]"
      ]
     },
     "metadata": {},
     "output_type": "display_data"
    },
    {
     "data": {
      "application/vnd.jupyter.widget-view+json": {
       "model_id": "",
       "version_major": 2,
       "version_minor": 0
      },
      "text/plain": [
       "Validation: |          | 0/? [00:00<?, ?it/s]"
      ]
     },
     "metadata": {},
     "output_type": "display_data"
    },
    {
     "data": {
      "application/vnd.jupyter.widget-view+json": {
       "model_id": "",
       "version_major": 2,
       "version_minor": 0
      },
      "text/plain": [
       "Validation: |          | 0/? [00:00<?, ?it/s]"
      ]
     },
     "metadata": {},
     "output_type": "display_data"
    },
    {
     "data": {
      "application/vnd.jupyter.widget-view+json": {
       "model_id": "",
       "version_major": 2,
       "version_minor": 0
      },
      "text/plain": [
       "Validation: |          | 0/? [00:00<?, ?it/s]"
      ]
     },
     "metadata": {},
     "output_type": "display_data"
    },
    {
     "data": {
      "application/vnd.jupyter.widget-view+json": {
       "model_id": "",
       "version_major": 2,
       "version_minor": 0
      },
      "text/plain": [
       "Validation: |          | 0/? [00:00<?, ?it/s]"
      ]
     },
     "metadata": {},
     "output_type": "display_data"
    },
    {
     "data": {
      "application/vnd.jupyter.widget-view+json": {
       "model_id": "",
       "version_major": 2,
       "version_minor": 0
      },
      "text/plain": [
       "Validation: |          | 0/? [00:00<?, ?it/s]"
      ]
     },
     "metadata": {},
     "output_type": "display_data"
    },
    {
     "data": {
      "application/vnd.jupyter.widget-view+json": {
       "model_id": "",
       "version_major": 2,
       "version_minor": 0
      },
      "text/plain": [
       "Validation: |          | 0/? [00:00<?, ?it/s]"
      ]
     },
     "metadata": {},
     "output_type": "display_data"
    },
    {
     "data": {
      "application/vnd.jupyter.widget-view+json": {
       "model_id": "",
       "version_major": 2,
       "version_minor": 0
      },
      "text/plain": [
       "Validation: |          | 0/? [00:00<?, ?it/s]"
      ]
     },
     "metadata": {},
     "output_type": "display_data"
    },
    {
     "data": {
      "application/vnd.jupyter.widget-view+json": {
       "model_id": "",
       "version_major": 2,
       "version_minor": 0
      },
      "text/plain": [
       "Validation: |          | 0/? [00:00<?, ?it/s]"
      ]
     },
     "metadata": {},
     "output_type": "display_data"
    },
    {
     "data": {
      "application/vnd.jupyter.widget-view+json": {
       "model_id": "",
       "version_major": 2,
       "version_minor": 0
      },
      "text/plain": [
       "Validation: |          | 0/? [00:00<?, ?it/s]"
      ]
     },
     "metadata": {},
     "output_type": "display_data"
    },
    {
     "data": {
      "application/vnd.jupyter.widget-view+json": {
       "model_id": "",
       "version_major": 2,
       "version_minor": 0
      },
      "text/plain": [
       "Validation: |          | 0/? [00:00<?, ?it/s]"
      ]
     },
     "metadata": {},
     "output_type": "display_data"
    },
    {
     "name": "stderr",
     "output_type": "stream",
     "text": [
      "`Trainer.fit` stopped: `max_epochs=10` reached.\n"
     ]
    },
    {
     "data": {
      "application/vnd.jupyter.widget-view+json": {
       "model_id": "",
       "version_major": 2,
       "version_minor": 0
      },
      "text/plain": [
       "VBox(children=(Label(value='50.066 MB of 50.066 MB uploaded\\r'), FloatProgress(value=1.0, max=1.0)))"
      ]
     },
     "metadata": {},
     "output_type": "display_data"
    },
    {
     "data": {
      "text/html": [
       "<style>\n",
       "    table.wandb td:nth-child(1) { padding: 0 10px; text-align: left ; width: auto;} td:nth-child(2) {text-align: left ; width: 100%}\n",
       "    .wandb-row { display: flex; flex-direction: row; flex-wrap: wrap; justify-content: flex-start; width: 100% }\n",
       "    .wandb-col { display: flex; flex-direction: column; flex-basis: 100%; flex: 1; padding: 10px; }\n",
       "    </style>\n",
       "<div class=\"wandb-row\"><div class=\"wandb-col\"><h3>Run history:</h3><br/><table class=\"wandb\"><tr><td>epoch</td><td>▁▁▁▁▂▂▂▂▃▃▃▃▃▃▃▃▄▄▄▄▅▅▅▅▆▆▆▆▆▆▆▆▇▇▇▇████</td></tr><tr><td>train_loss</td><td>█▆▄▄▃▃▃▃▄▁▃▂▂▂▂▃▃▃▃▂▄▂▂▂▁▃▃▁▂▂▂▃▁▂▃▂▂▁▁▁</td></tr><tr><td>trainer/global_step</td><td>▁▁▁▂▂▂▂▂▂▃▃▃▃▃▃▄▄▄▄▄▅▅▅▅▅▅▆▆▆▆▆▇▇▇▇▇▇███</td></tr><tr><td>val_loss</td><td>█▅▄▃▃▂▂▁▁▁</td></tr></table><br/></div><div class=\"wandb-col\"><h3>Run summary:</h3><br/><table class=\"wandb\"><tr><td>epoch</td><td>9</td></tr><tr><td>train_loss</td><td>0.03067</td></tr><tr><td>trainer/global_step</td><td>9379</td></tr><tr><td>val_loss</td><td>0.03148</td></tr></table><br/></div></div>"
      ],
      "text/plain": [
       "<IPython.core.display.HTML object>"
      ]
     },
     "metadata": {},
     "output_type": "display_data"
    },
    {
     "data": {
      "text/html": [
       " View run <strong style=\"color:#cdcd00\">comic-firefly-37</strong> at: <a href='https://wandb.ai/strange-quarks/ae_tut/runs/yt7vti9e' target=\"_blank\">https://wandb.ai/strange-quarks/ae_tut/runs/yt7vti9e</a><br/> View job at <a href='https://wandb.ai/strange-quarks/ae_tut/jobs/QXJ0aWZhY3RDb2xsZWN0aW9uOjEzNTMyOTA1OQ==/version_details/v23' target=\"_blank\">https://wandb.ai/strange-quarks/ae_tut/jobs/QXJ0aWZhY3RDb2xsZWN0aW9uOjEzNTMyOTA1OQ==/version_details/v23</a><br/>Synced 5 W&B file(s), 1 media file(s), 10 artifact file(s) and 0 other file(s)"
      ],
      "text/plain": [
       "<IPython.core.display.HTML object>"
      ]
     },
     "metadata": {},
     "output_type": "display_data"
    },
    {
     "data": {
      "text/html": [
       "Find logs at: <code>./wandb/run-20240131_215526-yt7vti9e/logs</code>"
      ],
      "text/plain": [
       "<IPython.core.display.HTML object>"
      ]
     },
     "metadata": {},
     "output_type": "display_data"
    }
   ],
   "source": [
    "epochs = 10\n",
    "trainer = L.Trainer(max_epochs=epochs, devices=\"auto\", logger=wandb_logger)# , callbacks=RichProgressBar(leave=True))\n",
    "trainer.fit(model=autoencoder, train_dataloaders=train_dl, val_dataloaders=val_dl )\n",
    "wandb.finish()"
   ]
  },
  {
   "cell_type": "code",
   "execution_count": 12,
   "id": "cb5ed374",
   "metadata": {
    "colab": {
     "base_uri": "https://localhost:8080/",
     "height": 272
    },
    "id": "cb5ed374",
    "outputId": "41a9406b-0594-423a-add1-018e599dc5db"
   },
   "outputs": [
    {
     "name": "stdout",
     "output_type": "stream",
     "text": [
      "z =  tensor([[-0.0393,  0.0425,  0.1729]], grad_fn=<AddmmBackward0>)\n",
      "col 0: x.shape = (28, 28), min(x) = 0.0, max(x) = 1.0\n",
      "col 1: x.shape = (28, 28), min(x) = -0.09001285582780838, max(x) = 1.1249315738677979\n"
     ]
    },
    {
     "data": {
      "image/png": "[encoded data removed]",
      "text/plain": [
       "<Figure size 600x200 with 4 Axes>"
      ]
     },
     "metadata": {},
     "output_type": "display_data"
    }
   ],
   "source": [
    "@torch.no_grad()\n",
    "def test_inference(model, idx=None):\n",
    "    model.eval()\n",
    "    \"Another utility we'll use for running images through the (V)AE\"\n",
    "    if idx is None: idx = torch.randint( len(test_ds), (1,) )[0]\n",
    "    x, y = test_ds[idx]\n",
    "    if not use_conv:\n",
    "        x = x.view(x.size(0), -1)\n",
    "    x_hat = model.forward(x)\n",
    "    x_hat = x_hat[-1]\n",
    "    if not use_conv:\n",
    "        x_hat = x_hat.view(x.size(0), -1)\n",
    "    print(\"z = \",z)\n",
    "    x_hat = x_hat.view(x.size(0), 28, -1)\n",
    "    x = x.view(x.size(0), 28, -1)\n",
    "    show_xs([x,x_hat])\n",
    "\n",
    "idx = 0\n",
    "test_inference(autoencoder, idx=idx)"
   ]
  },
  {
   "cell_type": "markdown",
   "id": "85ab8d6c",
   "metadata": {
    "id": "85ab8d6c"
   },
   "source": [
    "## Now Let's Make it 'Varational'\n",
    "\n",
    "To the  the reconstruction loss from before, we will add an extra (and somewhat *competing*) goal: to try to make the distribution of latent space approximately gaussian.  \n",
    "\n",
    "Because of these two goals, the loss function will not be driven to zero, rather it will be driven to an \"equilibrium\" between these two different forces (one pulling toward better reconstruction loss, the other toward gaussian-ness.) "
   ]
  },
  {
   "cell_type": "code",
   "execution_count": 13,
   "id": "c0260e18",
   "metadata": {
    "id": "c0260e18"
   },
   "outputs": [],
   "source": [
    "# encoder now spits out mean and variance\n",
    "vae_encoder = nn.Sequential(\n",
    "                nn.Linear(28 * 28, n_hid[0]),\n",
    "                act(),\n",
    "                nn.Linear(n_hid[0], n_hid[1]),\n",
    "                act(),\n",
    "                nn.Linear(n_hid[1], latent_dim*2)) # *2 b/c mu, log_var\n",
    "\n",
    "# decoder is same as before\n",
    "decoder = nn.Sequential(\n",
    "                nn.Linear(latent_dim, n_hid[1]),\n",
    "                act(),\n",
    "                nn.Linear(n_hid[1], n_hid[0]),\n",
    "                act(),\n",
    "                nn.Linear(n_hid[0], 28 * 28),\n",
    "                #nn.Sigmoid(), # optional forcing to [0,1]\n",
    "                )"
   ]
  },
  {
   "cell_type": "code",
   "execution_count": 14,
   "id": "e85483b5",
   "metadata": {
    "id": "e85483b5"
   },
   "outputs": [],
   "source": [
    "# instead of nn.Module, we use L.LightningModule\n",
    "class VAEModel(L.LightningModule):\n",
    "    def __init__(self, encoder, decoder):\n",
    "        super().__init__()\n",
    "        self.encoder = encoder\n",
    "        self.decoder = decoder\n",
    "\n",
    "    def reparam_sample(self, mu, log_var):\n",
    "        std = torch.exp(0.5*log_var).sqrt() # why the 0.5?\n",
    "        noise = torch.randn_like(std)       # the \"noise\"\n",
    "        return mu + std * noise\n",
    "\n",
    "    def forward(self, x):\n",
    "        z = self.encoder(x)\n",
    "        i_half = z.shape[-1]//2\n",
    "        mu, log_var = z[:,:i_half],  z[:,i_half:]\n",
    "        z_hat = self.reparam_sample(mu, log_var)\n",
    "        x_hat = self.decoder(z_hat)\n",
    "        return z, mu, log_var, z_hat, x_hat\n",
    "\n",
    "    def pred_and_log(self, batch, batch_idx, log_prefix=''):\n",
    "        x, y = batch\n",
    "        x = x.view(x.size(0), -1)  # flatten for linear layer\n",
    "        z, mu, log_var, z_hat, x_hat = self.forward(x)   \n",
    "        \n",
    "        recon_loss = nn.functional.mse_loss(x_hat, x)\n",
    "        kl_loss = -0.5 * torch.mean(1 + log_var - mu.pow(2) - log_var.exp())\n",
    "        scrunch_factor = 0.034/4.6 #0.001  # larger means blurrier/blobbier; rescale to get kl & recon similar\n",
    "        rescaled_kl_loss = (kl_loss * scrunch_factor)\n",
    "        loss = recon_loss + rescaled_kl_loss\n",
    "        \n",
    "        self.log(f'{log_prefix}loss', loss, prog_bar=True)\n",
    "        self.log(f'{log_prefix}recon_loss', recon_loss)\n",
    "        self.log(f'{log_prefix}kl_loss', kl_loss)\n",
    "        self.log(F'{log_prefix}rescaled_kl_loss', rescaled_kl_loss)\n",
    "        return loss \n",
    "        \n",
    "    def training_step(self, batch, batch_idx):\n",
    "        return self.pred_and_log(batch, batch_idx, log_prefix='train/')\n",
    "\n",
    "    def validation_step(self, batch, batch_idx):\n",
    "        return self.pred_and_log(batch, batch_idx, log_prefix='val/')\n",
    "\n",
    "    def configure_optimizers(self):\n",
    "        return optim.Adam(self.parameters(), lr=5e-4)\n",
    "\n",
    "    def on_epoch_start(self): # give us a new line for each epoch\n",
    "        print('\\n')\n",
    "\n",
    "vae = VAEModel(vae_encoder, decoder)\n",
    "model = vae"
   ]
  },
  {
   "cell_type": "code",
   "execution_count": 15,
   "id": "67666d6b-7d3e-4051-8dc2-fa0646b164bf",
   "metadata": {},
   "outputs": [
    {
     "data": {
      "text/html": [
       "Tracking run with wandb version 0.16.2"
      ],
      "text/plain": [
       "<IPython.core.display.HTML object>"
      ]
     },
     "metadata": {},
     "output_type": "display_data"
    },
    {
     "data": {
      "text/html": [
       "Run data is saved locally in <code>./wandb/run-20240131_215610-4fv3mf2j</code>"
      ],
      "text/plain": [
       "<IPython.core.display.HTML object>"
      ]
     },
     "metadata": {},
     "output_type": "display_data"
    },
    {
     "data": {
      "text/html": [
       "Syncing run <strong><a href='https://wandb.ai/strange-quarks/vae_tut/runs/4fv3mf2j' target=\"_blank\">summer-dew-16</a></strong> to <a href='https://wandb.ai/strange-quarks/vae_tut' target=\"_blank\">Weights & Biases</a> (<a href='https://wandb.me/run' target=\"_blank\">docs</a>)<br/>"
      ],
      "text/plain": [
       "<IPython.core.display.HTML object>"
      ]
     },
     "metadata": {},
     "output_type": "display_data"
    },
    {
     "data": {
      "text/html": [
       " View project at <a href='https://wandb.ai/strange-quarks/vae_tut' target=\"_blank\">https://wandb.ai/strange-quarks/vae_tut</a>"
      ],
      "text/plain": [
       "<IPython.core.display.HTML object>"
      ]
     },
     "metadata": {},
     "output_type": "display_data"
    },
    {
     "data": {
      "text/html": [
       " View run at <a href='https://wandb.ai/strange-quarks/vae_tut/runs/4fv3mf2j' target=\"_blank\">https://wandb.ai/strange-quarks/vae_tut/runs/4fv3mf2j</a>"
      ],
      "text/plain": [
       "<IPython.core.display.HTML object>"
      ]
     },
     "metadata": {},
     "output_type": "display_data"
    },
    {
     "name": "stderr",
     "output_type": "stream",
     "text": [
      "\u001b[34m\u001b[1mwandb\u001b[0m: logging graph, to disable use `wandb.watch(log_graph=False)`\n"
     ]
    }
   ],
   "source": [
    "wandb.finish()\n",
    "wandb_logger = WandbLogger(log_model=\"all\", project='vae_tut')\n",
    "wandb_logger.watch(model) # this thing complains too much upon re-runs, just ignore it and keep going"
   ]
  },
  {
   "cell_type": "code",
   "execution_count": 16,
   "id": "1471e65c",
   "metadata": {
    "colab": {
     "base_uri": "https://localhost:8080/",
     "height": 659,
     "referenced_widgets": [
      "230ad0f86b3348249875a7f41a6ab815",
      "cdd43d1c23a24f8cb2189ed61e1f0a1e",
      "aa1bccad11244c3c8ee76d7c1603c470",
      "d60756abac2a48a796f50ab28b5bed82",
      "c2df367dff384285b53703c232cd6bbb",
      "7d7697bc6cd74f3aa4829eb2dc4bd8d7",
      "3032d83c92bf4d3f98117b465c7af5b6",
      "a6e332f24a57464ea678942bf1067ab6",
      "db6f372e1e684ee7a71972caccc6440b",
      "34dad8aa8e7f45c6b3ab20e802438b00",
      "3b62e8b7d19e479d80138a7907fdf830"
     ]
    },
    "id": "1471e65c",
    "outputId": "1af26c32-5b1c-4381-f16c-2ea77f3a5580"
   },
   "outputs": [
    {
     "data": {
      "text/html": [
       "<pre style=\"white-space:pre;overflow-x:auto;line-height:normal;font-family:Menlo,'DejaVu Sans Mono',consolas,'Courier New',monospace\">Epoch 8/9  <span style=\"color: #6206e0; text-decoration-color: #6206e0\">━━━</span><span style=\"color: #3a3a3a; text-decoration-color: #3a3a3a\">╺━━━━━━━━━━━━━━━━━━━━━━━━━━━━</span> <span style=\"color: #c0c0c0; text-decoration-color: #c0c0c0\">102/938</span> <span style=\"color: #8a8a8a; text-decoration-color: #8a8a8a\">0:00:00 • 0:00:07</span> <span style=\"color: #b2b2b2; text-decoration-color: #b2b2b2\">136.80it/s</span> <span style=\"color: #c0c0c0; text-decoration-color: #c0c0c0\">v_num: mf2j train/loss: 0.058     </span>\n",
       "                                                                                 <span style=\"color: #c0c0c0; text-decoration-color: #c0c0c0\">val/loss: 0.058                   </span>\n",
       "</pre>\n"
      ],
      "text/plain": [
       "Epoch 8/9  \u001b[38;2;98;6;224m━━━\u001b[0m\u001b[38;5;237m╺\u001b[0m\u001b[38;5;237m━━━━━━━━━━━━━━━━━━━━━━━━━━━━\u001b[0m \u001b[37m102/938\u001b[0m \u001b[38;5;245m0:00:00 • 0:00:07\u001b[0m \u001b[38;5;249m136.80it/s\u001b[0m \u001b[37mv_num: mf2j train/loss: 0.058     \u001b[0m\n",
       "                                                                                 \u001b[37mval/loss: 0.058                   \u001b[0m\n"
      ]
     },
     "metadata": {},
     "output_type": "display_data"
    },
    {
     "name": "stderr",
     "output_type": "stream",
     "text": [
      "IOPub message rate exceeded.\n",
      "The Jupyter server will temporarily stop sending output\n",
      "to the client in order to avoid crashing it.\n",
      "To change this limit, set the config variable\n",
      "`--ServerApp.iopub_msg_rate_limit`.\n",
      "\n",
      "Current values:\n",
      "ServerApp.iopub_msg_rate_limit=1000.0 (msgs/sec)\n",
      "ServerApp.rate_limit_window=3.0 (secs)\n",
      "\n"
     ]
    },
    {
     "data": {
      "text/html": [
       "<pre style=\"white-space:pre;overflow-x:auto;line-height:normal;font-family:Menlo,'DejaVu Sans Mono',consolas,'Courier New',monospace\">Epoch 9/9  <span style=\"color: #6206e0; text-decoration-color: #6206e0\">╸</span><span style=\"color: #3a3a3a; text-decoration-color: #3a3a3a\">━━━━━━━━━━━━━━━━━━━━━━━━━━━━━━━━</span> <span style=\"color: #c0c0c0; text-decoration-color: #c0c0c0\">23/938</span> <span style=\"color: #8a8a8a; text-decoration-color: #8a8a8a\">0:00:00 • 0:00:07</span> <span style=\"color: #b2b2b2; text-decoration-color: #b2b2b2\">137.67it/s</span> <span style=\"color: #c0c0c0; text-decoration-color: #c0c0c0\">v_num: mf2j train/loss: 0.059     </span>\n",
       "                                                                                 <span style=\"color: #c0c0c0; text-decoration-color: #c0c0c0\">val/loss: 0.058                   </span>\n",
       "</pre>\n"
      ],
      "text/plain": [
       "Epoch 9/9  \u001b[38;2;98;6;224m╸\u001b[0m\u001b[38;5;237m━━━━━━━━━━━━━━━━━━━━━━━━━━━━━━━━\u001b[0m \u001b[37m23/938\u001b[0m \u001b[38;5;245m0:00:00 • 0:00:07\u001b[0m \u001b[38;5;249m137.67it/s\u001b[0m \u001b[37mv_num: mf2j train/loss: 0.059     \u001b[0m\n",
       "                                                                                 \u001b[37mval/loss: 0.058                   \u001b[0m\n"
      ]
     },
     "metadata": {},
     "output_type": "display_data"
    },
    {
     "name": "stderr",
     "output_type": "stream",
     "text": [
      "`Trainer.fit` stopped: `max_epochs=10` reached.\n"
     ]
    },
    {
     "data": {
      "text/html": [
       "<pre style=\"white-space:pre;overflow-x:auto;line-height:normal;font-family:Menlo,'DejaVu Sans Mono',consolas,'Courier New',monospace\"></pre>\n"
      ],
      "text/plain": []
     },
     "metadata": {},
     "output_type": "display_data"
    },
    {
     "data": {
      "text/html": [
       "<pre style=\"white-space:pre;overflow-x:auto;line-height:normal;font-family:Menlo,'DejaVu Sans Mono',consolas,'Courier New',monospace\">\n",
       "</pre>\n"
      ],
      "text/plain": [
       "\n"
      ]
     },
     "metadata": {},
     "output_type": "display_data"
    },
    {
     "data": {
      "application/vnd.jupyter.widget-view+json": {
       "model_id": "",
       "version_major": 2,
       "version_minor": 0
      },
      "text/plain": [
       "VBox(children=(Label(value='50.088 MB of 50.088 MB uploaded\\r'), FloatProgress(value=1.0, max=1.0)))"
      ]
     },
     "metadata": {},
     "output_type": "display_data"
    },
    {
     "data": {
      "text/html": [
       "<style>\n",
       "    table.wandb td:nth-child(1) { padding: 0 10px; text-align: left ; width: auto;} td:nth-child(2) {text-align: left ; width: 100%}\n",
       "    .wandb-row { display: flex; flex-direction: row; flex-wrap: wrap; justify-content: flex-start; width: 100% }\n",
       "    .wandb-col { display: flex; flex-direction: column; flex-basis: 100%; flex: 1; padding: 10px; }\n",
       "    </style>\n",
       "<div class=\"wandb-row\"><div class=\"wandb-col\"><h3>Run history:</h3><br/><table class=\"wandb\"><tr><td>epoch</td><td>▁▁▁▁▂▂▂▂▃▃▃▃▃▃▃▃▄▄▄▄▅▅▅▅▆▆▆▆▆▆▆▆▇▇▇▇████</td></tr><tr><td>train/kl_loss</td><td>▁▃▄▅▅▆▅▆▆▅▆▆▆▆▆▆▆▅▆▇▇▆▇▆▆▆▇▇▇▇▇▆▇▆▇▇▇█▇▇</td></tr><tr><td>train/loss</td><td>█▇▄▆▇▆▂▆▅▃▄▄▁▇▅▇▆▃▄█▂▅▇▆▃▁▂▂▂▂▃▃▂▂▁▄▃▄▃▃</td></tr><tr><td>train/recon_loss</td><td>█▆▄▄▅▄▃▄▄▃▃▃▂▄▄▄▄▃▃▄▂▃▄▄▂▂▁▂▂▁▂▂▂▂▁▂▂▂▂▂</td></tr><tr><td>train/rescaled_kl_loss</td><td>▁▃▄▅▅▆▅▆▆▅▆▆▆▆▆▆▆▅▆▇▇▆▇▆▆▆▇▇▇▇▇▆▇▆▇▇▇█▇▇</td></tr><tr><td>trainer/global_step</td><td>▁▁▁▂▂▂▂▂▂▃▃▃▃▃▃▄▄▄▄▄▅▅▅▅▅▅▆▆▆▆▆▇▇▇▇▇▇███</td></tr><tr><td>val/kl_loss</td><td>▁▃▄▇▆▆█▇██</td></tr><tr><td>val/loss</td><td>█▆▄▄▃▃▃▁▂▁</td></tr><tr><td>val/recon_loss</td><td>█▆▅▃▃▃▂▂▂▁</td></tr><tr><td>val/rescaled_kl_loss</td><td>▁▃▄▇▆▆█▇██</td></tr></table><br/></div><div class=\"wandb-col\"><h3>Run summary:</h3><br/><table class=\"wandb\"><tr><td>epoch</td><td>9</td></tr><tr><td>train/kl_loss</td><td>1.37215</td></tr><tr><td>train/loss</td><td>0.05953</td></tr><tr><td>train/recon_loss</td><td>0.04939</td></tr><tr><td>train/rescaled_kl_loss</td><td>0.01014</td></tr><tr><td>trainer/global_step</td><td>9379</td></tr><tr><td>val/kl_loss</td><td>1.42195</td></tr><tr><td>val/loss</td><td>0.05744</td></tr><tr><td>val/recon_loss</td><td>0.04693</td></tr><tr><td>val/rescaled_kl_loss</td><td>0.01051</td></tr></table><br/></div></div>"
      ],
      "text/plain": [
       "<IPython.core.display.HTML object>"
      ]
     },
     "metadata": {},
     "output_type": "display_data"
    },
    {
     "data": {
      "text/html": [
       " View run <strong style=\"color:#cdcd00\">summer-dew-16</strong> at: <a href='https://wandb.ai/strange-quarks/vae_tut/runs/4fv3mf2j' target=\"_blank\">https://wandb.ai/strange-quarks/vae_tut/runs/4fv3mf2j</a><br/> View job at <a href='https://wandb.ai/strange-quarks/vae_tut/jobs/QXJ0aWZhY3RDb2xsZWN0aW9uOjEzNTgzNDEzMA==/version_details/v1' target=\"_blank\">https://wandb.ai/strange-quarks/vae_tut/jobs/QXJ0aWZhY3RDb2xsZWN0aW9uOjEzNTgzNDEzMA==/version_details/v1</a><br/>Synced 5 W&B file(s), 1 media file(s), 10 artifact file(s) and 0 other file(s)"
      ],
      "text/plain": [
       "<IPython.core.display.HTML object>"
      ]
     },
     "metadata": {},
     "output_type": "display_data"
    },
    {
     "data": {
      "text/html": [
       "Find logs at: <code>./wandb/run-20240131_215610-4fv3mf2j/logs</code>"
      ],
      "text/plain": [
       "<IPython.core.display.HTML object>"
      ]
     },
     "metadata": {},
     "output_type": "display_data"
    }
   ],
   "source": [
    "epochs = 10\n",
    "trainer = L.Trainer(max_epochs=epochs, devices=\"auto\", logger=wandb_logger, callbacks=RichProgressBar())# leave=True))\n",
    "trainer.fit(model=vae, train_dataloaders=train_dl, val_dataloaders=val_dl)\n",
    "wandb.finish()"
   ]
  },
  {
   "cell_type": "markdown",
   "id": "qkKkeA6pk4aH",
   "metadata": {
    "id": "qkKkeA6pk4aH"
   },
   "source": [
    "Doesn't seem like the loss is doing down as we train. Hmmm. Let's try some inference:"
   ]
  },
  {
   "cell_type": "code",
   "execution_count": 17,
   "id": "223d22ea",
   "metadata": {
    "colab": {
     "base_uri": "https://localhost:8080/",
     "height": 527
    },
    "id": "223d22ea",
    "outputId": "80cc1f10-4def-4b57-9f7e-1124329250f8"
   },
   "outputs": [
    {
     "name": "stdout",
     "output_type": "stream",
     "text": [
      "z =  tensor([[-0.0393,  0.0425,  0.1729]], grad_fn=<AddmmBackward0>)\n",
      "col 0: x.shape = (28, 28), min(x) = 0.0, max(x) = 1.0\n",
      "col 1: x.shape = (28, 28), min(x) = -0.04058394953608513, max(x) = 0.8977089524269104\n"
     ]
    },
    {
     "data": {
      "image/png": "[encoded data removed]",
      "text/plain": [
       "<Figure size 600x200 with 4 Axes>"
      ]
     },
     "metadata": {},
     "output_type": "display_data"
    },
    {
     "name": "stdout",
     "output_type": "stream",
     "text": [
      "z =  tensor([[-0.0393,  0.0425,  0.1729]], grad_fn=<AddmmBackward0>)\n",
      "col 0: x.shape = (28, 28), min(x) = 0.0, max(x) = 1.0\n",
      "col 1: x.shape = (28, 28), min(x) = -0.017528358846902847, max(x) = 0.7236719727516174\n"
     ]
    },
    {
     "data": {
      "image/png": "[encoded data removed]",
      "text/plain": [
       "<Figure size 600x200 with 4 Axes>"
      ]
     },
     "metadata": {},
     "output_type": "display_data"
    }
   ],
   "source": [
    "test_inference(vae, idx=0)\n",
    "test_inference(vae, idx=1)"
   ]
  },
  {
   "cell_type": "markdown",
   "id": "0afb52fc",
   "metadata": {
    "id": "0afb52fc"
   },
   "source": [
    "Looks similar to the regular autoencoder, right?\n",
    "\n",
    "Now let's try perturbing our input a bit"
   ]
  },
  {
   "cell_type": "markdown",
   "id": "eb243c37",
   "metadata": {
    "id": "eb243c37"
   },
   "source": [
    "## Comparing the AE and VAE"
   ]
  },
  {
   "cell_type": "code",
   "execution_count": 18,
   "id": "0efea038",
   "metadata": {
    "colab": {
     "base_uri": "https://localhost:8080/",
     "height": 458
    },
    "id": "0efea038",
    "outputId": "0695c2de-3a40-452c-996f-a8f463adaf8d"
   },
   "outputs": [
    {
     "name": "stdout",
     "output_type": "stream",
     "text": [
      "Perturbing the regular autoencoder with strength = 20.0:\n"
     ]
    },
    {
     "data": {
      "image/png": "[encoded data removed]",
      "text/plain": [
       "<Figure size 600x200 with 4 Axes>"
      ]
     },
     "metadata": {},
     "output_type": "display_data"
    },
    {
     "name": "stdout",
     "output_type": "stream",
     "text": [
      "Perturbing the VAE with strength = 20.0:\n"
     ]
    },
    {
     "data": {
      "image/png": "[encoded data removed]",
      "text/plain": [
       "<Figure size 600x200 with 4 Axes>"
      ]
     },
     "metadata": {},
     "output_type": "display_data"
    }
   ],
   "source": [
    "@torch.no_grad()\n",
    "def infer_perturb(model, idx=None, strength=1.0):\n",
    "    \"Another utility we'll use for running images through the (V)AE\"\n",
    "    if idx is None: idx = torch.randint( len(test_ds), (1,) )[0]\n",
    "    x, y = test_ds[idx]\n",
    "    z = model.encoder(x.view(x.size(0), -1))\n",
    "    if z.shape[-1] > latent_dim: z = z[:,:latent_dim] # if VAE, just use the mean values\n",
    "    z_hat = z + strength*torch.randn_like(z)\n",
    "    x_hat = model.decoder(z_hat)\n",
    "    x_hat = x_hat.view(x.size(0), 28, -1)\n",
    "    show_xs([x,x_hat], show_stats=False)\n",
    "\n",
    "idx=0\n",
    "strength = 20.0\n",
    "print(f\"Perturbing the regular autoencoder with strength = {strength}:\")\n",
    "infer_perturb(autoencoder, idx=idx, strength=strength)\n",
    "print(f\"Perturbing the VAE with strength = {strength}:\")\n",
    "infer_perturb(vae, idx=idx, strength=1.0)"
   ]
  },
  {
   "cell_type": "markdown",
   "id": "f4a91448",
   "metadata": {
    "id": "f4a91448"
   },
   "source": [
    "Depending on the random values you get, perturbations may cause the regular AE output to look like not-a-number, whereas the VAE output is probably more stable.\n",
    "\n",
    "Note that without any final rescaling of outputs (e.g. via `nn.Sigmoid`), typically the output of the regular AE extends wayyy outside the [0,1] intensity bounds whereas the VAE's outputs are still properly bounded.\n"
   ]
  },
  {
   "cell_type": "markdown",
   "id": "AEfdR5uEmoFC",
   "metadata": {
    "id": "AEfdR5uEmoFC"
   },
   "source": [
    "## Further Investigations: Add interpolation, 3D viz, more."
   ]
  },
  {
   "cell_type": "markdown",
   "id": "B-xvjul9Y-nd",
   "metadata": {
    "id": "B-xvjul9Y-nd"
   },
   "source": [
    "Make a grid of points in latent space and see what they decode to."
   ]
  },
  {
   "cell_type": "code",
   "execution_count": 19,
   "id": "bdbe394e-0248-4fac-ad37-d106ec6a5bce",
   "metadata": {},
   "outputs": [
    {
     "data": {
      "text/plain": [
       "'cuda'"
      ]
     },
     "execution_count": 19,
     "metadata": {},
     "output_type": "execute_result"
    }
   ],
   "source": [
    "device = 'cuda' if torch.cuda.is_available() else 'cpu'\n",
    "device"
   ]
  },
  {
   "cell_type": "code",
   "execution_count": 24,
   "id": "04045d21-b3a1-456d-91f8-5ae1b1469c13",
   "metadata": {},
   "outputs": [
    {
     "name": "stdout",
     "output_type": "stream",
     "text": [
      "torch.Size([400, 1, 28, 28])\n",
      "torch.Size([3, 602, 602])\n"
     ]
    }
   ],
   "source": [
    "images = []\n",
    "zcoord = 0.0\n",
    "with torch.no_grad():\n",
    "    for xcoord in torch.arange(-1,1,0.1):\n",
    "        for ycood in torch.arange(-1,1,0.1):\n",
    "            z_hat = torch.tensor([xcoord,ycoord,zcoord])#.to(device)\n",
    "            #log_var = torch.zeros_like(mu).to(device)\n",
    "            x_hat = decoder(z_hat)\n",
    "            x_hat = x_hat.view(x.size(0), 28, -1)\n",
    "            images.append(x_hat)\n",
    "\n",
    "    im_t = torch.vstack(images).unsqueeze(1)\n",
    "    print(im_t.shape) \n",
    "\n",
    "grid = torchvision.utils.make_grid(im_t, 20)\n",
    "print(grid.shape)"
   ]
  },
  {
   "cell_type": "code",
   "execution_count": 25,
   "id": "15ef1def-bec6-40bf-93d7-2c6e7d33c26a",
   "metadata": {},
   "outputs": [
    {
     "name": "stderr",
     "output_type": "stream",
     "text": [
      "Clipping input data to the valid range for imshow with RGB data ([0..1] for floats or [0..255] for integers).\n"
     ]
    },
    {
     "data": {
      "text/plain": [
       "<matplotlib.image.AxesImage at 0x7fc2c07b0b50>"
      ]
     },
     "execution_count": 25,
     "metadata": {},
     "output_type": "execute_result"
    },
    {
     "data": {
      "image/png": "[encoded data removed]",
      "text/plain": [
       "<Figure size 640x480 with 1 Axes>"
      ]
     },
     "metadata": {},
     "output_type": "display_data"
    }
   ],
   "source": [
    "grid = rearrange(grid, 'c h w -> h w c') \n",
    "plt.imshow(grid.numpy())"
   ]
  },
  {
   "cell_type": "markdown",
   "id": "UX5GmM5BYzm3",
   "metadata": {
    "id": "UX5GmM5BYzm3"
   },
   "source": [
    "\n",
    "## Part 2: Adding Controls (Conditional Generation)\n"
   ]
  },
  {
   "cell_type": "markdown",
   "id": "sfUC4HvjYiBr",
   "metadata": {
    "id": "sfUC4HvjYiBr"
   },
   "source": [
    "\"Conditioning\" means attaching controls to the model that, via training, it can learn to associate with specific kinds outputs. For example, we could do \"class conditioning\" where we tell it what class --- in our case, which digit -- we want the output to be.\n",
    "\n",
    "The conditioning may take the form of adding or multiplying numbers to the activations, concatenating some controls,...lots of things. One general class of conditioning methods is often referred to as [FiLM layers](https://distill.pub/2018/feature-wise-transformations/), where FiLM stands for **F**eature-w**i**se **L**inear **M**odulation. Essentially it means we will apply our conditioning by both addition and multiplication.\n",
    "\n",
    "How and where we apply the conditioning is up to us: we could apply it to the encoder, the latent space, and/or the decoder. We could include the conditioning signal in only one spot, or in between all layers. ...It kind of depends on what we want to do.  \n",
    "\n",
    "Often for \"Generative AI\" systems, we leave the Encoder side alone, and apply the conditioning to the latent variable and the Decoder side. (Note also that any layer activation can be thought of a \"latent variable\", and some models don't necessarily restrict their attention to the \"center of the hourglass\" when it comes to talking about latents.)\n",
    "\n",
    "> TODO: Draw a diagram!\n",
    "\n",
    "Let's try a few different conditioning methods to see what we like best.\n"
   ]
  },
  {
   "cell_type": "code",
   "execution_count": 19,
   "id": "c75087ea",
   "metadata": {
    "id": "c75087ea"
   },
   "outputs": [],
   "source": [
    "# Here's one way to make a FiLM layer\n",
    "class FiLM(nn.Module):\n",
    "    def __init__(self, x_dim, cond_dim):\n",
    "        super().__init__()\n",
    "        self.gamma_gen = nn.Linear(cond_dim, x_dim)\n",
    "        self.beta_gen  = nn.Linear(cond_dim, x_dim)\n",
    "\n",
    "    def forward(self, x, cond):\n",
    "        gamma = self.gamma_gen(cond)\n",
    "        beta  = self.beta_gen(cond)\n",
    "        return x * gamma + beta"
   ]
  },
  {
   "cell_type": "markdown",
   "id": "s0UXdkLFsOMb",
   "metadata": {
    "id": "s0UXdkLFsOMb"
   },
   "source": [
    "We could do a conditional \"regular autoencoder\" but it would be kind of boring because whichever digit you ask for, say a 7, it'll just produce the exact same 7 every time.  We want some *variation* to the outputs, so let's make a conditional VAE"
   ]
  },
  {
   "cell_type": "markdown",
   "id": "Xe2byD2M5Fvt",
   "metadata": {
    "id": "Xe2byD2M5Fvt"
   },
   "source": [
    "**\"conditioning strength\":**\n",
    "Maybe this is just me, but I like the idea of having a \"conditioning strength\" parameter, so that we can tell the model whether we want no conditioning or full conditioning, or somewhere in between.\n",
    "\n",
    "I haven't seen this done elsewhere...but I just like the idea, so here goes!"
   ]
  },
  {
   "cell_type": "code",
   "execution_count": 25,
   "id": "15z2dJvyhioL",
   "metadata": {
    "id": "15z2dJvyhioL"
   },
   "outputs": [],
   "source": [
    "# Conditional VAE\n",
    "\n",
    "latent_dim = 3  # give it a bit more space to operate in\n",
    "\n",
    "n_hid = [256, 64]  # could imagine adding more layers\n",
    "\n",
    "act = nn.GELU # this is popular in many models\n",
    "\n",
    "# should we condition the encoder too?\n",
    "# doing so may help give structure to the latent space\n",
    "vae_encoder = nn.Sequential(    # same as before\n",
    "                nn.Linear(28 * 28, n_hid[0]),\n",
    "                act(),\n",
    "                nn.Linear(n_hid[0], n_hid[1]),\n",
    "                act(),\n",
    "                nn.Linear(n_hid[1], 2*latent_dim))\n",
    "\n",
    "cond_dim = 10  # we'll use one-hot encoding for class conditioning; 10 classes\n",
    "\n",
    "\n",
    "class EncoderCond(nn.Module):\n",
    "    def __init__(self, latent_dim, n_hid, cond_dim):\n",
    "        super().__init__()\n",
    "        self.l1 = nn.Linear(28*28, n_hid[0])\n",
    "        self.f1 = FiLM(n_hid[0], cond_dim)\n",
    "        self.l2 = nn.Linear(n_hid[0], n_hid[1])\n",
    "        self.f2 = FiLM(n_hid[1], cond_dim)\n",
    "        self.l3 = nn.Linear(n_hid[1], 2*latent_dim)\n",
    "        self.act = act()\n",
    "    def forward(self, x, cond, debug=False):\n",
    "        x = self.act( self.l1(x) )\n",
    "        x = self.f1(x,cond)\n",
    "        x = self.act( self.l2(x) )\n",
    "        x = self.f2(x, cond)\n",
    "        x = self.l3(x)\n",
    "        if debug: print(\"leaving Encoder, x.shape =\",x.shape)\n",
    "        return x\n",
    "\n",
    "# Let's try sticking a FiLM before each Linear layer in the Decoder.\n",
    "# Oh, for the decoder we can't just use nn.Sequential anymore...\n",
    "class DecoderCond(nn.Module):\n",
    "    def __init__(self, latent_dim, n_hid, cond_dim):\n",
    "        super().__init__()\n",
    "        self.f1 = FiLM(latent_dim, cond_dim)\n",
    "        self.l1 = nn.Linear(latent_dim, n_hid[1])\n",
    "        self.f2 = FiLM(n_hid[1], cond_dim)\n",
    "        self.l2 = nn.Linear(n_hid[1], n_hid[0])\n",
    "        self.f3 = FiLM(n_hid[0], cond_dim)\n",
    "        self.l3 = nn.Linear(n_hid[0], 28 * 28)\n",
    "        self.act = act()\n",
    "        # could add optional sigmoid here\n",
    "\n",
    "    def forward(self, x, cond, debug=False):\n",
    "        if debug: print(\"Debug: 1 x.shape =\",x.shape)\n",
    "        x = self.f1(x, cond)\n",
    "        x = self.act( self.l1(x) )\n",
    "        x = self.f2(x, cond)\n",
    "        x = self.act( self.l2( x ) )\n",
    "        x = self.f3(x, cond)\n",
    "        x = self.l3( x )\n",
    "        return x\n",
    "vae_encoder_cond = EncoderCond(latent_dim, n_hid, cond_dim)\n",
    "vae_decoder_cond = DecoderCond(latent_dim, n_hid, cond_dim)\n"
   ]
  },
  {
   "cell_type": "code",
   "execution_count": 26,
   "id": "HXuAqVFah0eQ",
   "metadata": {
    "id": "HXuAqVFah0eQ"
   },
   "outputs": [],
   "source": [
    "# instead of nn.Module, we use L.LightningModule\n",
    "class CondVAEModel(L.LightningModule):\n",
    "    def __init__(self, encoder, decoder):\n",
    "        super().__init__()\n",
    "        self.encoder = vae_encoder_cond\n",
    "        self.decoder = vae_decoder_cond\n",
    "        self.ema_loss = 0.06\n",
    "\n",
    "    def reparam_sample(self, mu, log_var):\n",
    "        std = torch.exp(0.5*log_var).sqrt() # why the 0.5?\n",
    "        noise = torch.randn_like(std)       # the \"noise\"\n",
    "        return mu + std * noise\n",
    "\n",
    "    def forward(self, x, cond):\n",
    "        z = self.encoder(x, cond)\n",
    "        i_half = z.shape[-1]//2\n",
    "        mu, log_var = z[:,:i_half],  z[:,i_half:]\n",
    "        z_hat = self.reparam_sample(mu, log_var)\n",
    "        x_hat = self.decoder(z_hat, cond)\n",
    "        return z, mu, log_var, z_hat, x_hat\n",
    "\n",
    "    def gen(self, y, n_gen=1):\n",
    "        mu = 4*torch.randn((n_gen, latent_dim))\n",
    "        log_var = 2*torch.randn((n_gen, latent_dim))\n",
    "        z_hat = self.reparam_sample(mu, log_var)\n",
    "        cond = F.one_hot(torch.tensor(y), num_classes=10).float()\n",
    "        x_hat = self.decoder(z_hat, cond)\n",
    "        return x_hat\n",
    "\n",
    "    def training_step(self, batch, batch_idx):\n",
    "        x, y = batch\n",
    "        x = x.view(x.size(0), -1)  # flatten for linear layer\n",
    "        cond = F.one_hot(y, num_classes=10).float().to(x.device) # pass in the desired output class as cond\n",
    "\n",
    "        if torch.rand((1)) < 0.2: # sometimes, just regular vae\n",
    "            cond_strength, x_targ, cond_targ = 0.0, x, cond  # just run it as an ordinary autoencoder, no-op conditioning\n",
    "        else:\n",
    "            cond_strength = torch.rand((1)).to(x.device)\n",
    "            # draw x2, y2 values from elsewhere in the batch\n",
    "            rand_inds = torch.randperm(x.size()[0])\n",
    "            x2, y2 = x[rand_inds], y[rand_inds]\n",
    "            x2 = x2.view(x.size(0), -1)\n",
    "            cond2 = F.one_hot(y2, num_classes=10).float().to(x.device)\n",
    "            # target is between x and x2, determined by cond_strength\n",
    "            x_targ    = torch.lerp(x,    x2,    cond_strength)\n",
    "            cond_targ = torch.lerp(cond, cond2, cond_strength)\n",
    "\n",
    "        z, mu, log_var, z_hat, x_hat = self.forward(x, cond_targ)\n",
    "\n",
    "        recon_loss = nn.functional.mse_loss(x_hat, x_targ)\n",
    "        scrunch_factor = 0.1\n",
    "        kl_loss = -0.5 * torch.mean(1 + log_var - mu.pow(2) - log_var.exp())\n",
    "        loss = recon_loss + (kl_loss * scrunch_factor)\n",
    "        with torch.no_grad():\n",
    "            self.ema_loss = 0.99*self.ema_loss + 0.01*loss.detach().item()\n",
    "            self.log('ema_loss', self.ema_loss, prog_bar=True)\n",
    "        return loss\n",
    "\n",
    "    def configure_optimizers(self):\n",
    "        return optim.Adam(self.parameters(), lr=1e-3)"
   ]
  },
  {
   "cell_type": "code",
   "execution_count": 27,
   "id": "1fMwrxw2ixtk",
   "metadata": {
    "colab": {
     "base_uri": "https://localhost:8080/",
     "height": 604,
     "referenced_widgets": [
      "7353d84fc8d7402ab196a6f51d004663",
      "58a0ad4b7f2740089b6841b91b606e8d",
      "be64100ec55e401f9dd04148ab54c8a0",
      "9e21d6af7fa14ddaae5f0a447650ee80",
      "3c9e48fb64244d7eb4c9d1ab5ccf52f9",
      "55856d711f6b484f8957784d760b00c5",
      "499c18b435a946159cd4f8048dc2374d",
      "5b1363e9d65c48d29cb0ec5b4c237c6f",
      "63cbe90930b340b680736cc44898bc7d",
      "4bb67f51ad7a4642a5c7ae5ec3a661d1",
      "c06f4f71e200416a85545c424e432de4"
     ]
    },
    "id": "1fMwrxw2ixtk",
    "outputId": "a533626d-4530-424b-8ba4-b76e935fa5b5"
   },
   "outputs": [
    {
     "name": "stderr",
     "output_type": "stream",
     "text": [
      "Trainer will use only 1 of 4 GPUs because it is running inside an interactive / notebook environment. You may try to set `Trainer(devices=4)` but please note that multi-GPU inside interactive / notebook environments is considered experimental and unstable. Your mileage may vary.\n",
      "GPU available: True (cuda), used: True\n",
      "TPU available: False, using: 0 TPU cores\n",
      "IPU available: False, using: 0 IPUs\n",
      "HPU available: False, using: 0 HPUs\n",
      "LOCAL_RANK: 0 - CUDA_VISIBLE_DEVICES: [0,1,2,3]\n",
      "\n",
      "  | Name    | Type        | Params\n",
      "----------------------------------------\n",
      "0 | encoder | EncoderCond | 224 K \n",
      "1 | decoder | DecoderCond | 225 K \n",
      "----------------------------------------\n",
      "450 K     Trainable params\n",
      "0         Non-trainable params\n",
      "450 K     Total params\n",
      "1.801     Total estimated model params size (MB)\n"
     ]
    },
    {
     "data": {
      "application/vnd.jupyter.widget-view+json": {
       "model_id": "f155dd8b84a7498f99d8f2893bb09dce",
       "version_major": 2,
       "version_minor": 0
      },
      "text/plain": [
       "Training: |          | 0/? [00:00<?, ?it/s]"
      ]
     },
     "metadata": {},
     "output_type": "display_data"
    },
    {
     "name": "stderr",
     "output_type": "stream",
     "text": [
      "`Trainer.fit` stopped: `max_epochs=10` reached.\n"
     ]
    }
   ],
   "source": [
    "cond_vae = CondVAEModel(encoder, decoder)\n",
    "\n",
    "epochs = 10\n",
    "trainer = L.Trainer(max_epochs=epochs, devices=\"auto\")\n",
    "trainer.fit(model=cond_vae, train_dataloaders=train_dl)"
   ]
  },
  {
   "cell_type": "markdown",
   "id": "FkLUKD0ie5YL",
   "metadata": {
    "id": "FkLUKD0ie5YL"
   },
   "source": [
    "Let's take a look at inference:"
   ]
  },
  {
   "cell_type": "code",
   "execution_count": 28,
   "id": "eh6UW441i6kU",
   "metadata": {
    "colab": {
     "base_uri": "https://localhost:8080/",
     "height": 266
    },
    "id": "eh6UW441i6kU",
    "outputId": "7f8cbdd7-a960-42fa-fc1b-4f8c1bc07871"
   },
   "outputs": [
    {
     "name": "stdout",
     "output_type": "stream",
     "text": [
      "       Source,                Destination,              Expected,                Output\n",
      "y_targ =  5\n",
      "cond_targ = tensor([0., 0., 0., 0., 0., 1., 0., 0., 0., 0.])\n",
      "z =  tensor([[ 0.0472,  0.0122, -0.0535]], grad_fn=<AddmmBackward0>)\n"
     ]
    },
    {
     "data": {
      "image/png": "[encoded data removed]",
      "text/plain": [
       "<Figure size 1200x200 with 8 Axes>"
      ]
     },
     "metadata": {},
     "output_type": "display_data"
    }
   ],
   "source": [
    "@torch.no_grad()\n",
    "def test_cond_inference(model, cond_strength=1.0, idx=None):\n",
    "    \"Try to map from one digit to another digit\"\n",
    "    if idx is None: idx = torch.randint( len(test_ds), (1,) )[0]\n",
    "    x, y = test_ds[idx]\n",
    "    x2, y2 = test_ds[idx+1]\n",
    "    x_targ = torch.lerp(x, x2, cond_strength) # picture of what we might expect\n",
    "    y_targ = y2\n",
    "    print(\"y_targ = \",y_targ)\n",
    "    cond = F.one_hot(torch.tensor(y), num_classes=10).float()  # but now we go all the way\n",
    "    cond2 = F.one_hot(torch.tensor(y2), num_classes=10).float()\n",
    "    cond_targ = torch.lerp( cond, cond2, cond_strength)\n",
    "    print(\"cond_targ =\",cond_targ)\n",
    "    x_hat = model.forward(x.view(x.size(0), -1), cond_targ)[-1]\n",
    "    print(\"z = \",z)\n",
    "    x_hat = x_hat.view(x.size(0), 28, -1)\n",
    "    show_xs([x,x2,x_targ,x_hat], show_stats=False)\n",
    "\n",
    "\n",
    "idx = torch.randint( len(test_ds)-1, (1,))[0]\n",
    "print(\"       Source,                Destination,              Expected,                Output\")\n",
    "test_cond_inference(cond_vae, cond_strength=1.0, idx=idx )\n"
   ]
  },
  {
   "cell_type": "code",
   "execution_count": 29,
   "id": "10gvWrhTEkwf",
   "metadata": {
    "colab": {
     "base_uri": "https://localhost:8080/",
     "height": 669
    },
    "id": "10gvWrhTEkwf",
    "outputId": "b61f0fbd-982b-4bf2-cbb8-d7f3038d6983"
   },
   "outputs": [
    {
     "name": "stdout",
     "output_type": "stream",
     "text": [
      "x.shape = (28, 28), min(x) = -0.023973099887371063, max(x) = 0.7041764855384827\n"
     ]
    },
    {
     "data": {
      "image/png": "[encoded data removed]",
      "text/plain": [
       "<Figure size 300x200 with 2 Axes>"
      ]
     },
     "metadata": {},
     "output_type": "display_data"
    },
    {
     "name": "stdout",
     "output_type": "stream",
     "text": [
      "x.shape = (28, 28), min(x) = -0.023981712758541107, max(x) = 0.7041539549827576\n"
     ]
    },
    {
     "data": {
      "image/png": "[encoded data removed]",
      "text/plain": [
       "<Figure size 300x200 with 2 Axes>"
      ]
     },
     "metadata": {},
     "output_type": "display_data"
    },
    {
     "name": "stdout",
     "output_type": "stream",
     "text": [
      "x.shape = (28, 28), min(x) = -0.02408573031425476, max(x) = 0.7043769359588623\n"
     ]
    },
    {
     "data": {
      "image/png": "[encoded data removed]",
      "text/plain": [
       "<Figure size 300x200 with 2 Axes>"
      ]
     },
     "metadata": {},
     "output_type": "display_data"
    }
   ],
   "source": [
    "@torch.no_grad()\n",
    "def test_cond_gen(model, y_targ, idx=None):\n",
    "    \"Another utility we'll use for running images through the (V)AE\"\n",
    "    if idx is None: idx = torch.randint( len(test_ds), (1,) )[0]\n",
    "    x_hat = model.gen(y_targ)\n",
    "    x_hat = x_hat.view(x.size(0), 28, -1)\n",
    "    show_xs([x_hat])\n",
    "\n",
    "y_targ=5\n",
    "test_cond_gen(cond_vae, y_targ, idx=idx)\n",
    "test_cond_gen(cond_vae, y_targ, idx=idx)\n",
    "test_cond_gen(cond_vae, y_targ, idx=idx)"
   ]
  },
  {
   "cell_type": "markdown",
   "id": "DaM0JM6GoklN",
   "metadata": {
    "id": "DaM0JM6GoklN"
   },
   "source": [
    "hmmm... not a lot of variety"
   ]
  },
  {
   "cell_type": "markdown",
   "id": "93G2PeF_bP4E",
   "metadata": {
    "id": "93G2PeF_bP4E"
   },
   "source": [
    "## Going Further: VQ-VAE"
   ]
  },
  {
   "cell_type": "markdown",
   "id": "qY4htrfTbUq4",
   "metadata": {
    "id": "qY4htrfTbUq4"
   },
   "source": [
    "\"Vector Quantization\""
   ]
  },
  {
   "cell_type": "code",
   "execution_count": null,
   "id": "pxh75Kcx3dlR",
   "metadata": {
    "id": "pxh75Kcx3dlR"
   },
   "outputs": [],
   "source": []
  }
 ],
 "metadata": {
  "accelerator": "GPU",
  "colab": {
   "gpuType": "T4",
   "provenance": []
  },
  "kernelspec": {
   "display_name": "Python 3 (ipykernel)",
   "language": "python",
   "name": "python3"
  },
  "language_info": {
   "codemirror_mode": {
    "name": "ipython",
    "version": 3
   },
   "file_extension": ".py",
   "mimetype": "text/x-python",
   "name": "python",
   "nbconvert_exporter": "python",
   "pygments_lexer": "ipython3",
   "version": "3.9.18"
  },
  "widgets": {
   "application/vnd.jupyter.widget-state+json": {
    "00788b9d1473467f9233f1f67f4f67fa": {
     "model_module": "@jupyter-widgets/controls",
     "model_module_version": "1.5.0",
     "model_name": "ProgressStyleModel",
     "state": {
      "_model_module": "@jupyter-widgets/controls",
      "_model_module_version": "1.5.0",
      "_model_name": "ProgressStyleModel",
      "_view_count": null,
      "_view_module": "@jupyter-widgets/base",
      "_view_module_version": "1.2.0",
      "_view_name": "StyleView",
      "bar_color": null,
      "description_width": ""
     }
    },
    "230ad0f86b3348249875a7f41a6ab815": {
     "model_module": "@jupyter-widgets/controls",
     "model_module_version": "1.5.0",
     "model_name": "HBoxModel",
     "state": {
      "_dom_classes": [],
      "_model_module": "@jupyter-widgets/controls",
      "_model_module_version": "1.5.0",
      "_model_name": "HBoxModel",
      "_view_count": null,
      "_view_module": "@jupyter-widgets/controls",
      "_view_module_version": "1.5.0",
      "_view_name": "HBoxView",
      "box_style": "",
      "children": [
       "IPY_MODEL_cdd43d1c23a24f8cb2189ed61e1f0a1e",
       "IPY_MODEL_aa1bccad11244c3c8ee76d7c1603c470",
       "IPY_MODEL_d60756abac2a48a796f50ab28b5bed82"
      ],
      "layout": "IPY_MODEL_c2df367dff384285b53703c232cd6bbb"
     }
    },
    "2bfcc500bd64478990d852309f1585c1": {
     "model_module": "@jupyter-widgets/controls",
     "model_module_version": "1.5.0",
     "model_name": "HTMLModel",
     "state": {
      "_dom_classes": [],
      "_model_module": "@jupyter-widgets/controls",
      "_model_module_version": "1.5.0",
      "_model_name": "HTMLModel",
      "_view_count": null,
      "_view_module": "@jupyter-widgets/controls",
      "_view_module_version": "1.5.0",
      "_view_name": "HTMLView",
      "description": "",
      "description_tooltip": null,
      "layout": "IPY_MODEL_7268add124f34252bb9bfaaf404a66f4",
      "placeholder": "​",
      "style": "IPY_MODEL_79ee3d23220f4f1b926e9d48cf1c874a",
      "value": " 938/938 [00:12&lt;00:00, 77.84it/s, v_num=38, loss=0.0377]"
     }
    },
    "3032d83c92bf4d3f98117b465c7af5b6": {
     "model_module": "@jupyter-widgets/controls",
     "model_module_version": "1.5.0",
     "model_name": "DescriptionStyleModel",
     "state": {
      "_model_module": "@jupyter-widgets/controls",
      "_model_module_version": "1.5.0",
      "_model_name": "DescriptionStyleModel",
      "_view_count": null,
      "_view_module": "@jupyter-widgets/base",
      "_view_module_version": "1.2.0",
      "_view_name": "StyleView",
      "description_width": ""
     }
    },
    "34dad8aa8e7f45c6b3ab20e802438b00": {
     "model_module": "@jupyter-widgets/base",
     "model_module_version": "1.2.0",
     "model_name": "LayoutModel",
     "state": {
      "_model_module": "@jupyter-widgets/base",
      "_model_module_version": "1.2.0",
      "_model_name": "LayoutModel",
      "_view_count": null,
      "_view_module": "@jupyter-widgets/base",
      "_view_module_version": "1.2.0",
      "_view_name": "LayoutView",
      "align_content": null,
      "align_items": null,
      "align_self": null,
      "border": null,
      "bottom": null,
      "display": null,
      "flex": null,
      "flex_flow": null,
      "grid_area": null,
      "grid_auto_columns": null,
      "grid_auto_flow": null,
      "grid_auto_rows": null,
      "grid_column": null,
      "grid_gap": null,
      "grid_row": null,
      "grid_template_areas": null,
      "grid_template_columns": null,
      "grid_template_rows": null,
      "height": null,
      "justify_content": null,
      "justify_items": null,
      "left": null,
      "margin": null,
      "max_height": null,
      "max_width": null,
      "min_height": null,
      "min_width": null,
      "object_fit": null,
      "object_position": null,
      "order": null,
      "overflow": null,
      "overflow_x": null,
      "overflow_y": null,
      "padding": null,
      "right": null,
      "top": null,
      "visibility": null,
      "width": null
     }
    },
    "3b62e8b7d19e479d80138a7907fdf830": {
     "model_module": "@jupyter-widgets/controls",
     "model_module_version": "1.5.0",
     "model_name": "DescriptionStyleModel",
     "state": {
      "_model_module": "@jupyter-widgets/controls",
      "_model_module_version": "1.5.0",
      "_model_name": "DescriptionStyleModel",
      "_view_count": null,
      "_view_module": "@jupyter-widgets/base",
      "_view_module_version": "1.2.0",
      "_view_name": "StyleView",
      "description_width": ""
     }
    },
    "3c9e48fb64244d7eb4c9d1ab5ccf52f9": {
     "model_module": "@jupyter-widgets/base",
     "model_module_version": "1.2.0",
     "model_name": "LayoutModel",
     "state": {
      "_model_module": "@jupyter-widgets/base",
      "_model_module_version": "1.2.0",
      "_model_name": "LayoutModel",
      "_view_count": null,
      "_view_module": "@jupyter-widgets/base",
      "_view_module_version": "1.2.0",
      "_view_name": "LayoutView",
      "align_content": null,
      "align_items": null,
      "align_self": null,
      "border": null,
      "bottom": null,
      "display": "inline-flex",
      "flex": null,
      "flex_flow": "row wrap",
      "grid_area": null,
      "grid_auto_columns": null,
      "grid_auto_flow": null,
      "grid_auto_rows": null,
      "grid_column": null,
      "grid_gap": null,
      "grid_row": null,
      "grid_template_areas": null,
      "grid_template_columns": null,
      "grid_template_rows": null,
      "height": null,
      "justify_content": null,
      "justify_items": null,
      "left": null,
      "margin": null,
      "max_height": null,
      "max_width": null,
      "min_height": null,
      "min_width": null,
      "object_fit": null,
      "object_position": null,
      "order": null,
      "overflow": null,
      "overflow_x": null,
      "overflow_y": null,
      "padding": null,
      "right": null,
      "top": null,
      "visibility": null,
      "width": "100%"
     }
    },
    "499c18b435a946159cd4f8048dc2374d": {
     "model_module": "@jupyter-widgets/controls",
     "model_module_version": "1.5.0",
     "model_name": "DescriptionStyleModel",
     "state": {
      "_model_module": "@jupyter-widgets/controls",
      "_model_module_version": "1.5.0",
      "_model_name": "DescriptionStyleModel",
      "_view_count": null,
      "_view_module": "@jupyter-widgets/base",
      "_view_module_version": "1.2.0",
      "_view_name": "StyleView",
      "description_width": ""
     }
    },
    "4bb67f51ad7a4642a5c7ae5ec3a661d1": {
     "model_module": "@jupyter-widgets/base",
     "model_module_version": "1.2.0",
     "model_name": "LayoutModel",
     "state": {
      "_model_module": "@jupyter-widgets/base",
      "_model_module_version": "1.2.0",
      "_model_name": "LayoutModel",
      "_view_count": null,
      "_view_module": "@jupyter-widgets/base",
      "_view_module_version": "1.2.0",
      "_view_name": "LayoutView",
      "align_content": null,
      "align_items": null,
      "align_self": null,
      "border": null,
      "bottom": null,
      "display": null,
      "flex": null,
      "flex_flow": null,
      "grid_area": null,
      "grid_auto_columns": null,
      "grid_auto_flow": null,
      "grid_auto_rows": null,
      "grid_column": null,
      "grid_gap": null,
      "grid_row": null,
      "grid_template_areas": null,
      "grid_template_columns": null,
      "grid_template_rows": null,
      "height": null,
      "justify_content": null,
      "justify_items": null,
      "left": null,
      "margin": null,
      "max_height": null,
      "max_width": null,
      "min_height": null,
      "min_width": null,
      "object_fit": null,
      "object_position": null,
      "order": null,
      "overflow": null,
      "overflow_x": null,
      "overflow_y": null,
      "padding": null,
      "right": null,
      "top": null,
      "visibility": null,
      "width": null
     }
    },
    "4c156e65a8ce435a960b466d6a577f21": {
     "model_module": "@jupyter-widgets/controls",
     "model_module_version": "1.5.0",
     "model_name": "FloatProgressModel",
     "state": {
      "_dom_classes": [],
      "_model_module": "@jupyter-widgets/controls",
      "_model_module_version": "1.5.0",
      "_model_name": "FloatProgressModel",
      "_view_count": null,
      "_view_module": "@jupyter-widgets/controls",
      "_view_module_version": "1.5.0",
      "_view_name": "ProgressView",
      "bar_style": "success",
      "description": "",
      "description_tooltip": null,
      "layout": "IPY_MODEL_bc165696da6a44099ea503cae5b7153b",
      "max": 938,
      "min": 0,
      "orientation": "horizontal",
      "style": "IPY_MODEL_00788b9d1473467f9233f1f67f4f67fa",
      "value": 938
     }
    },
    "55856d711f6b484f8957784d760b00c5": {
     "model_module": "@jupyter-widgets/base",
     "model_module_version": "1.2.0",
     "model_name": "LayoutModel",
     "state": {
      "_model_module": "@jupyter-widgets/base",
      "_model_module_version": "1.2.0",
      "_model_name": "LayoutModel",
      "_view_count": null,
      "_view_module": "@jupyter-widgets/base",
      "_view_module_version": "1.2.0",
      "_view_name": "LayoutView",
      "align_content": null,
      "align_items": null,
      "align_self": null,
      "border": null,
      "bottom": null,
      "display": null,
      "flex": null,
      "flex_flow": null,
      "grid_area": null,
      "grid_auto_columns": null,
      "grid_auto_flow": null,
      "grid_auto_rows": null,
      "grid_column": null,
      "grid_gap": null,
      "grid_row": null,
      "grid_template_areas": null,
      "grid_template_columns": null,
      "grid_template_rows": null,
      "height": null,
      "justify_content": null,
      "justify_items": null,
      "left": null,
      "margin": null,
      "max_height": null,
      "max_width": null,
      "min_height": null,
      "min_width": null,
      "object_fit": null,
      "object_position": null,
      "order": null,
      "overflow": null,
      "overflow_x": null,
      "overflow_y": null,
      "padding": null,
      "right": null,
      "top": null,
      "visibility": null,
      "width": null
     }
    },
    "57bde002405043f5ac6faacb57d2dd36": {
     "model_module": "@jupyter-widgets/controls",
     "model_module_version": "1.5.0",
     "model_name": "HTMLModel",
     "state": {
      "_dom_classes": [],
      "_model_module": "@jupyter-widgets/controls",
      "_model_module_version": "1.5.0",
      "_model_name": "HTMLModel",
      "_view_count": null,
      "_view_module": "@jupyter-widgets/controls",
      "_view_module_version": "1.5.0",
      "_view_name": "HTMLView",
      "description": "",
      "description_tooltip": null,
      "layout": "IPY_MODEL_bf3ba8ed7e744fe6baeca1c79471b431",
      "placeholder": "​",
      "style": "IPY_MODEL_d09dd7711b10420e93d9d3fb814c907f",
      "value": "Epoch 3: 100%"
     }
    },
    "58a0ad4b7f2740089b6841b91b606e8d": {
     "model_module": "@jupyter-widgets/controls",
     "model_module_version": "1.5.0",
     "model_name": "HTMLModel",
     "state": {
      "_dom_classes": [],
      "_model_module": "@jupyter-widgets/controls",
      "_model_module_version": "1.5.0",
      "_model_name": "HTMLModel",
      "_view_count": null,
      "_view_module": "@jupyter-widgets/controls",
      "_view_module_version": "1.5.0",
      "_view_name": "HTMLView",
      "description": "",
      "description_tooltip": null,
      "layout": "IPY_MODEL_55856d711f6b484f8957784d760b00c5",
      "placeholder": "​",
      "style": "IPY_MODEL_499c18b435a946159cd4f8048dc2374d",
      "value": "Epoch 9: 100%"
     }
    },
    "5b1363e9d65c48d29cb0ec5b4c237c6f": {
     "model_module": "@jupyter-widgets/base",
     "model_module_version": "1.2.0",
     "model_name": "LayoutModel",
     "state": {
      "_model_module": "@jupyter-widgets/base",
      "_model_module_version": "1.2.0",
      "_model_name": "LayoutModel",
      "_view_count": null,
      "_view_module": "@jupyter-widgets/base",
      "_view_module_version": "1.2.0",
      "_view_name": "LayoutView",
      "align_content": null,
      "align_items": null,
      "align_self": null,
      "border": null,
      "bottom": null,
      "display": null,
      "flex": "2",
      "flex_flow": null,
      "grid_area": null,
      "grid_auto_columns": null,
      "grid_auto_flow": null,
      "grid_auto_rows": null,
      "grid_column": null,
      "grid_gap": null,
      "grid_row": null,
      "grid_template_areas": null,
      "grid_template_columns": null,
      "grid_template_rows": null,
      "height": null,
      "justify_content": null,
      "justify_items": null,
      "left": null,
      "margin": null,
      "max_height": null,
      "max_width": null,
      "min_height": null,
      "min_width": null,
      "object_fit": null,
      "object_position": null,
      "order": null,
      "overflow": null,
      "overflow_x": null,
      "overflow_y": null,
      "padding": null,
      "right": null,
      "top": null,
      "visibility": null,
      "width": null
     }
    },
    "63cbe90930b340b680736cc44898bc7d": {
     "model_module": "@jupyter-widgets/controls",
     "model_module_version": "1.5.0",
     "model_name": "ProgressStyleModel",
     "state": {
      "_model_module": "@jupyter-widgets/controls",
      "_model_module_version": "1.5.0",
      "_model_name": "ProgressStyleModel",
      "_view_count": null,
      "_view_module": "@jupyter-widgets/base",
      "_view_module_version": "1.2.0",
      "_view_name": "StyleView",
      "bar_color": null,
      "description_width": ""
     }
    },
    "7268add124f34252bb9bfaaf404a66f4": {
     "model_module": "@jupyter-widgets/base",
     "model_module_version": "1.2.0",
     "model_name": "LayoutModel",
     "state": {
      "_model_module": "@jupyter-widgets/base",
      "_model_module_version": "1.2.0",
      "_model_name": "LayoutModel",
      "_view_count": null,
      "_view_module": "@jupyter-widgets/base",
      "_view_module_version": "1.2.0",
      "_view_name": "LayoutView",
      "align_content": null,
      "align_items": null,
      "align_self": null,
      "border": null,
      "bottom": null,
      "display": null,
      "flex": null,
      "flex_flow": null,
      "grid_area": null,
      "grid_auto_columns": null,
      "grid_auto_flow": null,
      "grid_auto_rows": null,
      "grid_column": null,
      "grid_gap": null,
      "grid_row": null,
      "grid_template_areas": null,
      "grid_template_columns": null,
      "grid_template_rows": null,
      "height": null,
      "justify_content": null,
      "justify_items": null,
      "left": null,
      "margin": null,
      "max_height": null,
      "max_width": null,
      "min_height": null,
      "min_width": null,
      "object_fit": null,
      "object_position": null,
      "order": null,
      "overflow": null,
      "overflow_x": null,
      "overflow_y": null,
      "padding": null,
      "right": null,
      "top": null,
      "visibility": null,
      "width": null
     }
    },
    "7353d84fc8d7402ab196a6f51d004663": {
     "model_module": "@jupyter-widgets/controls",
     "model_module_version": "1.5.0",
     "model_name": "HBoxModel",
     "state": {
      "_dom_classes": [],
      "_model_module": "@jupyter-widgets/controls",
      "_model_module_version": "1.5.0",
      "_model_name": "HBoxModel",
      "_view_count": null,
      "_view_module": "@jupyter-widgets/controls",
      "_view_module_version": "1.5.0",
      "_view_name": "HBoxView",
      "box_style": "",
      "children": [
       "IPY_MODEL_58a0ad4b7f2740089b6841b91b606e8d",
       "IPY_MODEL_be64100ec55e401f9dd04148ab54c8a0",
       "IPY_MODEL_9e21d6af7fa14ddaae5f0a447650ee80"
      ],
      "layout": "IPY_MODEL_3c9e48fb64244d7eb4c9d1ab5ccf52f9"
     }
    },
    "79ee3d23220f4f1b926e9d48cf1c874a": {
     "model_module": "@jupyter-widgets/controls",
     "model_module_version": "1.5.0",
     "model_name": "DescriptionStyleModel",
     "state": {
      "_model_module": "@jupyter-widgets/controls",
      "_model_module_version": "1.5.0",
      "_model_name": "DescriptionStyleModel",
      "_view_count": null,
      "_view_module": "@jupyter-widgets/base",
      "_view_module_version": "1.2.0",
      "_view_name": "StyleView",
      "description_width": ""
     }
    },
    "7d7697bc6cd74f3aa4829eb2dc4bd8d7": {
     "model_module": "@jupyter-widgets/base",
     "model_module_version": "1.2.0",
     "model_name": "LayoutModel",
     "state": {
      "_model_module": "@jupyter-widgets/base",
      "_model_module_version": "1.2.0",
      "_model_name": "LayoutModel",
      "_view_count": null,
      "_view_module": "@jupyter-widgets/base",
      "_view_module_version": "1.2.0",
      "_view_name": "LayoutView",
      "align_content": null,
      "align_items": null,
      "align_self": null,
      "border": null,
      "bottom": null,
      "display": null,
      "flex": null,
      "flex_flow": null,
      "grid_area": null,
      "grid_auto_columns": null,
      "grid_auto_flow": null,
      "grid_auto_rows": null,
      "grid_column": null,
      "grid_gap": null,
      "grid_row": null,
      "grid_template_areas": null,
      "grid_template_columns": null,
      "grid_template_rows": null,
      "height": null,
      "justify_content": null,
      "justify_items": null,
      "left": null,
      "margin": null,
      "max_height": null,
      "max_width": null,
      "min_height": null,
      "min_width": null,
      "object_fit": null,
      "object_position": null,
      "order": null,
      "overflow": null,
      "overflow_x": null,
      "overflow_y": null,
      "padding": null,
      "right": null,
      "top": null,
      "visibility": null,
      "width": null
     }
    },
    "95b6575fa8354b7c8954e68c4e73895e": {
     "model_module": "@jupyter-widgets/controls",
     "model_module_version": "1.5.0",
     "model_name": "HBoxModel",
     "state": {
      "_dom_classes": [],
      "_model_module": "@jupyter-widgets/controls",
      "_model_module_version": "1.5.0",
      "_model_name": "HBoxModel",
      "_view_count": null,
      "_view_module": "@jupyter-widgets/controls",
      "_view_module_version": "1.5.0",
      "_view_name": "HBoxView",
      "box_style": "",
      "children": [
       "IPY_MODEL_57bde002405043f5ac6faacb57d2dd36",
       "IPY_MODEL_4c156e65a8ce435a960b466d6a577f21",
       "IPY_MODEL_2bfcc500bd64478990d852309f1585c1"
      ],
      "layout": "IPY_MODEL_cd727bf2214f417bb3880ba61ea8135a"
     }
    },
    "9e21d6af7fa14ddaae5f0a447650ee80": {
     "model_module": "@jupyter-widgets/controls",
     "model_module_version": "1.5.0",
     "model_name": "HTMLModel",
     "state": {
      "_dom_classes": [],
      "_model_module": "@jupyter-widgets/controls",
      "_model_module_version": "1.5.0",
      "_model_name": "HTMLModel",
      "_view_count": null,
      "_view_module": "@jupyter-widgets/controls",
      "_view_module_version": "1.5.0",
      "_view_name": "HTMLView",
      "description": "",
      "description_tooltip": null,
      "layout": "IPY_MODEL_4bb67f51ad7a4642a5c7ae5ec3a661d1",
      "placeholder": "​",
      "style": "IPY_MODEL_c06f4f71e200416a85545c424e432de4",
      "value": " 938/938 [00:14&lt;00:00, 65.66it/s, v_num=65, ema_loss=0.0411]"
     }
    },
    "a6e332f24a57464ea678942bf1067ab6": {
     "model_module": "@jupyter-widgets/base",
     "model_module_version": "1.2.0",
     "model_name": "LayoutModel",
     "state": {
      "_model_module": "@jupyter-widgets/base",
      "_model_module_version": "1.2.0",
      "_model_name": "LayoutModel",
      "_view_count": null,
      "_view_module": "@jupyter-widgets/base",
      "_view_module_version": "1.2.0",
      "_view_name": "LayoutView",
      "align_content": null,
      "align_items": null,
      "align_self": null,
      "border": null,
      "bottom": null,
      "display": null,
      "flex": "2",
      "flex_flow": null,
      "grid_area": null,
      "grid_auto_columns": null,
      "grid_auto_flow": null,
      "grid_auto_rows": null,
      "grid_column": null,
      "grid_gap": null,
      "grid_row": null,
      "grid_template_areas": null,
      "grid_template_columns": null,
      "grid_template_rows": null,
      "height": null,
      "justify_content": null,
      "justify_items": null,
      "left": null,
      "margin": null,
      "max_height": null,
      "max_width": null,
      "min_height": null,
      "min_width": null,
      "object_fit": null,
      "object_position": null,
      "order": null,
      "overflow": null,
      "overflow_x": null,
      "overflow_y": null,
      "padding": null,
      "right": null,
      "top": null,
      "visibility": null,
      "width": null
     }
    },
    "aa1bccad11244c3c8ee76d7c1603c470": {
     "model_module": "@jupyter-widgets/controls",
     "model_module_version": "1.5.0",
     "model_name": "FloatProgressModel",
     "state": {
      "_dom_classes": [],
      "_model_module": "@jupyter-widgets/controls",
      "_model_module_version": "1.5.0",
      "_model_name": "FloatProgressModel",
      "_view_count": null,
      "_view_module": "@jupyter-widgets/controls",
      "_view_module_version": "1.5.0",
      "_view_name": "ProgressView",
      "bar_style": "success",
      "description": "",
      "description_tooltip": null,
      "layout": "IPY_MODEL_a6e332f24a57464ea678942bf1067ab6",
      "max": 938,
      "min": 0,
      "orientation": "horizontal",
      "style": "IPY_MODEL_db6f372e1e684ee7a71972caccc6440b",
      "value": 938
     }
    },
    "bc165696da6a44099ea503cae5b7153b": {
     "model_module": "@jupyter-widgets/base",
     "model_module_version": "1.2.0",
     "model_name": "LayoutModel",
     "state": {
      "_model_module": "@jupyter-widgets/base",
      "_model_module_version": "1.2.0",
      "_model_name": "LayoutModel",
      "_view_count": null,
      "_view_module": "@jupyter-widgets/base",
      "_view_module_version": "1.2.0",
      "_view_name": "LayoutView",
      "align_content": null,
      "align_items": null,
      "align_self": null,
      "border": null,
      "bottom": null,
      "display": null,
      "flex": "2",
      "flex_flow": null,
      "grid_area": null,
      "grid_auto_columns": null,
      "grid_auto_flow": null,
      "grid_auto_rows": null,
      "grid_column": null,
      "grid_gap": null,
      "grid_row": null,
      "grid_template_areas": null,
      "grid_template_columns": null,
      "grid_template_rows": null,
      "height": null,
      "justify_content": null,
      "justify_items": null,
      "left": null,
      "margin": null,
      "max_height": null,
      "max_width": null,
      "min_height": null,
      "min_width": null,
      "object_fit": null,
      "object_position": null,
      "order": null,
      "overflow": null,
      "overflow_x": null,
      "overflow_y": null,
      "padding": null,
      "right": null,
      "top": null,
      "visibility": null,
      "width": null
     }
    },
    "be64100ec55e401f9dd04148ab54c8a0": {
     "model_module": "@jupyter-widgets/controls",
     "model_module_version": "1.5.0",
     "model_name": "FloatProgressModel",
     "state": {
      "_dom_classes": [],
      "_model_module": "@jupyter-widgets/controls",
      "_model_module_version": "1.5.0",
      "_model_name": "FloatProgressModel",
      "_view_count": null,
      "_view_module": "@jupyter-widgets/controls",
      "_view_module_version": "1.5.0",
      "_view_name": "ProgressView",
      "bar_style": "success",
      "description": "",
      "description_tooltip": null,
      "layout": "IPY_MODEL_5b1363e9d65c48d29cb0ec5b4c237c6f",
      "max": 938,
      "min": 0,
      "orientation": "horizontal",
      "style": "IPY_MODEL_63cbe90930b340b680736cc44898bc7d",
      "value": 938
     }
    },
    "bf3ba8ed7e744fe6baeca1c79471b431": {
     "model_module": "@jupyter-widgets/base",
     "model_module_version": "1.2.0",
     "model_name": "LayoutModel",
     "state": {
      "_model_module": "@jupyter-widgets/base",
      "_model_module_version": "1.2.0",
      "_model_name": "LayoutModel",
      "_view_count": null,
      "_view_module": "@jupyter-widgets/base",
      "_view_module_version": "1.2.0",
      "_view_name": "LayoutView",
      "align_content": null,
      "align_items": null,
      "align_self": null,
      "border": null,
      "bottom": null,
      "display": null,
      "flex": null,
      "flex_flow": null,
      "grid_area": null,
      "grid_auto_columns": null,
      "grid_auto_flow": null,
      "grid_auto_rows": null,
      "grid_column": null,
      "grid_gap": null,
      "grid_row": null,
      "grid_template_areas": null,
      "grid_template_columns": null,
      "grid_template_rows": null,
      "height": null,
      "justify_content": null,
      "justify_items": null,
      "left": null,
      "margin": null,
      "max_height": null,
      "max_width": null,
      "min_height": null,
      "min_width": null,
      "object_fit": null,
      "object_position": null,
      "order": null,
      "overflow": null,
      "overflow_x": null,
      "overflow_y": null,
      "padding": null,
      "right": null,
      "top": null,
      "visibility": null,
      "width": null
     }
    },
    "c06f4f71e200416a85545c424e432de4": {
     "model_module": "@jupyter-widgets/controls",
     "model_module_version": "1.5.0",
     "model_name": "DescriptionStyleModel",
     "state": {
      "_model_module": "@jupyter-widgets/controls",
      "_model_module_version": "1.5.0",
      "_model_name": "DescriptionStyleModel",
      "_view_count": null,
      "_view_module": "@jupyter-widgets/base",
      "_view_module_version": "1.2.0",
      "_view_name": "StyleView",
      "description_width": ""
     }
    },
    "c2df367dff384285b53703c232cd6bbb": {
     "model_module": "@jupyter-widgets/base",
     "model_module_version": "1.2.0",
     "model_name": "LayoutModel",
     "state": {
      "_model_module": "@jupyter-widgets/base",
      "_model_module_version": "1.2.0",
      "_model_name": "LayoutModel",
      "_view_count": null,
      "_view_module": "@jupyter-widgets/base",
      "_view_module_version": "1.2.0",
      "_view_name": "LayoutView",
      "align_content": null,
      "align_items": null,
      "align_self": null,
      "border": null,
      "bottom": null,
      "display": "inline-flex",
      "flex": null,
      "flex_flow": "row wrap",
      "grid_area": null,
      "grid_auto_columns": null,
      "grid_auto_flow": null,
      "grid_auto_rows": null,
      "grid_column": null,
      "grid_gap": null,
      "grid_row": null,
      "grid_template_areas": null,
      "grid_template_columns": null,
      "grid_template_rows": null,
      "height": null,
      "justify_content": null,
      "justify_items": null,
      "left": null,
      "margin": null,
      "max_height": null,
      "max_width": null,
      "min_height": null,
      "min_width": null,
      "object_fit": null,
      "object_position": null,
      "order": null,
      "overflow": null,
      "overflow_x": null,
      "overflow_y": null,
      "padding": null,
      "right": null,
      "top": null,
      "visibility": null,
      "width": "100%"
     }
    },
    "cd727bf2214f417bb3880ba61ea8135a": {
     "model_module": "@jupyter-widgets/base",
     "model_module_version": "1.2.0",
     "model_name": "LayoutModel",
     "state": {
      "_model_module": "@jupyter-widgets/base",
      "_model_module_version": "1.2.0",
      "_model_name": "LayoutModel",
      "_view_count": null,
      "_view_module": "@jupyter-widgets/base",
      "_view_module_version": "1.2.0",
      "_view_name": "LayoutView",
      "align_content": null,
      "align_items": null,
      "align_self": null,
      "border": null,
      "bottom": null,
      "display": "inline-flex",
      "flex": null,
      "flex_flow": "row wrap",
      "grid_area": null,
      "grid_auto_columns": null,
      "grid_auto_flow": null,
      "grid_auto_rows": null,
      "grid_column": null,
      "grid_gap": null,
      "grid_row": null,
      "grid_template_areas": null,
      "grid_template_columns": null,
      "grid_template_rows": null,
      "height": null,
      "justify_content": null,
      "justify_items": null,
      "left": null,
      "margin": null,
      "max_height": null,
      "max_width": null,
      "min_height": null,
      "min_width": null,
      "object_fit": null,
      "object_position": null,
      "order": null,
      "overflow": null,
      "overflow_x": null,
      "overflow_y": null,
      "padding": null,
      "right": null,
      "top": null,
      "visibility": null,
      "width": "100%"
     }
    },
    "cdd43d1c23a24f8cb2189ed61e1f0a1e": {
     "model_module": "@jupyter-widgets/controls",
     "model_module_version": "1.5.0",
     "model_name": "HTMLModel",
     "state": {
      "_dom_classes": [],
      "_model_module": "@jupyter-widgets/controls",
      "_model_module_version": "1.5.0",
      "_model_name": "HTMLModel",
      "_view_count": null,
      "_view_module": "@jupyter-widgets/controls",
      "_view_module_version": "1.5.0",
      "_view_name": "HTMLView",
      "description": "",
      "description_tooltip": null,
      "layout": "IPY_MODEL_7d7697bc6cd74f3aa4829eb2dc4bd8d7",
      "placeholder": "​",
      "style": "IPY_MODEL_3032d83c92bf4d3f98117b465c7af5b6",
      "value": "Epoch 9: 100%"
     }
    },
    "d09dd7711b10420e93d9d3fb814c907f": {
     "model_module": "@jupyter-widgets/controls",
     "model_module_version": "1.5.0",
     "model_name": "DescriptionStyleModel",
     "state": {
      "_model_module": "@jupyter-widgets/controls",
      "_model_module_version": "1.5.0",
      "_model_name": "DescriptionStyleModel",
      "_view_count": null,
      "_view_module": "@jupyter-widgets/base",
      "_view_module_version": "1.2.0",
      "_view_name": "StyleView",
      "description_width": ""
     }
    },
    "d60756abac2a48a796f50ab28b5bed82": {
     "model_module": "@jupyter-widgets/controls",
     "model_module_version": "1.5.0",
     "model_name": "HTMLModel",
     "state": {
      "_dom_classes": [],
      "_model_module": "@jupyter-widgets/controls",
      "_model_module_version": "1.5.0",
      "_model_name": "HTMLModel",
      "_view_count": null,
      "_view_module": "@jupyter-widgets/controls",
      "_view_module_version": "1.5.0",
      "_view_name": "HTMLView",
      "description": "",
      "description_tooltip": null,
      "layout": "IPY_MODEL_34dad8aa8e7f45c6b3ab20e802438b00",
      "placeholder": "​",
      "style": "IPY_MODEL_3b62e8b7d19e479d80138a7907fdf830",
      "value": " 938/938 [00:13&lt;00:00, 70.67it/s, v_num=71, loss=0.0308]"
     }
    },
    "db6f372e1e684ee7a71972caccc6440b": {
     "model_module": "@jupyter-widgets/controls",
     "model_module_version": "1.5.0",
     "model_name": "ProgressStyleModel",
     "state": {
      "_model_module": "@jupyter-widgets/controls",
      "_model_module_version": "1.5.0",
      "_model_name": "ProgressStyleModel",
      "_view_count": null,
      "_view_module": "@jupyter-widgets/base",
      "_view_module_version": "1.2.0",
      "_view_name": "StyleView",
      "bar_color": null,
      "description_width": ""
     }
    }
   }
  }
 },
 "nbformat": 4,
 "nbformat_minor": 5
}
