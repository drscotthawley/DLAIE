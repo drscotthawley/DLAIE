{
 "cells": [
  {
   "cell_type": "markdown",
   "id": "4df8867d",
   "metadata": {},
   "source": [
    "# Writing a Music Transformer\n",
    "\n",
    "This Lesson appears in quarto blog post form.  Please see [\"Understanding Transformers, Part 2: Wee Music Box\"](https://drscotthawley.github.io/blog/posts/Transformers2-MusicBox.html)"
   ]
  },
  {
   "cell_type": "code",
   "execution_count": null,
   "id": "6f371d5a",
   "metadata": {},
   "outputs": [],
   "source": []
  }
 ],
 "metadata": {
  "kernelspec": {
   "display_name": "Python 3 (ipykernel)",
   "language": "python",
   "name": "python3"
  },
  "language_info": {
   "codemirror_mode": {
    "name": "ipython",
    "version": 3
   },
   "file_extension": ".py",
   "mimetype": "text/x-python",
   "name": "python",
   "nbconvert_exporter": "python",
   "pygments_lexer": "ipython3",
   "version": "3.11.6"
  }
 },
 "nbformat": 4,
 "nbformat_minor": 5
}
