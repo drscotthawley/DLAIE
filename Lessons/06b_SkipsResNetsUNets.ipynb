{
  "cells": [
    {
      "cell_type": "markdown",
      "id": "43cd7be7-2c32-4744-9930-d62372d2e1ee",
      "metadata": {
        "id": "43cd7be7-2c32-4744-9930-d62372d2e1ee"
      },
      "source": [
        "# \"Be the Change\": Skip Connections, ResNets and U-Nets"
      ]
    },
    {
      "cell_type": "markdown",
      "id": "cc32b065-4549-4ad1-b790-184e6a538508",
      "metadata": {
        "id": "cc32b065-4549-4ad1-b790-184e6a538508"
      },
      "source": [
        "It is a common observation in numerical modeling that if you can predict the *change* in something rather than the thing itself, you can often get much more accurate results (than predicting the entire thing).\n",
        "\n",
        "**Table of Contents:**\n",
        "\n",
        "A. Residual Skips, ResNets\n",
        "\n",
        "---Exercise---\n",
        "   \n",
        "B. Concatenative Skips, U-Nets\n",
        "\n",
        "\n",
        "# A. Residual Skips, ResNets\n",
        "This change is often called the \"residual\", and it inspired a whole set of architectures based on \"skip residual\" connections, the first and most famous being the [ResNet](https://ieeexplore.ieee.org/document/7780459) ([arXiv link](https://arxiv.org/abs/1512.03385)) family of image-processing networks. Despite dating back to 2015, ResNets are still in heavy use today, and their key insights are repeated even in sophisticated modern LLMs.  \n",
        "\n",
        "The idea behind ResNet is to use a \"skip connection\" around a couple layers of network operations, and then *add* the output of those layers to what's connected via the skip. Thus the neural network layers bypassed by the skip can focus on computing the *change* or \"residual\" rather than the \"thing itself\":"
      ]
    },
    {
      "cell_type": "markdown",
      "id": "76491be2-c6ab-4fe7-9032-3ff0a39c8b91",
      "metadata": {
        "id": "76491be2-c6ab-4fe7-9032-3ff0a39c8b91"
      },
      "source": [
        "## ResNet \"Blocks\":  Additive / \"Residual\" Connections\n",
        "![residual picture](https://miro.medium.com/max/683/0*0r0vS8myiqyOb79L.jpg)\n",
        "\n",
        "*Source: [ResNet paper](https://arxiv.org/pdf/1512.03385.pdf)*\n",
        "\n",
        "In the above figure, the \"skip residual\" connection is the big curved arrow on the right."
      ]
    },
    {
      "cell_type": "markdown",
      "id": "381c466d-4399-4454-89d2-fdb777549c8d",
      "metadata": {
        "id": "381c466d-4399-4454-89d2-fdb777549c8d"
      },
      "source": [
        "That \"resnet block\" shown above is then used *repeatedly* throughout the network architecture. ResNets can be made using various numbers of layers. One variation that has some into standard usage is ResNet34, which uses 34 resnet blocks.  In the following diagram, ResNet34 (on the right) is compared to the older VGG model (on the left) and a similar model (in the middle) which has no residual connections.  \n",
        "\n",
        "**Model architecture comparison:**\n",
        "\n",
        "Left: VGG (\"standard ConvNet\"), Middle: Deep CNN w/o residuals, Left: ResNet\n",
        "\n",
        "![resnet_bigger](https://i.imgur.com/mbi6ktD.png)"
      ]
    },
    {
      "cell_type": "markdown",
      "id": "b0ece213-8200-4d72-9643-fd50edaa170c",
      "metadata": {
        "id": "b0ece213-8200-4d72-9643-fd50edaa170c"
      },
      "source": [
        "It was found that ResNets massively outperformed previous approaches. The intuitions about residuals (i.e. \"predicting the change rather than the thing itself\") allowing for higher accuracy, and the idea that skip connections allowing information to \"propagate across the network more efficiently\" seem like plausible reasons why ResNets work well, however there is another reason related to the process of gradient descent:"
      ]
    },
    {
      "cell_type": "markdown",
      "id": "f0309856-94fa-4120-8466-be55af6894c6",
      "metadata": {
        "id": "f0309856-94fa-4120-8466-be55af6894c6"
      },
      "source": [
        "## Residuals Smooth the Loss surface\n",
        "\n",
        "It turns out that skip connections can remove wiggles in the loss surface, allowing it to be more smooth and thus allowing gradient descent methods to accelerate converence and not get stuck in local minima:\n",
        "![loss surface image](https://miro.medium.com/max/2000/1*ME5zYSkdsQT3pEIDDGE1Fg.png)\n",
        "\n",
        "*Source: [\"Visualizing the Loss Landscape of Neural Nets\"](https://arxiv.org/pdf/1712.09913.pdf)"
      ]
    },
    {
      "cell_type": "markdown",
      "id": "bbb33383-405d-4163-9217-0d0d825a4e0b",
      "metadata": {
        "id": "bbb33383-405d-4163-9217-0d0d825a4e0b"
      },
      "source": [
        "## Let's see it in code\n",
        "Let's compare this to our earlier CNN/ConvNet, in code.  We'll reuse a lot of the code from the ConvNets lesson, and focus on the CIFAR100 dataset since it's \"hard\". ;-)"
      ]
    },
    {
      "cell_type": "code",
      "execution_count": null,
      "id": "7cd9928a-55ac-41e7-a9a4-6f14d738768f",
      "metadata": {
        "id": "7cd9928a-55ac-41e7-a9a4-6f14d738768f"
      },
      "outputs": [],
      "source": [
        "import torch\n",
        "import torch.nn as nn\n",
        "import torch.optim as optim\n",
        "import torch.nn.functional as F\n",
        "from torch.utils.data import DataLoader\n",
        "import torchvision\n",
        "import torchvision.transforms as transforms\n",
        "from torchvision.transforms.v2 import CutMix, MixUp, RandomChoice\n",
        "import wandb\n",
        "import matplotlib.pyplot as plt\n",
        "import numpy as np\n",
        "from tqdm import tqdm\n",
        "import time\n",
        "\n",
        "# block annoying warning I don't want you to worry about\n",
        "import warnings\n",
        "warnings.filterwarnings(\"ignore\", category=UserWarning, module=\"pydantic.main\")"
      ]
    },
    {
      "cell_type": "code",
      "execution_count": null,
      "id": "d4f97748-eee1-4cb1-91ff-6ce4d591649b",
      "metadata": {
        "id": "d4f97748-eee1-4cb1-91ff-6ce4d591649b",
        "outputId": "e74c2dc1-5412-42d3-c9e4-d2a8e0c15b1d"
      },
      "outputs": [
        {
          "name": "stdout",
          "output_type": "stream",
          "text": [
            "Using device: mps\n"
          ]
        }
      ],
      "source": [
        "# check that there's more than just the CPU available\n",
        "device = torch.device('cuda' if torch.cuda.is_available() else 'mps' if torch.backends.mps.is_available() else 'cpu')\n",
        "print(f\"Using device: {device}\")\n",
        "if device==torch.device('cpu'): print(\"You should probably restart this with a GPU. It will be slow otherwise.\")\n",
        "\n",
        "# Set random seeds for reproducibility\n",
        "torch.manual_seed(42)\n",
        "np.random.seed(42)"
      ]
    },
    {
      "cell_type": "code",
      "execution_count": null,
      "id": "1ae4a440-2a20-48f4-9861-458c39604fcd",
      "metadata": {
        "id": "1ae4a440-2a20-48f4-9861-458c39604fcd",
        "outputId": "fd05d4f0-6c7c-4804-dd02-4d7d07b97345"
      },
      "outputs": [
        {
          "name": "stdout",
          "output_type": "stream",
          "text": [
            "Available datasets:\n",
            "  MNIST: 28x28 grayscale handwritten digits (0-9)\n",
            "  FashionMNIST: 28x28 grayscale fashion items (10 classes)\n",
            "  CIFAR10: 32x32 color images (10 classes: planes, cars, etc.)\n",
            "  CIFAR100: 32x32 color images (100 classes)\n",
            "\n",
            "Available activations: dict_keys(['ReLU', 'GELU', 'SiLU', 'LeakyReLU'])\n",
            "\n",
            "Using: CIFAR100\n",
            "Activation function: SiLU\n"
          ]
        }
      ],
      "source": [
        "# Available datasets with their normalization parameters\n",
        "DATASETS = {\n",
        "    'MNIST': {\n",
        "        'dataset_class': torchvision.datasets.MNIST,\n",
        "        'mean': (0.1307,), 'std': (0.3081,),\n",
        "        'description': '28x28 grayscale handwritten digits (0-9)'\n",
        "    },\n",
        "    'FashionMNIST': {\n",
        "        'dataset_class': torchvision.datasets.FashionMNIST,\n",
        "        'mean': (0.2860,), 'std': (0.3530,),\n",
        "        'description': '28x28 grayscale fashion items (10 classes)'\n",
        "    },\n",
        "    'CIFAR10': {\n",
        "        'dataset_class': torchvision.datasets.CIFAR10,\n",
        "        'mean': (0.4914, 0.4822, 0.4465), 'std': (0.2023, 0.1994, 0.2010),\n",
        "        'description': '32x32 color images (10 classes: planes, cars, etc.)'\n",
        "    },\n",
        "    'CIFAR100': {\n",
        "        'dataset_class': torchvision.datasets.CIFAR100,\n",
        "        'mean': (0.5071, 0.4867, 0.4408), 'std': (0.2675, 0.2565, 0.2761),\n",
        "        'description': '32x32 color images (100 classes)'\n",
        "    }\n",
        "}\n",
        "\n",
        "print(\"Available datasets:\")\n",
        "for name, info in DATASETS.items():\n",
        "    print(f\"  {name}: {info['description']}\")\n",
        "\n",
        "\n",
        "# Also let's let the user choose different activation functions, which will be implemented globally:\n",
        "activations = { 'ReLU': nn.ReLU(), 'GELU': nn.GELU(),  'SiLU': nn.SiLU(), 'LeakyReLU': nn.LeakyReLU(0.01)}\n",
        "print(\"\\nAvailable activations:\", activations.keys())\n",
        "\n",
        "\n",
        "#### Your choices for dataset & activation functions\n",
        "DATASET_NAME = 'CIFAR100'  # Change this to 'FashionMNIST', 'CIFAR10', or 'CIFAR100'\n",
        "ACTIVATION_NAME = 'SiLU'  # Options: 'ReLU', 'GELU', 'SiLU', 'LeakyReLU'\n",
        "\n",
        "ACTIVATION = activations[ACTIVATION_NAME]\n",
        "\n",
        "print(f\"\\nUsing: {DATASET_NAME}\")\n",
        "print(f\"Activation function: {ACTIVATION_NAME}\")"
      ]
    },
    {
      "cell_type": "code",
      "execution_count": null,
      "id": "e3bd3a07-7b6b-4b44-93e2-5c350d61b17b",
      "metadata": {
        "id": "e3bd3a07-7b6b-4b44-93e2-5c350d61b17b",
        "outputId": "76609fe5-8757-4e2a-f679-4498d9c0df80"
      },
      "outputs": [
        {
          "name": "stdout",
          "output_type": "stream",
          "text": [
            "Files already downloaded and verified\n",
            "\n",
            "Dataset Properties:\n",
            "  Image size: 3x32x32\n",
            "  Number of classes: 100\n",
            "  Classes: ['apple', 'aquarium_fish', 'baby', 'bear', 'beaver', 'bed', 'bee', 'beetle', 'bicycle', 'bottle']...\n",
            "\n",
            "Dataset loaded:\n",
            "  Training samples: 50,000\n",
            "  Test samples: 10,000\n"
          ]
        }
      ],
      "source": [
        "def get_dataset_info(dataset_name):\n",
        "    \"\"\"Get dataset configuration and sample to determine properties.\"\"\"\n",
        "    config = DATASETS[dataset_name]\n",
        "    basic_transform = transforms.Compose([transforms.ToTensor()])\n",
        "    temp_dataset = config['dataset_class'](root='./data', train=True, download=True, transform=basic_transform)\n",
        "    sample_img, _ = temp_dataset[0]\n",
        "\n",
        "    return {\n",
        "        'config': config,\n",
        "        'num_channels': sample_img.shape[0],\n",
        "        'img_height': sample_img.shape[1],\n",
        "        'img_width': sample_img.shape[2],\n",
        "        'num_classes': len(temp_dataset.classes),\n",
        "        'class_names': temp_dataset.classes\n",
        "    }\n",
        "\n",
        "dataset_info = get_dataset_info(DATASET_NAME)\n",
        "DATASET_INFO = dataset_info\n",
        "\n",
        "print(f\"\\nDataset Properties:\")\n",
        "print(f\"  Image size: {dataset_info['num_channels']}x{dataset_info['img_height']}x{dataset_info['img_width']}\")\n",
        "print(f\"  Number of classes: {dataset_info['num_classes']}\")\n",
        "print(f\"  Classes: {dataset_info['class_names'][:10]}...\")  # Show first 10 classes\n",
        "\n",
        "num_classes = dataset_info['num_classes']\n",
        "cutmix = CutMix(num_classes=num_classes, alpha=0.2)\n",
        "mixup = MixUp(num_classes=num_classes, alpha=0.2)\n",
        "cutmix_or_mixup = mixup # RandomChoice([cutmix, mixup])\n",
        "\n",
        "\n",
        "train_transform = transforms.Compose([\n",
        "    transforms.RandomHorizontalFlip(p=0.5),  # do some data augmentation when training\n",
        "    transforms.RandomRotation(10),\n",
        "    transforms.ColorJitter(brightness=0.2, contrast=0.2),\n",
        "    transforms.ToTensor(),\n",
        "    transforms.Normalize(dataset_info['config']['mean'], dataset_info['config']['std'])\n",
        "])\n",
        "val_transform = transforms.Compose([\n",
        "    transforms.ToTensor(),\n",
        "    transforms.Normalize(dataset_info['config']['mean'], dataset_info['config']['std'])\n",
        "])\n",
        "\n",
        "train_dataset = dataset_info['config']['dataset_class'](root='./data', train=True, download=False, transform=train_transform)\n",
        "val_dataset = dataset_info['config']['dataset_class'](root='./data', train=False, download=False, transform=val_transform)\n",
        "\n",
        "batch_size = 128 # could make this bigger\n",
        "train_loader = DataLoader(train_dataset, batch_size=batch_size, shuffle=True, num_workers=2, persistent_workers=True)\n",
        "val_loader = DataLoader(val_dataset, batch_size=batch_size, shuffle=False, num_workers=2, persistent_workers=True)\n",
        "\n",
        "print(f\"\\nDataset loaded:\")\n",
        "print(f\"  Training samples: {len(train_dataset):,}\")\n",
        "print(f\"  Val samples: {len(val_dataset):,}\")"
      ]
    },
    {
      "cell_type": "code",
      "execution_count": null,
      "id": "caeec220-d94a-419c-80c7-8f2c36dec3b3",
      "metadata": {
        "id": "caeec220-d94a-419c-80c7-8f2c36dec3b3",
        "outputId": "26d78b49-2b5c-48cb-b019-54b88f369bb8"
      },
      "outputs": [
        {
          "data": {
            "image/png": "[encoded data removed]",
            "text/plain": [
              "<Figure size 1000x500 with 8 Axes>"
            ]
          },
          "metadata": {},
          "output_type": "display_data"
        }
      ],
      "source": [
        "def plot_samples(dataset, dataset_info, num_samples=8):\n",
        "    \"\"\"Visualize some sample images\"\"\"\n",
        "    fig, axes = plt.subplots(2, 4, figsize=(10, 5))\n",
        "    axes = axes.ravel()\n",
        "    mean, std = dataset_info['config']['mean'], dataset_info['config']['std']\n",
        "\n",
        "    for i in range(num_samples):\n",
        "        img, label = dataset[i]\n",
        "\n",
        "        if len(mean) == 1:  # Grayscale\n",
        "            img_denorm = img.squeeze() * std[0] + mean[0]\n",
        "            axes[i].imshow(img_denorm, cmap='gray')\n",
        "        else:  # Color\n",
        "            img_denorm = img.clone()\n",
        "            for c in range(len(mean)):\n",
        "                img_denorm[c] = img_denorm[c] * std[c] + mean[c]\n",
        "            img_denorm = torch.clamp(img_denorm, 0, 1).permute(1, 2, 0)  # (C,H,W) -> (H,W,C)\n",
        "            axes[i].imshow(img_denorm)\n",
        "\n",
        "        axes[i].set_title(f'Label: {label} ({dataset_info[\"class_names\"][label]})')\n",
        "        axes[i].axis('off')\n",
        "\n",
        "    plt.tight_layout()\n",
        "    plt.show()\n",
        "\n",
        "plot_samples(train_dataset, dataset_info)"
      ]
    },
    {
      "cell_type": "markdown",
      "id": "a9eab5bd-6d83-47de-867e-7d58dbb1f1c2",
      "metadata": {
        "id": "a9eab5bd-6d83-47de-867e-7d58dbb1f1c2"
      },
      "source": [
        "## Revised Neural Network Architecture\n",
        "\n",
        "To really see the benefits of the ResNet approach, we need to dispense with the shallow, simple ConvNets that we had before, and go \"deeper\" in terms of number of layers.  \n",
        "\n",
        "---\n",
        "\n",
        "As an exercise, go back to the previous lesson on ConvNets and (try to) train the CNN on CIFAR100, then come back. How did it do?\n",
        "\n",
        "---\n",
        "\n",
        "#### Splitting Downsampling & Learned Filters\n",
        "Earlier we used a `stride` of 2 which had the effect of both downsampling and allowing for learnable filtering. But the plus sign \"+\" in the skip residual means that we can only add tensors with the same shapes. So for this lesson, we're going to separate the downsampling from the learnable filtering.  We'll downsample with \"average pooling\", and then use convolutions with `stride=1` (and  `padding=1`) to keep the output the same shape as in the input.\n",
        "\n",
        "#### Adding Batch Normalization\n",
        "\n",
        "Another key ingredient of the ResNet approach with influence to the modern day is Batch Normalization or \"Batch Norm\" (although nowadays it's replaced by related \"Layer Norm\" or \"Group Norm\", but similar in principle). Our rectifier-like activation functions have a tendency to shift the data distribution from being zero-mean to having some net positive bias, which can make it harder to learn.  So what we do is periodically \"re-whiten\" the distribution of the data $x$ for each batch, i.e. something like this:\n",
        "\n",
        "$$ x :=  { x - \\mu_B \\over \\sigma_B } $$\n",
        "\n",
        "where $\\mu_B$ and $\\sigma_B$ are the batch mean and standard deviation, respectively.  However, what's actually done in practice is a bit more expressive:\n",
        "\n",
        "$$ x := \\gamma \\cdot { x - \\mu_B \\over \\sqrt{\\sigma_B^2 + \\epsilon} } + \\beta $$\n",
        "\n",
        "where $\\gamma$ and $\\beta$ are learnable parameters that allow the network to scale and shift the normalized values if needed (so the network can effectively \"undo\" the normalization if that turns out to be beneficial), and we combine the variance $\\sigma_B^2$ with a small constant $\\epsilon$ for numerical stability.\n",
        "\n",
        "There is a computational cost for doing the Batch Norm, but it pays off in big ways, as we'll see.\n",
        "\n",
        "#### And Now for the Code!\n",
        "We're now ready to see the code for our replacement for the simple CNN from before.  We're going to build it out of \"Residual Blocks\" as in the diagram above. And we'll design it so that, for the sake of comparison, we can turn the skip connections and Batch Norm on or off:"
      ]
    },
    {
      "cell_type": "code",
      "execution_count": null,
      "id": "602e8667-2030-4dba-9272-566bc641adc9",
      "metadata": {
        "id": "602e8667-2030-4dba-9272-566bc641adc9"
      },
      "outputs": [],
      "source": [
        "class ResidualBlock(nn.Module):\n",
        "    def __init__(self, channels, use_skip=True, use_bn=True):\n",
        "        super().__init__()\n",
        "        self.conv1 = nn.Conv2d(channels, channels, 3, padding=1, bias=not use_bn)\n",
        "        self.bn1 = nn.BatchNorm2d(channels) if use_bn else nn.Identity()\n",
        "        self.conv2 = nn.Conv2d(channels, channels, 3, padding=1, bias=not use_bn)\n",
        "        self.bn2 = nn.BatchNorm2d(channels) if use_bn else nn.Identity()\n",
        "        self.use_skip = use_skip\n",
        "\n",
        "    def forward(self, x):\n",
        "        if self.use_skip: x0 = x\n",
        "        out = ACTIVATION(self.bn1(self.conv1(x)))\n",
        "        out = F.dropout(out, 0.4, training=self.training)\n",
        "        out = self.bn2(self.conv2(out))\n",
        "        if self.use_skip: out = out + x0\n",
        "        return ACTIVATION(out)"
      ]
    },
    {
      "cell_type": "code",
      "execution_count": null,
      "id": "11421125-3392-44b4-9351-4424721c2cc8",
      "metadata": {
        "id": "11421125-3392-44b4-9351-4424721c2cc8"
      },
      "outputs": [],
      "source": [
        "class FlexibleCNN(nn.Module):\n",
        "    def __init__(self, dataset_info=DATASET_INFO, base_channels=32, blocks_per_level=4, use_skips=False, use_bn=True):\n",
        "        super().__init__()\n",
        "\n",
        "        # Initial conv\n",
        "        self.conv1 = nn.Conv2d(dataset_info['num_channels'], base_channels, 3, padding=1, bias=not use_bn)\n",
        "        self.bn1 = nn.BatchNorm2d(base_channels) if use_bn else nn.Identity()\n",
        "\n",
        "        # Build levels dynamically\n",
        "        self.levels = nn.ModuleList()\n",
        "        channels = [base_channels, base_channels*2, base_channels*4]\n",
        "\n",
        "        for level_idx, ch in enumerate(channels):\n",
        "            level_blocks = nn.ModuleList()\n",
        "            for block_idx in range(blocks_per_level):\n",
        "                level_blocks.append(ResidualBlock(ch, use_skips, use_bn))\n",
        "            self.levels.append(level_blocks)\n",
        "\n",
        "        # Transition layers\n",
        "        self.transitions = nn.ModuleList([\n",
        "            nn.Conv2d(base_channels, base_channels*2, 1, bias=not use_bn),\n",
        "            nn.Conv2d(base_channels*2, base_channels*4, 1, bias=not use_bn)\n",
        "        ])\n",
        "\n",
        "        self.global_avg_pool = nn.AdaptiveAvgPool2d(1)\n",
        "        self.fc = nn.Linear(base_channels*4, dataset_info['num_classes'])\n",
        "\n",
        "    def forward(self, x):\n",
        "        x = ACTIVATION(self.bn1(self.conv1(x)))\n",
        "\n",
        "        # Level 1 blocks\n",
        "        for block in self.levels[0]:\n",
        "            x = block(x)\n",
        "\n",
        "        # Downsample + transition + Level 2 blocks\n",
        "        x = F.avg_pool2d(x, 2)\n",
        "        x = self.transitions[0](x)\n",
        "        for block in self.levels[1]:\n",
        "            x = block(x)\n",
        "\n",
        "        # Downsample + transition + Level 3 blocks\n",
        "        x = F.avg_pool2d(x, 2)\n",
        "        x = self.transitions[1](x)\n",
        "        for block in self.levels[2]:\n",
        "            x = block(x)\n",
        "\n",
        "        x = self.global_avg_pool(x)\n",
        "        return self.fc(x.flatten(start_dim=1))"
      ]
    },
    {
      "cell_type": "markdown",
      "id": "f3bcd966-16ec-4978-bdbd-823a27b182ce",
      "metadata": {
        "id": "f3bcd966-16ec-4978-bdbd-823a27b182ce"
      },
      "source": [
        "So then with those new features turned off, we'll ahve a \"StandardCNN\", and with them turned on, we'll have (our own version of) a ResNet:"
      ]
    },
    {
      "cell_type": "code",
      "execution_count": null,
      "id": "4dea8b45-1480-425d-8f26-a11bbc890643",
      "metadata": {
        "id": "4dea8b45-1480-425d-8f26-a11bbc890643"
      },
      "outputs": [],
      "source": [
        "class StandardCNN(FlexibleCNN):\n",
        "    def __init__(self, **kwargs):\n",
        "        super().__init__(use_skips=False, use_bn=False, **kwargs)\n",
        "\n",
        "\n",
        "class ResNet(FlexibleCNN):\n",
        "    def __init__(self, **kwargs):\n",
        "        super().__init__(use_skips=True, use_bn=True, **kwargs)"
      ]
    },
    {
      "cell_type": "markdown",
      "id": "96c6a119-a02f-45cb-a6ca-c7dcb36c8d97",
      "metadata": {
        "id": "96c6a119-a02f-45cb-a6ca-c7dcb36c8d97"
      },
      "source": [
        "\n",
        "### Train the Models\n",
        "\n",
        "Now let's set up the training code like we did in the previous lesson, and then run a few comparisons."
      ]
    },
    {
      "cell_type": "code",
      "execution_count": null,
      "id": "3d38a189-6fb0-40e0-8ecc-f8245247ed8e",
      "metadata": {
        "id": "3d38a189-6fb0-40e0-8ecc-f8245247ed8e"
      },
      "outputs": [],
      "source": [
        "def train_model(model, train_loader, val_loader, name=None, epochs=40, lr=0.002, project=\"skips_tutorial\"):\n",
        "    # Initialize wandb\n",
        "    wandb.init(project=project+\"_\"+DATASET_NAME, name=name, reinit=True)\n",
        "    wandb.config.update({\n",
        "        \"epochs\": epochs,\n",
        "        \"batch_size\": batch_size,\n",
        "        \"learning_rate\": lr,\n",
        "        \"model\": model.__class__.__name__,\n",
        "        \"optimizer\": \"Adam\"\n",
        "    })\n",
        "\n",
        "    criterion = nn.CrossEntropyLoss(label_smoothing=0.05)\n",
        "    optimizer = optim.Adam(model.parameters(), lr=lr, weight_decay=5e-5)\n",
        "\n",
        "    global_step = 0\n",
        "    exp_beta = 0.97\n",
        "    train_loss_avg = None\n",
        "\n",
        "    for epoch in range(epochs):\n",
        "        # Training phase\n",
        "        model.train()\n",
        "        pbar = tqdm(train_loader, desc=f'Epoch {epoch+1}/{epochs}')\n",
        "\n",
        "        for batch_idx, (data, target) in enumerate(pbar):\n",
        "            data, target = data.to(device), target.to(device)\n",
        "            data, target = cutmix_or_mixup(data, target)\n",
        "\n",
        "            optimizer.zero_grad()\n",
        "            output = model(data)\n",
        "            loss = criterion(output, target)\n",
        "            loss.backward()\n",
        "            optimizer.step()\n",
        "\n",
        "            # Log every step\n",
        "            train_loss_avg = loss.item() if train_loss_avg is None else train_loss_avg * exp_beta + loss.item() * (1 - exp_beta)\n",
        "\n",
        "            wandb.log({\n",
        "                \"step\": global_step,\n",
        "                \"train_loss\": train_loss_avg,\n",
        "                \"epoch\": epoch + 1\n",
        "            })\n",
        "\n",
        "            global_step += 1\n",
        "            pbar.set_postfix({'Train_Loss': f'{train_loss_avg:.4f}'})\n",
        "\n",
        "        # Evaluation phase (once per epoch)\n",
        "        model.eval()\n",
        "        val_loss = 0\n",
        "        correct = 0\n",
        "        total = 0\n",
        "\n",
        "        with torch.no_grad():\n",
        "            for data, target in val_loader:\n",
        "                data, target = data.to(device), target.to(device)\n",
        "                output = model(data)\n",
        "                val_loss += criterion(output, target).item()\n",
        "                pred = output.argmax(dim=1, keepdim=True)\n",
        "                correct += pred.eq(target.view_as(pred)).sum().item()\n",
        "                total += target.size(0)\n",
        "\n",
        "        val_loss /= len(val_loader)\n",
        "        val_acc = 100. * correct / total\n",
        "\n",
        "        wandb.log({\n",
        "            \"epoch\": epoch + 1,\n",
        "            \"val_loss\": val_loss,\n",
        "            \"val_accuracy\": val_acc\n",
        "        })\n",
        "\n",
        "        print(f'Epoch {epoch+1}: Val Loss: {val_loss:.4f}, Val Acc: {val_acc:.2f}%')\n",
        "\n",
        "    wandb.finish()\n",
        "    return val_acc"
      ]
    },
    {
      "cell_type": "markdown",
      "id": "f3e9fe59-42b7-4d47-84b3-3190b5ee6385",
      "metadata": {
        "id": "f3e9fe59-42b7-4d47-84b3-3190b5ee6385"
      },
      "source": [
        "We'll start with fairly shallow networks:"
      ]
    },
    {
      "cell_type": "code",
      "execution_count": null,
      "id": "9d5d823e-caea-47c6-b4a5-81e26e97bf4c",
      "metadata": {
        "id": "9d5d823e-caea-47c6-b4a5-81e26e97bf4c",
        "outputId": "1081af12-c7ee-4e12-a310-38c6a5fd72bc"
      },
      "outputs": [
        {
          "name": "stderr",
          "output_type": "stream",
          "text": [
            "\u001b[34m\u001b[1mwandb\u001b[0m: Currently logged in as: \u001b[33mdrscotthawley\u001b[0m to \u001b[32mhttps://api.wandb.ai\u001b[0m. Use \u001b[1m`wandb login --relogin`\u001b[0m to force relogin\n",
            "/Users/shawley/envs/dlaie/lib/python3.11/site-packages/pydantic/main.py:309: UserWarning: Pydantic serializer warnings:\n",
            "  Expected `list[str]` but got `tuple` - serialized value may not be as expected\n",
            "  Expected `list[str]` but got `tuple` - serialized value may not be as expected\n",
            "  return self.__pydantic_serializer__.to_python(\n",
            "\u001b[34m\u001b[1mwandb\u001b[0m: \u001b[33mWARNING\u001b[0m Using a boolean value for 'reinit' is deprecated. Use 'return_previous' or 'finish_previous' instead.\n"
          ]
        },
        {
          "data": {
            "text/html": [],
            "text/plain": [
              "<IPython.core.display.HTML object>"
            ]
          },
          "metadata": {},
          "output_type": "display_data"
        },
        {
          "data": {
            "text/html": [
              "Tracking run with wandb version 0.21.4"
            ],
            "text/plain": [
              "<IPython.core.display.HTML object>"
            ]
          },
          "metadata": {},
          "output_type": "display_data"
        },
        {
          "data": {
            "text/html": [
              "Run data is saved locally in <code>/Users/shawley/Library/CloudStorage/OneDrive-BelmontUniversity/Teaching/DL_AIE_3895/github/DLAIE/Lessons/wandb/run-20250918_142036-sc2lqwt4</code>"
            ],
            "text/plain": [
              "<IPython.core.display.HTML object>"
            ]
          },
          "metadata": {},
          "output_type": "display_data"
        },
        {
          "data": {
            "text/html": [
              "Syncing run <strong><a href='https://wandb.ai/drscotthawley/skips_tutorial_CIFAR100/runs/sc2lqwt4' target=\"_blank\">shallow_cnn</a></strong> to <a href='https://wandb.ai/drscotthawley/skips_tutorial_CIFAR100' target=\"_blank\">Weights & Biases</a> (<a href='https://wandb.me/developer-guide' target=\"_blank\">docs</a>)<br>"
            ],
            "text/plain": [
              "<IPython.core.display.HTML object>"
            ]
          },
          "metadata": {},
          "output_type": "display_data"
        },
        {
          "data": {
            "text/html": [
              " View project at <a href='https://wandb.ai/drscotthawley/skips_tutorial_CIFAR100' target=\"_blank\">https://wandb.ai/drscotthawley/skips_tutorial_CIFAR100</a>"
            ],
            "text/plain": [
              "<IPython.core.display.HTML object>"
            ]
          },
          "metadata": {},
          "output_type": "display_data"
        },
        {
          "data": {
            "text/html": [
              " View run at <a href='https://wandb.ai/drscotthawley/skips_tutorial_CIFAR100/runs/sc2lqwt4' target=\"_blank\">https://wandb.ai/drscotthawley/skips_tutorial_CIFAR100/runs/sc2lqwt4</a>"
            ],
            "text/plain": [
              "<IPython.core.display.HTML object>"
            ]
          },
          "metadata": {},
          "output_type": "display_data"
        },
        {
          "name": "stderr",
          "output_type": "stream",
          "text": [
            "Epoch 1/30: 100%|██████████████████████| 391/391 [00:10<00:00, 38.30it/s, Train_Loss=4.0913]\n"
          ]
        },
        {
          "name": "stdout",
          "output_type": "stream",
          "text": [
            "Epoch 1: Test Loss: 4.0681, Test Acc: 8.30%\n"
          ]
        },
        {
          "name": "stderr",
          "output_type": "stream",
          "text": [
            "Epoch 2/30: 100%|██████████████████████| 391/391 [00:05<00:00, 66.03it/s, Train_Loss=3.8029]\n"
          ]
        },
        {
          "name": "stdout",
          "output_type": "stream",
          "text": [
            "Epoch 2: Test Loss: 3.6563, Test Acc: 16.31%\n"
          ]
        },
        {
          "name": "stderr",
          "output_type": "stream",
          "text": [
            "Epoch 3/30: 100%|██████████████████████| 391/391 [00:05<00:00, 67.72it/s, Train_Loss=3.8251]\n"
          ]
        },
        {
          "name": "stdout",
          "output_type": "stream",
          "text": [
            "Epoch 3: Test Loss: 3.3019, Test Acc: 23.77%\n"
          ]
        },
        {
          "name": "stderr",
          "output_type": "stream",
          "text": [
            "Epoch 4/30: 100%|██████████████████████| 391/391 [00:05<00:00, 67.59it/s, Train_Loss=2.7891]\n"
          ]
        },
        {
          "name": "stdout",
          "output_type": "stream",
          "text": [
            "Epoch 4: Test Loss: 3.0870, Test Acc: 27.76%\n"
          ]
        },
        {
          "name": "stderr",
          "output_type": "stream",
          "text": [
            "Epoch 5/30: 100%|██████████████████████| 391/391 [00:05<00:00, 66.79it/s, Train_Loss=3.6133]\n"
          ]
        },
        {
          "name": "stdout",
          "output_type": "stream",
          "text": [
            "Epoch 5: Test Loss: 2.8108, Test Acc: 35.12%\n"
          ]
        },
        {
          "name": "stderr",
          "output_type": "stream",
          "text": [
            "Epoch 6/30: 100%|██████████████████████| 391/391 [00:05<00:00, 67.53it/s, Train_Loss=3.6770]\n"
          ]
        },
        {
          "name": "stdout",
          "output_type": "stream",
          "text": [
            "Epoch 6: Test Loss: 2.7288, Test Acc: 36.70%\n"
          ]
        },
        {
          "name": "stderr",
          "output_type": "stream",
          "text": [
            "Epoch 7/30: 100%|██████████████████████| 391/391 [00:05<00:00, 66.82it/s, Train_Loss=3.2908]\n"
          ]
        },
        {
          "name": "stdout",
          "output_type": "stream",
          "text": [
            "Epoch 7: Test Loss: 2.6050, Test Acc: 38.66%\n"
          ]
        },
        {
          "name": "stderr",
          "output_type": "stream",
          "text": [
            "Epoch 8/30: 100%|██████████████████████| 391/391 [00:05<00:00, 66.68it/s, Train_Loss=2.8683]\n"
          ]
        },
        {
          "name": "stdout",
          "output_type": "stream",
          "text": [
            "Epoch 8: Test Loss: 2.4751, Test Acc: 42.80%\n"
          ]
        },
        {
          "name": "stderr",
          "output_type": "stream",
          "text": [
            "Epoch 9/30: 100%|██████████████████████| 391/391 [00:05<00:00, 67.63it/s, Train_Loss=2.4520]\n"
          ]
        },
        {
          "name": "stdout",
          "output_type": "stream",
          "text": [
            "Epoch 9: Test Loss: 2.4920, Test Acc: 42.20%\n"
          ]
        },
        {
          "name": "stderr",
          "output_type": "stream",
          "text": [
            "Epoch 10/30: 100%|█████████████████████| 391/391 [00:05<00:00, 67.62it/s, Train_Loss=2.6477]\n"
          ]
        },
        {
          "name": "stdout",
          "output_type": "stream",
          "text": [
            "Epoch 10: Test Loss: 2.4232, Test Acc: 43.14%\n"
          ]
        },
        {
          "name": "stderr",
          "output_type": "stream",
          "text": [
            "Epoch 11/30: 100%|█████████████████████| 391/391 [00:05<00:00, 66.83it/s, Train_Loss=2.6420]\n"
          ]
        },
        {
          "name": "stdout",
          "output_type": "stream",
          "text": [
            "Epoch 11: Test Loss: 2.3604, Test Acc: 46.15%\n"
          ]
        },
        {
          "name": "stderr",
          "output_type": "stream",
          "text": [
            "Epoch 12/30: 100%|█████████████████████| 391/391 [00:05<00:00, 67.33it/s, Train_Loss=2.4356]\n"
          ]
        },
        {
          "name": "stdout",
          "output_type": "stream",
          "text": [
            "Epoch 12: Test Loss: 2.3149, Test Acc: 47.66%\n"
          ]
        },
        {
          "name": "stderr",
          "output_type": "stream",
          "text": [
            "Epoch 13/30: 100%|█████████████████████| 391/391 [00:05<00:00, 67.48it/s, Train_Loss=2.3422]\n"
          ]
        },
        {
          "name": "stdout",
          "output_type": "stream",
          "text": [
            "Epoch 13: Test Loss: 2.2623, Test Acc: 47.95%\n"
          ]
        },
        {
          "name": "stderr",
          "output_type": "stream",
          "text": [
            "Epoch 14/30: 100%|█████████████████████| 391/391 [00:05<00:00, 66.65it/s, Train_Loss=2.4382]\n"
          ]
        },
        {
          "name": "stdout",
          "output_type": "stream",
          "text": [
            "Epoch 14: Test Loss: 2.2759, Test Acc: 48.18%\n"
          ]
        },
        {
          "name": "stderr",
          "output_type": "stream",
          "text": [
            "Epoch 15/30: 100%|█████████████████████| 391/391 [00:05<00:00, 67.48it/s, Train_Loss=2.9430]\n"
          ]
        },
        {
          "name": "stdout",
          "output_type": "stream",
          "text": [
            "Epoch 15: Test Loss: 2.1864, Test Acc: 49.32%\n"
          ]
        },
        {
          "name": "stderr",
          "output_type": "stream",
          "text": [
            "Epoch 16/30: 100%|█████████████████████| 391/391 [00:05<00:00, 67.22it/s, Train_Loss=2.0647]\n"
          ]
        },
        {
          "name": "stdout",
          "output_type": "stream",
          "text": [
            "Epoch 16: Test Loss: 2.2208, Test Acc: 49.74%\n"
          ]
        },
        {
          "name": "stderr",
          "output_type": "stream",
          "text": [
            "Epoch 17/30: 100%|█████████████████████| 391/391 [00:05<00:00, 66.26it/s, Train_Loss=2.5962]\n"
          ]
        },
        {
          "name": "stdout",
          "output_type": "stream",
          "text": [
            "Epoch 17: Test Loss: 2.2178, Test Acc: 50.69%\n"
          ]
        },
        {
          "name": "stderr",
          "output_type": "stream",
          "text": [
            "Epoch 18/30: 100%|█████████████████████| 391/391 [00:05<00:00, 65.30it/s, Train_Loss=2.3390]\n"
          ]
        },
        {
          "name": "stdout",
          "output_type": "stream",
          "text": [
            "Epoch 18: Test Loss: 2.1861, Test Acc: 50.34%\n"
          ]
        },
        {
          "name": "stderr",
          "output_type": "stream",
          "text": [
            "Epoch 19/30: 100%|█████████████████████| 391/391 [00:06<00:00, 64.42it/s, Train_Loss=2.8341]\n"
          ]
        },
        {
          "name": "stdout",
          "output_type": "stream",
          "text": [
            "Epoch 19: Test Loss: 2.1014, Test Acc: 52.62%\n"
          ]
        },
        {
          "name": "stderr",
          "output_type": "stream",
          "text": [
            "Epoch 20/30: 100%|█████████████████████| 391/391 [00:05<00:00, 66.29it/s, Train_Loss=2.0153]\n"
          ]
        },
        {
          "name": "stdout",
          "output_type": "stream",
          "text": [
            "Epoch 20: Test Loss: 2.1412, Test Acc: 51.58%\n"
          ]
        },
        {
          "name": "stderr",
          "output_type": "stream",
          "text": [
            "Epoch 21/30: 100%|█████████████████████| 391/391 [00:05<00:00, 65.90it/s, Train_Loss=2.0402]\n"
          ]
        },
        {
          "name": "stdout",
          "output_type": "stream",
          "text": [
            "Epoch 21: Test Loss: 2.0449, Test Acc: 54.03%\n"
          ]
        },
        {
          "name": "stderr",
          "output_type": "stream",
          "text": [
            "Epoch 22/30: 100%|█████████████████████| 391/391 [00:06<00:00, 65.04it/s, Train_Loss=2.3193]\n"
          ]
        },
        {
          "name": "stdout",
          "output_type": "stream",
          "text": [
            "Epoch 22: Test Loss: 2.0617, Test Acc: 54.27%\n"
          ]
        },
        {
          "name": "stderr",
          "output_type": "stream",
          "text": [
            "Epoch 23/30: 100%|█████████████████████| 391/391 [00:05<00:00, 66.66it/s, Train_Loss=2.1285]\n"
          ]
        },
        {
          "name": "stdout",
          "output_type": "stream",
          "text": [
            "Epoch 23: Test Loss: 2.1230, Test Acc: 52.13%\n"
          ]
        },
        {
          "name": "stderr",
          "output_type": "stream",
          "text": [
            "Epoch 24/30: 100%|█████████████████████| 391/391 [00:05<00:00, 67.15it/s, Train_Loss=2.0056]\n"
          ]
        },
        {
          "name": "stdout",
          "output_type": "stream",
          "text": [
            "Epoch 24: Test Loss: 2.0655, Test Acc: 53.56%\n"
          ]
        },
        {
          "name": "stderr",
          "output_type": "stream",
          "text": [
            "Epoch 25/30: 100%|█████████████████████| 391/391 [00:05<00:00, 67.17it/s, Train_Loss=2.3568]\n"
          ]
        },
        {
          "name": "stdout",
          "output_type": "stream",
          "text": [
            "Epoch 25: Test Loss: 2.0599, Test Acc: 53.32%\n"
          ]
        },
        {
          "name": "stderr",
          "output_type": "stream",
          "text": [
            "Epoch 26/30: 100%|█████████████████████| 391/391 [00:05<00:00, 66.60it/s, Train_Loss=2.3950]\n"
          ]
        },
        {
          "name": "stdout",
          "output_type": "stream",
          "text": [
            "Epoch 26: Test Loss: 2.0343, Test Acc: 54.47%\n"
          ]
        },
        {
          "name": "stderr",
          "output_type": "stream",
          "text": [
            "Epoch 27/30: 100%|█████████████████████| 391/391 [00:05<00:00, 66.93it/s, Train_Loss=3.2414]\n"
          ]
        },
        {
          "name": "stdout",
          "output_type": "stream",
          "text": [
            "Epoch 27: Test Loss: 2.1032, Test Acc: 53.36%\n"
          ]
        },
        {
          "name": "stderr",
          "output_type": "stream",
          "text": [
            "Epoch 28/30: 100%|█████████████████████| 391/391 [00:05<00:00, 65.44it/s, Train_Loss=2.2485]\n"
          ]
        },
        {
          "name": "stdout",
          "output_type": "stream",
          "text": [
            "Epoch 28: Test Loss: 2.0472, Test Acc: 53.99%\n"
          ]
        },
        {
          "name": "stderr",
          "output_type": "stream",
          "text": [
            "Epoch 29/30: 100%|█████████████████████| 391/391 [00:05<00:00, 66.47it/s, Train_Loss=2.3113]\n"
          ]
        },
        {
          "name": "stdout",
          "output_type": "stream",
          "text": [
            "Epoch 29: Test Loss: 2.0491, Test Acc: 54.35%\n"
          ]
        },
        {
          "name": "stderr",
          "output_type": "stream",
          "text": [
            "Epoch 30/30: 100%|█████████████████████| 391/391 [00:06<00:00, 65.10it/s, Train_Loss=1.9582]\n"
          ]
        },
        {
          "name": "stdout",
          "output_type": "stream",
          "text": [
            "Epoch 30: Test Loss: 2.0820, Test Acc: 53.42%\n"
          ]
        },
        {
          "data": {
            "text/html": [],
            "text/plain": [
              "<IPython.core.display.HTML object>"
            ]
          },
          "metadata": {},
          "output_type": "display_data"
        },
        {
          "data": {
            "text/html": [
              "<br>    <style><br>        .wandb-row {<br>            display: flex;<br>            flex-direction: row;<br>            flex-wrap: wrap;<br>            justify-content: flex-start;<br>            width: 100%;<br>        }<br>        .wandb-col {<br>            display: flex;<br>            flex-direction: column;<br>            flex-basis: 100%;<br>            flex: 1;<br>            padding: 10px;<br>        }<br>    </style><br><div class=\"wandb-row\"><div class=\"wandb-col\"><h3>Run history:</h3><br/><table class=\"wandb\"><tr><td>epoch</td><td>▁▁▁▂▂▂▂▂▂▂▃▃▃▃▃▃▄▅▅▅▅▅▅▅▅▅▆▆▆▆▆▆▇▇▇▇████</td></tr><tr><td>step</td><td>▁▂▂▂▂▂▂▃▃▃▃▃▃▄▄▄▄▄▄▄▅▅▅▅▅▅▆▆▆▆▆▆▆▆▇▇▇▇██</td></tr><tr><td>test_accuracy</td><td>▁▂▃▄▅▅▆▆▆▆▇▇▇▇▇▇▇▇████████████</td></tr><tr><td>test_loss</td><td>█▇▅▅▄▃▃▃▃▂▂▂▂▂▂▂▂▂▁▁▁▁▁▁▁▁▁▁▁▁</td></tr><tr><td>train_loss</td><td>██▇▆▇▅▆▃▃▃▂▂▂▆▆▂▁▆▂▁▅▃▃▅▂▂▂▄▂▁▃▅▂▁▃▁▂▃▅▁</td></tr></table><br/></div><div class=\"wandb-col\"><h3>Run summary:</h3><br/><table class=\"wandb\"><tr><td>epoch</td><td>30</td></tr><tr><td>step</td><td>11729</td></tr><tr><td>test_accuracy</td><td>53.42</td></tr><tr><td>test_loss</td><td>2.08201</td></tr><tr><td>train_loss</td><td>1.95818</td></tr></table><br/></div></div>"
            ],
            "text/plain": [
              "<IPython.core.display.HTML object>"
            ]
          },
          "metadata": {},
          "output_type": "display_data"
        },
        {
          "data": {
            "text/html": [
              " View run <strong style=\"color:#cdcd00\">shallow_cnn</strong> at: <a href='https://wandb.ai/drscotthawley/skips_tutorial_CIFAR100/runs/sc2lqwt4' target=\"_blank\">https://wandb.ai/drscotthawley/skips_tutorial_CIFAR100/runs/sc2lqwt4</a><br> View project at: <a href='https://wandb.ai/drscotthawley/skips_tutorial_CIFAR100' target=\"_blank\">https://wandb.ai/drscotthawley/skips_tutorial_CIFAR100</a><br>Synced 5 W&B file(s), 0 media file(s), 0 artifact file(s) and 0 other file(s)"
            ],
            "text/plain": [
              "<IPython.core.display.HTML object>"
            ]
          },
          "metadata": {},
          "output_type": "display_data"
        },
        {
          "data": {
            "text/html": [
              "Find logs at: <code>./wandb/run-20250918_142036-sc2lqwt4/logs</code>"
            ],
            "text/plain": [
              "<IPython.core.display.HTML object>"
            ]
          },
          "metadata": {},
          "output_type": "display_data"
        },
        {
          "data": {
            "text/plain": [
              "53.42"
            ]
          },
          "execution_count": 10,
          "metadata": {},
          "output_type": "execute_result"
        }
      ],
      "source": [
        "shallow_cnn = StandardCNN(blocks_per_level=1).to(device)\n",
        "train_model(shallow_cnn, train_loader, val_loader, name=\"shallow_cnn\")"
      ]
    },
    {
      "cell_type": "markdown",
      "id": "6912c6c7-b78e-496f-a9e9-6de6c68d276d",
      "metadata": {
        "id": "6912c6c7-b78e-496f-a9e9-6de6c68d276d"
      },
      "source": [
        "And now the shallow ResNet (probably won't show much difference)..."
      ]
    },
    {
      "cell_type": "code",
      "execution_count": null,
      "id": "2f116937-2334-43ad-bed4-d08eca3d34ee",
      "metadata": {
        "id": "2f116937-2334-43ad-bed4-d08eca3d34ee",
        "outputId": "87d3bd15-0713-40c2-a76f-e7640c829181"
      },
      "outputs": [
        {
          "name": "stderr",
          "output_type": "stream",
          "text": [
            "/Users/shawley/envs/dlaie/lib/python3.11/site-packages/pydantic/main.py:309: UserWarning: Pydantic serializer warnings:\n",
            "  Expected `list[str]` but got `tuple` - serialized value may not be as expected\n",
            "  Expected `list[str]` but got `tuple` - serialized value may not be as expected\n",
            "  return self.__pydantic_serializer__.to_python(\n"
          ]
        },
        {
          "data": {
            "text/html": [],
            "text/plain": [
              "<IPython.core.display.HTML object>"
            ]
          },
          "metadata": {},
          "output_type": "display_data"
        },
        {
          "data": {
            "text/html": [
              "Tracking run with wandb version 0.21.4"
            ],
            "text/plain": [
              "<IPython.core.display.HTML object>"
            ]
          },
          "metadata": {},
          "output_type": "display_data"
        },
        {
          "data": {
            "text/html": [
              "Run data is saved locally in <code>/Users/shawley/Library/CloudStorage/OneDrive-BelmontUniversity/Teaching/DL_AIE_3895/github/DLAIE/Lessons/wandb/run-20250918_142519-sjo7ud69</code>"
            ],
            "text/plain": [
              "<IPython.core.display.HTML object>"
            ]
          },
          "metadata": {},
          "output_type": "display_data"
        },
        {
          "data": {
            "text/html": [
              "Syncing run <strong><a href='https://wandb.ai/drscotthawley/skips_tutorial_CIFAR100/runs/sjo7ud69' target=\"_blank\">shallow_resnet</a></strong> to <a href='https://wandb.ai/drscotthawley/skips_tutorial_CIFAR100' target=\"_blank\">Weights & Biases</a> (<a href='https://wandb.me/developer-guide' target=\"_blank\">docs</a>)<br>"
            ],
            "text/plain": [
              "<IPython.core.display.HTML object>"
            ]
          },
          "metadata": {},
          "output_type": "display_data"
        },
        {
          "data": {
            "text/html": [
              " View project at <a href='https://wandb.ai/drscotthawley/skips_tutorial_CIFAR100' target=\"_blank\">https://wandb.ai/drscotthawley/skips_tutorial_CIFAR100</a>"
            ],
            "text/plain": [
              "<IPython.core.display.HTML object>"
            ]
          },
          "metadata": {},
          "output_type": "display_data"
        },
        {
          "data": {
            "text/html": [
              " View run at <a href='https://wandb.ai/drscotthawley/skips_tutorial_CIFAR100/runs/sjo7ud69' target=\"_blank\">https://wandb.ai/drscotthawley/skips_tutorial_CIFAR100/runs/sjo7ud69</a>"
            ],
            "text/plain": [
              "<IPython.core.display.HTML object>"
            ]
          },
          "metadata": {},
          "output_type": "display_data"
        },
        {
          "name": "stderr",
          "output_type": "stream",
          "text": [
            "Epoch 1/30: 100%|██████████████████████| 391/391 [00:07<00:00, 55.65it/s, Train_Loss=3.7844]\n"
          ]
        },
        {
          "name": "stdout",
          "output_type": "stream",
          "text": [
            "Epoch 1: Test Loss: 3.7940, Test Acc: 13.01%\n"
          ]
        },
        {
          "name": "stderr",
          "output_type": "stream",
          "text": [
            "Epoch 2/30: 100%|██████████████████████| 391/391 [00:07<00:00, 54.33it/s, Train_Loss=3.9404]\n"
          ]
        },
        {
          "name": "stdout",
          "output_type": "stream",
          "text": [
            "Epoch 2: Test Loss: 3.4332, Test Acc: 19.60%\n"
          ]
        },
        {
          "name": "stderr",
          "output_type": "stream",
          "text": [
            "Epoch 3/30: 100%|██████████████████████| 391/391 [00:06<00:00, 56.11it/s, Train_Loss=3.2110]\n"
          ]
        },
        {
          "name": "stdout",
          "output_type": "stream",
          "text": [
            "Epoch 3: Test Loss: 3.0920, Test Acc: 27.28%\n"
          ]
        },
        {
          "name": "stderr",
          "output_type": "stream",
          "text": [
            "Epoch 4/30: 100%|██████████████████████| 391/391 [00:06<00:00, 56.26it/s, Train_Loss=2.9095]\n"
          ]
        },
        {
          "name": "stdout",
          "output_type": "stream",
          "text": [
            "Epoch 4: Test Loss: 2.7923, Test Acc: 34.17%\n"
          ]
        },
        {
          "name": "stderr",
          "output_type": "stream",
          "text": [
            "Epoch 5/30: 100%|██████████████████████| 391/391 [00:06<00:00, 56.48it/s, Train_Loss=2.6766]\n"
          ]
        },
        {
          "name": "stdout",
          "output_type": "stream",
          "text": [
            "Epoch 5: Test Loss: 2.6445, Test Acc: 37.77%\n"
          ]
        },
        {
          "name": "stderr",
          "output_type": "stream",
          "text": [
            "Epoch 6/30: 100%|██████████████████████| 391/391 [00:06<00:00, 56.91it/s, Train_Loss=2.6280]\n"
          ]
        },
        {
          "name": "stdout",
          "output_type": "stream",
          "text": [
            "Epoch 6: Test Loss: 2.4936, Test Acc: 41.23%\n"
          ]
        },
        {
          "name": "stderr",
          "output_type": "stream",
          "text": [
            "Epoch 7/30: 100%|██████████████████████| 391/391 [00:06<00:00, 57.76it/s, Train_Loss=2.1854]\n"
          ]
        },
        {
          "name": "stdout",
          "output_type": "stream",
          "text": [
            "Epoch 7: Test Loss: 2.3958, Test Acc: 44.37%\n"
          ]
        },
        {
          "name": "stderr",
          "output_type": "stream",
          "text": [
            "Epoch 8/30: 100%|██████████████████████| 391/391 [00:07<00:00, 55.14it/s, Train_Loss=3.3113]\n"
          ]
        },
        {
          "name": "stdout",
          "output_type": "stream",
          "text": [
            "Epoch 8: Test Loss: 2.3524, Test Acc: 44.78%\n"
          ]
        },
        {
          "name": "stderr",
          "output_type": "stream",
          "text": [
            "Epoch 9/30: 100%|██████████████████████| 391/391 [00:06<00:00, 56.91it/s, Train_Loss=3.0233]\n"
          ]
        },
        {
          "name": "stdout",
          "output_type": "stream",
          "text": [
            "Epoch 9: Test Loss: 2.3109, Test Acc: 46.57%\n"
          ]
        },
        {
          "name": "stderr",
          "output_type": "stream",
          "text": [
            "Epoch 10/30: 100%|█████████████████████| 391/391 [00:06<00:00, 57.25it/s, Train_Loss=2.2540]\n"
          ]
        },
        {
          "name": "stdout",
          "output_type": "stream",
          "text": [
            "Epoch 10: Test Loss: 2.2286, Test Acc: 47.77%\n"
          ]
        },
        {
          "name": "stderr",
          "output_type": "stream",
          "text": [
            "Epoch 11/30: 100%|█████████████████████| 391/391 [00:06<00:00, 56.45it/s, Train_Loss=3.2949]\n"
          ]
        },
        {
          "name": "stdout",
          "output_type": "stream",
          "text": [
            "Epoch 11: Test Loss: 2.2189, Test Acc: 48.92%\n"
          ]
        },
        {
          "name": "stderr",
          "output_type": "stream",
          "text": [
            "Epoch 12/30: 100%|█████████████████████| 391/391 [00:06<00:00, 56.42it/s, Train_Loss=2.3644]\n"
          ]
        },
        {
          "name": "stdout",
          "output_type": "stream",
          "text": [
            "Epoch 12: Test Loss: 2.0973, Test Acc: 51.25%\n"
          ]
        },
        {
          "name": "stderr",
          "output_type": "stream",
          "text": [
            "Epoch 13/30: 100%|█████████████████████| 391/391 [00:06<00:00, 56.73it/s, Train_Loss=3.4893]\n"
          ]
        },
        {
          "name": "stdout",
          "output_type": "stream",
          "text": [
            "Epoch 13: Test Loss: 2.1336, Test Acc: 51.06%\n"
          ]
        },
        {
          "name": "stderr",
          "output_type": "stream",
          "text": [
            "Epoch 14/30: 100%|█████████████████████| 391/391 [00:06<00:00, 57.08it/s, Train_Loss=2.1307]\n"
          ]
        },
        {
          "name": "stdout",
          "output_type": "stream",
          "text": [
            "Epoch 14: Test Loss: 2.0620, Test Acc: 52.94%\n"
          ]
        },
        {
          "name": "stderr",
          "output_type": "stream",
          "text": [
            "Epoch 15/30: 100%|█████████████████████| 391/391 [00:06<00:00, 56.49it/s, Train_Loss=2.2169]\n"
          ]
        },
        {
          "name": "stdout",
          "output_type": "stream",
          "text": [
            "Epoch 15: Test Loss: 2.0822, Test Acc: 52.33%\n"
          ]
        },
        {
          "name": "stderr",
          "output_type": "stream",
          "text": [
            "Epoch 16/30: 100%|█████████████████████| 391/391 [00:06<00:00, 56.72it/s, Train_Loss=3.0652]\n"
          ]
        },
        {
          "name": "stdout",
          "output_type": "stream",
          "text": [
            "Epoch 16: Test Loss: 2.0816, Test Acc: 52.50%\n"
          ]
        },
        {
          "name": "stderr",
          "output_type": "stream",
          "text": [
            "Epoch 17/30: 100%|█████████████████████| 391/391 [00:07<00:00, 55.83it/s, Train_Loss=3.6292]\n"
          ]
        },
        {
          "name": "stdout",
          "output_type": "stream",
          "text": [
            "Epoch 17: Test Loss: 2.0869, Test Acc: 52.60%\n"
          ]
        },
        {
          "name": "stderr",
          "output_type": "stream",
          "text": [
            "Epoch 18/30: 100%|█████████████████████| 391/391 [00:06<00:00, 57.11it/s, Train_Loss=2.4430]\n"
          ]
        },
        {
          "name": "stdout",
          "output_type": "stream",
          "text": [
            "Epoch 18: Test Loss: 1.9998, Test Acc: 55.25%\n"
          ]
        },
        {
          "name": "stderr",
          "output_type": "stream",
          "text": [
            "Epoch 19/30: 100%|█████████████████████| 391/391 [00:06<00:00, 57.63it/s, Train_Loss=3.0324]\n"
          ]
        },
        {
          "name": "stdout",
          "output_type": "stream",
          "text": [
            "Epoch 19: Test Loss: 2.0057, Test Acc: 54.58%\n"
          ]
        },
        {
          "name": "stderr",
          "output_type": "stream",
          "text": [
            "Epoch 20/30: 100%|█████████████████████| 391/391 [00:06<00:00, 58.10it/s, Train_Loss=2.0589]\n"
          ]
        },
        {
          "name": "stdout",
          "output_type": "stream",
          "text": [
            "Epoch 20: Test Loss: 1.9786, Test Acc: 55.79%\n"
          ]
        },
        {
          "name": "stderr",
          "output_type": "stream",
          "text": [
            "Epoch 21/30: 100%|█████████████████████| 391/391 [00:06<00:00, 58.14it/s, Train_Loss=2.1588]\n"
          ]
        },
        {
          "name": "stdout",
          "output_type": "stream",
          "text": [
            "Epoch 21: Test Loss: 1.9599, Test Acc: 56.04%\n"
          ]
        },
        {
          "name": "stderr",
          "output_type": "stream",
          "text": [
            "Epoch 22/30: 100%|█████████████████████| 391/391 [00:06<00:00, 58.13it/s, Train_Loss=2.0192]\n"
          ]
        },
        {
          "name": "stdout",
          "output_type": "stream",
          "text": [
            "Epoch 22: Test Loss: 1.9583, Test Acc: 56.43%\n"
          ]
        },
        {
          "name": "stderr",
          "output_type": "stream",
          "text": [
            "Epoch 23/30: 100%|█████████████████████| 391/391 [00:06<00:00, 58.11it/s, Train_Loss=2.1707]\n"
          ]
        },
        {
          "name": "stdout",
          "output_type": "stream",
          "text": [
            "Epoch 23: Test Loss: 1.9546, Test Acc: 56.65%\n"
          ]
        },
        {
          "name": "stderr",
          "output_type": "stream",
          "text": [
            "Epoch 24/30: 100%|█████████████████████| 391/391 [00:06<00:00, 57.13it/s, Train_Loss=1.9199]\n"
          ]
        },
        {
          "name": "stdout",
          "output_type": "stream",
          "text": [
            "Epoch 24: Test Loss: 1.9228, Test Acc: 57.14%\n"
          ]
        },
        {
          "name": "stderr",
          "output_type": "stream",
          "text": [
            "Epoch 25/30: 100%|█████████████████████| 391/391 [00:06<00:00, 57.59it/s, Train_Loss=3.6869]\n"
          ]
        },
        {
          "name": "stdout",
          "output_type": "stream",
          "text": [
            "Epoch 25: Test Loss: 1.9471, Test Acc: 56.27%\n"
          ]
        },
        {
          "name": "stderr",
          "output_type": "stream",
          "text": [
            "Epoch 26/30: 100%|█████████████████████| 391/391 [00:06<00:00, 56.26it/s, Train_Loss=2.3404]\n"
          ]
        },
        {
          "name": "stdout",
          "output_type": "stream",
          "text": [
            "Epoch 26: Test Loss: 1.9243, Test Acc: 57.72%\n"
          ]
        },
        {
          "name": "stderr",
          "output_type": "stream",
          "text": [
            "Epoch 27/30: 100%|█████████████████████| 391/391 [00:07<00:00, 55.79it/s, Train_Loss=1.8023]\n"
          ]
        },
        {
          "name": "stdout",
          "output_type": "stream",
          "text": [
            "Epoch 27: Test Loss: 1.8709, Test Acc: 58.21%\n"
          ]
        },
        {
          "name": "stderr",
          "output_type": "stream",
          "text": [
            "Epoch 28/30: 100%|█████████████████████| 391/391 [00:06<00:00, 57.40it/s, Train_Loss=2.4724]\n"
          ]
        },
        {
          "name": "stdout",
          "output_type": "stream",
          "text": [
            "Epoch 28: Test Loss: 1.9426, Test Acc: 56.14%\n"
          ]
        },
        {
          "name": "stderr",
          "output_type": "stream",
          "text": [
            "Epoch 29/30: 100%|█████████████████████| 391/391 [00:06<00:00, 57.54it/s, Train_Loss=1.9535]\n"
          ]
        },
        {
          "name": "stdout",
          "output_type": "stream",
          "text": [
            "Epoch 29: Test Loss: 1.8693, Test Acc: 58.24%\n"
          ]
        },
        {
          "name": "stderr",
          "output_type": "stream",
          "text": [
            "Epoch 30/30: 100%|█████████████████████| 391/391 [00:06<00:00, 56.33it/s, Train_Loss=1.7025]\n"
          ]
        },
        {
          "name": "stdout",
          "output_type": "stream",
          "text": [
            "Epoch 30: Test Loss: 1.9116, Test Acc: 58.14%\n"
          ]
        },
        {
          "data": {
            "text/html": [],
            "text/plain": [
              "<IPython.core.display.HTML object>"
            ]
          },
          "metadata": {},
          "output_type": "display_data"
        },
        {
          "data": {
            "text/html": [
              "<br>    <style><br>        .wandb-row {<br>            display: flex;<br>            flex-direction: row;<br>            flex-wrap: wrap;<br>            justify-content: flex-start;<br>            width: 100%;<br>        }<br>        .wandb-col {<br>            display: flex;<br>            flex-direction: column;<br>            flex-basis: 100%;<br>            flex: 1;<br>            padding: 10px;<br>        }<br>    </style><br><div class=\"wandb-row\"><div class=\"wandb-col\"><h3>Run history:</h3><br/><table class=\"wandb\"><tr><td>epoch</td><td>▁▁▁▂▂▂▂▂▂▂▃▃▃▃▃▃▃▃▃▃▄▄▄▄▅▅▅▅▆▆▆▆▇▇▇▇▇███</td></tr><tr><td>step</td><td>▁▁▁▁▁▂▂▂▂▃▃▃▃▃▃▃▄▄▄▄▅▅▅▅▅▆▆▆▆▆▆▇▇▇▇▇▇▇▇█</td></tr><tr><td>test_accuracy</td><td>▁▂▃▄▅▅▆▆▆▆▇▇▇▇▇▇▇█▇███████████</td></tr><tr><td>test_loss</td><td>█▇▅▄▄▃▃▃▃▂▂▂▂▂▂▂▂▁▁▁▁▁▁▁▁▁▁▁▁▁</td></tr><tr><td>train_loss</td><td>█▆▆▇▅▄▄▄▇▄▅▆▄▅▂▃▅▂█▃▆▇▂▃▂▂▅▂▄▂▅▁▄▁▁▆▇▁▇▄</td></tr></table><br/></div><div class=\"wandb-col\"><h3>Run summary:</h3><br/><table class=\"wandb\"><tr><td>epoch</td><td>30</td></tr><tr><td>step</td><td>11729</td></tr><tr><td>test_accuracy</td><td>58.14</td></tr><tr><td>test_loss</td><td>1.91156</td></tr><tr><td>train_loss</td><td>1.70254</td></tr></table><br/></div></div>"
            ],
            "text/plain": [
              "<IPython.core.display.HTML object>"
            ]
          },
          "metadata": {},
          "output_type": "display_data"
        },
        {
          "data": {
            "text/html": [
              " View run <strong style=\"color:#cdcd00\">shallow_resnet</strong> at: <a href='https://wandb.ai/drscotthawley/skips_tutorial_CIFAR100/runs/sjo7ud69' target=\"_blank\">https://wandb.ai/drscotthawley/skips_tutorial_CIFAR100/runs/sjo7ud69</a><br> View project at: <a href='https://wandb.ai/drscotthawley/skips_tutorial_CIFAR100' target=\"_blank\">https://wandb.ai/drscotthawley/skips_tutorial_CIFAR100</a><br>Synced 5 W&B file(s), 0 media file(s), 0 artifact file(s) and 0 other file(s)"
            ],
            "text/plain": [
              "<IPython.core.display.HTML object>"
            ]
          },
          "metadata": {},
          "output_type": "display_data"
        },
        {
          "data": {
            "text/html": [
              "Find logs at: <code>./wandb/run-20250918_142519-sjo7ud69/logs</code>"
            ],
            "text/plain": [
              "<IPython.core.display.HTML object>"
            ]
          },
          "metadata": {},
          "output_type": "display_data"
        },
        {
          "data": {
            "text/plain": [
              "58.14"
            ]
          },
          "execution_count": 14,
          "metadata": {},
          "output_type": "execute_result"
        }
      ],
      "source": [
        "#del shallow_cnn # free up GPU\n",
        "\n",
        "shallow_resnet = ResNet(blocks_per_level=1).to(device)\n",
        "train_model(shallow_resnet, train_loader, val_loader, name=\"shallow_resnet\")"
      ]
    },
    {
      "cell_type": "code",
      "execution_count": null,
      "id": "c907917b-c481-4f1a-9c60-7cd28e897d1f",
      "metadata": {
        "id": "c907917b-c481-4f1a-9c60-7cd28e897d1f"
      },
      "outputs": [],
      "source": [
        "train_loader = DataLoader(train_dataset, batch_size=batch_size, shuffle=True, num_workers=4)\n",
        "val_loader = DataLoader(val_dataset, batch_size=batch_size, shuffle=False, num_workers=4)"
      ]
    },
    {
      "cell_type": "code",
      "execution_count": null,
      "id": "d4116ca3-4b21-4d0d-8db5-ece0bba59355",
      "metadata": {
        "scrolled": true,
        "id": "d4116ca3-4b21-4d0d-8db5-ece0bba59355",
        "outputId": "087c71b7-7404-44fc-c69d-ba7af7bcdcb6"
      },
      "outputs": [
        {
          "data": {
            "text/html": [
              "Finishing previous runs because reinit is set to True."
            ],
            "text/plain": [
              "<IPython.core.display.HTML object>"
            ]
          },
          "metadata": {},
          "output_type": "display_data"
        },
        {
          "data": {
            "text/html": [],
            "text/plain": [
              "<IPython.core.display.HTML object>"
            ]
          },
          "metadata": {},
          "output_type": "display_data"
        },
        {
          "data": {
            "text/html": [
              " View run <strong style=\"color:#cdcd00\">deep_resnet</strong> at: <a href='https://wandb.ai/drscotthawley/skips_tutorial_CIFAR100/runs/j13n2xml' target=\"_blank\">https://wandb.ai/drscotthawley/skips_tutorial_CIFAR100/runs/j13n2xml</a><br> View project at: <a href='https://wandb.ai/drscotthawley/skips_tutorial_CIFAR100' target=\"_blank\">https://wandb.ai/drscotthawley/skips_tutorial_CIFAR100</a><br>Synced 5 W&B file(s), 0 media file(s), 0 artifact file(s) and 0 other file(s)"
            ],
            "text/plain": [
              "<IPython.core.display.HTML object>"
            ]
          },
          "metadata": {},
          "output_type": "display_data"
        },
        {
          "data": {
            "text/html": [
              "Find logs at: <code>./wandb/run-20250918_143247-j13n2xml/logs</code>"
            ],
            "text/plain": [
              "<IPython.core.display.HTML object>"
            ]
          },
          "metadata": {},
          "output_type": "display_data"
        },
        {
          "data": {
            "text/html": [],
            "text/plain": [
              "<IPython.core.display.HTML object>"
            ]
          },
          "metadata": {},
          "output_type": "display_data"
        },
        {
          "data": {
            "text/html": [
              "Tracking run with wandb version 0.21.4"
            ],
            "text/plain": [
              "<IPython.core.display.HTML object>"
            ]
          },
          "metadata": {},
          "output_type": "display_data"
        },
        {
          "data": {
            "text/html": [
              "Run data is saved locally in <code>/Users/shawley/Library/CloudStorage/OneDrive-BelmontUniversity/Teaching/DL_AIE_3895/github/DLAIE/Lessons/wandb/run-20250918_143648-vmptyqhg</code>"
            ],
            "text/plain": [
              "<IPython.core.display.HTML object>"
            ]
          },
          "metadata": {},
          "output_type": "display_data"
        },
        {
          "data": {
            "text/html": [
              "Syncing run <strong><a href='https://wandb.ai/drscotthawley/skips_tutorial_CIFAR100/runs/vmptyqhg' target=\"_blank\">deep_resnet</a></strong> to <a href='https://wandb.ai/drscotthawley/skips_tutorial_CIFAR100' target=\"_blank\">Weights & Biases</a> (<a href='https://wandb.me/developer-guide' target=\"_blank\">docs</a>)<br>"
            ],
            "text/plain": [
              "<IPython.core.display.HTML object>"
            ]
          },
          "metadata": {},
          "output_type": "display_data"
        },
        {
          "data": {
            "text/html": [
              " View project at <a href='https://wandb.ai/drscotthawley/skips_tutorial_CIFAR100' target=\"_blank\">https://wandb.ai/drscotthawley/skips_tutorial_CIFAR100</a>"
            ],
            "text/plain": [
              "<IPython.core.display.HTML object>"
            ]
          },
          "metadata": {},
          "output_type": "display_data"
        },
        {
          "data": {
            "text/html": [
              " View run at <a href='https://wandb.ai/drscotthawley/skips_tutorial_CIFAR100/runs/vmptyqhg' target=\"_blank\">https://wandb.ai/drscotthawley/skips_tutorial_CIFAR100/runs/vmptyqhg</a>"
            ],
            "text/plain": [
              "<IPython.core.display.HTML object>"
            ]
          },
          "metadata": {},
          "output_type": "display_data"
        },
        {
          "name": "stderr",
          "output_type": "stream",
          "text": [
            "Epoch 1/30: 100%|██████████████████████| 391/391 [00:48<00:00,  8.10it/s, Train_Loss=3.9410]\n"
          ]
        },
        {
          "name": "stdout",
          "output_type": "stream",
          "text": [
            "Epoch 1: Test Loss: 3.8837, Test Acc: 10.79%\n"
          ]
        },
        {
          "name": "stderr",
          "output_type": "stream",
          "text": [
            "Epoch 2/30: 100%|██████████████████████| 391/391 [00:47<00:00,  8.19it/s, Train_Loss=3.8828]\n"
          ]
        },
        {
          "name": "stdout",
          "output_type": "stream",
          "text": [
            "Epoch 2: Test Loss: 3.4294, Test Acc: 19.58%\n"
          ]
        },
        {
          "name": "stderr",
          "output_type": "stream",
          "text": [
            "Epoch 3/30: 100%|██████████████████████| 391/391 [00:48<00:00,  8.12it/s, Train_Loss=3.4209]\n"
          ]
        },
        {
          "name": "stdout",
          "output_type": "stream",
          "text": [
            "Epoch 3: Test Loss: 3.1250, Test Acc: 26.65%\n"
          ]
        },
        {
          "name": "stderr",
          "output_type": "stream",
          "text": [
            "Epoch 4/30: 100%|██████████████████████| 391/391 [00:47<00:00,  8.21it/s, Train_Loss=2.7226]\n"
          ]
        },
        {
          "name": "stdout",
          "output_type": "stream",
          "text": [
            "Epoch 4: Test Loss: 2.7720, Test Acc: 34.60%\n"
          ]
        },
        {
          "name": "stderr",
          "output_type": "stream",
          "text": [
            "Epoch 5/30: 100%|██████████████████████| 391/391 [00:49<00:00,  7.92it/s, Train_Loss=2.7091]\n"
          ]
        },
        {
          "name": "stdout",
          "output_type": "stream",
          "text": [
            "Epoch 5: Test Loss: 2.5280, Test Acc: 39.41%\n"
          ]
        },
        {
          "name": "stderr",
          "output_type": "stream",
          "text": [
            "Epoch 6/30: 100%|██████████████████████| 391/391 [00:47<00:00,  8.24it/s, Train_Loss=2.6111]\n"
          ]
        },
        {
          "name": "stdout",
          "output_type": "stream",
          "text": [
            "Epoch 6: Test Loss: 2.4433, Test Acc: 42.00%\n"
          ]
        },
        {
          "name": "stderr",
          "output_type": "stream",
          "text": [
            "Epoch 7/30: 100%|██████████████████████| 391/391 [00:47<00:00,  8.17it/s, Train_Loss=2.8806]\n"
          ]
        },
        {
          "name": "stdout",
          "output_type": "stream",
          "text": [
            "Epoch 7: Test Loss: 2.3090, Test Acc: 45.81%\n"
          ]
        },
        {
          "name": "stderr",
          "output_type": "stream",
          "text": [
            "Epoch 8/30: 100%|██████████████████████| 391/391 [00:47<00:00,  8.29it/s, Train_Loss=2.3266]\n"
          ]
        },
        {
          "name": "stdout",
          "output_type": "stream",
          "text": [
            "Epoch 8: Test Loss: 2.2460, Test Acc: 47.38%\n"
          ]
        },
        {
          "name": "stderr",
          "output_type": "stream",
          "text": [
            "Epoch 9/30: 100%|██████████████████████| 391/391 [00:47<00:00,  8.25it/s, Train_Loss=2.1369]\n"
          ]
        },
        {
          "name": "stdout",
          "output_type": "stream",
          "text": [
            "Epoch 9: Test Loss: 2.1059, Test Acc: 51.18%\n"
          ]
        },
        {
          "name": "stderr",
          "output_type": "stream",
          "text": [
            "Epoch 10/30: 100%|█████████████████████| 391/391 [00:47<00:00,  8.22it/s, Train_Loss=2.0697]\n"
          ]
        },
        {
          "name": "stdout",
          "output_type": "stream",
          "text": [
            "Epoch 10: Test Loss: 2.0538, Test Acc: 52.48%\n"
          ]
        },
        {
          "name": "stderr",
          "output_type": "stream",
          "text": [
            "Epoch 11/30: 100%|█████████████████████| 391/391 [00:48<00:00,  8.05it/s, Train_Loss=3.8610]\n"
          ]
        },
        {
          "name": "stdout",
          "output_type": "stream",
          "text": [
            "Epoch 11: Test Loss: 2.0332, Test Acc: 53.57%\n"
          ]
        },
        {
          "name": "stderr",
          "output_type": "stream",
          "text": [
            "Epoch 12/30: 100%|█████████████████████| 391/391 [00:47<00:00,  8.25it/s, Train_Loss=2.0302]\n"
          ]
        },
        {
          "name": "stdout",
          "output_type": "stream",
          "text": [
            "Epoch 12: Test Loss: 1.9474, Test Acc: 55.74%\n"
          ]
        },
        {
          "name": "stderr",
          "output_type": "stream",
          "text": [
            "Epoch 13/30: 100%|█████████████████████| 391/391 [00:48<00:00,  8.07it/s, Train_Loss=2.1472]\n"
          ]
        },
        {
          "name": "stdout",
          "output_type": "stream",
          "text": [
            "Epoch 13: Test Loss: 1.9488, Test Acc: 55.42%\n"
          ]
        },
        {
          "name": "stderr",
          "output_type": "stream",
          "text": [
            "Epoch 14/30: 100%|█████████████████████| 391/391 [00:48<00:00,  8.09it/s, Train_Loss=2.6800]\n"
          ]
        },
        {
          "name": "stdout",
          "output_type": "stream",
          "text": [
            "Epoch 14: Test Loss: 1.9557, Test Acc: 55.33%\n"
          ]
        },
        {
          "name": "stderr",
          "output_type": "stream",
          "text": [
            "Epoch 15/30:   7%|█▋                    | 29/391 [00:08<00:21, 16.78it/s, Train_Loss=3.0257]"
          ]
        }
      ],
      "source": [
        "#del shallow_resnet # free up GPU\n",
        "\n",
        "deep_resnet = ResNet(blocks_per_level=4).to(device)\n",
        "train_model(deep_resnet, train_loader, val_loader, name=\"deep_resnet\")"
      ]
    },
    {
      "cell_type": "code",
      "execution_count": null,
      "id": "b4fcc82c-b3c6-42f1-aec6-5ba0d1808f78",
      "metadata": {
        "id": "b4fcc82c-b3c6-42f1-aec6-5ba0d1808f78",
        "outputId": "4bda638d-8cc8-4a37-fe3c-c2a693cbd83a"
      },
      "outputs": [
        {
          "data": {
            "text/html": [],
            "text/plain": [
              "<IPython.core.display.HTML object>"
            ]
          },
          "metadata": {},
          "output_type": "display_data"
        },
        {
          "data": {
            "text/html": [
              "Tracking run with wandb version 0.21.4"
            ],
            "text/plain": [
              "<IPython.core.display.HTML object>"
            ]
          },
          "metadata": {},
          "output_type": "display_data"
        },
        {
          "data": {
            "text/html": [
              "Run data is saved locally in <code>/Users/shawley/Library/CloudStorage/OneDrive-BelmontUniversity/Teaching/DL_AIE_3895/github/DLAIE/Lessons/wandb/run-20250918_142937-d56l25i4</code>"
            ],
            "text/plain": [
              "<IPython.core.display.HTML object>"
            ]
          },
          "metadata": {},
          "output_type": "display_data"
        },
        {
          "data": {
            "text/html": [
              "Syncing run <strong><a href='https://wandb.ai/drscotthawley/skips_tutorial_CIFAR100/runs/d56l25i4' target=\"_blank\">deep_cnn</a></strong> to <a href='https://wandb.ai/drscotthawley/skips_tutorial_CIFAR100' target=\"_blank\">Weights & Biases</a> (<a href='https://wandb.me/developer-guide' target=\"_blank\">docs</a>)<br>"
            ],
            "text/plain": [
              "<IPython.core.display.HTML object>"
            ]
          },
          "metadata": {},
          "output_type": "display_data"
        },
        {
          "data": {
            "text/html": [
              " View project at <a href='https://wandb.ai/drscotthawley/skips_tutorial_CIFAR100' target=\"_blank\">https://wandb.ai/drscotthawley/skips_tutorial_CIFAR100</a>"
            ],
            "text/plain": [
              "<IPython.core.display.HTML object>"
            ]
          },
          "metadata": {},
          "output_type": "display_data"
        },
        {
          "data": {
            "text/html": [
              " View run at <a href='https://wandb.ai/drscotthawley/skips_tutorial_CIFAR100/runs/d56l25i4' target=\"_blank\">https://wandb.ai/drscotthawley/skips_tutorial_CIFAR100/runs/d56l25i4</a>"
            ],
            "text/plain": [
              "<IPython.core.display.HTML object>"
            ]
          },
          "metadata": {},
          "output_type": "display_data"
        },
        {
          "name": "stderr",
          "output_type": "stream",
          "text": [
            "Epoch 1/30: 100%|██████████████████████| 391/391 [00:16<00:00, 23.47it/s, Train_Loss=4.5134]\n"
          ]
        },
        {
          "name": "stdout",
          "output_type": "stream",
          "text": [
            "Epoch 1: Test Loss: 4.3898, Test Acc: 2.71%\n"
          ]
        },
        {
          "name": "stderr",
          "output_type": "stream",
          "text": [
            "Epoch 2/30: 100%|██████████████████████| 391/391 [00:16<00:00, 23.33it/s, Train_Loss=4.2391]\n"
          ]
        },
        {
          "name": "stdout",
          "output_type": "stream",
          "text": [
            "Epoch 2: Test Loss: 4.3722, Test Acc: 3.46%\n"
          ]
        },
        {
          "name": "stderr",
          "output_type": "stream",
          "text": [
            "Epoch 3/30: 100%|██████████████████████| 391/391 [00:16<00:00, 23.11it/s, Train_Loss=4.6090]\n"
          ]
        },
        {
          "name": "stdout",
          "output_type": "stream",
          "text": [
            "Epoch 3: Test Loss: 4.6065, Test Acc: 1.00%\n"
          ]
        },
        {
          "name": "stderr",
          "output_type": "stream",
          "text": [
            "Epoch 4/30: 100%|██████████████████████| 391/391 [00:16<00:00, 23.36it/s, Train_Loss=4.6062]\n"
          ]
        },
        {
          "name": "stdout",
          "output_type": "stream",
          "text": [
            "Epoch 4: Test Loss: 4.6053, Test Acc: 1.00%\n"
          ]
        },
        {
          "name": "stderr",
          "output_type": "stream",
          "text": [
            "Epoch 5/30: 100%|██████████████████████| 391/391 [00:16<00:00, 23.58it/s, Train_Loss=4.6071]\n"
          ]
        },
        {
          "name": "stdout",
          "output_type": "stream",
          "text": [
            "Epoch 5: Test Loss: 4.6052, Test Acc: 1.00%\n"
          ]
        },
        {
          "name": "stderr",
          "output_type": "stream",
          "text": [
            "Epoch 6/30: 100%|██████████████████████| 391/391 [00:16<00:00, 23.49it/s, Train_Loss=4.6069]\n"
          ]
        },
        {
          "name": "stdout",
          "output_type": "stream",
          "text": [
            "Epoch 6: Test Loss: 4.6053, Test Acc: 1.00%\n"
          ]
        },
        {
          "name": "stderr",
          "output_type": "stream",
          "text": [
            "Epoch 7/30: 100%|██████████████████████| 391/391 [00:16<00:00, 23.67it/s, Train_Loss=4.6069]\n"
          ]
        },
        {
          "name": "stdout",
          "output_type": "stream",
          "text": [
            "Epoch 7: Test Loss: 4.6053, Test Acc: 1.00%\n"
          ]
        },
        {
          "name": "stderr",
          "output_type": "stream",
          "text": [
            "Epoch 8/30:   0%|                                | 0/391 [00:00<?, ?it/s, Train_Loss=4.6065]"
          ]
        }
      ],
      "source": [
        "#del shallow_resnet # free up GPU\n",
        "\n",
        "# this next one is a train wreck we won't go very far ;-)\n",
        "deep_cnn = StandardCNN(blocks_per_level=4).to(device)\n",
        "train_model(deep_cnn, train_loader, val_loader, name=\"deep_cnn\", epochs=15)"
      ]
    },
    {
      "cell_type": "markdown",
      "id": "8439221f-bf69-4d37-bfd8-6412f3c410b3",
      "metadata": {
        "id": "8439221f-bf69-4d37-bfd8-6412f3c410b3"
      },
      "source": [
        "## Excercise: Repeat the training for a \"deep\" net but with...\n",
        "1. skips on and batch norm off\n",
        "2. skips off and batch norm on"
      ]
    },
    {
      "cell_type": "code",
      "execution_count": null,
      "id": "64172405-eddc-4eb5-865a-3e5e7a9e82a4",
      "metadata": {
        "id": "64172405-eddc-4eb5-865a-3e5e7a9e82a4"
      },
      "outputs": [],
      "source": []
    },
    {
      "cell_type": "markdown",
      "id": "f7298c9d-29cd-4e00-9240-86f5064a2f04",
      "metadata": {
        "id": "f7298c9d-29cd-4e00-9240-86f5064a2f04"
      },
      "source": [
        "# B. U-Nets: Skips All Over\n",
        "\n",
        "A particularly effective architechture is used for images and audio (and sometimes text) is called a \"U-Net\", which is presented as forming a kind of \"U\" shape:\n",
        "<img src=\"https://fastai1.fast.ai/imgs/u-net-architecture.png\" alt=\"unet architecture\" width=\"100%\">\n",
        "*Source: [fastai vision](https://fastai1.fast.ai/vision.models.unet.html)\n",
        "\n",
        "The grey arrows going across the U are called skip connections, and we'll describe them below.\n",
        "\n",
        "U-Nets were [first applied](https://link.springer.com/chapter/10.1007/978-3-319-24574-4_28) ([free link](https://arxiv.org/abs/1505.04597)) to medical image *segmentation*, a task in which you try to mark similar part of an image, i.e. you group pixels according which \"object\" they correspond to:\n",
        "\n",
        "<img src=\"https://developer-blogs.nvidia.com/wp-content/uploads/2020/04/image4-1.jpg\" alt=\"medical image segmentation example\" width=\"100%\">\n",
        "\n",
        "*Source: [NVIDIA](https://developer.nvidia.com/blog/accelerating-medical-image-segmentation-tensor-cores-tensorflow-2/)\n",
        "\n",
        "### Concatenative skips\n",
        "Unlike the residual skip connections studied earlier, the  grey arrow skip connections in the U-Net are \"copy and concatenate\" operations, whereby layer activations from early layers in the network propagate directly across the layers near the end.  This allows for information to propagate through the network (both in feed-forward and backpropagation modes) very efficiently, avoiding the \"vanishing gradient problem\" and allowing the network to focus on predicting what *changes* from input to output -- in this case, only the pixel color -- rather than having to predict the \"shape\" as well."
      ]
    },
    {
      "cell_type": "markdown",
      "id": "674c4e1b-45dd-4f68-ad96-1ff07e157dd2",
      "metadata": {
        "id": "674c4e1b-45dd-4f68-ad96-1ff07e157dd2"
      },
      "source": [
        "## (U-Net) Example: Coloring Fashion-MNIST Based on Clothing Type\n",
        "\n",
        "> *i.e, Autoencode Fashion-MNIST*\n",
        "\n",
        "We're going to make a U-Net-style network that will learn to color different types of clothing in Zelando Research's [Fashion MNIST](https://github.com/zalandoresearch/fashion-mnist) dataset, which consists of tiny 28x28 grayscale images of 10 different types of clothing, such as these examples:\n",
        "\n",
        "![fashion mnist example](https://raw.githubusercontent.com/zalandoresearch/fashion-mnist/master/doc/img/fashion-mnist-sprite.png)\n",
        "\n",
        "**...and to make it harder,** we'll even have the U-Net learn to write the class number on the image!\n",
        "\n",
        "**Questions:** One may ask, \"Why would anyone want such a code?? And isn't this overkill anyway? Because Fashion-MNIST is supposed to be used for image classification, so instead of using a U-Net, couldn't we just classify the images and THEN colorize them by class?\"  \n",
        "\n",
        "**Answers:** Well,...yeah...but.. this is just supposed to be a image modification demo. Go with it. ;-)"
      ]
    },
    {
      "cell_type": "code",
      "execution_count": null,
      "id": "1cc336bc-a2b1-41e8-8d3c-c1762cb1bffa",
      "metadata": {
        "id": "1cc336bc-a2b1-41e8-8d3c-c1762cb1bffa"
      },
      "outputs": [],
      "source": [
        "## STRONGLY RECOMMENDED: Restart the kernel before continuing from here\n",
        "\n",
        "import torch\n",
        "import torch.nn as nn\n",
        "import torch.optim as optim\n",
        "import torch.nn.functional as F\n",
        "from torch.utils.data import Dataset, DataLoader\n",
        "import torchvision\n",
        "import torchvision.transforms as transforms\n",
        "import matplotlib.pyplot as plt\n",
        "import numpy as np\n",
        "from PIL import Image, ImageDraw, ImageOps\n",
        "import os\n",
        "from tqdm import tqdm\n",
        "import wandb\n",
        "from pathlib import Path\n",
        "import warnings\n",
        "warnings.filterwarnings(\"ignore\", category=UserWarning, module=\"pydantic.main\")"
      ]
    },
    {
      "cell_type": "code",
      "execution_count": null,
      "id": "3a724956-eac8-445b-b223-a2141aaaf546",
      "metadata": {
        "id": "3a724956-eac8-445b-b223-a2141aaaf546"
      },
      "outputs": [],
      "source": [
        "device = torch.device('cuda' if torch.cuda.is_available() else 'mps' if torch.backends.mps.is_available() else 'cpu')\n",
        "print(\"device =\",device)"
      ]
    },
    {
      "cell_type": "markdown",
      "id": "71228dc8-11cf-4cb4-ab51-cb1b4eb832f4",
      "metadata": {
        "id": "71228dc8-11cf-4cb4-ab51-cb1b4eb832f4"
      },
      "source": [
        "## Data Generation & Dataset"
      ]
    },
    {
      "cell_type": "code",
      "execution_count": null,
      "id": "ab42d663-0d30-4472-b5a6-0b583f72f258",
      "metadata": {
        "id": "ab42d663-0d30-4472-b5a6-0b583f72f258",
        "outputId": "8a3d2866-8d2c-4121-867e-c979b4b84b16"
      },
      "outputs": [
        {
          "name": "stdout",
          "output_type": "stream",
          "text": [
            "device = mps\n"
          ]
        }
      ],
      "source": [
        "# Data Generation.... Pre-generate (files for) target data\n",
        "\n",
        "CLASS_NAMES = {0: 'T-shirt/top', 1: 'Trouser', 2: 'Pullover', 3: 'Dress', 4: 'Coat',\n",
        "               5: 'Sandal', 6: 'Shirt', 7: 'Sneaker', 8: 'Bag', 9: 'Ankle boot'}\n",
        "COLORS = [\"red\", \"orange\", \"yellow\", \"lime\", \"cyan\", \"cornflowerblue\",\n",
        "          \"mediumpurple\", \"magenta\", \"hotpink\", \"blue\"]\n",
        "\n",
        "\n",
        "def colorize_image(grayscale_img, class_num, draw_number=False):\n",
        "    \"\"\"Convert grayscale image to colored version based on class\"\"\"\n",
        "    pil_img = Image.fromarray(grayscale_img)\n",
        "    colored = ImageOps.colorize(pil_img, black=\"black\", white=COLORS[class_num])\n",
        "    if draw_number:\n",
        "        ImageDraw.Draw(colored).text((2, 2), str(class_num), fill=(255, 255, 255))\n",
        "    return np.array(colored)\n",
        "\n",
        "def generate_target_dataset(save_dir=\"./fashion_mnist_colored\", draw_numbers=False):\n",
        "    \"\"\"Generate colored target images and save to disk\"\"\"\n",
        "    save_dir = Path(save_dir)\n",
        "    save_dir.mkdir(exist_ok=True)\n",
        "\n",
        "    # Save config file to track how dataset was generated\n",
        "    config_file = save_dir / \"config.txt\"\n",
        "    with open(config_file, 'w') as f:\n",
        "        f.write(f\"draw_numbers={draw_numbers}\\n\")\n",
        "\n",
        "    train_data = torchvision.datasets.FashionMNIST('./data', train=True, download=True)\n",
        "    test_data = torchvision.datasets.FashionMNIST('./data', train=False, download=True)\n",
        "\n",
        "    all_images = np.vstack([train_data.data.numpy(), test_data.data.numpy()])\n",
        "    all_labels = np.hstack([train_data.targets.numpy(), test_data.targets.numpy()])\n",
        "\n",
        "    print(f\"Generating {len(all_images)} colored target images...\")\n",
        "\n",
        "    for i in tqdm(range(len(all_images))):\n",
        "        colored = colorize_image(all_images[i], all_labels[i], draw_numbers)\n",
        "        np.save(save_dir / f\"input_{i:06d}.npy\", all_images[i])\n",
        "        np.save(save_dir / f\"target_{i:06d}.npy\", colored)\n",
        "        np.save(save_dir / f\"label_{i:06d}.npy\", all_labels[i])\n",
        "\n",
        "    return len(all_images)\n",
        "\n",
        "\n",
        "DRAW_NUMBERS = True  # Configuration - do we want it to draw the numbers? YES!\n",
        "\n",
        "\n",
        "data_dir = \"./fashion_mnist_colored\"  # Generate dataset if it doesn't exist\n",
        "if not Path(data_dir).exists() or len(list(Path(data_dir).glob(\"input_*.npy\"))) == 0:\n",
        "    print(\"Generating colored Fashion-MNIST dataset...\")\n",
        "    generate_target_dataset(data_dir, draw_numbers=DRAW_NUMBERS)\n",
        "else:\n",
        "    num_files = len(list(Path(data_dir).glob(\"input_*.npy\")))\n",
        "    print(f\"Using existing dataset with {num_files:,} images...\")\n",
        "\n",
        "    # Check if existing dataset config matches current setting\n",
        "    config_file = Path(data_dir) / \"config.txt\"\n",
        "    if config_file.exists():\n",
        "        with open(config_file, 'r') as f:\n",
        "            existing_config = f.read().strip()\n",
        "        expected_config = f\"draw_numbers={DRAW_NUMBERS}\"\n",
        "        if existing_config != expected_config:\n",
        "            print(f\"⚠️  Warning: Existing dataset config ({existing_config}) doesn't match current setting ({expected_config})\")\n",
        "            print(\"   Consider deleting the dataset folder to regenerate.\")\n",
        "    else:\n",
        "        print(\"⚠️  Warning: Existing dataset has no config file (old format)\")\n",
        "        print(\"   Consider deleting the dataset folder to regenerate.\")"
      ]
    },
    {
      "cell_type": "code",
      "execution_count": null,
      "id": "14ac4749-2161-4191-93ad-0f422b94586a",
      "metadata": {
        "id": "14ac4749-2161-4191-93ad-0f422b94586a",
        "outputId": "1cb0c83a-e68a-489c-ec4c-4a92aff7ed4a"
      },
      "outputs": [
        {
          "name": "stdout",
          "output_type": "stream",
          "text": [
            "Using existing dataset with 70,000 images...\n",
            "Training samples: 56000\n",
            "Validation samples: 14000\n"
          ]
        }
      ],
      "source": [
        "class FashionMNISTColorDataset(Dataset):\n",
        "    \"\"\"Custom dataset for Fashion-MNIST colorization\"\"\"\n",
        "    def __init__(self, data_dir, transform=None):\n",
        "        self.data_dir = Path(data_dir)\n",
        "        self.transform = transform\n",
        "        self.input_files = sorted(list(self.data_dir.glob(\"input_*.npy\")))\n",
        "\n",
        "    def __len__(self):\n",
        "        return len(self.input_files)\n",
        "\n",
        "    def __getitem__(self, idx):\n",
        "        input_file = self.input_files[idx]\n",
        "        target_file = str(input_file).replace(\"input_\", \"target_\")\n",
        "\n",
        "        input_img = np.load(input_file).astype(np.float32) / 255.0  # Normalize to [0,1]\n",
        "        target_img = np.load(target_file).astype(np.float32) / 255.0\n",
        "\n",
        "        input_tensor = torch.from_numpy(input_img).unsqueeze(0)  # (H, W) -> (1, H, W) grayscale\n",
        "        target_tensor = torch.from_numpy(target_img).permute(2, 0, 1)  # (H, W, 3) -> (3, H, W) RGB\n",
        "\n",
        "        return input_tensor, target_tensor\n",
        "\n",
        "\n",
        "full_dataset = FashionMNISTColorDataset(data_dir)  # Create datasets and loaders\n",
        "\n",
        "train_size = int(0.8 * len(full_dataset))  # Split dataset\n",
        "val_size = len(full_dataset) - train_size\n",
        "train_dataset, val_dataset = torch.utils.data.random_split(full_dataset, [train_size, val_size])\n",
        "print(f\"Training samples: {len(train_dataset)}\")\n",
        "print(f\"Validation samples: {len(val_dataset)}\")"
      ]
    },
    {
      "cell_type": "code",
      "execution_count": null,
      "id": "02b9f7fa-5365-4eca-b3b4-b349ad09d6a4",
      "metadata": {
        "id": "02b9f7fa-5365-4eca-b3b4-b349ad09d6a4",
        "outputId": "f4bef273-acdc-469f-9369-e2b54a602a9a"
      },
      "outputs": [
        {
          "name": "stdout",
          "output_type": "stream",
          "text": [
            "\n",
            "Sample data:\n"
          ]
        },
        {
          "data": {
            "image/png": "[encoded data removed]",
            "text/plain": [
              "<Figure size 1000x400 with 10 Axes>"
            ]
          },
          "metadata": {},
          "output_type": "display_data"
        }
      ],
      "source": [
        "# utility function\n",
        "def visualize_results(dataset, model=None, num_samples=10, log_to_wandb=False, epoch=0):\n",
        "    \"\"\"Show input/output examples in grid format\"\"\"\n",
        "    inputs = torch.stack([dataset[i][0] for i in range(min(num_samples, len(dataset)))]).to(device)\n",
        "    targets = torch.stack([dataset[i][1] for i in range(min(num_samples, len(dataset)))]).to(device)\n",
        "\n",
        "    show_pred = model is not None\n",
        "    if show_pred:\n",
        "        with torch.no_grad():\n",
        "            model.eval()\n",
        "            preds = model(inputs)\n",
        "\n",
        "    rows = 3 if show_pred else 2\n",
        "    fig, axes = plt.subplots(rows, len(inputs), figsize=(2*len(inputs), 2*rows))\n",
        "    if len(inputs) == 1: axes = axes.reshape(-1, 1)\n",
        "    plt.subplots_adjust(left=0.02, right=0.98, top=0.92, bottom=0.08, wspace=0.05, hspace=0.4)\n",
        "\n",
        "    titles = ['Input (Grayscale)', 'Target (Colored)'] + (['Prediction'] if show_pred else [])\n",
        "\n",
        "    for i, (inp, tgt) in enumerate(zip(inputs.cpu(), targets.cpu())):\n",
        "        axes[0,i].imshow(inp.squeeze(), cmap='gray'); axes[0,i].axis('off')\n",
        "        axes[1,i].imshow(tgt.permute(1,2,0)); axes[1,i].axis('off')\n",
        "        if show_pred:\n",
        "            axes[2,i].imshow(preds[i].cpu().permute(1,2,0).clamp(0,1)); axes[2,i].axis('off')\n",
        "        if i == len(inputs)//2:\n",
        "            [axes[j,i].set_title(titles[j], fontsize=12) for j in range(rows)]\n",
        "\n",
        "    plt.tight_layout(pad=1.0)\n",
        "    (wandb.log({\"Examples\": wandb.Image(plt), \"epoch\": epoch+1}) if log_to_wandb else plt.show())\n",
        "    plt.close()\n",
        "\n",
        "\n",
        "print(\"\\nSample data:\")  # Show examples before training\n",
        "visualize_results(val_dataset)"
      ]
    },
    {
      "cell_type": "markdown",
      "id": "9edf1c04-496e-4afb-b493-99bc995ca287",
      "metadata": {
        "id": "9edf1c04-496e-4afb-b493-99bc995ca287"
      },
      "source": [
        "## U-Net Architecture"
      ]
    },
    {
      "cell_type": "code",
      "execution_count": null,
      "id": "d9a0aee4-25b1-4030-9fd4-43e2e2c5f490",
      "metadata": {
        "id": "d9a0aee4-25b1-4030-9fd4-43e2e2c5f490"
      },
      "outputs": [],
      "source": [
        "class DoubleConv(nn.Module):\n",
        "    \"\"\"Double convolution block used in U-Net\"\"\"\n",
        "    def __init__(self, in_channels, out_channels):\n",
        "        super().__init__()\n",
        "        self.double_conv = nn.Sequential(\n",
        "            nn.Conv2d(in_channels, out_channels, 3, padding=1, bias=False),\n",
        "            nn.BatchNorm2d(out_channels),\n",
        "            nn.ReLU(inplace=True),\n",
        "            nn.Conv2d(out_channels, out_channels, 3, padding=1, bias=False),\n",
        "            nn.BatchNorm2d(out_channels),\n",
        "            nn.ReLU(inplace=True)\n",
        "        )\n",
        "    def forward(self, x):\n",
        "        return self.double_conv(x)\n",
        "\n",
        "class Down(nn.Module):\n",
        "    \"\"\"Downscaling with maxpool then double conv\"\"\"\n",
        "    def __init__(self, in_channels, out_channels):\n",
        "        super().__init__()\n",
        "        self.maxpool_conv = nn.Sequential(nn.MaxPool2d(2), DoubleConv(in_channels, out_channels))\n",
        "    def forward(self, x):\n",
        "        return self.maxpool_conv(x)\n",
        "\n",
        "class Up(nn.Module):\n",
        "    \"\"\"Upscaling then double conv\"\"\"\n",
        "    def __init__(self, in_channels, out_channels):\n",
        "        super().__init__()\n",
        "        self.up = nn.ConvTranspose2d(in_channels, in_channels // 2, 2, stride=2)\n",
        "        self.conv = DoubleConv(in_channels, out_channels)\n",
        "\n",
        "    def forward(self, x1, x2):\n",
        "        x1 = self.up(x1)  # x1 from decoder path, x2 is skip connection from encoder\n",
        "        diffY = x2.size()[2] - x1.size()[2]\n",
        "        diffX = x2.size()[3] - x1.size()[3]\n",
        "        x1 = F.pad(x1, [diffX // 2, diffX - diffX // 2, diffY // 2, diffY - diffY // 2])\n",
        "        x = torch.cat([x2, x1], dim=1)  # Concatenate skip connection (key U-Net feature!)\n",
        "        return self.conv(x)\n",
        "\n",
        "class UNet(nn.Module):\n",
        "    \"\"\"U-Net architecture with skip connections\"\"\"\n",
        "    def __init__(self, n_channels=1, n_classes=3, features=[64, 128, 256, 512]):\n",
        "        super().__init__()\n",
        "        self.features = features\n",
        "\n",
        "        self.inc = DoubleConv(n_channels, features[0])\n",
        "        self.downs = nn.ModuleList([Down(features[i], features[i+1]) for i in range(len(features)-1)])\n",
        "        self.ups = nn.ModuleList([Up(features[len(features)-1-i], features[len(features)-2-i]) for i in range(len(features)-1)])\n",
        "        self.outc = nn.Conv2d(features[0], n_classes, 1)\n",
        "\n",
        "    def forward(self, x):\n",
        "        skip_connections = []\n",
        "        x = self.inc(x)\n",
        "        skip_connections.append(x)\n",
        "\n",
        "        for down in self.downs:  # Downsampling path\n",
        "            x = down(x)\n",
        "            skip_connections.append(x)\n",
        "\n",
        "        skip_connections = skip_connections[:-1]  # Remove last (bottleneck)\n",
        "\n",
        "        for i, up in enumerate(self.ups):  # Upsampling path with skip connections\n",
        "            skip = skip_connections[-(i+1)]\n",
        "            x = up(x, skip)\n",
        "\n",
        "        return torch.sigmoid(self.outc(x))"
      ]
    },
    {
      "cell_type": "markdown",
      "id": "a2aaefed-1003-4bdb-9998-db9e28b59c44",
      "metadata": {
        "id": "a2aaefed-1003-4bdb-9998-db9e28b59c44"
      },
      "source": [
        "## Training Functions\n"
      ]
    },
    {
      "cell_type": "code",
      "execution_count": null,
      "id": "898949be-845c-4b56-b290-f8b3260be52f",
      "metadata": {
        "id": "898949be-845c-4b56-b290-f8b3260be52f"
      },
      "outputs": [],
      "source": [
        "def pixel_accuracy(pred, target, threshold=0.1):\n",
        "    \"\"\"Pixel-wise accuracy metric\"\"\"\n",
        "    return ((pred - target).abs() < threshold).float().mean()\n",
        "\n",
        "\n",
        "def log_example_images(model, inputs, targets, epoch, ncol=10):\n",
        "    \"\"\"Wrapper for wandb logging\"\"\"\n",
        "    class TempDataset:\n",
        "        def __init__(self, data):\n",
        "            self.data = [(inputs[i].cpu(), targets[i].cpu()) for i in range(min(ncol, len(inputs)))]\n",
        "        def __len__(self):\n",
        "            return len(self.data)\n",
        "        def __getitem__(self, idx):\n",
        "            return self.data[idx]\n",
        "    visualize_results(TempDataset([]), model=model, num_samples=ncol, log_to_wandb=True, epoch=epoch)\n",
        "\n",
        "\n",
        "def train_unet(model, train_loader, val_loader, epochs=20, lr=1e-3):\n",
        "    \"\"\"Train the U-Net model\"\"\"\n",
        "    criterion = nn.MSELoss()\n",
        "    optimizer = optim.Adam(model.parameters(), lr=lr, weight_decay=1e-5)\n",
        "    scheduler = optim.lr_scheduler.ReduceLROnPlateau(optimizer, patience=3, factor=0.5)\n",
        "\n",
        "    wandb.init(project=\"unet_fashion_mnist\")\n",
        "    wandb.config.update({\"epochs\": epochs, \"lr\": lr, \"model\": \"UNet\"})\n",
        "\n",
        "    val_iter = iter(val_loader)  # Get fixed batch from validation set for consistent visualization\n",
        "    fixed_batch = next(val_iter)\n",
        "    fixed_inputs, fixed_targets = fixed_batch[0][:8].to(device), fixed_batch[1][:8].to(device)\n",
        "\n",
        "    model.train()\n",
        "    global_step = 0\n",
        "    exp_beta = 0.97\n",
        "    train_loss_avg = None\n",
        "\n",
        "    for epoch in range(epochs):\n",
        "        train_loss = train_acc = 0\n",
        "\n",
        "        pbar = tqdm(train_loader, desc=f'Epoch {epoch+1}/{epochs}')\n",
        "        for batch_idx, (data, target) in enumerate(pbar):\n",
        "            data, target = data.to(device), target.to(device)\n",
        "\n",
        "            optimizer.zero_grad()\n",
        "            output = model(data)\n",
        "            loss = criterion(output, target)\n",
        "            loss.backward()\n",
        "            optimizer.step()\n",
        "\n",
        "            train_loss += loss.item()\n",
        "            train_acc += pixel_accuracy(output, target).item()\n",
        "\n",
        "            # Log every step with exponential moving average\n",
        "            train_loss_avg = loss.item() if train_loss_avg is None else train_loss_avg * exp_beta + loss.item() * (1 - exp_beta)\n",
        "            wandb.log({ \"step\": global_step, \"train_loss\": train_loss_avg,  \"epoch\": epoch + 1 })\n",
        "\n",
        "            global_step += 1\n",
        "            pbar.set_postfix({'Train_Loss': f'{train_loss_avg:.4f}'})\n",
        "\n",
        "        model.eval()  # Validation\n",
        "        val_loss = val_acc = 0\n",
        "\n",
        "        with torch.no_grad():\n",
        "            for data, target in val_loader:\n",
        "                data, target = data.to(device), target.to(device)\n",
        "                output = model(data)\n",
        "                val_loss += criterion(output, target).item()\n",
        "                val_acc += pixel_accuracy(output, target).item()\n",
        "\n",
        "        train_loss, train_acc = train_loss/len(train_loader), train_acc/len(train_loader)\n",
        "        val_loss, val_acc = val_loss/len(val_loader), val_acc/len(val_loader)\n",
        "\n",
        "        scheduler.step(val_loss)\n",
        "\n",
        "        print(f'Epoch {epoch+1}: Train Loss: {train_loss:.4f}, Train Acc: {train_acc:.3f}')\n",
        "        print(f'           Val Loss: {val_loss:.4f}, Val Acc: {val_acc:.3f}')\n",
        "\n",
        "        if epoch % 1 == 0:  # Log example images every epoch\n",
        "            log_example_images(model, fixed_inputs, fixed_targets, epoch)\n",
        "\n",
        "        wandb.log({\n",
        "            \"epoch\": epoch + 1,\n",
        "            \"train_loss\": train_loss,\n",
        "            \"train_acc\": train_acc,\n",
        "            \"val_loss\": val_loss,\n",
        "            \"val_acc\": val_acc,\n",
        "            \"lr\": optimizer.param_groups[0]['lr']\n",
        "        })\n",
        "\n",
        "        model.train()\n",
        "\n",
        "    wandb.finish()\n",
        "    return model"
      ]
    },
    {
      "cell_type": "markdown",
      "id": "73542fe6-1bc1-47a6-a044-912609f20ba1",
      "metadata": {
        "id": "73542fe6-1bc1-47a6-a044-912609f20ba1"
      },
      "source": [
        "## Main Execution\n"
      ]
    },
    {
      "cell_type": "code",
      "execution_count": null,
      "id": "738b64c2-3289-4a42-b394-6b78e82cef9f",
      "metadata": {
        "id": "738b64c2-3289-4a42-b394-6b78e82cef9f",
        "outputId": "8fa7f4cf-1f91-4cb0-bac9-a24d81307ff8"
      },
      "outputs": [
        {
          "name": "stdout",
          "output_type": "stream",
          "text": [
            "Model has 7,699,139 parameters\n",
            "\n",
            "Starting training...\n"
          ]
        },
        {
          "data": {
            "text/html": [
              "Finishing previous runs because reinit is set to 'default'."
            ],
            "text/plain": [
              "<IPython.core.display.HTML object>"
            ]
          },
          "metadata": {},
          "output_type": "display_data"
        },
        {
          "data": {
            "text/html": [],
            "text/plain": [
              "<IPython.core.display.HTML object>"
            ]
          },
          "metadata": {},
          "output_type": "display_data"
        },
        {
          "data": {
            "text/html": [
              " View run <strong style=\"color:#cdcd00\">stoic-puddle-23</strong> at: <a href='https://wandb.ai/drscotthawley/unet_fashion_mnist/runs/g5l01yux' target=\"_blank\">https://wandb.ai/drscotthawley/unet_fashion_mnist/runs/g5l01yux</a><br> View project at: <a href='https://wandb.ai/drscotthawley/unet_fashion_mnist' target=\"_blank\">https://wandb.ai/drscotthawley/unet_fashion_mnist</a><br>Synced 5 W&B file(s), 0 media file(s), 0 artifact file(s) and 0 other file(s)"
            ],
            "text/plain": [
              "<IPython.core.display.HTML object>"
            ]
          },
          "metadata": {},
          "output_type": "display_data"
        },
        {
          "data": {
            "text/html": [
              "Find logs at: <code>./wandb/run-20250918_185206-g5l01yux/logs</code>"
            ],
            "text/plain": [
              "<IPython.core.display.HTML object>"
            ]
          },
          "metadata": {},
          "output_type": "display_data"
        },
        {
          "name": "stderr",
          "output_type": "stream",
          "text": [
            "/Users/shawley/envs/dlaie/lib/python3.11/site-packages/pydantic/main.py:309: UserWarning: Pydantic serializer warnings:\n",
            "  Expected `list[str]` but got `tuple` - serialized value may not be as expected\n",
            "  Expected `list[str]` but got `tuple` - serialized value may not be as expected\n",
            "  return self.__pydantic_serializer__.to_python(\n"
          ]
        },
        {
          "data": {
            "text/html": [],
            "text/plain": [
              "<IPython.core.display.HTML object>"
            ]
          },
          "metadata": {},
          "output_type": "display_data"
        },
        {
          "data": {
            "text/html": [
              "Tracking run with wandb version 0.21.4"
            ],
            "text/plain": [
              "<IPython.core.display.HTML object>"
            ]
          },
          "metadata": {},
          "output_type": "display_data"
        },
        {
          "data": {
            "text/html": [
              "Run data is saved locally in <code>/Users/shawley/Library/CloudStorage/OneDrive-BelmontUniversity/Teaching/DL_AIE_3895/github/DLAIE/Lessons/wandb/run-20250918_185350-d92lrff4</code>"
            ],
            "text/plain": [
              "<IPython.core.display.HTML object>"
            ]
          },
          "metadata": {},
          "output_type": "display_data"
        },
        {
          "data": {
            "text/html": [
              "Syncing run <strong><a href='https://wandb.ai/drscotthawley/unet_fashion_mnist/runs/d92lrff4' target=\"_blank\">swept-eon-24</a></strong> to <a href='https://wandb.ai/drscotthawley/unet_fashion_mnist' target=\"_blank\">Weights & Biases</a> (<a href='https://wandb.me/developer-guide' target=\"_blank\">docs</a>)<br>"
            ],
            "text/plain": [
              "<IPython.core.display.HTML object>"
            ]
          },
          "metadata": {},
          "output_type": "display_data"
        },
        {
          "data": {
            "text/html": [
              " View project at <a href='https://wandb.ai/drscotthawley/unet_fashion_mnist' target=\"_blank\">https://wandb.ai/drscotthawley/unet_fashion_mnist</a>"
            ],
            "text/plain": [
              "<IPython.core.display.HTML object>"
            ]
          },
          "metadata": {},
          "output_type": "display_data"
        },
        {
          "data": {
            "text/html": [
              " View run at <a href='https://wandb.ai/drscotthawley/unet_fashion_mnist/runs/d92lrff4' target=\"_blank\">https://wandb.ai/drscotthawley/unet_fashion_mnist/runs/d92lrff4</a>"
            ],
            "text/plain": [
              "<IPython.core.display.HTML object>"
            ]
          },
          "metadata": {},
          "output_type": "display_data"
        },
        {
          "name": "stderr",
          "output_type": "stream",
          "text": [
            "Epoch 1/15: 100%|████████████████████| 1750/1750 [01:20<00:00, 21.87it/s, Train_Loss=0.0134]\n"
          ]
        },
        {
          "name": "stdout",
          "output_type": "stream",
          "text": [
            "Epoch 1: Train Loss: 0.0184, Train Acc: 0.789\n",
            "           Val Loss: 0.0119, Val Acc: 0.851\n"
          ]
        },
        {
          "name": "stderr",
          "output_type": "stream",
          "text": [
            "Epoch 2/15: 100%|████████████████████| 1750/1750 [01:06<00:00, 26.24it/s, Train_Loss=0.0100]\n"
          ]
        },
        {
          "name": "stdout",
          "output_type": "stream",
          "text": [
            "Epoch 2: Train Loss: 0.0109, Train Acc: 0.886\n",
            "           Val Loss: 0.0095, Val Acc: 0.907\n"
          ]
        },
        {
          "name": "stderr",
          "output_type": "stream",
          "text": [
            "Epoch 3/15: 100%|████████████████████| 1750/1750 [01:06<00:00, 26.20it/s, Train_Loss=0.0086]\n"
          ]
        },
        {
          "name": "stdout",
          "output_type": "stream",
          "text": [
            "Epoch 3: Train Loss: 0.0095, Train Acc: 0.907\n",
            "           Val Loss: 0.0100, Val Acc: 0.919\n"
          ]
        },
        {
          "name": "stderr",
          "output_type": "stream",
          "text": [
            "Epoch 4/15: 100%|████████████████████| 1750/1750 [01:22<00:00, 21.17it/s, Train_Loss=0.0099]\n"
          ]
        },
        {
          "name": "stdout",
          "output_type": "stream",
          "text": [
            "Epoch 4: Train Loss: 0.0085, Train Acc: 0.919\n",
            "           Val Loss: 0.0080, Val Acc: 0.922\n"
          ]
        },
        {
          "name": "stderr",
          "output_type": "stream",
          "text": [
            "Epoch 5/15: 100%|████████████████████| 1750/1750 [01:13<00:00, 23.70it/s, Train_Loss=0.0080]\n"
          ]
        },
        {
          "name": "stdout",
          "output_type": "stream",
          "text": [
            "Epoch 5: Train Loss: 0.0080, Train Acc: 0.927\n",
            "           Val Loss: 0.0076, Val Acc: 0.917\n"
          ]
        },
        {
          "name": "stderr",
          "output_type": "stream",
          "text": [
            "Epoch 6/15: 100%|████████████████████| 1750/1750 [01:06<00:00, 26.17it/s, Train_Loss=0.0069]\n"
          ]
        },
        {
          "name": "stdout",
          "output_type": "stream",
          "text": [
            "Epoch 6: Train Loss: 0.0076, Train Acc: 0.931\n",
            "           Val Loss: 0.0070, Val Acc: 0.939\n"
          ]
        },
        {
          "name": "stderr",
          "output_type": "stream",
          "text": [
            "Epoch 7/15: 100%|████████████████████| 1750/1750 [01:07<00:00, 25.91it/s, Train_Loss=0.0059]\n"
          ]
        },
        {
          "name": "stdout",
          "output_type": "stream",
          "text": [
            "Epoch 7: Train Loss: 0.0071, Train Acc: 0.936\n",
            "           Val Loss: 0.0074, Val Acc: 0.947\n"
          ]
        },
        {
          "name": "stderr",
          "output_type": "stream",
          "text": [
            "Epoch 8/15: 100%|████████████████████| 1750/1750 [01:06<00:00, 26.21it/s, Train_Loss=0.0068]\n"
          ]
        },
        {
          "name": "stdout",
          "output_type": "stream",
          "text": [
            "Epoch 8: Train Loss: 0.0068, Train Acc: 0.939\n",
            "           Val Loss: 0.0074, Val Acc: 0.943\n"
          ]
        },
        {
          "name": "stderr",
          "output_type": "stream",
          "text": [
            "Epoch 9/15: 100%|████████████████████| 1750/1750 [01:06<00:00, 26.39it/s, Train_Loss=0.0067]\n"
          ]
        },
        {
          "name": "stdout",
          "output_type": "stream",
          "text": [
            "Epoch 9: Train Loss: 0.0066, Train Acc: 0.941\n",
            "           Val Loss: 0.0069, Val Acc: 0.949\n"
          ]
        },
        {
          "name": "stderr",
          "output_type": "stream",
          "text": [
            "Epoch 10/15: 100%|███████████████████| 1750/1750 [01:06<00:00, 26.40it/s, Train_Loss=0.0058]\n"
          ]
        },
        {
          "name": "stdout",
          "output_type": "stream",
          "text": [
            "Epoch 10: Train Loss: 0.0064, Train Acc: 0.943\n",
            "           Val Loss: 0.0070, Val Acc: 0.945\n"
          ]
        },
        {
          "name": "stderr",
          "output_type": "stream",
          "text": [
            "Epoch 11/15: 100%|███████████████████| 1750/1750 [01:06<00:00, 26.25it/s, Train_Loss=0.0076]\n"
          ]
        },
        {
          "name": "stdout",
          "output_type": "stream",
          "text": [
            "Epoch 11: Train Loss: 0.0062, Train Acc: 0.947\n",
            "           Val Loss: 0.0071, Val Acc: 0.936\n"
          ]
        },
        {
          "name": "stderr",
          "output_type": "stream",
          "text": [
            "Epoch 12/15: 100%|███████████████████| 1750/1750 [01:06<00:00, 26.51it/s, Train_Loss=0.0056]\n"
          ]
        },
        {
          "name": "stdout",
          "output_type": "stream",
          "text": [
            "Epoch 12: Train Loss: 0.0060, Train Acc: 0.949\n",
            "           Val Loss: 0.0068, Val Acc: 0.954\n"
          ]
        },
        {
          "name": "stderr",
          "output_type": "stream",
          "text": [
            "Epoch 13/15: 100%|███████████████████| 1750/1750 [01:15<00:00, 23.05it/s, Train_Loss=0.0051]\n"
          ]
        },
        {
          "name": "stdout",
          "output_type": "stream",
          "text": [
            "Epoch 13: Train Loss: 0.0059, Train Acc: 0.949\n",
            "           Val Loss: 0.0064, Val Acc: 0.951\n"
          ]
        },
        {
          "name": "stderr",
          "output_type": "stream",
          "text": [
            "Epoch 14/15: 100%|███████████████████| 1750/1750 [01:13<00:00, 23.75it/s, Train_Loss=0.0053]\n"
          ]
        },
        {
          "name": "stdout",
          "output_type": "stream",
          "text": [
            "Epoch 14: Train Loss: 0.0058, Train Acc: 0.950\n",
            "           Val Loss: 0.0062, Val Acc: 0.949\n"
          ]
        },
        {
          "name": "stderr",
          "output_type": "stream",
          "text": [
            "Epoch 15/15: 100%|███████████████████| 1750/1750 [01:07<00:00, 26.03it/s, Train_Loss=0.0054]\n"
          ]
        }
      ],
      "source": [
        "\n",
        "#DRAW_NUMBERS = True  # Configuration\n",
        "BATCH_SIZE = 32\n",
        "EPOCHS = 15\n",
        "LEARNING_RATE = 1e-3\n",
        "\n",
        "\n",
        "# reproducible dataloaders\n",
        "torch.manual_seed(42)\n",
        "np.random.seed(42)\n",
        "num_workers=0 # needed in jupyter, to avoid issues for now. =2 runs faster but not worth headaches rn\n",
        "train_loader = DataLoader(train_dataset, batch_size=BATCH_SIZE, shuffle=True, num_workers=num_workers)\n",
        "val_loader = DataLoader(val_dataset, batch_size=BATCH_SIZE, shuffle=False, num_workers=num_workers)\n",
        "\n",
        "\n",
        "model = UNet(n_channels=1, n_classes=3).to(device)  # Create model\n",
        "print(f\"Model has {sum(p.numel() for p in model.parameters()):,} parameters\")\n",
        "\n",
        "print(\"\\nStarting training...\")  # Train the model\n",
        "trained_model = train_unet(model, train_loader, val_loader, epochs=EPOCHS, lr=LEARNING_RATE)\n",
        "\n",
        "print(\"\\nResults after training:\")  # Show results after training\n",
        "visualize_results(trained_model, val_dataset)\n",
        "\n",
        "torch.save(trained_model.state_dict(), 'unet_fashion_mnist.pth')  # Save the model\n",
        "print(\"Model saved as 'unet_fashion_mnist.pth'\")"
      ]
    },
    {
      "cell_type": "markdown",
      "id": "1ed52ad3-de77-48bb-94fe-8034add9ab0f",
      "metadata": {
        "id": "1ed52ad3-de77-48bb-94fe-8034add9ab0f"
      },
      "source": [
        "...and we could keep training longer to see how much better we can do, but this is pretty good for now. ;-)"
      ]
    },
    {
      "cell_type": "code",
      "execution_count": null,
      "id": "a371e1ec-8d86-4314-b350-7a54ac118295",
      "metadata": {
        "id": "a371e1ec-8d86-4314-b350-7a54ac118295"
      },
      "outputs": [],
      "source": []
    }
  ],
  "metadata": {
    "kernelspec": {
      "display_name": "Python 3 (ipykernel)",
      "language": "python",
      "name": "python3"
    },
    "language_info": {
      "codemirror_mode": {
        "name": "ipython",
        "version": 3
      },
      "file_extension": ".py",
      "mimetype": "text/x-python",
      "name": "python",
      "nbconvert_exporter": "python",
      "pygments_lexer": "ipython3",
      "version": "3.11.11"
    },
    "colab": {
      "provenance": []
    }
  },
  "nbformat": 4,
  "nbformat_minor": 5
}