{
  "cells": [
    {
      "cell_type": "markdown",
      "metadata": {
        "id": "view-in-github",
        "colab_type": "text"
      },
      "source": [
        "<a href=\"https://colab.research.google.com/github/drscotthawley/DLAIE/blob/main/Lessons/06b_SkipsResNetsUNets.ipynb\" target=\"_parent\"><img src=\"https://colab.research.google.com/assets/colab-badge.svg\" alt=\"Open In Colab\"/></a>"
      ]
    },
    {
      "cell_type": "markdown",
      "id": "43cd7be7-2c32-4744-9930-d62372d2e1ee",
      "metadata": {
        "id": "43cd7be7-2c32-4744-9930-d62372d2e1ee"
      },
      "source": [
        "# \"Be the Change\": Skip Connections, ResNets and U-Nets"
      ]
    },
    {
      "cell_type": "markdown",
      "id": "cc32b065-4549-4ad1-b790-184e6a538508",
      "metadata": {
        "id": "cc32b065-4549-4ad1-b790-184e6a538508"
      },
      "source": [
        "It is a common observation in numerical modeling that if you can predict the *change* in something rather than the thing itself, you can often get much more accurate results (than predicting the entire thing).\n",
        "\n",
        "**Table of Contents:**\n",
        "\n",
        "A. Residual Skips, ResNets\n",
        "\n",
        "---Exercise---\n",
        "   \n",
        "B. Concatenative Skips, U-Nets\n",
        "\n",
        "\n",
        "# A. Residual Skips, ResNets\n",
        "This change is often called the \"residual\", and it inspired a whole set of architectures based on \"skip residual\" connections, the first and most famous being the [ResNet](https://ieeexplore.ieee.org/document/7780459) ([arXiv link](https://arxiv.org/abs/1512.03385)) family of image-processing networks. Despite dating back to 2015, ResNets are still in heavy use today, and their key insights are repeated even in sophisticated modern LLMs.  \n",
        "\n",
        "The idea behind ResNet is to use a \"skip connection\" around a couple layers of network operations, and then *add* the output of those layers to what's connected via the skip. Thus the neural network layers bypassed by the skip can focus on computing the *change* or \"residual\" rather than the \"thing itself\":"
      ]
    },
    {
      "cell_type": "markdown",
      "id": "76491be2-c6ab-4fe7-9032-3ff0a39c8b91",
      "metadata": {
        "id": "76491be2-c6ab-4fe7-9032-3ff0a39c8b91"
      },
      "source": [
        "## ResNet \"Blocks\":  Additive / \"Residual\" Connections\n",
        "![residual picture](https://miro.medium.com/max/683/0*0r0vS8myiqyOb79L.jpg)\n",
        "\n",
        "*Source: [ResNet paper](https://arxiv.org/pdf/1512.03385.pdf)*\n",
        "\n",
        "In the above figure, the \"skip residual\" connection is the big curved arrow on the right."
      ]
    },
    {
      "cell_type": "markdown",
      "id": "381c466d-4399-4454-89d2-fdb777549c8d",
      "metadata": {
        "id": "381c466d-4399-4454-89d2-fdb777549c8d"
      },
      "source": [
        "That \"resnet block\" shown above is then used *repeatedly* throughout the network architecture. ResNets can be made using various numbers of layers. One variation that has some into standard usage is ResNet34, which uses 34 resnet blocks.  In the following diagram, ResNet34 (on the right) is compared to the older VGG model (on the left) and a similar model (in the middle) which has no residual connections.  \n",
        "\n",
        "**Model architecture comparison:**\n",
        "\n",
        "Left: VGG (\"standard ConvNet\"), Middle: Deep CNN w/o residuals, Left: ResNet\n",
        "\n",
        "![resnet_bigger](https://i.imgur.com/mbi6ktD.png)"
      ]
    },
    {
      "cell_type": "markdown",
      "id": "b0ece213-8200-4d72-9643-fd50edaa170c",
      "metadata": {
        "id": "b0ece213-8200-4d72-9643-fd50edaa170c"
      },
      "source": [
        "It was found that ResNets massively outperformed previous approaches. The intuitions about residuals (i.e. \"predicting the change rather than the thing itself\") allowing for higher accuracy, and the idea that skip connections allowing information to \"propagate across the network more efficiently\" seem like plausible reasons why ResNets work well, however there is another reason related to the process of gradient descent:"
      ]
    },
    {
      "cell_type": "markdown",
      "id": "f0309856-94fa-4120-8466-be55af6894c6",
      "metadata": {
        "id": "f0309856-94fa-4120-8466-be55af6894c6"
      },
      "source": [
        "## Residuals Smooth the Loss surface\n",
        "\n",
        "It turns out that skip connections can remove wiggles in the loss surface, allowing it to be more smooth and thus allowing gradient descent methods to accelerate converence and not get stuck in local minima:\n",
        "![loss surface image](https://miro.medium.com/max/2000/1*ME5zYSkdsQT3pEIDDGE1Fg.png)\n",
        "\n",
        "*Source: [\"Visualizing the Loss Landscape of Neural Nets\"](https://arxiv.org/pdf/1712.09913.pdf)"
      ]
    },
    {
      "cell_type": "markdown",
      "id": "bbb33383-405d-4163-9217-0d0d825a4e0b",
      "metadata": {
        "id": "bbb33383-405d-4163-9217-0d0d825a4e0b"
      },
      "source": [
        "## Let's see it in code\n",
        "Let's compare this to our earlier CNN/ConvNet, in code.  We'll reuse a lot of the code from the ConvNets lesson, and focus on the CIFAR100 dataset since it's \"hard\". ;-)"
      ]
    },
    {
      "cell_type": "code",
      "execution_count": 1,
      "id": "7cd9928a-55ac-41e7-a9a4-6f14d738768f",
      "metadata": {
        "id": "7cd9928a-55ac-41e7-a9a4-6f14d738768f"
      },
      "outputs": [],
      "source": [
        "import torch\n",
        "import torch.nn as nn\n",
        "import torch.optim as optim\n",
        "import torch.nn.functional as F\n",
        "from torch.utils.data import DataLoader\n",
        "import torchvision\n",
        "import torchvision.transforms as transforms\n",
        "from torchvision.transforms.v2 import CutMix, MixUp, RandomChoice\n",
        "import wandb\n",
        "import matplotlib.pyplot as plt\n",
        "import numpy as np\n",
        "from tqdm import tqdm\n",
        "import time\n",
        "\n",
        "# block annoying warning I don't want you to worry about\n",
        "import warnings\n",
        "warnings.filterwarnings(\"ignore\", category=UserWarning, module=\"pydantic.main\")"
      ]
    },
    {
      "cell_type": "code",
      "execution_count": 2,
      "id": "d4f97748-eee1-4cb1-91ff-6ce4d591649b",
      "metadata": {
        "id": "d4f97748-eee1-4cb1-91ff-6ce4d591649b",
        "outputId": "be0b9899-1ac7-4b2e-c939-6ec7132f6a90",
        "colab": {
          "base_uri": "https://localhost:8080/"
        }
      },
      "outputs": [
        {
          "output_type": "stream",
          "name": "stdout",
          "text": [
            "Using device: cuda\n"
          ]
        }
      ],
      "source": [
        "# check that there's more than just the CPU available\n",
        "device = torch.device('cuda' if torch.cuda.is_available() else 'mps' if torch.backends.mps.is_available() else 'cpu')\n",
        "print(f\"Using device: {device}\")\n",
        "if device==torch.device('cpu'): print(\"You should probably restart this with a GPU. It will be slow otherwise.\")\n",
        "\n",
        "# Set random seeds for reproducibility\n",
        "torch.manual_seed(42)\n",
        "np.random.seed(42)"
      ]
    },
    {
      "cell_type": "code",
      "execution_count": 3,
      "id": "1ae4a440-2a20-48f4-9861-458c39604fcd",
      "metadata": {
        "id": "1ae4a440-2a20-48f4-9861-458c39604fcd",
        "outputId": "bf09a472-9b84-41a7-d056-e9bbe143aec2",
        "colab": {
          "base_uri": "https://localhost:8080/"
        }
      },
      "outputs": [
        {
          "output_type": "stream",
          "name": "stdout",
          "text": [
            "Available datasets:\n",
            "  MNIST: 28x28 grayscale handwritten digits (0-9)\n",
            "  FashionMNIST: 28x28 grayscale fashion items (10 classes)\n",
            "  CIFAR10: 32x32 color images (10 classes: planes, cars, etc.)\n",
            "  CIFAR100: 32x32 color images (100 classes)\n",
            "\n",
            "Available activations: dict_keys(['ReLU', 'GELU', 'SiLU', 'LeakyReLU'])\n"
          ]
        }
      ],
      "source": [
        "DATASETS = {\n",
        "    'MNIST': {\n",
        "        'dataset_class': torchvision.datasets.MNIST,\n",
        "        'mean': (0.1307,), 'std': (0.3081,),\n",
        "        'description': '28x28 grayscale handwritten digits (0-9)'\n",
        "    },\n",
        "    'FashionMNIST': {\n",
        "        'dataset_class': torchvision.datasets.FashionMNIST,\n",
        "        'mean': (0.2860,), 'std': (0.3530,),\n",
        "        'description': '28x28 grayscale fashion items (10 classes)'\n",
        "    },\n",
        "    'CIFAR10': {\n",
        "        'dataset_class': torchvision.datasets.CIFAR10,\n",
        "        'mean': (0.4914, 0.4822, 0.4465), 'std': (0.2023, 0.1994, 0.2010),\n",
        "        'description': '32x32 color images (10 classes: planes, cars, etc.)'\n",
        "    },\n",
        "    'CIFAR100': {\n",
        "        'dataset_class': torchvision.datasets.CIFAR100,\n",
        "        'mean': (0.5071, 0.4867, 0.4408), 'std': (0.2675, 0.2565, 0.2761),\n",
        "        'description': '32x32 color images (100 classes)'\n",
        "    }\n",
        "}\n",
        "\n",
        "print(\"Available datasets:\")\n",
        "for name, info in DATASETS.items():\n",
        "    print(f\"  {name}: {info['description']}\")\n",
        "\n",
        "\n",
        "# Also let's let the user choose different activation functions, which will be implemented globally:\n",
        "activations = { 'ReLU': nn.ReLU(), 'GELU': nn.GELU(),  'SiLU': nn.SiLU(), 'LeakyReLU': nn.LeakyReLU(0.01)}\n",
        "print(\"\\nAvailable activations:\", activations.keys())\n",
        "\n"
      ]
    },
    {
      "cell_type": "code",
      "source": [
        "#### Your choices for dataset & activation functions\n",
        "DATASET_NAME = 'CIFAR100'  # Change this to 'FashionMNIST', 'CIFAR10', or 'CIFAR100'\n",
        "ACTIVATION_NAME = 'SiLU'  # Options: 'ReLU', 'GELU', 'SiLU', 'LeakyReLU'\n",
        "\n",
        "ACTIVATION = activations[ACTIVATION_NAME]\n",
        "\n",
        "print(f\"\\nUsing: {DATASET_NAME}\")\n",
        "print(f\"Activation function: {ACTIVATION_NAME}\")"
      ],
      "metadata": {
        "colab": {
          "base_uri": "https://localhost:8080/"
        },
        "id": "NkrD01HHGYwE",
        "outputId": "a5c104ed-80cf-4344-e2dd-8c9e1fda7cdb"
      },
      "id": "NkrD01HHGYwE",
      "execution_count": 4,
      "outputs": [
        {
          "output_type": "stream",
          "name": "stdout",
          "text": [
            "\n",
            "Using: CIFAR100\n",
            "Activation function: SiLU\n"
          ]
        }
      ]
    },
    {
      "cell_type": "code",
      "execution_count": 5,
      "id": "e3bd3a07-7b6b-4b44-93e2-5c350d61b17b",
      "metadata": {
        "id": "e3bd3a07-7b6b-4b44-93e2-5c350d61b17b",
        "outputId": "f2c52bb6-6854-405e-8a76-75986f61dd68",
        "colab": {
          "base_uri": "https://localhost:8080/"
        }
      },
      "outputs": [
        {
          "output_type": "stream",
          "name": "stdout",
          "text": [
            "\n",
            "Dataset Properties:\n",
            "  Image size: 3x32x32\n",
            "  Number of classes: 100\n",
            "  Classes: ['apple', 'aquarium_fish', 'baby', 'bear', 'beaver', 'bed', 'bee', 'beetle', 'bicycle', 'bottle']...\n",
            "\n",
            "Dataset loaded:\n",
            "  Training samples: 50,000\n",
            "  Val samples: 10,000\n"
          ]
        }
      ],
      "source": [
        "def get_dataset_info(dataset_name):\n",
        "    \"\"\"Get dataset configuration and sample to determine properties.\"\"\"\n",
        "    config = DATASETS[dataset_name]\n",
        "    basic_transform = transforms.Compose([transforms.ToTensor()])\n",
        "    temp_dataset = config['dataset_class'](root='./data', train=True, download=True, transform=basic_transform)\n",
        "    sample_img, _ = temp_dataset[0]\n",
        "\n",
        "    return {\n",
        "        'config': config,\n",
        "        'num_channels': sample_img.shape[0],\n",
        "        'img_height': sample_img.shape[1],\n",
        "        'img_width': sample_img.shape[2],\n",
        "        'num_classes': len(temp_dataset.classes),\n",
        "        'class_names': temp_dataset.classes\n",
        "    }\n",
        "\n",
        "dataset_info = get_dataset_info(DATASET_NAME)\n",
        "DATASET_INFO = dataset_info\n",
        "\n",
        "print(f\"\\nDataset Properties:\")\n",
        "print(f\"  Image size: {dataset_info['num_channels']}x{dataset_info['img_height']}x{dataset_info['img_width']}\")\n",
        "print(f\"  Number of classes: {dataset_info['num_classes']}\")\n",
        "print(f\"  Classes: {dataset_info['class_names'][:10]}...\")  # Show first 10 classes\n",
        "\n",
        "num_classes = dataset_info['num_classes']\n",
        "cutmix = CutMix(num_classes=num_classes, alpha=0.2)\n",
        "mixup = MixUp(num_classes=num_classes, alpha=0.2)\n",
        "cutmix_or_mixup = mixup # RandomChoice([cutmix, mixup])\n",
        "\n",
        "\n",
        "train_transform = transforms.Compose([\n",
        "    transforms.RandomHorizontalFlip(p=0.5),  # do some data augmentation when training\n",
        "    transforms.RandomRotation(10),\n",
        "    transforms.ColorJitter(brightness=0.2, contrast=0.2),\n",
        "    transforms.ToTensor(),\n",
        "    transforms.Normalize(dataset_info['config']['mean'], dataset_info['config']['std'])\n",
        "])\n",
        "val_transform = transforms.Compose([\n",
        "    transforms.ToTensor(),\n",
        "    transforms.Normalize(dataset_info['config']['mean'], dataset_info['config']['std'])\n",
        "])\n",
        "\n",
        "train_dataset = dataset_info['config']['dataset_class'](root='./data', train=True, download=False, transform=train_transform)\n",
        "val_dataset = dataset_info['config']['dataset_class'](root='./data', train=False, download=False, transform=val_transform)\n",
        "\n",
        "batch_size = 128 # could make this bigger\n",
        "train_loader = DataLoader(train_dataset, batch_size=batch_size, shuffle=True, num_workers=2, persistent_workers=True)\n",
        "val_loader = DataLoader(val_dataset, batch_size=batch_size, shuffle=False, num_workers=2, persistent_workers=True)\n",
        "\n",
        "print(f\"\\nDataset loaded:\")\n",
        "print(f\"  Training samples: {len(train_dataset):,}\")\n",
        "print(f\"  Val samples: {len(val_dataset):,}\")"
      ]
    },
    {
      "cell_type": "code",
      "execution_count": 6,
      "id": "caeec220-d94a-419c-80c7-8f2c36dec3b3",
      "metadata": {
        "id": "caeec220-d94a-419c-80c7-8f2c36dec3b3",
        "outputId": "bbfeb67e-5c7d-457b-f2a6-83f9fd4a41b4",
        "colab": {
          "base_uri": "https://localhost:8080/",
          "height": 503
        }
      },
      "outputs": [
        {
          "output_type": "display_data",
          "data": {
            "text/plain": [
              "<Figure size 1000x500 with 8 Axes>"
            ],
            "image/png": "[encoded data removed]"
          },
          "metadata": {}
        }
      ],
      "source": [
        "def plot_samples(dataset, dataset_info, num_samples=8):\n",
        "    \"\"\"Visualize some sample images\"\"\"\n",
        "    fig, axes = plt.subplots(2, 4, figsize=(10, 5))\n",
        "    axes = axes.ravel()\n",
        "    mean, std = dataset_info['config']['mean'], dataset_info['config']['std']\n",
        "\n",
        "    for i in range(num_samples):\n",
        "        img, label = dataset[i]\n",
        "\n",
        "        if len(mean) == 1:  # Grayscale\n",
        "            img_denorm = img.squeeze() * std[0] + mean[0]\n",
        "            axes[i].imshow(img_denorm, cmap='gray')\n",
        "        else:  # Color\n",
        "            img_denorm = img.clone()\n",
        "            for c in range(len(mean)):\n",
        "                img_denorm[c] = img_denorm[c] * std[c] + mean[c]\n",
        "            img_denorm = torch.clamp(img_denorm, 0, 1).permute(1, 2, 0)  # (C,H,W) -> (H,W,C)\n",
        "            axes[i].imshow(img_denorm)\n",
        "\n",
        "        axes[i].set_title(f'Label: {label} ({dataset_info[\"class_names\"][label]})')\n",
        "        axes[i].axis('off')\n",
        "\n",
        "    plt.tight_layout()\n",
        "    plt.show()\n",
        "\n",
        "plot_samples(train_dataset, dataset_info)"
      ]
    },
    {
      "cell_type": "markdown",
      "id": "a9eab5bd-6d83-47de-867e-7d58dbb1f1c2",
      "metadata": {
        "id": "a9eab5bd-6d83-47de-867e-7d58dbb1f1c2"
      },
      "source": [
        "## Revised Neural Network Architecture\n",
        "\n",
        "To really see the benefits of the ResNet approach, we need to dispense with the shallow, simple ConvNets that we had before, and go \"deeper\" in terms of number of layers.  \n",
        "\n",
        "---\n",
        "\n",
        "As an exercise, go back to the previous lesson on ConvNets and (try to) train the CNN on CIFAR100, then come back. How did it do?\n",
        "\n",
        "---\n",
        "\n",
        "#### Splitting Downsampling & Learned Filters\n",
        "Earlier we used a `stride` of 2 which had the effect of both downsampling and allowing for learnable filtering. But the plus sign \"+\" in the skip residual means that we can only add tensors with the same shapes. So for this lesson, we're going to separate the downsampling from the learnable filtering.  We'll downsample with \"average pooling\", and then use convolutions with `stride=1` (and  `padding=1`) to keep the output the same shape as in the input.\n",
        "\n",
        "#### Adding Batch Normalization\n",
        "\n",
        "Another key ingredient of the ResNet approach with influence to the modern day is Batch Normalization or \"Batch Norm\" (although nowadays it's replaced by related \"Layer Norm\" or \"Group Norm\", but similar in principle). Our rectifier-like activation functions have a tendency to shift the data distribution from being zero-mean to having some net positive bias, which can make it harder to learn.  So what we do is periodically \"re-whiten\" the distribution of the data $x$ for each batch, i.e. something like this:\n",
        "\n",
        "$$ x :=  { x - \\mu_B \\over \\sigma_B } $$\n",
        "\n",
        "where $\\mu_B$ and $\\sigma_B$ are the batch mean and standard deviation, respectively.  However, what's actually done in practice is a bit more expressive:\n",
        "\n",
        "$$ x := \\gamma \\cdot { x - \\mu_B \\over \\sqrt{\\sigma_B^2 + \\epsilon} } + \\beta $$\n",
        "\n",
        "where $\\gamma$ and $\\beta$ are learnable parameters that allow the network to scale and shift the normalized values if needed (so the network can effectively \"undo\" the normalization if that turns out to be beneficial), and we combine the variance $\\sigma_B^2$ with a small constant $\\epsilon$ for numerical stability.\n",
        "\n",
        "There is a computational cost for doing the Batch Norm, but it pays off in big ways, as we'll see.\n",
        "\n",
        "#### And Now for the Code!\n",
        "We're now ready to see the code for our replacement for the simple CNN from before.  We're going to build it out of \"Residual Blocks\" as in the diagram above. And we'll design it so that, for the sake of comparison, we can turn the skip connections and Batch Norm on or off:"
      ]
    },
    {
      "cell_type": "code",
      "execution_count": 7,
      "id": "602e8667-2030-4dba-9272-566bc641adc9",
      "metadata": {
        "id": "602e8667-2030-4dba-9272-566bc641adc9"
      },
      "outputs": [],
      "source": [
        "class ResidualBlock(nn.Module):\n",
        "    def __init__(self, channels, use_skip=True, use_bn=True):\n",
        "        super().__init__()\n",
        "        self.conv1 = nn.Conv2d(channels, channels, 3, padding=1, bias=not use_bn)\n",
        "        self.bn1 = nn.BatchNorm2d(channels) if use_bn else nn.Identity()\n",
        "        self.conv2 = nn.Conv2d(channels, channels, 3, padding=1, bias=not use_bn)\n",
        "        self.bn2 = nn.BatchNorm2d(channels) if use_bn else nn.Identity()\n",
        "        self.use_skip = use_skip\n",
        "\n",
        "    def forward(self, x):\n",
        "        if self.use_skip: x0 = x\n",
        "        out = ACTIVATION(self.bn1(self.conv1(x)))\n",
        "        out = F.dropout(out, 0.4, training=self.training)\n",
        "        out = self.bn2(self.conv2(out))\n",
        "        if self.use_skip: out = out + x0\n",
        "        return ACTIVATION(out)"
      ]
    },
    {
      "cell_type": "code",
      "execution_count": 8,
      "id": "11421125-3392-44b4-9351-4424721c2cc8",
      "metadata": {
        "id": "11421125-3392-44b4-9351-4424721c2cc8"
      },
      "outputs": [],
      "source": [
        "class FlexibleCNN(nn.Module):\n",
        "    def __init__(self, dataset_info=DATASET_INFO, base_channels=32, blocks_per_level=4, use_skips=False, use_bn=True):\n",
        "        super().__init__()\n",
        "\n",
        "        # Initial conv\n",
        "        self.conv1 = nn.Conv2d(dataset_info['num_channels'], base_channels, 3, padding=1, bias=not use_bn)\n",
        "        self.bn1 = nn.BatchNorm2d(base_channels) if use_bn else nn.Identity()\n",
        "\n",
        "        # Build levels dynamically\n",
        "        self.levels = nn.ModuleList()\n",
        "        channels = [base_channels, base_channels*2, base_channels*4]\n",
        "\n",
        "        for level_idx, ch in enumerate(channels):\n",
        "            level_blocks = nn.ModuleList()\n",
        "            for block_idx in range(blocks_per_level):\n",
        "                level_blocks.append(ResidualBlock(ch, use_skips, use_bn))\n",
        "            self.levels.append(level_blocks)\n",
        "\n",
        "        # Transition layers\n",
        "        self.transitions = nn.ModuleList([\n",
        "            nn.Conv2d(base_channels, base_channels*2, 1, bias=not use_bn),\n",
        "            nn.Conv2d(base_channels*2, base_channels*4, 1, bias=not use_bn)\n",
        "        ])\n",
        "\n",
        "        self.global_avg_pool = nn.AdaptiveAvgPool2d(1)\n",
        "        self.fc = nn.Linear(base_channels*4, dataset_info['num_classes'])\n",
        "\n",
        "    def forward(self, x):\n",
        "        x = ACTIVATION(self.bn1(self.conv1(x)))\n",
        "\n",
        "        # Level 1 blocks\n",
        "        for block in self.levels[0]:\n",
        "            x = block(x)\n",
        "\n",
        "        # Downsample + transition + Level 2 blocks\n",
        "        x = F.avg_pool2d(x, 2)\n",
        "        x = self.transitions[0](x)\n",
        "        for block in self.levels[1]:\n",
        "            x = block(x)\n",
        "\n",
        "        # Downsample + transition + Level 3 blocks\n",
        "        x = F.avg_pool2d(x, 2)\n",
        "        x = self.transitions[1](x)\n",
        "        for block in self.levels[2]:\n",
        "            x = block(x)\n",
        "\n",
        "        x = self.global_avg_pool(x)\n",
        "        return self.fc(x.flatten(start_dim=1))"
      ]
    },
    {
      "cell_type": "markdown",
      "id": "f3bcd966-16ec-4978-bdbd-823a27b182ce",
      "metadata": {
        "id": "f3bcd966-16ec-4978-bdbd-823a27b182ce"
      },
      "source": [
        "So then with those new features turned off, we'll ahve a \"StandardCNN\", and with them turned on, we'll have (our own version of) a ResNet:"
      ]
    },
    {
      "cell_type": "code",
      "execution_count": 9,
      "id": "4dea8b45-1480-425d-8f26-a11bbc890643",
      "metadata": {
        "id": "4dea8b45-1480-425d-8f26-a11bbc890643"
      },
      "outputs": [],
      "source": [
        "class StandardCNN(FlexibleCNN):\n",
        "    def __init__(self, **kwargs):\n",
        "        super().__init__(use_skips=False, use_bn=False, **kwargs)\n",
        "\n",
        "\n",
        "class ResNet(FlexibleCNN):\n",
        "    def __init__(self, **kwargs):\n",
        "        super().__init__(use_skips=True, use_bn=True, **kwargs)"
      ]
    },
    {
      "cell_type": "markdown",
      "id": "96c6a119-a02f-45cb-a6ca-c7dcb36c8d97",
      "metadata": {
        "id": "96c6a119-a02f-45cb-a6ca-c7dcb36c8d97"
      },
      "source": [
        "\n",
        "### Train the Models\n",
        "\n",
        "Now let's set up the training code like we did in the previous lesson, and then run a few comparisons."
      ]
    },
    {
      "cell_type": "code",
      "execution_count": 10,
      "id": "3d38a189-6fb0-40e0-8ecc-f8245247ed8e",
      "metadata": {
        "id": "3d38a189-6fb0-40e0-8ecc-f8245247ed8e"
      },
      "outputs": [],
      "source": [
        "def train_model(model, train_loader, val_loader, name=None, epochs=40, lr=0.002, project=\"skips_tutorial\"):\n",
        "    # Initialize wandb\n",
        "    wandb.init(project=project+\"_\"+DATASET_NAME, name=name, reinit=True)\n",
        "    wandb.config.update({\n",
        "        \"epochs\": epochs,\n",
        "        \"batch_size\": batch_size,\n",
        "        \"learning_rate\": lr,\n",
        "        \"model\": model.__class__.__name__,\n",
        "        \"optimizer\": \"Adam\"\n",
        "    })\n",
        "\n",
        "    criterion = nn.CrossEntropyLoss(label_smoothing=0.05)\n",
        "    optimizer = optim.Adam(model.parameters(), lr=lr, weight_decay=5e-5)\n",
        "\n",
        "    global_step = 0\n",
        "    exp_beta = 0.97\n",
        "    train_loss_avg = None\n",
        "\n",
        "    for epoch in range(epochs):\n",
        "        # Training phase\n",
        "        model.train()\n",
        "        pbar = tqdm(train_loader, desc=f'Epoch {epoch+1}/{epochs}')\n",
        "\n",
        "        for batch_idx, (data, target) in enumerate(pbar):\n",
        "            data, target = data.to(device), target.to(device)\n",
        "            data, target = cutmix_or_mixup(data, target)\n",
        "\n",
        "            optimizer.zero_grad()\n",
        "            output = model(data)\n",
        "            loss = criterion(output, target)\n",
        "            loss.backward()\n",
        "            optimizer.step()\n",
        "\n",
        "            # Log every step\n",
        "            train_loss_avg = loss.item() if train_loss_avg is None else train_loss_avg * exp_beta + loss.item() * (1 - exp_beta)\n",
        "\n",
        "            wandb.log({\n",
        "                \"step\": global_step,\n",
        "                \"train_loss\": train_loss_avg,\n",
        "                \"epoch\": epoch + 1\n",
        "            })\n",
        "\n",
        "            global_step += 1\n",
        "            pbar.set_postfix({'Train_Loss': f'{train_loss_avg:.4f}'})\n",
        "\n",
        "        # Evaluation phase (once per epoch)\n",
        "        model.eval()\n",
        "        val_loss = 0\n",
        "        correct = 0\n",
        "        total = 0\n",
        "\n",
        "        with torch.no_grad():\n",
        "            for data, target in val_loader:\n",
        "                data, target = data.to(device), target.to(device)\n",
        "                output = model(data)\n",
        "                val_loss += criterion(output, target).item()\n",
        "                pred = output.argmax(dim=1, keepdim=True)\n",
        "                correct += pred.eq(target.view_as(pred)).sum().item()\n",
        "                total += target.size(0)\n",
        "\n",
        "        val_loss /= len(val_loader)\n",
        "        val_acc = 100. * correct / total\n",
        "\n",
        "        wandb.log({\n",
        "            \"epoch\": epoch + 1,\n",
        "            \"val_loss\": val_loss,\n",
        "            \"val_accuracy\": val_acc\n",
        "        })\n",
        "\n",
        "        print(f'Epoch {epoch+1}: Val Loss: {val_loss:.4f}, Val Acc: {val_acc:.2f}%')\n",
        "\n",
        "    wandb.finish()\n",
        "    return val_acc"
      ]
    },
    {
      "cell_type": "markdown",
      "id": "f3e9fe59-42b7-4d47-84b3-3190b5ee6385",
      "metadata": {
        "id": "f3e9fe59-42b7-4d47-84b3-3190b5ee6385"
      },
      "source": [
        "We'll start with fairly shallow networks:"
      ]
    },
    {
      "cell_type": "code",
      "execution_count": 11,
      "id": "9d5d823e-caea-47c6-b4a5-81e26e97bf4c",
      "metadata": {
        "id": "9d5d823e-caea-47c6-b4a5-81e26e97bf4c",
        "outputId": "0043bae1-4240-4664-d82c-4cc703658683",
        "colab": {
          "base_uri": "https://localhost:8080/",
          "height": 1000
        }
      },
      "outputs": [
        {
          "output_type": "stream",
          "name": "stderr",
          "text": [
            "\u001b[34m\u001b[1mwandb\u001b[0m: Currently logged in as: \u001b[33mdrscotthawley\u001b[0m to \u001b[32mhttps://api.wandb.ai\u001b[0m. Use \u001b[1m`wandb login --relogin`\u001b[0m to force relogin\n",
            "\u001b[34m\u001b[1mwandb\u001b[0m: \u001b[33mWARNING\u001b[0m Using a boolean value for 'reinit' is deprecated. Use 'return_previous' or 'finish_previous' instead.\n"
          ]
        },
        {
          "output_type": "display_data",
          "data": {
            "text/plain": [
              "<IPython.core.display.HTML object>"
            ],
            "text/html": []
          },
          "metadata": {}
        },
        {
          "output_type": "display_data",
          "data": {
            "text/plain": [
              "<IPython.core.display.HTML object>"
            ],
            "text/html": [
              "Tracking run with wandb version 0.21.4"
            ]
          },
          "metadata": {}
        },
        {
          "output_type": "display_data",
          "data": {
            "text/plain": [
              "<IPython.core.display.HTML object>"
            ],
            "text/html": [
              "Run data is saved locally in <code>/content/wandb/run-20250929_154035-mh6lzwmg</code>"
            ]
          },
          "metadata": {}
        },
        {
          "output_type": "display_data",
          "data": {
            "text/plain": [
              "<IPython.core.display.HTML object>"
            ],
            "text/html": [
              "Syncing run <strong><a href='https://wandb.ai/drscotthawley/skips_tutorial_CIFAR100/runs/mh6lzwmg' target=\"_blank\">shallow_cnn</a></strong> to <a href='https://wandb.ai/drscotthawley/skips_tutorial_CIFAR100' target=\"_blank\">Weights & Biases</a> (<a href='https://wandb.me/developer-guide' target=\"_blank\">docs</a>)<br>"
            ]
          },
          "metadata": {}
        },
        {
          "output_type": "display_data",
          "data": {
            "text/plain": [
              "<IPython.core.display.HTML object>"
            ],
            "text/html": [
              " View project at <a href='https://wandb.ai/drscotthawley/skips_tutorial_CIFAR100' target=\"_blank\">https://wandb.ai/drscotthawley/skips_tutorial_CIFAR100</a>"
            ]
          },
          "metadata": {}
        },
        {
          "output_type": "display_data",
          "data": {
            "text/plain": [
              "<IPython.core.display.HTML object>"
            ],
            "text/html": [
              " View run at <a href='https://wandb.ai/drscotthawley/skips_tutorial_CIFAR100/runs/mh6lzwmg' target=\"_blank\">https://wandb.ai/drscotthawley/skips_tutorial_CIFAR100/runs/mh6lzwmg</a>"
            ]
          },
          "metadata": {}
        },
        {
          "output_type": "stream",
          "name": "stderr",
          "text": [
            "Epoch 1/40: 100%|██████████| 391/391 [00:18<00:00, 21.44it/s, Train_Loss=4.2055]\n"
          ]
        },
        {
          "output_type": "stream",
          "name": "stdout",
          "text": [
            "Epoch 1: Val Loss: 4.0394, Val Acc: 7.97%\n"
          ]
        },
        {
          "output_type": "stream",
          "name": "stderr",
          "text": [
            "Epoch 2/40: 100%|██████████| 391/391 [00:17<00:00, 22.79it/s, Train_Loss=3.9336]\n"
          ]
        },
        {
          "output_type": "stream",
          "name": "stdout",
          "text": [
            "Epoch 2: Val Loss: 3.6986, Val Acc: 14.40%\n"
          ]
        },
        {
          "output_type": "stream",
          "name": "stderr",
          "text": [
            "Epoch 3/40: 100%|██████████| 391/391 [00:17<00:00, 22.96it/s, Train_Loss=3.6300]\n"
          ]
        },
        {
          "output_type": "stream",
          "name": "stdout",
          "text": [
            "Epoch 3: Val Loss: 3.3944, Val Acc: 20.80%\n"
          ]
        },
        {
          "output_type": "stream",
          "name": "stderr",
          "text": [
            "Epoch 4/40: 100%|██████████| 391/391 [00:16<00:00, 23.04it/s, Train_Loss=3.4110]\n"
          ]
        },
        {
          "output_type": "stream",
          "name": "stdout",
          "text": [
            "Epoch 4: Val Loss: 3.1496, Val Acc: 26.72%\n"
          ]
        },
        {
          "output_type": "stream",
          "name": "stderr",
          "text": [
            "Epoch 5/40: 100%|██████████| 391/391 [00:16<00:00, 23.08it/s, Train_Loss=3.2803]\n"
          ]
        },
        {
          "output_type": "stream",
          "name": "stdout",
          "text": [
            "Epoch 5: Val Loss: 2.8300, Val Acc: 34.98%\n"
          ]
        },
        {
          "output_type": "stream",
          "name": "stderr",
          "text": [
            "Epoch 6/40: 100%|██████████| 391/391 [00:16<00:00, 23.40it/s, Train_Loss=3.0003]\n"
          ]
        },
        {
          "output_type": "stream",
          "name": "stdout",
          "text": [
            "Epoch 6: Val Loss: 2.7043, Val Acc: 36.96%\n"
          ]
        },
        {
          "output_type": "stream",
          "name": "stderr",
          "text": [
            "Epoch 7/40: 100%|██████████| 391/391 [00:16<00:00, 23.21it/s, Train_Loss=2.9369]\n"
          ]
        },
        {
          "output_type": "stream",
          "name": "stdout",
          "text": [
            "Epoch 7: Val Loss: 2.6157, Val Acc: 38.69%\n"
          ]
        },
        {
          "output_type": "stream",
          "name": "stderr",
          "text": [
            "Epoch 8/40: 100%|██████████| 391/391 [00:17<00:00, 22.94it/s, Train_Loss=2.9165]\n"
          ]
        },
        {
          "output_type": "stream",
          "name": "stdout",
          "text": [
            "Epoch 8: Val Loss: 2.5094, Val Acc: 41.60%\n"
          ]
        },
        {
          "output_type": "stream",
          "name": "stderr",
          "text": [
            "Epoch 9/40: 100%|██████████| 391/391 [00:17<00:00, 22.96it/s, Train_Loss=2.9346]\n"
          ]
        },
        {
          "output_type": "stream",
          "name": "stdout",
          "text": [
            "Epoch 9: Val Loss: 2.4552, Val Acc: 43.43%\n"
          ]
        },
        {
          "output_type": "stream",
          "name": "stderr",
          "text": [
            "Epoch 10/40: 100%|██████████| 391/391 [00:16<00:00, 23.22it/s, Train_Loss=2.8100]\n"
          ]
        },
        {
          "output_type": "stream",
          "name": "stdout",
          "text": [
            "Epoch 10: Val Loss: 2.3981, Val Acc: 44.00%\n"
          ]
        },
        {
          "output_type": "stream",
          "name": "stderr",
          "text": [
            "Epoch 11/40: 100%|██████████| 391/391 [00:16<00:00, 23.29it/s, Train_Loss=2.8369]\n"
          ]
        },
        {
          "output_type": "stream",
          "name": "stdout",
          "text": [
            "Epoch 11: Val Loss: 2.2956, Val Acc: 48.13%\n"
          ]
        },
        {
          "output_type": "stream",
          "name": "stderr",
          "text": [
            "Epoch 12/40: 100%|██████████| 391/391 [00:16<00:00, 23.23it/s, Train_Loss=2.7625]\n"
          ]
        },
        {
          "output_type": "stream",
          "name": "stdout",
          "text": [
            "Epoch 12: Val Loss: 2.3149, Val Acc: 47.66%\n"
          ]
        },
        {
          "output_type": "stream",
          "name": "stderr",
          "text": [
            "Epoch 13/40: 100%|██████████| 391/391 [00:17<00:00, 22.90it/s, Train_Loss=2.6648]\n"
          ]
        },
        {
          "output_type": "stream",
          "name": "stdout",
          "text": [
            "Epoch 13: Val Loss: 2.1912, Val Acc: 49.77%\n"
          ]
        },
        {
          "output_type": "stream",
          "name": "stderr",
          "text": [
            "Epoch 14/40: 100%|██████████| 391/391 [00:16<00:00, 23.25it/s, Train_Loss=2.6904]\n"
          ]
        },
        {
          "output_type": "stream",
          "name": "stdout",
          "text": [
            "Epoch 14: Val Loss: 2.2192, Val Acc: 48.94%\n"
          ]
        },
        {
          "output_type": "stream",
          "name": "stderr",
          "text": [
            "Epoch 15/40: 100%|██████████| 391/391 [00:16<00:00, 23.51it/s, Train_Loss=2.5372]\n"
          ]
        },
        {
          "output_type": "stream",
          "name": "stdout",
          "text": [
            "Epoch 15: Val Loss: 2.1619, Val Acc: 50.60%\n"
          ]
        },
        {
          "output_type": "stream",
          "name": "stderr",
          "text": [
            "Epoch 16/40: 100%|██████████| 391/391 [00:16<00:00, 23.37it/s, Train_Loss=2.5919]\n"
          ]
        },
        {
          "output_type": "stream",
          "name": "stdout",
          "text": [
            "Epoch 16: Val Loss: 2.1219, Val Acc: 51.93%\n"
          ]
        },
        {
          "output_type": "stream",
          "name": "stderr",
          "text": [
            "Epoch 17/40: 100%|██████████| 391/391 [00:16<00:00, 23.20it/s, Train_Loss=2.7478]\n"
          ]
        },
        {
          "output_type": "stream",
          "name": "stdout",
          "text": [
            "Epoch 17: Val Loss: 2.2090, Val Acc: 50.80%\n"
          ]
        },
        {
          "output_type": "stream",
          "name": "stderr",
          "text": [
            "Epoch 18/40: 100%|██████████| 391/391 [00:16<00:00, 23.16it/s, Train_Loss=2.6328]\n"
          ]
        },
        {
          "output_type": "stream",
          "name": "stdout",
          "text": [
            "Epoch 18: Val Loss: 2.1601, Val Acc: 50.91%\n"
          ]
        },
        {
          "output_type": "stream",
          "name": "stderr",
          "text": [
            "Epoch 19/40: 100%|██████████| 391/391 [00:16<00:00, 23.60it/s, Train_Loss=2.5225]\n"
          ]
        },
        {
          "output_type": "stream",
          "name": "stdout",
          "text": [
            "Epoch 19: Val Loss: 2.0479, Val Acc: 53.39%\n"
          ]
        },
        {
          "output_type": "stream",
          "name": "stderr",
          "text": [
            "Epoch 20/40: 100%|██████████| 391/391 [00:16<00:00, 23.31it/s, Train_Loss=2.5321]\n"
          ]
        },
        {
          "output_type": "stream",
          "name": "stdout",
          "text": [
            "Epoch 20: Val Loss: 2.1360, Val Acc: 51.56%\n"
          ]
        },
        {
          "output_type": "stream",
          "name": "stderr",
          "text": [
            "Epoch 21/40: 100%|██████████| 391/391 [00:16<00:00, 23.31it/s, Train_Loss=2.4987]\n"
          ]
        },
        {
          "output_type": "stream",
          "name": "stdout",
          "text": [
            "Epoch 21: Val Loss: 2.0064, Val Acc: 55.21%\n"
          ]
        },
        {
          "output_type": "stream",
          "name": "stderr",
          "text": [
            "Epoch 22/40: 100%|██████████| 391/391 [00:16<00:00, 23.03it/s, Train_Loss=2.5862]\n"
          ]
        },
        {
          "output_type": "stream",
          "name": "stdout",
          "text": [
            "Epoch 22: Val Loss: 2.0289, Val Acc: 54.43%\n"
          ]
        },
        {
          "output_type": "stream",
          "name": "stderr",
          "text": [
            "Epoch 23/40: 100%|██████████| 391/391 [00:16<00:00, 23.28it/s, Train_Loss=2.4350]\n"
          ]
        },
        {
          "output_type": "stream",
          "name": "stdout",
          "text": [
            "Epoch 23: Val Loss: 2.0886, Val Acc: 53.13%\n"
          ]
        },
        {
          "output_type": "stream",
          "name": "stderr",
          "text": [
            "Epoch 24/40: 100%|██████████| 391/391 [00:16<00:00, 23.39it/s, Train_Loss=2.4938]\n"
          ]
        },
        {
          "output_type": "stream",
          "name": "stdout",
          "text": [
            "Epoch 24: Val Loss: 2.0110, Val Acc: 55.43%\n"
          ]
        },
        {
          "output_type": "stream",
          "name": "stderr",
          "text": [
            "Epoch 25/40: 100%|██████████| 391/391 [00:16<00:00, 23.24it/s, Train_Loss=2.3825]\n"
          ]
        },
        {
          "output_type": "stream",
          "name": "stdout",
          "text": [
            "Epoch 25: Val Loss: 1.9885, Val Acc: 55.62%\n"
          ]
        },
        {
          "output_type": "stream",
          "name": "stderr",
          "text": [
            "Epoch 26/40: 100%|██████████| 391/391 [00:16<00:00, 23.01it/s, Train_Loss=2.5320]\n"
          ]
        },
        {
          "output_type": "stream",
          "name": "stdout",
          "text": [
            "Epoch 26: Val Loss: 1.9801, Val Acc: 55.83%\n"
          ]
        },
        {
          "output_type": "stream",
          "name": "stderr",
          "text": [
            "Epoch 27/40: 100%|██████████| 391/391 [00:17<00:00, 22.82it/s, Train_Loss=2.5879]\n"
          ]
        },
        {
          "output_type": "stream",
          "name": "stdout",
          "text": [
            "Epoch 27: Val Loss: 1.9763, Val Acc: 56.66%\n"
          ]
        },
        {
          "output_type": "stream",
          "name": "stderr",
          "text": [
            "Epoch 28/40: 100%|██████████| 391/391 [00:16<00:00, 23.05it/s, Train_Loss=2.4736]\n"
          ]
        },
        {
          "output_type": "stream",
          "name": "stdout",
          "text": [
            "Epoch 28: Val Loss: 1.9593, Val Acc: 56.42%\n"
          ]
        },
        {
          "output_type": "stream",
          "name": "stderr",
          "text": [
            "Epoch 29/40: 100%|██████████| 391/391 [00:16<00:00, 23.15it/s, Train_Loss=2.4910]\n"
          ]
        },
        {
          "output_type": "stream",
          "name": "stdout",
          "text": [
            "Epoch 29: Val Loss: 1.9997, Val Acc: 56.20%\n"
          ]
        },
        {
          "output_type": "stream",
          "name": "stderr",
          "text": [
            "Epoch 30/40: 100%|██████████| 391/391 [00:16<00:00, 23.49it/s, Train_Loss=2.4566]\n"
          ]
        },
        {
          "output_type": "stream",
          "name": "stdout",
          "text": [
            "Epoch 30: Val Loss: 1.9499, Val Acc: 57.36%\n"
          ]
        },
        {
          "output_type": "stream",
          "name": "stderr",
          "text": [
            "Epoch 31/40: 100%|██████████| 391/391 [00:16<00:00, 23.40it/s, Train_Loss=2.5444]\n"
          ]
        },
        {
          "output_type": "stream",
          "name": "stdout",
          "text": [
            "Epoch 31: Val Loss: 1.9783, Val Acc: 56.43%\n"
          ]
        },
        {
          "output_type": "stream",
          "name": "stderr",
          "text": [
            "Epoch 32/40: 100%|██████████| 391/391 [00:16<00:00, 23.28it/s, Train_Loss=2.3672]\n"
          ]
        },
        {
          "output_type": "stream",
          "name": "stdout",
          "text": [
            "Epoch 32: Val Loss: 1.9231, Val Acc: 57.42%\n"
          ]
        },
        {
          "output_type": "stream",
          "name": "stderr",
          "text": [
            "Epoch 33/40: 100%|██████████| 391/391 [00:16<00:00, 23.28it/s, Train_Loss=2.4149]\n"
          ]
        },
        {
          "output_type": "stream",
          "name": "stdout",
          "text": [
            "Epoch 33: Val Loss: 1.9391, Val Acc: 57.36%\n"
          ]
        },
        {
          "output_type": "stream",
          "name": "stderr",
          "text": [
            "Epoch 34/40: 100%|██████████| 391/391 [00:16<00:00, 23.02it/s, Train_Loss=2.3379]\n"
          ]
        },
        {
          "output_type": "stream",
          "name": "stdout",
          "text": [
            "Epoch 34: Val Loss: 1.9333, Val Acc: 57.25%\n"
          ]
        },
        {
          "output_type": "stream",
          "name": "stderr",
          "text": [
            "Epoch 35/40: 100%|██████████| 391/391 [00:16<00:00, 23.29it/s, Train_Loss=2.2115]\n"
          ]
        },
        {
          "output_type": "stream",
          "name": "stdout",
          "text": [
            "Epoch 35: Val Loss: 1.9153, Val Acc: 57.26%\n"
          ]
        },
        {
          "output_type": "stream",
          "name": "stderr",
          "text": [
            "Epoch 36/40: 100%|██████████| 391/391 [00:16<00:00, 23.17it/s, Train_Loss=2.4126]\n"
          ]
        },
        {
          "output_type": "stream",
          "name": "stdout",
          "text": [
            "Epoch 36: Val Loss: 1.9123, Val Acc: 57.37%\n"
          ]
        },
        {
          "output_type": "stream",
          "name": "stderr",
          "text": [
            "Epoch 37/40: 100%|██████████| 391/391 [00:16<00:00, 23.07it/s, Train_Loss=2.2485]\n"
          ]
        },
        {
          "output_type": "stream",
          "name": "stdout",
          "text": [
            "Epoch 37: Val Loss: 1.8725, Val Acc: 58.79%\n"
          ]
        },
        {
          "output_type": "stream",
          "name": "stderr",
          "text": [
            "Epoch 38/40: 100%|██████████| 391/391 [00:16<00:00, 23.19it/s, Train_Loss=2.5411]\n"
          ]
        },
        {
          "output_type": "stream",
          "name": "stdout",
          "text": [
            "Epoch 38: Val Loss: 1.9834, Val Acc: 57.28%\n"
          ]
        },
        {
          "output_type": "stream",
          "name": "stderr",
          "text": [
            "Epoch 39/40: 100%|██████████| 391/391 [00:16<00:00, 23.02it/s, Train_Loss=2.4389]\n"
          ]
        },
        {
          "output_type": "stream",
          "name": "stdout",
          "text": [
            "Epoch 39: Val Loss: 1.9012, Val Acc: 58.34%\n"
          ]
        },
        {
          "output_type": "stream",
          "name": "stderr",
          "text": [
            "Epoch 40/40: 100%|██████████| 391/391 [00:16<00:00, 23.37it/s, Train_Loss=2.3579]\n"
          ]
        },
        {
          "output_type": "stream",
          "name": "stdout",
          "text": [
            "Epoch 40: Val Loss: 1.9326, Val Acc: 57.19%\n"
          ]
        },
        {
          "output_type": "display_data",
          "data": {
            "text/plain": [
              "<IPython.core.display.HTML object>"
            ],
            "text/html": []
          },
          "metadata": {}
        },
        {
          "output_type": "display_data",
          "data": {
            "text/plain": [
              "<IPython.core.display.HTML object>"
            ],
            "text/html": [
              "<br>    <style><br>        .wandb-row {<br>            display: flex;<br>            flex-direction: row;<br>            flex-wrap: wrap;<br>            justify-content: flex-start;<br>            width: 100%;<br>        }<br>        .wandb-col {<br>            display: flex;<br>            flex-direction: column;<br>            flex-basis: 100%;<br>            flex: 1;<br>            padding: 10px;<br>        }<br>    </style><br><div class=\"wandb-row\"><div class=\"wandb-col\"><h3>Run history:</h3><br/><table class=\"wandb\"><tr><td>epoch</td><td>▁▁▂▂▂▂▂▂▃▃▃▃▄▄▄▄▄▄▅▅▅▅▅▅▅▆▆▆▆▇▇▇▇███████</td></tr><tr><td>step</td><td>▁▁▂▂▂▂▂▂▂▂▃▃▃▃▄▄▄▄▄▅▅▅▅▅▅▅▅▆▆▆▆▆▆▇▇█████</td></tr><tr><td>train_loss</td><td>█▇▇▆▅▄▄▄▄▄▃▃▃▃▃▂▂▂▂▂▂▂▂▂▂▁▂▂▁▁▁▁▁▁▁▂▁▂▁▁</td></tr><tr><td>val_accuracy</td><td>▁▂▃▄▅▅▅▆▆▆▇▆▇▇▇▇▇▇▇▇█▇▇█████████████████</td></tr><tr><td>val_loss</td><td>█▇▆▅▄▄▃▃▃▃▂▂▂▂▂▂▂▂▂▂▁▂▂▁▁▁▁▁▁▁▁▁▁▁▁▁▁▁▁▁</td></tr></table><br/></div><div class=\"wandb-col\"><h3>Run summary:</h3><br/><table class=\"wandb\"><tr><td>epoch</td><td>40</td></tr><tr><td>step</td><td>15639</td></tr><tr><td>train_loss</td><td>2.35789</td></tr><tr><td>val_accuracy</td><td>57.19</td></tr><tr><td>val_loss</td><td>1.93256</td></tr></table><br/></div></div>"
            ]
          },
          "metadata": {}
        },
        {
          "output_type": "display_data",
          "data": {
            "text/plain": [
              "<IPython.core.display.HTML object>"
            ],
            "text/html": [
              " View run <strong style=\"color:#cdcd00\">shallow_cnn</strong> at: <a href='https://wandb.ai/drscotthawley/skips_tutorial_CIFAR100/runs/mh6lzwmg' target=\"_blank\">https://wandb.ai/drscotthawley/skips_tutorial_CIFAR100/runs/mh6lzwmg</a><br> View project at: <a href='https://wandb.ai/drscotthawley/skips_tutorial_CIFAR100' target=\"_blank\">https://wandb.ai/drscotthawley/skips_tutorial_CIFAR100</a><br>Synced 5 W&B file(s), 0 media file(s), 0 artifact file(s) and 0 other file(s)"
            ]
          },
          "metadata": {}
        },
        {
          "output_type": "display_data",
          "data": {
            "text/plain": [
              "<IPython.core.display.HTML object>"
            ],
            "text/html": [
              "Find logs at: <code>./wandb/run-20250929_154035-mh6lzwmg/logs</code>"
            ]
          },
          "metadata": {}
        },
        {
          "output_type": "execute_result",
          "data": {
            "text/plain": [
              "57.19"
            ]
          },
          "metadata": {},
          "execution_count": 11
        }
      ],
      "source": [
        "shallow_cnn = StandardCNN(blocks_per_level=1).to(device)\n",
        "train_model(shallow_cnn, train_loader, val_loader, name=\"shallow_cnn\")"
      ]
    },
    {
      "cell_type": "markdown",
      "id": "6912c6c7-b78e-496f-a9e9-6de6c68d276d",
      "metadata": {
        "id": "6912c6c7-b78e-496f-a9e9-6de6c68d276d"
      },
      "source": [
        "And now the shallow ResNet (probably won't show much difference)..."
      ]
    },
    {
      "cell_type": "code",
      "execution_count": 12,
      "id": "2f116937-2334-43ad-bed4-d08eca3d34ee",
      "metadata": {
        "id": "2f116937-2334-43ad-bed4-d08eca3d34ee",
        "outputId": "fb9a1703-1e26-4789-f4ab-1f4d3a950d1c",
        "colab": {
          "base_uri": "https://localhost:8080/",
          "height": 1000
        }
      },
      "outputs": [
        {
          "data": {
            "text/html": [],
            "text/plain": [
              "<IPython.core.display.HTML object>"
            ]
          },
          "metadata": {},
          "output_type": "display_data"
        },
        {
          "data": {
            "text/html": [
              "Tracking run with wandb version 0.21.4"
            ],
            "text/plain": [
              "<IPython.core.display.HTML object>"
            ]
          },
          "metadata": {},
          "output_type": "display_data"
        },
        {
          "data": {
            "text/html": [
              "Run data is saved locally in <code>/content/wandb/run-20250929_155243-8pouicj5</code>"
            ],
            "text/plain": [
              "<IPython.core.display.HTML object>"
            ]
          },
          "metadata": {},
          "output_type": "display_data"
        },
        {
          "data": {
            "text/html": [
              "Syncing run <strong><a href='https://wandb.ai/drscotthawley/skips_tutorial_CIFAR100/runs/8pouicj5' target=\"_blank\">shallow_resnet</a></strong> to <a href='https://wandb.ai/drscotthawley/skips_tutorial_CIFAR100' target=\"_blank\">Weights & Biases</a> (<a href='https://wandb.me/developer-guide' target=\"_blank\">docs</a>)<br>"
            ],
            "text/plain": [
              "<IPython.core.display.HTML object>"
            ]
          },
          "metadata": {},
          "output_type": "display_data"
        },
        {
          "data": {
            "text/html": [
              " View project at <a href='https://wandb.ai/drscotthawley/skips_tutorial_CIFAR100' target=\"_blank\">https://wandb.ai/drscotthawley/skips_tutorial_CIFAR100</a>"
            ],
            "text/plain": [
              "<IPython.core.display.HTML object>"
            ]
          },
          "metadata": {},
          "output_type": "display_data"
        },
        {
          "data": {
            "text/html": [
              " View run at <a href='https://wandb.ai/drscotthawley/skips_tutorial_CIFAR100/runs/8pouicj5' target=\"_blank\">https://wandb.ai/drscotthawley/skips_tutorial_CIFAR100/runs/8pouicj5</a>"
            ],
            "text/plain": [
              "<IPython.core.display.HTML object>"
            ]
          },
          "metadata": {},
          "output_type": "display_data"
        },
        {
          "metadata": {
            "tags": null
          },
          "name": "stderr",
          "output_type": "stream",
          "text": [
            "Epoch 1/40: 100%|██████████| 391/391 [00:16<00:00, 23.11it/s, Train_Loss=3.9196]\n"
          ]
        },
        {
          "metadata": {
            "tags": null
          },
          "name": "stdout",
          "output_type": "stream",
          "text": [
            "Epoch 1: Val Loss: 3.7813, Val Acc: 11.87%\n"
          ]
        },
        {
          "metadata": {
            "tags": null
          },
          "name": "stderr",
          "output_type": "stream",
          "text": [
            "Epoch 2/40: 100%|██████████| 391/391 [00:16<00:00, 23.12it/s, Train_Loss=3.6176]\n"
          ]
        },
        {
          "metadata": {
            "tags": null
          },
          "name": "stdout",
          "output_type": "stream",
          "text": [
            "Epoch 2: Val Loss: 3.3845, Val Acc: 20.87%\n"
          ]
        },
        {
          "metadata": {
            "tags": null
          },
          "name": "stderr",
          "output_type": "stream",
          "text": [
            "Epoch 3/40: 100%|██████████| 391/391 [00:16<00:00, 23.08it/s, Train_Loss=3.4242]\n"
          ]
        },
        {
          "metadata": {
            "tags": null
          },
          "name": "stdout",
          "output_type": "stream",
          "text": [
            "Epoch 3: Val Loss: 3.0631, Val Acc: 26.80%\n"
          ]
        },
        {
          "metadata": {
            "tags": null
          },
          "name": "stderr",
          "output_type": "stream",
          "text": [
            "Epoch 4/40: 100%|██████████| 391/391 [00:16<00:00, 23.11it/s, Train_Loss=3.2236]\n"
          ]
        },
        {
          "metadata": {
            "tags": null
          },
          "name": "stdout",
          "output_type": "stream",
          "text": [
            "Epoch 4: Val Loss: 2.8782, Val Acc: 31.75%\n"
          ]
        },
        {
          "metadata": {
            "tags": null
          },
          "name": "stderr",
          "output_type": "stream",
          "text": [
            "Epoch 5/40: 100%|██████████| 391/391 [00:16<00:00, 23.13it/s, Train_Loss=3.0759]\n"
          ]
        },
        {
          "metadata": {
            "tags": null
          },
          "name": "stdout",
          "output_type": "stream",
          "text": [
            "Epoch 5: Val Loss: 2.6879, Val Acc: 36.50%\n"
          ]
        },
        {
          "metadata": {
            "tags": null
          },
          "name": "stderr",
          "output_type": "stream",
          "text": [
            "Epoch 6/40: 100%|██████████| 391/391 [00:16<00:00, 23.15it/s, Train_Loss=2.8807]\n"
          ]
        },
        {
          "metadata": {
            "tags": null
          },
          "name": "stdout",
          "output_type": "stream",
          "text": [
            "Epoch 6: Val Loss: 2.5545, Val Acc: 40.21%\n"
          ]
        },
        {
          "metadata": {
            "tags": null
          },
          "name": "stderr",
          "output_type": "stream",
          "text": [
            "Epoch 7/40: 100%|██████████| 391/391 [00:16<00:00, 23.45it/s, Train_Loss=2.9281]\n"
          ]
        },
        {
          "metadata": {
            "tags": null
          },
          "name": "stdout",
          "output_type": "stream",
          "text": [
            "Epoch 7: Val Loss: 2.4316, Val Acc: 43.21%\n"
          ]
        },
        {
          "metadata": {
            "tags": null
          },
          "name": "stderr",
          "output_type": "stream",
          "text": [
            "Epoch 8/40: 100%|██████████| 391/391 [00:16<00:00, 23.30it/s, Train_Loss=2.8735]\n"
          ]
        },
        {
          "metadata": {
            "tags": null
          },
          "name": "stdout",
          "output_type": "stream",
          "text": [
            "Epoch 8: Val Loss: 2.3626, Val Acc: 44.90%\n"
          ]
        },
        {
          "metadata": {
            "tags": null
          },
          "name": "stderr",
          "output_type": "stream",
          "text": [
            "Epoch 9/40: 100%|██████████| 391/391 [00:17<00:00, 22.97it/s, Train_Loss=2.7447]\n"
          ]
        },
        {
          "metadata": {
            "tags": null
          },
          "name": "stdout",
          "output_type": "stream",
          "text": [
            "Epoch 9: Val Loss: 2.2699, Val Acc: 47.44%\n"
          ]
        },
        {
          "metadata": {
            "tags": null
          },
          "name": "stderr",
          "output_type": "stream",
          "text": [
            "Epoch 10/40: 100%|██████████| 391/391 [00:16<00:00, 23.33it/s, Train_Loss=2.6782]\n"
          ]
        },
        {
          "metadata": {
            "tags": null
          },
          "name": "stdout",
          "output_type": "stream",
          "text": [
            "Epoch 10: Val Loss: 2.2716, Val Acc: 47.33%\n"
          ]
        },
        {
          "metadata": {
            "tags": null
          },
          "name": "stderr",
          "output_type": "stream",
          "text": [
            "Epoch 11/40: 100%|██████████| 391/391 [00:16<00:00, 23.18it/s, Train_Loss=2.8649]\n"
          ]
        },
        {
          "metadata": {
            "tags": null
          },
          "name": "stdout",
          "output_type": "stream",
          "text": [
            "Epoch 11: Val Loss: 2.1997, Val Acc: 50.17%\n"
          ]
        },
        {
          "output_type": "stream",
          "name": "stderr",
          "text": [
            "Epoch 12/40: 100%|██████████| 391/391 [00:16<00:00, 23.08it/s, Train_Loss=2.6221]\n"
          ]
        },
        {
          "output_type": "stream",
          "name": "stdout",
          "text": [
            "Epoch 12: Val Loss: 2.1769, Val Acc: 49.18%\n"
          ]
        },
        {
          "output_type": "stream",
          "name": "stderr",
          "text": [
            "Epoch 13/40: 100%|██████████| 391/391 [00:16<00:00, 23.04it/s, Train_Loss=2.6483]\n"
          ]
        },
        {
          "output_type": "stream",
          "name": "stdout",
          "text": [
            "Epoch 13: Val Loss: 2.1341, Val Acc: 50.66%\n"
          ]
        },
        {
          "output_type": "stream",
          "name": "stderr",
          "text": [
            "Epoch 14/40: 100%|██████████| 391/391 [00:16<00:00, 23.16it/s, Train_Loss=2.5433]\n"
          ]
        },
        {
          "output_type": "stream",
          "name": "stdout",
          "text": [
            "Epoch 14: Val Loss: 2.1278, Val Acc: 51.41%\n"
          ]
        },
        {
          "output_type": "stream",
          "name": "stderr",
          "text": [
            "Epoch 15/40: 100%|██████████| 391/391 [00:16<00:00, 23.05it/s, Train_Loss=2.6530]\n"
          ]
        },
        {
          "output_type": "stream",
          "name": "stdout",
          "text": [
            "Epoch 15: Val Loss: 2.1799, Val Acc: 50.21%\n"
          ]
        },
        {
          "output_type": "stream",
          "name": "stderr",
          "text": [
            "Epoch 16/40: 100%|██████████| 391/391 [00:16<00:00, 23.16it/s, Train_Loss=2.5280]\n"
          ]
        },
        {
          "output_type": "stream",
          "name": "stdout",
          "text": [
            "Epoch 16: Val Loss: 2.0665, Val Acc: 53.00%\n"
          ]
        },
        {
          "output_type": "stream",
          "name": "stderr",
          "text": [
            "Epoch 17/40: 100%|██████████| 391/391 [00:17<00:00, 22.94it/s, Train_Loss=2.4799]\n"
          ]
        },
        {
          "output_type": "stream",
          "name": "stdout",
          "text": [
            "Epoch 17: Val Loss: 2.0138, Val Acc: 54.01%\n"
          ]
        },
        {
          "output_type": "stream",
          "name": "stderr",
          "text": [
            "Epoch 18/40: 100%|██████████| 391/391 [00:17<00:00, 22.95it/s, Train_Loss=2.6210]\n"
          ]
        },
        {
          "output_type": "stream",
          "name": "stdout",
          "text": [
            "Epoch 18: Val Loss: 2.0641, Val Acc: 53.51%\n"
          ]
        },
        {
          "output_type": "stream",
          "name": "stderr",
          "text": [
            "Epoch 19/40: 100%|██████████| 391/391 [00:16<00:00, 23.07it/s, Train_Loss=2.4752]\n"
          ]
        },
        {
          "output_type": "stream",
          "name": "stdout",
          "text": [
            "Epoch 19: Val Loss: 2.0085, Val Acc: 54.66%\n"
          ]
        },
        {
          "output_type": "stream",
          "name": "stderr",
          "text": [
            "Epoch 20/40: 100%|██████████| 391/391 [00:16<00:00, 23.03it/s, Train_Loss=2.3555]\n"
          ]
        },
        {
          "output_type": "stream",
          "name": "stdout",
          "text": [
            "Epoch 20: Val Loss: 1.9868, Val Acc: 55.06%\n"
          ]
        },
        {
          "output_type": "stream",
          "name": "stderr",
          "text": [
            "Epoch 21/40: 100%|██████████| 391/391 [00:17<00:00, 22.71it/s, Train_Loss=2.4096]\n"
          ]
        },
        {
          "output_type": "stream",
          "name": "stdout",
          "text": [
            "Epoch 21: Val Loss: 1.9545, Val Acc: 56.32%\n"
          ]
        },
        {
          "output_type": "stream",
          "name": "stderr",
          "text": [
            "Epoch 22/40: 100%|██████████| 391/391 [00:16<00:00, 23.03it/s, Train_Loss=2.3347]\n"
          ]
        },
        {
          "output_type": "stream",
          "name": "stdout",
          "text": [
            "Epoch 22: Val Loss: 1.9523, Val Acc: 55.69%\n"
          ]
        },
        {
          "output_type": "stream",
          "name": "stderr",
          "text": [
            "Epoch 23/40: 100%|██████████| 391/391 [00:17<00:00, 22.79it/s, Train_Loss=2.3689]\n"
          ]
        },
        {
          "output_type": "stream",
          "name": "stdout",
          "text": [
            "Epoch 23: Val Loss: 1.9415, Val Acc: 55.96%\n"
          ]
        },
        {
          "output_type": "stream",
          "name": "stderr",
          "text": [
            "Epoch 24/40: 100%|██████████| 391/391 [00:17<00:00, 22.76it/s, Train_Loss=2.4569]\n"
          ]
        },
        {
          "output_type": "stream",
          "name": "stdout",
          "text": [
            "Epoch 24: Val Loss: 1.9464, Val Acc: 56.04%\n"
          ]
        },
        {
          "output_type": "stream",
          "name": "stderr",
          "text": [
            "Epoch 25/40: 100%|██████████| 391/391 [00:17<00:00, 22.75it/s, Train_Loss=2.3312]\n"
          ]
        },
        {
          "output_type": "stream",
          "name": "stdout",
          "text": [
            "Epoch 25: Val Loss: 1.8783, Val Acc: 58.59%\n"
          ]
        },
        {
          "output_type": "stream",
          "name": "stderr",
          "text": [
            "Epoch 26/40: 100%|██████████| 391/391 [00:17<00:00, 22.70it/s, Train_Loss=2.4137]\n"
          ]
        },
        {
          "output_type": "stream",
          "name": "stdout",
          "text": [
            "Epoch 26: Val Loss: 1.9024, Val Acc: 57.17%\n"
          ]
        },
        {
          "output_type": "stream",
          "name": "stderr",
          "text": [
            "Epoch 27/40: 100%|██████████| 391/391 [00:17<00:00, 22.97it/s, Train_Loss=2.3103]\n"
          ]
        },
        {
          "output_type": "stream",
          "name": "stdout",
          "text": [
            "Epoch 27: Val Loss: 1.8729, Val Acc: 57.85%\n"
          ]
        },
        {
          "output_type": "stream",
          "name": "stderr",
          "text": [
            "Epoch 28/40: 100%|██████████| 391/391 [00:17<00:00, 22.48it/s, Train_Loss=2.3923]\n"
          ]
        },
        {
          "output_type": "stream",
          "name": "stdout",
          "text": [
            "Epoch 28: Val Loss: 1.8589, Val Acc: 58.97%\n"
          ]
        },
        {
          "output_type": "stream",
          "name": "stderr",
          "text": [
            "Epoch 29/40: 100%|██████████| 391/391 [00:16<00:00, 23.10it/s, Train_Loss=2.2846]\n"
          ]
        },
        {
          "output_type": "stream",
          "name": "stdout",
          "text": [
            "Epoch 29: Val Loss: 1.8820, Val Acc: 57.64%\n"
          ]
        },
        {
          "output_type": "stream",
          "name": "stderr",
          "text": [
            "Epoch 30/40: 100%|██████████| 391/391 [00:17<00:00, 22.80it/s, Train_Loss=2.2486]\n"
          ]
        },
        {
          "output_type": "stream",
          "name": "stdout",
          "text": [
            "Epoch 30: Val Loss: 1.8435, Val Acc: 59.06%\n"
          ]
        },
        {
          "output_type": "stream",
          "name": "stderr",
          "text": [
            "Epoch 31/40: 100%|██████████| 391/391 [00:17<00:00, 22.81it/s, Train_Loss=2.2954]\n"
          ]
        },
        {
          "output_type": "stream",
          "name": "stdout",
          "text": [
            "Epoch 31: Val Loss: 1.8476, Val Acc: 58.80%\n"
          ]
        },
        {
          "output_type": "stream",
          "name": "stderr",
          "text": [
            "Epoch 32/40: 100%|██████████| 391/391 [00:17<00:00, 22.60it/s, Train_Loss=2.3231]\n"
          ]
        },
        {
          "output_type": "stream",
          "name": "stdout",
          "text": [
            "Epoch 32: Val Loss: 1.8373, Val Acc: 59.18%\n"
          ]
        },
        {
          "output_type": "stream",
          "name": "stderr",
          "text": [
            "Epoch 33/40: 100%|██████████| 391/391 [00:16<00:00, 23.18it/s, Train_Loss=2.2522]\n"
          ]
        },
        {
          "output_type": "stream",
          "name": "stdout",
          "text": [
            "Epoch 33: Val Loss: 1.8516, Val Acc: 59.43%\n"
          ]
        },
        {
          "output_type": "stream",
          "name": "stderr",
          "text": [
            "Epoch 34/40: 100%|██████████| 391/391 [00:17<00:00, 22.90it/s, Train_Loss=2.2460]\n"
          ]
        },
        {
          "output_type": "stream",
          "name": "stdout",
          "text": [
            "Epoch 34: Val Loss: 1.8158, Val Acc: 59.87%\n"
          ]
        },
        {
          "output_type": "stream",
          "name": "stderr",
          "text": [
            "Epoch 35/40: 100%|██████████| 391/391 [00:17<00:00, 22.99it/s, Train_Loss=2.3586]\n"
          ]
        },
        {
          "output_type": "stream",
          "name": "stdout",
          "text": [
            "Epoch 35: Val Loss: 1.8250, Val Acc: 60.55%\n"
          ]
        },
        {
          "output_type": "stream",
          "name": "stderr",
          "text": [
            "Epoch 36/40: 100%|██████████| 391/391 [00:17<00:00, 22.71it/s, Train_Loss=2.2177]\n"
          ]
        },
        {
          "output_type": "stream",
          "name": "stdout",
          "text": [
            "Epoch 36: Val Loss: 1.7807, Val Acc: 60.77%\n"
          ]
        },
        {
          "output_type": "stream",
          "name": "stderr",
          "text": [
            "Epoch 37/40: 100%|██████████| 391/391 [00:17<00:00, 22.79it/s, Train_Loss=2.3092]\n"
          ]
        },
        {
          "output_type": "stream",
          "name": "stdout",
          "text": [
            "Epoch 37: Val Loss: 1.8441, Val Acc: 59.07%\n"
          ]
        },
        {
          "output_type": "stream",
          "name": "stderr",
          "text": [
            "Epoch 38/40: 100%|██████████| 391/391 [00:17<00:00, 23.00it/s, Train_Loss=2.2545]\n"
          ]
        },
        {
          "output_type": "stream",
          "name": "stdout",
          "text": [
            "Epoch 38: Val Loss: 1.8068, Val Acc: 60.48%\n"
          ]
        },
        {
          "output_type": "stream",
          "name": "stderr",
          "text": [
            "Epoch 39/40: 100%|██████████| 391/391 [00:17<00:00, 22.85it/s, Train_Loss=2.3648]\n"
          ]
        },
        {
          "output_type": "stream",
          "name": "stdout",
          "text": [
            "Epoch 39: Val Loss: 1.8256, Val Acc: 60.06%\n"
          ]
        },
        {
          "output_type": "stream",
          "name": "stderr",
          "text": [
            "Epoch 40/40: 100%|██████████| 391/391 [00:16<00:00, 23.21it/s, Train_Loss=2.2879]\n"
          ]
        },
        {
          "output_type": "stream",
          "name": "stdout",
          "text": [
            "Epoch 40: Val Loss: 1.8044, Val Acc: 59.52%\n"
          ]
        },
        {
          "output_type": "display_data",
          "data": {
            "text/plain": [
              "<IPython.core.display.HTML object>"
            ],
            "text/html": []
          },
          "metadata": {}
        },
        {
          "output_type": "display_data",
          "data": {
            "text/plain": [
              "<IPython.core.display.HTML object>"
            ],
            "text/html": [
              "<br>    <style><br>        .wandb-row {<br>            display: flex;<br>            flex-direction: row;<br>            flex-wrap: wrap;<br>            justify-content: flex-start;<br>            width: 100%;<br>        }<br>        .wandb-col {<br>            display: flex;<br>            flex-direction: column;<br>            flex-basis: 100%;<br>            flex: 1;<br>            padding: 10px;<br>        }<br>    </style><br><div class=\"wandb-row\"><div class=\"wandb-col\"><h3>Run history:</h3><br/><table class=\"wandb\"><tr><td>epoch</td><td>▁▁▂▂▂▂▂▂▂▂▂▃▃▃▃▃▃▃▃▃▄▄▅▅▅▅▅▆▆▆▆▆▇▇██████</td></tr><tr><td>step</td><td>▁▁▂▂▂▂▂▂▂▂▃▃▃▃▃▃▄▄▄▄▅▅▅▅▅▆▆▆▆▆▇▇▇▇▇▇████</td></tr><tr><td>train_loss</td><td>█▇▇▅▅▄▄▃▂▃▂▃▃▂▂▂▂▂▂▂▂▁▂▂▂▁▂▁▂▂▁▁▁▁▁▁▁▁▁▂</td></tr><tr><td>val_accuracy</td><td>▁▂▃▄▅▅▅▆▆▆▆▆▇▇▆▇▇▇▇▇▇▇▇▇█▇██████████████</td></tr><tr><td>val_loss</td><td>█▇▅▅▄▄▃▃▃▃▂▂▂▂▂▂▂▂▂▂▂▂▂▂▁▁▁▁▁▁▁▁▁▁▁▁▁▁▁▁</td></tr></table><br/></div><div class=\"wandb-col\"><h3>Run summary:</h3><br/><table class=\"wandb\"><tr><td>epoch</td><td>40</td></tr><tr><td>step</td><td>15639</td></tr><tr><td>train_loss</td><td>2.28787</td></tr><tr><td>val_accuracy</td><td>59.52</td></tr><tr><td>val_loss</td><td>1.80441</td></tr></table><br/></div></div>"
            ]
          },
          "metadata": {}
        },
        {
          "output_type": "display_data",
          "data": {
            "text/plain": [
              "<IPython.core.display.HTML object>"
            ],
            "text/html": [
              " View run <strong style=\"color:#cdcd00\">shallow_resnet</strong> at: <a href='https://wandb.ai/drscotthawley/skips_tutorial_CIFAR100/runs/8pouicj5' target=\"_blank\">https://wandb.ai/drscotthawley/skips_tutorial_CIFAR100/runs/8pouicj5</a><br> View project at: <a href='https://wandb.ai/drscotthawley/skips_tutorial_CIFAR100' target=\"_blank\">https://wandb.ai/drscotthawley/skips_tutorial_CIFAR100</a><br>Synced 5 W&B file(s), 0 media file(s), 0 artifact file(s) and 0 other file(s)"
            ]
          },
          "metadata": {}
        },
        {
          "output_type": "display_data",
          "data": {
            "text/plain": [
              "<IPython.core.display.HTML object>"
            ],
            "text/html": [
              "Find logs at: <code>./wandb/run-20250929_155243-8pouicj5/logs</code>"
            ]
          },
          "metadata": {}
        },
        {
          "output_type": "execute_result",
          "data": {
            "text/plain": [
              "59.52"
            ]
          },
          "metadata": {},
          "execution_count": 12
        }
      ],
      "source": [
        "#del shallow_cnn # free up GPU\n",
        "\n",
        "shallow_resnet = ResNet(blocks_per_level=1).to(device)\n",
        "train_model(shallow_resnet, train_loader, val_loader, name=\"shallow_resnet\")"
      ]
    },
    {
      "cell_type": "code",
      "execution_count": 13,
      "id": "c907917b-c481-4f1a-9c60-7cd28e897d1f",
      "metadata": {
        "id": "c907917b-c481-4f1a-9c60-7cd28e897d1f"
      },
      "outputs": [],
      "source": [
        "train_loader = DataLoader(train_dataset, batch_size=batch_size, shuffle=True, num_workers=4)\n",
        "val_loader = DataLoader(val_dataset, batch_size=batch_size, shuffle=False, num_workers=4)"
      ]
    },
    {
      "cell_type": "code",
      "execution_count": 14,
      "id": "d4116ca3-4b21-4d0d-8db5-ece0bba59355",
      "metadata": {
        "scrolled": true,
        "id": "d4116ca3-4b21-4d0d-8db5-ece0bba59355",
        "outputId": "5202193d-4f7f-4d0a-a3db-e417cc8b7821",
        "colab": {
          "base_uri": "https://localhost:8080/",
          "height": 1000
        }
      },
      "outputs": [
        {
          "output_type": "display_data",
          "data": {
            "text/plain": [
              "<IPython.core.display.HTML object>"
            ],
            "text/html": []
          },
          "metadata": {}
        },
        {
          "output_type": "display_data",
          "data": {
            "text/plain": [
              "<IPython.core.display.HTML object>"
            ],
            "text/html": [
              "Tracking run with wandb version 0.21.4"
            ]
          },
          "metadata": {}
        },
        {
          "output_type": "display_data",
          "data": {
            "text/plain": [
              "<IPython.core.display.HTML object>"
            ],
            "text/html": [
              "Run data is saved locally in <code>/content/wandb/run-20250929_160456-sqswno4b</code>"
            ]
          },
          "metadata": {}
        },
        {
          "output_type": "display_data",
          "data": {
            "text/plain": [
              "<IPython.core.display.HTML object>"
            ],
            "text/html": [
              "Syncing run <strong><a href='https://wandb.ai/drscotthawley/skips_tutorial_CIFAR100/runs/sqswno4b' target=\"_blank\">deep_resnet</a></strong> to <a href='https://wandb.ai/drscotthawley/skips_tutorial_CIFAR100' target=\"_blank\">Weights & Biases</a> (<a href='https://wandb.me/developer-guide' target=\"_blank\">docs</a>)<br>"
            ]
          },
          "metadata": {}
        },
        {
          "output_type": "display_data",
          "data": {
            "text/plain": [
              "<IPython.core.display.HTML object>"
            ],
            "text/html": [
              " View project at <a href='https://wandb.ai/drscotthawley/skips_tutorial_CIFAR100' target=\"_blank\">https://wandb.ai/drscotthawley/skips_tutorial_CIFAR100</a>"
            ]
          },
          "metadata": {}
        },
        {
          "output_type": "display_data",
          "data": {
            "text/plain": [
              "<IPython.core.display.HTML object>"
            ],
            "text/html": [
              " View run at <a href='https://wandb.ai/drscotthawley/skips_tutorial_CIFAR100/runs/sqswno4b' target=\"_blank\">https://wandb.ai/drscotthawley/skips_tutorial_CIFAR100/runs/sqswno4b</a>"
            ]
          },
          "metadata": {}
        },
        {
          "output_type": "stream",
          "name": "stderr",
          "text": [
            "Epoch 1/40: 100%|██████████| 391/391 [00:13<00:00, 29.85it/s, Train_Loss=4.0012]\n"
          ]
        },
        {
          "output_type": "stream",
          "name": "stdout",
          "text": [
            "Epoch 1: Val Loss: 3.8846, Val Acc: 10.51%\n"
          ]
        },
        {
          "output_type": "stream",
          "name": "stderr",
          "text": [
            "Epoch 2/40: 100%|██████████| 391/391 [00:13<00:00, 29.96it/s, Train_Loss=3.5995]\n"
          ]
        },
        {
          "output_type": "stream",
          "name": "stdout",
          "text": [
            "Epoch 2: Val Loss: 3.3337, Val Acc: 21.51%\n"
          ]
        },
        {
          "output_type": "stream",
          "name": "stderr",
          "text": [
            "Epoch 3/40: 100%|██████████| 391/391 [00:13<00:00, 29.67it/s, Train_Loss=3.2391]\n"
          ]
        },
        {
          "output_type": "stream",
          "name": "stdout",
          "text": [
            "Epoch 3: Val Loss: 2.9383, Val Acc: 29.45%\n"
          ]
        },
        {
          "output_type": "stream",
          "name": "stderr",
          "text": [
            "Epoch 4/40: 100%|██████████| 391/391 [00:13<00:00, 29.73it/s, Train_Loss=3.0457]\n"
          ]
        },
        {
          "output_type": "stream",
          "name": "stdout",
          "text": [
            "Epoch 4: Val Loss: 2.7029, Val Acc: 36.13%\n"
          ]
        },
        {
          "output_type": "stream",
          "name": "stderr",
          "text": [
            "Epoch 5/40: 100%|██████████| 391/391 [00:13<00:00, 29.73it/s, Train_Loss=3.0262]\n"
          ]
        },
        {
          "output_type": "stream",
          "name": "stdout",
          "text": [
            "Epoch 5: Val Loss: 2.4715, Val Acc: 42.24%\n"
          ]
        },
        {
          "output_type": "stream",
          "name": "stderr",
          "text": [
            "Epoch 6/40: 100%|██████████| 391/391 [00:13<00:00, 30.05it/s, Train_Loss=2.7482]\n"
          ]
        },
        {
          "output_type": "stream",
          "name": "stdout",
          "text": [
            "Epoch 6: Val Loss: 2.3282, Val Acc: 45.04%\n"
          ]
        },
        {
          "output_type": "stream",
          "name": "stderr",
          "text": [
            "Epoch 7/40: 100%|██████████| 391/391 [00:13<00:00, 29.84it/s, Train_Loss=2.6997]\n"
          ]
        },
        {
          "output_type": "stream",
          "name": "stdout",
          "text": [
            "Epoch 7: Val Loss: 2.2084, Val Acc: 48.17%\n"
          ]
        },
        {
          "output_type": "stream",
          "name": "stderr",
          "text": [
            "Epoch 8/40: 100%|██████████| 391/391 [00:13<00:00, 29.71it/s, Train_Loss=2.6460]\n"
          ]
        },
        {
          "output_type": "stream",
          "name": "stdout",
          "text": [
            "Epoch 8: Val Loss: 2.1201, Val Acc: 51.39%\n"
          ]
        },
        {
          "output_type": "stream",
          "name": "stderr",
          "text": [
            "Epoch 9/40: 100%|██████████| 391/391 [00:13<00:00, 29.87it/s, Train_Loss=2.4881]\n"
          ]
        },
        {
          "output_type": "stream",
          "name": "stdout",
          "text": [
            "Epoch 9: Val Loss: 2.0832, Val Acc: 51.45%\n"
          ]
        },
        {
          "output_type": "stream",
          "name": "stderr",
          "text": [
            "Epoch 10/40: 100%|██████████| 391/391 [00:13<00:00, 29.61it/s, Train_Loss=2.5118]\n"
          ]
        },
        {
          "output_type": "stream",
          "name": "stdout",
          "text": [
            "Epoch 10: Val Loss: 2.0154, Val Acc: 53.18%\n"
          ]
        },
        {
          "output_type": "stream",
          "name": "stderr",
          "text": [
            "Epoch 11/40: 100%|██████████| 391/391 [00:13<00:00, 29.65it/s, Train_Loss=2.3459]\n"
          ]
        },
        {
          "output_type": "stream",
          "name": "stdout",
          "text": [
            "Epoch 11: Val Loss: 1.9716, Val Acc: 54.43%\n"
          ]
        },
        {
          "output_type": "stream",
          "name": "stderr",
          "text": [
            "Epoch 12/40: 100%|██████████| 391/391 [00:13<00:00, 29.62it/s, Train_Loss=2.3623]\n"
          ]
        },
        {
          "output_type": "stream",
          "name": "stdout",
          "text": [
            "Epoch 12: Val Loss: 1.9355, Val Acc: 55.63%\n"
          ]
        },
        {
          "output_type": "stream",
          "name": "stderr",
          "text": [
            "Epoch 13/40: 100%|██████████| 391/391 [00:13<00:00, 29.74it/s, Train_Loss=2.3177]\n"
          ]
        },
        {
          "output_type": "stream",
          "name": "stdout",
          "text": [
            "Epoch 13: Val Loss: 1.8890, Val Acc: 56.83%\n"
          ]
        },
        {
          "output_type": "stream",
          "name": "stderr",
          "text": [
            "Epoch 14/40: 100%|██████████| 391/391 [00:13<00:00, 29.84it/s, Train_Loss=2.3599]\n"
          ]
        },
        {
          "output_type": "stream",
          "name": "stdout",
          "text": [
            "Epoch 14: Val Loss: 1.8469, Val Acc: 58.34%\n"
          ]
        },
        {
          "output_type": "stream",
          "name": "stderr",
          "text": [
            "Epoch 15/40: 100%|██████████| 391/391 [00:13<00:00, 29.88it/s, Train_Loss=2.3120]\n"
          ]
        },
        {
          "output_type": "stream",
          "name": "stdout",
          "text": [
            "Epoch 15: Val Loss: 1.8747, Val Acc: 57.75%\n"
          ]
        },
        {
          "output_type": "stream",
          "name": "stderr",
          "text": [
            "Epoch 16/40: 100%|██████████| 391/391 [00:13<00:00, 29.66it/s, Train_Loss=2.2746]\n"
          ]
        },
        {
          "output_type": "stream",
          "name": "stdout",
          "text": [
            "Epoch 16: Val Loss: 1.8245, Val Acc: 58.45%\n"
          ]
        },
        {
          "output_type": "stream",
          "name": "stderr",
          "text": [
            "Epoch 17/40: 100%|██████████| 391/391 [00:13<00:00, 30.02it/s, Train_Loss=2.3095]\n"
          ]
        },
        {
          "output_type": "stream",
          "name": "stdout",
          "text": [
            "Epoch 17: Val Loss: 1.7601, Val Acc: 60.68%\n"
          ]
        },
        {
          "output_type": "stream",
          "name": "stderr",
          "text": [
            "Epoch 18/40: 100%|██████████| 391/391 [00:12<00:00, 30.16it/s, Train_Loss=2.2263]\n"
          ]
        },
        {
          "output_type": "stream",
          "name": "stdout",
          "text": [
            "Epoch 18: Val Loss: 1.7789, Val Acc: 59.79%\n"
          ]
        },
        {
          "output_type": "stream",
          "name": "stderr",
          "text": [
            "Epoch 19/40: 100%|██████████| 391/391 [00:12<00:00, 30.35it/s, Train_Loss=2.1063]\n"
          ]
        },
        {
          "output_type": "stream",
          "name": "stdout",
          "text": [
            "Epoch 19: Val Loss: 1.7227, Val Acc: 61.04%\n"
          ]
        },
        {
          "output_type": "stream",
          "name": "stderr",
          "text": [
            "Epoch 20/40: 100%|██████████| 391/391 [00:12<00:00, 30.37it/s, Train_Loss=2.1136]\n"
          ]
        },
        {
          "output_type": "stream",
          "name": "stdout",
          "text": [
            "Epoch 20: Val Loss: 1.7219, Val Acc: 61.06%\n"
          ]
        },
        {
          "output_type": "stream",
          "name": "stderr",
          "text": [
            "Epoch 21/40: 100%|██████████| 391/391 [00:12<00:00, 30.24it/s, Train_Loss=2.1794]\n"
          ]
        },
        {
          "output_type": "stream",
          "name": "stdout",
          "text": [
            "Epoch 21: Val Loss: 1.7339, Val Acc: 61.28%\n"
          ]
        },
        {
          "output_type": "stream",
          "name": "stderr",
          "text": [
            "Epoch 22/40: 100%|██████████| 391/391 [00:12<00:00, 30.27it/s, Train_Loss=2.1783]\n"
          ]
        },
        {
          "output_type": "stream",
          "name": "stdout",
          "text": [
            "Epoch 22: Val Loss: 1.7772, Val Acc: 60.28%\n"
          ]
        },
        {
          "output_type": "stream",
          "name": "stderr",
          "text": [
            "Epoch 23/40: 100%|██████████| 391/391 [00:12<00:00, 30.20it/s, Train_Loss=2.2171]\n"
          ]
        },
        {
          "output_type": "stream",
          "name": "stdout",
          "text": [
            "Epoch 23: Val Loss: 1.6949, Val Acc: 62.89%\n"
          ]
        },
        {
          "output_type": "stream",
          "name": "stderr",
          "text": [
            "Epoch 24/40: 100%|██████████| 391/391 [00:12<00:00, 30.26it/s, Train_Loss=2.0233]\n"
          ]
        },
        {
          "output_type": "stream",
          "name": "stdout",
          "text": [
            "Epoch 24: Val Loss: 1.6625, Val Acc: 63.14%\n"
          ]
        },
        {
          "output_type": "stream",
          "name": "stderr",
          "text": [
            "Epoch 25/40: 100%|██████████| 391/391 [00:12<00:00, 30.26it/s, Train_Loss=2.0773]\n"
          ]
        },
        {
          "output_type": "stream",
          "name": "stdout",
          "text": [
            "Epoch 25: Val Loss: 1.6566, Val Acc: 63.13%\n"
          ]
        },
        {
          "output_type": "stream",
          "name": "stderr",
          "text": [
            "Epoch 26/40: 100%|██████████| 391/391 [00:12<00:00, 30.37it/s, Train_Loss=2.0994]\n"
          ]
        },
        {
          "output_type": "stream",
          "name": "stdout",
          "text": [
            "Epoch 26: Val Loss: 1.6673, Val Acc: 63.10%\n"
          ]
        },
        {
          "output_type": "stream",
          "name": "stderr",
          "text": [
            "Epoch 27/40: 100%|██████████| 391/391 [00:12<00:00, 30.21it/s, Train_Loss=2.1071]\n"
          ]
        },
        {
          "output_type": "stream",
          "name": "stdout",
          "text": [
            "Epoch 27: Val Loss: 1.7031, Val Acc: 62.60%\n"
          ]
        },
        {
          "output_type": "stream",
          "name": "stderr",
          "text": [
            "Epoch 28/40: 100%|██████████| 391/391 [00:12<00:00, 30.42it/s, Train_Loss=2.1201]\n"
          ]
        },
        {
          "output_type": "stream",
          "name": "stdout",
          "text": [
            "Epoch 28: Val Loss: 1.7111, Val Acc: 62.28%\n"
          ]
        },
        {
          "output_type": "stream",
          "name": "stderr",
          "text": [
            "Epoch 29/40: 100%|██████████| 391/391 [00:12<00:00, 30.25it/s, Train_Loss=1.9524]\n"
          ]
        },
        {
          "output_type": "stream",
          "name": "stdout",
          "text": [
            "Epoch 29: Val Loss: 1.6586, Val Acc: 63.39%\n"
          ]
        },
        {
          "output_type": "stream",
          "name": "stderr",
          "text": [
            "Epoch 30/40: 100%|██████████| 391/391 [00:12<00:00, 30.35it/s, Train_Loss=2.2336]\n"
          ]
        },
        {
          "output_type": "stream",
          "name": "stdout",
          "text": [
            "Epoch 30: Val Loss: 1.7022, Val Acc: 63.23%\n"
          ]
        },
        {
          "output_type": "stream",
          "name": "stderr",
          "text": [
            "Epoch 31/40: 100%|██████████| 391/391 [00:12<00:00, 30.47it/s, Train_Loss=2.0091]\n"
          ]
        },
        {
          "output_type": "stream",
          "name": "stdout",
          "text": [
            "Epoch 31: Val Loss: 1.6402, Val Acc: 63.65%\n"
          ]
        },
        {
          "output_type": "stream",
          "name": "stderr",
          "text": [
            "Epoch 32/40: 100%|██████████| 391/391 [00:12<00:00, 30.27it/s, Train_Loss=1.9677]\n"
          ]
        },
        {
          "output_type": "stream",
          "name": "stdout",
          "text": [
            "Epoch 32: Val Loss: 1.6066, Val Acc: 65.03%\n"
          ]
        },
        {
          "output_type": "stream",
          "name": "stderr",
          "text": [
            "Epoch 33/40: 100%|██████████| 391/391 [00:12<00:00, 30.43it/s, Train_Loss=1.9997]\n"
          ]
        },
        {
          "output_type": "stream",
          "name": "stdout",
          "text": [
            "Epoch 33: Val Loss: 1.6329, Val Acc: 64.22%\n"
          ]
        },
        {
          "output_type": "stream",
          "name": "stderr",
          "text": [
            "Epoch 34/40: 100%|██████████| 391/391 [00:12<00:00, 30.48it/s, Train_Loss=2.1726]\n"
          ]
        },
        {
          "output_type": "stream",
          "name": "stdout",
          "text": [
            "Epoch 34: Val Loss: 1.6419, Val Acc: 64.88%\n"
          ]
        },
        {
          "output_type": "stream",
          "name": "stderr",
          "text": [
            "Epoch 35/40: 100%|██████████| 391/391 [00:13<00:00, 29.94it/s, Train_Loss=2.0414]\n"
          ]
        },
        {
          "output_type": "stream",
          "name": "stdout",
          "text": [
            "Epoch 35: Val Loss: 1.6321, Val Acc: 64.46%\n"
          ]
        },
        {
          "output_type": "stream",
          "name": "stderr",
          "text": [
            "Epoch 36/40: 100%|██████████| 391/391 [00:13<00:00, 29.88it/s, Train_Loss=2.0540]\n"
          ]
        },
        {
          "output_type": "stream",
          "name": "stdout",
          "text": [
            "Epoch 36: Val Loss: 1.6791, Val Acc: 63.18%\n"
          ]
        },
        {
          "output_type": "stream",
          "name": "stderr",
          "text": [
            "Epoch 37/40: 100%|██████████| 391/391 [00:13<00:00, 29.93it/s, Train_Loss=2.0392]\n"
          ]
        },
        {
          "output_type": "stream",
          "name": "stdout",
          "text": [
            "Epoch 37: Val Loss: 1.6139, Val Acc: 64.77%\n"
          ]
        },
        {
          "output_type": "stream",
          "name": "stderr",
          "text": [
            "Epoch 38/40: 100%|██████████| 391/391 [00:13<00:00, 29.82it/s, Train_Loss=1.9493]\n"
          ]
        },
        {
          "output_type": "stream",
          "name": "stdout",
          "text": [
            "Epoch 38: Val Loss: 1.5959, Val Acc: 65.12%\n"
          ]
        },
        {
          "output_type": "stream",
          "name": "stderr",
          "text": [
            "Epoch 39/40: 100%|██████████| 391/391 [00:13<00:00, 29.70it/s, Train_Loss=2.0042]\n"
          ]
        },
        {
          "output_type": "stream",
          "name": "stdout",
          "text": [
            "Epoch 39: Val Loss: 1.5759, Val Acc: 66.26%\n"
          ]
        },
        {
          "output_type": "stream",
          "name": "stderr",
          "text": [
            "Epoch 40/40: 100%|██████████| 391/391 [00:13<00:00, 29.61it/s, Train_Loss=2.0511]\n"
          ]
        },
        {
          "output_type": "stream",
          "name": "stdout",
          "text": [
            "Epoch 40: Val Loss: 1.5906, Val Acc: 65.34%\n"
          ]
        },
        {
          "output_type": "display_data",
          "data": {
            "text/plain": [
              "<IPython.core.display.HTML object>"
            ],
            "text/html": []
          },
          "metadata": {}
        },
        {
          "output_type": "display_data",
          "data": {
            "text/plain": [
              "<IPython.core.display.HTML object>"
            ],
            "text/html": [
              "<br>    <style><br>        .wandb-row {<br>            display: flex;<br>            flex-direction: row;<br>            flex-wrap: wrap;<br>            justify-content: flex-start;<br>            width: 100%;<br>        }<br>        .wandb-col {<br>            display: flex;<br>            flex-direction: column;<br>            flex-basis: 100%;<br>            flex: 1;<br>            padding: 10px;<br>        }<br>    </style><br><div class=\"wandb-row\"><div class=\"wandb-col\"><h3>Run history:</h3><br/><table class=\"wandb\"><tr><td>epoch</td><td>▁▁▁▁▁▂▂▂▂▂▂▃▃▃▃▄▄▄▄▄▅▅▅▅▆▆▆▆▇▇▇▇▇▇██████</td></tr><tr><td>step</td><td>▁▁▁▁▁▂▂▂▂▂▃▃▃▃▃▄▄▄▄▄▅▅▅▅▅▆▆▆▆▆▆▇▇▇▇█████</td></tr><tr><td>train_loss</td><td>█▆▆▆▅▃▃▃▃▃▃▃▃▂▃▂▂▂▂▂▂▂▂▂▂▂▂▂▁▂▁▂▁▂▁▂▂▁▁▂</td></tr><tr><td>val_accuracy</td><td>▁▂▃▄▅▅▆▆▆▆▇▇▇▇▇▇▇▇▇▇▇▇██████████████████</td></tr><tr><td>val_loss</td><td>█▆▅▄▄▃▃▃▃▂▂▂▂▂▂▂▂▂▁▁▁▂▁▁▁▁▁▁▁▁▁▁▁▁▁▁▁▁▁▁</td></tr></table><br/></div><div class=\"wandb-col\"><h3>Run summary:</h3><br/><table class=\"wandb\"><tr><td>epoch</td><td>40</td></tr><tr><td>step</td><td>15639</td></tr><tr><td>train_loss</td><td>2.05106</td></tr><tr><td>val_accuracy</td><td>65.34</td></tr><tr><td>val_loss</td><td>1.59058</td></tr></table><br/></div></div>"
            ]
          },
          "metadata": {}
        },
        {
          "output_type": "display_data",
          "data": {
            "text/plain": [
              "<IPython.core.display.HTML object>"
            ],
            "text/html": [
              " View run <strong style=\"color:#cdcd00\">deep_resnet</strong> at: <a href='https://wandb.ai/drscotthawley/skips_tutorial_CIFAR100/runs/sqswno4b' target=\"_blank\">https://wandb.ai/drscotthawley/skips_tutorial_CIFAR100/runs/sqswno4b</a><br> View project at: <a href='https://wandb.ai/drscotthawley/skips_tutorial_CIFAR100' target=\"_blank\">https://wandb.ai/drscotthawley/skips_tutorial_CIFAR100</a><br>Synced 5 W&B file(s), 0 media file(s), 0 artifact file(s) and 0 other file(s)"
            ]
          },
          "metadata": {}
        },
        {
          "output_type": "display_data",
          "data": {
            "text/plain": [
              "<IPython.core.display.HTML object>"
            ],
            "text/html": [
              "Find logs at: <code>./wandb/run-20250929_160456-sqswno4b/logs</code>"
            ]
          },
          "metadata": {}
        },
        {
          "output_type": "execute_result",
          "data": {
            "text/plain": [
              "65.34"
            ]
          },
          "metadata": {},
          "execution_count": 14
        }
      ],
      "source": [
        "#del shallow_resnet # free up GPU\n",
        "\n",
        "deep_resnet = ResNet(blocks_per_level=4).to(device)\n",
        "train_model(deep_resnet, train_loader, val_loader, name=\"deep_resnet\")"
      ]
    },
    {
      "cell_type": "code",
      "execution_count": 15,
      "id": "b4fcc82c-b3c6-42f1-aec6-5ba0d1808f78",
      "metadata": {
        "id": "b4fcc82c-b3c6-42f1-aec6-5ba0d1808f78",
        "outputId": "db395325-33b5-40ec-e46a-a3616612babc",
        "colab": {
          "base_uri": "https://localhost:8080/",
          "height": 1000
        }
      },
      "outputs": [
        {
          "output_type": "display_data",
          "data": {
            "text/plain": [
              "<IPython.core.display.HTML object>"
            ],
            "text/html": []
          },
          "metadata": {}
        },
        {
          "output_type": "display_data",
          "data": {
            "text/plain": [
              "<IPython.core.display.HTML object>"
            ],
            "text/html": [
              "Tracking run with wandb version 0.21.4"
            ]
          },
          "metadata": {}
        },
        {
          "output_type": "display_data",
          "data": {
            "text/plain": [
              "<IPython.core.display.HTML object>"
            ],
            "text/html": [
              "Run data is saved locally in <code>/content/wandb/run-20250929_161416-10mbirlv</code>"
            ]
          },
          "metadata": {}
        },
        {
          "output_type": "display_data",
          "data": {
            "text/plain": [
              "<IPython.core.display.HTML object>"
            ],
            "text/html": [
              "Syncing run <strong><a href='https://wandb.ai/drscotthawley/skips_tutorial_CIFAR100/runs/10mbirlv' target=\"_blank\">deep_cnn</a></strong> to <a href='https://wandb.ai/drscotthawley/skips_tutorial_CIFAR100' target=\"_blank\">Weights & Biases</a> (<a href='https://wandb.me/developer-guide' target=\"_blank\">docs</a>)<br>"
            ]
          },
          "metadata": {}
        },
        {
          "output_type": "display_data",
          "data": {
            "text/plain": [
              "<IPython.core.display.HTML object>"
            ],
            "text/html": [
              " View project at <a href='https://wandb.ai/drscotthawley/skips_tutorial_CIFAR100' target=\"_blank\">https://wandb.ai/drscotthawley/skips_tutorial_CIFAR100</a>"
            ]
          },
          "metadata": {}
        },
        {
          "output_type": "display_data",
          "data": {
            "text/plain": [
              "<IPython.core.display.HTML object>"
            ],
            "text/html": [
              " View run at <a href='https://wandb.ai/drscotthawley/skips_tutorial_CIFAR100/runs/10mbirlv' target=\"_blank\">https://wandb.ai/drscotthawley/skips_tutorial_CIFAR100/runs/10mbirlv</a>"
            ]
          },
          "metadata": {}
        },
        {
          "output_type": "stream",
          "name": "stderr",
          "text": [
            "Epoch 1/15: 100%|██████████| 391/391 [00:11<00:00, 35.17it/s, Train_Loss=4.6081]\n"
          ]
        },
        {
          "output_type": "stream",
          "name": "stdout",
          "text": [
            "Epoch 1: Val Loss: 4.6055, Val Acc: 1.00%\n"
          ]
        },
        {
          "output_type": "stream",
          "name": "stderr",
          "text": [
            "Epoch 2/15: 100%|██████████| 391/391 [00:11<00:00, 34.93it/s, Train_Loss=4.6064]\n"
          ]
        },
        {
          "output_type": "stream",
          "name": "stdout",
          "text": [
            "Epoch 2: Val Loss: 4.6053, Val Acc: 1.00%\n"
          ]
        },
        {
          "output_type": "stream",
          "name": "stderr",
          "text": [
            "Epoch 3/15: 100%|██████████| 391/391 [00:11<00:00, 34.76it/s, Train_Loss=4.6063]\n"
          ]
        },
        {
          "output_type": "stream",
          "name": "stdout",
          "text": [
            "Epoch 3: Val Loss: 4.6053, Val Acc: 1.00%\n"
          ]
        },
        {
          "output_type": "stream",
          "name": "stderr",
          "text": [
            "Epoch 4/15: 100%|██████████| 391/391 [00:11<00:00, 35.09it/s, Train_Loss=4.6065]\n"
          ]
        },
        {
          "output_type": "stream",
          "name": "stdout",
          "text": [
            "Epoch 4: Val Loss: 4.6052, Val Acc: 0.92%\n"
          ]
        },
        {
          "output_type": "stream",
          "name": "stderr",
          "text": [
            "Epoch 5/15: 100%|██████████| 391/391 [00:10<00:00, 36.16it/s, Train_Loss=4.6071]\n"
          ]
        },
        {
          "output_type": "stream",
          "name": "stdout",
          "text": [
            "Epoch 5: Val Loss: 4.6055, Val Acc: 1.00%\n"
          ]
        },
        {
          "output_type": "stream",
          "name": "stderr",
          "text": [
            "Epoch 6/15: 100%|██████████| 391/391 [00:10<00:00, 36.60it/s, Train_Loss=4.6071]\n"
          ]
        },
        {
          "output_type": "stream",
          "name": "stdout",
          "text": [
            "Epoch 6: Val Loss: 4.6055, Val Acc: 1.00%\n"
          ]
        },
        {
          "output_type": "stream",
          "name": "stderr",
          "text": [
            "Epoch 7/15: 100%|██████████| 391/391 [00:10<00:00, 36.77it/s, Train_Loss=4.6066]\n"
          ]
        },
        {
          "output_type": "stream",
          "name": "stdout",
          "text": [
            "Epoch 7: Val Loss: 4.6054, Val Acc: 1.00%\n"
          ]
        },
        {
          "output_type": "stream",
          "name": "stderr",
          "text": [
            "Epoch 8/15: 100%|██████████| 391/391 [00:10<00:00, 36.86it/s, Train_Loss=4.6070]\n"
          ]
        },
        {
          "output_type": "stream",
          "name": "stdout",
          "text": [
            "Epoch 8: Val Loss: 4.6054, Val Acc: 1.00%\n"
          ]
        },
        {
          "output_type": "stream",
          "name": "stderr",
          "text": [
            "Epoch 9/15: 100%|██████████| 391/391 [00:10<00:00, 36.93it/s, Train_Loss=4.6068]\n"
          ]
        },
        {
          "output_type": "stream",
          "name": "stdout",
          "text": [
            "Epoch 9: Val Loss: 4.6054, Val Acc: 1.00%\n"
          ]
        },
        {
          "output_type": "stream",
          "name": "stderr",
          "text": [
            "Epoch 10/15: 100%|██████████| 391/391 [00:10<00:00, 36.91it/s, Train_Loss=4.6067]\n"
          ]
        },
        {
          "output_type": "stream",
          "name": "stdout",
          "text": [
            "Epoch 10: Val Loss: 4.6054, Val Acc: 1.00%\n"
          ]
        },
        {
          "output_type": "stream",
          "name": "stderr",
          "text": [
            "Epoch 11/15: 100%|██████████| 391/391 [00:10<00:00, 36.48it/s, Train_Loss=4.6066]\n"
          ]
        },
        {
          "output_type": "stream",
          "name": "stdout",
          "text": [
            "Epoch 11: Val Loss: 4.6056, Val Acc: 1.00%\n"
          ]
        },
        {
          "output_type": "stream",
          "name": "stderr",
          "text": [
            "Epoch 12/15: 100%|██████████| 391/391 [00:10<00:00, 36.38it/s, Train_Loss=4.6067]\n"
          ]
        },
        {
          "output_type": "stream",
          "name": "stdout",
          "text": [
            "Epoch 12: Val Loss: 4.6053, Val Acc: 1.00%\n"
          ]
        },
        {
          "output_type": "stream",
          "name": "stderr",
          "text": [
            "Epoch 13/15: 100%|██████████| 391/391 [00:10<00:00, 36.47it/s, Train_Loss=4.6067]\n"
          ]
        },
        {
          "output_type": "stream",
          "name": "stdout",
          "text": [
            "Epoch 13: Val Loss: 4.6061, Val Acc: 1.00%\n"
          ]
        },
        {
          "output_type": "stream",
          "name": "stderr",
          "text": [
            "Epoch 14/15: 100%|██████████| 391/391 [00:10<00:00, 36.73it/s, Train_Loss=4.6067]\n"
          ]
        },
        {
          "output_type": "stream",
          "name": "stdout",
          "text": [
            "Epoch 14: Val Loss: 4.6054, Val Acc: 1.00%\n"
          ]
        },
        {
          "output_type": "stream",
          "name": "stderr",
          "text": [
            "Epoch 15/15: 100%|██████████| 391/391 [00:10<00:00, 36.62it/s, Train_Loss=4.6065]\n"
          ]
        },
        {
          "output_type": "stream",
          "name": "stdout",
          "text": [
            "Epoch 15: Val Loss: 4.6056, Val Acc: 1.00%\n"
          ]
        },
        {
          "output_type": "display_data",
          "data": {
            "text/plain": [
              "<IPython.core.display.HTML object>"
            ],
            "text/html": []
          },
          "metadata": {}
        },
        {
          "output_type": "display_data",
          "data": {
            "text/plain": [
              "<IPython.core.display.HTML object>"
            ],
            "text/html": [
              "<br>    <style><br>        .wandb-row {<br>            display: flex;<br>            flex-direction: row;<br>            flex-wrap: wrap;<br>            justify-content: flex-start;<br>            width: 100%;<br>        }<br>        .wandb-col {<br>            display: flex;<br>            flex-direction: column;<br>            flex-basis: 100%;<br>            flex: 1;<br>            padding: 10px;<br>        }<br>    </style><br><div class=\"wandb-row\"><div class=\"wandb-col\"><h3>Run history:</h3><br/><table class=\"wandb\"><tr><td>epoch</td><td>▁▁▁▁▁▁▁▁▂▂▂▂▂▃▃▃▃▃▃▃▃▄▄▅▅▅▅▅▅▅▅▅▆▇▇▇▇▇▇█</td></tr><tr><td>step</td><td>▁▁▁▂▂▂▂▂▂▂▂▂▂▃▃▃▄▄▄▄▅▅▅▅▅▆▆▆▆▆▆▆▇▇▇▇████</td></tr><tr><td>train_loss</td><td>▁█▂▁▁▁▁▁▁▁▁▁▁▁▁▁▁▁▁▁▁▁▁▁▁▁▁▁▁▁▁▁▁▁▁▁▁▁▁▁</td></tr><tr><td>val_accuracy</td><td>███▁███████████</td></tr><tr><td>val_loss</td><td>▃▂▁▁▃▃▂▂▃▂▄▂█▂▄</td></tr></table><br/></div><div class=\"wandb-col\"><h3>Run summary:</h3><br/><table class=\"wandb\"><tr><td>epoch</td><td>15</td></tr><tr><td>step</td><td>5864</td></tr><tr><td>train_loss</td><td>4.60652</td></tr><tr><td>val_accuracy</td><td>1</td></tr><tr><td>val_loss</td><td>4.60556</td></tr></table><br/></div></div>"
            ]
          },
          "metadata": {}
        },
        {
          "output_type": "display_data",
          "data": {
            "text/plain": [
              "<IPython.core.display.HTML object>"
            ],
            "text/html": [
              " View run <strong style=\"color:#cdcd00\">deep_cnn</strong> at: <a href='https://wandb.ai/drscotthawley/skips_tutorial_CIFAR100/runs/10mbirlv' target=\"_blank\">https://wandb.ai/drscotthawley/skips_tutorial_CIFAR100/runs/10mbirlv</a><br> View project at: <a href='https://wandb.ai/drscotthawley/skips_tutorial_CIFAR100' target=\"_blank\">https://wandb.ai/drscotthawley/skips_tutorial_CIFAR100</a><br>Synced 5 W&B file(s), 0 media file(s), 0 artifact file(s) and 0 other file(s)"
            ]
          },
          "metadata": {}
        },
        {
          "output_type": "display_data",
          "data": {
            "text/plain": [
              "<IPython.core.display.HTML object>"
            ],
            "text/html": [
              "Find logs at: <code>./wandb/run-20250929_161416-10mbirlv/logs</code>"
            ]
          },
          "metadata": {}
        },
        {
          "output_type": "execute_result",
          "data": {
            "text/plain": [
              "1.0"
            ]
          },
          "metadata": {},
          "execution_count": 15
        }
      ],
      "source": [
        "#del shallow_resnet # free up GPU\n",
        "\n",
        "# this next one is a train wreck we won't go very far ;-)\n",
        "deep_cnn = StandardCNN(blocks_per_level=4).to(device)\n",
        "train_model(deep_cnn, train_loader, val_loader, name=\"deep_cnn\", epochs=15)"
      ]
    },
    {
      "cell_type": "markdown",
      "id": "8439221f-bf69-4d37-bfd8-6412f3c410b3",
      "metadata": {
        "id": "8439221f-bf69-4d37-bfd8-6412f3c410b3"
      },
      "source": [
        "## Excercise: Repeat the training for a \"deep\" net but with...\n",
        "1. skips on and batch norm off\n",
        "2. skips off and batch norm on"
      ]
    },
    {
      "cell_type": "code",
      "execution_count": 15,
      "id": "64172405-eddc-4eb5-865a-3e5e7a9e82a4",
      "metadata": {
        "id": "64172405-eddc-4eb5-865a-3e5e7a9e82a4"
      },
      "outputs": [],
      "source": []
    },
    {
      "cell_type": "markdown",
      "id": "f7298c9d-29cd-4e00-9240-86f5064a2f04",
      "metadata": {
        "id": "f7298c9d-29cd-4e00-9240-86f5064a2f04"
      },
      "source": [
        "# B. U-Nets: Skips All Over\n",
        "\n",
        "A particularly effective architechture is used for images and audio (and sometimes text) is called a \"U-Net\", which is presented as forming a kind of \"U\" shape:\n",
        "<img src=\"https://fastai1.fast.ai/imgs/u-net-architecture.png\" alt=\"unet architecture\" width=\"100%\">\n",
        "*Source: [fastai vision](https://fastai1.fast.ai/vision.models.unet.html)\n",
        "\n",
        "The grey arrows going across the U are called skip connections, and we'll describe them below.\n",
        "\n",
        "U-Nets were [first applied](https://link.springer.com/chapter/10.1007/978-3-319-24574-4_28) ([free link](https://arxiv.org/abs/1505.04597)) to medical image *segmentation*, a task in which you try to mark similar part of an image, i.e. you group pixels according which \"object\" they correspond to:\n",
        "\n",
        "<img src=\"https://developer-blogs.nvidia.com/wp-content/uploads/2020/04/image4-1.jpg\" alt=\"medical image segmentation example\" width=\"100%\">\n",
        "\n",
        "*Source: [NVIDIA](https://developer.nvidia.com/blog/accelerating-medical-image-segmentation-tensor-cores-tensorflow-2/)\n",
        "\n",
        "### Concatenative skips\n",
        "Unlike the residual skip connections studied earlier, the  grey arrow skip connections in the U-Net are \"copy and concatenate\" operations, whereby layer activations from early layers in the network propagate directly across the layers near the end.  This allows for information to propagate through the network (both in feed-forward and backpropagation modes) very efficiently, avoiding the \"vanishing gradient problem\" and allowing the network to focus on predicting what *changes* from input to output -- in this case, only the pixel color -- rather than having to predict the \"shape\" as well."
      ]
    },
    {
      "cell_type": "markdown",
      "id": "674c4e1b-45dd-4f68-ad96-1ff07e157dd2",
      "metadata": {
        "id": "674c4e1b-45dd-4f68-ad96-1ff07e157dd2"
      },
      "source": [
        "## (U-Net) Example: Coloring Fashion-MNIST Based on Clothing Type\n",
        "\n",
        "We're going to make a U-Net-style network that will learn to color different types of clothing in Zelando Research's [Fashion MNIST](https://github.com/zalandoresearch/fashion-mnist) dataset, which consists of tiny 28x28 grayscale images of 10 different types of clothing, such as these examples:\n",
        "\n",
        "![fashion mnist example](https://raw.githubusercontent.com/zalandoresearch/fashion-mnist/master/doc/img/fashion-mnist-sprite.png)\n",
        "\n",
        "**...and to make it harder,** we'll even have the U-Net learn to write the class number on the image!\n",
        "\n",
        "**Questions:** One may ask, \"Why would anyone want such a code?? And isn't this overkill anyway? Because Fashion-MNIST is supposed to be used for image classification, so instead of using a U-Net, couldn't we just classify the images and THEN colorize them by class?\"  \n",
        "\n",
        "**Answers:** Well,...yeah...but.. this is just supposed to be a image modification demo. Go with it. ;-)"
      ]
    },
    {
      "cell_type": "code",
      "execution_count": 16,
      "id": "1cc336bc-a2b1-41e8-8d3c-c1762cb1bffa",
      "metadata": {
        "id": "1cc336bc-a2b1-41e8-8d3c-c1762cb1bffa"
      },
      "outputs": [],
      "source": [
        "## STRONGLY RECOMMENDED: Restart the kernel before continuing from here\n",
        "\n",
        "import torch\n",
        "import torch.nn as nn\n",
        "import torch.optim as optim\n",
        "import torch.nn.functional as F\n",
        "from torch.utils.data import Dataset, DataLoader\n",
        "import torchvision\n",
        "import torchvision.transforms as transforms\n",
        "import matplotlib.pyplot as plt\n",
        "import numpy as np\n",
        "from PIL import Image, ImageDraw, ImageOps\n",
        "import os\n",
        "from tqdm import tqdm\n",
        "import wandb\n",
        "from pathlib import Path\n",
        "import warnings\n",
        "warnings.filterwarnings(\"ignore\", category=UserWarning, module=\"pydantic.main\")"
      ]
    },
    {
      "cell_type": "code",
      "execution_count": 17,
      "id": "3a724956-eac8-445b-b223-a2141aaaf546",
      "metadata": {
        "id": "3a724956-eac8-445b-b223-a2141aaaf546",
        "colab": {
          "base_uri": "https://localhost:8080/"
        },
        "outputId": "85dda0cb-d9da-49fb-d195-9b0f8c67faaa"
      },
      "outputs": [
        {
          "output_type": "stream",
          "name": "stdout",
          "text": [
            "device = cuda\n"
          ]
        }
      ],
      "source": [
        "device = torch.device('cuda' if torch.cuda.is_available() else 'mps' if torch.backends.mps.is_available() else 'cpu')\n",
        "print(\"device =\",device)"
      ]
    },
    {
      "cell_type": "markdown",
      "id": "71228dc8-11cf-4cb4-ab51-cb1b4eb832f4",
      "metadata": {
        "id": "71228dc8-11cf-4cb4-ab51-cb1b4eb832f4"
      },
      "source": [
        "## Data Generation & Dataset"
      ]
    },
    {
      "cell_type": "code",
      "execution_count": 18,
      "id": "ab42d663-0d30-4472-b5a6-0b583f72f258",
      "metadata": {
        "id": "ab42d663-0d30-4472-b5a6-0b583f72f258",
        "outputId": "4937565d-417e-4b83-f499-5cc730185557",
        "colab": {
          "base_uri": "https://localhost:8080/"
        }
      },
      "outputs": [
        {
          "output_type": "stream",
          "name": "stdout",
          "text": [
            "Using existing dataset with 70,000 images...\n"
          ]
        }
      ],
      "source": [
        "# Data Generation.... Pre-generate (files for) target data\n",
        "\n",
        "CLASS_NAMES = {0: 'T-shirt/top', 1: 'Trouser', 2: 'Pullover', 3: 'Dress', 4: 'Coat',\n",
        "               5: 'Sandal', 6: 'Shirt', 7: 'Sneaker', 8: 'Bag', 9: 'Ankle boot'}\n",
        "COLORS = [\"red\", \"orange\", \"yellow\", \"lime\", \"cyan\", \"cornflowerblue\",\n",
        "          \"mediumpurple\", \"magenta\", \"hotpink\", \"blue\"]\n",
        "\n",
        "\n",
        "def colorize_image(grayscale_img, class_num, draw_number=False):\n",
        "    \"\"\"Convert grayscale image to colored version based on class\"\"\"\n",
        "    pil_img = Image.fromarray(grayscale_img)\n",
        "    colored = ImageOps.colorize(pil_img, black=\"black\", white=COLORS[class_num])\n",
        "    if draw_number:\n",
        "        ImageDraw.Draw(colored).text((2, 2), str(class_num), fill=(255, 255, 255))\n",
        "    return np.array(colored)\n",
        "\n",
        "def generate_target_dataset(save_dir=\"./fashion_mnist_colored\", draw_numbers=False):\n",
        "    \"\"\"Generate colored target images and save to disk\"\"\"\n",
        "    save_dir = Path(save_dir)\n",
        "    save_dir.mkdir(exist_ok=True)\n",
        "\n",
        "    # Save config file to track how dataset was generated\n",
        "    config_file = save_dir / \"config.txt\"\n",
        "    with open(config_file, 'w') as f:\n",
        "        f.write(f\"draw_numbers={draw_numbers}\\n\")\n",
        "\n",
        "    train_data = torchvision.datasets.FashionMNIST('./data', train=True, download=True)\n",
        "    test_data = torchvision.datasets.FashionMNIST('./data', train=False, download=True)\n",
        "\n",
        "    all_images = np.vstack([train_data.data.numpy(), test_data.data.numpy()])\n",
        "    all_labels = np.hstack([train_data.targets.numpy(), test_data.targets.numpy()])\n",
        "\n",
        "    print(f\"Generating {len(all_images)} colored target images...\")\n",
        "\n",
        "    for i in tqdm(range(len(all_images))):\n",
        "        colored = colorize_image(all_images[i], all_labels[i], draw_numbers)\n",
        "        np.save(save_dir / f\"input_{i:06d}.npy\", all_images[i])\n",
        "        np.save(save_dir / f\"target_{i:06d}.npy\", colored)\n",
        "        np.save(save_dir / f\"label_{i:06d}.npy\", all_labels[i])\n",
        "\n",
        "    return len(all_images)\n",
        "\n",
        "\n",
        "DRAW_NUMBERS = True  # Configuration - do we want it to draw the numbers? YES!\n",
        "\n",
        "\n",
        "data_dir = \"./fashion_mnist_colored\"  # Generate dataset if it doesn't exist\n",
        "if not Path(data_dir).exists() or len(list(Path(data_dir).glob(\"input_*.npy\"))) == 0:\n",
        "    print(\"Generating colored Fashion-MNIST dataset...\")\n",
        "    generate_target_dataset(data_dir, draw_numbers=DRAW_NUMBERS)\n",
        "else:\n",
        "    num_files = len(list(Path(data_dir).glob(\"input_*.npy\")))\n",
        "    print(f\"Using existing dataset with {num_files:,} images...\")\n",
        "\n",
        "    # Check if existing dataset config matches current setting\n",
        "    config_file = Path(data_dir) / \"config.txt\"\n",
        "    if config_file.exists():\n",
        "        with open(config_file, 'r') as f:\n",
        "            existing_config = f.read().strip()\n",
        "        expected_config = f\"draw_numbers={DRAW_NUMBERS}\"\n",
        "        if existing_config != expected_config:\n",
        "            print(f\"⚠️  Warning: Existing dataset config ({existing_config}) doesn't match current setting ({expected_config})\")\n",
        "            print(\"   Consider deleting the dataset folder to regenerate.\")\n",
        "    else:\n",
        "        print(\"⚠️  Warning: Existing dataset has no config file (old format)\")\n",
        "        print(\"   Consider deleting the dataset folder to regenerate.\")"
      ]
    },
    {
      "cell_type": "markdown",
      "source": [
        "We'll make our own custom `Dataset` class that will load the grayscale and colored images together:\n"
      ],
      "metadata": {
        "id": "y8GngNyAB-KK"
      },
      "id": "y8GngNyAB-KK"
    },
    {
      "cell_type": "code",
      "execution_count": 19,
      "id": "14ac4749-2161-4191-93ad-0f422b94586a",
      "metadata": {
        "id": "14ac4749-2161-4191-93ad-0f422b94586a",
        "outputId": "7f8159ff-23da-4c59-ab1b-06798a3e43b1",
        "colab": {
          "base_uri": "https://localhost:8080/"
        }
      },
      "outputs": [
        {
          "output_type": "stream",
          "name": "stdout",
          "text": [
            "Training samples: 56000\n",
            "Validation samples: 14000\n"
          ]
        }
      ],
      "source": [
        "class FashionMNISTColorDataset(Dataset):\n",
        "    \"\"\"Custom dataset for Fashion-MNIST colorization\"\"\"\n",
        "    def __init__(self, data_dir, transform=None):\n",
        "        self.data_dir = Path(data_dir)\n",
        "        self.transform = transform\n",
        "        self.input_files = sorted(list(self.data_dir.glob(\"input_*.npy\")))\n",
        "\n",
        "    def __len__(self):\n",
        "        return len(self.input_files)\n",
        "\n",
        "    def __getitem__(self, idx):\n",
        "        input_file = self.input_files[idx]\n",
        "        target_file = str(input_file).replace(\"input_\", \"target_\")\n",
        "\n",
        "        input_img = np.load(input_file).astype(np.float32) / 255.0  # Normalize to [0,1]\n",
        "        target_img = np.load(target_file).astype(np.float32) / 255.0\n",
        "\n",
        "        input_tensor = torch.from_numpy(input_img).unsqueeze(0)  # (H, W) -> (1, H, W) grayscale\n",
        "        target_tensor = torch.from_numpy(target_img).permute(2, 0, 1)  # (H, W, 3) -> (3, H, W) RGB\n",
        "\n",
        "        return input_tensor, target_tensor\n",
        "\n",
        "\n",
        "full_dataset = FashionMNISTColorDataset(data_dir)  # Create datasets and loaders\n",
        "\n",
        "train_size = int(0.8 * len(full_dataset))  # Split dataset\n",
        "val_size = len(full_dataset) - train_size\n",
        "train_dataset, val_dataset = torch.utils.data.random_split(full_dataset, [train_size, val_size])\n",
        "print(f\"Training samples: {len(train_dataset)}\")\n",
        "print(f\"Validation samples: {len(val_dataset)}\")"
      ]
    },
    {
      "cell_type": "code",
      "execution_count": 20,
      "id": "02b9f7fa-5365-4eca-b3b4-b349ad09d6a4",
      "metadata": {
        "id": "02b9f7fa-5365-4eca-b3b4-b349ad09d6a4",
        "outputId": "71b915e1-c435-4413-bb7c-51f2474f5314",
        "colab": {
          "base_uri": "https://localhost:8080/",
          "height": 246
        }
      },
      "outputs": [
        {
          "output_type": "stream",
          "name": "stdout",
          "text": [
            "\n",
            "Sample data:\n"
          ]
        },
        {
          "output_type": "display_data",
          "data": {
            "text/plain": [
              "<Figure size 2000x400 with 20 Axes>"
            ],
            "image/png": "[encoded data removed]"
          },
          "metadata": {}
        }
      ],
      "source": [
        "# utility function\n",
        "def visualize_results(dataset, model=None, num_samples=10, log_to_wandb=False, epoch=0):\n",
        "    \"\"\"Show input/output examples in grid format\"\"\"\n",
        "    inputs = torch.stack([dataset[i][0] for i in range(min(num_samples, len(dataset)))]).to(device)\n",
        "    targets = torch.stack([dataset[i][1] for i in range(min(num_samples, len(dataset)))]).to(device)\n",
        "\n",
        "    show_pred = model is not None\n",
        "    if show_pred:\n",
        "        with torch.no_grad():\n",
        "            model.eval()\n",
        "            preds = model(inputs)\n",
        "\n",
        "    rows = 3 if show_pred else 2\n",
        "    fig, axes = plt.subplots(rows, len(inputs), figsize=(2*len(inputs), 2*rows))\n",
        "    if len(inputs) == 1: axes = axes.reshape(-1, 1)\n",
        "    plt.subplots_adjust(left=0.02, right=0.98, top=0.92, bottom=0.08, wspace=0.05, hspace=0.4)\n",
        "\n",
        "    titles = ['Input (Grayscale)', 'Target (Colored)'] + (['Prediction'] if show_pred else [])\n",
        "\n",
        "    for i, (inp, tgt) in enumerate(zip(inputs.cpu(), targets.cpu())):\n",
        "        axes[0,i].imshow(inp.squeeze(), cmap='gray'); axes[0,i].axis('off')\n",
        "        axes[1,i].imshow(tgt.permute(1,2,0)); axes[1,i].axis('off')\n",
        "        if show_pred:\n",
        "            axes[2,i].imshow(preds[i].cpu().permute(1,2,0).clamp(0,1)); axes[2,i].axis('off')\n",
        "        if i == len(inputs)//2:\n",
        "            [axes[j,i].set_title(titles[j], fontsize=12) for j in range(rows)]\n",
        "\n",
        "    plt.tight_layout(pad=1.0)\n",
        "    (wandb.log({\"Examples\": wandb.Image(plt), \"epoch\": epoch+1}) if log_to_wandb else plt.show())\n",
        "    plt.close()\n",
        "\n",
        "\n",
        "print(\"\\nSample data:\")  # Show examples before training\n",
        "visualize_results(val_dataset)"
      ]
    },
    {
      "cell_type": "markdown",
      "id": "9edf1c04-496e-4afb-b493-99bc995ca287",
      "metadata": {
        "id": "9edf1c04-496e-4afb-b493-99bc995ca287"
      },
      "source": [
        "## U-Net Architecture"
      ]
    },
    {
      "cell_type": "code",
      "execution_count": 21,
      "id": "d9a0aee4-25b1-4030-9fd4-43e2e2c5f490",
      "metadata": {
        "id": "d9a0aee4-25b1-4030-9fd4-43e2e2c5f490"
      },
      "outputs": [],
      "source": [
        "class DoubleConv(nn.Module):\n",
        "    \"\"\"Double convolution block used in U-Net\"\"\"\n",
        "    def __init__(self, in_channels, out_channels):\n",
        "        super().__init__()\n",
        "        self.double_conv = nn.Sequential(\n",
        "            nn.Conv2d(in_channels, out_channels, 3, padding=1, bias=False),\n",
        "            nn.BatchNorm2d(out_channels),\n",
        "            nn.ReLU(inplace=True),\n",
        "            nn.Conv2d(out_channels, out_channels, 3, padding=1, bias=False),\n",
        "            nn.BatchNorm2d(out_channels),\n",
        "            nn.ReLU(inplace=True)\n",
        "        )\n",
        "    def forward(self, x):\n",
        "        return self.double_conv(x)\n",
        "\n",
        "class Down(nn.Module):\n",
        "    \"\"\"Downscaling with maxpool then double conv\"\"\"\n",
        "    def __init__(self, in_channels, out_channels):\n",
        "        super().__init__()\n",
        "        self.maxpool_conv = nn.Sequential(nn.MaxPool2d(2), DoubleConv(in_channels, out_channels))\n",
        "    def forward(self, x):\n",
        "        return self.maxpool_conv(x)\n",
        "\n",
        "class Up(nn.Module):\n",
        "    \"\"\"Upscaling then double conv\"\"\"\n",
        "    def __init__(self, in_channels, out_channels):\n",
        "        super().__init__()\n",
        "        #self.up = nn.ConvTranspose2d(in_channels, in_channels // 2, 2, stride=2)\n",
        "        # ConvTranspose2d can yield checkerboard artifacts. instead we'll do static upsampling + a conv.\n",
        "        self.up = nn.Sequential(\n",
        "            nn.Upsample(scale_factor=2, mode='bilinear', align_corners=False),\n",
        "            nn.Conv2d(in_channels, in_channels // 2, kernel_size=3, padding=1)\n",
        "        )\n",
        "        self.conv = DoubleConv(in_channels, out_channels)\n",
        "\n",
        "    def forward(self, x1, x2):\n",
        "        x1 = self.up(x1)  # x1 from decoder path, x2 is skip connection from encoder\n",
        "        diffY = x2.size()[2] - x1.size()[2]\n",
        "        diffX = x2.size()[3] - x1.size()[3]\n",
        "        x1 = F.pad(x1, [diffX // 2, diffX - diffX // 2, diffY // 2, diffY - diffY // 2])\n",
        "        x = torch.cat([x2, x1], dim=1)  # Concatenate skip connection (key U-Net feature!)\n",
        "        return self.conv(x)\n",
        "\n",
        "class UNet(nn.Module):\n",
        "    \"\"\"U-Net architecture with skip connections\"\"\"\n",
        "    def __init__(self, n_channels=1, n_classes=3, features=[16, 32, 64, 128]): # features=[64, 128, 256, 512]) was overkill\n",
        "        super().__init__()\n",
        "        self.features = features\n",
        "\n",
        "        self.inc = DoubleConv(n_channels, features[0])\n",
        "        self.downs = nn.ModuleList([Down(features[i], features[i+1]) for i in range(len(features)-1)])\n",
        "        self.ups = nn.ModuleList([Up(features[len(features)-1-i], features[len(features)-2-i]) for i in range(len(features)-1)])\n",
        "        self.outc = nn.Conv2d(features[0], n_classes, 1)\n",
        "\n",
        "    def forward(self, x):\n",
        "        skip_connections = []\n",
        "        x = self.inc(x)\n",
        "        skip_connections.append(x)\n",
        "\n",
        "        for down in self.downs:  # Downsampling path\n",
        "            x = down(x)\n",
        "            skip_connections.append(x)\n",
        "\n",
        "        skip_connections = skip_connections[:-1]  # Remove last (bottleneck)\n",
        "\n",
        "        for i, up in enumerate(self.ups):  # Upsampling path with skip connections\n",
        "            skip = skip_connections[-(i+1)]\n",
        "            x = up(x, skip)\n",
        "\n",
        "        return torch.sigmoid(self.outc(x))"
      ]
    },
    {
      "cell_type": "markdown",
      "id": "a2aaefed-1003-4bdb-9998-db9e28b59c44",
      "metadata": {
        "id": "a2aaefed-1003-4bdb-9998-db9e28b59c44"
      },
      "source": [
        "## Training Functions\n"
      ]
    },
    {
      "cell_type": "code",
      "execution_count": 22,
      "id": "898949be-845c-4b56-b290-f8b3260be52f",
      "metadata": {
        "id": "898949be-845c-4b56-b290-f8b3260be52f"
      },
      "outputs": [],
      "source": [
        "def pixel_accuracy(pred, target, threshold=0.1):\n",
        "    \"\"\"Pixel-wise accuracy metric\"\"\"\n",
        "    return ((pred - target).abs() < threshold).float().mean()\n",
        "\n",
        "\n",
        "def log_example_images(model, inputs, targets, epoch, ncol=10):\n",
        "    \"\"\"Wrapper for wandb logging\"\"\"\n",
        "    class TempDataset:\n",
        "        def __init__(self, data):\n",
        "            self.data = [(inputs[i].cpu(), targets[i].cpu()) for i in range(min(ncol, len(inputs)))]\n",
        "        def __len__(self):\n",
        "            return len(self.data)\n",
        "        def __getitem__(self, idx):\n",
        "            return self.data[idx]\n",
        "    visualize_results(TempDataset([]), model=model, num_samples=ncol, log_to_wandb=True, epoch=epoch)\n",
        "\n",
        "\n",
        "def train_unet(model, train_loader, val_loader, epochs=20, lr=1e-3):\n",
        "    \"\"\"Train the U-Net model\"\"\"\n",
        "    criterion = nn.MSELoss()\n",
        "    optimizer = optim.Adam(model.parameters(), lr=lr, weight_decay=1e-5)\n",
        "    scheduler = optim.lr_scheduler.ReduceLROnPlateau(optimizer, patience=3, factor=0.5)\n",
        "\n",
        "    wandb.init(project=\"unet_fashion_mnist\")\n",
        "    wandb.config.update({\"epochs\": epochs, \"lr\": lr, \"model\": \"UNet\"})\n",
        "\n",
        "    val_iter = iter(val_loader)  # Get fixed batch from validation set for consistent visualization\n",
        "    fixed_batch = next(val_iter)\n",
        "    fixed_inputs, fixed_targets = fixed_batch[0][:8].to(device), fixed_batch[1][:8].to(device)\n",
        "\n",
        "    model.train()\n",
        "    global_step = 0\n",
        "    exp_beta = 0.97\n",
        "    train_loss_avg = None\n",
        "\n",
        "    for epoch in range(epochs):\n",
        "        train_loss = train_acc = 0\n",
        "\n",
        "        pbar = tqdm(train_loader, desc=f'Epoch {epoch+1}/{epochs}')\n",
        "        for batch_idx, (data, target) in enumerate(pbar):\n",
        "            data, target = data.to(device), target.to(device)\n",
        "\n",
        "            optimizer.zero_grad()\n",
        "            output = model(data)\n",
        "            loss = criterion(output, target)\n",
        "            loss.backward()\n",
        "            optimizer.step()\n",
        "\n",
        "            train_loss += loss.item()\n",
        "            train_acc += pixel_accuracy(output, target).item()\n",
        "\n",
        "            # Log every step with exponential moving average\n",
        "            train_loss_avg = loss.item() if train_loss_avg is None else train_loss_avg * exp_beta + loss.item() * (1 - exp_beta)\n",
        "            wandb.log({ \"step\": global_step, \"train_loss\": train_loss_avg,  \"epoch\": epoch + 1 })\n",
        "\n",
        "            global_step += 1\n",
        "            pbar.set_postfix({'Train_Loss': f'{train_loss_avg:.4f}'})\n",
        "\n",
        "        model.eval()  # Validation\n",
        "        val_loss = val_acc = 0\n",
        "\n",
        "        with torch.no_grad():\n",
        "            for data, target in val_loader:\n",
        "                data, target = data.to(device), target.to(device)\n",
        "                output = model(data)\n",
        "                val_loss += criterion(output, target).item()\n",
        "                val_acc += pixel_accuracy(output, target).item()\n",
        "\n",
        "        train_loss, train_acc = train_loss/len(train_loader), train_acc/len(train_loader)\n",
        "        val_loss, val_acc = val_loss/len(val_loader), val_acc/len(val_loader)\n",
        "\n",
        "        scheduler.step(val_loss)\n",
        "\n",
        "        print(f'Epoch {epoch+1}: Train Loss: {train_loss:.4f}, Train Acc: {train_acc:.3f}')\n",
        "        print(f'           Val Loss: {val_loss:.4f}, Val Acc: {val_acc:.3f}')\n",
        "\n",
        "        if epoch % 1 == 0:  # Log example images every epoch\n",
        "            log_example_images(model, fixed_inputs, fixed_targets, epoch)\n",
        "\n",
        "        wandb.log({\n",
        "            \"epoch\": epoch + 1,\n",
        "            \"train_loss\": train_loss,\n",
        "            \"train_acc\": train_acc,\n",
        "            \"val_loss\": val_loss,\n",
        "            \"val_acc\": val_acc,\n",
        "            \"lr\": optimizer.param_groups[0]['lr']\n",
        "        })\n",
        "\n",
        "        model.train()\n",
        "\n",
        "    wandb.finish()\n",
        "    return model"
      ]
    },
    {
      "cell_type": "markdown",
      "id": "73542fe6-1bc1-47a6-a044-912609f20ba1",
      "metadata": {
        "id": "73542fe6-1bc1-47a6-a044-912609f20ba1"
      },
      "source": [
        "## Main Execution\n"
      ]
    },
    {
      "cell_type": "code",
      "execution_count": 23,
      "id": "738b64c2-3289-4a42-b394-6b78e82cef9f",
      "metadata": {
        "id": "738b64c2-3289-4a42-b394-6b78e82cef9f",
        "outputId": "d7970f83-3e2d-4f1a-b6ed-4e25346abfbc",
        "colab": {
          "base_uri": "https://localhost:8080/",
          "height": 1000
        }
      },
      "outputs": [
        {
          "output_type": "stream",
          "name": "stdout",
          "text": [
            "Model has 536,243 parameters\n",
            "\n",
            "Starting training...\n"
          ]
        },
        {
          "output_type": "display_data",
          "data": {
            "text/plain": [
              "<IPython.core.display.HTML object>"
            ],
            "text/html": []
          },
          "metadata": {}
        },
        {
          "output_type": "display_data",
          "data": {
            "text/plain": [
              "<IPython.core.display.HTML object>"
            ],
            "text/html": [
              "Tracking run with wandb version 0.21.4"
            ]
          },
          "metadata": {}
        },
        {
          "output_type": "display_data",
          "data": {
            "text/plain": [
              "<IPython.core.display.HTML object>"
            ],
            "text/html": [
              "Run data is saved locally in <code>/content/wandb/run-20250929_161720-17ng966q</code>"
            ]
          },
          "metadata": {}
        },
        {
          "output_type": "display_data",
          "data": {
            "text/plain": [
              "<IPython.core.display.HTML object>"
            ],
            "text/html": [
              "Syncing run <strong><a href='https://wandb.ai/drscotthawley/unet_fashion_mnist/runs/17ng966q' target=\"_blank\">playful-monkey-28</a></strong> to <a href='https://wandb.ai/drscotthawley/unet_fashion_mnist' target=\"_blank\">Weights & Biases</a> (<a href='https://wandb.me/developer-guide' target=\"_blank\">docs</a>)<br>"
            ]
          },
          "metadata": {}
        },
        {
          "output_type": "display_data",
          "data": {
            "text/plain": [
              "<IPython.core.display.HTML object>"
            ],
            "text/html": [
              " View project at <a href='https://wandb.ai/drscotthawley/unet_fashion_mnist' target=\"_blank\">https://wandb.ai/drscotthawley/unet_fashion_mnist</a>"
            ]
          },
          "metadata": {}
        },
        {
          "output_type": "display_data",
          "data": {
            "text/plain": [
              "<IPython.core.display.HTML object>"
            ],
            "text/html": [
              " View run at <a href='https://wandb.ai/drscotthawley/unet_fashion_mnist/runs/17ng966q' target=\"_blank\">https://wandb.ai/drscotthawley/unet_fashion_mnist/runs/17ng966q</a>"
            ]
          },
          "metadata": {}
        },
        {
          "output_type": "stream",
          "name": "stderr",
          "text": [
            "Epoch 1/15: 100%|██████████| 1750/1750 [00:33<00:00, 51.50it/s, Train_Loss=0.0119]\n"
          ]
        },
        {
          "output_type": "stream",
          "name": "stdout",
          "text": [
            "Epoch 1: Train Loss: 0.0211, Train Acc: 0.718\n",
            "           Val Loss: 0.0124, Val Acc: 0.861\n"
          ]
        },
        {
          "output_type": "stream",
          "name": "stderr",
          "text": [
            "Epoch 2/15: 100%|██████████| 1750/1750 [00:34<00:00, 50.71it/s, Train_Loss=0.0094]\n"
          ]
        },
        {
          "output_type": "stream",
          "name": "stdout",
          "text": [
            "Epoch 2: Train Loss: 0.0106, Train Acc: 0.872\n",
            "           Val Loss: 0.0102, Val Acc: 0.909\n"
          ]
        },
        {
          "output_type": "stream",
          "name": "stderr",
          "text": [
            "Epoch 3/15: 100%|██████████| 1750/1750 [00:34<00:00, 50.83it/s, Train_Loss=0.0097]\n"
          ]
        },
        {
          "output_type": "stream",
          "name": "stdout",
          "text": [
            "Epoch 3: Train Loss: 0.0091, Train Acc: 0.895\n",
            "           Val Loss: 0.0086, Val Acc: 0.910\n"
          ]
        },
        {
          "output_type": "stream",
          "name": "stderr",
          "text": [
            "Epoch 4/15: 100%|██████████| 1750/1750 [00:33<00:00, 51.98it/s, Train_Loss=0.0086]\n"
          ]
        },
        {
          "output_type": "stream",
          "name": "stdout",
          "text": [
            "Epoch 4: Train Loss: 0.0084, Train Acc: 0.907\n",
            "           Val Loss: 0.0082, Val Acc: 0.926\n"
          ]
        },
        {
          "output_type": "stream",
          "name": "stderr",
          "text": [
            "Epoch 5/15: 100%|██████████| 1750/1750 [00:34<00:00, 50.91it/s, Train_Loss=0.0085]\n"
          ]
        },
        {
          "output_type": "stream",
          "name": "stdout",
          "text": [
            "Epoch 5: Train Loss: 0.0079, Train Acc: 0.916\n",
            "           Val Loss: 0.0084, Val Acc: 0.923\n"
          ]
        },
        {
          "output_type": "stream",
          "name": "stderr",
          "text": [
            "Epoch 6/15: 100%|██████████| 1750/1750 [00:34<00:00, 51.12it/s, Train_Loss=0.0079]\n"
          ]
        },
        {
          "output_type": "stream",
          "name": "stdout",
          "text": [
            "Epoch 6: Train Loss: 0.0074, Train Acc: 0.922\n",
            "           Val Loss: 0.0079, Val Acc: 0.919\n"
          ]
        },
        {
          "output_type": "stream",
          "name": "stderr",
          "text": [
            "Epoch 7/15: 100%|██████████| 1750/1750 [00:33<00:00, 51.85it/s, Train_Loss=0.0075]\n"
          ]
        },
        {
          "output_type": "stream",
          "name": "stdout",
          "text": [
            "Epoch 7: Train Loss: 0.0072, Train Acc: 0.926\n",
            "           Val Loss: 0.0084, Val Acc: 0.921\n"
          ]
        },
        {
          "output_type": "stream",
          "name": "stderr",
          "text": [
            "Epoch 8/15: 100%|██████████| 1750/1750 [00:33<00:00, 51.56it/s, Train_Loss=0.0074]\n"
          ]
        },
        {
          "output_type": "stream",
          "name": "stdout",
          "text": [
            "Epoch 8: Train Loss: 0.0068, Train Acc: 0.931\n",
            "           Val Loss: 0.0080, Val Acc: 0.934\n"
          ]
        },
        {
          "output_type": "stream",
          "name": "stderr",
          "text": [
            "Epoch 9/15: 100%|██████████| 1750/1750 [00:33<00:00, 51.76it/s, Train_Loss=0.0062]\n"
          ]
        },
        {
          "output_type": "stream",
          "name": "stdout",
          "text": [
            "Epoch 9: Train Loss: 0.0067, Train Acc: 0.933\n",
            "           Val Loss: 0.0071, Val Acc: 0.931\n"
          ]
        },
        {
          "output_type": "stream",
          "name": "stderr",
          "text": [
            "Epoch 10/15: 100%|██████████| 1750/1750 [00:34<00:00, 51.00it/s, Train_Loss=0.0062]\n"
          ]
        },
        {
          "output_type": "stream",
          "name": "stdout",
          "text": [
            "Epoch 10: Train Loss: 0.0064, Train Acc: 0.936\n",
            "           Val Loss: 0.0067, Val Acc: 0.945\n"
          ]
        },
        {
          "output_type": "stream",
          "name": "stderr",
          "text": [
            "Epoch 11/15: 100%|██████████| 1750/1750 [00:34<00:00, 50.75it/s, Train_Loss=0.0061]\n"
          ]
        },
        {
          "output_type": "stream",
          "name": "stdout",
          "text": [
            "Epoch 11: Train Loss: 0.0062, Train Acc: 0.939\n",
            "           Val Loss: 0.0069, Val Acc: 0.942\n"
          ]
        },
        {
          "output_type": "stream",
          "name": "stderr",
          "text": [
            "Epoch 12/15: 100%|██████████| 1750/1750 [00:34<00:00, 51.23it/s, Train_Loss=0.0059]\n"
          ]
        },
        {
          "output_type": "stream",
          "name": "stdout",
          "text": [
            "Epoch 12: Train Loss: 0.0061, Train Acc: 0.941\n",
            "           Val Loss: 0.0068, Val Acc: 0.944\n"
          ]
        },
        {
          "output_type": "stream",
          "name": "stderr",
          "text": [
            "Epoch 13/15: 100%|██████████| 1750/1750 [00:33<00:00, 51.71it/s, Train_Loss=0.0055]\n"
          ]
        },
        {
          "output_type": "stream",
          "name": "stdout",
          "text": [
            "Epoch 13: Train Loss: 0.0059, Train Acc: 0.942\n",
            "           Val Loss: 0.0067, Val Acc: 0.947\n"
          ]
        },
        {
          "output_type": "stream",
          "name": "stderr",
          "text": [
            "Epoch 14/15: 100%|██████████| 1750/1750 [00:33<00:00, 51.87it/s, Train_Loss=0.0056]\n"
          ]
        },
        {
          "output_type": "stream",
          "name": "stdout",
          "text": [
            "Epoch 14: Train Loss: 0.0058, Train Acc: 0.945\n",
            "           Val Loss: 0.0066, Val Acc: 0.946\n"
          ]
        },
        {
          "output_type": "stream",
          "name": "stderr",
          "text": [
            "Epoch 15/15: 100%|██████████| 1750/1750 [00:34<00:00, 50.49it/s, Train_Loss=0.0063]\n"
          ]
        },
        {
          "output_type": "stream",
          "name": "stdout",
          "text": [
            "Epoch 15: Train Loss: 0.0057, Train Acc: 0.946\n",
            "           Val Loss: 0.0073, Val Acc: 0.945\n"
          ]
        },
        {
          "output_type": "display_data",
          "data": {
            "text/plain": [
              "<IPython.core.display.HTML object>"
            ],
            "text/html": []
          },
          "metadata": {}
        },
        {
          "output_type": "display_data",
          "data": {
            "text/plain": [
              "<IPython.core.display.HTML object>"
            ],
            "text/html": [
              "<br>    <style><br>        .wandb-row {<br>            display: flex;<br>            flex-direction: row;<br>            flex-wrap: wrap;<br>            justify-content: flex-start;<br>            width: 100%;<br>        }<br>        .wandb-col {<br>            display: flex;<br>            flex-direction: column;<br>            flex-basis: 100%;<br>            flex: 1;<br>            padding: 10px;<br>        }<br>    </style><br><div class=\"wandb-row\"><div class=\"wandb-col\"><h3>Run history:</h3><br/><table class=\"wandb\"><tr><td>epoch</td><td>▁▁▁▁▁▂▂▂▃▃▃▃▃▃▃▃▄▄▄▄▅▅▅▅▅▅▅▅▅▅▆▆▇▇▇▇▇▇██</td></tr><tr><td>lr</td><td>▁▁▁▁▁▁▁▁▁▁▁▁▁▁▁</td></tr><tr><td>step</td><td>▁▁▁▁▂▂▃▃▃▃▃▃▃▄▄▄▄▄▄▄▄▄▅▅▅▅▅▅▅▆▆▆▇▇▇▇████</td></tr><tr><td>train_acc</td><td>▁▆▆▇▇▇▇████████</td></tr><tr><td>train_loss</td><td>▇██▆▅▅▅▆▆█▅▄▅▄▄▄▅▅▃▂▄▄▄▄▃▁▂▂▃▃▃▁▂▂▃▄▂▁▂▂</td></tr><tr><td>val_acc</td><td>▁▅▅▆▆▆▆▇▇██████</td></tr><tr><td>val_loss</td><td>█▅▃▃▃▃▃▃▂▁▁▁▁▁▂</td></tr></table><br/></div><div class=\"wandb-col\"><h3>Run summary:</h3><br/><table class=\"wandb\"><tr><td>epoch</td><td>15</td></tr><tr><td>lr</td><td>0.001</td></tr><tr><td>step</td><td>26249</td></tr><tr><td>train_acc</td><td>0.94552</td></tr><tr><td>train_loss</td><td>0.00571</td></tr><tr><td>val_acc</td><td>0.94494</td></tr><tr><td>val_loss</td><td>0.00731</td></tr></table><br/></div></div>"
            ]
          },
          "metadata": {}
        },
        {
          "output_type": "display_data",
          "data": {
            "text/plain": [
              "<IPython.core.display.HTML object>"
            ],
            "text/html": [
              " View run <strong style=\"color:#cdcd00\">playful-monkey-28</strong> at: <a href='https://wandb.ai/drscotthawley/unet_fashion_mnist/runs/17ng966q' target=\"_blank\">https://wandb.ai/drscotthawley/unet_fashion_mnist/runs/17ng966q</a><br> View project at: <a href='https://wandb.ai/drscotthawley/unet_fashion_mnist' target=\"_blank\">https://wandb.ai/drscotthawley/unet_fashion_mnist</a><br>Synced 5 W&B file(s), 15 media file(s), 0 artifact file(s) and 0 other file(s)"
            ]
          },
          "metadata": {}
        },
        {
          "output_type": "display_data",
          "data": {
            "text/plain": [
              "<IPython.core.display.HTML object>"
            ],
            "text/html": [
              "Find logs at: <code>./wandb/run-20250929_161720-17ng966q/logs</code>"
            ]
          },
          "metadata": {}
        },
        {
          "output_type": "stream",
          "name": "stdout",
          "text": [
            "\n",
            "Results after training:\n"
          ]
        },
        {
          "output_type": "display_data",
          "data": {
            "text/plain": [
              "<Figure size 2000x600 with 30 Axes>"
            ],
            "image/png": "[encoded data removed]"
          },
          "metadata": {}
        },
        {
          "output_type": "stream",
          "name": "stdout",
          "text": [
            "Model saved as 'unet_fashion_mnist.pth'\n"
          ]
        }
      ],
      "source": [
        "\n",
        "#DRAW_NUMBERS = True  # Configuration\n",
        "BATCH_SIZE = 32\n",
        "EPOCHS = 15\n",
        "LEARNING_RATE = 1e-3\n",
        "\n",
        "\n",
        "# reproducible dataloaders\n",
        "torch.manual_seed(42)\n",
        "np.random.seed(42)\n",
        "num_workers=0 # needed in jupyter, to avoid issues for now. =2 runs faster but not worth headaches rn\n",
        "train_loader = DataLoader(train_dataset, batch_size=BATCH_SIZE, shuffle=True, num_workers=num_workers)\n",
        "val_loader = DataLoader(val_dataset, batch_size=BATCH_SIZE, shuffle=False, num_workers=num_workers)\n",
        "\n",
        "\n",
        "model = UNet(n_channels=1, n_classes=3).to(device)  # Create model\n",
        "print(f\"Model has {sum(p.numel() for p in model.parameters()):,} parameters\")\n",
        "\n",
        "print(\"\\nStarting training...\")  # Train the model\n",
        "trained_model = train_unet(model, train_loader, val_loader, epochs=EPOCHS, lr=LEARNING_RATE)\n",
        "\n",
        "print(\"\\nResults after training:\")  # Show results after training\n",
        "visualize_results(val_dataset, trained_model)\n",
        "\n",
        "torch.save(trained_model.state_dict(), 'unet_fashion_mnist.pth')  # Save the model\n",
        "print(\"Model saved as 'unet_fashion_mnist.pth'\")"
      ]
    },
    {
      "cell_type": "markdown",
      "id": "1ed52ad3-de77-48bb-94fe-8034add9ab0f",
      "metadata": {
        "id": "1ed52ad3-de77-48bb-94fe-8034add9ab0f"
      },
      "source": [
        "...and we could keep training longer to see how much better we can do, but this is pretty good for now. ;-)\n",
        "\n",
        "### More on U-Nets\n",
        "U-Nets can useful for computing a variety of *changes* to images, audio, and other forms of data -- removing defects, filling in blanks, super-resolution.  Their efficient combination of multiresolution learning and computing changes (the concatenative skip connection can function as a \"super residual\" when combined with Linear layers) makes them a great choice.\n",
        "\n",
        " Though the U-Net is not a truly \"generative\" model - its outputs are determininistically dependent on the inputs. By injecting noise into the process in various ways, one can also use the U-Net to generate a variety of outputs."
      ]
    },
    {
      "cell_type": "markdown",
      "source": [
        "# Summary and Moving On\n",
        "\n",
        "The **lasting significance** of these models...\n",
        "\n",
        "- Skip Connections: Residuals,  conncatenative skips and other variants are used in all models these days.  \n",
        "- U-Nets have been part of generative models such as diffusion models, though they have been supplanted by a variant of Vision Transformers (ViT) namely Diffusion Transformers (DiT)  \n",
        "- Somewhat related: The popular conditioning method known as FiLM ([paper](https://cdn.aaai.org/ojs/11671/11671-13-15199-1-2-20201228.pdf)) has [been shown to be a super-class](https://distill.pub/2018/feature-wise-transformations/) incorporating both residual and concatenative connections, though it is typically used to connected new inputs rather than disparate layers in a model."
      ],
      "metadata": {
        "id": "yj6f1dVozOni"
      },
      "id": "yj6f1dVozOni"
    },
    {
      "cell_type": "code",
      "execution_count": 23,
      "id": "a371e1ec-8d86-4314-b350-7a54ac118295",
      "metadata": {
        "id": "a371e1ec-8d86-4314-b350-7a54ac118295"
      },
      "outputs": [],
      "source": []
    }
  ],
  "metadata": {
    "kernelspec": {
      "display_name": "Python 3",
      "name": "python3"
    },
    "language_info": {
      "codemirror_mode": {
        "name": "ipython",
        "version": 3
      },
      "file_extension": ".py",
      "mimetype": "text/x-python",
      "name": "python",
      "nbconvert_exporter": "python",
      "pygments_lexer": "ipython3",
      "version": "3.11.11"
    },
    "colab": {
      "provenance": [],
      "machine_shape": "hm",
      "gpuType": "L4",
      "include_colab_link": true
    },
    "accelerator": "GPU"
  },
  "nbformat": 4,
  "nbformat_minor": 5
}