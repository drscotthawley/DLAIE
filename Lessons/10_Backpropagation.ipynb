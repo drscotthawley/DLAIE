{
 "cells": [
  {
   "cell_type": "markdown",
   "metadata": {
    "id": "14tOCcvT_a0I"
   },
   "source": [
    "[![Open In Colab](https://colab.research.google.com/assets/colab-badge.svg)](https://colab.research.google.com/github/drscotthawley/DLAIE/blob/main/Lessons/10_Backpropagation.ipynb)\n",
    "\n",
    "# Backpropagation\n",
    "\n",
    "Backpropagation is the (most popular) method by which artificial neural networks learn: it is how gradient descent is implemented in multi-layer networks. In the simplest of terms, backpropagation is just the Chain Rule from differential calculus.  But saying \"it's just the Chain Rule,\" while conceptually true, can hide some of the intricacy involved in actually coding it up.  In this lesson we walk through implementations of backpropgation from scratch as well as with two major neural network libraries. "
   ]
  },
  {
   "cell_type": "markdown",
   "metadata": {
    "id": "-E-xQQc__daG"
   },
   "source": [
    "## Video Intro\n",
    "\n",
    "This [13-minute video by 3blue1brown](https://www.youtube.com/watch?v=Ilg3gGewQ5U) is an execellent introduction to backpropagation. \n",
    "\n",
    "The sample problem he shows is handwritten digit classification using images that are made up of 28x28 (=784) pixels. This is the classic \"MNIST Dataset\" problem that we will consider further below. \n",
    "\n"
   ]
  },
  {
   "cell_type": "markdown",
   "metadata": {
    "id": "DuRERcGwADM6"
   },
   "source": [
    "## A Multi-Layer Network\n",
    "\n",
    "Previously we coded up networks with multiple layers, and here we will return to the \"MLP\" case of one hidden layer: Between the input $X$ and output $\\tilde{Y}$ of the network we encountered earlier, we now interpose a \"hidden layer,\" connected by two sets of weights $w^{(0)}$ and $w^{(1)}$ as shown in the figure below.  This image is a bit more complicated than diagrams one might typically encounter; I wanted to be able to show and label all the different \"parts.\"  We will explain what the various symbols mean as we continue after the figure.\n",
    "![image of multi-layer network](https://i.imgur.com/WjaQDnW.png)\n",
    "\n",
    "\n",
    "As before, the combined operation of weighted sum and nonlinear activation is referred to as a(n artificial) neuron; in the diagram above there are 4 \"hidden neurons\" --- or equivalently  \"4 neurons in the hidden layer\" --- as well as one neuron for output.  (The activations $f^{(0)}$ and $f^{(1)}$ may be the same, or they may be different.)\n",
    "\n",
    "## Semantics: What is a Layer?\n",
    "The term \"layer\" in regards to neural network is not always used consistently.  You may find it used in different senses by different authors.\n",
    "\n",
    "1. Some users of the term will only use it with repect to *weight matrices*, (since these are the parts of the network which are adjusted in learning).\n",
    "2. Others will refer to the input and (predicted) output as layers, and may or may not include the weights as layers..\n",
    "3. Others will only count  additional  \"hidden layers\" between the inputs and outputs, and these \"layers\" are *connected by* multiple weight matrices.  \n",
    "4. Some will speak of \"activation layers.\"  In software libraries like Keras, many different types of operations and storage are referred to as layers.\n",
    "\n",
    "For the work we've done so far, we've had inputs and outputs connected by one weight matrix, subject to a nonlinear activation function.  Is this a two-layer network made of input and output \"layers,\"\" or is it a single-layer network, because there is only one weight matrix?  What about the activation layer?  This is to some degree a semantic issue which one does not need to get hung up on.\n",
    "\n",
    "**For our purposes** it is convenient to refer to the inputs $X$, the 'activated' hidden states $H$, and the output $\\tilde{Y}$ as \"layers\", numbering them 0, 1, and 2 respectively, and using the script notation $\\mathcal{L}^l$ to denote each layer, where the layer index $l=0..2$, so that\n",
    "\n",
    "$$\n",
    "\\mathcal{L}^{(0)} = X, \\ \\ \\ \\ \\mathcal{L}^{(1)} = H,\\ \\ \\ \\ \\mathcal{L}^{(2)} = \\tilde{Y}\n",
    "$$\n",
    "\n",
    "This makes it easy to write the value of higher-numbered layers in terms of lower-numbed layers, i.e.,\n",
    "$$\n",
    "\\mathcal{L}^{(l+1)} = f^{(l)}\\left( {\\mathcal{L}^{(l)}}^T \\cdot w^{(l)} \\right),\n",
    "$$\n",
    "where the dot $\\cdot$ denotes a matrix product.   This is often referred to as a **\"feed foward\"** operation because values are fed from left to right in the above diagram, \"forward\" through the network.  (Backpropagation will involve feeding values from right to left.)\n",
    "\n",
    "### \"I still don't feel like I know what an artificial neuron 'is'.\"  \n",
    "\"Like, what does this mean in terms of matrices?\"\n",
    "\n",
    "This fits in with an earlier write-up I made called [\"My First Neural Network\"](https://drscotthawley.github.io/blog/2019/01/30/My-First-Neural-Network.html).  Using the above notation, the operations from the input to the hidden layer look like this in matrix form:\n",
    "\n",
    "![matrix form of first calcs](https://i.imgur.com/hgtEpVH.png)\n",
    "...where the lines in dark red and cyan are simply to indicate sample calculations which are part of the matrix multiplication.\n",
    "\n",
    "\n",
    "\n"
   ]
  },
  {
   "cell_type": "markdown",
   "metadata": {
    "id": "Xw5BW5XMBuNW"
   },
   "source": [
    "## Figuring out dimensions of the weights\n",
    "\n",
    "When we learned about matrix multipliation, we remarked that most of the time in machine learning, \"the trick is to get the inner dimensions to match.\"\n",
    "\n",
    "Let's say there are $N$ different input data \"points\" consisting of $M$ values each.  So the input $X$ is an $N\\times M$ matrix.  And let the output $\\tilde{Y}$ be a $NxP$ matrix (in our example, $P=1$).  If we were just connecting $X$ and $\\tilde{Y}$ with no hidden layer, the single weights matrix would be a $M\\times P$ matrix:\n",
    "\n",
    "$$\n",
    "(\\color{blue}N\\times \\color{red}M)\\cdot(\\color{red}M\\times \\color{green}P) = (\\color{blue}N\\times \\color{green}P)\n",
    "$$\n",
    "(The nonlinear activation doesn't change the dimensions of the matrices.)\n",
    "\n",
    "Adding a hidden layer with $Q$ number of neurons means we will still have $N$ different activations for each neuron (i.e. for each datapoint), so that $H$ is a $N\\times Q$ matrix. \n",
    "Thus the dimensions of $w^0$ must \"match\" between these two matrices, and so $w^0$ must be a $M\\times Q$ matrix:\n",
    "\n",
    " $$\n",
    "(\\color{blue}N\\times \\color{red}M)\\cdot(\\color{red}M\\times \\color{purple}Q) = (\\color{blue}N\\times \\color{purple}Q)\n",
    "$$\n",
    "Similarly $w^1$ must be a $Q\\times P$ matrix, and the full operation in terms of matrix dimensions is\n",
    "\n",
    "$$\n",
    "(\\color{blue}N\\times \\color{red}M)\\cdot(\\color{red}M\\times \\color{purple}Q)\\cdot(\\color{purple}Q\\times \\color{green}P) = (\\color{blue}N\\times \\color{green}P).\n",
    "$$\n",
    "Compare this to the diagram above for $P=1$, $Q=4$. \n",
    "\n",
    "*Note: If you add bias terms to your model, you may need to remember that the number of columns in both the input $X$ and hidden layer $H$ are greater by one, i.e. $\\color{red}{M}\\rightarrow \\color{red}{M+1}$, etc.*\n",
    "\n"
   ]
  },
  {
   "cell_type": "markdown",
   "metadata": {
    "id": "DrT2Y2E1BcRf"
   },
   "source": [
    "## ..a bit of code\n",
    "\n",
    "The layers $\\mathcal{L}^l$ can be represented in Python a  list called `layers` which has a of length 3.  Similarly, our weights can be items in a list called `weights`."
   ]
  },
  {
   "cell_type": "markdown",
   "metadata": {
    "id": "DrT2Y2E1BcRf"
   },
   "source": [
    "## A Simple Example Problem \n",
    "\n",
    "Rather than a large multidimensional dataset we'll start with something we can solve \"by hand\": \n",
    "Can we find a neural network that will map inputs $X$ to targets $Y$?\n",
    "\n",
    "$$X = \\left[ {\\begin{array}{ccc}\n",
    "   0 & 0 & 1\\\\\n",
    "   0 & 1 & 1\\\\\n",
    "   1 & 0 & 1\\\\\n",
    "   1 & 1 & 1\\\\\n",
    "  \\end{array} } \n",
    "\\right]\n",
    "  , \\ \\ \\ \\  Y = \n",
    " \\left[ {\\begin{array}{c}\n",
    "   0   \\\\\n",
    "   0  \\\\\n",
    "   1  \\\\\n",
    "   1 \\\\\n",
    "  \\end{array} } \\right]\n",
    "$$\n",
    "> Spoiler: Yes, and we will do so below.  But keep in mind that for such a small dataset the network is likely just \"memorizing\" the table, not learning any compact/functional/predictive rule.\n",
    "\n",
    "### Implementation\n",
    "As per the math discussion above, will set up array dimensions $N, M,$ and $P$ as follows:\n",
    "* Input $X$ will have dimensions $\\color{blue}N\\times \\color{red}M$, where $\\color{blue}N=4$ and $\\color{red}M=3$.\n",
    "* Output $\\tilde{Y}$ will have dimensions $\\color{blue}N\\times \\color{green}P$, where $\\color{green}P=1$. (We will seek to minimize the difference between output $\\tilde{Y}$ and target $Y$.)\n",
    "* We will do the mapping from $X$ to $\\tilde{Y}$ using a hidden layer $H$, which is connected via two weight layers:\n",
    "    * Weights matrix $w^{(0)}$ will connect $X$ and $H$, and have dimensions $\\color{red}M\\times \\color{purple}Q$\n",
    "    * Weights matrix $w^{(1)}$ will connect $H$ and $\\tilde{Y}$, and have dimensions $\\color{purple}Q\\times \\color{green}P$\n",
    "    \n",
    "The value of $\\color{purple}Q$, the number of neurons in the hidden layer, can be whatever we choose; it is a \"hyperparameter\" of the problem.\n",
    "\n",
    "For starters, let's do a simple \"feed forward\" or \"inference\" operation, just using random weights for now.  We will then \"train the network\", i.e. adjust the weights to minimize some loss between $Y$ and $\\tilde{Y}$, further down. "
   ]
  },
  {
   "cell_type": "code",
   "execution_count": 10,
   "metadata": {
    "colab": {
     "base_uri": "https://localhost:8080/",
     "height": 194
    },
    "id": "VIEuhFFiGJ6A",
    "outputId": "a41a2c8b-9f62-4294-e17e-07b174aba071"
   },
   "outputs": [
    {
     "name": "stdout",
     "output_type": "stream",
     "text": [
      "layers [1] =\n",
      "[[0.89 0.17 0.81 -0.73]\n",
      " [-0.01 0.24 1.13 -0.70]\n",
      " [0.09 0.00 1.20 -0.90]\n",
      " [-0.81 0.07 1.52 -0.87]]\n",
      "layers [2] =\n",
      "[[-0.21]\n",
      " [0.39]\n",
      " [0.29]\n",
      " [0.90]]\n"
     ]
    }
   ],
   "source": [
    "import numpy as np\n",
    "%matplotlib inline\n",
    "import matplotlib.pyplot as plt\n",
    "\n",
    "# Training data: input and target \n",
    "X = np.array([  [0,0,1],\n",
    "                [0,1,1],\n",
    "                [1,0,1],\n",
    "                [1,1,1] ])\n",
    "Y = np.array([[0,0,1,1]]).T\n",
    "\n",
    "# define auxiliary variables\n",
    "N, M, P  = X.shape[0], X.shape[1], Y.shape[1]    # infer matrix shape variables from training data\n",
    "Y_tilde = np.zeros((N,P))                        # setup storage for network output \n",
    "\n",
    "# Hidden layers\n",
    "Q = 4                     # number of hidden neurons, i.e. \"size of hidden layer\"\n",
    "H = np.zeros((N,Q))\n",
    "\n",
    "# weight matrices -- initialize with random numbers\n",
    "w0 = 2*np.random.random((M,Q)) - 1\n",
    "w1 = 2*np.random.random((Q,P)) - 1\n",
    "\n",
    "# Make lists for layers and weights\n",
    "layers = [X, H, Y_tilde]\n",
    "weights = [w0, w1]\n",
    "\n",
    "# Just try a sample feed-forward calculation with random intialization to see how this works \n",
    "# Feed-forward (with linear activation):\n",
    "for l in range(2):\n",
    "  layers[l+1] = np.dot(layers[l], weights[l])\n",
    "  print(\"layers [\",l+1,\"] =\\n\", layers[l+1], sep=\"\")  # sep=\"\" just omits spaces"
   ]
  },
  {
   "cell_type": "markdown",
   "metadata": {
    "id": "pm86BDAks7ow"
   },
   "source": [
    "That was not training code, and not even a full feed-forward. \n",
    "\n",
    "Generalizing this so it will do the full feed-forward will take a bit more code.\n",
    "For now, we'll leave a placeholder routine for backpropagation called `update_weights()`; we'll fill it in later. "
   ]
  },
  {
   "cell_type": "code",
   "execution_count": 11,
   "metadata": {
    "colab": {
     "base_uri": "https://localhost:8080/",
     "height": 212
    },
    "id": "Viug88y7s7B6",
    "outputId": "21da64a0-3d95-49ea-c7eb-0a36df964564"
   },
   "outputs": [
    {
     "name": "stdout",
     "output_type": "stream",
     "text": [
      "weights[0] = \n",
      "[[-0.17 0.44 -1.00 -0.40 -0.71]\n",
      " [-0.82 -0.63 -0.31 -0.21 0.08]\n",
      " [-0.16 0.37 -0.59 0.76 -0.95]\n",
      " [0.34 -0.17 0.12 -0.72 -0.60]]\n",
      "weights[1] = \n",
      "[[0.60]\n",
      " [0.94]\n",
      " [-0.37]\n",
      " [0.38]\n",
      " [0.75]]\n"
     ]
    }
   ],
   "source": [
    "# Activation choices\n",
    "def sigmoid(x, deriv=False): \n",
    "  f = 1/(1+np.exp(-x))\n",
    "  return f*(1-f) if deriv else f\n",
    "\n",
    "def relu(x, deriv=False):   \n",
    "  return 1*(x>0) if deriv else x*(x>0)\n",
    "\n",
    "# ***** Placeholder: Backprop code will go in here later *******\n",
    "def update_weights(weights, layers, Y, alpha, activ):\n",
    "  return weights                   # for now, it's a no-op\n",
    "\n",
    "\n",
    "def fit(layers, Y, activ=[sigmoid]*2, use_bias=True, alpha=1.0, maxiter=10000):\n",
    "  \"\"\"\n",
    "  Routine for training using a multi-layer network\n",
    "    layers:    list of layer values, i.e. layers =  [X, H, Y_tilde]\n",
    "    Y:         target output\n",
    "    activ:     list of activation functions. default = list of 2 sigmoids\n",
    "    use_bias:  Whether to include a constant offset in weighted sums\n",
    "    alpha:     learning rate\n",
    "    maxiter:   number of iterations to run\n",
    "  \"\"\"\n",
    "  lmax = len(layers)-1             # max index of layers, also = # of weights\n",
    "  \n",
    "  if use_bias:           # add a column of 1's to every layer except the last\n",
    "    for el in range(lmax):\n",
    "        new_col = np.ones((layers[el].shape[0],1)) \n",
    "        layers[el] = np.hstack((new_col, layers[el])) \n",
    "  \n",
    "  # Define weights\n",
    "  np.random.seed(1)                # for reproducibility\n",
    "  weights = [None]*lmax            # allocate slots in a blank list\n",
    "  for el in range(lmax):           # \"el\" because \"l\" and \"1\" may look similar\n",
    "    weights[el] = 2*np.random.random((layers[el].shape[1], layers[el+1].shape[1])) - 1\n",
    "        \n",
    "  loss_hist = []                   # start with an empty list\n",
    "  for iter in range(maxiter):\n",
    "\n",
    "    # Feed-forward pass\n",
    "    for el in range(lmax):\n",
    "      layers[el+1] = activ[el](np.dot(layers[el], weights[el]))\n",
    "      \n",
    "    # Loss monitoring\n",
    "    diff = layers[lmax] - Y\n",
    "    loss_hist.append( (diff**2).mean()  )    # use MSE loss for monitoring\n",
    "          \n",
    "    # ***** Placeholder: Backprop code will go in here *******\n",
    "    weights = update_weights(weights, layers, Y, alpha, activ)\n",
    "\n",
    "  return weights, layers[lmax], loss_hist        \n",
    "\n",
    "\n",
    "# Test this just to make sure it runs\n",
    "layers = [X,H,Y_tilde]\n",
    "weights, Y_tilde, loss_hist = fit(layers, Y, maxiter=1)\n",
    "for el in range(len(weights)):\n",
    "  print(\"weights[\",el,\"] = \\n\",weights[el], sep=\"\")"
   ]
  },
  {
   "cell_type": "markdown",
   "metadata": {
    "id": "LokhJTYe2_0H"
   },
   "source": [
    "...Now that we've achieved feed-foward operation of the network, in order to make it 'learn' or 'train', we need to compare the network's output value $\\tilde{Y}$ (which is the same as `layers[2]` by the way) to the target value $Y$, then compute the gradients of the loss function, and then backpropagate in order to update all the weights!"
   ]
  },
  {
   "cell_type": "markdown",
   "metadata": {
    "id": "j5ugGBRuKMmo"
   },
   "source": [
    "\n",
    "\n",
    "## Backpropagating: Theory\n",
    "Let's go over how we get the gradients for $w^{(1)}$.  We define a loss function $L(\\tilde{Y},Y)$ where network outputs $\\tilde{Y}$ are the activations of the very last layer, i.e., in $\\tilde{Y} = \\mathcal{L}^{(2)}$\n",
    "\n",
    "$$ L = MSE = {1\\over N}\\sum_{i=0}^N (\\tilde{Y_i} - Y_i)^2 = {1\\over N}\\sum_{i=0}^N (\\mathcal{L}^{(2)} - Y_i)^2.$$\n",
    "\n",
    "Each layer consists of **weighted sums** followed by some activation function.  Denoting the sums by \"$S$\", e.g. \n",
    "\n",
    "$$ S^{(l)} = \\mathcal{L}^(l)\\cdot w^(l),$$ \n",
    "\n",
    "we can find the gradient of $L$ with respect to $w^{(1)}$ by using the Chain Rule, in which we take the product of all the (partial) derivatives \"between\" the loss function and the weights:\n",
    "$$\n",
    "{\\partial L\\over\\partial w^{(1)}} = \n",
    "\\color{blue}\n",
    "{\\partial L \\over\\partial \\mathcal{L}^{(2)}}\n",
    "\\color{green}\n",
    "{\\partial \\mathcal{L}^{(2)} \\over\\partial S^{(1)}}\n",
    "\\color{red}\n",
    "{\\partial S^{(1)} \\over\\partial w^{(1)}}\n",
    "$$\n",
    "\n",
    "> **Suggestion:** Review the network diagram near the top of the lesson to remind yourself what the various letters stand for.\n",
    "\n",
    "\n",
    "\n",
    "We'll define the first partial derivative to be $\\delta^{(2)}$, which works out (given our choice of $L$ from Part 2) to be\n",
    "$$\\color{blue}{\n",
    "{\\partial L \\over\\partial \\mathcal{L}^{(2)}}\n",
    "=\\delta^{(2)} = \\tilde{Y}-Y},$$\n",
    "i.e., it is the error in the final ouput.\n",
    "\n",
    "The next partial derivative (in $\\color{green} {\\rm green}$) is just the derivative of the activation function $f$.\n",
    "\n",
    "The last partial derivative is just $\\color{red}{\\mathcal{L}^{(1)}}$, so as we saw in the previous lesson, we can write this 'schematically' (i.e. not quite as a properly-set-up matix equation yet) as\n",
    "$$ \n",
    "{\\partial L\\over\\partial w^{(1)}} =\n",
    "\\color{blue}{\\delta^{(2)}}\n",
    " \\color{green} {f^{(1)\\prime} }\n",
    "\\color{red}{\\mathcal{L}^{(1)}} \n",
    "$$\n",
    "whereas in proper form it will take on this ordering as a matrix equation:\n",
    "$$\n",
    "\\boxed{\n",
    "{\\partial L\\over\\partial w^{(1)}} = \n",
    "{\\mathcal{L}^{(1)}}^T \\cdot \n",
    "{\\delta^{(2)}}\n",
    "{f^{(1)\\prime}}\n",
    "}.\n",
    "$$\n",
    "\n",
    "\n",
    "To get the gradients for $w^{(0)}$, we can make use of a similar \"$\\delta$\" notation if we're careful in how we define a new $\\delta^{(1)}$.  Let's write out the chain rule, and put parentheses around a particular group of terms for later:\n",
    "\n",
    "$$\n",
    "{\\partial L\\over\\partial w^{(0)}} = \n",
    "\\color{blue}{\n",
    "\\left(\n",
    "{\\partial L \\over\\partial \\mathcal{L}^{(2)}}\n",
    "{\\partial \\mathcal{L}^{(2)} \\over\\partial S^{(1)}}\n",
    "{\\partial S^{(1)} \\over\\partial \\mathcal{L}^{(1)}}\n",
    "\\right)}\n",
    "\\color{green}\n",
    "{\\partial \\mathcal{L}^{(1)} \\over\\partial S^{(0)}}\n",
    "\\color{red}\n",
    "{\\partial S^{(0)} \\over\\partial w^{(0)}}\n",
    "$$\n",
    "In a manner similar to what we did above, this can be written as\n",
    "$$\n",
    "{\\partial L\\over\\partial w^{(0)}} =\n",
    "\\color{blue}{\n",
    "\\left(\\delta^{(2)}f^{(1)\\prime}w^{(1)}\\right)}\n",
    "\\color{green}{f^{(0)\\prime}}\n",
    "\\color{red}{\\mathcal{L^{(0)}}}\n",
    "$$ \n",
    "We now *define* the terms in parentheses as $\\delta^{(1)}$\n",
    "\n",
    "$$\n",
    "\\color{blue}{\n",
    "\\delta^{(1)} =  \\delta^{(2)}f^{(1)\\prime}w^{(1)}\n",
    "},\n",
    "$$\n",
    "...which is *kind of* like \"the error in the hidden layer,\" or like the  final solution error projected backward into the hidden layers via our (momentarily fixed) weights $w^{(1)}$.\n",
    "\n",
    "Then our gradients for $w^{(0)}$ take on a similar form as the gradients for $w^{(1)}$. 'Schematically' this looks like \n",
    "$$\n",
    "{\\partial L\\over\\partial w^{(0)}} =\n",
    "\\color{blue}{\\delta^{(1)}}\n",
    "\\color{green}{f^{(0)\\prime}}\n",
    "\\color{red}{\\mathcal{L^{(0)}}}\n",
    "$$\n",
    "and in proper matrix form this is\n",
    "$$\n",
    "\\boxed{\n",
    "{\\partial L\\over\\partial w^{(0)}} =\n",
    "{\\mathcal{L}^{(0)}}^T \\cdot \n",
    "{\\delta^{(1)}}\n",
    "{f^{(0)\\prime}}\n",
    "},\n",
    "$$\n",
    "i.e., the *same form* as the preceding layer, just \"back\" one layer. We are backpropagating the errors $\\delta^{(l)}$ from one layer to another in order to update the weights. \n",
    "\n",
    "The weights are then updated as before, except now we will write this 'generically' for all weights and layers using the index $l$:\n",
    "$$\n",
    "\\boxed{\n",
    "w^{(l)} := w^{(l)} - \\alpha {\\mathcal{L}^{(l)}}^T \\cdot \n",
    "{\\delta^{(l+1)}}\n",
    "{f^{(l)\\prime}}\n",
    "},\n",
    "$$\n",
    "where\n",
    "$$\n",
    "\\delta^{(l+1)} = \\left\\{ \\begin{array}{l} \n",
    "\\tilde{Y}-Y,\\ \\ \\  &\\ &l+1=l_{max} \\ \\ \\ \\ ({\\rm e.g.} \\ l_{max}=2)\\\\\n",
    "\\delta^{(l+2)}f^{(l+1)\\prime}\\cdot {w^{(l+1)}}^T, &\\ &l+1 < l_{max}\n",
    "\\end{array}\\right.\n",
    "$$\n",
    "\n",
    "The two above equations in boxes comprise the key results for this backpropagation algorithm. Now we need to convert them into code. \n"
   ]
  },
  {
   "cell_type": "markdown",
   "metadata": {
    "id": "ixBpkDfw60ou"
   },
   "source": [
    "## Writing the Backprop Code\n",
    "Now we'll use the above analysis to replace the `update_weights()` function from earlier. `update_weights()`  will be where the backpropagation is performed. "
   ]
  },
  {
   "cell_type": "code",
   "execution_count": 3,
   "metadata": {
    "colab": {
     "base_uri": "https://localhost:8080/",
     "height": 278
    },
    "id": "sKsYzNwC3qVw",
    "outputId": "ad066419-5454-4c38-8bac-185d3963fe84"
   },
   "outputs": [
    {
     "data": {
      "image/png": "[encoded data removed]",
      "text/plain": [
       "<Figure size 640x480 with 1 Axes>"
      ]
     },
     "metadata": {},
     "output_type": "display_data"
    }
   ],
   "source": [
    "def update_weights(weights, layers, Y, alpha, activ):\n",
    "  \"\"\"\n",
    "  Backprop routine, for arbitrary numbers of layers, assuming weights & \n",
    "  activations are defined\n",
    "  \n",
    "  Inputs:\n",
    "    weights: list of arrays of weights between each layer\n",
    "    layers:  list of arrays of layer values (post-activation function)\n",
    "    Y:       target output\n",
    "    alpha:   learning rate\n",
    "    activ:   list of activation functions for each (non-input) layer\n",
    "  Outputs:\n",
    "    weights (updated)\n",
    "  \"\"\"\n",
    "  lmax = len(layers) - 1                        # a useful variable\n",
    "  assert len(weights)==lmax                     # make sure number of weights match up\n",
    "  assert len(activ) >= lmax                     # make sure we defined enough activations for the layers\n",
    "    \n",
    "  delta = layers[lmax] - Y                      # error between output and target\n",
    "  \n",
    "  for el in range(lmax-1, -1, -1):              # Count backwards to layer zero\n",
    "    fprime = activ[el](np.dot(layers[el], weights[el]), deriv=True)   # deriv of activation\n",
    "    weights[el] -= alpha * np.dot( layers[el].T, delta*fprime )       # gradient descent step\n",
    "    delta = np.dot(delta*fprime, weights[el].T) if (el>0) else None   # setup delta for next pass in loop\n",
    "\n",
    "  return weights           \n",
    "\n",
    "# Let's run it!\n",
    "layers = [X, H, Y_tilde]\n",
    "alpha = 0.1\n",
    "maxiter=5000\n",
    "weights, Y_tilde, loss_hist_2weights = fit(layers, Y, alpha=alpha, maxiter=maxiter)\n",
    "\n",
    "# compare against a 1-weight (no hidden layer) network:\n",
    "layers = [X, Y_tilde]\n",
    "weights, Y_tilde, loss_hist_1weight = fit(layers, Y, alpha=alpha, maxiter=maxiter)\n",
    "\n",
    "# Plot the loss history\n",
    "plt.semilogy(loss_hist_1weight, label=\"No hidden layers\")\n",
    "plt.semilogy(loss_hist_2weights, label=\"Hidden layer\")\n",
    "plt.legend()\n",
    "plt.xlabel(\"Iteration\")\n",
    "plt.ylabel(\"Loss\")\n",
    "plt.show()"
   ]
  },
  {
   "cell_type": "code",
   "execution_count": 4,
   "metadata": {
    "colab": {
     "base_uri": "https://localhost:8080/",
     "height": 296
    },
    "id": "0sO8d02Zj7My",
    "outputId": "191af328-fe8e-46e5-b71b-7af921dbc7a8"
   },
   "outputs": [
    {
     "data": {
      "text/plain": [
       "Text(0, 0.5, 'Loss')"
      ]
     },
     "execution_count": 4,
     "metadata": {},
     "output_type": "execute_result"
    },
    {
     "data": {
      "image/png": "[encoded data removed]",
      "text/plain": [
       "<Figure size 640x480 with 1 Axes>"
      ]
     },
     "metadata": {},
     "output_type": "display_data"
    }
   ],
   "source": [
    "# Let's add more hidden neurons\n",
    "Q = 50                     # number of hidden neurons, i.e. \"size of hidden layer\"\n",
    "H = np.zeros((N,Q))\n",
    "\n",
    "layers = [X, H, Y_tilde]\n",
    "weights, Y_tilde, loss_hist_many = fit(layers, Y, alpha=alpha, maxiter=maxiter)\n",
    "\n",
    "# try a relu activation for the hidden layer (leave output activ as sigmoid!)\n",
    "weights, Y_tilde, lhm_relu = fit(layers, Y, alpha=alpha, activ=[relu,sigmoid], maxiter=maxiter)\n",
    "\n",
    "plt.semilogy(loss_hist_1weight, label=\"0 hidden neurons\")\n",
    "plt.semilogy(loss_hist_2weights, label=\"4 hidden neurons\")\n",
    "plt.semilogy(loss_hist_many, label=\"many hidden neurons\")\n",
    "plt.semilogy(lhm_relu, label=\"many, relu on hidden\")\n",
    "\n",
    "plt.legend()\n",
    "plt.xlabel(\"Iteration\")\n",
    "plt.ylabel(\"Loss\")"
   ]
  },
  {
   "cell_type": "markdown",
   "metadata": {
    "id": "9QO_UCYo_b0n"
   },
   "source": [
    "## Another sample problem: Solving XOR\n",
    "One famous result in the history of neural networks is that a single neuron can't model an exclusive or (XOR) function, but that multiple neurons can. Let's try that:\n",
    "\n",
    "$$ \\overbrace{\n",
    " \\left[ {\\begin{array}{cc}\n",
    "    0 & 0 \\\\\n",
    "    0 & 1 \\\\\n",
    "    1 & 0 \\\\\n",
    "    1 & 1 \\\\\n",
    "  \\end{array} } \\right]\n",
    "}^{X} \\rightarrow\n",
    "\\overbrace{\n",
    " \\left[ {\\begin{array}{c}\n",
    "   0   \\\\\n",
    "   1  \\\\\n",
    "   1  \\\\\n",
    "   0 \\\\\n",
    "  \\end{array} } \\right]\n",
    "  }^Y.\n",
    "$$\n",
    "With our multi-layer network, we can solve this.  Note that while (it can be shown that) an exact solution to the XOR problem exists using only 2 hidden neurons and linear activations, a program can still have a hard time *finding* a good approximation via gradient descent, and we use 20 hidden neurons to assist, as follows:"
   ]
  },
  {
   "cell_type": "code",
   "execution_count": 5,
   "metadata": {
    "colab": {
     "base_uri": "https://localhost:8080/",
     "height": 335
    },
    "id": "1LAodLrS77IN",
    "outputId": "145db301-a6ec-4cca-dda3-5abf1d24e9cb"
   },
   "outputs": [
    {
     "name": "stdout",
     "output_type": "stream",
     "text": [
      "Prediction Y_tilde = [[0.00480128 0.9962425  0.9963109  0.00374649]]\n",
      "Target Y (correct answer)  = [[0 1 1 0]]\n"
     ]
    },
    {
     "data": {
      "text/plain": [
       "[<matplotlib.lines.Line2D at 0x7f35bd255460>]"
      ]
     },
     "execution_count": 5,
     "metadata": {},
     "output_type": "execute_result"
    },
    {
     "data": {
      "image/png": "[encoded data removed]",
      "text/plain": [
       "<Figure size 640x480 with 1 Axes>"
      ]
     },
     "metadata": {},
     "output_type": "display_data"
    }
   ],
   "source": [
    "X = np.array([[0,0],[0,1],[1,0],[1,1]])\n",
    "Y = np.array([[0,1,1,0]]).T\n",
    "Y_tilde = 0*Y                         # Just allocate some storage\n",
    "H = np.zeros((N,20))                  \n",
    "\n",
    "weights, Y_tilde, loss_hist_xor = fit([X,H,Y_tilde], Y, activ=[relu,sigmoid], alpha=0.5)\n",
    "print(\"Prediction Y_tilde =\",Y_tilde.T)\n",
    "print(\"Target Y (correct answer)  =\",Y.T)\n",
    "plt.xlabel(\"Iteration\")\n",
    "plt.ylabel(\"Loss\")\n",
    "plt.loglog(loss_hist_xor)\n",
    "#print(\"weights = \",weights)"
   ]
  },
  {
   "cell_type": "markdown",
   "metadata": {
    "id": "uk_FycPfH-Fw"
   },
   "source": [
    "# Same thing using neural network libraries Keras & PyTorch.\n",
    "Since most of the time we won't be writing neural \n",
    "\n",
    "1.   List item\n",
    "2.   List item\n",
    "\n",
    "network systems \"from scratch, by hand\" in numpy, let's take a look at similar operations using libraries such as Keras or PyTorch. \n",
    "\n",
    "## Keras version\n",
    "[Keras](https://keras.io/) is so simple to set up, it's easy to get started. This is what the previous example for XOR looks like \"in Keras\":"
   ]
  },
  {
   "cell_type": "code",
   "execution_count": 6,
   "metadata": {
    "colab": {
     "base_uri": "https://localhost:8080/",
     "height": 123
    },
    "id": "pS228ETyASBZ",
    "outputId": "3aac9f26-15d4-4b8f-b65b-5c7ca903caca"
   },
   "outputs": [
    {
     "name": "stderr",
     "output_type": "stream",
     "text": [
      "2022-11-11 17:05:13.885485: I tensorflow/core/platform/cpu_feature_guard.cc:193] This TensorFlow binary is optimized with oneAPI Deep Neural Network Library (oneDNN) to use the following CPU instructions in performance-critical operations:  AVX2 FMA\n",
      "To enable them in other operations, rebuild TensorFlow with the appropriate compiler flags.\n",
      "2022-11-11 17:05:14.137619: E tensorflow/stream_executor/cuda/cuda_blas.cc:2981] Unable to register cuBLAS factory: Attempting to register factory for plugin cuBLAS when one has already been registered\n",
      "2022-11-11 17:05:15.648842: W tensorflow/stream_executor/platform/default/dso_loader.cc:64] Could not load dynamic library 'libnvinfer.so.7'; dlerror: libnvinfer.so.7: cannot open shared object file: No such file or directory; LD_LIBRARY_PATH: /usr/local/lib:/usr/local/mpi/lib:/usr/local/mpi/lib64:\n",
      "2022-11-11 17:05:15.649384: W tensorflow/stream_executor/platform/default/dso_loader.cc:64] Could not load dynamic library 'libnvinfer_plugin.so.7'; dlerror: libnvinfer_plugin.so.7: cannot open shared object file: No such file or directory; LD_LIBRARY_PATH: /usr/local/lib:/usr/local/mpi/lib:/usr/local/mpi/lib64:\n",
      "2022-11-11 17:05:15.649408: W tensorflow/compiler/tf2tensorrt/utils/py_utils.cc:38] TF-TRT Warning: Cannot dlopen some TensorRT libraries. If you would like to use Nvidia GPU with TensorRT, please make sure the missing libraries mentioned above are installed properly.\n",
      "2022-11-11 17:05:18.802672: W tensorflow/stream_executor/platform/default/dso_loader.cc:64] Could not load dynamic library 'libcudnn.so.8'; dlerror: libcudnn.so.8: cannot open shared object file: No such file or directory; LD_LIBRARY_PATH: /usr/local/lib:/usr/local/mpi/lib:/usr/local/mpi/lib64:\n",
      "2022-11-11 17:05:18.802723: W tensorflow/core/common_runtime/gpu/gpu_device.cc:1934] Cannot dlopen some GPU libraries. Please make sure the missing libraries mentioned above are installed properly if you would like to use GPU. Follow the guide at https://www.tensorflow.org/install/gpu for how to download and setup the required libraries for your platform.\n",
      "Skipping registering GPU devices...\n",
      "2022-11-11 17:05:18.803576: I tensorflow/core/platform/cpu_feature_guard.cc:193] This TensorFlow binary is optimized with oneAPI Deep Neural Network Library (oneDNN) to use the following CPU instructions in performance-critical operations:  AVX2 FMA\n",
      "To enable them in other operations, rebuild TensorFlow with the appropriate compiler flags.\n",
      "/home/mchorse/envs/dlaie/lib/python3.8/site-packages/keras/optimizers/optimizer_v2/adam.py:114: UserWarning: The `lr` argument is deprecated, use `learning_rate` instead.\n",
      "  super().__init__(name, **kwargs)\n"
     ]
    },
    {
     "name": "stdout",
     "output_type": "stream",
     "text": [
      "1/1 [==============================] - 0s 137ms/step\n",
      "\n",
      "Y_tilde = \n",
      " [[1.3584136e-09]\n",
      " [1.0000000e+00]\n",
      " [1.0000000e+00]\n",
      " [6.3703759e-10]]\n"
     ]
    }
   ],
   "source": [
    "import keras\n",
    "from keras.models import Sequential\n",
    "from keras.layers import Dense, Activation\n",
    "from keras.optimizers import Adam\n",
    "\n",
    "# training data\n",
    "X = np.array([[0,0],[0,1],[1,0],[1,1]])\n",
    "Y = np.array([[0,1,1,0]]).T\n",
    "\n",
    "# specify model\n",
    "n_hidden = 20\n",
    "model = Sequential([\n",
    "    Dense(n_hidden, input_shape=(X.shape[1],), activation='relu'),\n",
    "    Dense(1, activation='sigmoid')])\n",
    "\n",
    "# choices for loss and optimization method\n",
    "opt = Adam(lr=alpha)   # We'll talk about optimizer choices later\n",
    "model.compile(optimizer=opt, loss='binary_crossentropy',metrics=['binary_accuracy'])\n",
    "\n",
    "# training iterations\n",
    "model.fit(X, Y, epochs=maxiter, batch_size=1, verbose=0)\n",
    "\n",
    "print(\"\\nY_tilde = \\n\", model.predict(X) )"
   ]
  },
  {
   "cell_type": "markdown",
   "metadata": {
    "id": "6ICN197PVxgI"
   },
   "source": [
    "Keras can get a better appoximation than we did because of the choice of optimizer algorithm. We'll talk about optimization algorithms (refinements to gradient descent) another time. "
   ]
  },
  {
   "cell_type": "markdown",
   "metadata": {
    "id": "qpP-drLrT2Kn"
   },
   "source": [
    "## PyTorch version\n",
    "Unlike Keras, [PyTorch](https://pytorch.org/) does not have any \"training wheels.\"  You have to specify a number of the operations yourself.  It's helpful to have a template to start from, such as the following example for our XOR problem."
   ]
  },
  {
   "cell_type": "code",
   "execution_count": 7,
   "metadata": {
    "colab": {
     "base_uri": "https://localhost:8080/",
     "height": 402
    },
    "id": "q3ICqFUEMA7U",
    "outputId": "1ef4eeb7-2011-4271-fc4d-4da4ec054830"
   },
   "outputs": [
    {
     "name": "stdout",
     "output_type": "stream",
     "text": [
      "\n",
      "Y_tilde = \n",
      " [[2.9904521e-07]\n",
      " [9.9999976e-01]\n",
      " [9.9999964e-01]\n",
      " [3.4438148e-07]]\n"
     ]
    },
    {
     "data": {
      "text/plain": [
       "[<matplotlib.lines.Line2D at 0x7f331274f0a0>]"
      ]
     },
     "execution_count": 7,
     "metadata": {},
     "output_type": "execute_result"
    },
    {
     "data": {
      "image/png": "[encoded data removed]",
      "text/plain": [
       "<Figure size 640x480 with 1 Axes>"
      ]
     },
     "metadata": {},
     "output_type": "display_data"
    }
   ],
   "source": [
    "import torch                  # it's 'PyTorch' but the package is 'torch'\n",
    "device = torch.device('cpu')  # we don't need gpu yet; this is handy for changing to 'cuda' in GPU runtimes later!\n",
    "\n",
    "torch.manual_seed(1)  # for reproducibility\n",
    "\n",
    "# training data\n",
    "X = np.array([[0,0],[0,1],[1,0],[1,1]],dtype=np.float32)\n",
    "Y = np.array([[0,1,1,0]],dtype=np.float32).T\n",
    "\n",
    "# re-cast data as PyTorch variables, on the device (CPU or GPU) were calc's are performed\n",
    "x, y = torch.tensor(X).to(device), torch.tensor(Y).to(device)   \n",
    "\n",
    "# specify model (similar to Keras but not quite)\n",
    "n_hidden = 20                           # number of hidden neurons\n",
    "model = torch.nn.Sequential(\n",
    "          torch.nn.Linear(X.shape[1], n_hidden),\n",
    "          torch.nn.ReLU(),\n",
    "          torch.nn.Linear(n_hidden, 1),\n",
    "          torch.nn.Sigmoid()\n",
    "        ).to(device)\n",
    "\n",
    "# choices for loss and optimization method\n",
    "loss_fn = torch.nn.BCELoss()      # binary cross-entropy loss\n",
    "optimizer = torch.optim.Adam([{'params': model.parameters()}], lr=alpha)\n",
    "\n",
    "# training iterations\n",
    "loss_hist_pytorch = []\n",
    "for iter in range(maxiter):\n",
    "  optimizer.zero_grad()                  # set gradients=0 before calculating more\n",
    "  y_tilde = model(x)                     # feed-forward step\n",
    "  loss = loss_fn(y_tilde, y)             # compute the loss\n",
    "  loss_hist_pytorch.append(loss.item())  # save loss for plotting later\n",
    "  loss.backward()                        # compute gradients via backprop\n",
    "  optimizer.step()                       # actually update the weights\n",
    "\n",
    "# print and plot our results\n",
    "print(\"\\nY_tilde = \\n\", y_tilde.cpu().data.numpy() )\n",
    "plt.xlabel(\"Iteration\")\n",
    "plt.ylabel(\"Loss\")\n",
    "plt.loglog(loss_hist_pytorch)"
   ]
  },
  {
   "cell_type": "markdown",
   "metadata": {
    "id": "3SLVvDOcW27k"
   },
   "source": [
    "---\n",
    "\n",
    "# Exercise: 7-Segment Display\n",
    "\n",
    "\n",
    "A [7-segment display](https://en.wikipedia.org/wiki/Seven-segment_display) is used for displaying numerical digits 0 through 9, usually by lighting up LEDs or parts of a liquid crystal display (LCD).  The segments are labelled $a$ through $g$ according to the following diagram:\n",
    "\n",
    "![7-segment diagram](https://i.imgur.com/ZyHGDKy.png) \n",
    "\n",
    "The 7 inputs \"a\" through \"g\" will be mapped to a one-hot-encoded vector (i.e., all zeros except for a 1 in the \"slot\" of whichever digit is being denoted.)\n",
    "\n",
    "Sometimes the inclusion of bias doesn't make any significant difference but other times it can.  By default, bias in \"on\" in PyTorch (as `use_bias=True` when defining `nn.Linear` layers.).  As a sample problem, let's try the same thing for trying to learn to map the digits of a seven segment display.  And we're going to do it in raw Numpy so we can see all the parts!\n",
    "\n",
    "\n",
    "\n",
    "\n",
    "The 7 inputs \"a\" through \"g\" will be mapped to 10 outputs for the individual digits, and each output can range from 0 (\"false\" or \"no\") to 1 (\"true\" or \"yes\") for that digit.  The input and outputs will be connected by a matrix of weights.  \n",
    "\n",
    "\n",
    "### Create the dataset\n",
    "Let the input X be the segments $a$ through $g$ are the columns of the input $X$, and are either 1 for on or 0 for off.  Let the columns of the target $Y$ be the digits 0-9 themselves arranged in a [\"one hot\" encoding](https://machinelearningmastery.com/why-one-hot-encode-data-in-machine-learning/) scheme, as follows:\n",
    "\n",
    "\n",
    "<table>\n",
    "  <tr><td>Digit</td><td>One-Hot Encoding for $Y$</td></tr>\n",
    "    <tr><td>0</td><td>1,0,0,0,0,0,0,0,0,0</td></tr>\n",
    "    <tr><td>1</td><td>0,1,0,0,0,0,0,0,0,0</td></tr>\n",
    "    <tr><td>2</td><td>0,0,1,0,0,0,0,0,0,0</td></tr>\n",
    "  <tr><td>...</td><td>...</td></tr>\n",
    "    <tr><td>9</td><td>0,0,0,0,0,0,0,0,0,1</td></tr>\n",
    "  </table>\n",
    "  ...where the missing values are left as part of the exercise, for you to fill in! \n",
    "\n",
    "  The values in the columns for $Y$ are essentially true/false \"bits\" for each digit, answering the question \"Is this digit the appropriate output?\" with a \"yes\"(=1) or \"no\" (=0) response. \n",
    "\n",
    "The input $X$ will be a 10x7 matrix, and the target $Y$ will be a 10x10 matrix. Each row of $X$ will be the segments to produce the digit for that row.  For example, the zeroth row of $X$ should show segments on which make an image of the digit zero, namely segments a, b, c, d, e, and f but not g, so that the zeroth row of X should be [1,1,1,1,1,1,0].\n",
    "\n",
    "\n",
    "You'll want to define numpy arrays for both $X$ and $Y$  (Hint: for $Y$, check out [np.eye()](https://docs.scipy.org/doc/numpy/reference/generated/numpy.eye.html)): \n"
   ]
  },
  {
   "cell_type": "code",
   "execution_count": 12,
   "metadata": {},
   "outputs": [
    {
     "ename": "SyntaxError",
     "evalue": "invalid syntax (2108030709.py, line 18)",
     "output_type": "error",
     "traceback": [
      "\u001b[0;36m  Cell \u001b[0;32mIn [12], line 18\u001b[0;36m\u001b[0m\n\u001b[0;31m    [] ])\u001b[0m\n\u001b[0m     ^\u001b[0m\n\u001b[0;31mSyntaxError\u001b[0m\u001b[0;31m:\u001b[0m invalid syntax\n"
     ]
    }
   ],
   "source": [
    "# Students: fill these out completely for what the X and Y *should* be\n",
    "# for the 7-segment display.  The following is just a \"stub\" to get you started.\n",
    " # there should be 7 coolumns (for segments a through g) and 10 rows (for 0-9)\n",
    "X = np.array([\n",
    "                    #a b c d e f g \n",
    "                    [1,1,1,1,1,1,0],  # 0\n",
    "                    [0,1,1,0,0,0,0],  # 1 \n",
    "                    [1,1,0,1,1,0,1],  # 2\n",
    "                    #\n",
    "                    # fill in the missing rows for the remaining digits, \n",
    "                    #\n",
    "                    [1,1,1,0,0,0,0],  # 7 \n",
    "                    [1,1,1,1,1,1,1],  # 8 \n",
    "                    [1,1,1,1,0,1,1]   # 9 \n",
    "                 ])\n",
    "Y = np.array([ [1,0,0,0,0,0,0,0,0,0],  # we need ten \"one-hot encoded\" rows for digts 0 through 9\n",
    "               [],... # fill in the rest. hint: you could just use use np.eye() ;-) \n",
    "               [] ])"
   ]
  },
  {
   "cell_type": "markdown",
   "metadata": {
    "id": "3SLVvDOcW27k"
   },
   "source": [
    "With that set, then we can train a network! \n",
    "\n",
    "\n",
    "### Training code\n",
    "In the following code, there's a part for **YOU TO CHANGE** in order to make it work! ;-)  "
   ]
  },
  {
   "cell_type": "code",
   "execution_count": 13,
   "metadata": {
    "colab": {
     "base_uri": "https://localhost:8080/",
     "height": 371
    },
    "id": "5FaFfspWxCnk",
    "outputId": "f5190ab7-ff88-483f-c636-65bb7c2eb9f9"
   },
   "outputs": [
    {
     "name": "stdout",
     "output_type": "stream",
     "text": [
      "Prediction Y_tilde =\n",
      " [[0.01 0.99 0.99 0.01]]\n",
      "Target Y (correct answer)  =\n",
      " [[0.00 1.00 1.00 0.00]]\n"
     ]
    },
    {
     "data": {
      "text/plain": [
       "[<matplotlib.lines.Line2D at 0x7f3488253190>]"
      ]
     },
     "execution_count": 13,
     "metadata": {},
     "output_type": "execute_result"
    },
    {
     "data": {
      "image/png": "[encoded data removed]",
      "text/plain": [
       "<Figure size 640x480 with 1 Axes>"
      ]
     },
     "metadata": {},
     "output_type": "display_data"
    }
   ],
   "source": [
    "## TEMPLATE CODE. Scroll down to \"MAKE YOUR CHANGES BELOW\", below\n",
    "import numpy as np\n",
    "import matplotlib.pyplot as plt\n",
    "\n",
    "######## LEAVE THIS UNCHANGED ########\n",
    "\n",
    "# First, let's repeat the sigmoid(), relu(), update_weights() and fit() routines\n",
    "# already defined, so we have a'standalone' code and can easily make changes\n",
    "\n",
    "# Activation choices\n",
    "def sigmoid(x, deriv=False): \n",
    "  f = 1/(1+np.exp(-x))\n",
    "  return f*(1-f) if deriv else f\n",
    "\n",
    "def relu(x, deriv=False):   \n",
    "  return 1*(x>0) if deriv else x*(x>0)\n",
    "\n",
    "# Backpropagation routine\n",
    "def update_weights(weights, layers, Y, alpha, activ):\n",
    "  lmax = len(layers) - 1                        # a useful variable\n",
    "  assert len(weights)==lmax                     # make sure number of weights match up\n",
    "  assert len(activ) >= lmax                     # make sure we defined enough activations for the layers\n",
    "    \n",
    "  delta = layers[lmax] - Y                      # error between output and target\n",
    "  \n",
    "  for el in range(lmax-1, -1, -1):              # Count backwards to layer zero\n",
    "    fprime = activ[el](np.dot(layers[el], weights[el]), deriv=True)   # deriv of activation\n",
    "    weights[el] -= alpha * np.dot( layers[el].T, delta*fprime )       # gradient descent step\n",
    "    delta = np.dot(delta*fprime, weights[el].T) if (el>0) else None   # setup delta for next pass in loop\n",
    "\n",
    "  return weights           \n",
    "\n",
    "# Routine for training via gradient descent\n",
    "def fit(layers, Y, activ=[sigmoid]*2, use_bias=True, alpha=1.0, maxiter=10000):\n",
    "  lmax = len(layers)-1             # max index of layers, also = # of weights\n",
    "  \n",
    "  if use_bias:           # add a column of 1's to every layer except the last\n",
    "    for el in range(lmax):\n",
    "        new_col = np.ones((layers[el].shape[0],1)) \n",
    "        layers[el] = np.hstack((new_col, layers[el])) \n",
    "  \n",
    "  # Define weights\n",
    "  np.random.seed(1)                # for reproducibility\n",
    "  weights = [None]*lmax            # allocate slots in a blank list\n",
    "  for el in range(lmax):           # \"el\" because \"l\" and \"1\" may look similar\n",
    "    weights[el] = 2*np.random.random((layers[el].shape[1], layers[el+1].shape[1]))-1 \n",
    "            \n",
    "  loss_hist = []                   # start with an empty list\n",
    "  for iter in range(maxiter):\n",
    "\n",
    "    # Feed-forward pass\n",
    "    for el in range(lmax):\n",
    "      layers[el+1] = activ[el](np.dot(layers[el], weights[el]))\n",
    "    Y_tilde = layers[lmax]\n",
    "      \n",
    "    # Loss monitoring\n",
    "    diff = Y_tilde - Y\n",
    "    loss_hist.append( (diff**2).mean()  )    # use MSE loss for monitoring\n",
    "          \n",
    "    # Backprop code will go here\n",
    "    weights = update_weights(weights, layers, Y, alpha, activ)\n",
    "\n",
    "  return weights, Y_tilde, loss_hist \n",
    "######## END OF PART TO LEAVE UNCHANGED #######\n",
    "\n",
    "\n",
    "\n",
    "\n",
    "#####---------------  Students: MAKE YOUR CHANGES BELOW ------------##############\n",
    "\n",
    "# define the tanh activation function\n",
    "def tanh(x, deriv=False):\n",
    "  if deriv: # what is the derivative of tanh?  (look it up if you need to)\n",
    "    pass # *** Students: replace 'pass' with what the derivative should be\n",
    "  return np.tanh(x)\n",
    "\n",
    "\n",
    "## Students: replace these two X, Y with your 7-segment data instead\n",
    "X = np.array([[0,0],[0,1],[1,0],[1,1]],dtype=np.float32)\n",
    "Y = np.array([[0,1,1,0]],dtype=np.float32).T\n",
    "\n",
    "\n",
    "Y_tilde = np.copy(Y)                     # This just allocates some storage for Y_tilde\n",
    "\n",
    "##  Hidden layers: Students: Change Q, the number of hidden neurons, as needed\n",
    "Q = 10\n",
    "N = X.shape[0]                           # this just grabs the number of rows in X\n",
    "H = np.zeros((N,Q))                  \n",
    "H2 = np.zeros((N,Q))                     # extra hidden layer, might not be used\n",
    "\n",
    "## Students: change this as instructed\n",
    "layers = [X, H, Y_tilde]              # later, add another layer H2 when instructed\n",
    "activ = [sigmoid, sigmoid, sigmoid]   # change the first (2) activation(s) as instructed\n",
    "alpha = 0.5                           # play around with this\n",
    "\n",
    "\n",
    "######## LEAVE THIS PART UNCHANGED ########\n",
    "weights, Y_tilde, loss_hist = fit(layers, Y, activ=activ, alpha=alpha)\n",
    "np.set_printoptions(formatter={'float': lambda x: \"{0:0.2f}\".format(x)}) # 2 sig figs\n",
    "print(\"Prediction Y_tilde =\\n\",Y_tilde.T)\n",
    "print(\"Target Y (correct answer)  =\\n\",Y.T)\n",
    "plt.xlabel(\"Iteration\")\n",
    "plt.ylabel(\"Loss\")\n",
    "plt.loglog(loss_hist)"
   ]
  },
  {
   "cell_type": "code",
   "execution_count": null,
   "metadata": {},
   "outputs": [],
   "source": []
  }
 ],
 "metadata": {
  "accelerator": "GPU",
  "colab": {
   "collapsed_sections": [],
   "name": "10_Backpropagation.ipynb",
   "provenance": []
  },
  "kernelspec": {
   "display_name": "Python 3 (ipykernel)",
   "language": "python",
   "name": "python3"
  },
  "language_info": {
   "codemirror_mode": {
    "name": "ipython",
    "version": 3
   },
   "file_extension": ".py",
   "mimetype": "text/x-python",
   "name": "python",
   "nbconvert_exporter": "python",
   "pygments_lexer": "ipython3",
   "version": "3.8.10"
  }
 },
 "nbformat": 4,
 "nbformat_minor": 1
}
