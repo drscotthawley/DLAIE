{
  "nbformat": 4,
  "nbformat_minor": 0,
  "metadata": {
    "colab": {
      "provenance": [],
      "collapsed_sections": []
    },
    "kernelspec": {
      "name": "python3",
      "display_name": "Python 3"
    },
    "language_info": {
      "name": "python"
    },
    "accelerator": "GPU",
    "widgets": {
      "application/vnd.jupyter.widget-state+json": {
        "515d34fd0a35466490e1bcb259a83802": {
          "model_module": "@jupyter-widgets/controls",
          "model_name": "VBoxModel",
          "model_module_version": "1.5.0",
          "state": {
            "_view_name": "VBoxView",
            "_dom_classes": [],
            "_model_name": "VBoxModel",
            "_view_module": "@jupyter-widgets/controls",
            "_model_module_version": "1.5.0",
            "_view_count": null,
            "_view_module_version": "1.5.0",
            "box_style": "",
            "layout": "IPY_MODEL_a040224bface48dca207e85ce27c327d",
            "_model_module": "@jupyter-widgets/controls",
            "children": [
              "IPY_MODEL_728202e50f2f4202a1dc07d0196b9d55",
              "IPY_MODEL_c8203919f8ef4e00aed7ed34a0a471ed"
            ]
          }
        },
        "a040224bface48dca207e85ce27c327d": {
          "model_module": "@jupyter-widgets/base",
          "model_name": "LayoutModel",
          "model_module_version": "1.2.0",
          "state": {
            "_view_name": "LayoutView",
            "grid_template_rows": null,
            "right": null,
            "justify_content": null,
            "_view_module": "@jupyter-widgets/base",
            "overflow": null,
            "_model_module_version": "1.2.0",
            "_view_count": null,
            "flex_flow": null,
            "width": null,
            "min_width": null,
            "border": null,
            "align_items": null,
            "bottom": null,
            "_model_module": "@jupyter-widgets/base",
            "top": null,
            "grid_column": null,
            "overflow_y": null,
            "overflow_x": null,
            "grid_auto_flow": null,
            "grid_area": null,
            "grid_template_columns": null,
            "flex": null,
            "_model_name": "LayoutModel",
            "justify_items": null,
            "grid_row": null,
            "max_height": null,
            "align_content": null,
            "visibility": null,
            "align_self": null,
            "height": null,
            "min_height": null,
            "padding": null,
            "grid_auto_rows": null,
            "grid_gap": null,
            "max_width": null,
            "order": null,
            "_view_module_version": "1.2.0",
            "grid_template_areas": null,
            "object_position": null,
            "object_fit": null,
            "grid_auto_columns": null,
            "margin": null,
            "display": null,
            "left": null
          }
        },
        "728202e50f2f4202a1dc07d0196b9d55": {
          "model_module": "@jupyter-widgets/controls",
          "model_name": "LabelModel",
          "model_module_version": "1.5.0",
          "state": {
            "_view_name": "LabelView",
            "style": "IPY_MODEL_1f118f3e06b5473892e6e7ce470875ba",
            "_dom_classes": [],
            "description": "",
            "_model_name": "LabelModel",
            "placeholder": "​",
            "_view_module": "@jupyter-widgets/controls",
            "_model_module_version": "1.5.0",
            "value": " 0.01MB of 0.01MB uploaded (0.00MB deduped)\r",
            "_view_count": null,
            "_view_module_version": "1.5.0",
            "description_tooltip": null,
            "_model_module": "@jupyter-widgets/controls",
            "layout": "IPY_MODEL_5706a0005a724b65a38e57ed2bc6d8c0"
          }
        },
        "c8203919f8ef4e00aed7ed34a0a471ed": {
          "model_module": "@jupyter-widgets/controls",
          "model_name": "FloatProgressModel",
          "model_module_version": "1.5.0",
          "state": {
            "_view_name": "ProgressView",
            "style": "IPY_MODEL_c538f14e950f47e98b64b9ae23b5118e",
            "_dom_classes": [],
            "description": "",
            "_model_name": "FloatProgressModel",
            "bar_style": "",
            "max": 1,
            "_view_module": "@jupyter-widgets/controls",
            "_model_module_version": "1.5.0",
            "value": 1,
            "_view_count": null,
            "_view_module_version": "1.5.0",
            "orientation": "horizontal",
            "min": 0,
            "description_tooltip": null,
            "_model_module": "@jupyter-widgets/controls",
            "layout": "IPY_MODEL_73012a284f194f5091d66a51bbd1a195"
          }
        },
        "1f118f3e06b5473892e6e7ce470875ba": {
          "model_module": "@jupyter-widgets/controls",
          "model_name": "DescriptionStyleModel",
          "model_module_version": "1.5.0",
          "state": {
            "_view_name": "StyleView",
            "_model_name": "DescriptionStyleModel",
            "description_width": "",
            "_view_module": "@jupyter-widgets/base",
            "_model_module_version": "1.5.0",
            "_view_count": null,
            "_view_module_version": "1.2.0",
            "_model_module": "@jupyter-widgets/controls"
          }
        },
        "5706a0005a724b65a38e57ed2bc6d8c0": {
          "model_module": "@jupyter-widgets/base",
          "model_name": "LayoutModel",
          "model_module_version": "1.2.0",
          "state": {
            "_view_name": "LayoutView",
            "grid_template_rows": null,
            "right": null,
            "justify_content": null,
            "_view_module": "@jupyter-widgets/base",
            "overflow": null,
            "_model_module_version": "1.2.0",
            "_view_count": null,
            "flex_flow": null,
            "width": null,
            "min_width": null,
            "border": null,
            "align_items": null,
            "bottom": null,
            "_model_module": "@jupyter-widgets/base",
            "top": null,
            "grid_column": null,
            "overflow_y": null,
            "overflow_x": null,
            "grid_auto_flow": null,
            "grid_area": null,
            "grid_template_columns": null,
            "flex": null,
            "_model_name": "LayoutModel",
            "justify_items": null,
            "grid_row": null,
            "max_height": null,
            "align_content": null,
            "visibility": null,
            "align_self": null,
            "height": null,
            "min_height": null,
            "padding": null,
            "grid_auto_rows": null,
            "grid_gap": null,
            "max_width": null,
            "order": null,
            "_view_module_version": "1.2.0",
            "grid_template_areas": null,
            "object_position": null,
            "object_fit": null,
            "grid_auto_columns": null,
            "margin": null,
            "display": null,
            "left": null
          }
        },
        "c538f14e950f47e98b64b9ae23b5118e": {
          "model_module": "@jupyter-widgets/controls",
          "model_name": "ProgressStyleModel",
          "model_module_version": "1.5.0",
          "state": {
            "_view_name": "StyleView",
            "_model_name": "ProgressStyleModel",
            "description_width": "",
            "_view_module": "@jupyter-widgets/base",
            "_model_module_version": "1.5.0",
            "_view_count": null,
            "_view_module_version": "1.2.0",
            "bar_color": null,
            "_model_module": "@jupyter-widgets/controls"
          }
        },
        "73012a284f194f5091d66a51bbd1a195": {
          "model_module": "@jupyter-widgets/base",
          "model_name": "LayoutModel",
          "model_module_version": "1.2.0",
          "state": {
            "_view_name": "LayoutView",
            "grid_template_rows": null,
            "right": null,
            "justify_content": null,
            "_view_module": "@jupyter-widgets/base",
            "overflow": null,
            "_model_module_version": "1.2.0",
            "_view_count": null,
            "flex_flow": null,
            "width": null,
            "min_width": null,
            "border": null,
            "align_items": null,
            "bottom": null,
            "_model_module": "@jupyter-widgets/base",
            "top": null,
            "grid_column": null,
            "overflow_y": null,
            "overflow_x": null,
            "grid_auto_flow": null,
            "grid_area": null,
            "grid_template_columns": null,
            "flex": null,
            "_model_name": "LayoutModel",
            "justify_items": null,
            "grid_row": null,
            "max_height": null,
            "align_content": null,
            "visibility": null,
            "align_self": null,
            "height": null,
            "min_height": null,
            "padding": null,
            "grid_auto_rows": null,
            "grid_gap": null,
            "max_width": null,
            "order": null,
            "_view_module_version": "1.2.0",
            "grid_template_areas": null,
            "object_position": null,
            "object_fit": null,
            "grid_auto_columns": null,
            "margin": null,
            "display": null,
            "left": null
          }
        },
        "0971757734c64062b990574ab6fe2a77": {
          "model_module": "@jupyter-widgets/controls",
          "model_name": "VBoxModel",
          "model_module_version": "1.5.0",
          "state": {
            "_view_name": "VBoxView",
            "_dom_classes": [],
            "_model_name": "VBoxModel",
            "_view_module": "@jupyter-widgets/controls",
            "_model_module_version": "1.5.0",
            "_view_count": null,
            "_view_module_version": "1.5.0",
            "box_style": "",
            "layout": "IPY_MODEL_a01a247d36b34089b936d03354c2c55f",
            "_model_module": "@jupyter-widgets/controls",
            "children": [
              "IPY_MODEL_95173d3f803344259ceec328af286135",
              "IPY_MODEL_bd1c0d19ad164a1292ce6e4c7bfb6eb9"
            ]
          }
        },
        "a01a247d36b34089b936d03354c2c55f": {
          "model_module": "@jupyter-widgets/base",
          "model_name": "LayoutModel",
          "model_module_version": "1.2.0",
          "state": {
            "_view_name": "LayoutView",
            "grid_template_rows": null,
            "right": null,
            "justify_content": null,
            "_view_module": "@jupyter-widgets/base",
            "overflow": null,
            "_model_module_version": "1.2.0",
            "_view_count": null,
            "flex_flow": null,
            "width": null,
            "min_width": null,
            "border": null,
            "align_items": null,
            "bottom": null,
            "_model_module": "@jupyter-widgets/base",
            "top": null,
            "grid_column": null,
            "overflow_y": null,
            "overflow_x": null,
            "grid_auto_flow": null,
            "grid_area": null,
            "grid_template_columns": null,
            "flex": null,
            "_model_name": "LayoutModel",
            "justify_items": null,
            "grid_row": null,
            "max_height": null,
            "align_content": null,
            "visibility": null,
            "align_self": null,
            "height": null,
            "min_height": null,
            "padding": null,
            "grid_auto_rows": null,
            "grid_gap": null,
            "max_width": null,
            "order": null,
            "_view_module_version": "1.2.0",
            "grid_template_areas": null,
            "object_position": null,
            "object_fit": null,
            "grid_auto_columns": null,
            "margin": null,
            "display": null,
            "left": null
          }
        },
        "95173d3f803344259ceec328af286135": {
          "model_module": "@jupyter-widgets/controls",
          "model_name": "LabelModel",
          "model_module_version": "1.5.0",
          "state": {
            "_view_name": "LabelView",
            "style": "IPY_MODEL_05742b16ea57489a85ed358e0c0510b7",
            "_dom_classes": [],
            "description": "",
            "_model_name": "LabelModel",
            "placeholder": "​",
            "_view_module": "@jupyter-widgets/controls",
            "_model_module_version": "1.5.0",
            "value": " 0.01MB of 0.01MB uploaded (0.00MB deduped)\r",
            "_view_count": null,
            "_view_module_version": "1.5.0",
            "description_tooltip": null,
            "_model_module": "@jupyter-widgets/controls",
            "layout": "IPY_MODEL_8a74e6a9e9a84d629d98628ec7563f31"
          }
        },
        "bd1c0d19ad164a1292ce6e4c7bfb6eb9": {
          "model_module": "@jupyter-widgets/controls",
          "model_name": "FloatProgressModel",
          "model_module_version": "1.5.0",
          "state": {
            "_view_name": "ProgressView",
            "style": "IPY_MODEL_2bd9c18801ad46e5865b5933424a1b31",
            "_dom_classes": [],
            "description": "",
            "_model_name": "FloatProgressModel",
            "bar_style": "",
            "max": 1,
            "_view_module": "@jupyter-widgets/controls",
            "_model_module_version": "1.5.0",
            "value": 1,
            "_view_count": null,
            "_view_module_version": "1.5.0",
            "orientation": "horizontal",
            "min": 0,
            "description_tooltip": null,
            "_model_module": "@jupyter-widgets/controls",
            "layout": "IPY_MODEL_14234d0ac2c44c0f91fbfb64e58bbb26"
          }
        },
        "05742b16ea57489a85ed358e0c0510b7": {
          "model_module": "@jupyter-widgets/controls",
          "model_name": "DescriptionStyleModel",
          "model_module_version": "1.5.0",
          "state": {
            "_view_name": "StyleView",
            "_model_name": "DescriptionStyleModel",
            "description_width": "",
            "_view_module": "@jupyter-widgets/base",
            "_model_module_version": "1.5.0",
            "_view_count": null,
            "_view_module_version": "1.2.0",
            "_model_module": "@jupyter-widgets/controls"
          }
        },
        "8a74e6a9e9a84d629d98628ec7563f31": {
          "model_module": "@jupyter-widgets/base",
          "model_name": "LayoutModel",
          "model_module_version": "1.2.0",
          "state": {
            "_view_name": "LayoutView",
            "grid_template_rows": null,
            "right": null,
            "justify_content": null,
            "_view_module": "@jupyter-widgets/base",
            "overflow": null,
            "_model_module_version": "1.2.0",
            "_view_count": null,
            "flex_flow": null,
            "width": null,
            "min_width": null,
            "border": null,
            "align_items": null,
            "bottom": null,
            "_model_module": "@jupyter-widgets/base",
            "top": null,
            "grid_column": null,
            "overflow_y": null,
            "overflow_x": null,
            "grid_auto_flow": null,
            "grid_area": null,
            "grid_template_columns": null,
            "flex": null,
            "_model_name": "LayoutModel",
            "justify_items": null,
            "grid_row": null,
            "max_height": null,
            "align_content": null,
            "visibility": null,
            "align_self": null,
            "height": null,
            "min_height": null,
            "padding": null,
            "grid_auto_rows": null,
            "grid_gap": null,
            "max_width": null,
            "order": null,
            "_view_module_version": "1.2.0",
            "grid_template_areas": null,
            "object_position": null,
            "object_fit": null,
            "grid_auto_columns": null,
            "margin": null,
            "display": null,
            "left": null
          }
        },
        "2bd9c18801ad46e5865b5933424a1b31": {
          "model_module": "@jupyter-widgets/controls",
          "model_name": "ProgressStyleModel",
          "model_module_version": "1.5.0",
          "state": {
            "_view_name": "StyleView",
            "_model_name": "ProgressStyleModel",
            "description_width": "",
            "_view_module": "@jupyter-widgets/base",
            "_model_module_version": "1.5.0",
            "_view_count": null,
            "_view_module_version": "1.2.0",
            "bar_color": null,
            "_model_module": "@jupyter-widgets/controls"
          }
        },
        "14234d0ac2c44c0f91fbfb64e58bbb26": {
          "model_module": "@jupyter-widgets/base",
          "model_name": "LayoutModel",
          "model_module_version": "1.2.0",
          "state": {
            "_view_name": "LayoutView",
            "grid_template_rows": null,
            "right": null,
            "justify_content": null,
            "_view_module": "@jupyter-widgets/base",
            "overflow": null,
            "_model_module_version": "1.2.0",
            "_view_count": null,
            "flex_flow": null,
            "width": null,
            "min_width": null,
            "border": null,
            "align_items": null,
            "bottom": null,
            "_model_module": "@jupyter-widgets/base",
            "top": null,
            "grid_column": null,
            "overflow_y": null,
            "overflow_x": null,
            "grid_auto_flow": null,
            "grid_area": null,
            "grid_template_columns": null,
            "flex": null,
            "_model_name": "LayoutModel",
            "justify_items": null,
            "grid_row": null,
            "max_height": null,
            "align_content": null,
            "visibility": null,
            "align_self": null,
            "height": null,
            "min_height": null,
            "padding": null,
            "grid_auto_rows": null,
            "grid_gap": null,
            "max_width": null,
            "order": null,
            "_view_module_version": "1.2.0",
            "grid_template_areas": null,
            "object_position": null,
            "object_fit": null,
            "grid_auto_columns": null,
            "margin": null,
            "display": null,
            "left": null
          }
        },
        "f0ccdcdbcecd4404825fef6f8e2aeaf4": {
          "model_module": "@jupyter-widgets/controls",
          "model_name": "VBoxModel",
          "model_module_version": "1.5.0",
          "state": {
            "_dom_classes": [],
            "_model_module": "@jupyter-widgets/controls",
            "_model_module_version": "1.5.0",
            "_model_name": "VBoxModel",
            "_view_count": null,
            "_view_module": "@jupyter-widgets/controls",
            "_view_module_version": "1.5.0",
            "_view_name": "VBoxView",
            "box_style": "",
            "children": [
              "IPY_MODEL_324dafc900fa48529407159a02f017d8",
              "IPY_MODEL_03d6063ab7df449bb75a9d3d535b02d3"
            ],
            "layout": "IPY_MODEL_66ca73e5dcbe4c9da4dd6fea59fca663"
          }
        },
        "324dafc900fa48529407159a02f017d8": {
          "model_module": "@jupyter-widgets/controls",
          "model_name": "LabelModel",
          "model_module_version": "1.5.0",
          "state": {
            "_dom_classes": [],
            "_model_module": "@jupyter-widgets/controls",
            "_model_module_version": "1.5.0",
            "_model_name": "LabelModel",
            "_view_count": null,
            "_view_module": "@jupyter-widgets/controls",
            "_view_module_version": "1.5.0",
            "_view_name": "LabelView",
            "description": "",
            "description_tooltip": null,
            "layout": "IPY_MODEL_8f79b0da8aad4815ae5fda82316b179a",
            "placeholder": "​",
            "style": "IPY_MODEL_21e712bd9e584653b448e322556fc746",
            "value": "0.010 MB of 0.010 MB uploaded (0.000 MB deduped)\r"
          }
        },
        "03d6063ab7df449bb75a9d3d535b02d3": {
          "model_module": "@jupyter-widgets/controls",
          "model_name": "FloatProgressModel",
          "model_module_version": "1.5.0",
          "state": {
            "_dom_classes": [],
            "_model_module": "@jupyter-widgets/controls",
            "_model_module_version": "1.5.0",
            "_model_name": "FloatProgressModel",
            "_view_count": null,
            "_view_module": "@jupyter-widgets/controls",
            "_view_module_version": "1.5.0",
            "_view_name": "ProgressView",
            "bar_style": "",
            "description": "",
            "description_tooltip": null,
            "layout": "IPY_MODEL_6bcade1ef8e2496fa880f5a0fa0683cd",
            "max": 1,
            "min": 0,
            "orientation": "horizontal",
            "style": "IPY_MODEL_1accfbe7eb454022b3aa548f2d70e28f",
            "value": 1
          }
        },
        "66ca73e5dcbe4c9da4dd6fea59fca663": {
          "model_module": "@jupyter-widgets/base",
          "model_name": "LayoutModel",
          "model_module_version": "1.2.0",
          "state": {
            "_model_module": "@jupyter-widgets/base",
            "_model_module_version": "1.2.0",
            "_model_name": "LayoutModel",
            "_view_count": null,
            "_view_module": "@jupyter-widgets/base",
            "_view_module_version": "1.2.0",
            "_view_name": "LayoutView",
            "align_content": null,
            "align_items": null,
            "align_self": null,
            "border": null,
            "bottom": null,
            "display": null,
            "flex": null,
            "flex_flow": null,
            "grid_area": null,
            "grid_auto_columns": null,
            "grid_auto_flow": null,
            "grid_auto_rows": null,
            "grid_column": null,
            "grid_gap": null,
            "grid_row": null,
            "grid_template_areas": null,
            "grid_template_columns": null,
            "grid_template_rows": null,
            "height": null,
            "justify_content": null,
            "justify_items": null,
            "left": null,
            "margin": null,
            "max_height": null,
            "max_width": null,
            "min_height": null,
            "min_width": null,
            "object_fit": null,
            "object_position": null,
            "order": null,
            "overflow": null,
            "overflow_x": null,
            "overflow_y": null,
            "padding": null,
            "right": null,
            "top": null,
            "visibility": null,
            "width": null
          }
        },
        "8f79b0da8aad4815ae5fda82316b179a": {
          "model_module": "@jupyter-widgets/base",
          "model_name": "LayoutModel",
          "model_module_version": "1.2.0",
          "state": {
            "_model_module": "@jupyter-widgets/base",
            "_model_module_version": "1.2.0",
            "_model_name": "LayoutModel",
            "_view_count": null,
            "_view_module": "@jupyter-widgets/base",
            "_view_module_version": "1.2.0",
            "_view_name": "LayoutView",
            "align_content": null,
            "align_items": null,
            "align_self": null,
            "border": null,
            "bottom": null,
            "display": null,
            "flex": null,
            "flex_flow": null,
            "grid_area": null,
            "grid_auto_columns": null,
            "grid_auto_flow": null,
            "grid_auto_rows": null,
            "grid_column": null,
            "grid_gap": null,
            "grid_row": null,
            "grid_template_areas": null,
            "grid_template_columns": null,
            "grid_template_rows": null,
            "height": null,
            "justify_content": null,
            "justify_items": null,
            "left": null,
            "margin": null,
            "max_height": null,
            "max_width": null,
            "min_height": null,
            "min_width": null,
            "object_fit": null,
            "object_position": null,
            "order": null,
            "overflow": null,
            "overflow_x": null,
            "overflow_y": null,
            "padding": null,
            "right": null,
            "top": null,
            "visibility": null,
            "width": null
          }
        },
        "21e712bd9e584653b448e322556fc746": {
          "model_module": "@jupyter-widgets/controls",
          "model_name": "DescriptionStyleModel",
          "model_module_version": "1.5.0",
          "state": {
            "_model_module": "@jupyter-widgets/controls",
            "_model_module_version": "1.5.0",
            "_model_name": "DescriptionStyleModel",
            "_view_count": null,
            "_view_module": "@jupyter-widgets/base",
            "_view_module_version": "1.2.0",
            "_view_name": "StyleView",
            "description_width": ""
          }
        },
        "6bcade1ef8e2496fa880f5a0fa0683cd": {
          "model_module": "@jupyter-widgets/base",
          "model_name": "LayoutModel",
          "model_module_version": "1.2.0",
          "state": {
            "_model_module": "@jupyter-widgets/base",
            "_model_module_version": "1.2.0",
            "_model_name": "LayoutModel",
            "_view_count": null,
            "_view_module": "@jupyter-widgets/base",
            "_view_module_version": "1.2.0",
            "_view_name": "LayoutView",
            "align_content": null,
            "align_items": null,
            "align_self": null,
            "border": null,
            "bottom": null,
            "display": null,
            "flex": null,
            "flex_flow": null,
            "grid_area": null,
            "grid_auto_columns": null,
            "grid_auto_flow": null,
            "grid_auto_rows": null,
            "grid_column": null,
            "grid_gap": null,
            "grid_row": null,
            "grid_template_areas": null,
            "grid_template_columns": null,
            "grid_template_rows": null,
            "height": null,
            "justify_content": null,
            "justify_items": null,
            "left": null,
            "margin": null,
            "max_height": null,
            "max_width": null,
            "min_height": null,
            "min_width": null,
            "object_fit": null,
            "object_position": null,
            "order": null,
            "overflow": null,
            "overflow_x": null,
            "overflow_y": null,
            "padding": null,
            "right": null,
            "top": null,
            "visibility": null,
            "width": null
          }
        },
        "1accfbe7eb454022b3aa548f2d70e28f": {
          "model_module": "@jupyter-widgets/controls",
          "model_name": "ProgressStyleModel",
          "model_module_version": "1.5.0",
          "state": {
            "_model_module": "@jupyter-widgets/controls",
            "_model_module_version": "1.5.0",
            "_model_name": "ProgressStyleModel",
            "_view_count": null,
            "_view_module": "@jupyter-widgets/base",
            "_view_module_version": "1.2.0",
            "_view_name": "StyleView",
            "bar_color": null,
            "description_width": ""
          }
        }
      }
    }
  },
  "cells": [
    {
      "cell_type": "markdown",
      "metadata": {
        "id": "5IDOIpj0tyF-"
      },
      "source": [
        "[![Open In Colab](https://colab.research.google.com/assets/colab-badge.svg)](https://colab.research.google.com/github/drscotthawley/DLAIE/blob/main/Lessons/03_NNsFitCurves.ipynb)\n",
        "\n",
        "*Note: GitHub.com does not render everything when viewing these notbeook files, so click the \"Open in Colab\" button above to see everything as it's intended.*\n",
        "\n",
        "**EDIT:** Changed this to Lesson 3 for Fall '22, previously was Lesson 4."
      ]
    },
    {
      "cell_type": "code",
      "metadata": {
        "colab": {
          "base_uri": "https://localhost:8080/",
          "height": 321
        },
        "cellView": "form",
        "id": "ueF4uZnMj2nU",
        "outputId": "3cea31c3-fe96-43d3-b568-2ab2008707ac"
      },
      "source": [
        "#@title Video accompanying this lesson:\n",
        "from IPython.display import YouTubeVideo\n",
        "YouTubeVideo('S3WQhNUhso0') "
      ],
      "execution_count": null,
      "outputs": [
        {
          "output_type": "execute_result",
          "data": {
            "text/plain": [
              "<IPython.lib.display.YouTubeVideo at 0x7f4290cde310>"
            ],
            "text/html": [
              "\n",
              "        <iframe\n",
              "            width=\"400\"\n",
              "            height=\"300\"\n",
              "            src=\"https://www.youtube.com/embed/S3WQhNUhso0\"\n",
              "            frameborder=\"0\"\n",
              "            allowfullscreen\n",
              "        ></iframe>\n",
              "        "
            ],
            "image/jpeg": "[encoded data removed]"
          },
          "metadata": {},
          "execution_count": 1
        }
      ]
    },
    {
      "cell_type": "markdown",
      "metadata": {
        "id": "kgTBz-b_xzGd"
      },
      "source": [
        "\n",
        "# What is Deep Learning (DL)?\n",
        "\n",
        "\"Deep Learning\" involves the Machine Learning (ML) approach to Artificial Intelligence (AI) in which multiple \"layers\" of \"artificial neurons\" are trained (via \"gradient descent\") to produce outputs that minimize a loss (or cost) function.\n",
        "\n",
        "The term \"Deep Learning\" was coined by Geoffrey Hinton in the 2000s as a way of \"repranding the study of artificial neural networks (NNs) which ahd for sometime not been taken seriously outside a small community of researchers.  The \"deep\" part refers to the use of multiple successive \"layers\" of neuron connections in a \"compositional\" (e.g. $g(f(x))$) way.\n",
        "\n",
        "\"Machine Learning,\" a term coined by Arthur Samuels in the 1950s, differs from \"classic\" \"symbolic\" AI in that it (ML) involves the successive optimization of a system's behavior, rather than having (static) \"expertise\" programmed by humans.  Example: curve-fitting by successive adjustment of the curve parameters.  (Instead of a series of if-thens hard-coded by a person.)\n",
        "\n",
        "\n",
        "\n",
        "\n",
        "## Anatomy of an Artificial Neural Network\n",
        "\n",
        "An artificial neuron is just a weighted sum that then gets passed through some nonlinear \"activation\" function: \n",
        "\n",
        "![neuron](https://i.imgur.com/7Oj5Ksn.png)\n",
        "\n",
        "Activations functions come in all shapes and sizes, but usually have a \"kink\" or two so they can be \"nonlinear\". Below are examples of some activation functions that many people use. The rectified linear unit (ReLU) is among the most popular.\n",
        "\n"
      ]
    },
    {
      "cell_type": "code",
      "metadata": {
        "colab": {
          "base_uri": "https://localhost:8080/",
          "height": 445
        },
        "cellView": "form",
        "id": "94fYs_-zme6H",
        "outputId": "68d76e48-7f0a-4ea2-a8f0-ab64e115a757"
      },
      "source": [
        "#@title Graphs of activation functions; feel free to edit this code & comment out individual lines to better see the function shapes\n",
        "import numpy as np\n",
        "import matplotlib.pyplot as plt \n",
        "\n",
        "def relu(x): return x*(x>0)\n",
        "def leaky_relu(x, alpha=0.1): return np.maximum(alpha*x, x)\n",
        "def sigmoid(x): return 1/(1+np.exp(-x))\n",
        "def mish(x): return x*np.tanh(np.log(1+np.exp(x)))\n",
        "\n",
        "x = np.linspace(-5,5,num=50)\n",
        "fig, ax = plt.subplots(figsize=(10,7))\n",
        "ax.plot(x, relu(x), label='ReLU')\n",
        "ax.plot(x, leaky_relu(x), label='Leaky ReLU')\n",
        "ax.plot(x, sigmoid(x), label='sigmoid')\n",
        "ax.plot(x, np.tanh(x), label='tanh')\n",
        "ax.plot(x, mish(x), label=\"mish\")\n",
        "ax.legend()"
      ],
      "execution_count": null,
      "outputs": [
        {
          "output_type": "execute_result",
          "data": {
            "text/plain": [
              "<matplotlib.legend.Legend at 0x7f428cdd5410>"
            ]
          },
          "metadata": {},
          "execution_count": 2
        },
        {
          "output_type": "display_data",
          "data": {
            "text/plain": [
              "<Figure size 720x504 with 1 Axes>"
            ],
            "image/png": "[encoded data removed]"
          },
          "metadata": {
            "needs_background": "light"
          }
        }
      ]
    },
    {
      "cell_type": "markdown",
      "metadata": {
        "id": "9xDN4DZQmddI"
      },
      "source": [
        "It's this kink (or two) that allows us to fit *nonlinear* functions.\n",
        "\n",
        "We only get one \"kink\" per neuron, but we can combine lots of neurons together to get functions that have kinks all over the place.\n",
        "The simplest network architecture that most people see involves two \"layers\" of neurons (an output layer and a hidden layer), and is called a \"Multi-Layer Perceptron\" (MLP).  We have inputs which then feed into a \"hidden layer\" of (usually lots of neurons), which then feed into an output layer of neurons, as shown below:\n",
        "\n",
        "<img width=\"750\" alt=\"diagram of mlp\" src=\"https://raw.githubusercontent.com/drscotthawley/DLAIE/main/images/mlp_pic.png\">\n",
        "\n",
        "In the above diagram, we're representing the number \"neurons\" in the hidden layer by the height of the layer, although in many circles the number of neurons is referred to as the *width* of the layer. (Imagine this diagram being turned sideways).\n",
        "\n",
        "If we add enough neurons to the hidden layer, we can theoretically get enough \"kinks\" to fit **any function whatsoever,** thanks to something called the [Universal Approximation Theorem](https://en.wikipedia.org/wiki/Universal_approximation_theorem). This theorem says that if we have *an infinite number* of neurons in the hidden layer (which we never do), then *there exist* a set of neuron-weights that will fit any function.  The theorem *does not* tell us how to *find* those weights!!  Finding those weights is the whole challenge of training neural networks. \n",
        "\n",
        "\n",
        "\n",
        "\n",
        "> **\"What's a layer?\" Yes.** Pretty everything can be regarded as a layer. The input is a layer, the weights are layers, the activations can be layers. The output can be a layer. The term \"layer\" really refers to the fact that it's an element in a list or *sequence* of operations that feed into one another. \n",
        "\n",
        "Turns out that when it comes to training, it often works out better to add more layers and have them feed into each other (called a \"feed-foward\" operation) than to just have a single hidden layer that got tons of neurons (i.e. a single super-wide layer).  Ine the following we add another \"hidden\" layer of the same size as the previous one:\n",
        "\n",
        "<img width=\"750\" alt=\"diagram of two-hidden-layer network\" src=\"https://github.com/drscotthawley/DLAIE/blob/main/images/twohidden_pic.png?raw=true\">\n",
        "\n",
        "...as we add more hidden layers, the network becomes increasingly \"deep\". "
      ]
    },
    {
      "cell_type": "markdown",
      "metadata": {
        "id": "YUPaMSOUx9ME"
      },
      "source": [
        "# Neural Networks Fit Curves\n",
        "\n",
        "*Now that you've seen a bit of what artificial neural networks (ANN or just NN for short) are made of, let's back up and look at what's going on under the hood.*\n",
        "\n",
        "NNs fit \"curves\" to data, by interpolating between the points given in the training dataset. That is to say, NNs are function-approximators. There is even something called the \"universal approximation theorem\" for which it's shown that any function can be approximated to any arbitrary accuracy by a single \"layer\" of arbitrarily many neurons. \n",
        "\n",
        "For a humorous (yet realistic) take on curve-fitting, see [this xkcd comic](https://xkcd.com/2048/):\n",
        "\n",
        "<img src=\"https://imgs.xkcd.com/comics/curve_fitting.png\" height=\"700x\" alt=\"xkcd on curve-fitting\">\n",
        "\n",
        "\n",
        "The way that they neural network fits the data is by defining a *loss* function -- which for now we'll just used good ol' [mean squared error](https://en.wikipedia.org/wiki/Mean_squared_error) (MSE) like people often use for (non)linear regression -- e.g., like fitting a line to a bunch of data points.  So, if there are $N$ target values are $Y_i$ ($i=1..N$) and corresponding outputs of the network are $\\tilde{Y}_i$, then the MSE is just\n",
        "\n",
        "$$ MSE = {1\\over N} \\sum_i (Y_i - \\tilde{Y}_i)^2 $$\n",
        "\n",
        "With MSE as the loss function, we then try to minimize it through \n",
        "[*gradient descent*](https://drscotthawley.github.io/blog/2017/02/23/Following-Gravity-Colab.html): we adjust the neural network weights (that form the weighted-sums) a little bit at a time by tiny steps whose size is given by the *learning rate*, such that we get closer and closer to the minimum of the function. \n",
        "\n",
        "Say we have a function $f(x)$ shaped like a parabola, and we want to find the $x$ that leads to the minimum value of $f(x)$ (i.e. the \"valley in the middle\").  Let's start with some *initial value* of $x_0$, which for illustrative purposes let's say is a negative number like $x_0=-5$. Then we evaluation the function at that point, and *then* we choose a new value of $x_{\\rm new}$ by taking a little step in the $downward$ direction from $f(x_0)$. The size of the little step will be determined by the *learing rate* which we'll call $\\alpha$ or \"alpha\". The steps of minimizing the function can look like this, for various values of alpha:\n",
        "\n",
        "![minimization example](https://raw.githubusercontent.com/drscotthawley/DLAIE/main/images/grad_desc_parabola_alpha.png)\n",
        "    \n",
        "Think of the learning rate as the \"step size\".  You want it to be not too small, and not too big: If it's too small it may take an enormous number of steps to reach the minimum.  If the learning rate is too big, you risk stepping \"over\" the minimum entirely and maybe even ending up worse that you started -- a process which tends to grow each time, leading to exponential \"blow up\".  So, choosing the right learning rate is a big topic in the world of neural networks; for this notebook, we're going to let fast.ai's \"Learning Rate Finder\" suggest one for us. \n",
        "\n",
        "> The business moving \"downhill\" is called \"gradient descent\".  \n",
        "\n"
      ]
    },
    {
      "cell_type": "markdown",
      "source": [
        "Here's another example where we're looking down on a \"hilly\" loss function \"surface\" where the tops of the hills are light-colored and the valley is dark. We start toward the top right with the dark purple colored dot, and then each successive step in the gradient descent is colored slightly yellower:\n",
        "\n",
        "![grad desc 2d example](https://raw.githubusercontent.com/drscotthawley/DLAIE/main/images/grad_desc_2d.png)\n",
        "\n",
        "\"Training\" consists of minimizing the loss function (e.g. MSE) as best we can starting from some initial set of (usually random) network weights, and progressively adjusting the weights so that the loss gets a little lower each time.  After enough steps, we check that the loss has \"flattened\" and declare that that's the best we can do.\n",
        "\n",
        "Note that not all functions are guaranteed to have only one minimum!  Gradient descent guarantees that we'll find *a* minimum but not the *best* or *global* minimum.  Here's an example where, depending on how the training goes, you may only find a local minumum: \n",
        "\n",
        "![grad desc multiple minima example](https://raw.githubusercontent.com/drscotthawley/DLAIE/main/images/grad_desc_multiple_minima.png)\n",
        "\n",
        "Ideally, we want the *global* minimum, but we're not always guaranteed to find it unless the function is \"convex\" (i.e. only curves one way all over the place).  This is something to keep in mind whenever we're training.  Although, in practice, we're going to be training on \"loss surfaces\" with *so many* dimensions that it's actually kind of hard to get \"stuck\" in a \"local minimum\".  Instead, we may run into situations where the loss surface is really \"curvy\" some directions but really \"flat\" in othes, like a long narrow canyon.  This is a big topic in the field of optimization research, because it's hard to visualize what's really going on unless we're in 1, 2, or 3 dimensions (but with neural networks we've got as many dimensions as we have neuron weights, i.e. thousands/millions/billions!) \n",
        "\n",
        "With these concepts under our belt, let's try a practical example where we minimize the MSE between a set of data points and a surface predicted by training a neural network..."
      ],
      "metadata": {
        "id": "SfjIv_gqtshC"
      }
    },
    {
      "cell_type": "markdown",
      "metadata": {
        "id": "X5aslZiHYXrV"
      },
      "source": [
        "Let's look at how that plays out for some sample data and sample neural network(s)...  \n",
        "\n",
        "Again, since this course has an \"AI Ethics\" flavor, we're not going to just use any old function such as $f(x)=x^2$; instead we're goint to use some data (that I made up) involving *people.*\n",
        "\n",
        "## Our Dataset: Your Risk of Death!\n",
        "\n",
        "Let's pretend we've got some data on your risk of death before some age, based on...well, there are lots of factors we could imagine collecting:\n",
        "  * your age\n",
        "  * your driving habits\n",
        "  * your diet \n",
        "  * how often you smoke\n",
        "  * how often you engage in risky behavior\n",
        "  * health outcomes for members of your family\n",
        "  * whether you live in a \"bad neighborhood\"\n",
        "  \n",
        "...and that data on you is probably already available from [data brokers](https://us.norton.com/internetsecurity-privacy-how-data-brokers-find-and-sell-your-personal-info.html).  \n",
        "\n",
        "This particular problem has been handled by the insurance industry for hundreds of years. In fact it was [Francis Galton](https://en.wikipedia.org/wiki/Francis_Galton) \"the father of statistics (and eugenics)\" who petitioned the Institue of Actuaries to do more tracking of people in the UK in order to improve risk assessments! \n",
        "\n",
        "> Stop by Dr. Hawley's office sometime to try out a desktop \"[Galton Board](https://galtonboard.com/)\" toy: "
      ]
    },
    {
      "cell_type": "code",
      "metadata": {
        "colab": {
          "base_uri": "https://localhost:8080/",
          "height": 261
        },
        "cellView": "form",
        "id": "am2cUKsKYa0m",
        "outputId": "617a26b0-7b04-4e2a-a326-b572b4f35b86"
      },
      "source": [
        "#@title Galton Board Video\n",
        "from IPython.display import display, HTML\n",
        "display(HTML('<video controls width=\"320\" height=\"240\"><source src=\"https://galtonboard.com/Content/Videos/galton-board-large_1_mobile_1.mp4\" type=\"video/mp4\"> </video>'))"
      ],
      "execution_count": null,
      "outputs": [
        {
          "output_type": "display_data",
          "data": {
            "text/plain": [
              "<IPython.core.display.HTML object>"
            ],
            "text/html": [
              "<video controls width=\"320\" height=\"240\"><source src=\"https://galtonboard.com/Content/Videos/galton-board-large_1_mobile_1.mp4\" type=\"video/mp4\"> </video>"
            ]
          },
          "metadata": {}
        }
      ]
    },
    {
      "cell_type": "markdown",
      "metadata": {
        "id": "numblv39zQWA"
      },
      "source": [
        "\n",
        "\n",
        "The science of making these kinds of estimates is a branch of applied mathematics called Actuarial Science, and it involves a lot careful statistical modeling. Actuaries are typically highly trained and highly paid. \n",
        "\n",
        "But now we've got machine learning! And without hardly knowing any statistics, someone can come along and build a model and start \"disrupting\" the insurance industry!  (Note: Please understand my implied sarcasm about such an enterpise!  For one accessible introduction to how insurance companies *actually* model risk, see [this white paper by Deloitte Consulting on \"Predictive Modeling for Life Insurance\"](https://www.soa.org/globalassets/assets/files/research/projects/research-pred-mod-life-batty.pdf)).\n",
        "\n",
        "Even though ML models *can* be good at finding meaningful realtionships in data, if we just throw in \"all the data we have\" on someone, the model might not learn well, or it may waste lots of time and resources trying to fit to spurious things we're not interested.  So let's focus down to just two input features. \n",
        "\n",
        "For today's problem, let's say we have data on risk of death for certain people (presumably obtained by parsing some other data), as a function of their calorie intake. I made up some numbers that sort of U-shaped (with some noise), to capture the idea that you don't want to each too much or two little. \n",
        "\n",
        "Also, to add another feature to the data, let's imagine that this company is offering a fitness-tracking app whereby we have some of your exercise frequency data! But not everyone has opted in to this exciting opportunity, so there are some blanks in our datatable. \n",
        "\n",
        "I'll show a graph of the data below, but first we need to import modules we'll need for todays code..."
      ]
    },
    {
      "cell_type": "code",
      "metadata": {
        "id": "BGD0TqUgtAn3",
        "colab": {
          "base_uri": "https://localhost:8080/"
        },
        "outputId": "73d4048c-3616-4e67-9163-4453de6ddd56"
      },
      "source": [
        "# install packages we'll use\n",
        "!pip install plotly | grep -v already         # we'll use plotly for 3d graphs\n",
        "! [ -e /content ] && pip install -Uqq fastai   # install upgrade fastai on colab\n",
        "!pip install mrspuff | grep -v already"
      ],
      "execution_count": null,
      "outputs": [
        {
          "output_type": "stream",
          "name": "stdout",
          "text": [
            "Looking in indexes: https://pypi.org/simple, https://us-python.pkg.dev/colab-wheels/public/simple/\n",
            "Looking in indexes: https://pypi.org/simple, https://us-python.pkg.dev/colab-wheels/public/simple/\n",
            "Collecting mrspuff\n",
            "  Downloading mrspuff-0.0.31-py3-none-any.whl (23 kB)\n",
            "Collecting xattr\n",
            "  Downloading xattr-0.9.9-cp37-cp37m-manylinux_2_5_x86_64.manylinux1_x86_64.manylinux_2_17_x86_64.manylinux2014_x86_64.whl (35 kB)\n",
            "Installing collected packages: xattr, mrspuff\n",
            "Successfully installed mrspuff-0.0.31 xattr-0.9.9\n"
          ]
        }
      ]
    },
    {
      "cell_type": "code",
      "metadata": {
        "id": "9Ts6lqPGoRhK"
      },
      "source": [
        "import pandas as pd \n",
        "import plotly.express as px\n",
        "import plotly.graph_objects as go\n",
        "import matplotlib.pyplot as plt \n",
        "import numpy as np \n",
        "import torch\n",
        "import torch.nn as nn\n",
        "import torch.nn.functional as F\n",
        "from torch.utils.data import Dataset\n",
        "from torch import optim\n",
        "from fastai.tabular.all import *\n",
        "from fastai.learner import Learner\n",
        "from fastai.optimizer import OptimWrapper\n",
        "from fastai.callback.progress import *\n",
        "from functools import partial \n",
        "from IPython.display import display, HTML"
      ],
      "execution_count": null,
      "outputs": []
    },
    {
      "cell_type": "markdown",
      "metadata": {
        "id": "ljgUIP3OyyQN"
      },
      "source": [
        "Pretend that we've actually bought people's data with or without their consent, or invaded everyone's privacy or something, to obtain a set of data.   ...But really we're just going to generate a set of triplets of data that follow some wonky U-shapes, to show that doing things in moderation tends to lead to healthier outcomes. ;-) \n",
        "\n",
        "As follows...\n",
        "\n",
        "## Our Data\n",
        "\n",
        "First we're going to \"get\" some data. But actually I'm going to \"make up\" some data via a function that we can then *add noise* to, to better control and illustrate how the *curve-fitting* properties of neural networks manifest.  The following is a function that will serve as our \"dataset-generator\":"
      ]
    },
    {
      "cell_type": "code",
      "metadata": {
        "colab": {
          "base_uri": "https://localhost:8080/"
        },
        "cellView": "code",
        "id": "pFu70JD1Kwue",
        "outputId": "5edc0449-080b-406b-95fa-706fa45ada6a"
      },
      "source": [
        "# I just made this up.  Generates a Pandas dataframe of some data.\n",
        "# Don't worry about the specifics too much. You can skip down to look at the \n",
        "# 3D plot of the data, coming up after this.\n",
        "def gen_df(n=50, noise_amp=0.15, seed=0, drop_frac=0.9):\n",
        "    ''' \n",
        "    n = number of data points in each \"direction\"\n",
        "    drop_frac = fraction of total points to randomly \"drop\"\n",
        "\n",
        "    Output: a Pandas DataFrame object.  (Rows & columns)\n",
        "    '''\n",
        "    \n",
        "    if seed is not None: np.random.seed(seed)\n",
        "    uint = np.linspace(0,1,n)\n",
        "    # some \"wonky-u-shape\" I made up\n",
        "    d_vs_c = np.clip( 0.5+ 0.4*np.cos(uint**0.5 *2*np.pi) + noise_amp*(2*np.random.rand(n)-1), 0.05, 0.95) \n",
        "    d_vs_e = 0.5+ 0.3*np.cos(uint**1.6 *2*np.pi) # another wonky-u-shape\n",
        "    data = []\n",
        "    for i in range(len(d_vs_c)):   # nested loops in Python are slow, but we're only going to run this a couple times so :shrug:\n",
        "        for j in range(len(d_vs_e)):\n",
        "            data.append([ uint[i], uint[j], (d_vs_c[i]+0.3)*d_vs_e[j] + noise_amp*(2*np.random.rand()-1) ])\n",
        "    data = np.clip( np.array(data), 0.05, 0.95 )  # make sure we don't go above or below zero\n",
        "    # at this point, data is a numpy array\n",
        "\n",
        "    if drop_frac > 0:    # randomly lose a fraction of the points, for \"fun\" ;-) \n",
        "        ndrop = int(data.shape[0] * drop_frac)  # how many to drop\n",
        "        for i in range(ndrop):\n",
        "            drop_row = np.random.randint(0, data.shape[0])  # pick a row\n",
        "            data = np.delete(data, drop_row, 0)\n",
        "\n",
        "    return pd.DataFrame(data, columns=[\"calories\",\"exercise\", \"death_prob\"])  # convert to pandas\n",
        "\n",
        "df = gen_df(noise_amp=0, seed=0)  # start with a noise_amplitude of zero, we'll add noise later\n",
        "print(\"We have\", len(df),\"data points\")"
      ],
      "execution_count": null,
      "outputs": [
        {
          "output_type": "stream",
          "name": "stdout",
          "text": [
            "We have 250 data points\n"
          ]
        }
      ]
    },
    {
      "cell_type": "markdown",
      "metadata": {
        "id": "ld_FJC3prtMN"
      },
      "source": [
        "And then let's plot what the data looks like in 3D:"
      ]
    },
    {
      "cell_type": "code",
      "metadata": {
        "colab": {
          "base_uri": "https://localhost:8080/",
          "height": 417
        },
        "id": "ud12JtHkVpVw",
        "outputId": "0c0e7ba6-ec7d-481c-e31b-aea935653e6a"
      },
      "source": [
        "# 3D scatter plots in matplotlib aren't interactive in Colab, so \n",
        "#  instead we'll use Plotly, which I like a lot: https://plotly.com/python/3d-scatter-plots/\n",
        "def plot_df(df):\n",
        "    fig = px.scatter_3d(data_frame=df, x=\"calories\", y=\"exercise\", z=\"death_prob\", \n",
        "        color='death_prob', width=600, height=400)\n",
        "    fig.update_traces(marker=dict(size=5))           # the dots are too big for my taste, by default\n",
        "    fig.update_layout(margin=dict(l=20, r=20, t=20, b=20))  # default margins are way too big\n",
        "    fig.show()\n",
        "\n",
        "plot_df(df)"
      ],
      "execution_count": null,
      "outputs": [
        {
          "output_type": "display_data",
          "data": {
            "text/html": [
              "<html>\n",
              "<head><meta charset=\"utf-8\" /></head>\n",
              "<body>\n",
              "    <div>            <script src=\"https://cdnjs.cloudflare.com/ajax/libs/mathjax/2.7.5/MathJax.js?config=TeX-AMS-MML_SVG\"></script><script type=\"text/javascript\">if (window.MathJax) {MathJax.Hub.Config({SVG: {font: \"STIX-Web\"}});}</script>                <script type=\"text/javascript\">window.PlotlyConfig = {MathJaxConfig: 'local'};</script>\n",
              "        <script src=\"https://cdn.plot.ly/plotly-2.8.3.min.js\"></script>                <div id=\"19f5d0ce-468b-449f-9e46-4eb7acd319c9\" class=\"plotly-graph-div\" style=\"height:400px; width:600px;\"></div>            <script type=\"text/javascript\">                                    window.PLOTLYENV=window.PLOTLYENV || {};                                    if (document.getElementById(\"19f5d0ce-468b-449f-9e46-4eb7acd319c9\")) {                    Plotly.newPlot(                        \"19f5d0ce-468b-449f-9e46-4eb7acd319c9\",                        [{\"hovertemplate\":\"calories=%{x}<br>exercise=%{y}<br>death_prob=%{marker.color}<extra></extra>\",\"legendgroup\":\"\",\"marker\":{\"color\":[0.7963289218726609,0.95,0.8374708388010617,0.7731047938634492,0.2100838187468362,0.4710397198901133,0.7243163094450482,0.6606796531188589,0.6419841678995071,0.47941613448851245,0.41165745068563425,0.2476853629404794,0.3613400127865251,0.45067600214602677,0.41958416635903906,0.21746291791063213,0.5040498995285058,0.504773384885581,0.5022639721258529,0.48851458236007833,0.32924930572590644,0.44800701419191535,0.4317484959939039,0.19695851301433911,0.22414477485627474,0.3463033691212989,0.4095506663031099,0.3771521991725676,0.28509793226393076,0.10534091075258313,0.11221824540931948,0.37630007916845437,0.37452877175700927,0.37093144018138735,0.2283592317762059,0.12916008945763557,0.09513764047344998,0.23690485519414214,0.3508328957155223,0.32386870199679363,0.3342656867888549,0.3238134606942762,0.16591198481823763,0.25182772029704825,0.08341993225071011,0.09751867333235635,0.14131572251465765,0.3027998218782933,0.3218053605832753,0.30082225701146814,0.20883523696738804,0.12196896250668506,0.26558076377893425,0.3198371404982752,0.3185762928253492,0.31676511951795505,0.3020145879755322,0.2960072324921016,0.23711440191764752,0.18003007783546893,0.13585328650527365,0.31893794260881425,0.32741166846664543,0.31280638526438004,0.21361801273747638,0.1384159968492536,0.08195447923875288,0.3173592788606252,0.24916165839694304,0.1427556904623841,0.1048253785814643,0.09581493045898555,0.11382370327317366,0.29931994329325445,0.35159660712388946,0.3304414955277893,0.24481972388563775,0.13445925829806166,0.17439093980468798,0.3568813865606345,0.29949269221570385,0.38755466924367227,0.3577681261181445,0.25340843026037674,0.19939731000214436,0.32226555936573753,0.36271695194167075,0.41047939777792586,0.41046753956235843,0.37800746116329864,0.3028000779559857,0.2299021955736589,0.12342375301307147,0.21534894988858305,0.45943583074134203,0.4591114705293844,0.3568315882397822,0.21465991615952637,0.11615634251866201,0.12592037168727904,0.48592944462834625,0.48352768045984823,0.478883419394282,0.4751571060303649,0.3946655134073982,0.3169670968372219,0.22698468605808836,0.13315013136646284,0.3058511488565124,0.3394578794758633,0.45369184881681607,0.2873960363312139,0.21687318326811375,0.13198313862356453,0.25444443974364866,0.5403105357101123,0.5381471337854108,0.5329782553902612,0.1855855602628826,0.26818185934380784,0.5366341738891165,0.5659656220006253,0.5605295483094423,0.2919316146661785,0.14629985811591067,0.24783609379239013,0.5039895842176705,0.1576428383106277,0.29591585207402427,0.33483624054663913,0.6154656475973453,0.5274448480659834,0.3789036119484683,0.2721258895699153,0.648677173424424,0.4809031864608978,0.18493096275209575,0.2492434618488904,0.4103149969411732,0.45540014905793363,0.6321143036732222,0.6726918360366193,0.663662814068564,0.6250359904036967,0.5512383628900841,0.21064243309346548,0.29573729773324847,0.5630115104346897,0.6014715327709574,0.6336817976294686,0.7041301908209088,0.6731954024710819,0.6156233365140265,0.19993626567793182,0.17637548731241537,0.23751503099835655,0.3954605387254439,0.6834040740243644,0.7298455756832299,0.719432935269202,0.5385312323080607,0.44290975262770294,0.27811233250437645,0.21950967204135485,0.7243678236068333,0.7542810213297924,0.7475725044346073,0.6370161689031669,0.5856744975773706,0.4747418682439142,0.7313676753388335,0.32857943894256836,0.29616758202164034,0.22053633021956728,0.5564863486072538,0.37340392604018513,0.20561628882456826,0.3056319993305796,0.793706863751425,0.7552453487629456,0.3466218101613633,0.2072916558123502,0.22471646215417804,0.3573461720572264,0.8018544020429924,0.7090006511537061,0.43087968153772316,0.3921391058854304,0.21008381874683618,0.2524275442536908,0.5864479743332263,0.6431635166047076,0.8554452534710889,0.8450763043571082,0.6658478767039009,0.5202604976296853,0.21674777844995574,0.32785561360126153,0.23951617934061184,0.3342025477554307,0.7746367161665838,0.8741360237947211,0.8884240416153631,0.7510339928767338,0.6560046789616308,0.26739279599309973,0.8898490735766664,0.7333574879715831,0.6660961636154645,0.6307720571156268,0.8001867831671221,0.8948491378590934,0.4274734567756147,0.2353898811009079,0.8699276975065906,0.45910550213432394,0.519489440229377,0.8977411526561268,0.9304334163472624,0.9049629617607762,0.3575036323323012,0.46367498389598366,0.5246599239449228,0.5885374112474016,0.9428169867066626,0.5280549923854406,0.39847789343645873,0.2583349917248565,0.2834880667184344,0.7820754526534869,0.9490592246702769,0.9280199823878809,0.26005289828866074,0.4706193787311008,0.805611084062272,0.24535651223506413,0.95,0.5807980185279384,0.36469526960834386,0.9453979567427928,0.916298087276931,0.6678163561382314,0.6257473814475161,0.24675164289142357,0.901998549114212,0.7081672707847128,0.4484169585194513,0.32942000003132704,0.8507271491817123,0.95],\"coloraxis\":\"coloraxis\",\"symbol\":\"circle\",\"size\":5},\"mode\":\"markers\",\"name\":\"\",\"scene\":\"scene\",\"showlegend\":false,\"x\":[0.05,0.05,0.05,0.05,0.05,0.05,0.05,0.05,0.05,0.05,0.05,0.05,0.061224489795918366,0.061224489795918366,0.08163265306122448,0.08163265306122448,0.08163265306122448,0.1020408163265306,0.1020408163265306,0.1020408163265306,0.1020408163265306,0.12244897959183673,0.12244897959183673,0.12244897959183673,0.12244897959183673,0.12244897959183673,0.14285714285714285,0.14285714285714285,0.14285714285714285,0.14285714285714285,0.14285714285714285,0.16326530612244897,0.16326530612244897,0.16326530612244897,0.16326530612244897,0.16326530612244897,0.16326530612244897,0.16326530612244897,0.18367346938775508,0.18367346938775508,0.2040816326530612,0.2040816326530612,0.2040816326530612,0.22448979591836732,0.22448979591836732,0.22448979591836732,0.22448979591836732,0.22448979591836732,0.22448979591836732,0.24489795918367346,0.24489795918367346,0.24489795918367346,0.24489795918367346,0.26530612244897955,0.26530612244897955,0.26530612244897955,0.26530612244897955,0.26530612244897955,0.26530612244897955,0.26530612244897955,0.26530612244897955,0.26530612244897955,0.2857142857142857,0.2857142857142857,0.2857142857142857,0.2857142857142857,0.2857142857142857,0.3061224489795918,0.3061224489795918,0.3061224489795918,0.3061224489795918,0.3061224489795918,0.3061224489795918,0.3061224489795918,0.32653061224489793,0.32653061224489793,0.32653061224489793,0.32653061224489793,0.32653061224489793,0.3469387755102041,0.3469387755102041,0.36734693877551017,0.36734693877551017,0.36734693877551017,0.36734693877551017,0.36734693877551017,0.36734693877551017,0.3877551020408163,0.3877551020408163,0.3877551020408163,0.3877551020408163,0.3877551020408163,0.3877551020408163,0.4081632653061224,0.42857142857142855,0.42857142857142855,0.42857142857142855,0.42857142857142855,0.42857142857142855,0.42857142857142855,0.44897959183673464,0.44897959183673464,0.44897959183673464,0.44897959183673464,0.44897959183673464,0.44897959183673464,0.44897959183673464,0.44897959183673464,0.44897959183673464,0.44897959183673464,0.44897959183673464,0.4693877551020408,0.4693877551020408,0.4693877551020408,0.4693877551020408,0.4897959183673469,0.4897959183673469,0.4897959183673469,0.4897959183673469,0.4897959183673469,0.4897959183673469,0.5102040816326531,0.5102040816326531,0.5102040816326531,0.5102040816326531,0.5102040816326531,0.5306122448979591,0.5306122448979591,0.5306122448979591,0.5306122448979591,0.5510204081632653,0.5510204081632653,0.5510204081632653,0.5510204081632653,0.5714285714285714,0.5714285714285714,0.5714285714285714,0.5714285714285714,0.5714285714285714,0.5714285714285714,0.5714285714285714,0.5918367346938775,0.5918367346938775,0.5918367346938775,0.5918367346938775,0.5918367346938775,0.5918367346938775,0.5918367346938775,0.5918367346938775,0.5918367346938775,0.6122448979591836,0.6122448979591836,0.6122448979591836,0.6122448979591836,0.6122448979591836,0.6122448979591836,0.6122448979591836,0.6122448979591836,0.6326530612244897,0.6326530612244897,0.6326530612244897,0.6326530612244897,0.6326530612244897,0.6326530612244897,0.6326530612244897,0.6530612244897959,0.6530612244897959,0.6530612244897959,0.6530612244897959,0.6530612244897959,0.6530612244897959,0.673469387755102,0.673469387755102,0.673469387755102,0.6938775510204082,0.6938775510204082,0.6938775510204082,0.6938775510204082,0.7142857142857142,0.7142857142857142,0.7142857142857142,0.7142857142857142,0.7142857142857142,0.7142857142857142,0.7346938775510203,0.7346938775510203,0.7346938775510203,0.7346938775510203,0.7346938775510203,0.7346938775510203,0.7346938775510203,0.7346938775510203,0.7551020408163265,0.7551020408163265,0.7551020408163265,0.7551020408163265,0.7551020408163265,0.7551020408163265,0.7755102040816326,0.7755102040816326,0.7755102040816326,0.7755102040816326,0.7959183673469387,0.7959183673469387,0.7959183673469387,0.7959183673469387,0.8163265306122448,0.8163265306122448,0.8163265306122448,0.8163265306122448,0.8163265306122448,0.836734693877551,0.836734693877551,0.836734693877551,0.8571428571428571,0.8571428571428571,0.8571428571428571,0.8571428571428571,0.8775510204081632,0.8775510204081632,0.8775510204081632,0.8775510204081632,0.8775510204081632,0.8775510204081632,0.8979591836734693,0.8979591836734693,0.8979591836734693,0.8979591836734693,0.8979591836734693,0.8979591836734693,0.9183673469387754,0.9183673469387754,0.9183673469387754,0.9183673469387754,0.9387755102040816,0.9387755102040816,0.95,0.95,0.95,0.95,0.95,0.95,0.95,0.95,0.95,0.95,0.95,0.95,0.95,0.95],\"y\":[0.8979591836734693,0.95,0.08163265306122448,0.24489795918367346,0.6530612244897959,0.8163265306122448,0.14285714285714285,0.26530612244897955,0.2857142857142857,0.4081632653061224,0.44897959183673464,0.7346938775510203,0.44897959183673464,0.8571428571428571,0.36734693877551017,0.7551020408163265,0.9183673469387754,0.05,0.1020408163265306,0.18367346938775508,0.4081632653061224,0.12244897959183673,0.2040816326530612,0.7755102040816326,0.7959183673469387,0.8775510204081632,0.05,0.24489795918367346,0.3877551020408163,0.673469387755102,0.6938775510204082,0.05,0.1020408163265306,0.14285714285714285,0.42857142857142855,0.5510204081632653,0.6326530612244897,0.836734693877551,0.08163265306122448,0.24489795918367346,0.061224489795918366,0.18367346938775508,0.7959183673469387,0.3469387755102041,0.673469387755102,0.7142857142857142,0.7755102040816326,0.9387755102040816,0.95,0.22448979591836732,0.4081632653061224,0.5306122448979591,0.8979591836734693,0.1020408163265306,0.12244897959183673,0.14285714285714285,0.22448979591836732,0.24489795918367346,0.36734693877551017,0.44897959183673464,0.5102040816326531,0.95,0.05,0.2040816326530612,0.4081632653061224,0.5102040816326531,0.6530612244897959,0.22448979591836732,0.36734693877551017,0.5102040816326531,0.5714285714285714,0.5918367346938775,0.7346938775510203,0.9183673469387754,0.05,0.22448979591836732,0.3877551020408163,0.7551020408163265,0.7959183673469387,0.18367346938775508,0.32653061224489793,0.08163265306122448,0.24489795918367346,0.4081632653061224,0.4693877551020408,0.8979591836734693,0.9387755102040816,0.05,0.05,0.24489795918367346,0.36734693877551017,0.44897959183673464,0.7142857142857142,0.7959183673469387,0.05,0.061224489795918366,0.3469387755102041,0.4897959183673469,0.6326530612244897,0.6938775510204082,0.05,0.1020408163265306,0.14285714285714285,0.16326530612244897,0.32653061224489793,0.4081632653061224,0.4897959183673469,0.6938775510204082,0.836734693877551,0.8571428571428571,0.9387755102040816,0.44897959183673464,0.5102040816326531,0.673469387755102,0.7959183673469387,0.061224489795918366,0.1020408163265306,0.14285714285714285,0.5510204081632653,0.7959183673469387,0.95,0.1020408163265306,0.14285714285714285,0.4693877551020408,0.673469387755102,0.7755102040816326,0.3061224489795918,0.6122448979591836,0.7959183673469387,0.8163265306122448,0.14285714285714285,0.3061224489795918,0.42857142857142855,0.7755102040816326,0.1020408163265306,0.36734693877551017,0.5918367346938775,0.7551020408163265,0.836734693877551,0.8571428571428571,0.95,0.12244897959183673,0.16326530612244897,0.24489795918367346,0.32653061224489793,0.5714285714285714,0.7755102040816326,0.8979591836734693,0.9183673469387754,0.9387755102040816,0.061224489795918366,0.2040816326530612,0.2857142857142857,0.5918367346938775,0.6530612244897959,0.7346938775510203,0.8163265306122448,0.95,0.05,0.14285714285714285,0.36734693877551017,0.42857142857142855,0.5306122448979591,0.7142857142857142,0.95,0.05,0.12244897959183673,0.3061224489795918,0.3469387755102041,0.836734693877551,0.95,0.5102040816326531,0.5306122448979591,0.5918367346938775,0.3877551020408163,0.4897959183673469,0.673469387755102,0.7551020408163265,0.18367346938775508,0.24489795918367346,0.5102040816326531,0.6326530612244897,0.6938775510204082,0.7755102040816326,0.2040816326530612,0.3061224489795918,0.4693877551020408,0.4897959183673469,0.6530612244897959,0.7142857142857142,0.8571428571428571,0.8775510204081632,0.08163265306122448,0.14285714285714285,0.3469387755102041,0.42857142857142855,0.6326530612244897,0.7551020408163265,0.6938775510204082,0.7551020408163265,0.9183673469387754,0.95,0.061224489795918366,0.3061224489795918,0.36734693877551017,0.7142857142857142,0.14285714285714285,0.32653061224489793,0.36734693877551017,0.8571428571428571,0.9183673469387754,0.16326530612244897,0.4897959183673469,0.673469387755102,0.22448979591836732,0.7959183673469387,0.8163265306122448,0.95,0.1020408163265306,0.18367346938775508,0.7551020408163265,0.7959183673469387,0.8163265306122448,0.836734693877551,0.05,0.44897959183673464,0.5102040816326531,0.6938775510204082,0.7142857142857142,0.8979591836734693,0.05,0.16326530612244897,0.6938775510204082,0.7959183673469387,0.3061224489795918,0.673469387755102,0.08163265306122448,0.42857142857142855,0.5306122448979591,0.14285714285714285,0.2040816326530612,0.3877551020408163,0.4081632653061224,0.673469387755102,0.22448979591836732,0.36734693877551017,0.4897959183673469,0.5510204081632653,0.9183673469387754,0.95],\"z\":[0.7963289218726609,0.95,0.8374708388010617,0.7731047938634492,0.2100838187468362,0.4710397198901133,0.7243163094450482,0.6606796531188589,0.6419841678995071,0.47941613448851245,0.41165745068563425,0.2476853629404794,0.3613400127865251,0.45067600214602677,0.41958416635903906,0.21746291791063213,0.5040498995285058,0.504773384885581,0.5022639721258529,0.48851458236007833,0.32924930572590644,0.44800701419191535,0.4317484959939039,0.19695851301433911,0.22414477485627474,0.3463033691212989,0.4095506663031099,0.3771521991725676,0.28509793226393076,0.10534091075258313,0.11221824540931948,0.37630007916845437,0.37452877175700927,0.37093144018138735,0.2283592317762059,0.12916008945763557,0.09513764047344998,0.23690485519414214,0.3508328957155223,0.32386870199679363,0.3342656867888549,0.3238134606942762,0.16591198481823763,0.25182772029704825,0.08341993225071011,0.09751867333235635,0.14131572251465765,0.3027998218782933,0.3218053605832753,0.30082225701146814,0.20883523696738804,0.12196896250668506,0.26558076377893425,0.3198371404982752,0.3185762928253492,0.31676511951795505,0.3020145879755322,0.2960072324921016,0.23711440191764752,0.18003007783546893,0.13585328650527365,0.31893794260881425,0.32741166846664543,0.31280638526438004,0.21361801273747638,0.1384159968492536,0.08195447923875288,0.3173592788606252,0.24916165839694304,0.1427556904623841,0.1048253785814643,0.09581493045898555,0.11382370327317366,0.29931994329325445,0.35159660712388946,0.3304414955277893,0.24481972388563775,0.13445925829806166,0.17439093980468798,0.3568813865606345,0.29949269221570385,0.38755466924367227,0.3577681261181445,0.25340843026037674,0.19939731000214436,0.32226555936573753,0.36271695194167075,0.41047939777792586,0.41046753956235843,0.37800746116329864,0.3028000779559857,0.2299021955736589,0.12342375301307147,0.21534894988858305,0.45943583074134203,0.4591114705293844,0.3568315882397822,0.21465991615952637,0.11615634251866201,0.12592037168727904,0.48592944462834625,0.48352768045984823,0.478883419394282,0.4751571060303649,0.3946655134073982,0.3169670968372219,0.22698468605808836,0.13315013136646284,0.3058511488565124,0.3394578794758633,0.45369184881681607,0.2873960363312139,0.21687318326811375,0.13198313862356453,0.25444443974364866,0.5403105357101123,0.5381471337854108,0.5329782553902612,0.1855855602628826,0.26818185934380784,0.5366341738891165,0.5659656220006253,0.5605295483094423,0.2919316146661785,0.14629985811591067,0.24783609379239013,0.5039895842176705,0.1576428383106277,0.29591585207402427,0.33483624054663913,0.6154656475973453,0.5274448480659834,0.3789036119484683,0.2721258895699153,0.648677173424424,0.4809031864608978,0.18493096275209575,0.2492434618488904,0.4103149969411732,0.45540014905793363,0.6321143036732222,0.6726918360366193,0.663662814068564,0.6250359904036967,0.5512383628900841,0.21064243309346548,0.29573729773324847,0.5630115104346897,0.6014715327709574,0.6336817976294686,0.7041301908209088,0.6731954024710819,0.6156233365140265,0.19993626567793182,0.17637548731241537,0.23751503099835655,0.3954605387254439,0.6834040740243644,0.7298455756832299,0.719432935269202,0.5385312323080607,0.44290975262770294,0.27811233250437645,0.21950967204135485,0.7243678236068333,0.7542810213297924,0.7475725044346073,0.6370161689031669,0.5856744975773706,0.4747418682439142,0.7313676753388335,0.32857943894256836,0.29616758202164034,0.22053633021956728,0.5564863486072538,0.37340392604018513,0.20561628882456826,0.3056319993305796,0.793706863751425,0.7552453487629456,0.3466218101613633,0.2072916558123502,0.22471646215417804,0.3573461720572264,0.8018544020429924,0.7090006511537061,0.43087968153772316,0.3921391058854304,0.21008381874683618,0.2524275442536908,0.5864479743332263,0.6431635166047076,0.8554452534710889,0.8450763043571082,0.6658478767039009,0.5202604976296853,0.21674777844995574,0.32785561360126153,0.23951617934061184,0.3342025477554307,0.7746367161665838,0.8741360237947211,0.8884240416153631,0.7510339928767338,0.6560046789616308,0.26739279599309973,0.8898490735766664,0.7333574879715831,0.6660961636154645,0.6307720571156268,0.8001867831671221,0.8948491378590934,0.4274734567756147,0.2353898811009079,0.8699276975065906,0.45910550213432394,0.519489440229377,0.8977411526561268,0.9304334163472624,0.9049629617607762,0.3575036323323012,0.46367498389598366,0.5246599239449228,0.5885374112474016,0.9428169867066626,0.5280549923854406,0.39847789343645873,0.2583349917248565,0.2834880667184344,0.7820754526534869,0.9490592246702769,0.9280199823878809,0.26005289828866074,0.4706193787311008,0.805611084062272,0.24535651223506413,0.95,0.5807980185279384,0.36469526960834386,0.9453979567427928,0.916298087276931,0.6678163561382314,0.6257473814475161,0.24675164289142357,0.901998549114212,0.7081672707847128,0.4484169585194513,0.32942000003132704,0.8507271491817123,0.95],\"type\":\"scatter3d\"}],                        {\"template\":{\"data\":{\"bar\":[{\"error_x\":{\"color\":\"#2a3f5f\"},\"error_y\":{\"color\":\"#2a3f5f\"},\"marker\":{\"line\":{\"color\":\"#E5ECF6\",\"width\":0.5},\"pattern\":{\"fillmode\":\"overlay\",\"size\":10,\"solidity\":0.2}},\"type\":\"bar\"}],\"barpolar\":[{\"marker\":{\"line\":{\"color\":\"#E5ECF6\",\"width\":0.5},\"pattern\":{\"fillmode\":\"overlay\",\"size\":10,\"solidity\":0.2}},\"type\":\"barpolar\"}],\"carpet\":[{\"aaxis\":{\"endlinecolor\":\"#2a3f5f\",\"gridcolor\":\"white\",\"linecolor\":\"white\",\"minorgridcolor\":\"white\",\"startlinecolor\":\"#2a3f5f\"},\"baxis\":{\"endlinecolor\":\"#2a3f5f\",\"gridcolor\":\"white\",\"linecolor\":\"white\",\"minorgridcolor\":\"white\",\"startlinecolor\":\"#2a3f5f\"},\"type\":\"carpet\"}],\"choropleth\":[{\"colorbar\":{\"outlinewidth\":0,\"ticks\":\"\"},\"type\":\"choropleth\"}],\"contour\":[{\"colorbar\":{\"outlinewidth\":0,\"ticks\":\"\"},\"colorscale\":[[0.0,\"#0d0887\"],[0.1111111111111111,\"#46039f\"],[0.2222222222222222,\"#7201a8\"],[0.3333333333333333,\"#9c179e\"],[0.4444444444444444,\"#bd3786\"],[0.5555555555555556,\"#d8576b\"],[0.6666666666666666,\"#ed7953\"],[0.7777777777777778,\"#fb9f3a\"],[0.8888888888888888,\"#fdca26\"],[1.0,\"#f0f921\"]],\"type\":\"contour\"}],\"contourcarpet\":[{\"colorbar\":{\"outlinewidth\":0,\"ticks\":\"\"},\"type\":\"contourcarpet\"}],\"heatmap\":[{\"colorbar\":{\"outlinewidth\":0,\"ticks\":\"\"},\"colorscale\":[[0.0,\"#0d0887\"],[0.1111111111111111,\"#46039f\"],[0.2222222222222222,\"#7201a8\"],[0.3333333333333333,\"#9c179e\"],[0.4444444444444444,\"#bd3786\"],[0.5555555555555556,\"#d8576b\"],[0.6666666666666666,\"#ed7953\"],[0.7777777777777778,\"#fb9f3a\"],[0.8888888888888888,\"#fdca26\"],[1.0,\"#f0f921\"]],\"type\":\"heatmap\"}],\"heatmapgl\":[{\"colorbar\":{\"outlinewidth\":0,\"ticks\":\"\"},\"colorscale\":[[0.0,\"#0d0887\"],[0.1111111111111111,\"#46039f\"],[0.2222222222222222,\"#7201a8\"],[0.3333333333333333,\"#9c179e\"],[0.4444444444444444,\"#bd3786\"],[0.5555555555555556,\"#d8576b\"],[0.6666666666666666,\"#ed7953\"],[0.7777777777777778,\"#fb9f3a\"],[0.8888888888888888,\"#fdca26\"],[1.0,\"#f0f921\"]],\"type\":\"heatmapgl\"}],\"histogram\":[{\"marker\":{\"pattern\":{\"fillmode\":\"overlay\",\"size\":10,\"solidity\":0.2}},\"type\":\"histogram\"}],\"histogram2d\":[{\"colorbar\":{\"outlinewidth\":0,\"ticks\":\"\"},\"colorscale\":[[0.0,\"#0d0887\"],[0.1111111111111111,\"#46039f\"],[0.2222222222222222,\"#7201a8\"],[0.3333333333333333,\"#9c179e\"],[0.4444444444444444,\"#bd3786\"],[0.5555555555555556,\"#d8576b\"],[0.6666666666666666,\"#ed7953\"],[0.7777777777777778,\"#fb9f3a\"],[0.8888888888888888,\"#fdca26\"],[1.0,\"#f0f921\"]],\"type\":\"histogram2d\"}],\"histogram2dcontour\":[{\"colorbar\":{\"outlinewidth\":0,\"ticks\":\"\"},\"colorscale\":[[0.0,\"#0d0887\"],[0.1111111111111111,\"#46039f\"],[0.2222222222222222,\"#7201a8\"],[0.3333333333333333,\"#9c179e\"],[0.4444444444444444,\"#bd3786\"],[0.5555555555555556,\"#d8576b\"],[0.6666666666666666,\"#ed7953\"],[0.7777777777777778,\"#fb9f3a\"],[0.8888888888888888,\"#fdca26\"],[1.0,\"#f0f921\"]],\"type\":\"histogram2dcontour\"}],\"mesh3d\":[{\"colorbar\":{\"outlinewidth\":0,\"ticks\":\"\"},\"type\":\"mesh3d\"}],\"parcoords\":[{\"line\":{\"colorbar\":{\"outlinewidth\":0,\"ticks\":\"\"}},\"type\":\"parcoords\"}],\"pie\":[{\"automargin\":true,\"type\":\"pie\"}],\"scatter\":[{\"marker\":{\"colorbar\":{\"outlinewidth\":0,\"ticks\":\"\"}},\"type\":\"scatter\"}],\"scatter3d\":[{\"line\":{\"colorbar\":{\"outlinewidth\":0,\"ticks\":\"\"}},\"marker\":{\"colorbar\":{\"outlinewidth\":0,\"ticks\":\"\"}},\"type\":\"scatter3d\"}],\"scattercarpet\":[{\"marker\":{\"colorbar\":{\"outlinewidth\":0,\"ticks\":\"\"}},\"type\":\"scattercarpet\"}],\"scattergeo\":[{\"marker\":{\"colorbar\":{\"outlinewidth\":0,\"ticks\":\"\"}},\"type\":\"scattergeo\"}],\"scattergl\":[{\"marker\":{\"colorbar\":{\"outlinewidth\":0,\"ticks\":\"\"}},\"type\":\"scattergl\"}],\"scattermapbox\":[{\"marker\":{\"colorbar\":{\"outlinewidth\":0,\"ticks\":\"\"}},\"type\":\"scattermapbox\"}],\"scatterpolar\":[{\"marker\":{\"colorbar\":{\"outlinewidth\":0,\"ticks\":\"\"}},\"type\":\"scatterpolar\"}],\"scatterpolargl\":[{\"marker\":{\"colorbar\":{\"outlinewidth\":0,\"ticks\":\"\"}},\"type\":\"scatterpolargl\"}],\"scatterternary\":[{\"marker\":{\"colorbar\":{\"outlinewidth\":0,\"ticks\":\"\"}},\"type\":\"scatterternary\"}],\"surface\":[{\"colorbar\":{\"outlinewidth\":0,\"ticks\":\"\"},\"colorscale\":[[0.0,\"#0d0887\"],[0.1111111111111111,\"#46039f\"],[0.2222222222222222,\"#7201a8\"],[0.3333333333333333,\"#9c179e\"],[0.4444444444444444,\"#bd3786\"],[0.5555555555555556,\"#d8576b\"],[0.6666666666666666,\"#ed7953\"],[0.7777777777777778,\"#fb9f3a\"],[0.8888888888888888,\"#fdca26\"],[1.0,\"#f0f921\"]],\"type\":\"surface\"}],\"table\":[{\"cells\":{\"fill\":{\"color\":\"#EBF0F8\"},\"line\":{\"color\":\"white\"}},\"header\":{\"fill\":{\"color\":\"#C8D4E3\"},\"line\":{\"color\":\"white\"}},\"type\":\"table\"}]},\"layout\":{\"annotationdefaults\":{\"arrowcolor\":\"#2a3f5f\",\"arrowhead\":0,\"arrowwidth\":1},\"autotypenumbers\":\"strict\",\"coloraxis\":{\"colorbar\":{\"outlinewidth\":0,\"ticks\":\"\"}},\"colorscale\":{\"diverging\":[[0,\"#8e0152\"],[0.1,\"#c51b7d\"],[0.2,\"#de77ae\"],[0.3,\"#f1b6da\"],[0.4,\"#fde0ef\"],[0.5,\"#f7f7f7\"],[0.6,\"#e6f5d0\"],[0.7,\"#b8e186\"],[0.8,\"#7fbc41\"],[0.9,\"#4d9221\"],[1,\"#276419\"]],\"sequential\":[[0.0,\"#0d0887\"],[0.1111111111111111,\"#46039f\"],[0.2222222222222222,\"#7201a8\"],[0.3333333333333333,\"#9c179e\"],[0.4444444444444444,\"#bd3786\"],[0.5555555555555556,\"#d8576b\"],[0.6666666666666666,\"#ed7953\"],[0.7777777777777778,\"#fb9f3a\"],[0.8888888888888888,\"#fdca26\"],[1.0,\"#f0f921\"]],\"sequentialminus\":[[0.0,\"#0d0887\"],[0.1111111111111111,\"#46039f\"],[0.2222222222222222,\"#7201a8\"],[0.3333333333333333,\"#9c179e\"],[0.4444444444444444,\"#bd3786\"],[0.5555555555555556,\"#d8576b\"],[0.6666666666666666,\"#ed7953\"],[0.7777777777777778,\"#fb9f3a\"],[0.8888888888888888,\"#fdca26\"],[1.0,\"#f0f921\"]]},\"colorway\":[\"#636efa\",\"#EF553B\",\"#00cc96\",\"#ab63fa\",\"#FFA15A\",\"#19d3f3\",\"#FF6692\",\"#B6E880\",\"#FF97FF\",\"#FECB52\"],\"font\":{\"color\":\"#2a3f5f\"},\"geo\":{\"bgcolor\":\"white\",\"lakecolor\":\"white\",\"landcolor\":\"#E5ECF6\",\"showlakes\":true,\"showland\":true,\"subunitcolor\":\"white\"},\"hoverlabel\":{\"align\":\"left\"},\"hovermode\":\"closest\",\"mapbox\":{\"style\":\"light\"},\"paper_bgcolor\":\"white\",\"plot_bgcolor\":\"#E5ECF6\",\"polar\":{\"angularaxis\":{\"gridcolor\":\"white\",\"linecolor\":\"white\",\"ticks\":\"\"},\"bgcolor\":\"#E5ECF6\",\"radialaxis\":{\"gridcolor\":\"white\",\"linecolor\":\"white\",\"ticks\":\"\"}},\"scene\":{\"xaxis\":{\"backgroundcolor\":\"#E5ECF6\",\"gridcolor\":\"white\",\"gridwidth\":2,\"linecolor\":\"white\",\"showbackground\":true,\"ticks\":\"\",\"zerolinecolor\":\"white\"},\"yaxis\":{\"backgroundcolor\":\"#E5ECF6\",\"gridcolor\":\"white\",\"gridwidth\":2,\"linecolor\":\"white\",\"showbackground\":true,\"ticks\":\"\",\"zerolinecolor\":\"white\"},\"zaxis\":{\"backgroundcolor\":\"#E5ECF6\",\"gridcolor\":\"white\",\"gridwidth\":2,\"linecolor\":\"white\",\"showbackground\":true,\"ticks\":\"\",\"zerolinecolor\":\"white\"}},\"shapedefaults\":{\"line\":{\"color\":\"#2a3f5f\"}},\"ternary\":{\"aaxis\":{\"gridcolor\":\"white\",\"linecolor\":\"white\",\"ticks\":\"\"},\"baxis\":{\"gridcolor\":\"white\",\"linecolor\":\"white\",\"ticks\":\"\"},\"bgcolor\":\"#E5ECF6\",\"caxis\":{\"gridcolor\":\"white\",\"linecolor\":\"white\",\"ticks\":\"\"}},\"title\":{\"x\":0.05},\"xaxis\":{\"automargin\":true,\"gridcolor\":\"white\",\"linecolor\":\"white\",\"ticks\":\"\",\"title\":{\"standoff\":15},\"zerolinecolor\":\"white\",\"zerolinewidth\":2},\"yaxis\":{\"automargin\":true,\"gridcolor\":\"white\",\"linecolor\":\"white\",\"ticks\":\"\",\"title\":{\"standoff\":15},\"zerolinecolor\":\"white\",\"zerolinewidth\":2}}},\"scene\":{\"domain\":{\"x\":[0.0,1.0],\"y\":[0.0,1.0]},\"xaxis\":{\"title\":{\"text\":\"calories\"}},\"yaxis\":{\"title\":{\"text\":\"exercise\"}},\"zaxis\":{\"title\":{\"text\":\"death_prob\"}}},\"coloraxis\":{\"colorbar\":{\"title\":{\"text\":\"death_prob\"}},\"colorscale\":[[0.0,\"#0d0887\"],[0.1111111111111111,\"#46039f\"],[0.2222222222222222,\"#7201a8\"],[0.3333333333333333,\"#9c179e\"],[0.4444444444444444,\"#bd3786\"],[0.5555555555555556,\"#d8576b\"],[0.6666666666666666,\"#ed7953\"],[0.7777777777777778,\"#fb9f3a\"],[0.8888888888888888,\"#fdca26\"],[1.0,\"#f0f921\"]]},\"legend\":{\"tracegroupgap\":0},\"margin\":{\"t\":20,\"l\":20,\"r\":20,\"b\":20},\"height\":400,\"width\":600},                        {\"responsive\": true}                    ).then(function(){\n",
              "                            \n",
              "var gd = document.getElementById('19f5d0ce-468b-449f-9e46-4eb7acd319c9');\n",
              "var x = new MutationObserver(function (mutations, observer) {{\n",
              "        var display = window.getComputedStyle(gd).display;\n",
              "        if (!display || display === 'none') {{\n",
              "            console.log([gd, 'removed!']);\n",
              "            Plotly.purge(gd);\n",
              "            observer.disconnect();\n",
              "        }}\n",
              "}});\n",
              "\n",
              "// Listen for the removal of the full notebook cells\n",
              "var notebookContainer = gd.closest('#notebook-container');\n",
              "if (notebookContainer) {{\n",
              "    x.observe(notebookContainer, {childList: true});\n",
              "}}\n",
              "\n",
              "// Listen for the clearing of the current output cell\n",
              "var outputEl = gd.closest('.output');\n",
              "if (outputEl) {{\n",
              "    x.observe(outputEl, {childList: true});\n",
              "}}\n",
              "\n",
              "                        })                };                            </script>        </div>\n",
              "</body>\n",
              "</html>"
            ]
          },
          "metadata": {}
        }
      ]
    },
    {
      "cell_type": "markdown",
      "metadata": {
        "id": "PbDVeJ31zcqv"
      },
      "source": [
        "*^^ You can move this 3D plot around with your mouse (or finger if you're on a mobile device).* \n",
        "\n",
        "> DISCLAIMER: Any similarity between this data and actual health informatics and/or insurace data is purely coincidental!  \n",
        "\n",
        ".\n",
        "\n",
        "Alternatively, if we were to ignore the fitness tracking info completely, that would be like projecting along the \"exercise\" axis and just looking at `calories`, which would look like this."
      ]
    },
    {
      "cell_type": "code",
      "metadata": {
        "colab": {
          "base_uri": "https://localhost:8080/",
          "height": 296
        },
        "id": "tJEA_OkKzm6C",
        "outputId": "d8c1dcc2-e612-45d2-f326-0329d8d19425"
      },
      "source": [
        "plt.plot(df['calories'], df['death_prob'], 'o')\n",
        "plt.xlabel('calories')\n",
        "plt.ylabel('your risk of death!')"
      ],
      "execution_count": null,
      "outputs": [
        {
          "output_type": "execute_result",
          "data": {
            "text/plain": [
              "Text(0, 0.5, 'your risk of death!')"
            ]
          },
          "metadata": {},
          "execution_count": 4
        },
        {
          "output_type": "display_data",
          "data": {
            "text/plain": [
              "<Figure size 432x288 with 1 Axes>"
            ],
            "image/png": "[encoded data removed]"
          },
          "metadata": {
            "needs_background": "light"
          }
        }
      ]
    },
    {
      "cell_type": "markdown",
      "metadata": {
        "id": "7slRVaBdzg-W"
      },
      "source": [
        "\"Training a model\" on this data will mean that, given a value of \"calories\" (and maybe \"exercise\" too), we will get a number for your risk of death.  And that can be sent downstream to a different algorithm that decides how much to charge you for insurance. ;-) \n",
        "\n",
        "You don't \"need\" a neural network to fit a curve to this data!  But doing so will illustrate many of the core concepts we'll use as we progress in the course. \n",
        "\n",
        "To train a model on this simple dataset, we're going to use \"raw\" PyTorch with a little fastai thrown in.* \n",
        "\n",
        ">\\**following [this post by Zach Mueller](https://muellerzr.github.io/fastblog/2021/02/14/Pytorchtofastai.html) who showed how to \"minimally\" integrate fastai.* "
      ]
    },
    {
      "cell_type": "markdown",
      "metadata": {
        "id": "8Y3vX01lemui"
      },
      "source": [
        "## Define Datasets & DataLoaders\n",
        "\n",
        "What follows is a bunch of \"Pandas\" dataframe work, which we then use to set up *datasets* & *dataloaders*.\n",
        "\n",
        "\n",
        "Also, let's decide if we're going to include `exercise` or not:"
      ]
    },
    {
      "cell_type": "code",
      "metadata": {
        "id": "YkaKk4GKYTaz"
      },
      "source": [
        "with_exercise = True  # are we going to include the exercise info or not?\n",
        "\n",
        "# What follows just sets up which parts of df we're going to use \n",
        "\n",
        "df2 = df.copy() # make a copy of df for what happens below, just so we don't have to reload it after we 'break' it\n",
        "input_cols = [0,1]\n",
        "\n",
        "if not with_exercise:\n",
        "    df2 = df2[['calories','death_prob']]\n",
        "    input_cols = [0]"
      ],
      "execution_count": null,
      "outputs": []
    },
    {
      "cell_type": "code",
      "metadata": {
        "id": "sp4JzN1R2b4Z"
      },
      "source": [
        "# Aside: we COULD use fastai TabularDataLoaders, as in...\n",
        "#     dls = TabularDataLoaders.from_df(df, cont_names=['calories'], #, 'exercise'], \n",
        "#           y_names='death_prob',  valid_idx=list(range(40,50)), bs=10)\n",
        "# But Nahhhh. Let's define our own using raw PyTorch\n",
        "\n",
        "\n",
        "# Define a PyTorch dataset\n",
        "class myDataset(Dataset):\n",
        "    # got this from https://pytorch.org/tutorials/beginner/basics/data_tutorial.html\n",
        "    def __init__(self, df, input_cols=[0,1]):\n",
        "        self.df = df\n",
        "        self.ic = input_cols\n",
        "\n",
        "    def __len__(self):   # required: method to return how many items are in the Dataset\n",
        "        return len(self.df)\n",
        "\n",
        "    def __getitem__(self, idx): # serve up a new x,y pair\n",
        "        return Tensor(self.df.iloc[idx, self.ic].to_numpy() ), Tensor([self.df.iloc[idx,-1]])\n",
        "\n",
        "\n",
        "batch_size = 5      # size of each mini-batch when we train\n",
        "assert len(df) % batch_size == 0,\"Batch size needs to divide evenly into length of dataset\"  # sanity check\n",
        "\n",
        "\n",
        "\n",
        "def df_to_dls(df): # produce fastai dataloaders from the pandas dataframe\n",
        "    \n",
        "    shuf_df = df2.sample(frac=1)   # \"shuffled df\": shuffle the order of rows\n",
        "    n = len(shuf_df)\n",
        "\n",
        "    # Manually split into train & val subsets\n",
        "    split_ind = int(n*0.8)  # 80-20 split\n",
        "    # split_ind = n-batch_size  # other option: all but one batch are training data\n",
        "\n",
        "    train_df, val_df = shuf_df.iloc[0:split_ind], shuf_df.iloc[split_ind:]  # these are still pandas dataframes\n",
        "    assert len(train_df) % batch_size == 0, f'{len(train_df)} mod {batch_size} = {len(train_df) % batch_size} != 0'   # otherwise you're gonna have a bad time\n",
        "    assert len(val_df) % batch_size == 0, f'{len(val_df)} mod {batch_size} = {len(train_df) % batch_size} != 0'    # same\n",
        "\n",
        "    train_ds, val_ds = myDataset(train_df, input_cols=input_cols), myDataset(val_df,input_cols=input_cols)\n",
        "    train_dl, val_dl = DataLoader(train_ds, bs=batch_size), DataLoader(val_ds, bs=batch_size)\n",
        "\n",
        "    dls = DataLoaders(train_dl,val_dl)  # fastai generic DataLoaders class\n",
        "    return dls \n",
        "\n",
        "dls = df_to_dls(df)"
      ],
      "execution_count": null,
      "outputs": []
    },
    {
      "cell_type": "markdown",
      "metadata": {
        "id": "MWqA-QGw1wJN"
      },
      "source": [
        "Now let's define a neural network in raw PyTorch.  To do this we use the `nn.Module` class.  We can name the class of our network anything we want; let's call it `Net`.   We'll make it a single-hidden-layer neural network (as in the MLP diagraph near the beginning of this notebook^^). "
      ]
    },
    {
      "cell_type": "code",
      "metadata": {
        "id": "rowaWYvyJKaq"
      },
      "source": [
        "class Net(nn.Module): \n",
        "    # every PyTorch model class needs an __init__() and a forward()\n",
        "    def __init__(self, \n",
        "        hidden_dim, # how many neurons in the hidden layer \n",
        "        in_dim=2,   # dimenisions of input \n",
        "        out_dim=1): # dimensions of output\n",
        "        super().__init__()    # you always need this super() call for class inheritance\n",
        "        # below is where we define our layers, thereby \"allocating memory\" in a sense\n",
        "        self.layer_in = nn.Linear(in_dim, hidden_dim)   # Linear is just a matrix\n",
        "        self.layer_out = nn.Linear(hidden_dim, out_dim)\n",
        "\n",
        "    # forward() is where the actual computation is performed, x is the input\n",
        "    def forward(self, x):           # for our raw, non-fastai-Tabular version\n",
        "        x = self.layer_in(x)        # first set of weights\n",
        "        x = F.relu(x)               # ReLU is nonlinear activation: max(0, x)\n",
        "        return self.layer_out(x)    \n",
        "         \n",
        "# That was really a single-layer network: inputs, hidden, output\n",
        "\n",
        "hidden_dim=15  # how many neurons in the hidden layer\n",
        "\n",
        "torch.manual_seed(0)  # for reproducability \n",
        "net = Net(hidden_dim=hidden_dim, in_dim=df2.shape[1]-1)"
      ],
      "execution_count": null,
      "outputs": []
    },
    {
      "cell_type": "markdown",
      "metadata": {
        "id": "DRUj2heVdGlb"
      },
      "source": [
        "# Let's integrate with \"WandB\" too!\n",
        "*The following is usually optional but we'll use it now just to show off some of the tools that are available*\n",
        "\n",
        "There's a great ML helper platform company called [Weights and Biases](https://wandb.ai/site) or \"WandB\".  It can keep track of all kinds of things about your training runs, and [it integrates with FastAI](https://docs.wandb.ai/guides/integrations/fastai) among other things.\n",
        "\n",
        "> (Note: Link to [Full WandB-FastAI Walkthrough](https://wandb.ai/borisd13/demo_config/reports/Visualize-Track-Compare-Fastai-Models--Vmlldzo4MzAyNA), that I based this on, except things have CHANGED there since they wrote that!)\n",
        "\n",
        "So, first go to WandB and create yourself a free account before going on. You can either create via username & password, or via an integration such as GitHub or...whatever else. (I use my GitHub account)\n",
        "\n",
        " Then come back..."
      ]
    },
    {
      "cell_type": "code",
      "metadata": {
        "colab": {
          "base_uri": "https://localhost:8080/"
        },
        "id": "lzVlmJpudnl4",
        "outputId": "33e23088-f0d6-4aa6-e13a-6b6ab3b77abb"
      },
      "source": [
        "# Don't need to (re-)run this every time. Just once per Colab session.\n",
        "!pip install wandb -qqq\n",
        "import wandb\n",
        "wandb.login()"
      ],
      "execution_count": null,
      "outputs": [
        {
          "output_type": "stream",
          "name": "stdout",
          "text": [
            "\u001b[K     |████████████████████████████████| 1.8 MB 5.2 MB/s \n",
            "\u001b[K     |████████████████████████████████| 181 kB 53.6 MB/s \n",
            "\u001b[K     |████████████████████████████████| 122 kB 70.7 MB/s \n",
            "\u001b[K     |████████████████████████████████| 63 kB 1.8 MB/s \n",
            "\u001b[K     |████████████████████████████████| 157 kB 66.8 MB/s \n",
            "\u001b[K     |████████████████████████████████| 157 kB 69.8 MB/s \n",
            "\u001b[K     |████████████████████████████████| 157 kB 67.8 MB/s \n",
            "\u001b[K     |████████████████████████████████| 157 kB 76.4 MB/s \n",
            "\u001b[K     |████████████████████████████████| 157 kB 50.0 MB/s \n",
            "\u001b[K     |████████████████████████████████| 156 kB 66.7 MB/s \n",
            "\u001b[?25h  Building wheel for pathtools (setup.py) ... \u001b[?25l\u001b[?25hdone\n",
            "\u001b[34m\u001b[1mwandb\u001b[0m: Logging into wandb.ai. (Learn how to deploy a W&B server locally: https://wandb.me/wandb-server)\n",
            "\u001b[34m\u001b[1mwandb\u001b[0m: You can find your API key in your browser here: https://wandb.ai/authorize\n",
            "\u001b[34m\u001b[1mwandb\u001b[0m: Paste an API key from your profile and hit enter, or press ctrl+c to quit: \n",
            "\u001b[34m\u001b[1mwandb\u001b[0m: Appending key for api.wandb.ai to your netrc file: /root/.netrc\n"
          ]
        }
      ]
    },
    {
      "cell_type": "markdown",
      "metadata": {
        "id": "H0FExfYUeaL0"
      },
      "source": [
        "And then after the follow two lines of code, you'll get this giant white screen but just ignore if for now and keep going on..."
      ]
    },
    {
      "cell_type": "code",
      "metadata": {
        "id": "9KJWzjA6eRG7"
      },
      "source": [
        "import wandb\n",
        "from fastai.callback.wandb import *"
      ],
      "execution_count": null,
      "outputs": []
    },
    {
      "cell_type": "markdown",
      "metadata": {
        "id": "J4hHANabnpDX"
      },
      "source": [
        "## Train the model"
      ]
    },
    {
      "cell_type": "code",
      "metadata": {
        "colab": {
          "base_uri": "https://localhost:8080/",
          "height": 86
        },
        "id": "sHC5omBb5Hqz",
        "outputId": "4fdd61e4-878b-4262-928d-d84f85f990ab"
      },
      "source": [
        "opt_func = partial(OptimWrapper, opt=optim.Adam)  # Optimizer method\n",
        "\n",
        "# note that we'll use the WandB callback for fastai:\n",
        "wandb.init(project='4_nnsfitcurves')  # seems we gotta do this before every setup. Project name is optional\n",
        "learn = Learner(dls, net, loss_func=nn.MSELoss(), opt_func=opt_func, wd=0, cbs=WandbCallback())"
      ],
      "execution_count": null,
      "outputs": [
        {
          "output_type": "stream",
          "name": "stderr",
          "text": [
            "\u001b[34m\u001b[1mwandb\u001b[0m: Currently logged in as: \u001b[33mdrscotthawley\u001b[0m. Use \u001b[1m`wandb login --relogin`\u001b[0m to force relogin\n"
          ]
        },
        {
          "output_type": "display_data",
          "data": {
            "text/plain": [
              "<IPython.core.display.HTML object>"
            ],
            "text/html": [
              "Tracking run with wandb version 0.13.2"
            ]
          },
          "metadata": {}
        },
        {
          "output_type": "display_data",
          "data": {
            "text/plain": [
              "<IPython.core.display.HTML object>"
            ],
            "text/html": [
              "Run data is saved locally in <code>/content/wandb/run-20220831_175125-3awjmvz1</code>"
            ]
          },
          "metadata": {}
        },
        {
          "output_type": "display_data",
          "data": {
            "text/plain": [
              "<IPython.core.display.HTML object>"
            ],
            "text/html": [
              "Syncing run <strong><a href=\"https://wandb.ai/drscotthawley/4_nnsfitcurves/runs/3awjmvz1\" target=\"_blank\">glamorous-feather-4</a></strong> to <a href=\"https://wandb.ai/drscotthawley/4_nnsfitcurves\" target=\"_blank\">Weights & Biases</a> (<a href=\"https://wandb.me/run\" target=\"_blank\">docs</a>)<br/>"
            ]
          },
          "metadata": {}
        }
      ]
    },
    {
      "cell_type": "code",
      "metadata": {
        "id": "IRh1pk5ue0PH"
      },
      "source": [
        "# fastai features a \"Learning Rate Finder\" that will suggest what learning rate to use\n",
        "#lr = learn.lr_find().valley\n",
        "#print(\"Suggested learning rate = \",lr)\n",
        "lr = 0.001"
      ],
      "execution_count": null,
      "outputs": []
    },
    {
      "cell_type": "markdown",
      "metadata": {
        "id": "ZJl5LTFy3O3x"
      },
      "source": [
        "Now we'll fit the model to the data points.  Watch both the training loss and the validation loss decrease as we train:"
      ]
    },
    {
      "cell_type": "code",
      "metadata": {
        "colab": {
          "base_uri": "https://localhost:8080/",
          "height": 1000,
          "referenced_widgets": [
            "f0ccdcdbcecd4404825fef6f8e2aeaf4",
            "324dafc900fa48529407159a02f017d8",
            "03d6063ab7df449bb75a9d3d535b02d3",
            "66ca73e5dcbe4c9da4dd6fea59fca663",
            "8f79b0da8aad4815ae5fda82316b179a",
            "21e712bd9e584653b448e322556fc746",
            "6bcade1ef8e2496fa880f5a0fa0683cd",
            "1accfbe7eb454022b3aa548f2d70e28f"
          ]
        },
        "id": "7lN_ukQb50xX",
        "outputId": "45be29cb-b9f8-427a-e016-cd11b7db28e6"
      },
      "source": [
        "epochs = 50\n",
        "learn.fit(epochs, lr=lr)\n",
        "wandb.finish()"
      ],
      "execution_count": null,
      "outputs": [
        {
          "output_type": "stream",
          "name": "stdout",
          "text": [
            "Could not gather input dimensions\n",
            "WandbCallback was not able to prepare a DataLoader for logging prediction samples -> 'myDataset' object has no attribute 'items'\n"
          ]
        },
        {
          "output_type": "display_data",
          "data": {
            "text/plain": [
              "<IPython.core.display.HTML object>"
            ],
            "text/html": [
              "\n",
              "<style>\n",
              "    /* Turns off some styling */\n",
              "    progress {\n",
              "        /* gets rid of default border in Firefox and Opera. */\n",
              "        border: none;\n",
              "        /* Needs to be in here for Safari polyfill so background images work as expected. */\n",
              "        background-size: auto;\n",
              "    }\n",
              "    progress:not([value]), progress:not([value])::-webkit-progress-bar {\n",
              "        background: repeating-linear-gradient(45deg, #7e7e7e, #7e7e7e 10px, #5c5c5c 10px, #5c5c5c 20px);\n",
              "    }\n",
              "    .progress-bar-interrupted, .progress-bar-interrupted::-webkit-progress-bar {\n",
              "        background: #F44336;\n",
              "    }\n",
              "</style>\n"
            ]
          },
          "metadata": {}
        },
        {
          "output_type": "display_data",
          "data": {
            "text/plain": [
              "<IPython.core.display.HTML object>"
            ],
            "text/html": [
              "<table border=\"1\" class=\"dataframe\">\n",
              "  <thead>\n",
              "    <tr style=\"text-align: left;\">\n",
              "      <th>epoch</th>\n",
              "      <th>train_loss</th>\n",
              "      <th>valid_loss</th>\n",
              "      <th>time</th>\n",
              "    </tr>\n",
              "  </thead>\n",
              "  <tbody>\n",
              "    <tr>\n",
              "      <td>0</td>\n",
              "      <td>0.109683</td>\n",
              "      <td>0.095366</td>\n",
              "      <td>00:00</td>\n",
              "    </tr>\n",
              "    <tr>\n",
              "      <td>1</td>\n",
              "      <td>0.081597</td>\n",
              "      <td>0.069767</td>\n",
              "      <td>00:00</td>\n",
              "    </tr>\n",
              "    <tr>\n",
              "      <td>2</td>\n",
              "      <td>0.067629</td>\n",
              "      <td>0.062660</td>\n",
              "      <td>00:00</td>\n",
              "    </tr>\n",
              "    <tr>\n",
              "      <td>3</td>\n",
              "      <td>0.060551</td>\n",
              "      <td>0.059597</td>\n",
              "      <td>00:00</td>\n",
              "    </tr>\n",
              "    <tr>\n",
              "      <td>4</td>\n",
              "      <td>0.056391</td>\n",
              "      <td>0.057484</td>\n",
              "      <td>00:00</td>\n",
              "    </tr>\n",
              "    <tr>\n",
              "      <td>5</td>\n",
              "      <td>0.053612</td>\n",
              "      <td>0.055710</td>\n",
              "      <td>00:00</td>\n",
              "    </tr>\n",
              "    <tr>\n",
              "      <td>6</td>\n",
              "      <td>0.051519</td>\n",
              "      <td>0.054129</td>\n",
              "      <td>00:00</td>\n",
              "    </tr>\n",
              "    <tr>\n",
              "      <td>7</td>\n",
              "      <td>0.049785</td>\n",
              "      <td>0.052688</td>\n",
              "      <td>00:00</td>\n",
              "    </tr>\n",
              "    <tr>\n",
              "      <td>8</td>\n",
              "      <td>0.048254</td>\n",
              "      <td>0.051336</td>\n",
              "      <td>00:00</td>\n",
              "    </tr>\n",
              "    <tr>\n",
              "      <td>9</td>\n",
              "      <td>0.046826</td>\n",
              "      <td>0.050028</td>\n",
              "      <td>00:00</td>\n",
              "    </tr>\n",
              "    <tr>\n",
              "      <td>10</td>\n",
              "      <td>0.045453</td>\n",
              "      <td>0.048775</td>\n",
              "      <td>00:00</td>\n",
              "    </tr>\n",
              "    <tr>\n",
              "      <td>11</td>\n",
              "      <td>0.044109</td>\n",
              "      <td>0.047576</td>\n",
              "      <td>00:00</td>\n",
              "    </tr>\n",
              "    <tr>\n",
              "      <td>12</td>\n",
              "      <td>0.042816</td>\n",
              "      <td>0.046431</td>\n",
              "      <td>00:00</td>\n",
              "    </tr>\n",
              "    <tr>\n",
              "      <td>13</td>\n",
              "      <td>0.041567</td>\n",
              "      <td>0.045282</td>\n",
              "      <td>00:00</td>\n",
              "    </tr>\n",
              "    <tr>\n",
              "      <td>14</td>\n",
              "      <td>0.040353</td>\n",
              "      <td>0.044181</td>\n",
              "      <td>00:00</td>\n",
              "    </tr>\n",
              "    <tr>\n",
              "      <td>15</td>\n",
              "      <td>0.039209</td>\n",
              "      <td>0.043113</td>\n",
              "      <td>00:00</td>\n",
              "    </tr>\n",
              "    <tr>\n",
              "      <td>16</td>\n",
              "      <td>0.038097</td>\n",
              "      <td>0.042081</td>\n",
              "      <td>00:00</td>\n",
              "    </tr>\n",
              "    <tr>\n",
              "      <td>17</td>\n",
              "      <td>0.037042</td>\n",
              "      <td>0.041116</td>\n",
              "      <td>00:00</td>\n",
              "    </tr>\n",
              "    <tr>\n",
              "      <td>18</td>\n",
              "      <td>0.036027</td>\n",
              "      <td>0.040202</td>\n",
              "      <td>00:00</td>\n",
              "    </tr>\n",
              "    <tr>\n",
              "      <td>19</td>\n",
              "      <td>0.035078</td>\n",
              "      <td>0.039340</td>\n",
              "      <td>00:00</td>\n",
              "    </tr>\n",
              "    <tr>\n",
              "      <td>20</td>\n",
              "      <td>0.034192</td>\n",
              "      <td>0.038576</td>\n",
              "      <td>00:00</td>\n",
              "    </tr>\n",
              "    <tr>\n",
              "      <td>21</td>\n",
              "      <td>0.033371</td>\n",
              "      <td>0.037859</td>\n",
              "      <td>00:00</td>\n",
              "    </tr>\n",
              "    <tr>\n",
              "      <td>22</td>\n",
              "      <td>0.032605</td>\n",
              "      <td>0.037155</td>\n",
              "      <td>00:00</td>\n",
              "    </tr>\n",
              "    <tr>\n",
              "      <td>23</td>\n",
              "      <td>0.031887</td>\n",
              "      <td>0.036475</td>\n",
              "      <td>00:00</td>\n",
              "    </tr>\n",
              "    <tr>\n",
              "      <td>24</td>\n",
              "      <td>0.031198</td>\n",
              "      <td>0.035824</td>\n",
              "      <td>00:00</td>\n",
              "    </tr>\n",
              "    <tr>\n",
              "      <td>25</td>\n",
              "      <td>0.030559</td>\n",
              "      <td>0.035216</td>\n",
              "      <td>00:00</td>\n",
              "    </tr>\n",
              "    <tr>\n",
              "      <td>26</td>\n",
              "      <td>0.029956</td>\n",
              "      <td>0.034619</td>\n",
              "      <td>00:00</td>\n",
              "    </tr>\n",
              "    <tr>\n",
              "      <td>27</td>\n",
              "      <td>0.029387</td>\n",
              "      <td>0.034042</td>\n",
              "      <td>00:00</td>\n",
              "    </tr>\n",
              "    <tr>\n",
              "      <td>28</td>\n",
              "      <td>0.028852</td>\n",
              "      <td>0.033493</td>\n",
              "      <td>00:00</td>\n",
              "    </tr>\n",
              "    <tr>\n",
              "      <td>29</td>\n",
              "      <td>0.028336</td>\n",
              "      <td>0.032937</td>\n",
              "      <td>00:00</td>\n",
              "    </tr>\n",
              "    <tr>\n",
              "      <td>30</td>\n",
              "      <td>0.027838</td>\n",
              "      <td>0.032389</td>\n",
              "      <td>00:00</td>\n",
              "    </tr>\n",
              "    <tr>\n",
              "      <td>31</td>\n",
              "      <td>0.027353</td>\n",
              "      <td>0.031857</td>\n",
              "      <td>00:00</td>\n",
              "    </tr>\n",
              "    <tr>\n",
              "      <td>32</td>\n",
              "      <td>0.026886</td>\n",
              "      <td>0.031327</td>\n",
              "      <td>00:00</td>\n",
              "    </tr>\n",
              "    <tr>\n",
              "      <td>33</td>\n",
              "      <td>0.026424</td>\n",
              "      <td>0.030828</td>\n",
              "      <td>00:00</td>\n",
              "    </tr>\n",
              "    <tr>\n",
              "      <td>34</td>\n",
              "      <td>0.025989</td>\n",
              "      <td>0.030342</td>\n",
              "      <td>00:00</td>\n",
              "    </tr>\n",
              "    <tr>\n",
              "      <td>35</td>\n",
              "      <td>0.025571</td>\n",
              "      <td>0.029856</td>\n",
              "      <td>00:00</td>\n",
              "    </tr>\n",
              "    <tr>\n",
              "      <td>36</td>\n",
              "      <td>0.025163</td>\n",
              "      <td>0.029395</td>\n",
              "      <td>00:00</td>\n",
              "    </tr>\n",
              "    <tr>\n",
              "      <td>37</td>\n",
              "      <td>0.024765</td>\n",
              "      <td>0.028936</td>\n",
              "      <td>00:00</td>\n",
              "    </tr>\n",
              "    <tr>\n",
              "      <td>38</td>\n",
              "      <td>0.024376</td>\n",
              "      <td>0.028476</td>\n",
              "      <td>00:00</td>\n",
              "    </tr>\n",
              "    <tr>\n",
              "      <td>39</td>\n",
              "      <td>0.023994</td>\n",
              "      <td>0.028020</td>\n",
              "      <td>00:00</td>\n",
              "    </tr>\n",
              "    <tr>\n",
              "      <td>40</td>\n",
              "      <td>0.023619</td>\n",
              "      <td>0.027561</td>\n",
              "      <td>00:00</td>\n",
              "    </tr>\n",
              "    <tr>\n",
              "      <td>41</td>\n",
              "      <td>0.023252</td>\n",
              "      <td>0.027104</td>\n",
              "      <td>00:00</td>\n",
              "    </tr>\n",
              "    <tr>\n",
              "      <td>42</td>\n",
              "      <td>0.022888</td>\n",
              "      <td>0.026664</td>\n",
              "      <td>00:00</td>\n",
              "    </tr>\n",
              "    <tr>\n",
              "      <td>43</td>\n",
              "      <td>0.022533</td>\n",
              "      <td>0.026216</td>\n",
              "      <td>00:00</td>\n",
              "    </tr>\n",
              "    <tr>\n",
              "      <td>44</td>\n",
              "      <td>0.022184</td>\n",
              "      <td>0.025784</td>\n",
              "      <td>00:00</td>\n",
              "    </tr>\n",
              "    <tr>\n",
              "      <td>45</td>\n",
              "      <td>0.021842</td>\n",
              "      <td>0.025361</td>\n",
              "      <td>00:00</td>\n",
              "    </tr>\n",
              "    <tr>\n",
              "      <td>46</td>\n",
              "      <td>0.021503</td>\n",
              "      <td>0.024937</td>\n",
              "      <td>00:00</td>\n",
              "    </tr>\n",
              "    <tr>\n",
              "      <td>47</td>\n",
              "      <td>0.021167</td>\n",
              "      <td>0.024504</td>\n",
              "      <td>00:00</td>\n",
              "    </tr>\n",
              "    <tr>\n",
              "      <td>48</td>\n",
              "      <td>0.020835</td>\n",
              "      <td>0.024052</td>\n",
              "      <td>00:00</td>\n",
              "    </tr>\n",
              "    <tr>\n",
              "      <td>49</td>\n",
              "      <td>0.020479</td>\n",
              "      <td>0.023349</td>\n",
              "      <td>00:00</td>\n",
              "    </tr>\n",
              "  </tbody>\n",
              "</table>"
            ]
          },
          "metadata": {}
        },
        {
          "output_type": "display_data",
          "data": {
            "text/plain": [
              "<IPython.core.display.HTML object>"
            ],
            "text/html": [
              "Waiting for W&B process to finish... <strong style=\"color:green\">(success).</strong>"
            ]
          },
          "metadata": {}
        },
        {
          "output_type": "display_data",
          "data": {
            "text/plain": [
              "VBox(children=(Label(value='0.001 MB of 0.001 MB uploaded (0.000 MB deduped)\\r'), FloatProgress(value=1.0, max…"
            ],
            "application/vnd.jupyter.widget-view+json": {
              "version_major": 2,
              "version_minor": 0,
              "model_id": "f0ccdcdbcecd4404825fef6f8e2aeaf4"
            }
          },
          "metadata": {}
        },
        {
          "output_type": "display_data",
          "data": {
            "text/plain": [
              "<IPython.core.display.HTML object>"
            ],
            "text/html": [
              "<style>\n",
              "    table.wandb td:nth-child(1) { padding: 0 10px; text-align: left ; width: auto;} td:nth-child(2) {text-align: left ; width: 100%}\n",
              "    .wandb-row { display: flex; flex-direction: row; flex-wrap: wrap; justify-content: flex-start; width: 100% }\n",
              "    .wandb-col { display: flex; flex-direction: column; flex-basis: 100%; flex: 1; padding: 10px; }\n",
              "    </style>\n",
              "<div class=\"wandb-row\"><div class=\"wandb-col\"><h3>Run history:</h3><br/><table class=\"wandb\"><tr><td>amsgrad_0</td><td>▁▁▁▁▁▁▁▁▁▁▁▁▁▁▁▁▁▁▁▁▁▁▁▁▁▁▁▁▁▁▁▁▁▁▁▁▁▁▁▁</td></tr><tr><td>amsgrad_1</td><td>▁▁▁▁▁▁▁▁▁▁▁▁▁▁▁▁▁▁▁▁▁▁▁▁▁▁▁▁▁▁▁▁▁▁▁▁▁▁▁▁</td></tr><tr><td>amsgrad_2</td><td>▁▁▁▁▁▁▁▁▁▁▁▁▁▁▁▁▁▁▁▁▁▁▁▁▁▁▁▁▁▁▁▁▁▁▁▁▁▁▁▁</td></tr><tr><td>amsgrad_3</td><td>▁▁▁▁▁▁▁▁▁▁▁▁▁▁▁▁▁▁▁▁▁▁▁▁▁▁▁▁▁▁▁▁▁▁▁▁▁▁▁▁</td></tr><tr><td>capturable_0</td><td>▁▁▁▁▁▁▁▁▁▁▁▁▁▁▁▁▁▁▁▁▁▁▁▁▁▁▁▁▁▁▁▁▁▁▁▁▁▁▁▁</td></tr><tr><td>capturable_1</td><td>▁▁▁▁▁▁▁▁▁▁▁▁▁▁▁▁▁▁▁▁▁▁▁▁▁▁▁▁▁▁▁▁▁▁▁▁▁▁▁▁</td></tr><tr><td>capturable_2</td><td>▁▁▁▁▁▁▁▁▁▁▁▁▁▁▁▁▁▁▁▁▁▁▁▁▁▁▁▁▁▁▁▁▁▁▁▁▁▁▁▁</td></tr><tr><td>capturable_3</td><td>▁▁▁▁▁▁▁▁▁▁▁▁▁▁▁▁▁▁▁▁▁▁▁▁▁▁▁▁▁▁▁▁▁▁▁▁▁▁▁▁</td></tr><tr><td>epoch</td><td>▁▁▁▂▂▂▂▂▂▃▃▃▃▃▄▄▄▄▄▄▅▅▅▅▅▅▆▆▆▆▆▇▇▇▇▇▇███</td></tr><tr><td>eps_0</td><td>▁▁▁▁▁▁▁▁▁▁▁▁▁▁▁▁▁▁▁▁▁▁▁▁▁▁▁▁▁▁▁▁▁▁▁▁▁▁▁▁</td></tr><tr><td>eps_1</td><td>▁▁▁▁▁▁▁▁▁▁▁▁▁▁▁▁▁▁▁▁▁▁▁▁▁▁▁▁▁▁▁▁▁▁▁▁▁▁▁▁</td></tr><tr><td>eps_2</td><td>▁▁▁▁▁▁▁▁▁▁▁▁▁▁▁▁▁▁▁▁▁▁▁▁▁▁▁▁▁▁▁▁▁▁▁▁▁▁▁▁</td></tr><tr><td>eps_3</td><td>▁▁▁▁▁▁▁▁▁▁▁▁▁▁▁▁▁▁▁▁▁▁▁▁▁▁▁▁▁▁▁▁▁▁▁▁▁▁▁▁</td></tr><tr><td>lr_0</td><td>▁▁▁▁▁▁▁▁▁▁▁▁▁▁▁▁▁▁▁▁▁▁▁▁▁▁▁▁▁▁▁▁▁▁▁▁▁▁▁▁</td></tr><tr><td>lr_1</td><td>▁▁▁▁▁▁▁▁▁▁▁▁▁▁▁▁▁▁▁▁▁▁▁▁▁▁▁▁▁▁▁▁▁▁▁▁▁▁▁▁</td></tr><tr><td>lr_2</td><td>▁▁▁▁▁▁▁▁▁▁▁▁▁▁▁▁▁▁▁▁▁▁▁▁▁▁▁▁▁▁▁▁▁▁▁▁▁▁▁▁</td></tr><tr><td>lr_3</td><td>▁▁▁▁▁▁▁▁▁▁▁▁▁▁▁▁▁▁▁▁▁▁▁▁▁▁▁▁▁▁▁▁▁▁▁▁▁▁▁▁</td></tr><tr><td>maximize_0</td><td>▁▁▁▁▁▁▁▁▁▁▁▁▁▁▁▁▁▁▁▁▁▁▁▁▁▁▁▁▁▁▁▁▁▁▁▁▁▁▁▁</td></tr><tr><td>maximize_1</td><td>▁▁▁▁▁▁▁▁▁▁▁▁▁▁▁▁▁▁▁▁▁▁▁▁▁▁▁▁▁▁▁▁▁▁▁▁▁▁▁▁</td></tr><tr><td>maximize_2</td><td>▁▁▁▁▁▁▁▁▁▁▁▁▁▁▁▁▁▁▁▁▁▁▁▁▁▁▁▁▁▁▁▁▁▁▁▁▁▁▁▁</td></tr><tr><td>maximize_3</td><td>▁▁▁▁▁▁▁▁▁▁▁▁▁▁▁▁▁▁▁▁▁▁▁▁▁▁▁▁▁▁▁▁▁▁▁▁▁▁▁▁</td></tr><tr><td>mom_0</td><td>▁▁▁▁▁▁▁▁▁▁▁▁▁▁▁▁▁▁▁▁▁▁▁▁▁▁▁▁▁▁▁▁▁▁▁▁▁▁▁▁</td></tr><tr><td>mom_1</td><td>▁▁▁▁▁▁▁▁▁▁▁▁▁▁▁▁▁▁▁▁▁▁▁▁▁▁▁▁▁▁▁▁▁▁▁▁▁▁▁▁</td></tr><tr><td>mom_2</td><td>▁▁▁▁▁▁▁▁▁▁▁▁▁▁▁▁▁▁▁▁▁▁▁▁▁▁▁▁▁▁▁▁▁▁▁▁▁▁▁▁</td></tr><tr><td>mom_3</td><td>▁▁▁▁▁▁▁▁▁▁▁▁▁▁▁▁▁▁▁▁▁▁▁▁▁▁▁▁▁▁▁▁▁▁▁▁▁▁▁▁</td></tr><tr><td>raw_loss</td><td>█▃▇▄▃▄▃▃▄▂▄▃▂▄▃▃▂▂▂▂▂▃▂▂▂▂▂▁▂▂▁▁▂▂▁▂▁▂▁▁</td></tr><tr><td>sqr_mom_0</td><td>▁▁▁▁▁▁▁▁▁▁▁▁▁▁▁▁▁▁▁▁▁▁▁▁▁▁▁▁▁▁▁▁▁▁▁▁▁▁▁▁</td></tr><tr><td>sqr_mom_1</td><td>▁▁▁▁▁▁▁▁▁▁▁▁▁▁▁▁▁▁▁▁▁▁▁▁▁▁▁▁▁▁▁▁▁▁▁▁▁▁▁▁</td></tr><tr><td>sqr_mom_2</td><td>▁▁▁▁▁▁▁▁▁▁▁▁▁▁▁▁▁▁▁▁▁▁▁▁▁▁▁▁▁▁▁▁▁▁▁▁▁▁▁▁</td></tr><tr><td>sqr_mom_3</td><td>▁▁▁▁▁▁▁▁▁▁▁▁▁▁▁▁▁▁▁▁▁▁▁▁▁▁▁▁▁▁▁▁▁▁▁▁▁▁▁▁</td></tr><tr><td>train_loss</td><td>█▆▅▄▄▄▃▃▃▃▃▃▃▂▂▂▂▂▂▂▂▂▂▂▂▂▂▂▁▁▁▁▁▁▁▁▁▁▁▁</td></tr><tr><td>train_samples_per_sec</td><td>▄▄▇▆▃▅▆█▆▆▆▆▆▁▃▆▄▆▆▅▄▅▇▄▆▃▇▇▇▆▆▆▄▆▇▄▅█▆▇</td></tr><tr><td>valid_loss</td><td>█▆▅▅▄▄▄▄▃▃▃▃▃▃▃▃▂▂▂▂▂▂▂▂▂▂▂▂▂▂▂▁▁▁▁▁▁▁▁▁</td></tr><tr><td>wd_0</td><td>▁▁▁▁▁▁▁▁▁▁▁▁▁▁▁▁▁▁▁▁▁▁▁▁▁▁▁▁▁▁▁▁▁▁▁▁▁▁▁▁</td></tr><tr><td>wd_1</td><td>▁▁▁▁▁▁▁▁▁▁▁▁▁▁▁▁▁▁▁▁▁▁▁▁▁▁▁▁▁▁▁▁▁▁▁▁▁▁▁▁</td></tr><tr><td>wd_2</td><td>▁▁▁▁▁▁▁▁▁▁▁▁▁▁▁▁▁▁▁▁▁▁▁▁▁▁▁▁▁▁▁▁▁▁▁▁▁▁▁▁</td></tr><tr><td>wd_3</td><td>▁▁▁▁▁▁▁▁▁▁▁▁▁▁▁▁▁▁▁▁▁▁▁▁▁▁▁▁▁▁▁▁▁▁▁▁▁▁▁▁</td></tr></table><br/></div><div class=\"wandb-col\"><h3>Run summary:</h3><br/><table class=\"wandb\"><tr><td>amsgrad_0</td><td>False</td></tr><tr><td>amsgrad_1</td><td>False</td></tr><tr><td>amsgrad_2</td><td>False</td></tr><tr><td>amsgrad_3</td><td>False</td></tr><tr><td>capturable_0</td><td>False</td></tr><tr><td>capturable_1</td><td>False</td></tr><tr><td>capturable_2</td><td>False</td></tr><tr><td>capturable_3</td><td>False</td></tr><tr><td>epoch</td><td>50</td></tr><tr><td>eps_0</td><td>0.0</td></tr><tr><td>eps_1</td><td>0.0</td></tr><tr><td>eps_2</td><td>0.0</td></tr><tr><td>eps_3</td><td>0.0</td></tr><tr><td>lr_0</td><td>0.001</td></tr><tr><td>lr_1</td><td>0.001</td></tr><tr><td>lr_2</td><td>0.001</td></tr><tr><td>lr_3</td><td>0.001</td></tr><tr><td>maximize_0</td><td>False</td></tr><tr><td>maximize_1</td><td>False</td></tr><tr><td>maximize_2</td><td>False</td></tr><tr><td>maximize_3</td><td>False</td></tr><tr><td>mom_0</td><td>0.9</td></tr><tr><td>mom_1</td><td>0.9</td></tr><tr><td>mom_2</td><td>0.9</td></tr><tr><td>mom_3</td><td>0.9</td></tr><tr><td>raw_loss</td><td>0.02132</td></tr><tr><td>sqr_mom_0</td><td>0.999</td></tr><tr><td>sqr_mom_1</td><td>0.999</td></tr><tr><td>sqr_mom_2</td><td>0.999</td></tr><tr><td>sqr_mom_3</td><td>0.999</td></tr><tr><td>train_loss</td><td>0.02048</td></tr><tr><td>train_samples_per_sec</td><td>2884.52441</td></tr><tr><td>valid_loss</td><td>0.02335</td></tr><tr><td>wd_0</td><td>0</td></tr><tr><td>wd_1</td><td>0</td></tr><tr><td>wd_2</td><td>0</td></tr><tr><td>wd_3</td><td>0</td></tr></table><br/></div></div>"
            ]
          },
          "metadata": {}
        },
        {
          "output_type": "display_data",
          "data": {
            "text/plain": [
              "<IPython.core.display.HTML object>"
            ],
            "text/html": [
              "Synced <strong style=\"color:#cdcd00\">glamorous-feather-4</strong>: <a href=\"https://wandb.ai/drscotthawley/4_nnsfitcurves/runs/3awjmvz1\" target=\"_blank\">https://wandb.ai/drscotthawley/4_nnsfitcurves/runs/3awjmvz1</a><br/>Synced 5 W&B file(s), 0 media file(s), 0 artifact file(s) and 0 other file(s)"
            ]
          },
          "metadata": {}
        },
        {
          "output_type": "display_data",
          "data": {
            "text/plain": [
              "<IPython.core.display.HTML object>"
            ],
            "text/html": [
              "Find logs at: <code>./wandb/run-20220831_175125-3awjmvz1/logs</code>"
            ]
          },
          "metadata": {}
        }
      ]
    },
    {
      "cell_type": "markdown",
      "metadata": {
        "id": "NyOpWQBs3lzi"
      },
      "source": [
        "...and if the `valid_loss` was still decreasing by the time that stopped, we may want to re-run the training but with more epochs.\n",
        "\n",
        "OK! NOW go to your WandB page in another brower tab and check out all the data it generated!  In particular, see if you can find the graph for \"valid_loss\" as a function of time.  (Might have to press the down-arrrow in the bottom right in the WandB page)"
      ]
    },
    {
      "cell_type": "markdown",
      "metadata": {
        "id": "g5auOGai32SQ"
      },
      "source": [
        "And use this model to predict the death-probability for a wide range of possibile input values, and then plot the results:"
      ]
    },
    {
      "cell_type": "code",
      "metadata": {
        "colab": {
          "base_uri": "https://localhost:8080/",
          "height": 517
        },
        "id": "o0EbBQpLGmTX",
        "outputId": "48d87994-c44d-4e46-9dfd-d26dcc698185"
      },
      "source": [
        "def predict(model, c, e=-0.5):  # one prediction from the model\n",
        "    # e=-0.5 means, if we weren't given a value for exercise, just assume it's -0.5\n",
        "    if df2.shape[1] > 2:  # for two different cases of whether we included exercise or not\n",
        "        return model.forward(Tensor([[c,e]])).item()\n",
        "    else:\n",
        "        return model.forward(Tensor([[c]])).item()\n",
        "\n",
        "\n",
        "def predict_surface(model, show_points=True):\n",
        "    # do a whole bunch of predictions across an entire surface\n",
        "    outs = []\n",
        "    ins_c = np.arange(0,1,0.05)  # calorie range\n",
        "    ins_e = np.arange(df['exercise'].min(),1,0.05)  # exercise range\n",
        "    for e in ins_e:\n",
        "        outs_c = []\n",
        "        for c in ins_c:\n",
        "            outs_c.append(predict(model, c, e))\n",
        "        outs.append(outs_c)\n",
        "\n",
        "    # draw the surface\n",
        "    if show_points: \n",
        "        fig = go.Figure(data=[\n",
        "            go.Surface(x=ins_c, y=ins_e, z=np.array(outs), opacity=0.65, colorscale='Viridis'),    # fit\n",
        "            go.Scatter3d(x=df['calories'], y=df['exercise'], z=df['death_prob'], mode='markers',  # points\n",
        "            marker=dict( size=5, color=df['death_prob'],  opacity=0.8) ) ])\n",
        "    else:\n",
        "        fig = go.Figure(data=[go.Surface(x=ins_c, y=ins_e, z=np.array(outs), opacity=0.65, colorscale='Viridis')])\n",
        "    fig.update_layout(scene = dict(xaxis_title='calories', yaxis_title=\"exercise\", zaxis_title=\"risk of death!\" ),\n",
        "        autosize=False, width=600, height=500, margin=dict(l=20, r=20, b=25, t=20))\n",
        "    fig.show()\n",
        "\n",
        "predict_surface(learn.model, show_points=True)"
      ],
      "execution_count": null,
      "outputs": [
        {
          "output_type": "display_data",
          "data": {
            "text/html": [
              "<html>\n",
              "<head><meta charset=\"utf-8\" /></head>\n",
              "<body>\n",
              "    <div>            <script src=\"https://cdnjs.cloudflare.com/ajax/libs/mathjax/2.7.5/MathJax.js?config=TeX-AMS-MML_SVG\"></script><script type=\"text/javascript\">if (window.MathJax) {MathJax.Hub.Config({SVG: {font: \"STIX-Web\"}});}</script>                <script type=\"text/javascript\">window.PlotlyConfig = {MathJaxConfig: 'local'};</script>\n",
              "        <script src=\"https://cdn.plot.ly/plotly-2.8.3.min.js\"></script>                <div id=\"e30f42fb-caac-4102-89c4-bba7e5c7aabd\" class=\"plotly-graph-div\" style=\"height:500px; width:600px;\"></div>            <script type=\"text/javascript\">                                    window.PLOTLYENV=window.PLOTLYENV || {};                                    if (document.getElementById(\"e30f42fb-caac-4102-89c4-bba7e5c7aabd\")) {                    Plotly.newPlot(                        \"e30f42fb-caac-4102-89c4-bba7e5c7aabd\",                        [{\"colorscale\":[[0.0,\"#440154\"],[0.1111111111111111,\"#482878\"],[0.2222222222222222,\"#3e4989\"],[0.3333333333333333,\"#31688e\"],[0.4444444444444444,\"#26828e\"],[0.5555555555555556,\"#1f9e89\"],[0.6666666666666666,\"#35b779\"],[0.7777777777777778,\"#6ece58\"],[0.8888888888888888,\"#b5de2b\"],[1.0,\"#fde725\"]],\"opacity\":0.65,\"x\":[0.0,0.05,0.1,0.15000000000000002,0.2,0.25,0.30000000000000004,0.35000000000000003,0.4,0.45,0.5,0.55,0.6000000000000001,0.65,0.7000000000000001,0.75,0.8,0.8500000000000001,0.9,0.9500000000000001],\"y\":[0.05,0.1,0.15000000000000002,0.2,0.25,0.3,0.35000000000000003,0.4,0.45,0.5,0.55,0.6000000000000001,0.6500000000000001,0.7000000000000001,0.7500000000000001,0.8,0.8500000000000001,0.9000000000000001,0.9500000000000001],\"z\":[[0.44903764128685,0.4478863775730133,0.4466263949871063,0.44511741399765015,0.46404051780700684,0.5008881688117981,0.5377358198165894,0.5745834708213806,0.6114311218261719,0.6482787728309631,0.6851264238357544,0.7219740748405457,0.7683820724487305,0.824752688407898,0.8811233639717102,0.9374940395355225,0.9938647747039795,1.050235390663147,1.106606125831604,1.1629767417907715],[0.42816466093063354,0.426655650138855,0.4251466691493988,0.4236376881599426,0.42212867736816406,0.43218994140625,0.46903765201568604,0.5058852434158325,0.5427328944206238,0.579580545425415,0.6164281964302063,0.6532758474349976,0.7057227492332458,0.7620933651924133,0.8184640407562256,0.8748347163200378,0.9312053918838501,0.9875761270523071,1.0439467430114746,1.1003174781799316],[0.40668490529060364,0.40517592430114746,0.4036669433116913,0.4021579325199127,0.40064895153045654,0.399139940738678,0.40033939480781555,0.4371870458126068,0.4740346670150757,0.5108823776245117,0.547730028629303,0.5866928100585938,0.643063485622406,0.6994341015815735,0.7558047771453857,0.8121755123138428,0.868546187877655,0.9249168634414673,0.9812874794006348,1.0376582145690918],[0.3852051794528961,0.38369619846343994,0.38218721747398376,0.3806782066822052,0.379169225692749,0.37766021490097046,0.3761512041091919,0.3746422529220581,0.40533649921417236,0.4421841502189636,0.4790318012237549,0.5240335464477539,0.5804042220115662,0.6367748379707336,0.6931455135345459,0.7495161890983582,0.8058868646621704,0.8622575402259827,0.9186280965805054,0.9749988317489624],[0.3637254536151886,0.3622164726257324,0.36070746183395386,0.3591984808444977,0.3576894998550415,0.35618048906326294,0.3546714782714844,0.3531624972820282,0.351653516292572,0.3734859228134155,0.4103335738182068,0.46137428283691406,0.5177448987960815,0.5741155743598938,0.630486249923706,0.6868569254875183,0.7432275414466858,0.7995982766151428,0.8559688925743103,0.9123396277427673],[0.3422457277774811,0.3407367169857025,0.33922773599624634,0.3377187252044678,0.3362097442150116,0.3347007632255554,0.33319175243377686,0.3316827714443207,0.3301737606525421,0.32866477966308594,0.3423443138599396,0.39871495962142944,0.4550856947898865,0.511456310749054,0.5678269267082214,0.6241976022720337,0.6805683374404907,0.736939013004303,0.7933095693588257,0.8496802449226379],[0.32076600193977356,0.3192570209503174,0.3177480101585388,0.31623899936676025,0.3147300183773041,0.3132210373878479,0.31171202659606934,0.31020304560661316,0.3086940348148346,0.3071850538253784,0.3124239444732666,0.3360557556152344,0.39242640137672424,0.4487970173358917,0.5051676630973816,0.5615383982658386,0.6179090738296509,0.6742797493934631,0.7306503057479858,0.7870209813117981],[0.29928624629974365,0.2977772653102875,0.2962682843208313,0.29475927352905273,0.29325029253959656,0.291741281747818,0.2902323007583618,0.28872328996658325,0.2872143089771271,0.2857052981853485,0.29698315262794495,0.3149971663951874,0.3330111801624298,0.3861377239227295,0.44250839948654175,0.4988791346549988,0.5552497506141663,0.6116204261779785,0.667991042137146,0.7243617177009583],[0.27780652046203613,0.27629753947257996,0.2747885584831238,0.2732795476913452,0.27177056670188904,0.2702615559101105,0.2687525749206543,0.26724356412887573,0.26573458313941956,0.2642256021499634,0.2815423309803009,0.2995563745498657,0.31757038831710815,0.3355844020843506,0.3798491358757019,0.43621987104415894,0.4925905466079712,0.5489612221717834,0.6053317785263062,0.6617024540901184],[0.2563267946243286,0.25481778383255005,0.25330880284309387,0.2517998218536377,0.25029081106185913,0.24878181517124176,0.24727283418178558,0.2457638382911682,0.24425484240055084,0.24808752536773682,0.26610153913497925,0.2841155529022217,0.3021296262741089,0.32014358043670654,0.338157594203949,0.3735605478286743,0.42993125319480896,0.48682111501693726,0.5447007417678833,0.6025804281234741],[0.2348470687866211,0.23333807289600372,0.23182907700538635,0.23119314014911652,0.23119314014911652,0.23119314014911652,0.23119314014911652,0.23119314014911652,0.23119314014911652,0.24257376790046692,0.2620967626571655,0.2816197872161865,0.30114278197288513,0.32066580653190613,0.34018877148628235,0.35971182584762573,0.3877618908882141,0.44564157724380493,0.5035211443901062,0.561400830745697],[0.23119314014911652,0.23119314014911652,0.23119314014911652,0.23119314014911652,0.23119314014911652,0.23119314014911652,0.23119314014911652,0.23119314014911652,0.23119314014911652,0.24861270189285278,0.2681357264518738,0.2876587212085724,0.307181715965271,0.326704740524292,0.3462277054786682,0.3657507598400116,0.3852737545967102,0.4047967791557312,0.4623416066169739,0.5202212929725647],[0.23119314014911652,0.23119314014911652,0.23119314014911652,0.23119314014911652,0.23119314014911652,0.23119314014911652,0.23119314014911652,0.23119314014911652,0.23512862622737885,0.25465163588523865,0.27417463064193726,0.29369765520095825,0.31322067975997925,0.33274364471435547,0.35226666927337646,0.37178969383239746,0.39131271839141846,0.41083574295043945,0.4303587079048157,0.47904178500175476],[0.23119314014911652,0.23119314014911652,0.23119314014911652,0.23119314014911652,0.23119314014911652,0.23119314014911652,0.23119314014911652,0.23119314014911652,0.2411675602197647,0.2606905698776245,0.2802135646343231,0.2997365891933441,0.3192595839500427,0.33878257870674133,0.35830557346343994,0.3778286576271057,0.3973516523838043,0.41687464714050293,0.43639764189720154,0.45592066645622253],[0.23119314014911652,0.23119314014911652,0.23119314014911652,0.23119314014911652,0.23119314014911652,0.23119314014911652,0.23119314014911652,0.23119314014911652,0.24720649421215057,0.2667295038700104,0.286252498626709,0.30577552318573,0.325298547744751,0.3448215126991272,0.3643445372581482,0.3838675618171692,0.4033905863761902,0.4229136109352112,0.4424365758895874,0.4619596004486084],[0.23119314014911652,0.23119314014911652,0.23119314014911652,0.23119314014911652,0.23119314014911652,0.23119314014911652,0.23119314014911652,0.23372240364551544,0.25324541330337524,0.27276843786239624,0.29229146242141724,0.31181445717811584,0.33133748173713684,0.35086047649383545,0.37038347125053406,0.38990652561187744,0.40942955017089844,0.42895254492759705,0.44847553968429565,0.46799853444099426],[0.23119314014911652,0.23119314014911652,0.23119314014911652,0.23119314014911652,0.23119314014911652,0.23119314014911652,0.23119314014911652,0.2397613376379013,0.2592843770980835,0.2788073718547821,0.2983303964138031,0.3178533911705017,0.3373764157295227,0.3568993806838989,0.3764224052429199,0.3959454596042633,0.4154684543609619,0.4349914789199829,0.4545144736766815,0.4740374684333801],[0.23119314014911652,0.23119314014911652,0.23119314014911652,0.23119314014911652,0.23119314014911652,0.23119314014911652,0.23119314014911652,0.24580025672912598,0.265323281288147,0.2848462760448456,0.3043693006038666,0.3238923251628876,0.3434153199195862,0.3629383444786072,0.3824613094329834,0.4019843637943268,0.4215073585510254,0.4410303831100464,0.460553377866745,0.4800763726234436],[0.23119314014911652,0.23119314014911652,0.23119314014911652,0.23119314014911652,0.23119314014911652,0.23119314014911652,0.23231621086597443,0.25183919072151184,0.2713622450828552,0.29088523983955383,0.31040823459625244,0.32993125915527344,0.34945428371429443,0.36897727847099304,0.38850027322769165,0.40802329778671265,0.42754632234573364,0.44706934690475464,0.46659231185913086,0.48611533641815186]],\"type\":\"surface\"},{\"marker\":{\"color\":[0.7963289218726609,0.95,0.8374708388010617,0.7731047938634492,0.2100838187468362,0.4710397198901133,0.7243163094450482,0.6606796531188589,0.6419841678995071,0.47941613448851245,0.41165745068563425,0.2476853629404794,0.3613400127865251,0.45067600214602677,0.41958416635903906,0.21746291791063213,0.5040498995285058,0.504773384885581,0.5022639721258529,0.48851458236007833,0.32924930572590644,0.44800701419191535,0.4317484959939039,0.19695851301433911,0.22414477485627474,0.3463033691212989,0.4095506663031099,0.3771521991725676,0.28509793226393076,0.10534091075258313,0.11221824540931948,0.37630007916845437,0.37452877175700927,0.37093144018138735,0.2283592317762059,0.12916008945763557,0.09513764047344998,0.23690485519414214,0.3508328957155223,0.32386870199679363,0.3342656867888549,0.3238134606942762,0.16591198481823763,0.25182772029704825,0.08341993225071011,0.09751867333235635,0.14131572251465765,0.3027998218782933,0.3218053605832753,0.30082225701146814,0.20883523696738804,0.12196896250668506,0.26558076377893425,0.3198371404982752,0.3185762928253492,0.31676511951795505,0.3020145879755322,0.2960072324921016,0.23711440191764752,0.18003007783546893,0.13585328650527365,0.31893794260881425,0.32741166846664543,0.31280638526438004,0.21361801273747638,0.1384159968492536,0.08195447923875288,0.3173592788606252,0.24916165839694304,0.1427556904623841,0.1048253785814643,0.09581493045898555,0.11382370327317366,0.29931994329325445,0.35159660712388946,0.3304414955277893,0.24481972388563775,0.13445925829806166,0.17439093980468798,0.3568813865606345,0.29949269221570385,0.38755466924367227,0.3577681261181445,0.25340843026037674,0.19939731000214436,0.32226555936573753,0.36271695194167075,0.41047939777792586,0.41046753956235843,0.37800746116329864,0.3028000779559857,0.2299021955736589,0.12342375301307147,0.21534894988858305,0.45943583074134203,0.4591114705293844,0.3568315882397822,0.21465991615952637,0.11615634251866201,0.12592037168727904,0.48592944462834625,0.48352768045984823,0.478883419394282,0.4751571060303649,0.3946655134073982,0.3169670968372219,0.22698468605808836,0.13315013136646284,0.3058511488565124,0.3394578794758633,0.45369184881681607,0.2873960363312139,0.21687318326811375,0.13198313862356453,0.25444443974364866,0.5403105357101123,0.5381471337854108,0.5329782553902612,0.1855855602628826,0.26818185934380784,0.5366341738891165,0.5659656220006253,0.5605295483094423,0.2919316146661785,0.14629985811591067,0.24783609379239013,0.5039895842176705,0.1576428383106277,0.29591585207402427,0.33483624054663913,0.6154656475973453,0.5274448480659834,0.3789036119484683,0.2721258895699153,0.648677173424424,0.4809031864608978,0.18493096275209575,0.2492434618488904,0.4103149969411732,0.45540014905793363,0.6321143036732222,0.6726918360366193,0.663662814068564,0.6250359904036967,0.5512383628900841,0.21064243309346548,0.29573729773324847,0.5630115104346897,0.6014715327709574,0.6336817976294686,0.7041301908209088,0.6731954024710819,0.6156233365140265,0.19993626567793182,0.17637548731241537,0.23751503099835655,0.3954605387254439,0.6834040740243644,0.7298455756832299,0.719432935269202,0.5385312323080607,0.44290975262770294,0.27811233250437645,0.21950967204135485,0.7243678236068333,0.7542810213297924,0.7475725044346073,0.6370161689031669,0.5856744975773706,0.4747418682439142,0.7313676753388335,0.32857943894256836,0.29616758202164034,0.22053633021956728,0.5564863486072538,0.37340392604018513,0.20561628882456826,0.3056319993305796,0.793706863751425,0.7552453487629456,0.3466218101613633,0.2072916558123502,0.22471646215417804,0.3573461720572264,0.8018544020429924,0.7090006511537061,0.43087968153772316,0.3921391058854304,0.21008381874683618,0.2524275442536908,0.5864479743332263,0.6431635166047076,0.8554452534710889,0.8450763043571082,0.6658478767039009,0.5202604976296853,0.21674777844995574,0.32785561360126153,0.23951617934061184,0.3342025477554307,0.7746367161665838,0.8741360237947211,0.8884240416153631,0.7510339928767338,0.6560046789616308,0.26739279599309973,0.8898490735766664,0.7333574879715831,0.6660961636154645,0.6307720571156268,0.8001867831671221,0.8948491378590934,0.4274734567756147,0.2353898811009079,0.8699276975065906,0.45910550213432394,0.519489440229377,0.8977411526561268,0.9304334163472624,0.9049629617607762,0.3575036323323012,0.46367498389598366,0.5246599239449228,0.5885374112474016,0.9428169867066626,0.5280549923854406,0.39847789343645873,0.2583349917248565,0.2834880667184344,0.7820754526534869,0.9490592246702769,0.9280199823878809,0.26005289828866074,0.4706193787311008,0.805611084062272,0.24535651223506413,0.95,0.5807980185279384,0.36469526960834386,0.9453979567427928,0.916298087276931,0.6678163561382314,0.6257473814475161,0.24675164289142357,0.901998549114212,0.7081672707847128,0.4484169585194513,0.32942000003132704,0.8507271491817123,0.95],\"opacity\":0.8,\"size\":5},\"mode\":\"markers\",\"x\":[0.05,0.05,0.05,0.05,0.05,0.05,0.05,0.05,0.05,0.05,0.05,0.05,0.061224489795918366,0.061224489795918366,0.08163265306122448,0.08163265306122448,0.08163265306122448,0.1020408163265306,0.1020408163265306,0.1020408163265306,0.1020408163265306,0.12244897959183673,0.12244897959183673,0.12244897959183673,0.12244897959183673,0.12244897959183673,0.14285714285714285,0.14285714285714285,0.14285714285714285,0.14285714285714285,0.14285714285714285,0.16326530612244897,0.16326530612244897,0.16326530612244897,0.16326530612244897,0.16326530612244897,0.16326530612244897,0.16326530612244897,0.18367346938775508,0.18367346938775508,0.2040816326530612,0.2040816326530612,0.2040816326530612,0.22448979591836732,0.22448979591836732,0.22448979591836732,0.22448979591836732,0.22448979591836732,0.22448979591836732,0.24489795918367346,0.24489795918367346,0.24489795918367346,0.24489795918367346,0.26530612244897955,0.26530612244897955,0.26530612244897955,0.26530612244897955,0.26530612244897955,0.26530612244897955,0.26530612244897955,0.26530612244897955,0.26530612244897955,0.2857142857142857,0.2857142857142857,0.2857142857142857,0.2857142857142857,0.2857142857142857,0.3061224489795918,0.3061224489795918,0.3061224489795918,0.3061224489795918,0.3061224489795918,0.3061224489795918,0.3061224489795918,0.32653061224489793,0.32653061224489793,0.32653061224489793,0.32653061224489793,0.32653061224489793,0.3469387755102041,0.3469387755102041,0.36734693877551017,0.36734693877551017,0.36734693877551017,0.36734693877551017,0.36734693877551017,0.36734693877551017,0.3877551020408163,0.3877551020408163,0.3877551020408163,0.3877551020408163,0.3877551020408163,0.3877551020408163,0.4081632653061224,0.42857142857142855,0.42857142857142855,0.42857142857142855,0.42857142857142855,0.42857142857142855,0.42857142857142855,0.44897959183673464,0.44897959183673464,0.44897959183673464,0.44897959183673464,0.44897959183673464,0.44897959183673464,0.44897959183673464,0.44897959183673464,0.44897959183673464,0.44897959183673464,0.44897959183673464,0.4693877551020408,0.4693877551020408,0.4693877551020408,0.4693877551020408,0.4897959183673469,0.4897959183673469,0.4897959183673469,0.4897959183673469,0.4897959183673469,0.4897959183673469,0.5102040816326531,0.5102040816326531,0.5102040816326531,0.5102040816326531,0.5102040816326531,0.5306122448979591,0.5306122448979591,0.5306122448979591,0.5306122448979591,0.5510204081632653,0.5510204081632653,0.5510204081632653,0.5510204081632653,0.5714285714285714,0.5714285714285714,0.5714285714285714,0.5714285714285714,0.5714285714285714,0.5714285714285714,0.5714285714285714,0.5918367346938775,0.5918367346938775,0.5918367346938775,0.5918367346938775,0.5918367346938775,0.5918367346938775,0.5918367346938775,0.5918367346938775,0.5918367346938775,0.6122448979591836,0.6122448979591836,0.6122448979591836,0.6122448979591836,0.6122448979591836,0.6122448979591836,0.6122448979591836,0.6122448979591836,0.6326530612244897,0.6326530612244897,0.6326530612244897,0.6326530612244897,0.6326530612244897,0.6326530612244897,0.6326530612244897,0.6530612244897959,0.6530612244897959,0.6530612244897959,0.6530612244897959,0.6530612244897959,0.6530612244897959,0.673469387755102,0.673469387755102,0.673469387755102,0.6938775510204082,0.6938775510204082,0.6938775510204082,0.6938775510204082,0.7142857142857142,0.7142857142857142,0.7142857142857142,0.7142857142857142,0.7142857142857142,0.7142857142857142,0.7346938775510203,0.7346938775510203,0.7346938775510203,0.7346938775510203,0.7346938775510203,0.7346938775510203,0.7346938775510203,0.7346938775510203,0.7551020408163265,0.7551020408163265,0.7551020408163265,0.7551020408163265,0.7551020408163265,0.7551020408163265,0.7755102040816326,0.7755102040816326,0.7755102040816326,0.7755102040816326,0.7959183673469387,0.7959183673469387,0.7959183673469387,0.7959183673469387,0.8163265306122448,0.8163265306122448,0.8163265306122448,0.8163265306122448,0.8163265306122448,0.836734693877551,0.836734693877551,0.836734693877551,0.8571428571428571,0.8571428571428571,0.8571428571428571,0.8571428571428571,0.8775510204081632,0.8775510204081632,0.8775510204081632,0.8775510204081632,0.8775510204081632,0.8775510204081632,0.8979591836734693,0.8979591836734693,0.8979591836734693,0.8979591836734693,0.8979591836734693,0.8979591836734693,0.9183673469387754,0.9183673469387754,0.9183673469387754,0.9183673469387754,0.9387755102040816,0.9387755102040816,0.95,0.95,0.95,0.95,0.95,0.95,0.95,0.95,0.95,0.95,0.95,0.95,0.95,0.95],\"y\":[0.8979591836734693,0.95,0.08163265306122448,0.24489795918367346,0.6530612244897959,0.8163265306122448,0.14285714285714285,0.26530612244897955,0.2857142857142857,0.4081632653061224,0.44897959183673464,0.7346938775510203,0.44897959183673464,0.8571428571428571,0.36734693877551017,0.7551020408163265,0.9183673469387754,0.05,0.1020408163265306,0.18367346938775508,0.4081632653061224,0.12244897959183673,0.2040816326530612,0.7755102040816326,0.7959183673469387,0.8775510204081632,0.05,0.24489795918367346,0.3877551020408163,0.673469387755102,0.6938775510204082,0.05,0.1020408163265306,0.14285714285714285,0.42857142857142855,0.5510204081632653,0.6326530612244897,0.836734693877551,0.08163265306122448,0.24489795918367346,0.061224489795918366,0.18367346938775508,0.7959183673469387,0.3469387755102041,0.673469387755102,0.7142857142857142,0.7755102040816326,0.9387755102040816,0.95,0.22448979591836732,0.4081632653061224,0.5306122448979591,0.8979591836734693,0.1020408163265306,0.12244897959183673,0.14285714285714285,0.22448979591836732,0.24489795918367346,0.36734693877551017,0.44897959183673464,0.5102040816326531,0.95,0.05,0.2040816326530612,0.4081632653061224,0.5102040816326531,0.6530612244897959,0.22448979591836732,0.36734693877551017,0.5102040816326531,0.5714285714285714,0.5918367346938775,0.7346938775510203,0.9183673469387754,0.05,0.22448979591836732,0.3877551020408163,0.7551020408163265,0.7959183673469387,0.18367346938775508,0.32653061224489793,0.08163265306122448,0.24489795918367346,0.4081632653061224,0.4693877551020408,0.8979591836734693,0.9387755102040816,0.05,0.05,0.24489795918367346,0.36734693877551017,0.44897959183673464,0.7142857142857142,0.7959183673469387,0.05,0.061224489795918366,0.3469387755102041,0.4897959183673469,0.6326530612244897,0.6938775510204082,0.05,0.1020408163265306,0.14285714285714285,0.16326530612244897,0.32653061224489793,0.4081632653061224,0.4897959183673469,0.6938775510204082,0.836734693877551,0.8571428571428571,0.9387755102040816,0.44897959183673464,0.5102040816326531,0.673469387755102,0.7959183673469387,0.061224489795918366,0.1020408163265306,0.14285714285714285,0.5510204081632653,0.7959183673469387,0.95,0.1020408163265306,0.14285714285714285,0.4693877551020408,0.673469387755102,0.7755102040816326,0.3061224489795918,0.6122448979591836,0.7959183673469387,0.8163265306122448,0.14285714285714285,0.3061224489795918,0.42857142857142855,0.7755102040816326,0.1020408163265306,0.36734693877551017,0.5918367346938775,0.7551020408163265,0.836734693877551,0.8571428571428571,0.95,0.12244897959183673,0.16326530612244897,0.24489795918367346,0.32653061224489793,0.5714285714285714,0.7755102040816326,0.8979591836734693,0.9183673469387754,0.9387755102040816,0.061224489795918366,0.2040816326530612,0.2857142857142857,0.5918367346938775,0.6530612244897959,0.7346938775510203,0.8163265306122448,0.95,0.05,0.14285714285714285,0.36734693877551017,0.42857142857142855,0.5306122448979591,0.7142857142857142,0.95,0.05,0.12244897959183673,0.3061224489795918,0.3469387755102041,0.836734693877551,0.95,0.5102040816326531,0.5306122448979591,0.5918367346938775,0.3877551020408163,0.4897959183673469,0.673469387755102,0.7551020408163265,0.18367346938775508,0.24489795918367346,0.5102040816326531,0.6326530612244897,0.6938775510204082,0.7755102040816326,0.2040816326530612,0.3061224489795918,0.4693877551020408,0.4897959183673469,0.6530612244897959,0.7142857142857142,0.8571428571428571,0.8775510204081632,0.08163265306122448,0.14285714285714285,0.3469387755102041,0.42857142857142855,0.6326530612244897,0.7551020408163265,0.6938775510204082,0.7551020408163265,0.9183673469387754,0.95,0.061224489795918366,0.3061224489795918,0.36734693877551017,0.7142857142857142,0.14285714285714285,0.32653061224489793,0.36734693877551017,0.8571428571428571,0.9183673469387754,0.16326530612244897,0.4897959183673469,0.673469387755102,0.22448979591836732,0.7959183673469387,0.8163265306122448,0.95,0.1020408163265306,0.18367346938775508,0.7551020408163265,0.7959183673469387,0.8163265306122448,0.836734693877551,0.05,0.44897959183673464,0.5102040816326531,0.6938775510204082,0.7142857142857142,0.8979591836734693,0.05,0.16326530612244897,0.6938775510204082,0.7959183673469387,0.3061224489795918,0.673469387755102,0.08163265306122448,0.42857142857142855,0.5306122448979591,0.14285714285714285,0.2040816326530612,0.3877551020408163,0.4081632653061224,0.673469387755102,0.22448979591836732,0.36734693877551017,0.4897959183673469,0.5510204081632653,0.9183673469387754,0.95],\"z\":[0.7963289218726609,0.95,0.8374708388010617,0.7731047938634492,0.2100838187468362,0.4710397198901133,0.7243163094450482,0.6606796531188589,0.6419841678995071,0.47941613448851245,0.41165745068563425,0.2476853629404794,0.3613400127865251,0.45067600214602677,0.41958416635903906,0.21746291791063213,0.5040498995285058,0.504773384885581,0.5022639721258529,0.48851458236007833,0.32924930572590644,0.44800701419191535,0.4317484959939039,0.19695851301433911,0.22414477485627474,0.3463033691212989,0.4095506663031099,0.3771521991725676,0.28509793226393076,0.10534091075258313,0.11221824540931948,0.37630007916845437,0.37452877175700927,0.37093144018138735,0.2283592317762059,0.12916008945763557,0.09513764047344998,0.23690485519414214,0.3508328957155223,0.32386870199679363,0.3342656867888549,0.3238134606942762,0.16591198481823763,0.25182772029704825,0.08341993225071011,0.09751867333235635,0.14131572251465765,0.3027998218782933,0.3218053605832753,0.30082225701146814,0.20883523696738804,0.12196896250668506,0.26558076377893425,0.3198371404982752,0.3185762928253492,0.31676511951795505,0.3020145879755322,0.2960072324921016,0.23711440191764752,0.18003007783546893,0.13585328650527365,0.31893794260881425,0.32741166846664543,0.31280638526438004,0.21361801273747638,0.1384159968492536,0.08195447923875288,0.3173592788606252,0.24916165839694304,0.1427556904623841,0.1048253785814643,0.09581493045898555,0.11382370327317366,0.29931994329325445,0.35159660712388946,0.3304414955277893,0.24481972388563775,0.13445925829806166,0.17439093980468798,0.3568813865606345,0.29949269221570385,0.38755466924367227,0.3577681261181445,0.25340843026037674,0.19939731000214436,0.32226555936573753,0.36271695194167075,0.41047939777792586,0.41046753956235843,0.37800746116329864,0.3028000779559857,0.2299021955736589,0.12342375301307147,0.21534894988858305,0.45943583074134203,0.4591114705293844,0.3568315882397822,0.21465991615952637,0.11615634251866201,0.12592037168727904,0.48592944462834625,0.48352768045984823,0.478883419394282,0.4751571060303649,0.3946655134073982,0.3169670968372219,0.22698468605808836,0.13315013136646284,0.3058511488565124,0.3394578794758633,0.45369184881681607,0.2873960363312139,0.21687318326811375,0.13198313862356453,0.25444443974364866,0.5403105357101123,0.5381471337854108,0.5329782553902612,0.1855855602628826,0.26818185934380784,0.5366341738891165,0.5659656220006253,0.5605295483094423,0.2919316146661785,0.14629985811591067,0.24783609379239013,0.5039895842176705,0.1576428383106277,0.29591585207402427,0.33483624054663913,0.6154656475973453,0.5274448480659834,0.3789036119484683,0.2721258895699153,0.648677173424424,0.4809031864608978,0.18493096275209575,0.2492434618488904,0.4103149969411732,0.45540014905793363,0.6321143036732222,0.6726918360366193,0.663662814068564,0.6250359904036967,0.5512383628900841,0.21064243309346548,0.29573729773324847,0.5630115104346897,0.6014715327709574,0.6336817976294686,0.7041301908209088,0.6731954024710819,0.6156233365140265,0.19993626567793182,0.17637548731241537,0.23751503099835655,0.3954605387254439,0.6834040740243644,0.7298455756832299,0.719432935269202,0.5385312323080607,0.44290975262770294,0.27811233250437645,0.21950967204135485,0.7243678236068333,0.7542810213297924,0.7475725044346073,0.6370161689031669,0.5856744975773706,0.4747418682439142,0.7313676753388335,0.32857943894256836,0.29616758202164034,0.22053633021956728,0.5564863486072538,0.37340392604018513,0.20561628882456826,0.3056319993305796,0.793706863751425,0.7552453487629456,0.3466218101613633,0.2072916558123502,0.22471646215417804,0.3573461720572264,0.8018544020429924,0.7090006511537061,0.43087968153772316,0.3921391058854304,0.21008381874683618,0.2524275442536908,0.5864479743332263,0.6431635166047076,0.8554452534710889,0.8450763043571082,0.6658478767039009,0.5202604976296853,0.21674777844995574,0.32785561360126153,0.23951617934061184,0.3342025477554307,0.7746367161665838,0.8741360237947211,0.8884240416153631,0.7510339928767338,0.6560046789616308,0.26739279599309973,0.8898490735766664,0.7333574879715831,0.6660961636154645,0.6307720571156268,0.8001867831671221,0.8948491378590934,0.4274734567756147,0.2353898811009079,0.8699276975065906,0.45910550213432394,0.519489440229377,0.8977411526561268,0.9304334163472624,0.9049629617607762,0.3575036323323012,0.46367498389598366,0.5246599239449228,0.5885374112474016,0.9428169867066626,0.5280549923854406,0.39847789343645873,0.2583349917248565,0.2834880667184344,0.7820754526534869,0.9490592246702769,0.9280199823878809,0.26005289828866074,0.4706193787311008,0.805611084062272,0.24535651223506413,0.95,0.5807980185279384,0.36469526960834386,0.9453979567427928,0.916298087276931,0.6678163561382314,0.6257473814475161,0.24675164289142357,0.901998549114212,0.7081672707847128,0.4484169585194513,0.32942000003132704,0.8507271491817123,0.95],\"type\":\"scatter3d\"}],                        {\"template\":{\"data\":{\"bar\":[{\"error_x\":{\"color\":\"#2a3f5f\"},\"error_y\":{\"color\":\"#2a3f5f\"},\"marker\":{\"line\":{\"color\":\"#E5ECF6\",\"width\":0.5},\"pattern\":{\"fillmode\":\"overlay\",\"size\":10,\"solidity\":0.2}},\"type\":\"bar\"}],\"barpolar\":[{\"marker\":{\"line\":{\"color\":\"#E5ECF6\",\"width\":0.5},\"pattern\":{\"fillmode\":\"overlay\",\"size\":10,\"solidity\":0.2}},\"type\":\"barpolar\"}],\"carpet\":[{\"aaxis\":{\"endlinecolor\":\"#2a3f5f\",\"gridcolor\":\"white\",\"linecolor\":\"white\",\"minorgridcolor\":\"white\",\"startlinecolor\":\"#2a3f5f\"},\"baxis\":{\"endlinecolor\":\"#2a3f5f\",\"gridcolor\":\"white\",\"linecolor\":\"white\",\"minorgridcolor\":\"white\",\"startlinecolor\":\"#2a3f5f\"},\"type\":\"carpet\"}],\"choropleth\":[{\"colorbar\":{\"outlinewidth\":0,\"ticks\":\"\"},\"type\":\"choropleth\"}],\"contour\":[{\"colorbar\":{\"outlinewidth\":0,\"ticks\":\"\"},\"colorscale\":[[0.0,\"#0d0887\"],[0.1111111111111111,\"#46039f\"],[0.2222222222222222,\"#7201a8\"],[0.3333333333333333,\"#9c179e\"],[0.4444444444444444,\"#bd3786\"],[0.5555555555555556,\"#d8576b\"],[0.6666666666666666,\"#ed7953\"],[0.7777777777777778,\"#fb9f3a\"],[0.8888888888888888,\"#fdca26\"],[1.0,\"#f0f921\"]],\"type\":\"contour\"}],\"contourcarpet\":[{\"colorbar\":{\"outlinewidth\":0,\"ticks\":\"\"},\"type\":\"contourcarpet\"}],\"heatmap\":[{\"colorbar\":{\"outlinewidth\":0,\"ticks\":\"\"},\"colorscale\":[[0.0,\"#0d0887\"],[0.1111111111111111,\"#46039f\"],[0.2222222222222222,\"#7201a8\"],[0.3333333333333333,\"#9c179e\"],[0.4444444444444444,\"#bd3786\"],[0.5555555555555556,\"#d8576b\"],[0.6666666666666666,\"#ed7953\"],[0.7777777777777778,\"#fb9f3a\"],[0.8888888888888888,\"#fdca26\"],[1.0,\"#f0f921\"]],\"type\":\"heatmap\"}],\"heatmapgl\":[{\"colorbar\":{\"outlinewidth\":0,\"ticks\":\"\"},\"colorscale\":[[0.0,\"#0d0887\"],[0.1111111111111111,\"#46039f\"],[0.2222222222222222,\"#7201a8\"],[0.3333333333333333,\"#9c179e\"],[0.4444444444444444,\"#bd3786\"],[0.5555555555555556,\"#d8576b\"],[0.6666666666666666,\"#ed7953\"],[0.7777777777777778,\"#fb9f3a\"],[0.8888888888888888,\"#fdca26\"],[1.0,\"#f0f921\"]],\"type\":\"heatmapgl\"}],\"histogram\":[{\"marker\":{\"pattern\":{\"fillmode\":\"overlay\",\"size\":10,\"solidity\":0.2}},\"type\":\"histogram\"}],\"histogram2d\":[{\"colorbar\":{\"outlinewidth\":0,\"ticks\":\"\"},\"colorscale\":[[0.0,\"#0d0887\"],[0.1111111111111111,\"#46039f\"],[0.2222222222222222,\"#7201a8\"],[0.3333333333333333,\"#9c179e\"],[0.4444444444444444,\"#bd3786\"],[0.5555555555555556,\"#d8576b\"],[0.6666666666666666,\"#ed7953\"],[0.7777777777777778,\"#fb9f3a\"],[0.8888888888888888,\"#fdca26\"],[1.0,\"#f0f921\"]],\"type\":\"histogram2d\"}],\"histogram2dcontour\":[{\"colorbar\":{\"outlinewidth\":0,\"ticks\":\"\"},\"colorscale\":[[0.0,\"#0d0887\"],[0.1111111111111111,\"#46039f\"],[0.2222222222222222,\"#7201a8\"],[0.3333333333333333,\"#9c179e\"],[0.4444444444444444,\"#bd3786\"],[0.5555555555555556,\"#d8576b\"],[0.6666666666666666,\"#ed7953\"],[0.7777777777777778,\"#fb9f3a\"],[0.8888888888888888,\"#fdca26\"],[1.0,\"#f0f921\"]],\"type\":\"histogram2dcontour\"}],\"mesh3d\":[{\"colorbar\":{\"outlinewidth\":0,\"ticks\":\"\"},\"type\":\"mesh3d\"}],\"parcoords\":[{\"line\":{\"colorbar\":{\"outlinewidth\":0,\"ticks\":\"\"}},\"type\":\"parcoords\"}],\"pie\":[{\"automargin\":true,\"type\":\"pie\"}],\"scatter\":[{\"marker\":{\"colorbar\":{\"outlinewidth\":0,\"ticks\":\"\"}},\"type\":\"scatter\"}],\"scatter3d\":[{\"line\":{\"colorbar\":{\"outlinewidth\":0,\"ticks\":\"\"}},\"marker\":{\"colorbar\":{\"outlinewidth\":0,\"ticks\":\"\"}},\"type\":\"scatter3d\"}],\"scattercarpet\":[{\"marker\":{\"colorbar\":{\"outlinewidth\":0,\"ticks\":\"\"}},\"type\":\"scattercarpet\"}],\"scattergeo\":[{\"marker\":{\"colorbar\":{\"outlinewidth\":0,\"ticks\":\"\"}},\"type\":\"scattergeo\"}],\"scattergl\":[{\"marker\":{\"colorbar\":{\"outlinewidth\":0,\"ticks\":\"\"}},\"type\":\"scattergl\"}],\"scattermapbox\":[{\"marker\":{\"colorbar\":{\"outlinewidth\":0,\"ticks\":\"\"}},\"type\":\"scattermapbox\"}],\"scatterpolar\":[{\"marker\":{\"colorbar\":{\"outlinewidth\":0,\"ticks\":\"\"}},\"type\":\"scatterpolar\"}],\"scatterpolargl\":[{\"marker\":{\"colorbar\":{\"outlinewidth\":0,\"ticks\":\"\"}},\"type\":\"scatterpolargl\"}],\"scatterternary\":[{\"marker\":{\"colorbar\":{\"outlinewidth\":0,\"ticks\":\"\"}},\"type\":\"scatterternary\"}],\"surface\":[{\"colorbar\":{\"outlinewidth\":0,\"ticks\":\"\"},\"colorscale\":[[0.0,\"#0d0887\"],[0.1111111111111111,\"#46039f\"],[0.2222222222222222,\"#7201a8\"],[0.3333333333333333,\"#9c179e\"],[0.4444444444444444,\"#bd3786\"],[0.5555555555555556,\"#d8576b\"],[0.6666666666666666,\"#ed7953\"],[0.7777777777777778,\"#fb9f3a\"],[0.8888888888888888,\"#fdca26\"],[1.0,\"#f0f921\"]],\"type\":\"surface\"}],\"table\":[{\"cells\":{\"fill\":{\"color\":\"#EBF0F8\"},\"line\":{\"color\":\"white\"}},\"header\":{\"fill\":{\"color\":\"#C8D4E3\"},\"line\":{\"color\":\"white\"}},\"type\":\"table\"}]},\"layout\":{\"annotationdefaults\":{\"arrowcolor\":\"#2a3f5f\",\"arrowhead\":0,\"arrowwidth\":1},\"autotypenumbers\":\"strict\",\"coloraxis\":{\"colorbar\":{\"outlinewidth\":0,\"ticks\":\"\"}},\"colorscale\":{\"diverging\":[[0,\"#8e0152\"],[0.1,\"#c51b7d\"],[0.2,\"#de77ae\"],[0.3,\"#f1b6da\"],[0.4,\"#fde0ef\"],[0.5,\"#f7f7f7\"],[0.6,\"#e6f5d0\"],[0.7,\"#b8e186\"],[0.8,\"#7fbc41\"],[0.9,\"#4d9221\"],[1,\"#276419\"]],\"sequential\":[[0.0,\"#0d0887\"],[0.1111111111111111,\"#46039f\"],[0.2222222222222222,\"#7201a8\"],[0.3333333333333333,\"#9c179e\"],[0.4444444444444444,\"#bd3786\"],[0.5555555555555556,\"#d8576b\"],[0.6666666666666666,\"#ed7953\"],[0.7777777777777778,\"#fb9f3a\"],[0.8888888888888888,\"#fdca26\"],[1.0,\"#f0f921\"]],\"sequentialminus\":[[0.0,\"#0d0887\"],[0.1111111111111111,\"#46039f\"],[0.2222222222222222,\"#7201a8\"],[0.3333333333333333,\"#9c179e\"],[0.4444444444444444,\"#bd3786\"],[0.5555555555555556,\"#d8576b\"],[0.6666666666666666,\"#ed7953\"],[0.7777777777777778,\"#fb9f3a\"],[0.8888888888888888,\"#fdca26\"],[1.0,\"#f0f921\"]]},\"colorway\":[\"#636efa\",\"#EF553B\",\"#00cc96\",\"#ab63fa\",\"#FFA15A\",\"#19d3f3\",\"#FF6692\",\"#B6E880\",\"#FF97FF\",\"#FECB52\"],\"font\":{\"color\":\"#2a3f5f\"},\"geo\":{\"bgcolor\":\"white\",\"lakecolor\":\"white\",\"landcolor\":\"#E5ECF6\",\"showlakes\":true,\"showland\":true,\"subunitcolor\":\"white\"},\"hoverlabel\":{\"align\":\"left\"},\"hovermode\":\"closest\",\"mapbox\":{\"style\":\"light\"},\"paper_bgcolor\":\"white\",\"plot_bgcolor\":\"#E5ECF6\",\"polar\":{\"angularaxis\":{\"gridcolor\":\"white\",\"linecolor\":\"white\",\"ticks\":\"\"},\"bgcolor\":\"#E5ECF6\",\"radialaxis\":{\"gridcolor\":\"white\",\"linecolor\":\"white\",\"ticks\":\"\"}},\"scene\":{\"xaxis\":{\"backgroundcolor\":\"#E5ECF6\",\"gridcolor\":\"white\",\"gridwidth\":2,\"linecolor\":\"white\",\"showbackground\":true,\"ticks\":\"\",\"zerolinecolor\":\"white\"},\"yaxis\":{\"backgroundcolor\":\"#E5ECF6\",\"gridcolor\":\"white\",\"gridwidth\":2,\"linecolor\":\"white\",\"showbackground\":true,\"ticks\":\"\",\"zerolinecolor\":\"white\"},\"zaxis\":{\"backgroundcolor\":\"#E5ECF6\",\"gridcolor\":\"white\",\"gridwidth\":2,\"linecolor\":\"white\",\"showbackground\":true,\"ticks\":\"\",\"zerolinecolor\":\"white\"}},\"shapedefaults\":{\"line\":{\"color\":\"#2a3f5f\"}},\"ternary\":{\"aaxis\":{\"gridcolor\":\"white\",\"linecolor\":\"white\",\"ticks\":\"\"},\"baxis\":{\"gridcolor\":\"white\",\"linecolor\":\"white\",\"ticks\":\"\"},\"bgcolor\":\"#E5ECF6\",\"caxis\":{\"gridcolor\":\"white\",\"linecolor\":\"white\",\"ticks\":\"\"}},\"title\":{\"x\":0.05},\"xaxis\":{\"automargin\":true,\"gridcolor\":\"white\",\"linecolor\":\"white\",\"ticks\":\"\",\"title\":{\"standoff\":15},\"zerolinecolor\":\"white\",\"zerolinewidth\":2},\"yaxis\":{\"automargin\":true,\"gridcolor\":\"white\",\"linecolor\":\"white\",\"ticks\":\"\",\"title\":{\"standoff\":15},\"zerolinecolor\":\"white\",\"zerolinewidth\":2}}},\"margin\":{\"l\":20,\"r\":20,\"b\":25,\"t\":20},\"scene\":{\"xaxis\":{\"title\":{\"text\":\"calories\"}},\"yaxis\":{\"title\":{\"text\":\"exercise\"}},\"zaxis\":{\"title\":{\"text\":\"risk of death!\"}}},\"autosize\":false,\"width\":600,\"height\":500},                        {\"responsive\": true}                    ).then(function(){\n",
              "                            \n",
              "var gd = document.getElementById('e30f42fb-caac-4102-89c4-bba7e5c7aabd');\n",
              "var x = new MutationObserver(function (mutations, observer) {{\n",
              "        var display = window.getComputedStyle(gd).display;\n",
              "        if (!display || display === 'none') {{\n",
              "            console.log([gd, 'removed!']);\n",
              "            Plotly.purge(gd);\n",
              "            observer.disconnect();\n",
              "        }}\n",
              "}});\n",
              "\n",
              "// Listen for the removal of the full notebook cells\n",
              "var notebookContainer = gd.closest('#notebook-container');\n",
              "if (notebookContainer) {{\n",
              "    x.observe(notebookContainer, {childList: true});\n",
              "}}\n",
              "\n",
              "// Listen for the clearing of the current output cell\n",
              "var outputEl = gd.closest('.output');\n",
              "if (outputEl) {{\n",
              "    x.observe(outputEl, {childList: true});\n",
              "}}\n",
              "\n",
              "                        })                };                            </script>        </div>\n",
              "</body>\n",
              "</html>"
            ]
          },
          "metadata": {}
        }
      ]
    },
    {
      "cell_type": "markdown",
      "metadata": {
        "id": "VUMsGDCZ46TW"
      },
      "source": [
        "Now it's still really blocky.  What if we went back and added lots more neurons?   \n",
        "\n",
        "\n",
        "## Exercise 1: Add more neurons to the hidden layer\n",
        "Try this yourself: Scroll up to the line `hidden_dim=15`, and change the 20 to something larger, such as 100, and re-train."
      ]
    },
    {
      "cell_type": "code",
      "metadata": {
        "id": "GDWJXYEInYPB"
      },
      "source": [
        "# Or you can run this code here and THEN scroll up and re-train \n",
        "\n",
        "hidden_dim=100  # how many neurons in the hidden layer\n",
        "\n",
        "torch.manual_seed(0)  # for reproducability \n",
        "net = Net(hidden_dim=hidden_dim, in_dim=df2.shape[1]-1)\n",
        "\n",
        "# now scroll up and re-train (\"Train the Model\"), and re-plot the surface...then come back here and keep reading"
      ],
      "execution_count": null,
      "outputs": []
    },
    {
      "cell_type": "markdown",
      "metadata": {
        "id": "TuDV7uywnhb1"
      },
      "source": [
        "...then re-run all the code from that point up to the surface plot we just made.  Notice any difference?  \n",
        "* Is the surface more curvier than before?\n",
        "* Are the loss values lower than before?"
      ]
    },
    {
      "cell_type": "markdown",
      "metadata": {
        "id": "hrBYkqeAEsp0"
      },
      "source": [
        "## Exercise 2: Add more layers\n",
        "We can define a neural network in terms of a list of layers that feed into one another.  We'll just use a list `hidden_dims = [..,..,..]` to specify the number of neurons in each layer, and we'll put ReLUs on all of them except the output:"
      ]
    },
    {
      "cell_type": "code",
      "metadata": {
        "id": "LzgQwGzWr779"
      },
      "source": [
        "class Net2(nn.Module): \n",
        "    # every PyTorch model class needs an __init__() and a forward()\n",
        "    def __init__(self, \n",
        "        hidden_dims=[], # list of how many neurons in each hidden layers[] \n",
        "        in_dim=2,   # dimenisions of input \n",
        "        out_dim=1): # dimensions of output\n",
        "        super().__init__()    # you always need this super() call for class inheritance\n",
        "\n",
        "        self.activation = F.relu    # we'll use ReLU activations, but feel free to try others, see \"Non-linear activation functions\", https://pytorch.org/docs/stable/nn.functional.html\n",
        "\n",
        "        # below is where we define our layers, thereby \"allocating memory\" in a sense\n",
        "        self.layers = nn.ModuleList()                       # special kind of list [] for pytorch layers\n",
        "        self.layers.append ( nn.Linear(in_dim, hidden_dims[0]) )  # first hidden layer\n",
        "        for i in range(len(hidden_dims)-1):\n",
        "            self.layers.append( nn.Linear(hidden_dims[i], hidden_dims[i+1])  )\n",
        "        self.layers.append( nn.Linear(hidden_dims[-1], out_dim) )\n",
        " \n",
        "    # forward() is where the actual computation is performed, x is the input\n",
        "    def forward(self, x):           # for our raw, non-fastai-Tabular version\n",
        "        for i, layer in enumerate(self.layers):\n",
        "            x = layer(x)\n",
        "            if i < len(self.layers)-1: x = self.activation(x)    # do activations for all layers except the output           \n",
        "        return x   \n",
        "         \n",
        "# That was really a single-layer network: inputs, hidden, output\n",
        "\n",
        "hidden_dims=[40,40,40]  # how many neurons in the hidden layer\n",
        "\n",
        "torch.manual_seed(0)  # for reproducability \n",
        "net2 = Net2(hidden_dims=hidden_dims, in_dim=df2.shape[1]-1)"
      ],
      "execution_count": null,
      "outputs": []
    },
    {
      "cell_type": "code",
      "metadata": {
        "colab": {
          "base_uri": "https://localhost:8080/",
          "height": 402
        },
        "id": "7Z38hQMGGkRO",
        "outputId": "d463158b-2ff7-41ce-ae6b-42eb385e34a7"
      },
      "source": [
        "wandb.init(project=\"4_nnsfitcurves\")\n",
        "learn = Learner(dls, net2, loss_func=nn.MSELoss(), opt_func=opt_func, cbs=WandbCallback())\n",
        "lr = learn.lr_find().valley\n",
        "print(\"Suggested LR = \",lr)"
      ],
      "execution_count": null,
      "outputs": [
        {
          "output_type": "display_data",
          "data": {
            "text/html": [
              "\n",
              "                Tracking run with wandb version 0.12.1<br/>\n",
              "                Syncing run <strong style=\"color:#cdcd00\">upbeat-elevator-3</strong> to <a href=\"https://wandb.ai\" target=\"_blank\">Weights & Biases</a> <a href=\"https://docs.wandb.com/integrations/jupyter.html\" target=\"_blank\">(Documentation)</a>.<br/>\n",
              "                Project page: <a href=\"https://wandb.ai/drscotthawley/4_nnsfitcurves\" target=\"_blank\">https://wandb.ai/drscotthawley/4_nnsfitcurves</a><br/>\n",
              "                Run page: <a href=\"https://wandb.ai/drscotthawley/4_nnsfitcurves/runs/3dh35rd7\" target=\"_blank\">https://wandb.ai/drscotthawley/4_nnsfitcurves/runs/3dh35rd7</a><br/>\n",
              "                Run data is saved locally in <code>/content/wandb/run-20210908_220917-3dh35rd7</code><br/><br/>\n",
              "            "
            ],
            "text/plain": [
              "<IPython.core.display.HTML object>"
            ]
          },
          "metadata": {}
        },
        {
          "output_type": "display_data",
          "data": {
            "text/html": [
              ""
            ],
            "text/plain": [
              "<IPython.core.display.HTML object>"
            ]
          },
          "metadata": {}
        },
        {
          "output_type": "stream",
          "name": "stdout",
          "text": [
            "Suggested LR =  0.009120108559727669\n"
          ]
        },
        {
          "output_type": "display_data",
          "data": {
            "image/png": "[encoded data removed]",
            "text/plain": [
              "<Figure size 432x288 with 1 Axes>"
            ]
          },
          "metadata": {
            "needs_background": "light"
          }
        }
      ]
    },
    {
      "cell_type": "code",
      "metadata": {
        "colab": {
          "base_uri": "https://localhost:8080/",
          "height": 1000,
          "referenced_widgets": [
            "515d34fd0a35466490e1bcb259a83802",
            "a040224bface48dca207e85ce27c327d",
            "728202e50f2f4202a1dc07d0196b9d55",
            "c8203919f8ef4e00aed7ed34a0a471ed",
            "1f118f3e06b5473892e6e7ce470875ba",
            "5706a0005a724b65a38e57ed2bc6d8c0",
            "c538f14e950f47e98b64b9ae23b5118e",
            "73012a284f194f5091d66a51bbd1a195",
            "0971757734c64062b990574ab6fe2a77",
            "a01a247d36b34089b936d03354c2c55f",
            "95173d3f803344259ceec328af286135",
            "bd1c0d19ad164a1292ce6e4c7bfb6eb9",
            "05742b16ea57489a85ed358e0c0510b7",
            "8a74e6a9e9a84d629d98628ec7563f31",
            "2bd9c18801ad46e5865b5933424a1b31",
            "14234d0ac2c44c0f91fbfb64e58bbb26"
          ]
        },
        "id": "0e9Aney7HYft",
        "outputId": "20a34651-cbe8-4053-ce44-a0ddfd5c2691"
      },
      "source": [
        "wandb.init(project=\"4_nnsfitcurves\")\n",
        "learn.fit(epochs, lr=lr)\n",
        "wandb.finish()"
      ],
      "execution_count": null,
      "outputs": [
        {
          "output_type": "display_data",
          "data": {
            "text/html": [
              "Finishing last run (ID:3dh35rd7) before initializing another..."
            ],
            "text/plain": [
              "<IPython.core.display.HTML object>"
            ]
          },
          "metadata": {}
        },
        {
          "output_type": "display_data",
          "data": {
            "text/html": [
              "<br/>Waiting for W&B process to finish, PID 416<br/>Program ended successfully."
            ],
            "text/plain": [
              "<IPython.core.display.HTML object>"
            ]
          },
          "metadata": {}
        },
        {
          "output_type": "display_data",
          "data": {
            "application/vnd.jupyter.widget-view+json": {
              "model_id": "515d34fd0a35466490e1bcb259a83802",
              "version_minor": 0,
              "version_major": 2
            },
            "text/plain": [
              "VBox(children=(Label(value=' 0.00MB of 0.00MB uploaded (0.00MB deduped)\\r'), FloatProgress(value=1.0, max=1.0)…"
            ]
          },
          "metadata": {}
        },
        {
          "output_type": "display_data",
          "data": {
            "text/html": [
              "Find user logs for this run at: <code>/content/wandb/run-20210908_220917-3dh35rd7/logs/debug.log</code>"
            ],
            "text/plain": [
              "<IPython.core.display.HTML object>"
            ]
          },
          "metadata": {}
        },
        {
          "output_type": "display_data",
          "data": {
            "text/html": [
              "Find internal logs for this run at: <code>/content/wandb/run-20210908_220917-3dh35rd7/logs/debug-internal.log</code>"
            ],
            "text/plain": [
              "<IPython.core.display.HTML object>"
            ]
          },
          "metadata": {}
        },
        {
          "output_type": "display_data",
          "data": {
            "text/html": [
              "Synced 5 W&B file(s), 0 media file(s), 0 artifact file(s) and 0 other file(s)"
            ],
            "text/plain": [
              "<IPython.core.display.HTML object>"
            ]
          },
          "metadata": {}
        },
        {
          "output_type": "display_data",
          "data": {
            "text/html": [
              "\n",
              "                    <br/>Synced <strong style=\"color:#cdcd00\">upbeat-elevator-3</strong>: <a href=\"https://wandb.ai/drscotthawley/4_nnsfitcurves/runs/3dh35rd7\" target=\"_blank\">https://wandb.ai/drscotthawley/4_nnsfitcurves/runs/3dh35rd7</a><br/>\n",
              "                "
            ],
            "text/plain": [
              "<IPython.core.display.HTML object>"
            ]
          },
          "metadata": {}
        },
        {
          "output_type": "display_data",
          "data": {
            "text/html": [
              "...Successfully finished last run (ID:3dh35rd7). Initializing new run:<br/><br/>"
            ],
            "text/plain": [
              "<IPython.core.display.HTML object>"
            ]
          },
          "metadata": {}
        },
        {
          "output_type": "display_data",
          "data": {
            "text/html": [
              "\n",
              "                Tracking run with wandb version 0.12.1<br/>\n",
              "                Syncing run <strong style=\"color:#cdcd00\">fresh-armadillo-4</strong> to <a href=\"https://wandb.ai\" target=\"_blank\">Weights & Biases</a> <a href=\"https://docs.wandb.com/integrations/jupyter.html\" target=\"_blank\">(Documentation)</a>.<br/>\n",
              "                Project page: <a href=\"https://wandb.ai/drscotthawley/4_nnsfitcurves\" target=\"_blank\">https://wandb.ai/drscotthawley/4_nnsfitcurves</a><br/>\n",
              "                Run page: <a href=\"https://wandb.ai/drscotthawley/4_nnsfitcurves/runs/2gfsqjwe\" target=\"_blank\">https://wandb.ai/drscotthawley/4_nnsfitcurves/runs/2gfsqjwe</a><br/>\n",
              "                Run data is saved locally in <code>/content/wandb/run-20210908_220925-2gfsqjwe</code><br/><br/>\n",
              "            "
            ],
            "text/plain": [
              "<IPython.core.display.HTML object>"
            ]
          },
          "metadata": {}
        },
        {
          "output_type": "stream",
          "name": "stdout",
          "text": [
            "Could not gather input dimensions\n",
            "WandbCallback requires use of \"SaveModelCallback\" to log best model\n",
            "WandbCallback was not able to prepare a DataLoader for logging prediction samples -> 'myDataset' object has no attribute 'items'\n"
          ]
        },
        {
          "output_type": "display_data",
          "data": {
            "text/html": [
              "<table border=\"1\" class=\"dataframe\">\n",
              "  <thead>\n",
              "    <tr style=\"text-align: left;\">\n",
              "      <th>epoch</th>\n",
              "      <th>train_loss</th>\n",
              "      <th>valid_loss</th>\n",
              "      <th>time</th>\n",
              "    </tr>\n",
              "  </thead>\n",
              "  <tbody>\n",
              "    <tr>\n",
              "      <td>0</td>\n",
              "      <td>0.052814</td>\n",
              "      <td>0.034421</td>\n",
              "      <td>00:00</td>\n",
              "    </tr>\n",
              "    <tr>\n",
              "      <td>1</td>\n",
              "      <td>0.038425</td>\n",
              "      <td>0.023857</td>\n",
              "      <td>00:00</td>\n",
              "    </tr>\n",
              "    <tr>\n",
              "      <td>2</td>\n",
              "      <td>0.031064</td>\n",
              "      <td>0.024279</td>\n",
              "      <td>00:00</td>\n",
              "    </tr>\n",
              "    <tr>\n",
              "      <td>3</td>\n",
              "      <td>0.025596</td>\n",
              "      <td>0.018431</td>\n",
              "      <td>00:00</td>\n",
              "    </tr>\n",
              "    <tr>\n",
              "      <td>4</td>\n",
              "      <td>0.019548</td>\n",
              "      <td>0.012058</td>\n",
              "      <td>00:00</td>\n",
              "    </tr>\n",
              "    <tr>\n",
              "      <td>5</td>\n",
              "      <td>0.015021</td>\n",
              "      <td>0.007363</td>\n",
              "      <td>00:00</td>\n",
              "    </tr>\n",
              "    <tr>\n",
              "      <td>6</td>\n",
              "      <td>0.011083</td>\n",
              "      <td>0.004744</td>\n",
              "      <td>00:00</td>\n",
              "    </tr>\n",
              "    <tr>\n",
              "      <td>7</td>\n",
              "      <td>0.008573</td>\n",
              "      <td>0.004200</td>\n",
              "      <td>00:00</td>\n",
              "    </tr>\n",
              "    <tr>\n",
              "      <td>8</td>\n",
              "      <td>0.007074</td>\n",
              "      <td>0.003000</td>\n",
              "      <td>00:00</td>\n",
              "    </tr>\n",
              "    <tr>\n",
              "      <td>9</td>\n",
              "      <td>0.005674</td>\n",
              "      <td>0.002921</td>\n",
              "      <td>00:00</td>\n",
              "    </tr>\n",
              "    <tr>\n",
              "      <td>10</td>\n",
              "      <td>0.005077</td>\n",
              "      <td>0.002441</td>\n",
              "      <td>00:00</td>\n",
              "    </tr>\n",
              "    <tr>\n",
              "      <td>11</td>\n",
              "      <td>0.004298</td>\n",
              "      <td>0.002112</td>\n",
              "      <td>00:00</td>\n",
              "    </tr>\n",
              "    <tr>\n",
              "      <td>12</td>\n",
              "      <td>0.004381</td>\n",
              "      <td>0.001735</td>\n",
              "      <td>00:00</td>\n",
              "    </tr>\n",
              "    <tr>\n",
              "      <td>13</td>\n",
              "      <td>0.003541</td>\n",
              "      <td>0.001667</td>\n",
              "      <td>00:00</td>\n",
              "    </tr>\n",
              "    <tr>\n",
              "      <td>14</td>\n",
              "      <td>0.003913</td>\n",
              "      <td>0.001563</td>\n",
              "      <td>00:00</td>\n",
              "    </tr>\n",
              "    <tr>\n",
              "      <td>15</td>\n",
              "      <td>0.003011</td>\n",
              "      <td>0.001280</td>\n",
              "      <td>00:00</td>\n",
              "    </tr>\n",
              "    <tr>\n",
              "      <td>16</td>\n",
              "      <td>0.003018</td>\n",
              "      <td>0.001059</td>\n",
              "      <td>00:00</td>\n",
              "    </tr>\n",
              "    <tr>\n",
              "      <td>17</td>\n",
              "      <td>0.002158</td>\n",
              "      <td>0.002005</td>\n",
              "      <td>00:00</td>\n",
              "    </tr>\n",
              "    <tr>\n",
              "      <td>18</td>\n",
              "      <td>0.004889</td>\n",
              "      <td>0.001551</td>\n",
              "      <td>00:00</td>\n",
              "    </tr>\n",
              "    <tr>\n",
              "      <td>19</td>\n",
              "      <td>0.004996</td>\n",
              "      <td>0.001569</td>\n",
              "      <td>00:00</td>\n",
              "    </tr>\n",
              "    <tr>\n",
              "      <td>20</td>\n",
              "      <td>0.004483</td>\n",
              "      <td>0.001765</td>\n",
              "      <td>00:00</td>\n",
              "    </tr>\n",
              "    <tr>\n",
              "      <td>21</td>\n",
              "      <td>0.003705</td>\n",
              "      <td>0.001406</td>\n",
              "      <td>00:00</td>\n",
              "    </tr>\n",
              "    <tr>\n",
              "      <td>22</td>\n",
              "      <td>0.003094</td>\n",
              "      <td>0.001377</td>\n",
              "      <td>00:00</td>\n",
              "    </tr>\n",
              "    <tr>\n",
              "      <td>23</td>\n",
              "      <td>0.002551</td>\n",
              "      <td>0.001080</td>\n",
              "      <td>00:00</td>\n",
              "    </tr>\n",
              "    <tr>\n",
              "      <td>24</td>\n",
              "      <td>0.002138</td>\n",
              "      <td>0.001848</td>\n",
              "      <td>00:00</td>\n",
              "    </tr>\n",
              "    <tr>\n",
              "      <td>25</td>\n",
              "      <td>0.002363</td>\n",
              "      <td>0.001230</td>\n",
              "      <td>00:00</td>\n",
              "    </tr>\n",
              "    <tr>\n",
              "      <td>26</td>\n",
              "      <td>0.001983</td>\n",
              "      <td>0.001049</td>\n",
              "      <td>00:00</td>\n",
              "    </tr>\n",
              "    <tr>\n",
              "      <td>27</td>\n",
              "      <td>0.001833</td>\n",
              "      <td>0.001227</td>\n",
              "      <td>00:00</td>\n",
              "    </tr>\n",
              "    <tr>\n",
              "      <td>28</td>\n",
              "      <td>0.001806</td>\n",
              "      <td>0.001035</td>\n",
              "      <td>00:00</td>\n",
              "    </tr>\n",
              "    <tr>\n",
              "      <td>29</td>\n",
              "      <td>0.001706</td>\n",
              "      <td>0.001007</td>\n",
              "      <td>00:00</td>\n",
              "    </tr>\n",
              "    <tr>\n",
              "      <td>30</td>\n",
              "      <td>0.001611</td>\n",
              "      <td>0.000943</td>\n",
              "      <td>00:00</td>\n",
              "    </tr>\n",
              "    <tr>\n",
              "      <td>31</td>\n",
              "      <td>0.001680</td>\n",
              "      <td>0.000959</td>\n",
              "      <td>00:00</td>\n",
              "    </tr>\n",
              "    <tr>\n",
              "      <td>32</td>\n",
              "      <td>0.001660</td>\n",
              "      <td>0.000925</td>\n",
              "      <td>00:00</td>\n",
              "    </tr>\n",
              "    <tr>\n",
              "      <td>33</td>\n",
              "      <td>0.001582</td>\n",
              "      <td>0.000903</td>\n",
              "      <td>00:00</td>\n",
              "    </tr>\n",
              "    <tr>\n",
              "      <td>34</td>\n",
              "      <td>0.001565</td>\n",
              "      <td>0.001052</td>\n",
              "      <td>00:00</td>\n",
              "    </tr>\n",
              "    <tr>\n",
              "      <td>35</td>\n",
              "      <td>0.001715</td>\n",
              "      <td>0.000949</td>\n",
              "      <td>00:00</td>\n",
              "    </tr>\n",
              "    <tr>\n",
              "      <td>36</td>\n",
              "      <td>0.001824</td>\n",
              "      <td>0.000989</td>\n",
              "      <td>00:00</td>\n",
              "    </tr>\n",
              "    <tr>\n",
              "      <td>37</td>\n",
              "      <td>0.001756</td>\n",
              "      <td>0.001273</td>\n",
              "      <td>00:00</td>\n",
              "    </tr>\n",
              "    <tr>\n",
              "      <td>38</td>\n",
              "      <td>0.002237</td>\n",
              "      <td>0.000984</td>\n",
              "      <td>00:00</td>\n",
              "    </tr>\n",
              "    <tr>\n",
              "      <td>39</td>\n",
              "      <td>0.002270</td>\n",
              "      <td>0.003118</td>\n",
              "      <td>00:00</td>\n",
              "    </tr>\n",
              "    <tr>\n",
              "      <td>40</td>\n",
              "      <td>0.002846</td>\n",
              "      <td>0.000974</td>\n",
              "      <td>00:00</td>\n",
              "    </tr>\n",
              "    <tr>\n",
              "      <td>41</td>\n",
              "      <td>0.002688</td>\n",
              "      <td>0.004441</td>\n",
              "      <td>00:00</td>\n",
              "    </tr>\n",
              "    <tr>\n",
              "      <td>42</td>\n",
              "      <td>0.002943</td>\n",
              "      <td>0.001732</td>\n",
              "      <td>00:00</td>\n",
              "    </tr>\n",
              "    <tr>\n",
              "      <td>43</td>\n",
              "      <td>0.002420</td>\n",
              "      <td>0.002336</td>\n",
              "      <td>00:00</td>\n",
              "    </tr>\n",
              "    <tr>\n",
              "      <td>44</td>\n",
              "      <td>0.002857</td>\n",
              "      <td>0.001381</td>\n",
              "      <td>00:00</td>\n",
              "    </tr>\n",
              "    <tr>\n",
              "      <td>45</td>\n",
              "      <td>0.002578</td>\n",
              "      <td>0.001786</td>\n",
              "      <td>00:00</td>\n",
              "    </tr>\n",
              "    <tr>\n",
              "      <td>46</td>\n",
              "      <td>0.002977</td>\n",
              "      <td>0.001381</td>\n",
              "      <td>00:00</td>\n",
              "    </tr>\n",
              "    <tr>\n",
              "      <td>47</td>\n",
              "      <td>0.002632</td>\n",
              "      <td>0.001843</td>\n",
              "      <td>00:00</td>\n",
              "    </tr>\n",
              "    <tr>\n",
              "      <td>48</td>\n",
              "      <td>0.002867</td>\n",
              "      <td>0.001506</td>\n",
              "      <td>00:00</td>\n",
              "    </tr>\n",
              "    <tr>\n",
              "      <td>49</td>\n",
              "      <td>0.002613</td>\n",
              "      <td>0.001463</td>\n",
              "      <td>00:00</td>\n",
              "    </tr>\n",
              "  </tbody>\n",
              "</table>"
            ],
            "text/plain": [
              "<IPython.core.display.HTML object>"
            ]
          },
          "metadata": {}
        },
        {
          "output_type": "display_data",
          "data": {
            "text/html": [
              "<br/>Waiting for W&B process to finish, PID 452<br/>Program ended successfully."
            ],
            "text/plain": [
              "<IPython.core.display.HTML object>"
            ]
          },
          "metadata": {}
        },
        {
          "output_type": "display_data",
          "data": {
            "application/vnd.jupyter.widget-view+json": {
              "model_id": "0971757734c64062b990574ab6fe2a77",
              "version_minor": 0,
              "version_major": 2
            },
            "text/plain": [
              "VBox(children=(Label(value=' 0.00MB of 0.00MB uploaded (0.00MB deduped)\\r'), FloatProgress(value=1.0, max=1.0)…"
            ]
          },
          "metadata": {}
        },
        {
          "output_type": "display_data",
          "data": {
            "text/html": [
              "Find user logs for this run at: <code>/content/wandb/run-20210908_220925-2gfsqjwe/logs/debug.log</code>"
            ],
            "text/plain": [
              "<IPython.core.display.HTML object>"
            ]
          },
          "metadata": {}
        },
        {
          "output_type": "display_data",
          "data": {
            "text/html": [
              "Find internal logs for this run at: <code>/content/wandb/run-20210908_220925-2gfsqjwe/logs/debug-internal.log</code>"
            ],
            "text/plain": [
              "<IPython.core.display.HTML object>"
            ]
          },
          "metadata": {}
        },
        {
          "output_type": "display_data",
          "data": {
            "text/html": [
              "<h3>Run summary:</h3><br/><style>\n",
              "    table.wandb td:nth-child(1) { padding: 0 10px; text-align: right }\n",
              "    </style><table class=\"wandb\">\n",
              "<tr><td>epoch</td><td>50</td></tr><tr><td>train_loss</td><td>0.00261</td></tr><tr><td>raw_loss</td><td>0.00121</td></tr><tr><td>lr_0</td><td>0.00912</td></tr><tr><td>mom_0</td><td>0.9</td></tr><tr><td>sqr_mom_0</td><td>0.999</td></tr><tr><td>eps_0</td><td>0.0</td></tr><tr><td>wd_0</td><td>0</td></tr><tr><td>amsgrad_0</td><td>False</td></tr><tr><td>lr_1</td><td>0.00912</td></tr><tr><td>mom_1</td><td>0.9</td></tr><tr><td>sqr_mom_1</td><td>0.999</td></tr><tr><td>eps_1</td><td>0.0</td></tr><tr><td>wd_1</td><td>0</td></tr><tr><td>amsgrad_1</td><td>False</td></tr><tr><td>lr_2</td><td>0.00912</td></tr><tr><td>mom_2</td><td>0.9</td></tr><tr><td>sqr_mom_2</td><td>0.999</td></tr><tr><td>eps_2</td><td>0.0</td></tr><tr><td>wd_2</td><td>0</td></tr><tr><td>amsgrad_2</td><td>False</td></tr><tr><td>lr_3</td><td>0.00912</td></tr><tr><td>mom_3</td><td>0.9</td></tr><tr><td>sqr_mom_3</td><td>0.999</td></tr><tr><td>eps_3</td><td>0.0</td></tr><tr><td>wd_3</td><td>0</td></tr><tr><td>amsgrad_3</td><td>False</td></tr><tr><td>lr_4</td><td>0.00912</td></tr><tr><td>mom_4</td><td>0.9</td></tr><tr><td>sqr_mom_4</td><td>0.999</td></tr><tr><td>eps_4</td><td>0.0</td></tr><tr><td>wd_4</td><td>0</td></tr><tr><td>amsgrad_4</td><td>False</td></tr><tr><td>lr_5</td><td>0.00912</td></tr><tr><td>mom_5</td><td>0.9</td></tr><tr><td>sqr_mom_5</td><td>0.999</td></tr><tr><td>eps_5</td><td>0.0</td></tr><tr><td>wd_5</td><td>0</td></tr><tr><td>amsgrad_5</td><td>False</td></tr><tr><td>lr_6</td><td>0.00912</td></tr><tr><td>mom_6</td><td>0.9</td></tr><tr><td>sqr_mom_6</td><td>0.999</td></tr><tr><td>eps_6</td><td>0.0</td></tr><tr><td>wd_6</td><td>0</td></tr><tr><td>amsgrad_6</td><td>False</td></tr><tr><td>lr_7</td><td>0.00912</td></tr><tr><td>mom_7</td><td>0.9</td></tr><tr><td>sqr_mom_7</td><td>0.999</td></tr><tr><td>eps_7</td><td>0.0</td></tr><tr><td>wd_7</td><td>0</td></tr><tr><td>amsgrad_7</td><td>False</td></tr><tr><td>_runtime</td><td>21</td></tr><tr><td>_timestamp</td><td>1631138990</td></tr><tr><td>_step</td><td>1999</td></tr><tr><td>valid_loss</td><td>0.00146</td></tr></table>"
            ],
            "text/plain": [
              "<IPython.core.display.HTML object>"
            ]
          },
          "metadata": {}
        },
        {
          "output_type": "display_data",
          "data": {
            "text/html": [
              "<h3>Run history:</h3><br/><style>\n",
              "    table.wandb td:nth-child(1) { padding: 0 10px; text-align: right }\n",
              "    </style><table class=\"wandb\">\n",
              "<tr><td>epoch</td><td>▁▁▁▂▂▂▂▂▂▃▃▃▃▃▄▄▄▄▄▄▅▅▅▅▅▅▆▆▆▆▆▇▇▇▇▇▇███</td></tr><tr><td>train_loss</td><td>█▅▄▃▃▂▂▂▁▁▁▁▁▁▁▁▁▁▁▁▁▁▁▁▁▁▁▁▁▁▁▁▁▁▁▁▁▁▁▁</td></tr><tr><td>raw_loss</td><td>█▅█▃▁▆▂▁▆▃▁▁▂▁▂▂▃▁▂▂▃▁▁▁▁▁▂▁▁▂▃▁▁▂▂▁▁▂▂▁</td></tr><tr><td>lr_0</td><td>▁▁▁▁▁▁▁▁▁▁▁▁▁▁▁▁▁▁▁▁▁▁▁▁▁▁▁▁▁▁▁▁▁▁▁▁▁▁▁▁</td></tr><tr><td>mom_0</td><td>▁▁▁▁▁▁▁▁▁▁▁▁▁▁▁▁▁▁▁▁▁▁▁▁▁▁▁▁▁▁▁▁▁▁▁▁▁▁▁▁</td></tr><tr><td>sqr_mom_0</td><td>▁▁▁▁▁▁▁▁▁▁▁▁▁▁▁▁▁▁▁▁▁▁▁▁▁▁▁▁▁▁▁▁▁▁▁▁▁▁▁▁</td></tr><tr><td>eps_0</td><td>▁▁▁▁▁▁▁▁▁▁▁▁▁▁▁▁▁▁▁▁▁▁▁▁▁▁▁▁▁▁▁▁▁▁▁▁▁▁▁▁</td></tr><tr><td>wd_0</td><td>▁▁▁▁▁▁▁▁▁▁▁▁▁▁▁▁▁▁▁▁▁▁▁▁▁▁▁▁▁▁▁▁▁▁▁▁▁▁▁▁</td></tr><tr><td>amsgrad_0</td><td>▁▁▁▁▁▁▁▁▁▁▁▁▁▁▁▁▁▁▁▁▁▁▁▁▁▁▁▁▁▁▁▁▁▁▁▁▁▁▁▁</td></tr><tr><td>lr_1</td><td>▁▁▁▁▁▁▁▁▁▁▁▁▁▁▁▁▁▁▁▁▁▁▁▁▁▁▁▁▁▁▁▁▁▁▁▁▁▁▁▁</td></tr><tr><td>mom_1</td><td>▁▁▁▁▁▁▁▁▁▁▁▁▁▁▁▁▁▁▁▁▁▁▁▁▁▁▁▁▁▁▁▁▁▁▁▁▁▁▁▁</td></tr><tr><td>sqr_mom_1</td><td>▁▁▁▁▁▁▁▁▁▁▁▁▁▁▁▁▁▁▁▁▁▁▁▁▁▁▁▁▁▁▁▁▁▁▁▁▁▁▁▁</td></tr><tr><td>eps_1</td><td>▁▁▁▁▁▁▁▁▁▁▁▁▁▁▁▁▁▁▁▁▁▁▁▁▁▁▁▁▁▁▁▁▁▁▁▁▁▁▁▁</td></tr><tr><td>wd_1</td><td>▁▁▁▁▁▁▁▁▁▁▁▁▁▁▁▁▁▁▁▁▁▁▁▁▁▁▁▁▁▁▁▁▁▁▁▁▁▁▁▁</td></tr><tr><td>amsgrad_1</td><td>▁▁▁▁▁▁▁▁▁▁▁▁▁▁▁▁▁▁▁▁▁▁▁▁▁▁▁▁▁▁▁▁▁▁▁▁▁▁▁▁</td></tr><tr><td>lr_2</td><td>▁▁▁▁▁▁▁▁▁▁▁▁▁▁▁▁▁▁▁▁▁▁▁▁▁▁▁▁▁▁▁▁▁▁▁▁▁▁▁▁</td></tr><tr><td>mom_2</td><td>▁▁▁▁▁▁▁▁▁▁▁▁▁▁▁▁▁▁▁▁▁▁▁▁▁▁▁▁▁▁▁▁▁▁▁▁▁▁▁▁</td></tr><tr><td>sqr_mom_2</td><td>▁▁▁▁▁▁▁▁▁▁▁▁▁▁▁▁▁▁▁▁▁▁▁▁▁▁▁▁▁▁▁▁▁▁▁▁▁▁▁▁</td></tr><tr><td>eps_2</td><td>▁▁▁▁▁▁▁▁▁▁▁▁▁▁▁▁▁▁▁▁▁▁▁▁▁▁▁▁▁▁▁▁▁▁▁▁▁▁▁▁</td></tr><tr><td>wd_2</td><td>▁▁▁▁▁▁▁▁▁▁▁▁▁▁▁▁▁▁▁▁▁▁▁▁▁▁▁▁▁▁▁▁▁▁▁▁▁▁▁▁</td></tr><tr><td>amsgrad_2</td><td>▁▁▁▁▁▁▁▁▁▁▁▁▁▁▁▁▁▁▁▁▁▁▁▁▁▁▁▁▁▁▁▁▁▁▁▁▁▁▁▁</td></tr><tr><td>lr_3</td><td>▁▁▁▁▁▁▁▁▁▁▁▁▁▁▁▁▁▁▁▁▁▁▁▁▁▁▁▁▁▁▁▁▁▁▁▁▁▁▁▁</td></tr><tr><td>mom_3</td><td>▁▁▁▁▁▁▁▁▁▁▁▁▁▁▁▁▁▁▁▁▁▁▁▁▁▁▁▁▁▁▁▁▁▁▁▁▁▁▁▁</td></tr><tr><td>sqr_mom_3</td><td>▁▁▁▁▁▁▁▁▁▁▁▁▁▁▁▁▁▁▁▁▁▁▁▁▁▁▁▁▁▁▁▁▁▁▁▁▁▁▁▁</td></tr><tr><td>eps_3</td><td>▁▁▁▁▁▁▁▁▁▁▁▁▁▁▁▁▁▁▁▁▁▁▁▁▁▁▁▁▁▁▁▁▁▁▁▁▁▁▁▁</td></tr><tr><td>wd_3</td><td>▁▁▁▁▁▁▁▁▁▁▁▁▁▁▁▁▁▁▁▁▁▁▁▁▁▁▁▁▁▁▁▁▁▁▁▁▁▁▁▁</td></tr><tr><td>amsgrad_3</td><td>▁▁▁▁▁▁▁▁▁▁▁▁▁▁▁▁▁▁▁▁▁▁▁▁▁▁▁▁▁▁▁▁▁▁▁▁▁▁▁▁</td></tr><tr><td>lr_4</td><td>▁▁▁▁▁▁▁▁▁▁▁▁▁▁▁▁▁▁▁▁▁▁▁▁▁▁▁▁▁▁▁▁▁▁▁▁▁▁▁▁</td></tr><tr><td>mom_4</td><td>▁▁▁▁▁▁▁▁▁▁▁▁▁▁▁▁▁▁▁▁▁▁▁▁▁▁▁▁▁▁▁▁▁▁▁▁▁▁▁▁</td></tr><tr><td>sqr_mom_4</td><td>▁▁▁▁▁▁▁▁▁▁▁▁▁▁▁▁▁▁▁▁▁▁▁▁▁▁▁▁▁▁▁▁▁▁▁▁▁▁▁▁</td></tr><tr><td>eps_4</td><td>▁▁▁▁▁▁▁▁▁▁▁▁▁▁▁▁▁▁▁▁▁▁▁▁▁▁▁▁▁▁▁▁▁▁▁▁▁▁▁▁</td></tr><tr><td>wd_4</td><td>▁▁▁▁▁▁▁▁▁▁▁▁▁▁▁▁▁▁▁▁▁▁▁▁▁▁▁▁▁▁▁▁▁▁▁▁▁▁▁▁</td></tr><tr><td>amsgrad_4</td><td>▁▁▁▁▁▁▁▁▁▁▁▁▁▁▁▁▁▁▁▁▁▁▁▁▁▁▁▁▁▁▁▁▁▁▁▁▁▁▁▁</td></tr><tr><td>lr_5</td><td>▁▁▁▁▁▁▁▁▁▁▁▁▁▁▁▁▁▁▁▁▁▁▁▁▁▁▁▁▁▁▁▁▁▁▁▁▁▁▁▁</td></tr><tr><td>mom_5</td><td>▁▁▁▁▁▁▁▁▁▁▁▁▁▁▁▁▁▁▁▁▁▁▁▁▁▁▁▁▁▁▁▁▁▁▁▁▁▁▁▁</td></tr><tr><td>sqr_mom_5</td><td>▁▁▁▁▁▁▁▁▁▁▁▁▁▁▁▁▁▁▁▁▁▁▁▁▁▁▁▁▁▁▁▁▁▁▁▁▁▁▁▁</td></tr><tr><td>eps_5</td><td>▁▁▁▁▁▁▁▁▁▁▁▁▁▁▁▁▁▁▁▁▁▁▁▁▁▁▁▁▁▁▁▁▁▁▁▁▁▁▁▁</td></tr><tr><td>wd_5</td><td>▁▁▁▁▁▁▁▁▁▁▁▁▁▁▁▁▁▁▁▁▁▁▁▁▁▁▁▁▁▁▁▁▁▁▁▁▁▁▁▁</td></tr><tr><td>amsgrad_5</td><td>▁▁▁▁▁▁▁▁▁▁▁▁▁▁▁▁▁▁▁▁▁▁▁▁▁▁▁▁▁▁▁▁▁▁▁▁▁▁▁▁</td></tr><tr><td>lr_6</td><td>▁▁▁▁▁▁▁▁▁▁▁▁▁▁▁▁▁▁▁▁▁▁▁▁▁▁▁▁▁▁▁▁▁▁▁▁▁▁▁▁</td></tr><tr><td>mom_6</td><td>▁▁▁▁▁▁▁▁▁▁▁▁▁▁▁▁▁▁▁▁▁▁▁▁▁▁▁▁▁▁▁▁▁▁▁▁▁▁▁▁</td></tr><tr><td>sqr_mom_6</td><td>▁▁▁▁▁▁▁▁▁▁▁▁▁▁▁▁▁▁▁▁▁▁▁▁▁▁▁▁▁▁▁▁▁▁▁▁▁▁▁▁</td></tr><tr><td>eps_6</td><td>▁▁▁▁▁▁▁▁▁▁▁▁▁▁▁▁▁▁▁▁▁▁▁▁▁▁▁▁▁▁▁▁▁▁▁▁▁▁▁▁</td></tr><tr><td>wd_6</td><td>▁▁▁▁▁▁▁▁▁▁▁▁▁▁▁▁▁▁▁▁▁▁▁▁▁▁▁▁▁▁▁▁▁▁▁▁▁▁▁▁</td></tr><tr><td>amsgrad_6</td><td>▁▁▁▁▁▁▁▁▁▁▁▁▁▁▁▁▁▁▁▁▁▁▁▁▁▁▁▁▁▁▁▁▁▁▁▁▁▁▁▁</td></tr><tr><td>lr_7</td><td>▁▁▁▁▁▁▁▁▁▁▁▁▁▁▁▁▁▁▁▁▁▁▁▁▁▁▁▁▁▁▁▁▁▁▁▁▁▁▁▁</td></tr><tr><td>mom_7</td><td>▁▁▁▁▁▁▁▁▁▁▁▁▁▁▁▁▁▁▁▁▁▁▁▁▁▁▁▁▁▁▁▁▁▁▁▁▁▁▁▁</td></tr><tr><td>sqr_mom_7</td><td>▁▁▁▁▁▁▁▁▁▁▁▁▁▁▁▁▁▁▁▁▁▁▁▁▁▁▁▁▁▁▁▁▁▁▁▁▁▁▁▁</td></tr><tr><td>eps_7</td><td>▁▁▁▁▁▁▁▁▁▁▁▁▁▁▁▁▁▁▁▁▁▁▁▁▁▁▁▁▁▁▁▁▁▁▁▁▁▁▁▁</td></tr><tr><td>wd_7</td><td>▁▁▁▁▁▁▁▁▁▁▁▁▁▁▁▁▁▁▁▁▁▁▁▁▁▁▁▁▁▁▁▁▁▁▁▁▁▁▁▁</td></tr><tr><td>amsgrad_7</td><td>▁▁▁▁▁▁▁▁▁▁▁▁▁▁▁▁▁▁▁▁▁▁▁▁▁▁▁▁▁▁▁▁▁▁▁▁▁▁▁▁</td></tr><tr><td>_runtime</td><td>▁▁▁▁▂▂▂▂▂▂▃▃▃▃▄▄▄▄▄▄▅▅▅▅▅▅▆▆▆▆▇▇▇▇▇▇████</td></tr><tr><td>_timestamp</td><td>▁▁▁▁▂▂▂▂▂▂▃▃▃▃▄▄▄▄▄▄▅▅▅▅▅▅▆▆▆▆▇▇▇▇▇▇████</td></tr><tr><td>_step</td><td>▁▁▁▂▂▂▂▂▂▃▃▃▃▃▄▄▄▄▄▄▅▅▅▅▅▅▆▆▆▆▆▇▇▇▇▇▇███</td></tr><tr><td>valid_loss</td><td>█▆▆▅▂▂▂▁▁▁▁▁▁▁▁▁▁▁▁▁▁▁▁▁▁▁▁▁▁▁▁▁▁▂▁▁▁▁▁▁</td></tr></table><br/>"
            ],
            "text/plain": [
              "<IPython.core.display.HTML object>"
            ]
          },
          "metadata": {}
        },
        {
          "output_type": "display_data",
          "data": {
            "text/html": [
              "Synced 5 W&B file(s), 0 media file(s), 0 artifact file(s) and 0 other file(s)"
            ],
            "text/plain": [
              "<IPython.core.display.HTML object>"
            ]
          },
          "metadata": {}
        },
        {
          "output_type": "display_data",
          "data": {
            "text/html": [
              "\n",
              "                    <br/>Synced <strong style=\"color:#cdcd00\">fresh-armadillo-4</strong>: <a href=\"https://wandb.ai/drscotthawley/4_nnsfitcurves/runs/2gfsqjwe\" target=\"_blank\">https://wandb.ai/drscotthawley/4_nnsfitcurves/runs/2gfsqjwe</a><br/>\n",
              "                "
            ],
            "text/plain": [
              "<IPython.core.display.HTML object>"
            ]
          },
          "metadata": {}
        }
      ]
    },
    {
      "cell_type": "code",
      "metadata": {
        "colab": {
          "base_uri": "https://localhost:8080/",
          "height": 517
        },
        "id": "BCs8ji5lJl8Y",
        "outputId": "50014851-d667-40bf-f07b-0bfcc6d53c57"
      },
      "source": [
        "predict_surface(learn.model, show_points=True)"
      ],
      "execution_count": null,
      "outputs": [
        {
          "output_type": "display_data",
          "data": {
            "text/html": [
              "<html>\n",
              "<head><meta charset=\"utf-8\" /></head>\n",
              "<body>\n",
              "    <div>\n",
              "            <script src=\"https://cdnjs.cloudflare.com/ajax/libs/mathjax/2.7.5/MathJax.js?config=TeX-AMS-MML_SVG\"></script><script type=\"text/javascript\">if (window.MathJax) {MathJax.Hub.Config({SVG: {font: \"STIX-Web\"}});}</script>\n",
              "                <script type=\"text/javascript\">window.PlotlyConfig = {MathJaxConfig: 'local'};</script>\n",
              "        <script src=\"https://cdn.plot.ly/plotly-latest.min.js\"></script>    \n",
              "            <div id=\"863005c7-703f-4a28-8ef2-945e17fc6592\" class=\"plotly-graph-div\" style=\"height:500px; width:600px;\"></div>\n",
              "            <script type=\"text/javascript\">\n",
              "                \n",
              "                    window.PLOTLYENV=window.PLOTLYENV || {};\n",
              "                    \n",
              "                if (document.getElementById(\"863005c7-703f-4a28-8ef2-945e17fc6592\")) {\n",
              "                    Plotly.newPlot(\n",
              "                        '863005c7-703f-4a28-8ef2-945e17fc6592',\n",
              "                        [{\"colorscale\": [[0.0, \"#440154\"], [0.1111111111111111, \"#482878\"], [0.2222222222222222, \"#3e4989\"], [0.3333333333333333, \"#31688e\"], [0.4444444444444444, \"#26828e\"], [0.5555555555555556, \"#1f9e89\"], [0.6666666666666666, \"#35b779\"], [0.7777777777777778, \"#6ece58\"], [0.8888888888888888, \"#b5de2b\"], [1.0, \"#fde725\"]], \"opacity\": 0.65, \"type\": \"surface\", \"x\": [0.0, 0.05, 0.1, 0.15000000000000002, 0.2, 0.25, 0.30000000000000004, 0.35000000000000003, 0.4, 0.45, 0.5, 0.55, 0.6000000000000001, 0.65, 0.7000000000000001, 0.75, 0.8, 0.8500000000000001, 0.9, 0.9500000000000001], \"y\": [0.05, 0.1, 0.15000000000000002, 0.2, 0.25, 0.3, 0.35000000000000003, 0.4, 0.45, 0.5, 0.55, 0.6000000000000001, 0.6500000000000001, 0.7000000000000001, 0.7500000000000001, 0.8, 0.8500000000000001, 0.9000000000000001, 0.9500000000000001], \"z\": [[0.9171833992004395, 0.6745824217796326, 0.3740999102592468, 0.30698680877685547, 0.3047955334186554, 0.30788010358810425, 0.3302012085914612, 0.3585822582244873, 0.3918745517730713, 0.44348734617233276, 0.49639183282852173, 0.5740476846694946, 0.6578487157821655, 0.7325482964515686, 0.8042089939117432, 0.839928388595581, 0.8700034618377686, 0.9000784158706665, 0.930153489112854, 0.9602285623550415], [0.8960258960723877, 0.6581888794898987, 0.35921934247016907, 0.3050987720489502, 0.3009026348590851, 0.30507659912109375, 0.31687620282173157, 0.3452455699443817, 0.38940536975860596, 0.44106438755989075, 0.48980048298835754, 0.5614193677902222, 0.6452205181121826, 0.7204058170318604, 0.7862772941589355, 0.816352367401123, 0.8464273810386658, 0.8765024542808533, 0.906577467918396, 0.9366525411605835], [0.8782037496566772, 0.643364429473877, 0.36928242444992065, 0.2973289489746094, 0.2904299199581146, 0.2966882586479187, 0.30285656452178955, 0.3357556462287903, 0.386982798576355, 0.43787655234336853, 0.48590683937072754, 0.5487914681434631, 0.63233882188797, 0.7081616520881653, 0.7627012729644775, 0.792776346206665, 0.8228514194488525, 0.8529263734817505, 0.883001446723938, 0.9130764603614807], [0.8603188395500183, 0.6304671168327332, 0.3848297894001007, 0.28961867094039917, 0.2799893617630005, 0.28612014651298523, 0.2929365038871765, 0.32672250270843506, 0.38180312514305115, 0.43411168456077576, 0.48311853408813477, 0.5366412997245789, 0.6189033389091492, 0.6958818435668945, 0.7390947341918945, 0.769200325012207, 0.7992753386497498, 0.829350471496582, 0.85942542552948, 0.8895003795623779], [0.828011155128479, 0.6108589172363281, 0.39606595039367676, 0.2815383970737457, 0.269421249628067, 0.27555203437805176, 0.28473100066185, 0.3163434863090515, 0.37115392088890076, 0.4260091185569763, 0.4803301990032196, 0.5283181071281433, 0.6054679155349731, 0.6836021542549133, 0.7153132557868958, 0.7455204725265503, 0.7756993770599365, 0.8057743906974792, 0.835849404335022, 0.8659244179725647], [0.742926299571991, 0.5370762348175049, 0.35032084584236145, 0.2526942789554596, 0.24239595234394073, 0.25145965814590454, 0.262937068939209, 0.2911144196987152, 0.3459203243255615, 0.40503954887390137, 0.4641749858856201, 0.5179674625396729, 0.5941110849380493, 0.6613246202468872, 0.6915318965911865, 0.7217390537261963, 0.7519463300704956, 0.7821536064147949, 0.8125007152557373, 0.839684784412384], [0.6568330526351929, 0.46387970447540283, 0.30997204780578613, 0.22440935671329498, 0.21183480322360992, 0.22303196787834167, 0.23416583240032196, 0.24503600597381592, 0.28901341557502747, 0.34898877143859863, 0.40900421142578125, 0.4614751935005188, 0.5125433206558228, 0.576462984085083, 0.6150950789451599, 0.6550623178482056, 0.6935411691665649, 0.731366753578186, 0.7631700038909912, 0.7879730463027954], [0.5693596601486206, 0.3957359790802002, 0.27455610036849976, 0.19534486532211304, 0.17714834213256836, 0.19339123368263245, 0.2053714245557785, 0.2168600708246231, 0.23506487905979156, 0.2913961708545685, 0.34731239080429077, 0.3995714783668518, 0.4507104754447937, 0.4859161376953125, 0.5123739242553711, 0.5478381514549255, 0.5878053903579712, 0.6197258830070496, 0.6479133367538452, 0.668656587600708], [0.4816873073577881, 0.3241615891456604, 0.22319626808166504, 0.15507809817790985, 0.14686928689479828, 0.15740114450454712, 0.16840916872024536, 0.18007516860961914, 0.19686226546764374, 0.2378547042608261, 0.28358498215675354, 0.33004820346832275, 0.3753722608089447, 0.4051033556461334, 0.43192368745803833, 0.45796680450439453, 0.476293683052063, 0.4970170259475708, 0.5130788087844849, 0.5289038419723511], [0.3907445967197418, 0.2515745460987091, 0.15722021460533142, 0.1261194944381714, 0.1190044954419136, 0.12670274078845978, 0.1352889984846115, 0.1445670872926712, 0.1552390158176422, 0.18315458297729492, 0.22048066556453705, 0.25433266162872314, 0.29367101192474365, 0.3227725327014923, 0.34809646010398865, 0.3626505136489868, 0.3776577115058899, 0.39309197664260864, 0.4087173342704773, 0.42434269189834595], [0.29914146661758423, 0.18032479286193848, 0.11481563746929169, 0.11111082881689072, 0.11210629343986511, 0.1114666610956192, 0.1108270213007927, 0.11450081318616867, 0.12273433059453964, 0.14581452310085297, 0.17545370757579803, 0.2114291787147522, 0.23640763759613037, 0.2556709051132202, 0.27298104763031006, 0.28785908222198486, 0.30087172985076904, 0.31742921471595764, 0.3347240090370178, 0.350955069065094], [0.20775467157363892, 0.11147205531597137, 0.09303206205368042, 0.1115095466375351, 0.11263203620910645, 0.11199241131544113, 0.11135277152061462, 0.11071313917636871, 0.11089463531970978, 0.12045443803071976, 0.13783617317676544, 0.16567493975162506, 0.18755188584327698, 0.20579978823661804, 0.22124743461608887, 0.23321036994457245, 0.24598005414009094, 0.2623327672481537, 0.2783696949481964, 0.2941644787788391], [0.1379866898059845, 0.09027786552906036, 0.09287311136722565, 0.11190826445817947, 0.11315526068210602, 0.11251814663410187, 0.11187852174043655, 0.11123888194561005, 0.11190381646156311, 0.12152785062789917, 0.13524386286735535, 0.1545490026473999, 0.16576628386974335, 0.17900167405605316, 0.19265200197696686, 0.2038399875164032, 0.21494588255882263, 0.230112686753273, 0.24771074950695038, 0.2652249336242676], [0.17286770045757294, 0.09235721081495285, 0.09173642098903656, 0.1116284728050232, 0.11314629018306732, 0.11264745891094208, 0.11211337149143219, 0.1114748865365982, 0.11772520840167999, 0.12725307047367096, 0.14581334590911865, 0.16284285485744476, 0.1741875410079956, 0.1858663558959961, 0.1988573670387268, 0.2104063183069229, 0.2257525771856308, 0.24303361773490906, 0.2599252164363861, 0.2750592529773712], [0.3239143192768097, 0.1639815866947174, 0.09540301561355591, 0.11111079156398773, 0.1127551794052124, 0.11225634813308716, 0.11175751686096191, 0.1176263764500618, 0.12620270252227783, 0.1405695527791977, 0.1694311499595642, 0.20042684674263, 0.2278381884098053, 0.2571612000465393, 0.29069262742996216, 0.31522461771965027, 0.3339936435222626, 0.35082679986953735, 0.3671776354312897, 0.3835285007953644], [0.4715030789375305, 0.28796783089637756, 0.1761198341846466, 0.11952243000268936, 0.11236406862735748, 0.11191865801811218, 0.12278591096401215, 0.14804787933826447, 0.18578234314918518, 0.2260826975107193, 0.2650821805000305, 0.29702824354171753, 0.32598358392715454, 0.3563230037689209, 0.3863542973995209, 0.41281330585479736, 0.44123584032058716, 0.4638718366622925, 0.4862872064113617, 0.5085139274597168], [0.6153579354286194, 0.43506568670272827, 0.26734116673469543, 0.19337047636508942, 0.145798459649086, 0.17031408846378326, 0.2040555626153946, 0.23737964034080505, 0.2699667811393738, 0.304951548576355, 0.34451863169670105, 0.37488120794296265, 0.40524381399154663, 0.4526093006134033, 0.5024851560592651, 0.5408157110214233, 0.5773490071296692, 0.6082499027252197, 0.6308567523956299, 0.6534734964370728], [0.7592127323150635, 0.5784569382667542, 0.37678658962249756, 0.257396936416626, 0.22008933126926422, 0.24503061175346375, 0.26908665895462036, 0.30015379190444946, 0.3405425250530243, 0.3863059878349304, 0.43503832817077637, 0.48553240299224854, 0.536422848701477, 0.5836089849472046, 0.6266392469406128, 0.6653382182121277, 0.7015465497970581, 0.737754762172699, 0.7707531452178955, 0.7957452535629272], [0.9002125263214111, 0.7194230556488037, 0.5100850462913513, 0.31750360131263733, 0.27688878774642944, 0.30094486474990845, 0.33251455426216125, 0.3776308596134186, 0.4404609799385071, 0.5145525336265564, 0.569775402545929, 0.6206657886505127, 0.6647331118583679, 0.7073789834976196, 0.7499988079071045, 0.7895359396934509, 0.8257441520690918, 0.8619524836540222, 0.8981606960296631, 0.9321017861366272]]}, {\"marker\": {\"color\": [0.7963289218726609, 0.95, 0.8374708388010617, 0.7731047938634492, 0.2100838187468362, 0.4710397198901133, 0.7243163094450482, 0.6606796531188589, 0.6419841678995071, 0.47941613448851245, 0.41165745068563425, 0.2476853629404794, 0.3613400127865251, 0.45067600214602677, 0.41958416635903906, 0.21746291791063213, 0.5040498995285058, 0.504773384885581, 0.5022639721258529, 0.48851458236007833, 0.32924930572590644, 0.44800701419191535, 0.4317484959939039, 0.19695851301433911, 0.22414477485627474, 0.3463033691212989, 0.4095506663031099, 0.3771521991725676, 0.28509793226393076, 0.10534091075258313, 0.11221824540931948, 0.37630007916845437, 0.37452877175700927, 0.37093144018138735, 0.2283592317762059, 0.12916008945763557, 0.09513764047344998, 0.23690485519414214, 0.3508328957155223, 0.32386870199679363, 0.3342656867888549, 0.3238134606942762, 0.16591198481823763, 0.25182772029704825, 0.08341993225071011, 0.09751867333235635, 0.14131572251465765, 0.3027998218782933, 0.3218053605832753, 0.30082225701146814, 0.20883523696738804, 0.12196896250668506, 0.26558076377893425, 0.3198371404982752, 0.3185762928253492, 0.31676511951795505, 0.3020145879755322, 0.2960072324921016, 0.23711440191764752, 0.18003007783546893, 0.13585328650527365, 0.31893794260881425, 0.32741166846664543, 0.31280638526438004, 0.21361801273747638, 0.1384159968492536, 0.08195447923875288, 0.3173592788606252, 0.24916165839694304, 0.1427556904623841, 0.1048253785814643, 0.09581493045898555, 0.11382370327317366, 0.29931994329325445, 0.35159660712388946, 0.3304414955277893, 0.24481972388563775, 0.13445925829806166, 0.17439093980468798, 0.3568813865606345, 0.29949269221570385, 0.38755466924367227, 0.3577681261181445, 0.25340843026037674, 0.19939731000214436, 0.32226555936573753, 0.36271695194167075, 0.41047939777792586, 0.41046753956235843, 0.37800746116329864, 0.3028000779559857, 0.2299021955736589, 0.12342375301307147, 0.21534894988858305, 0.45943583074134203, 0.4591114705293844, 0.3568315882397822, 0.21465991615952637, 0.11615634251866201, 0.12592037168727904, 0.48592944462834625, 0.48352768045984823, 0.478883419394282, 0.4751571060303649, 0.3946655134073982, 0.3169670968372219, 0.22698468605808836, 0.13315013136646284, 0.3058511488565124, 0.3394578794758633, 0.45369184881681607, 0.2873960363312139, 0.21687318326811375, 0.13198313862356453, 0.25444443974364866, 0.5403105357101123, 0.5381471337854108, 0.5329782553902612, 0.1855855602628826, 0.26818185934380784, 0.5366341738891165, 0.5659656220006253, 0.5605295483094423, 0.2919316146661785, 0.14629985811591067, 0.24783609379239013, 0.5039895842176705, 0.1576428383106277, 0.29591585207402427, 0.33483624054663913, 0.6154656475973453, 0.5274448480659834, 0.3789036119484683, 0.2721258895699153, 0.648677173424424, 0.4809031864608978, 0.18493096275209575, 0.2492434618488904, 0.4103149969411732, 0.45540014905793363, 0.6321143036732222, 0.6726918360366193, 0.663662814068564, 0.6250359904036967, 0.5512383628900841, 0.21064243309346548, 0.29573729773324847, 0.5630115104346897, 0.6014715327709574, 0.6336817976294686, 0.7041301908209088, 0.6731954024710819, 0.6156233365140265, 0.19993626567793182, 0.17637548731241537, 0.23751503099835655, 0.3954605387254439, 0.6834040740243644, 0.7298455756832299, 0.719432935269202, 0.5385312323080607, 0.44290975262770294, 0.27811233250437645, 0.21950967204135485, 0.7243678236068333, 0.7542810213297924, 0.7475725044346073, 0.6370161689031669, 0.5856744975773706, 0.4747418682439142, 0.7313676753388335, 0.32857943894256836, 0.29616758202164034, 0.22053633021956728, 0.5564863486072538, 0.37340392604018513, 0.20561628882456826, 0.3056319993305796, 0.793706863751425, 0.7552453487629456, 0.3466218101613633, 0.2072916558123502, 0.22471646215417804, 0.3573461720572264, 0.8018544020429924, 0.7090006511537061, 0.43087968153772316, 0.3921391058854304, 0.21008381874683618, 0.2524275442536908, 0.5864479743332263, 0.6431635166047076, 0.8554452534710889, 0.8450763043571082, 0.6658478767039009, 0.5202604976296853, 0.21674777844995574, 0.32785561360126153, 0.23951617934061184, 0.3342025477554307, 0.7746367161665838, 0.8741360237947211, 0.8884240416153631, 0.7510339928767338, 0.6560046789616308, 0.26739279599309973, 0.8898490735766664, 0.7333574879715831, 0.6660961636154645, 0.6307720571156268, 0.8001867831671221, 0.8948491378590934, 0.4274734567756147, 0.2353898811009079, 0.8699276975065906, 0.45910550213432394, 0.519489440229377, 0.8977411526561268, 0.9304334163472624, 0.9049629617607762, 0.3575036323323012, 0.46367498389598366, 0.5246599239449228, 0.5885374112474016, 0.9428169867066626, 0.5280549923854406, 0.39847789343645873, 0.2583349917248565, 0.2834880667184344, 0.7820754526534869, 0.9490592246702769, 0.9280199823878809, 0.26005289828866074, 0.4706193787311008, 0.805611084062272, 0.24535651223506413, 0.95, 0.5807980185279384, 0.36469526960834386, 0.9453979567427928, 0.916298087276931, 0.6678163561382314, 0.6257473814475161, 0.24675164289142357, 0.901998549114212, 0.7081672707847128, 0.4484169585194513, 0.32942000003132704, 0.8507271491817123, 0.95], \"opacity\": 0.8, \"size\": 5}, \"mode\": \"markers\", \"type\": \"scatter3d\", \"x\": [0.05, 0.05, 0.05, 0.05, 0.05, 0.05, 0.05, 0.05, 0.05, 0.05, 0.05, 0.05, 0.061224489795918366, 0.061224489795918366, 0.08163265306122448, 0.08163265306122448, 0.08163265306122448, 0.1020408163265306, 0.1020408163265306, 0.1020408163265306, 0.1020408163265306, 0.12244897959183673, 0.12244897959183673, 0.12244897959183673, 0.12244897959183673, 0.12244897959183673, 0.14285714285714285, 0.14285714285714285, 0.14285714285714285, 0.14285714285714285, 0.14285714285714285, 0.16326530612244897, 0.16326530612244897, 0.16326530612244897, 0.16326530612244897, 0.16326530612244897, 0.16326530612244897, 0.16326530612244897, 0.18367346938775508, 0.18367346938775508, 0.2040816326530612, 0.2040816326530612, 0.2040816326530612, 0.22448979591836732, 0.22448979591836732, 0.22448979591836732, 0.22448979591836732, 0.22448979591836732, 0.22448979591836732, 0.24489795918367346, 0.24489795918367346, 0.24489795918367346, 0.24489795918367346, 0.26530612244897955, 0.26530612244897955, 0.26530612244897955, 0.26530612244897955, 0.26530612244897955, 0.26530612244897955, 0.26530612244897955, 0.26530612244897955, 0.26530612244897955, 0.2857142857142857, 0.2857142857142857, 0.2857142857142857, 0.2857142857142857, 0.2857142857142857, 0.3061224489795918, 0.3061224489795918, 0.3061224489795918, 0.3061224489795918, 0.3061224489795918, 0.3061224489795918, 0.3061224489795918, 0.32653061224489793, 0.32653061224489793, 0.32653061224489793, 0.32653061224489793, 0.32653061224489793, 0.3469387755102041, 0.3469387755102041, 0.36734693877551017, 0.36734693877551017, 0.36734693877551017, 0.36734693877551017, 0.36734693877551017, 0.36734693877551017, 0.3877551020408163, 0.3877551020408163, 0.3877551020408163, 0.3877551020408163, 0.3877551020408163, 0.3877551020408163, 0.4081632653061224, 0.42857142857142855, 0.42857142857142855, 0.42857142857142855, 0.42857142857142855, 0.42857142857142855, 0.42857142857142855, 0.44897959183673464, 0.44897959183673464, 0.44897959183673464, 0.44897959183673464, 0.44897959183673464, 0.44897959183673464, 0.44897959183673464, 0.44897959183673464, 0.44897959183673464, 0.44897959183673464, 0.44897959183673464, 0.4693877551020408, 0.4693877551020408, 0.4693877551020408, 0.4693877551020408, 0.4897959183673469, 0.4897959183673469, 0.4897959183673469, 0.4897959183673469, 0.4897959183673469, 0.4897959183673469, 0.5102040816326531, 0.5102040816326531, 0.5102040816326531, 0.5102040816326531, 0.5102040816326531, 0.5306122448979591, 0.5306122448979591, 0.5306122448979591, 0.5306122448979591, 0.5510204081632653, 0.5510204081632653, 0.5510204081632653, 0.5510204081632653, 0.5714285714285714, 0.5714285714285714, 0.5714285714285714, 0.5714285714285714, 0.5714285714285714, 0.5714285714285714, 0.5714285714285714, 0.5918367346938775, 0.5918367346938775, 0.5918367346938775, 0.5918367346938775, 0.5918367346938775, 0.5918367346938775, 0.5918367346938775, 0.5918367346938775, 0.5918367346938775, 0.6122448979591836, 0.6122448979591836, 0.6122448979591836, 0.6122448979591836, 0.6122448979591836, 0.6122448979591836, 0.6122448979591836, 0.6122448979591836, 0.6326530612244897, 0.6326530612244897, 0.6326530612244897, 0.6326530612244897, 0.6326530612244897, 0.6326530612244897, 0.6326530612244897, 0.6530612244897959, 0.6530612244897959, 0.6530612244897959, 0.6530612244897959, 0.6530612244897959, 0.6530612244897959, 0.673469387755102, 0.673469387755102, 0.673469387755102, 0.6938775510204082, 0.6938775510204082, 0.6938775510204082, 0.6938775510204082, 0.7142857142857142, 0.7142857142857142, 0.7142857142857142, 0.7142857142857142, 0.7142857142857142, 0.7142857142857142, 0.7346938775510203, 0.7346938775510203, 0.7346938775510203, 0.7346938775510203, 0.7346938775510203, 0.7346938775510203, 0.7346938775510203, 0.7346938775510203, 0.7551020408163265, 0.7551020408163265, 0.7551020408163265, 0.7551020408163265, 0.7551020408163265, 0.7551020408163265, 0.7755102040816326, 0.7755102040816326, 0.7755102040816326, 0.7755102040816326, 0.7959183673469387, 0.7959183673469387, 0.7959183673469387, 0.7959183673469387, 0.8163265306122448, 0.8163265306122448, 0.8163265306122448, 0.8163265306122448, 0.8163265306122448, 0.836734693877551, 0.836734693877551, 0.836734693877551, 0.8571428571428571, 0.8571428571428571, 0.8571428571428571, 0.8571428571428571, 0.8775510204081632, 0.8775510204081632, 0.8775510204081632, 0.8775510204081632, 0.8775510204081632, 0.8775510204081632, 0.8979591836734693, 0.8979591836734693, 0.8979591836734693, 0.8979591836734693, 0.8979591836734693, 0.8979591836734693, 0.9183673469387754, 0.9183673469387754, 0.9183673469387754, 0.9183673469387754, 0.9387755102040816, 0.9387755102040816, 0.95, 0.95, 0.95, 0.95, 0.95, 0.95, 0.95, 0.95, 0.95, 0.95, 0.95, 0.95, 0.95, 0.95], \"y\": [0.8979591836734693, 0.95, 0.08163265306122448, 0.24489795918367346, 0.6530612244897959, 0.8163265306122448, 0.14285714285714285, 0.26530612244897955, 0.2857142857142857, 0.4081632653061224, 0.44897959183673464, 0.7346938775510203, 0.44897959183673464, 0.8571428571428571, 0.36734693877551017, 0.7551020408163265, 0.9183673469387754, 0.05, 0.1020408163265306, 0.18367346938775508, 0.4081632653061224, 0.12244897959183673, 0.2040816326530612, 0.7755102040816326, 0.7959183673469387, 0.8775510204081632, 0.05, 0.24489795918367346, 0.3877551020408163, 0.673469387755102, 0.6938775510204082, 0.05, 0.1020408163265306, 0.14285714285714285, 0.42857142857142855, 0.5510204081632653, 0.6326530612244897, 0.836734693877551, 0.08163265306122448, 0.24489795918367346, 0.061224489795918366, 0.18367346938775508, 0.7959183673469387, 0.3469387755102041, 0.673469387755102, 0.7142857142857142, 0.7755102040816326, 0.9387755102040816, 0.95, 0.22448979591836732, 0.4081632653061224, 0.5306122448979591, 0.8979591836734693, 0.1020408163265306, 0.12244897959183673, 0.14285714285714285, 0.22448979591836732, 0.24489795918367346, 0.36734693877551017, 0.44897959183673464, 0.5102040816326531, 0.95, 0.05, 0.2040816326530612, 0.4081632653061224, 0.5102040816326531, 0.6530612244897959, 0.22448979591836732, 0.36734693877551017, 0.5102040816326531, 0.5714285714285714, 0.5918367346938775, 0.7346938775510203, 0.9183673469387754, 0.05, 0.22448979591836732, 0.3877551020408163, 0.7551020408163265, 0.7959183673469387, 0.18367346938775508, 0.32653061224489793, 0.08163265306122448, 0.24489795918367346, 0.4081632653061224, 0.4693877551020408, 0.8979591836734693, 0.9387755102040816, 0.05, 0.05, 0.24489795918367346, 0.36734693877551017, 0.44897959183673464, 0.7142857142857142, 0.7959183673469387, 0.05, 0.061224489795918366, 0.3469387755102041, 0.4897959183673469, 0.6326530612244897, 0.6938775510204082, 0.05, 0.1020408163265306, 0.14285714285714285, 0.16326530612244897, 0.32653061224489793, 0.4081632653061224, 0.4897959183673469, 0.6938775510204082, 0.836734693877551, 0.8571428571428571, 0.9387755102040816, 0.44897959183673464, 0.5102040816326531, 0.673469387755102, 0.7959183673469387, 0.061224489795918366, 0.1020408163265306, 0.14285714285714285, 0.5510204081632653, 0.7959183673469387, 0.95, 0.1020408163265306, 0.14285714285714285, 0.4693877551020408, 0.673469387755102, 0.7755102040816326, 0.3061224489795918, 0.6122448979591836, 0.7959183673469387, 0.8163265306122448, 0.14285714285714285, 0.3061224489795918, 0.42857142857142855, 0.7755102040816326, 0.1020408163265306, 0.36734693877551017, 0.5918367346938775, 0.7551020408163265, 0.836734693877551, 0.8571428571428571, 0.95, 0.12244897959183673, 0.16326530612244897, 0.24489795918367346, 0.32653061224489793, 0.5714285714285714, 0.7755102040816326, 0.8979591836734693, 0.9183673469387754, 0.9387755102040816, 0.061224489795918366, 0.2040816326530612, 0.2857142857142857, 0.5918367346938775, 0.6530612244897959, 0.7346938775510203, 0.8163265306122448, 0.95, 0.05, 0.14285714285714285, 0.36734693877551017, 0.42857142857142855, 0.5306122448979591, 0.7142857142857142, 0.95, 0.05, 0.12244897959183673, 0.3061224489795918, 0.3469387755102041, 0.836734693877551, 0.95, 0.5102040816326531, 0.5306122448979591, 0.5918367346938775, 0.3877551020408163, 0.4897959183673469, 0.673469387755102, 0.7551020408163265, 0.18367346938775508, 0.24489795918367346, 0.5102040816326531, 0.6326530612244897, 0.6938775510204082, 0.7755102040816326, 0.2040816326530612, 0.3061224489795918, 0.4693877551020408, 0.4897959183673469, 0.6530612244897959, 0.7142857142857142, 0.8571428571428571, 0.8775510204081632, 0.08163265306122448, 0.14285714285714285, 0.3469387755102041, 0.42857142857142855, 0.6326530612244897, 0.7551020408163265, 0.6938775510204082, 0.7551020408163265, 0.9183673469387754, 0.95, 0.061224489795918366, 0.3061224489795918, 0.36734693877551017, 0.7142857142857142, 0.14285714285714285, 0.32653061224489793, 0.36734693877551017, 0.8571428571428571, 0.9183673469387754, 0.16326530612244897, 0.4897959183673469, 0.673469387755102, 0.22448979591836732, 0.7959183673469387, 0.8163265306122448, 0.95, 0.1020408163265306, 0.18367346938775508, 0.7551020408163265, 0.7959183673469387, 0.8163265306122448, 0.836734693877551, 0.05, 0.44897959183673464, 0.5102040816326531, 0.6938775510204082, 0.7142857142857142, 0.8979591836734693, 0.05, 0.16326530612244897, 0.6938775510204082, 0.7959183673469387, 0.3061224489795918, 0.673469387755102, 0.08163265306122448, 0.42857142857142855, 0.5306122448979591, 0.14285714285714285, 0.2040816326530612, 0.3877551020408163, 0.4081632653061224, 0.673469387755102, 0.22448979591836732, 0.36734693877551017, 0.4897959183673469, 0.5510204081632653, 0.9183673469387754, 0.95], \"z\": [0.7963289218726609, 0.95, 0.8374708388010617, 0.7731047938634492, 0.2100838187468362, 0.4710397198901133, 0.7243163094450482, 0.6606796531188589, 0.6419841678995071, 0.47941613448851245, 0.41165745068563425, 0.2476853629404794, 0.3613400127865251, 0.45067600214602677, 0.41958416635903906, 0.21746291791063213, 0.5040498995285058, 0.504773384885581, 0.5022639721258529, 0.48851458236007833, 0.32924930572590644, 0.44800701419191535, 0.4317484959939039, 0.19695851301433911, 0.22414477485627474, 0.3463033691212989, 0.4095506663031099, 0.3771521991725676, 0.28509793226393076, 0.10534091075258313, 0.11221824540931948, 0.37630007916845437, 0.37452877175700927, 0.37093144018138735, 0.2283592317762059, 0.12916008945763557, 0.09513764047344998, 0.23690485519414214, 0.3508328957155223, 0.32386870199679363, 0.3342656867888549, 0.3238134606942762, 0.16591198481823763, 0.25182772029704825, 0.08341993225071011, 0.09751867333235635, 0.14131572251465765, 0.3027998218782933, 0.3218053605832753, 0.30082225701146814, 0.20883523696738804, 0.12196896250668506, 0.26558076377893425, 0.3198371404982752, 0.3185762928253492, 0.31676511951795505, 0.3020145879755322, 0.2960072324921016, 0.23711440191764752, 0.18003007783546893, 0.13585328650527365, 0.31893794260881425, 0.32741166846664543, 0.31280638526438004, 0.21361801273747638, 0.1384159968492536, 0.08195447923875288, 0.3173592788606252, 0.24916165839694304, 0.1427556904623841, 0.1048253785814643, 0.09581493045898555, 0.11382370327317366, 0.29931994329325445, 0.35159660712388946, 0.3304414955277893, 0.24481972388563775, 0.13445925829806166, 0.17439093980468798, 0.3568813865606345, 0.29949269221570385, 0.38755466924367227, 0.3577681261181445, 0.25340843026037674, 0.19939731000214436, 0.32226555936573753, 0.36271695194167075, 0.41047939777792586, 0.41046753956235843, 0.37800746116329864, 0.3028000779559857, 0.2299021955736589, 0.12342375301307147, 0.21534894988858305, 0.45943583074134203, 0.4591114705293844, 0.3568315882397822, 0.21465991615952637, 0.11615634251866201, 0.12592037168727904, 0.48592944462834625, 0.48352768045984823, 0.478883419394282, 0.4751571060303649, 0.3946655134073982, 0.3169670968372219, 0.22698468605808836, 0.13315013136646284, 0.3058511488565124, 0.3394578794758633, 0.45369184881681607, 0.2873960363312139, 0.21687318326811375, 0.13198313862356453, 0.25444443974364866, 0.5403105357101123, 0.5381471337854108, 0.5329782553902612, 0.1855855602628826, 0.26818185934380784, 0.5366341738891165, 0.5659656220006253, 0.5605295483094423, 0.2919316146661785, 0.14629985811591067, 0.24783609379239013, 0.5039895842176705, 0.1576428383106277, 0.29591585207402427, 0.33483624054663913, 0.6154656475973453, 0.5274448480659834, 0.3789036119484683, 0.2721258895699153, 0.648677173424424, 0.4809031864608978, 0.18493096275209575, 0.2492434618488904, 0.4103149969411732, 0.45540014905793363, 0.6321143036732222, 0.6726918360366193, 0.663662814068564, 0.6250359904036967, 0.5512383628900841, 0.21064243309346548, 0.29573729773324847, 0.5630115104346897, 0.6014715327709574, 0.6336817976294686, 0.7041301908209088, 0.6731954024710819, 0.6156233365140265, 0.19993626567793182, 0.17637548731241537, 0.23751503099835655, 0.3954605387254439, 0.6834040740243644, 0.7298455756832299, 0.719432935269202, 0.5385312323080607, 0.44290975262770294, 0.27811233250437645, 0.21950967204135485, 0.7243678236068333, 0.7542810213297924, 0.7475725044346073, 0.6370161689031669, 0.5856744975773706, 0.4747418682439142, 0.7313676753388335, 0.32857943894256836, 0.29616758202164034, 0.22053633021956728, 0.5564863486072538, 0.37340392604018513, 0.20561628882456826, 0.3056319993305796, 0.793706863751425, 0.7552453487629456, 0.3466218101613633, 0.2072916558123502, 0.22471646215417804, 0.3573461720572264, 0.8018544020429924, 0.7090006511537061, 0.43087968153772316, 0.3921391058854304, 0.21008381874683618, 0.2524275442536908, 0.5864479743332263, 0.6431635166047076, 0.8554452534710889, 0.8450763043571082, 0.6658478767039009, 0.5202604976296853, 0.21674777844995574, 0.32785561360126153, 0.23951617934061184, 0.3342025477554307, 0.7746367161665838, 0.8741360237947211, 0.8884240416153631, 0.7510339928767338, 0.6560046789616308, 0.26739279599309973, 0.8898490735766664, 0.7333574879715831, 0.6660961636154645, 0.6307720571156268, 0.8001867831671221, 0.8948491378590934, 0.4274734567756147, 0.2353898811009079, 0.8699276975065906, 0.45910550213432394, 0.519489440229377, 0.8977411526561268, 0.9304334163472624, 0.9049629617607762, 0.3575036323323012, 0.46367498389598366, 0.5246599239449228, 0.5885374112474016, 0.9428169867066626, 0.5280549923854406, 0.39847789343645873, 0.2583349917248565, 0.2834880667184344, 0.7820754526534869, 0.9490592246702769, 0.9280199823878809, 0.26005289828866074, 0.4706193787311008, 0.805611084062272, 0.24535651223506413, 0.95, 0.5807980185279384, 0.36469526960834386, 0.9453979567427928, 0.916298087276931, 0.6678163561382314, 0.6257473814475161, 0.24675164289142357, 0.901998549114212, 0.7081672707847128, 0.4484169585194513, 0.32942000003132704, 0.8507271491817123, 0.95]}],\n",
              "                        {\"autosize\": false, \"height\": 500, \"margin\": {\"b\": 25, \"l\": 20, \"r\": 20, \"t\": 20}, \"scene\": {\"xaxis\": {\"title\": {\"text\": \"calories\"}}, \"yaxis\": {\"title\": {\"text\": \"exercise\"}}, \"zaxis\": {\"title\": {\"text\": \"risk of death!\"}}}, \"template\": {\"data\": {\"bar\": [{\"error_x\": {\"color\": \"#2a3f5f\"}, \"error_y\": {\"color\": \"#2a3f5f\"}, \"marker\": {\"line\": {\"color\": \"#E5ECF6\", \"width\": 0.5}}, \"type\": \"bar\"}], \"barpolar\": [{\"marker\": {\"line\": {\"color\": \"#E5ECF6\", \"width\": 0.5}}, \"type\": \"barpolar\"}], \"carpet\": [{\"aaxis\": {\"endlinecolor\": \"#2a3f5f\", \"gridcolor\": \"white\", \"linecolor\": \"white\", \"minorgridcolor\": \"white\", \"startlinecolor\": \"#2a3f5f\"}, \"baxis\": {\"endlinecolor\": \"#2a3f5f\", \"gridcolor\": \"white\", \"linecolor\": \"white\", \"minorgridcolor\": \"white\", \"startlinecolor\": \"#2a3f5f\"}, \"type\": \"carpet\"}], \"choropleth\": [{\"colorbar\": {\"outlinewidth\": 0, \"ticks\": \"\"}, \"type\": \"choropleth\"}], \"contour\": [{\"colorbar\": {\"outlinewidth\": 0, \"ticks\": \"\"}, \"colorscale\": [[0.0, \"#0d0887\"], [0.1111111111111111, \"#46039f\"], [0.2222222222222222, \"#7201a8\"], [0.3333333333333333, \"#9c179e\"], [0.4444444444444444, \"#bd3786\"], [0.5555555555555556, \"#d8576b\"], [0.6666666666666666, \"#ed7953\"], [0.7777777777777778, \"#fb9f3a\"], [0.8888888888888888, \"#fdca26\"], [1.0, \"#f0f921\"]], \"type\": \"contour\"}], \"contourcarpet\": [{\"colorbar\": {\"outlinewidth\": 0, \"ticks\": \"\"}, \"type\": \"contourcarpet\"}], \"heatmap\": [{\"colorbar\": {\"outlinewidth\": 0, \"ticks\": \"\"}, \"colorscale\": [[0.0, \"#0d0887\"], [0.1111111111111111, \"#46039f\"], [0.2222222222222222, \"#7201a8\"], [0.3333333333333333, \"#9c179e\"], [0.4444444444444444, \"#bd3786\"], [0.5555555555555556, \"#d8576b\"], [0.6666666666666666, \"#ed7953\"], [0.7777777777777778, \"#fb9f3a\"], [0.8888888888888888, \"#fdca26\"], [1.0, \"#f0f921\"]], \"type\": \"heatmap\"}], \"heatmapgl\": [{\"colorbar\": {\"outlinewidth\": 0, \"ticks\": \"\"}, \"colorscale\": [[0.0, \"#0d0887\"], [0.1111111111111111, \"#46039f\"], [0.2222222222222222, \"#7201a8\"], [0.3333333333333333, \"#9c179e\"], [0.4444444444444444, \"#bd3786\"], [0.5555555555555556, \"#d8576b\"], [0.6666666666666666, \"#ed7953\"], [0.7777777777777778, \"#fb9f3a\"], [0.8888888888888888, \"#fdca26\"], [1.0, \"#f0f921\"]], \"type\": \"heatmapgl\"}], \"histogram\": [{\"marker\": {\"colorbar\": {\"outlinewidth\": 0, \"ticks\": \"\"}}, \"type\": \"histogram\"}], \"histogram2d\": [{\"colorbar\": {\"outlinewidth\": 0, \"ticks\": \"\"}, \"colorscale\": [[0.0, \"#0d0887\"], [0.1111111111111111, \"#46039f\"], [0.2222222222222222, \"#7201a8\"], [0.3333333333333333, \"#9c179e\"], [0.4444444444444444, \"#bd3786\"], [0.5555555555555556, \"#d8576b\"], [0.6666666666666666, \"#ed7953\"], [0.7777777777777778, \"#fb9f3a\"], [0.8888888888888888, \"#fdca26\"], [1.0, \"#f0f921\"]], \"type\": \"histogram2d\"}], \"histogram2dcontour\": [{\"colorbar\": {\"outlinewidth\": 0, \"ticks\": \"\"}, \"colorscale\": [[0.0, \"#0d0887\"], [0.1111111111111111, \"#46039f\"], [0.2222222222222222, \"#7201a8\"], [0.3333333333333333, \"#9c179e\"], [0.4444444444444444, \"#bd3786\"], [0.5555555555555556, \"#d8576b\"], [0.6666666666666666, \"#ed7953\"], [0.7777777777777778, \"#fb9f3a\"], [0.8888888888888888, \"#fdca26\"], [1.0, \"#f0f921\"]], \"type\": \"histogram2dcontour\"}], \"mesh3d\": [{\"colorbar\": {\"outlinewidth\": 0, \"ticks\": \"\"}, \"type\": \"mesh3d\"}], \"parcoords\": [{\"line\": {\"colorbar\": {\"outlinewidth\": 0, \"ticks\": \"\"}}, \"type\": \"parcoords\"}], \"pie\": [{\"automargin\": true, \"type\": \"pie\"}], \"scatter\": [{\"marker\": {\"colorbar\": {\"outlinewidth\": 0, \"ticks\": \"\"}}, \"type\": \"scatter\"}], \"scatter3d\": [{\"line\": {\"colorbar\": {\"outlinewidth\": 0, \"ticks\": \"\"}}, \"marker\": {\"colorbar\": {\"outlinewidth\": 0, \"ticks\": \"\"}}, \"type\": \"scatter3d\"}], \"scattercarpet\": [{\"marker\": {\"colorbar\": {\"outlinewidth\": 0, \"ticks\": \"\"}}, \"type\": \"scattercarpet\"}], \"scattergeo\": [{\"marker\": {\"colorbar\": {\"outlinewidth\": 0, \"ticks\": \"\"}}, \"type\": \"scattergeo\"}], \"scattergl\": [{\"marker\": {\"colorbar\": {\"outlinewidth\": 0, \"ticks\": \"\"}}, \"type\": \"scattergl\"}], \"scattermapbox\": [{\"marker\": {\"colorbar\": {\"outlinewidth\": 0, \"ticks\": \"\"}}, \"type\": \"scattermapbox\"}], \"scatterpolar\": [{\"marker\": {\"colorbar\": {\"outlinewidth\": 0, \"ticks\": \"\"}}, \"type\": \"scatterpolar\"}], \"scatterpolargl\": [{\"marker\": {\"colorbar\": {\"outlinewidth\": 0, \"ticks\": \"\"}}, \"type\": \"scatterpolargl\"}], \"scatterternary\": [{\"marker\": {\"colorbar\": {\"outlinewidth\": 0, \"ticks\": \"\"}}, \"type\": \"scatterternary\"}], \"surface\": [{\"colorbar\": {\"outlinewidth\": 0, \"ticks\": \"\"}, \"colorscale\": [[0.0, \"#0d0887\"], [0.1111111111111111, \"#46039f\"], [0.2222222222222222, \"#7201a8\"], [0.3333333333333333, \"#9c179e\"], [0.4444444444444444, \"#bd3786\"], [0.5555555555555556, \"#d8576b\"], [0.6666666666666666, \"#ed7953\"], [0.7777777777777778, \"#fb9f3a\"], [0.8888888888888888, \"#fdca26\"], [1.0, \"#f0f921\"]], \"type\": \"surface\"}], \"table\": [{\"cells\": {\"fill\": {\"color\": \"#EBF0F8\"}, \"line\": {\"color\": \"white\"}}, \"header\": {\"fill\": {\"color\": \"#C8D4E3\"}, \"line\": {\"color\": \"white\"}}, \"type\": \"table\"}]}, \"layout\": {\"annotationdefaults\": {\"arrowcolor\": \"#2a3f5f\", \"arrowhead\": 0, \"arrowwidth\": 1}, \"coloraxis\": {\"colorbar\": {\"outlinewidth\": 0, \"ticks\": \"\"}}, \"colorscale\": {\"diverging\": [[0, \"#8e0152\"], [0.1, \"#c51b7d\"], [0.2, \"#de77ae\"], [0.3, \"#f1b6da\"], [0.4, \"#fde0ef\"], [0.5, \"#f7f7f7\"], [0.6, \"#e6f5d0\"], [0.7, \"#b8e186\"], [0.8, \"#7fbc41\"], [0.9, \"#4d9221\"], [1, \"#276419\"]], \"sequential\": [[0.0, \"#0d0887\"], [0.1111111111111111, \"#46039f\"], [0.2222222222222222, \"#7201a8\"], [0.3333333333333333, \"#9c179e\"], [0.4444444444444444, \"#bd3786\"], [0.5555555555555556, \"#d8576b\"], [0.6666666666666666, \"#ed7953\"], [0.7777777777777778, \"#fb9f3a\"], [0.8888888888888888, \"#fdca26\"], [1.0, \"#f0f921\"]], \"sequentialminus\": [[0.0, \"#0d0887\"], [0.1111111111111111, \"#46039f\"], [0.2222222222222222, \"#7201a8\"], [0.3333333333333333, \"#9c179e\"], [0.4444444444444444, \"#bd3786\"], [0.5555555555555556, \"#d8576b\"], [0.6666666666666666, \"#ed7953\"], [0.7777777777777778, \"#fb9f3a\"], [0.8888888888888888, \"#fdca26\"], [1.0, \"#f0f921\"]]}, \"colorway\": [\"#636efa\", \"#EF553B\", \"#00cc96\", \"#ab63fa\", \"#FFA15A\", \"#19d3f3\", \"#FF6692\", \"#B6E880\", \"#FF97FF\", \"#FECB52\"], \"font\": {\"color\": \"#2a3f5f\"}, \"geo\": {\"bgcolor\": \"white\", \"lakecolor\": \"white\", \"landcolor\": \"#E5ECF6\", \"showlakes\": true, \"showland\": true, \"subunitcolor\": \"white\"}, \"hoverlabel\": {\"align\": \"left\"}, \"hovermode\": \"closest\", \"mapbox\": {\"style\": \"light\"}, \"paper_bgcolor\": \"white\", \"plot_bgcolor\": \"#E5ECF6\", \"polar\": {\"angularaxis\": {\"gridcolor\": \"white\", \"linecolor\": \"white\", \"ticks\": \"\"}, \"bgcolor\": \"#E5ECF6\", \"radialaxis\": {\"gridcolor\": \"white\", \"linecolor\": \"white\", \"ticks\": \"\"}}, \"scene\": {\"xaxis\": {\"backgroundcolor\": \"#E5ECF6\", \"gridcolor\": \"white\", \"gridwidth\": 2, \"linecolor\": \"white\", \"showbackground\": true, \"ticks\": \"\", \"zerolinecolor\": \"white\"}, \"yaxis\": {\"backgroundcolor\": \"#E5ECF6\", \"gridcolor\": \"white\", \"gridwidth\": 2, \"linecolor\": \"white\", \"showbackground\": true, \"ticks\": \"\", \"zerolinecolor\": \"white\"}, \"zaxis\": {\"backgroundcolor\": \"#E5ECF6\", \"gridcolor\": \"white\", \"gridwidth\": 2, \"linecolor\": \"white\", \"showbackground\": true, \"ticks\": \"\", \"zerolinecolor\": \"white\"}}, \"shapedefaults\": {\"line\": {\"color\": \"#2a3f5f\"}}, \"ternary\": {\"aaxis\": {\"gridcolor\": \"white\", \"linecolor\": \"white\", \"ticks\": \"\"}, \"baxis\": {\"gridcolor\": \"white\", \"linecolor\": \"white\", \"ticks\": \"\"}, \"bgcolor\": \"#E5ECF6\", \"caxis\": {\"gridcolor\": \"white\", \"linecolor\": \"white\", \"ticks\": \"\"}}, \"title\": {\"x\": 0.05}, \"xaxis\": {\"automargin\": true, \"gridcolor\": \"white\", \"linecolor\": \"white\", \"ticks\": \"\", \"title\": {\"standoff\": 15}, \"zerolinecolor\": \"white\", \"zerolinewidth\": 2}, \"yaxis\": {\"automargin\": true, \"gridcolor\": \"white\", \"linecolor\": \"white\", \"ticks\": \"\", \"title\": {\"standoff\": 15}, \"zerolinecolor\": \"white\", \"zerolinewidth\": 2}}}, \"width\": 600},\n",
              "                        {\"responsive\": true}\n",
              "                    ).then(function(){\n",
              "                            \n",
              "var gd = document.getElementById('863005c7-703f-4a28-8ef2-945e17fc6592');\n",
              "var x = new MutationObserver(function (mutations, observer) {{\n",
              "        var display = window.getComputedStyle(gd).display;\n",
              "        if (!display || display === 'none') {{\n",
              "            console.log([gd, 'removed!']);\n",
              "            Plotly.purge(gd);\n",
              "            observer.disconnect();\n",
              "        }}\n",
              "}});\n",
              "\n",
              "// Listen for the removal of the full notebook cells\n",
              "var notebookContainer = gd.closest('#notebook-container');\n",
              "if (notebookContainer) {{\n",
              "    x.observe(notebookContainer, {childList: true});\n",
              "}}\n",
              "\n",
              "// Listen for the clearing of the current output cell\n",
              "var outputEl = gd.closest('.output');\n",
              "if (outputEl) {{\n",
              "    x.observe(outputEl, {childList: true});\n",
              "}}\n",
              "\n",
              "                        })\n",
              "                };\n",
              "                \n",
              "            </script>\n",
              "        </div>\n",
              "</body>\n",
              "</html>"
            ]
          },
          "metadata": {}
        }
      ]
    },
    {
      "cell_type": "markdown",
      "metadata": {
        "id": "C8OARyQTeDeI"
      },
      "source": [
        "The following is a screenshot from my WandB page after running the first time (blue line), then after adding neurons to the layer (red line), then after adding more layers (purple line).  \n",
        "The one with more layers is the \"deep\" (although still pretty shallow!) neural network.\n",
        "\n",
        "(Or [click here](https://wandb.ai/drscotthawley/4_nnsfitcurves/reports/Shared-panel-21-09-08-17-09-34--VmlldzoxMDA1Mjg2?accessToken=q00z2six7jzgseaf5rdowa1cc9j549qvg2mei105geih3wf7wvy7lxc0fzpym5k5) for the interactive version of this graph.)\n",
        "![vald_loss vs. epoch](https://raw.githubusercontent.com/drscotthawley/DLAIE/main/images/4_nnsfit_valid_vs_epoch.png)"
      ]
    },
    {
      "cell_type": "markdown",
      "metadata": {
        "id": "V31fhJCpbq0n"
      },
      "source": [
        "## Exercise 4: Add noise to the data\n",
        "\n",
        "Let's add a bit of noise to the data by regenerating the dataframe (from WAYY up at the top of this)"
      ]
    },
    {
      "cell_type": "code",
      "metadata": {
        "colab": {
          "base_uri": "https://localhost:8080/",
          "height": 417
        },
        "id": "QnbSlrpCbtQf",
        "outputId": "65f0dba5-7b3c-48f1-b4df-f8c203fff928"
      },
      "source": [
        "df = gen_df(noise_amp = 0.15)\n",
        "plot_df(df)  # take a look"
      ],
      "execution_count": null,
      "outputs": [
        {
          "output_type": "display_data",
          "data": {
            "text/html": [
              "<html>\n",
              "<head><meta charset=\"utf-8\" /></head>\n",
              "<body>\n",
              "    <div>\n",
              "            <script src=\"https://cdnjs.cloudflare.com/ajax/libs/mathjax/2.7.5/MathJax.js?config=TeX-AMS-MML_SVG\"></script><script type=\"text/javascript\">if (window.MathJax) {MathJax.Hub.Config({SVG: {font: \"STIX-Web\"}});}</script>\n",
              "                <script type=\"text/javascript\">window.PlotlyConfig = {MathJaxConfig: 'local'};</script>\n",
              "        <script src=\"https://cdn.plot.ly/plotly-latest.min.js\"></script>    \n",
              "            <div id=\"99111b7b-c51c-44e3-a419-d5290fd56343\" class=\"plotly-graph-div\" style=\"height:400px; width:600px;\"></div>\n",
              "            <script type=\"text/javascript\">\n",
              "                \n",
              "                    window.PLOTLYENV=window.PLOTLYENV || {};\n",
              "                    \n",
              "                if (document.getElementById(\"99111b7b-c51c-44e3-a419-d5290fd56343\")) {\n",
              "                    Plotly.newPlot(\n",
              "                        '99111b7b-c51c-44e3-a419-d5290fd56343',\n",
              "                        [{\"hoverlabel\": {\"namelength\": 0}, \"hovertemplate\": \"calories=%{x}<br>exercise=%{y}<br>death_prob=%{marker.color}\", \"legendgroup\": \"\", \"marker\": {\"color\": [0.95, 0.8720462565752648, 0.35928067129941066, 0.7980062332243321, 0.8118368489595902, 0.8082873638565384, 0.8080805355355485, 0.36517321950908166, 0.347956222141898, 0.3855260378345633, 0.34526276445358633, 0.5099090864705923, 0.8892338387834278, 0.95, 0.7274318822091219, 0.6019965987665942, 0.5093936012814493, 0.2782564905841688, 0.06073649857718168, 0.5825800431173058, 0.6552802157759577, 0.6623398450943713, 0.4583050383257405, 0.49418048274068044, 0.34099913290059114, 0.25118590272934577, 0.3286745009408588, 0.179333835980951, 0.28427196693735884, 0.37893301398772744, 0.39776089776727885, 0.47883757328588133, 0.39041822880094035, 0.16184997844572313, 0.16430729660014123, 0.5581363096024472, 0.3578812989961366, 0.1812353700396853, 0.2786466153877529, 0.2196506019534506, 0.43234499043346974, 0.4968460989568991, 0.42298732637597425, 0.39952420041863135, 0.2193651839362828, 0.2239369939121987, 0.2378423216765976, 0.1500902450593293, 0.17511933677399938, 0.12787699788487722, 0.5062875352290548, 0.4232230696724889, 0.11840069909736128, 0.17480415564637347, 0.2548416116197145, 0.22102135094596026, 0.34843392350216207, 0.5175452938576508, 0.30808623064810126, 0.5131705539959752, 0.2765364757098668, 0.10651383725502707, 0.083841370869671, 0.22137551663023897, 0.20231810874622178, 0.15925939965677782, 0.2107060565480138, 0.17999370799846806, 0.23716892558721975, 0.31135107640353843, 0.3492083483508464, 0.2641120958798888, 0.2626769417818733, 0.1955466167691473, 0.22785834639715438, 0.1296994533396474, 0.1791834218554329, 0.05, 0.2641417954275384, 0.3456387638834565, 0.41706863021394414, 0.11420685084130627, 0.21296411495779488, 0.05, 0.05, 0.29118761152357586, 0.3694502187160912, 0.43861140723453185, 0.2704250146854787, 0.3577002827069995, 0.10553598011034117, 0.05, 0.44475059082796936, 0.22881170948741714, 0.05, 0.17620935889633016, 0.4061158233838686, 0.5137445170625596, 0.6785163434553756, 0.4719886236665001, 0.49907365520080826, 0.36761181473574484, 0.21534246729712442, 0.6806826713899019, 0.33829755883697454, 0.33413029846610265, 0.4788378783411458, 0.4650938569600644, 0.5880277428069136, 0.7508575838437038, 0.5863595130547744, 0.05, 0.6747801732233668, 0.6440021759923661, 0.348211026031595, 0.21002618932659067, 0.06877070842162931, 0.11425457957051964, 0.6119664321884464, 0.747545107259192, 0.6162143074445852, 0.29626976203071703, 0.3765956299733812, 0.3281809862510099, 0.5703896635639927, 0.7482027891355857, 0.646096925355088, 0.3866367763161962, 0.349364712391665, 0.2623172577818346, 0.6806334215700153, 0.7244456861765938, 0.14198503081478575, 0.6450047106404867, 0.4772147099066225, 0.7246431060223903, 0.5063311822024985, 0.7126196907282445, 0.585613596447023, 0.45599803069751155, 0.40713623163634055, 0.35443607286185386, 0.36784531808144577, 0.24028172642451734, 0.073688700924699, 0.49779950751027097, 0.8564925206413218, 0.533566573543677, 0.46348796622898225, 0.17080130233943452, 0.17399312825795196, 0.41745348207003335, 0.6356829346840449, 0.6241922259748831, 0.7798943026199815, 0.7770405812674701, 0.6527205619340147, 0.3959607522654283, 0.3393430768599496, 0.35071184498004915, 0.95, 0.751655036673205, 0.8699011102128212, 0.6727003105333448, 0.704057312432872, 0.673282562962316, 0.7572159739061448, 0.725690333824822, 0.9450881906586508, 0.6945649371879619, 0.7701361622024009, 0.5737500698983271, 0.5090848854592361, 0.5834949202061911, 0.6140682482756636, 0.348049441093455, 0.28886628384063406, 0.95, 0.5092520314354341, 0.37480920362769443, 0.25458527554225374, 0.34931922868077536, 0.8273283490914799, 0.8331341459884596, 0.95, 0.9072775927007951, 0.4588212958846005, 0.95, 0.95, 0.95, 0.95, 0.95, 0.7377958471345725, 0.6867475517381973, 0.39674441840468727, 0.3371939199569096, 0.95, 0.41312516033759156, 0.2814088306518132, 0.95, 0.5439606359885076, 0.4421033686798707, 0.17954241517892155, 0.7236721704946737, 0.7221334647497982, 0.877736101832491, 0.8603175149036513, 0.95, 0.817104030037201, 0.8381054036336051, 0.9025054337631265, 0.541005389134001, 0.4586579214582239, 0.3847811328496019, 0.2950697476082259, 0.6766791555064772, 0.95, 0.95, 0.95, 0.95, 0.860828530577234, 0.9174753699048338, 0.7086256706143266, 0.186028164157004, 0.5031936452817934, 0.6697998704598567, 0.9167451643806634, 0.9449931394954447, 0.5649411618586535, 0.3815054650199869, 0.4906095794418956, 0.95, 0.95, 0.9410291127726503, 0.3198743538393071, 0.3234341316093737, 0.3212164623248423, 0.6053499177445912, 0.8165861938850681, 0.95], \"coloraxis\": \"coloraxis\", \"size\": 5, \"symbol\": \"circle\"}, \"mode\": \"markers\", \"name\": \"\", \"scene\": \"scene\", \"showlegend\": false, \"type\": \"scatter3d\", \"x\": [0.05, 0.05, 0.05, 0.05, 0.05, 0.05, 0.05, 0.05, 0.05, 0.05, 0.05, 0.05, 0.05, 0.05, 0.05128205128205128, 0.05128205128205128, 0.05128205128205128, 0.05128205128205128, 0.05128205128205128, 0.05128205128205128, 0.07692307692307693, 0.07692307692307693, 0.07692307692307693, 0.07692307692307693, 0.10256410256410256, 0.10256410256410256, 0.10256410256410256, 0.10256410256410256, 0.10256410256410256, 0.10256410256410256, 0.10256410256410256, 0.1282051282051282, 0.1282051282051282, 0.1282051282051282, 0.1282051282051282, 0.1282051282051282, 0.15384615384615385, 0.15384615384615385, 0.15384615384615385, 0.15384615384615385, 0.1794871794871795, 0.1794871794871795, 0.1794871794871795, 0.1794871794871795, 0.1794871794871795, 0.20512820512820512, 0.20512820512820512, 0.20512820512820512, 0.20512820512820512, 0.20512820512820512, 0.20512820512820512, 0.23076923076923075, 0.23076923076923075, 0.23076923076923075, 0.23076923076923075, 0.23076923076923075, 0.2564102564102564, 0.2564102564102564, 0.2564102564102564, 0.2564102564102564, 0.2564102564102564, 0.2564102564102564, 0.2564102564102564, 0.2564102564102564, 0.28205128205128205, 0.28205128205128205, 0.28205128205128205, 0.3076923076923077, 0.3076923076923077, 0.3076923076923077, 0.3333333333333333, 0.3333333333333333, 0.3333333333333333, 0.3333333333333333, 0.3333333333333333, 0.3333333333333333, 0.3333333333333333, 0.3333333333333333, 0.3333333333333333, 0.3333333333333333, 0.3333333333333333, 0.358974358974359, 0.358974358974359, 0.358974358974359, 0.358974358974359, 0.358974358974359, 0.358974358974359, 0.3846153846153846, 0.3846153846153846, 0.3846153846153846, 0.3846153846153846, 0.3846153846153846, 0.41025641025641024, 0.41025641025641024, 0.41025641025641024, 0.41025641025641024, 0.41025641025641024, 0.4358974358974359, 0.4358974358974359, 0.4358974358974359, 0.4358974358974359, 0.4358974358974359, 0.4358974358974359, 0.4615384615384615, 0.4615384615384615, 0.4615384615384615, 0.4615384615384615, 0.4615384615384615, 0.48717948717948717, 0.48717948717948717, 0.48717948717948717, 0.48717948717948717, 0.5128205128205128, 0.5128205128205128, 0.5128205128205128, 0.5128205128205128, 0.5128205128205128, 0.5128205128205128, 0.5128205128205128, 0.5384615384615384, 0.5384615384615384, 0.5384615384615384, 0.5384615384615384, 0.5384615384615384, 0.5384615384615384, 0.5384615384615384, 0.5641025641025641, 0.5641025641025641, 0.5641025641025641, 0.5641025641025641, 0.5897435897435898, 0.5897435897435898, 0.5897435897435898, 0.6153846153846154, 0.6153846153846154, 0.6153846153846154, 0.6153846153846154, 0.6153846153846154, 0.6153846153846154, 0.6153846153846154, 0.6153846153846154, 0.6153846153846154, 0.6153846153846154, 0.6153846153846154, 0.6153846153846154, 0.6153846153846154, 0.641025641025641, 0.641025641025641, 0.641025641025641, 0.641025641025641, 0.641025641025641, 0.641025641025641, 0.641025641025641, 0.641025641025641, 0.641025641025641, 0.6666666666666666, 0.6666666666666666, 0.6666666666666666, 0.6666666666666666, 0.6666666666666666, 0.6923076923076923, 0.6923076923076923, 0.6923076923076923, 0.6923076923076923, 0.6923076923076923, 0.6923076923076923, 0.6923076923076923, 0.717948717948718, 0.717948717948718, 0.717948717948718, 0.717948717948718, 0.717948717948718, 0.717948717948718, 0.717948717948718, 0.7435897435897436, 0.7435897435897436, 0.7435897435897436, 0.7692307692307692, 0.7692307692307692, 0.7692307692307692, 0.7692307692307692, 0.7692307692307692, 0.7692307692307692, 0.7948717948717948, 0.7948717948717948, 0.7948717948717948, 0.7948717948717948, 0.7948717948717948, 0.7948717948717948, 0.7948717948717948, 0.8205128205128205, 0.8205128205128205, 0.8205128205128205, 0.8205128205128205, 0.8205128205128205, 0.8205128205128205, 0.8205128205128205, 0.8461538461538461, 0.8461538461538461, 0.8717948717948718, 0.8717948717948718, 0.8717948717948718, 0.8717948717948718, 0.8717948717948718, 0.8717948717948718, 0.8717948717948718, 0.8974358974358974, 0.8974358974358974, 0.8974358974358974, 0.923076923076923, 0.923076923076923, 0.923076923076923, 0.923076923076923, 0.923076923076923, 0.923076923076923, 0.923076923076923, 0.923076923076923, 0.923076923076923, 0.9487179487179487, 0.9487179487179487, 0.9487179487179487, 0.9487179487179487, 0.9487179487179487, 0.9487179487179487, 0.9487179487179487, 0.9487179487179487, 0.9487179487179487, 0.95, 0.95, 0.95, 0.95, 0.95, 0.95, 0.95, 0.95, 0.95, 0.95, 0.95, 0.95, 0.95], \"y\": [0.05128205128205128, 0.20512820512820512, 0.5641025641025641, 0.8717948717948718, 0.9487179487179487, 0.05, 0.28205128205128205, 0.4358974358974359, 0.5641025641025641, 0.5897435897435898, 0.7692307692307692, 0.8461538461538461, 0.923076923076923, 0.95, 0.20512820512820512, 0.23076923076923075, 0.3333333333333333, 0.6153846153846154, 0.6666666666666666, 0.95, 0.05, 0.05128205128205128, 0.23076923076923075, 0.9487179487179487, 0.28205128205128205, 0.4358974358974359, 0.48717948717948717, 0.6666666666666666, 0.8205128205128205, 0.8974358974358974, 0.923076923076923, 0.3076923076923077, 0.4615384615384615, 0.48717948717948717, 0.7435897435897436, 0.923076923076923, 0.1794871794871795, 0.3846153846153846, 0.5128205128205128, 0.5384615384615384, 0.1282051282051282, 0.15384615384615385, 0.358974358974359, 0.3846153846153846, 0.41025641025641024, 0.4615384615384615, 0.48717948717948717, 0.5897435897435898, 0.717948717948718, 0.7435897435897436, 0.8974358974358974, 0.05, 0.3076923076923077, 0.48717948717948717, 0.5384615384615384, 0.8974358974358974, 0.05, 0.05128205128205128, 0.10256410256410256, 0.20512820512820512, 0.4615384615384615, 0.5384615384615384, 0.6666666666666666, 0.717948717948718, 0.41025641025641024, 0.48717948717948717, 0.641025641025641, 0.2564102564102564, 0.923076923076923, 0.9487179487179487, 0.05, 0.28205128205128205, 0.3846153846153846, 0.41025641025641024, 0.4615384615384615, 0.5641025641025641, 0.6153846153846154, 0.717948717948718, 0.7692307692307692, 0.7948717948717948, 0.95, 0.3333333333333333, 0.4358974358974359, 0.7435897435897436, 0.7692307692307692, 0.8717948717948718, 0.8974358974358974, 0.05, 0.10256410256410256, 0.15384615384615385, 0.5128205128205128, 0.5897435897435898, 0.20512820512820512, 0.3333333333333333, 0.7692307692307692, 0.8974358974358974, 0.95, 0.10256410256410256, 0.1794871794871795, 0.23076923076923075, 0.2564102564102564, 0.3333333333333333, 0.6923076923076923, 0.10256410256410256, 0.3846153846153846, 0.4358974358974359, 0.923076923076923, 0.9487179487179487, 0.07692307692307693, 0.15384615384615385, 0.28205128205128205, 0.5897435897435898, 0.28205128205128205, 0.358974358974359, 0.41025641025641024, 0.6153846153846154, 0.6666666666666666, 0.6923076923076923, 0.9487179487179487, 0.05, 0.05, 0.48717948717948717, 0.5128205128205128, 0.8461538461538461, 0.923076923076923, 0.95, 0.10256410256410256, 0.3333333333333333, 0.41025641025641024, 0.717948717948718, 0.1282051282051282, 0.15384615384615385, 0.717948717948718, 0.05, 0.10256410256410256, 0.1282051282051282, 0.20512820512820512, 0.23076923076923075, 0.2564102564102564, 0.3076923076923077, 0.3846153846153846, 0.4615384615384615, 0.48717948717948717, 0.5641025641025641, 0.6923076923076923, 0.95, 0.1794871794871795, 0.28205128205128205, 0.3846153846153846, 0.7435897435897436, 0.7692307692307692, 0.8461538461538461, 0.8717948717948718, 0.923076923076923, 0.95, 0.20512820512820512, 0.3076923076923077, 0.358974358974359, 0.48717948717948717, 0.8205128205128205, 0.05, 0.20512820512820512, 0.23076923076923075, 0.2564102564102564, 0.28205128205128205, 0.3333333333333333, 0.923076923076923, 0.05, 0.07692307692307693, 0.28205128205128205, 0.358974358974359, 0.4615384615384615, 0.8461538461538461, 0.8717948717948718, 0.2564102564102564, 0.6153846153846154, 0.7948717948717948, 0.05128205128205128, 0.48717948717948717, 0.5384615384615384, 0.5897435897435898, 0.6153846153846154, 0.95, 0.07692307692307693, 0.28205128205128205, 0.3076923076923077, 0.4358974358974359, 0.923076923076923, 0.95, 0.95, 0.10256410256410256, 0.1282051282051282, 0.1794871794871795, 0.3333333333333333, 0.4615384615384615, 0.5384615384615384, 0.95, 0.5641025641025641, 0.6666666666666666, 0.10256410256410256, 0.358974358974359, 0.48717948717948717, 0.5384615384615384, 0.8974358974358974, 0.923076923076923, 0.95, 0.05, 0.15384615384615385, 0.9487179487179487, 0.05128205128205128, 0.3333333333333333, 0.41025641025641024, 0.5384615384615384, 0.6153846153846154, 0.641025641025641, 0.8461538461538461, 0.9487179487179487, 0.95, 0.07692307692307693, 0.1282051282051282, 0.15384615384615385, 0.20512820512820512, 0.41025641025641024, 0.641025641025641, 0.7692307692307692, 0.8205128205128205, 0.8974358974358974, 0.28205128205128205, 0.3846153846153846, 0.6153846153846154, 0.7692307692307692, 0.9487179487179487, 0.05, 0.05128205128205128, 0.5384615384615384, 0.5641025641025641, 0.6923076923076923, 0.7948717948717948, 0.8974358974358974, 0.95], \"z\": [0.95, 0.8720462565752648, 0.35928067129941066, 0.7980062332243321, 0.8118368489595902, 0.8082873638565384, 0.8080805355355485, 0.36517321950908166, 0.347956222141898, 0.3855260378345633, 0.34526276445358633, 0.5099090864705923, 0.8892338387834278, 0.95, 0.7274318822091219, 0.6019965987665942, 0.5093936012814493, 0.2782564905841688, 0.06073649857718168, 0.5825800431173058, 0.6552802157759577, 0.6623398450943713, 0.4583050383257405, 0.49418048274068044, 0.34099913290059114, 0.25118590272934577, 0.3286745009408588, 0.179333835980951, 0.28427196693735884, 0.37893301398772744, 0.39776089776727885, 0.47883757328588133, 0.39041822880094035, 0.16184997844572313, 0.16430729660014123, 0.5581363096024472, 0.3578812989961366, 0.1812353700396853, 0.2786466153877529, 0.2196506019534506, 0.43234499043346974, 0.4968460989568991, 0.42298732637597425, 0.39952420041863135, 0.2193651839362828, 0.2239369939121987, 0.2378423216765976, 0.1500902450593293, 0.17511933677399938, 0.12787699788487722, 0.5062875352290548, 0.4232230696724889, 0.11840069909736128, 0.17480415564637347, 0.2548416116197145, 0.22102135094596026, 0.34843392350216207, 0.5175452938576508, 0.30808623064810126, 0.5131705539959752, 0.2765364757098668, 0.10651383725502707, 0.083841370869671, 0.22137551663023897, 0.20231810874622178, 0.15925939965677782, 0.2107060565480138, 0.17999370799846806, 0.23716892558721975, 0.31135107640353843, 0.3492083483508464, 0.2641120958798888, 0.2626769417818733, 0.1955466167691473, 0.22785834639715438, 0.1296994533396474, 0.1791834218554329, 0.05, 0.2641417954275384, 0.3456387638834565, 0.41706863021394414, 0.11420685084130627, 0.21296411495779488, 0.05, 0.05, 0.29118761152357586, 0.3694502187160912, 0.43861140723453185, 0.2704250146854787, 0.3577002827069995, 0.10553598011034117, 0.05, 0.44475059082796936, 0.22881170948741714, 0.05, 0.17620935889633016, 0.4061158233838686, 0.5137445170625596, 0.6785163434553756, 0.4719886236665001, 0.49907365520080826, 0.36761181473574484, 0.21534246729712442, 0.6806826713899019, 0.33829755883697454, 0.33413029846610265, 0.4788378783411458, 0.4650938569600644, 0.5880277428069136, 0.7508575838437038, 0.5863595130547744, 0.05, 0.6747801732233668, 0.6440021759923661, 0.348211026031595, 0.21002618932659067, 0.06877070842162931, 0.11425457957051964, 0.6119664321884464, 0.747545107259192, 0.6162143074445852, 0.29626976203071703, 0.3765956299733812, 0.3281809862510099, 0.5703896635639927, 0.7482027891355857, 0.646096925355088, 0.3866367763161962, 0.349364712391665, 0.2623172577818346, 0.6806334215700153, 0.7244456861765938, 0.14198503081478575, 0.6450047106404867, 0.4772147099066225, 0.7246431060223903, 0.5063311822024985, 0.7126196907282445, 0.585613596447023, 0.45599803069751155, 0.40713623163634055, 0.35443607286185386, 0.36784531808144577, 0.24028172642451734, 0.073688700924699, 0.49779950751027097, 0.8564925206413218, 0.533566573543677, 0.46348796622898225, 0.17080130233943452, 0.17399312825795196, 0.41745348207003335, 0.6356829346840449, 0.6241922259748831, 0.7798943026199815, 0.7770405812674701, 0.6527205619340147, 0.3959607522654283, 0.3393430768599496, 0.35071184498004915, 0.95, 0.751655036673205, 0.8699011102128212, 0.6727003105333448, 0.704057312432872, 0.673282562962316, 0.7572159739061448, 0.725690333824822, 0.9450881906586508, 0.6945649371879619, 0.7701361622024009, 0.5737500698983271, 0.5090848854592361, 0.5834949202061911, 0.6140682482756636, 0.348049441093455, 0.28886628384063406, 0.95, 0.5092520314354341, 0.37480920362769443, 0.25458527554225374, 0.34931922868077536, 0.8273283490914799, 0.8331341459884596, 0.95, 0.9072775927007951, 0.4588212958846005, 0.95, 0.95, 0.95, 0.95, 0.95, 0.7377958471345725, 0.6867475517381973, 0.39674441840468727, 0.3371939199569096, 0.95, 0.41312516033759156, 0.2814088306518132, 0.95, 0.5439606359885076, 0.4421033686798707, 0.17954241517892155, 0.7236721704946737, 0.7221334647497982, 0.877736101832491, 0.8603175149036513, 0.95, 0.817104030037201, 0.8381054036336051, 0.9025054337631265, 0.541005389134001, 0.4586579214582239, 0.3847811328496019, 0.2950697476082259, 0.6766791555064772, 0.95, 0.95, 0.95, 0.95, 0.860828530577234, 0.9174753699048338, 0.7086256706143266, 0.186028164157004, 0.5031936452817934, 0.6697998704598567, 0.9167451643806634, 0.9449931394954447, 0.5649411618586535, 0.3815054650199869, 0.4906095794418956, 0.95, 0.95, 0.9410291127726503, 0.3198743538393071, 0.3234341316093737, 0.3212164623248423, 0.6053499177445912, 0.8165861938850681, 0.95]}],\n",
              "                        {\"coloraxis\": {\"colorbar\": {\"title\": {\"text\": \"death_prob\"}}, \"colorscale\": [[0.0, \"#0d0887\"], [0.1111111111111111, \"#46039f\"], [0.2222222222222222, \"#7201a8\"], [0.3333333333333333, \"#9c179e\"], [0.4444444444444444, \"#bd3786\"], [0.5555555555555556, \"#d8576b\"], [0.6666666666666666, \"#ed7953\"], [0.7777777777777778, \"#fb9f3a\"], [0.8888888888888888, \"#fdca26\"], [1.0, \"#f0f921\"]]}, \"height\": 400, \"legend\": {\"tracegroupgap\": 0}, \"margin\": {\"b\": 20, \"l\": 20, \"r\": 20, \"t\": 20}, \"scene\": {\"domain\": {\"x\": [0.0, 1.0], \"y\": [0.0, 1.0]}, \"xaxis\": {\"title\": {\"text\": \"calories\"}}, \"yaxis\": {\"title\": {\"text\": \"exercise\"}}, \"zaxis\": {\"title\": {\"text\": \"death_prob\"}}}, \"template\": {\"data\": {\"bar\": [{\"error_x\": {\"color\": \"#2a3f5f\"}, \"error_y\": {\"color\": \"#2a3f5f\"}, \"marker\": {\"line\": {\"color\": \"#E5ECF6\", \"width\": 0.5}}, \"type\": \"bar\"}], \"barpolar\": [{\"marker\": {\"line\": {\"color\": \"#E5ECF6\", \"width\": 0.5}}, \"type\": \"barpolar\"}], \"carpet\": [{\"aaxis\": {\"endlinecolor\": \"#2a3f5f\", \"gridcolor\": \"white\", \"linecolor\": \"white\", \"minorgridcolor\": \"white\", \"startlinecolor\": \"#2a3f5f\"}, \"baxis\": {\"endlinecolor\": \"#2a3f5f\", \"gridcolor\": \"white\", \"linecolor\": \"white\", \"minorgridcolor\": \"white\", \"startlinecolor\": \"#2a3f5f\"}, \"type\": \"carpet\"}], \"choropleth\": [{\"colorbar\": {\"outlinewidth\": 0, \"ticks\": \"\"}, \"type\": \"choropleth\"}], \"contour\": [{\"colorbar\": {\"outlinewidth\": 0, \"ticks\": \"\"}, \"colorscale\": [[0.0, \"#0d0887\"], [0.1111111111111111, \"#46039f\"], [0.2222222222222222, \"#7201a8\"], [0.3333333333333333, \"#9c179e\"], [0.4444444444444444, \"#bd3786\"], [0.5555555555555556, \"#d8576b\"], [0.6666666666666666, \"#ed7953\"], [0.7777777777777778, \"#fb9f3a\"], [0.8888888888888888, \"#fdca26\"], [1.0, \"#f0f921\"]], \"type\": \"contour\"}], \"contourcarpet\": [{\"colorbar\": {\"outlinewidth\": 0, \"ticks\": \"\"}, \"type\": \"contourcarpet\"}], \"heatmap\": [{\"colorbar\": {\"outlinewidth\": 0, \"ticks\": \"\"}, \"colorscale\": [[0.0, \"#0d0887\"], [0.1111111111111111, \"#46039f\"], [0.2222222222222222, \"#7201a8\"], [0.3333333333333333, \"#9c179e\"], [0.4444444444444444, \"#bd3786\"], [0.5555555555555556, \"#d8576b\"], [0.6666666666666666, \"#ed7953\"], [0.7777777777777778, \"#fb9f3a\"], [0.8888888888888888, \"#fdca26\"], [1.0, \"#f0f921\"]], \"type\": \"heatmap\"}], \"heatmapgl\": [{\"colorbar\": {\"outlinewidth\": 0, \"ticks\": \"\"}, \"colorscale\": [[0.0, \"#0d0887\"], [0.1111111111111111, \"#46039f\"], [0.2222222222222222, \"#7201a8\"], [0.3333333333333333, \"#9c179e\"], [0.4444444444444444, \"#bd3786\"], [0.5555555555555556, \"#d8576b\"], [0.6666666666666666, \"#ed7953\"], [0.7777777777777778, \"#fb9f3a\"], [0.8888888888888888, \"#fdca26\"], [1.0, \"#f0f921\"]], \"type\": \"heatmapgl\"}], \"histogram\": [{\"marker\": {\"colorbar\": {\"outlinewidth\": 0, \"ticks\": \"\"}}, \"type\": \"histogram\"}], \"histogram2d\": [{\"colorbar\": {\"outlinewidth\": 0, \"ticks\": \"\"}, \"colorscale\": [[0.0, \"#0d0887\"], [0.1111111111111111, \"#46039f\"], [0.2222222222222222, \"#7201a8\"], [0.3333333333333333, \"#9c179e\"], [0.4444444444444444, \"#bd3786\"], [0.5555555555555556, \"#d8576b\"], [0.6666666666666666, \"#ed7953\"], [0.7777777777777778, \"#fb9f3a\"], [0.8888888888888888, \"#fdca26\"], [1.0, \"#f0f921\"]], \"type\": \"histogram2d\"}], \"histogram2dcontour\": [{\"colorbar\": {\"outlinewidth\": 0, \"ticks\": \"\"}, \"colorscale\": [[0.0, \"#0d0887\"], [0.1111111111111111, \"#46039f\"], [0.2222222222222222, \"#7201a8\"], [0.3333333333333333, \"#9c179e\"], [0.4444444444444444, \"#bd3786\"], [0.5555555555555556, \"#d8576b\"], [0.6666666666666666, \"#ed7953\"], [0.7777777777777778, \"#fb9f3a\"], [0.8888888888888888, \"#fdca26\"], [1.0, \"#f0f921\"]], \"type\": \"histogram2dcontour\"}], \"mesh3d\": [{\"colorbar\": {\"outlinewidth\": 0, \"ticks\": \"\"}, \"type\": \"mesh3d\"}], \"parcoords\": [{\"line\": {\"colorbar\": {\"outlinewidth\": 0, \"ticks\": \"\"}}, \"type\": \"parcoords\"}], \"pie\": [{\"automargin\": true, \"type\": \"pie\"}], \"scatter\": [{\"marker\": {\"colorbar\": {\"outlinewidth\": 0, \"ticks\": \"\"}}, \"type\": \"scatter\"}], \"scatter3d\": [{\"line\": {\"colorbar\": {\"outlinewidth\": 0, \"ticks\": \"\"}}, \"marker\": {\"colorbar\": {\"outlinewidth\": 0, \"ticks\": \"\"}}, \"type\": \"scatter3d\"}], \"scattercarpet\": [{\"marker\": {\"colorbar\": {\"outlinewidth\": 0, \"ticks\": \"\"}}, \"type\": \"scattercarpet\"}], \"scattergeo\": [{\"marker\": {\"colorbar\": {\"outlinewidth\": 0, \"ticks\": \"\"}}, \"type\": \"scattergeo\"}], \"scattergl\": [{\"marker\": {\"colorbar\": {\"outlinewidth\": 0, \"ticks\": \"\"}}, \"type\": \"scattergl\"}], \"scattermapbox\": [{\"marker\": {\"colorbar\": {\"outlinewidth\": 0, \"ticks\": \"\"}}, \"type\": \"scattermapbox\"}], \"scatterpolar\": [{\"marker\": {\"colorbar\": {\"outlinewidth\": 0, \"ticks\": \"\"}}, \"type\": \"scatterpolar\"}], \"scatterpolargl\": [{\"marker\": {\"colorbar\": {\"outlinewidth\": 0, \"ticks\": \"\"}}, \"type\": \"scatterpolargl\"}], \"scatterternary\": [{\"marker\": {\"colorbar\": {\"outlinewidth\": 0, \"ticks\": \"\"}}, \"type\": \"scatterternary\"}], \"surface\": [{\"colorbar\": {\"outlinewidth\": 0, \"ticks\": \"\"}, \"colorscale\": [[0.0, \"#0d0887\"], [0.1111111111111111, \"#46039f\"], [0.2222222222222222, \"#7201a8\"], [0.3333333333333333, \"#9c179e\"], [0.4444444444444444, \"#bd3786\"], [0.5555555555555556, \"#d8576b\"], [0.6666666666666666, \"#ed7953\"], [0.7777777777777778, \"#fb9f3a\"], [0.8888888888888888, \"#fdca26\"], [1.0, \"#f0f921\"]], \"type\": \"surface\"}], \"table\": [{\"cells\": {\"fill\": {\"color\": \"#EBF0F8\"}, \"line\": {\"color\": \"white\"}}, \"header\": {\"fill\": {\"color\": \"#C8D4E3\"}, \"line\": {\"color\": \"white\"}}, \"type\": \"table\"}]}, \"layout\": {\"annotationdefaults\": {\"arrowcolor\": \"#2a3f5f\", \"arrowhead\": 0, \"arrowwidth\": 1}, \"coloraxis\": {\"colorbar\": {\"outlinewidth\": 0, \"ticks\": \"\"}}, \"colorscale\": {\"diverging\": [[0, \"#8e0152\"], [0.1, \"#c51b7d\"], [0.2, \"#de77ae\"], [0.3, \"#f1b6da\"], [0.4, \"#fde0ef\"], [0.5, \"#f7f7f7\"], [0.6, \"#e6f5d0\"], [0.7, \"#b8e186\"], [0.8, \"#7fbc41\"], [0.9, \"#4d9221\"], [1, \"#276419\"]], \"sequential\": [[0.0, \"#0d0887\"], [0.1111111111111111, \"#46039f\"], [0.2222222222222222, \"#7201a8\"], [0.3333333333333333, \"#9c179e\"], [0.4444444444444444, \"#bd3786\"], [0.5555555555555556, \"#d8576b\"], [0.6666666666666666, \"#ed7953\"], [0.7777777777777778, \"#fb9f3a\"], [0.8888888888888888, \"#fdca26\"], [1.0, \"#f0f921\"]], \"sequentialminus\": [[0.0, \"#0d0887\"], [0.1111111111111111, \"#46039f\"], [0.2222222222222222, \"#7201a8\"], [0.3333333333333333, \"#9c179e\"], [0.4444444444444444, \"#bd3786\"], [0.5555555555555556, \"#d8576b\"], [0.6666666666666666, \"#ed7953\"], [0.7777777777777778, \"#fb9f3a\"], [0.8888888888888888, \"#fdca26\"], [1.0, \"#f0f921\"]]}, \"colorway\": [\"#636efa\", \"#EF553B\", \"#00cc96\", \"#ab63fa\", \"#FFA15A\", \"#19d3f3\", \"#FF6692\", \"#B6E880\", \"#FF97FF\", \"#FECB52\"], \"font\": {\"color\": \"#2a3f5f\"}, \"geo\": {\"bgcolor\": \"white\", \"lakecolor\": \"white\", \"landcolor\": \"#E5ECF6\", \"showlakes\": true, \"showland\": true, \"subunitcolor\": \"white\"}, \"hoverlabel\": {\"align\": \"left\"}, \"hovermode\": \"closest\", \"mapbox\": {\"style\": \"light\"}, \"paper_bgcolor\": \"white\", \"plot_bgcolor\": \"#E5ECF6\", \"polar\": {\"angularaxis\": {\"gridcolor\": \"white\", \"linecolor\": \"white\", \"ticks\": \"\"}, \"bgcolor\": \"#E5ECF6\", \"radialaxis\": {\"gridcolor\": \"white\", \"linecolor\": \"white\", \"ticks\": \"\"}}, \"scene\": {\"xaxis\": {\"backgroundcolor\": \"#E5ECF6\", \"gridcolor\": \"white\", \"gridwidth\": 2, \"linecolor\": \"white\", \"showbackground\": true, \"ticks\": \"\", \"zerolinecolor\": \"white\"}, \"yaxis\": {\"backgroundcolor\": \"#E5ECF6\", \"gridcolor\": \"white\", \"gridwidth\": 2, \"linecolor\": \"white\", \"showbackground\": true, \"ticks\": \"\", \"zerolinecolor\": \"white\"}, \"zaxis\": {\"backgroundcolor\": \"#E5ECF6\", \"gridcolor\": \"white\", \"gridwidth\": 2, \"linecolor\": \"white\", \"showbackground\": true, \"ticks\": \"\", \"zerolinecolor\": \"white\"}}, \"shapedefaults\": {\"line\": {\"color\": \"#2a3f5f\"}}, \"ternary\": {\"aaxis\": {\"gridcolor\": \"white\", \"linecolor\": \"white\", \"ticks\": \"\"}, \"baxis\": {\"gridcolor\": \"white\", \"linecolor\": \"white\", \"ticks\": \"\"}, \"bgcolor\": \"#E5ECF6\", \"caxis\": {\"gridcolor\": \"white\", \"linecolor\": \"white\", \"ticks\": \"\"}}, \"title\": {\"x\": 0.05}, \"xaxis\": {\"automargin\": true, \"gridcolor\": \"white\", \"linecolor\": \"white\", \"ticks\": \"\", \"title\": {\"standoff\": 15}, \"zerolinecolor\": \"white\", \"zerolinewidth\": 2}, \"yaxis\": {\"automargin\": true, \"gridcolor\": \"white\", \"linecolor\": \"white\", \"ticks\": \"\", \"title\": {\"standoff\": 15}, \"zerolinecolor\": \"white\", \"zerolinewidth\": 2}}}, \"width\": 600},\n",
              "                        {\"responsive\": true}\n",
              "                    ).then(function(){\n",
              "                            \n",
              "var gd = document.getElementById('99111b7b-c51c-44e3-a419-d5290fd56343');\n",
              "var x = new MutationObserver(function (mutations, observer) {{\n",
              "        var display = window.getComputedStyle(gd).display;\n",
              "        if (!display || display === 'none') {{\n",
              "            console.log([gd, 'removed!']);\n",
              "            Plotly.purge(gd);\n",
              "            observer.disconnect();\n",
              "        }}\n",
              "}});\n",
              "\n",
              "// Listen for the removal of the full notebook cells\n",
              "var notebookContainer = gd.closest('#notebook-container');\n",
              "if (notebookContainer) {{\n",
              "    x.observe(notebookContainer, {childList: true});\n",
              "}}\n",
              "\n",
              "// Listen for the clearing of the current output cell\n",
              "var outputEl = gd.closest('.output');\n",
              "if (outputEl) {{\n",
              "    x.observe(outputEl, {childList: true});\n",
              "}}\n",
              "\n",
              "                        })\n",
              "                };\n",
              "                \n",
              "            </script>\n",
              "        </div>\n",
              "</body>\n",
              "</html>"
            ]
          },
          "metadata": {}
        }
      ]
    },
    {
      "cell_type": "markdown",
      "metadata": {
        "id": "hh2xGCEddlKK"
      },
      "source": [
        "Now go back up and re-assign your dataloaders (i.e., run `dls = df_to_dls(df)`, see \"Define Datasets & DataLoaders\" above), and retrain the model.  What do you notice?\n",
        "\n",
        "**Spend a lot of time on this.** In particular, you should notice that it's possible to get the Training loss to go as low as you want, but that the Validation loss will \"plateau\" at a certain value and then eventually start increasing!  This is what's known as *overfitting*.  If you plot your surface, you may see that it has lots of extra \"wiggles\" as it tries to fit every data point (in the Training set).  As a challenge, try to get your surface as wiggly as possible! (Note: this is \"bad\"; you don't want overfitting in real life.)"
      ]
    },
    {
      "cell_type": "markdown",
      "metadata": {
        "id": "Tn0R6w5Jlmw9"
      },
      "source": [
        "## Exercise 5: Mess Around with (/Explore) Karpathy's Demo\n",
        "\n",
        "We've been working with 2 input \"features\" of input and one output.  As a way of seeing the effects your neural network modifications a little faster, let's switch to 1 feature and one output using [Andrej Karpathy's \"toy 1d regression\" Demo](https://cs.stanford.edu/people/karpathy/convnetjs/demo/regression.html).  \n",
        "\n",
        "By clicking in the diplay, you can add data points that the model will try to fit to.  You can also edit the (number and size of) layers and the activations between them.\n",
        "Explore different layer layouts, try different activations (such as 'relu', 'sigmoid', 'tanh')."
      ]
    },
    {
      "cell_type": "markdown",
      "metadata": {
        "id": "s2bR94YvpFI5"
      },
      "source": [
        "## Assignment!\n",
        "\n",
        "This will be a separate notebook.  It will involve defining a PyTorch model Class called \"NewModel\" (i.e., instead of \"Net\" like we did above), with certain attributes.\n"
      ]
    },
    {
      "cell_type": "code",
      "metadata": {
        "id": "CnjyFQMAdv8O"
      },
      "source": [],
      "execution_count": null,
      "outputs": []
    }
  ]
}
